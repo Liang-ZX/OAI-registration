{
 "cells": [
  {
   "cell_type": "code",
   "execution_count": 1,
   "metadata": {},
   "outputs": [
    {
     "data": {
      "text/plain": [
       "'win32'"
      ]
     },
     "execution_count": 1,
     "metadata": {},
     "output_type": "execute_result"
    }
   ],
   "source": [
    "import pydicom\n",
    "import os,re\n",
    "import numpy as np\n",
    "import shutil\n",
    "import matplotlib.pyplot as plt\n",
    "%matplotlib inline\n",
    "import cv2\n",
    "from pydicom.dataset import Dataset, FileDataset\n",
    "import tempfile\n",
    "import SimpleITK as sitk\n",
    "import math\n",
    "from ipywidgets import interact, fixed\n",
    "from skimage.transform import resize\n",
    "from IPython.display import clear_output\n",
    "from scipy.ndimage import zoom\n",
    "import scipy.misc\n",
    "from sys import platform\n",
    "import shutil\n",
    "\n",
    "from MyProcessDicom import *\n",
    "from RegistrationMethod import *\n",
    "from ServerDicomIO import *\n",
    "from icafeAPI import generate_centerline\n",
    "platform"
   ]
  },
  {
   "cell_type": "code",
   "execution_count": 33,
   "metadata": {
    "scrolled": true
   },
   "outputs": [],
   "source": [
    "import importlib\n",
    "import sys\n",
    "sys.path.append(r'..\\FRAPPE')\n",
    "import DB\n",
    "importlib.reload(DB)\n",
    "from DB import DB\n",
    "\n",
    "# process list\n",
    "# first in TP as reference\n",
    "caselist = [\n",
    "    {'pid': '9404954','TP':[0,1,2,3,4,5,6,8,10],'side':'R'}\n",
    "]\n",
    "\n",
    "# getdcmpath('9911265',0,'L'),getdcmpath('9911265',1,'R'),getdcmpath('9911265',8,'R')"
   ]
  },
  {
   "cell_type": "code",
   "execution_count": 39,
   "metadata": {},
   "outputs": [
    {
     "name": "stdout",
     "output_type": "stream",
     "text": [
      "********  tp 0 ************\n",
      "ahaknee0tp29  exist\n",
      "dcm path for TPid 0 Z:/OAI Baseline/gc0/9404954/10728113\n",
      "copying Z:/OAI Baseline/gc0/9404954/10728113/076.dcm  Z:/OAI Baseline/gc0/9404954/10728113/038.dcm  \n",
      "********  tp 1 ************\n",
      "ahaknee12tp29  exist\n",
      "dcm path for TPid 1 Z:/OAI 12 Months/1.C.2/9404954/20060223/10862212\n",
      "copying Z:/OAI 12 Months/1.C.2/9404954/20060223/10862212/076.dcm \n",
      "********  tp 2 ************\n",
      "ahaknee18tp29  exist\n",
      "cannot find dcm path for TPid 2\n",
      "********  tp 3 ************\n",
      "ahaknee24tp29  exist\n",
      "dcm path for TPid 3 Z:/OAI 24 Months/3.C.2/9404954/20070518/11732414\n",
      "copying Z:/OAI 24 Months/3.C.2/9404954/20070518/11732414/076.dcm  Z:/OAI 24 Months/3.C.2/9404954/20070518/11732414/014.dcm \n",
      "********  tp 4 ************\n",
      "ahaknee30tp29  exist\n",
      "dcm path for TPid 4 Z:/OAI 30 Months/results/4.G.1/9404954/20070817/11925205\n",
      "copying Z:/OAI 30 Months/results/4.G.1/9404954/20070817/11925205/076.dcm  Z:/OAI 30 Months/results/4.G.1/9404954/20070817/11925205/012.dcm  Z:/OAI 30 Months/results/4.G.1/9404954/20070817/11925205/062.dcm \n",
      "********  tp 5 ************\n",
      "ahaknee36tp29  exist\n",
      "dcm path for TPid 5 Z:/OAI 36 Months/5.C.1/9404954/20080108/12024504\n",
      "copying Z:/OAI 36 Months/5.C.1/9404954/20080108/12024504/076.dcm \n",
      "********  tp 6 ************\n",
      "ahaknee48tp29  exist\n",
      "dcm path for TPid 6 Z:/OAI 48 Months/6.C.1/9404954/20090323/12540116\n",
      "copying Z:/OAI 48 Months/6.C.1/9404954/20090323/12540116/076.dcm   Z:/OAI 48 Months/6.C.1/9404954/20090323/12540116/072.dcm \n",
      "********  tp 8 ************\n",
      "ahaknee72tp29  exist\n",
      "dcm path for TPid 8 Z:/OAI 72 Months/8.C.1/9404954/20110202/13000511\n",
      "copying Z:/OAI 72 Months/8.C.1/9404954/20110202/13000511/076.dcm  Z:/OAI 72 Months/8.C.1/9404954/20110202/13000511/025.dcm  Z:/OAI 72 Months/8.C.1/9404954/20110202/13000511/036.dcm \n",
      "********  tp 10 ************\n",
      "ahaknee96tp29  exist\n",
      "dcm path for TPid 10 Z:/OAI 96 Months/10.C.1/9404954/20121119/13579215\n",
      "copying Z:/OAI 96 Months/10.C.1/9404954/20121119/13579215/076.dcm \n"
     ]
    }
   ],
   "source": [
    "# #split seqs for a case\n",
    "getFileFromDB(caselist)"
   ]
  },
  {
   "cell_type": "code",
   "execution_count": 36,
   "metadata": {},
   "outputs": [],
   "source": [
    "def do_registration(casei, regis_fun):\n",
    "    pi = casei['pid']\n",
    "    side = casei['side']\n",
    "    precasepath = split_seq_path + pi + side + '/'\n",
    "    regtp = casei['TP']\n",
    "    if len(regtp) < 2:\n",
    "        print(pi, 'not enough TPs')\n",
    "        return\n",
    "    tp1 = regtp[0]\n",
    "    print(\"Fixed Image %d\" % tp1)\n",
    "    tp1_casepath = precasepath + 'TP0/'\n",
    "    fixed_image = get_dicom_series(tp1_casepath)\n",
    "    \n",
    "    icafesavepath = icafepath+'0_P'+pi+side+'_U'+'/'\n",
    "    if not os.path.exists(icafesavepath):\n",
    "        print('Init icafe dir')\n",
    "        os.mkdir(icafesavepath)\n",
    "    \n",
    "    # isotropic resolution\n",
    "    img1 = resample_image(fixed_image)\n",
    "    sitk.WriteImage(sitk.Cast(img1, sitk.sitkInt16), icafesavepath + 'TH_0_P' + pi + side + '_U.tif')\n",
    "    print('save to icafe path', icafesavepath + 'TH_0_P' + pi + side + '_U.tif')\n",
    "    sitk.WriteImage(sitk.Cast(img1, sitk.sitkInt16), icafesavepath + 'TH_0_P'+  pi + side + '_US100.tif')\n",
    "    print('save to icafe path', icafesavepath + 'TH_0_P' + pi + side + '_US100.tif')\n",
    "    \n",
    "    fixed_image = preprocess(fixed_image)\n",
    "    fixed_ret, resampled_ret = [], []\n",
    "    for tp2 in regtp[1:]:\n",
    "        #if tp2 != 1: continue\n",
    "        print(\"************************************************\")\n",
    "        print(\"Processing %d......\" % tp2)\n",
    "        tp2_casepath = getdcmpath(pi,tp2,side)\n",
    "        if tp2_casepath is None:\n",
    "            print('cannot find dcm path for TPid', tp2)\n",
    "            continue\n",
    "        \n",
    "        tp2_casepath = precasepath + 'TP' + str(tp2) + '/'\n",
    "        print(\"reading image......\", pi + 'TP' + str(tp2))\n",
    "        moving_image = get_dicom_series(tp2_casepath)\n",
    "        moving_image = preprocess(moving_image)\n",
    "        show_images(fixed_image, moving_image)\n",
    "        \n",
    "        transform = regis_fun(fixed_image, moving_image)\n",
    "        if tp2==10:\n",
    "            SEQ = 'S109'\n",
    "        else:\n",
    "            SEQ = 'S10'+str(tp2)\n",
    "        sitk.WriteTransform(transform, transform_path + 'affine_P'+  pi + side + 'U' + SEQ + '.tfm')\n",
    "        tmp_img = transform_img(fixed_image, moving_image, transform)\n",
    "\n",
    "#         sitk.WriteImage(sitk.Cast(exqimg, sitk.sitkInt16), icafesavepath + 'TH_0_P'+  pi + side + '_U' + SEQ + '.tif')\n",
    "#         print('save to icafe path', icafesavepath + 'TH_0_P' + pi + side + '_U' + SEQ + '.tif')\n",
    "        fixed_ret.append(fixed_image)\n",
    "        resampled_ret.append(tmp_img)\n",
    "    return fixed_ret, resampled_ret"
   ]
  },
  {
   "cell_type": "code",
   "execution_count": 40,
   "metadata": {},
   "outputs": [
    {
     "data": {
      "image/png": "[encoded data removed]",
      "text/plain": [
       "<Figure size 432x288 with 1 Axes>"
      ]
     },
     "metadata": {
      "needs_background": "light"
     },
     "output_type": "display_data"
    },
    {
     "name": "stdout",
     "output_type": "stream",
     "text": [
      "Final metric value: 12600.873015509113\n",
      "Optimizer's stopping condition, GradientDescentOptimizerv4Template: Convergence checker passed at iteration 110.\n"
     ]
    }
   ],
   "source": [
    "for casei in caselist:\n",
    "    ret = do_registration(casei, affine_registration)\n",
    "    fixed_ret, resampled_ret = ret\n",
    "#     if ret is not None:\n",
    "#         fixed_image, moving_resampled = ret\n",
    "#         interact(display_images_with_alpha, image_z=(0,fixed_image.GetSize()[2] - 1), alpha=(0.0,1.0,0.05), \n",
    "#                  fixed = fixed(fixed_image), moving=fixed(moving_resampled));"
   ]
  },
  {
   "cell_type": "code",
   "execution_count": 41,
   "metadata": {},
   "outputs": [
    {
     "data": {
      "application/vnd.jupyter.widget-view+json": {
       "model_id": "5e4462d4356b4ca69292d625a5d8c627",
       "version_major": 2,
       "version_minor": 0
      },
      "text/plain": [
       "interactive(children=(IntSlider(value=37, description='image_z', max=74), FloatSlider(value=0.5, description='…"
      ]
     },
     "metadata": {},
     "output_type": "display_data"
    }
   ],
   "source": [
    "show_mixed_images(fixed_ret[0], resampled_ret[0])"
   ]
  },
  {
   "cell_type": "code",
   "execution_count": 42,
   "metadata": {},
   "outputs": [
    {
     "name": "stdout",
     "output_type": "stream",
     "text": [
      "ahaknee0tp29  exist\n",
      "ahaknee12tp29  exist\n",
      "ahaknee18tp29  exist\n",
      "ahaknee24tp29  exist\n",
      "ahaknee30tp29  exist\n",
      "ahaknee36tp29  exist\n",
      "ahaknee48tp29  exist\n",
      "ahaknee72tp29  exist\n",
      "ahaknee96tp29  exist\n"
     ]
    }
   ],
   "source": [
    "for case in caselist:\n",
    "    pid = case['pid']\n",
    "    side = case['side']\n",
    "    for j in range(len(case['TP'])):\n",
    "        generate_centerline(pid, case['TP'][j], side)\n",
    "    file_path = r'../centerline/P'+pid+side+'/tracing_raw_ves_TH_'+str(case['TP'][0])+'_P'+pid+side+'_U.swc'\n",
    "    icafesavepath = icafepath+'0_P'+pi+side+'_U'+'/'\n",
    "    shutil.copy(file_path, icafesavepath)"
   ]
  },
  {
   "cell_type": "code",
   "execution_count": 9,
   "metadata": {},
   "outputs": [],
   "source": [
    "# case = caselist[0]\n",
    "# df1, line1 = get_centerline(case['pid'], case['TP'][0], case['side'])\n",
    "# df1.head(20)\n",
    "# df2, line2 = get_centerline(case['pid'], case['TP'][1], case['side'])\n",
    "# df2.head(20)"
   ]
  },
  {
   "cell_type": "code",
   "execution_count": 46,
   "metadata": {},
   "outputs": [],
   "source": [
    "def get_centerline(pid, TPid, side='L'):\n",
    "    dir_path = r'../centerline/P'+pid+side\n",
    "    file_path = dir_path+'/tracing_raw_ves_TH_'+str(TPid)+'_P'+pid+side+'_U.swc'\n",
    "    df = pd.read_csv(file_path, header=None, sep=' ',index_col=0, names=['vessel_id','x','y','z','undefined','last_id'])\n",
    "    line = np.array([df['x'], df['y'], df['z']]).T\n",
    "    return df, line\n",
    "\n",
    "def generate_regis_with_centerline(line1, line2, transform):\n",
    "    points = []\n",
    "    for i in range(line1.shape[0]):\n",
    "        tmp_point = transform.TransformPoint((line1[i][0], line1[i][1], i))\n",
    "        points.append(tmp_point)\n",
    "    ans = np.array(points)\n",
    "    ans[:,2] = np.round(ans[:,2])\n",
    "    dx, dy = [], []\n",
    "    for i in range(ans.shape[0]):\n",
    "        if int(ans[i][2]) >= line2.shape[0]:\n",
    "            break\n",
    "        dx.append(ans[i][0] - line2[int(ans[i][2])][0])\n",
    "        dy.append(ans[i][1] - line2[int(ans[i][2])][1])\n",
    "    dx = np.array(dx)\n",
    "    dy = np.array(dy)\n",
    "    displacement_image = sitk.Image([384,384,dx.shape[0]], sitk.sitkVectorFloat64)\n",
    "    # The only point that has any displacement is (0,0)\n",
    "    for i in range(dx.shape[0]):\n",
    "        displacement = (-dx[i],-dy[i],0)\n",
    "        for j in range(384):\n",
    "            for k in range(384):\n",
    "                displacement_image[j,k,i] = displacement\n",
    "    return sitk.DisplacementFieldTransform(displacement_image)"
   ]
  },
  {
   "cell_type": "code",
   "execution_count": 47,
   "metadata": {},
   "outputs": [],
   "source": [
    "def registration_with_centerline(case):\n",
    "    pid = case['pid']\n",
    "    side = case['side']\n",
    "    regtp = case['TP']\n",
    "    if len(regtp) < 2:\n",
    "        print(pi, 'not enough TPs')\n",
    "        return\n",
    "    tp1 = regtp[0]\n",
    "    print(\"Fixed Image %d\" % tp1)\n",
    "    _, line1 = get_centerline(pid, tp1, side)\n",
    "    for tp2 in regtp[1:]:\n",
    "        tp2_casepath = getdcmpath(pi,tp2,side)\n",
    "        if tp2_casepath is None:\n",
    "            print('cannot find dcm path for TPid', tp2)\n",
    "            continue\n",
    "        _, line2 = get_centerline(pid, tp2, side)\n",
    "        if tp2==10:\n",
    "            SEQ = 'S109'\n",
    "        else:\n",
    "            SEQ = 'S10'+str(tp2)\n",
    "        affine = sitk.ReadTransform(transform_path + 'affine_P'+  case['pid'] + case['side'] + 'U' + SEQ + '.tfm')\n",
    "        print(\"Please wait...(TP\"+str(tp2)+\" is being processed)\")\n",
    "        displacement_field_transform = generate_regis_with_centerline(line1, line2, affine)\n",
    "        sitk.WriteTransform(displacement_field_transform, transform_path + 'displacement_P'+  pi + side + 'U' + SEQ + '.tfm')\n",
    "    return"
   ]
  },
  {
   "cell_type": "code",
   "execution_count": 48,
   "metadata": {},
   "outputs": [
    {
     "name": "stdout",
     "output_type": "stream",
     "text": [
      "Fixed Image 0\n",
      "ahaknee30tp29  exist\n",
      "Please wait...(TP4 is being processed)\n",
      "ahaknee36tp29  exist\n",
      "Please wait...(TP5 is being processed)\n",
      "ahaknee48tp29  exist\n",
      "Please wait...(TP6 is being processed)\n",
      "ahaknee72tp29  exist\n",
      "Please wait...(TP8 is being processed)\n",
      "ahaknee96tp29  exist\n",
      "Please wait...(TP10 is being processed)\n"
     ]
    }
   ],
   "source": [
    "for case in caselist:\n",
    "    registration_with_centerline(case)"
   ]
  },
  {
   "cell_type": "code",
   "execution_count": 49,
   "metadata": {},
   "outputs": [],
   "source": [
    "def generate_result(case):\n",
    "    pid = case['pid']\n",
    "    side = case['side']\n",
    "    regtp = case['TP']\n",
    "    icafesavepath = icafepath+'0_P'+pi+side+'_U'+'/'\n",
    "    precasepath = split_seq_path + pi + side + '/'\n",
    "    if len(regtp) < 2:\n",
    "        print(pi, 'not enough TPs')\n",
    "        return\n",
    "    tp1 = regtp[0]\n",
    "    tp1_casepath = precasepath + 'TP0/'\n",
    "    fixed_image = get_dicom_series(tp1_casepath)\n",
    "    fixed_image = empty_preprocess(fixed_image)\n",
    "    print(\"Fixed Image %d\" % tp1)\n",
    "    for tp2 in regtp[1:]:\n",
    "        tp2_casepath = getdcmpath(pi,tp2,side)\n",
    "        if tp2_casepath is None:\n",
    "            print('cannot find dcm path for TPid', tp2)\n",
    "            continue\n",
    "        tp2_casepath = precasepath + 'TP' + str(tp2) + '/'\n",
    "        moving_image = get_dicom_series(tp2_casepath)\n",
    "        space2 = moving_image.GetSpacing()\n",
    "        if tp2==10:\n",
    "            SEQ = 'S109'\n",
    "        else:\n",
    "            SEQ = 'S10'+str(tp2)\n",
    "        moving_image = empty_preprocess(moving_image)\n",
    "        print(\"Please wait...(TP\"+str(tp2)+\" is being processed)\")\n",
    "        affine = sitk.ReadTransform(transform_path + 'affine_P'+  case['pid'] + case['side'] + 'U' + SEQ + '.tfm')\n",
    "        displacement_field_transform = sitk.ReadTransform(transform_path + 'displacement_P'+  pi + side + 'U' + SEQ + '.tfm')\n",
    "        resampled = transform_img(fixed_image, moving_image, affine)\n",
    "        resampled2 = transform_img(fixed_image, resampled, displacement_field_transform)\n",
    "        resampled2 = resample_image(resampled2, space2)\n",
    "        sitk.WriteImage(sitk.Cast(resampled2, sitk.sitkInt16), icafesavepath + 'TH_0_P' + pi + side + '_U' + SEQ + '.tif')\n",
    "    return"
   ]
  },
  {
   "cell_type": "code",
   "execution_count": 50,
   "metadata": {},
   "outputs": [
    {
     "name": "stdout",
     "output_type": "stream",
     "text": [
      "Fixed Image 0\n",
      "ahaknee12tp29  exist\n",
      "Please wait...(TP1 is being processed)\n",
      "[384 384  75] [384, 384, 309]\n",
      "ahaknee18tp29  exist\n",
      "cannot find dcm path for TPid 2\n",
      "ahaknee24tp29  exist\n",
      "Please wait...(TP3 is being processed)\n",
      "[384 384  75] [384, 384, 309]\n",
      "ahaknee30tp29  exist\n",
      "Please wait...(TP4 is being processed)\n",
      "[384 384  75] [384, 384, 309]\n",
      "ahaknee36tp29  exist\n",
      "Please wait...(TP5 is being processed)\n",
      "[384 384  75] [384, 384, 309]\n",
      "ahaknee48tp29  exist\n",
      "Please wait...(TP6 is being processed)\n",
      "[384 384  75] [384, 384, 309]\n",
      "ahaknee72tp29  exist\n",
      "Please wait...(TP8 is being processed)\n",
      "[384 384  75] [384, 384, 309]\n",
      "ahaknee96tp29  exist\n",
      "Please wait...(TP10 is being processed)\n",
      "[384 384  75] [384, 384, 309]\n"
     ]
    }
   ],
   "source": [
    "for case in caselist:\n",
    "    generate_result(case)"
   ]
  },
  {
   "cell_type": "code",
   "execution_count": null,
   "metadata": {},
   "outputs": [],
   "source": []
  },
  {
   "cell_type": "code",
   "execution_count": 17,
   "metadata": {},
   "outputs": [],
   "source": [
    "# small demo\n",
    "case = caselist[0]\n",
    "pi = case['pid']\n",
    "side = case['side']\n",
    "precasepath = split_seq_path + pi + side + '/'\n",
    "regtp = case['TP']\n",
    "tp1, tp2 = regtp[0], regtp[1]\n",
    "tp1_casepath = precasepath + 'TP0/'\n",
    "fixed_image = get_dicom_series(tp1_casepath)\n",
    "\n",
    "icafesavepath = icafepath+'0_P'+pi+side+'_U'+'/'\n",
    "tp2_casepath = precasepath + 'TP' + str(tp2) + '/'\n",
    "\n",
    "moving_image = get_dicom_series(tp2_casepath)\n",
    "space2 = moving_image.GetSpacing()\n",
    "\n",
    "fixed_image = empty_preprocess(fixed_image)\n",
    "moving_image = empty_preprocess(moving_image)"
   ]
  },
  {
   "cell_type": "code",
   "execution_count": 10,
   "metadata": {},
   "outputs": [],
   "source": [
    "affine = sitk.ReadTransform(transform_path + 'affine_P'+  case['pid'] + case['side'] + 'US101'+ '.tfm')\n",
    "displacement_field_transform = sitk.ReadTransform(transform_path + 'displacement_P'+  pi + side + 'US101' + '.tfm')"
   ]
  },
  {
   "cell_type": "code",
   "execution_count": 11,
   "metadata": {},
   "outputs": [
    {
     "data": {
      "application/vnd.jupyter.widget-view+json": {
       "model_id": "0ca31fd1512a493697b642106ae3cd4f",
       "version_major": 2,
       "version_minor": 0
      },
      "text/plain": [
       "interactive(children=(IntSlider(value=37, description='image_z', max=74), FloatSlider(value=0.5, description='…"
      ]
     },
     "metadata": {},
     "output_type": "display_data"
    }
   ],
   "source": [
    "resampled = transform_img(fixed_image, moving_image, affine)\n",
    "show_mixed_images(fixed_image, resampled)"
   ]
  },
  {
   "cell_type": "code",
   "execution_count": 12,
   "metadata": {},
   "outputs": [
    {
     "data": {
      "application/vnd.jupyter.widget-view+json": {
       "model_id": "44f83aa6e7f84dad8f75be895cc02dfb",
       "version_major": 2,
       "version_minor": 0
      },
      "text/plain": [
       "interactive(children=(IntSlider(value=37, description='image_z', max=74), FloatSlider(value=0.5, description='…"
      ]
     },
     "metadata": {},
     "output_type": "display_data"
    }
   ],
   "source": [
    "resampled2 = transform_img(fixed_image, resampled, displacement_field_transform)\n",
    "show_mixed_images(fixed_image, resampled2)"
   ]
  },
  {
   "cell_type": "code",
   "execution_count": 19,
   "metadata": {},
   "outputs": [
    {
     "name": "stdout",
     "output_type": "stream",
     "text": [
      "[384 384  75] [384, 384, 309]\n"
     ]
    }
   ],
   "source": [
    "resampled2 = resample_image(resampled2, space2)"
   ]
  },
  {
   "cell_type": "code",
   "execution_count": 20,
   "metadata": {},
   "outputs": [],
   "source": [
    "sitk.WriteImage(sitk.Cast(resampled2, sitk.sitkInt16), icafesavepath + 'TH_0_P' + pi + side + '_US101.tif')"
   ]
  },
  {
   "cell_type": "code",
   "execution_count": null,
   "metadata": {},
   "outputs": [],
   "source": []
  },
  {
   "cell_type": "code",
   "execution_count": 28,
   "metadata": {},
   "outputs": [],
   "source": [
    "# def our_pipeline(casei):\n",
    "#     pi = casei['pid']\n",
    "#     side = casei['side']\n",
    "#     precasepath = split_seq_path + pi + side + '/'\n",
    "#     regtp = casei['TP']\n",
    "#     if len(regtp) < 2:\n",
    "#         print(pi, 'not enough TPs')\n",
    "#         return\n",
    "#     tp1 = regtp[0]\n",
    "#     print(\"Fixed Image %d\" % tp1)\n",
    "#     tp1_casepath = precasepath + 'TP0/'\n",
    "#     fixed_image = get_dicom_series(tp1_casepath)\n",
    "    \n",
    "#     icafesavepath = icafepath+'0_P'+pi+side+'_U'+'/'\n",
    "#     if not os.path.exists(icafesavepath):\n",
    "#         print('Init icafe dir')\n",
    "#         os.mkdir(icafesavepath)\n",
    "    \n",
    "#     # isotropic resolution\n",
    "    \n",
    "#     fixed_image = resample_image(fixed_image)\n",
    "#     img1 = fixed_image\n",
    "#     sitk.WriteImage(sitk.Cast(fixed_image, sitk.sitkInt16), icafesavepath + 'TH_0_P' + pi + side + '_U.tif')\n",
    "#     print('save to icafe path', icafesavepath + 'TH_0_P' + pi + side + '_U.tif')\n",
    "#     sitk.WriteImage(sitk.Cast(fixed_image, sitk.sitkInt16), icafesavepath + 'TH_0_P'+  pi + side + '_US100.tif')\n",
    "#     print('save to icafe path', icafesavepath + 'TH_0_P' + pi + side + '_US100.tif')\n",
    "    \n",
    "# #     fixed_image = img1\n",
    "#     fixed_image = preprocess(img1)\n",
    "#     fixed_ret, resampled_ret = [], []\n",
    "#     for tp2 in regtp[1:3]:\n",
    "#         #if tp2 != 1: continue\n",
    "#         print(\"************************************************\")\n",
    "#         print(\"Processing %d...\" % tp2)\n",
    "#         tp2_casepath = getdcmpath(pi,tp2,side) \n",
    "#         if tp2_casepath is None:\n",
    "#             print('cannot find dcm path for TPid', tp2)\n",
    "#             continue\n",
    "        \n",
    "#         tp2_casepath = precasepath + 'TP' + str(tp2) + '/'\n",
    "#         print(\"reading image......\", pi + 'TP' + str(tp2))\n",
    "#         moving_image = get_dicom_series(tp2_casepath)\n",
    "#         img2 = resample_image(moving_image)\n",
    "#         moving_image = preprocess(img2)\n",
    "        \n",
    "#         if tp2 <=8:\n",
    "#             transform = rigid_registration(fixed_image, moving_image, vis=False)\n",
    "#             img2 = sitk.Resample(empty_preprocess(img2), empty_preprocess(img1), transform, sitk.sitkBSpline, 0.0, empty_preprocess(img2).GetPixelID())\n",
    "#             moving_image = sitk.Resample(moving_image, fixed_image, transform, sitk.sitkBSpline, 0.0, moving_image.GetPixelID())\n",
    "        \n",
    "#         ffd_transform = bspline_intra_modal_registration(fixed_image, moving_image, vis=False)\n",
    "#         exqimg = sitk.Resample(empty_preprocess(img2), empty_preprocess(img1), ffd_transform, sitk.sitkBSpline, 0.0, empty_preprocess(img2).GetPixelID())\n",
    "#         tmp_img = exqimg\n",
    "        \n",
    "#         if tp2==10:\n",
    "#             SEQ = 'S109'\n",
    "#         else:\n",
    "#             SEQ = 'S10'+str(tp2)\n",
    "# #         exqimg = resample_image(exqimg)\n",
    "#         sitk.WriteImage(sitk.Cast(exqimg, sitk.sitkInt16), icafesavepath + 'TH_0_P'+  pi + side + '_U' + SEQ + '.tif')\n",
    "#         print('save to icafe path', icafesavepath + 'TH_0_P' + pi + side + '_U' + SEQ + '.tif')\n",
    "#         fixed_ret.append(empty_preprocess(img1))\n",
    "#         resampled_ret.append(empty_preprocess(tmp_img))\n",
    "#     return fixed_ret, resampled_ret"
   ]
  },
  {
   "cell_type": "code",
   "execution_count": 28,
   "metadata": {},
   "outputs": [],
   "source": [
    "# for casei in caselist:\n",
    "#     our_pipeline(casei)"
   ]
  },
  {
   "cell_type": "code",
   "execution_count": null,
   "metadata": {},
   "outputs": [],
   "source": []
  }
 ],
 "metadata": {
  "kernelspec": {
   "display_name": "Python [conda env:OAIreg] *",
   "language": "python",
   "name": "conda-env-OAIreg-py"
  },
  "language_info": {
   "codemirror_mode": {
    "name": "ipython",
    "version": 3
   },
   "file_extension": ".py",
   "mimetype": "text/x-python",
   "name": "python",
   "nbconvert_exporter": "python",
   "pygments_lexer": "ipython3",
   "version": "3.7.7"
  }
 },
 "nbformat": 4,
 "nbformat_minor": 2
}
