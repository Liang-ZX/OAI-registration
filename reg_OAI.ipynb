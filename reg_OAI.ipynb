{
 "cells": [
  {
   "cell_type": "code",
   "execution_count": 1,
   "metadata": {},
   "outputs": [
    {
     "data": {
      "text/plain": [
       "'win32'"
      ]
     },
     "execution_count": 1,
     "metadata": {},
     "output_type": "execute_result"
    }
   ],
   "source": [
    "import pydicom\n",
    "import os,re\n",
    "import numpy as np\n",
    "import shutil\n",
    "import matplotlib.pyplot as plt\n",
    "%matplotlib inline\n",
    "import cv2\n",
    "from pydicom.dataset import Dataset, FileDataset\n",
    "import tempfile\n",
    "import SimpleITK as sitk\n",
    "import math\n",
    "from ipywidgets import interact, fixed\n",
    "from skimage.transform import resize\n",
    "from IPython.display import clear_output\n",
    "from scipy.ndimage import zoom\n",
    "import scipy.misc\n",
    "from sys import platform\n",
    "import shutil\n",
    "\n",
    "from MyProcessDicom import *\n",
    "from RegistrationMethod import *\n",
    "from ServerDicomIO import *\n",
    "from icafeAPI import generate_centerline\n",
    "platform"
   ]
  },
  {
   "cell_type": "code",
   "execution_count": 2,
   "metadata": {
    "scrolled": true
   },
   "outputs": [],
   "source": [
    "import importlib\n",
    "import sys\n",
    "sys.path.append(r'..\\FRAPPE')\n",
    "import DB\n",
    "importlib.reload(DB)\n",
    "from DB import DB\n",
    "\n",
    "# process list\n",
    "# first in TP as reference\n",
    "caselist = [\n",
    "    {'pid': '9404954','TP':[0,1,2,3,4,5,6,8,10],'side':'L'}\n",
    "]\n",
    "\n",
    "# getdcmpath('9911265',0,'L'),getdcmpath('9911265',1,'R'),getdcmpath('9911265',8,'R')"
   ]
  },
  {
   "cell_type": "code",
   "execution_count": 3,
   "metadata": {},
   "outputs": [],
   "source": [
    "# #split seqs for a case\n",
    "# getFileFromDB(caselist)"
   ]
  },
  {
   "cell_type": "code",
   "execution_count": 35,
   "metadata": {},
   "outputs": [
    {
     "name": "stdout",
     "output_type": "stream",
     "text": [
      "Fixed Image 0\n"
     ]
    }
   ],
   "source": [
    "casei = caselist[0]\n",
    "pi = casei['pid']\n",
    "side = casei['side']\n",
    "precasepath = split_seq_path + pi + side + '/'\n",
    "regtp = casei['TP']\n",
    "if len(regtp) < 2:\n",
    "    print(pi, 'not enough TPs')\n",
    "tp1 = regtp[0]\n",
    "print(\"Fixed Image %d\" % tp1)\n",
    "tp1_casepath = precasepath + 'TP0/'\n",
    "fixed_image = get_dicom_series(tp1_casepath)\n",
    "\n",
    "icafesavepath = icafepath+'0_P'+pi+side+'_U'+'/'\n",
    "if not os.path.exists(icafesavepath):\n",
    "    print('Init icafe dir')\n",
    "    os.mkdir(icafesavepath)"
   ]
  },
  {
   "cell_type": "code",
   "execution_count": 36,
   "metadata": {},
   "outputs": [
    {
     "name": "stdout",
     "output_type": "stream",
     "text": [
      "[384 384  75] [384, 384, 309]\n"
     ]
    }
   ],
   "source": [
    "isoresample = sitk.ResampleImageFilter()\n",
    "isoresample.SetInterpolator(sitk.sitkBSpline)\n",
    "isoresample.SetOutputDirection(fixed_image.GetDirection())\n",
    "isoresample.SetOutputOrigin(fixed_image.GetOrigin())\n",
    "orig_spacing = fixed_image.GetSpacing()\n",
    "new_spacing = (orig_spacing[0],orig_spacing[0],orig_spacing[0])\n",
    "isoresample.SetOutputSpacing(new_spacing)\n",
    "orig_size = np.array(fixed_image.GetSize(), dtype=np.int)    \n",
    "new_size = orig_size.copy()\n",
    "new_size[2] = int(orig_size[2]*(orig_spacing[2]/orig_spacing[0])+0.5)\n",
    "new_size = [int(s) for s in new_size]\n",
    "print(orig_size, new_size)\n",
    "isoresample.SetSize(new_size)"
   ]
  },
  {
   "cell_type": "code",
   "execution_count": 37,
   "metadata": {},
   "outputs": [],
   "source": [
    "img1 = empty_preprocess(fixed_image)"
   ]
  },
  {
   "cell_type": "code",
   "execution_count": 22,
   "metadata": {},
   "outputs": [
    {
     "data": {
      "text/plain": [
       "(384, 384, 75)"
      ]
     },
     "execution_count": 22,
     "metadata": {},
     "output_type": "execute_result"
    }
   ],
   "source": [
    "img1.GetSize()"
   ]
  },
  {
   "cell_type": "code",
   "execution_count": 38,
   "metadata": {},
   "outputs": [],
   "source": [
    "img2 = isoresample.Execute(img1)"
   ]
  },
  {
   "cell_type": "code",
   "execution_count": 39,
   "metadata": {},
   "outputs": [
    {
     "data": {
      "application/vnd.jupyter.widget-view+json": {
       "model_id": "3b7281eb97ac4b079191a5e083c5fe37",
       "version_major": 2,
       "version_minor": 0
      },
      "text/plain": [
       "interactive(children=(IntSlider(value=154, description='fixed_image_z', max=308), IntSlider(value=154, descrip…"
      ]
     },
     "metadata": {},
     "output_type": "display_data"
    }
   ],
   "source": [
    "show_images(img2, img2)"
   ]
  },
  {
   "cell_type": "code",
   "execution_count": null,
   "metadata": {},
   "outputs": [],
   "source": []
  },
  {
   "cell_type": "code",
   "execution_count": 17,
   "metadata": {},
   "outputs": [],
   "source": [
    "def do_registration(casei, regis_fun):\n",
    "    pi = casei['pid']\n",
    "    side = casei['side']\n",
    "    precasepath = split_seq_path + pi + side + '/'\n",
    "    regtp = casei['TP']\n",
    "    if len(regtp) < 2:\n",
    "        print(pi, 'not enough TPs')\n",
    "        return\n",
    "    tp1 = regtp[0]\n",
    "    print(\"Fixed Image %d\" % tp1)\n",
    "    tp1_casepath = precasepath + 'TP0/'\n",
    "    fixed_image = get_dicom_series(tp1_casepath)\n",
    "    \n",
    "    icafesavepath = icafepath+'0_P'+pi+side+'_U'+'/'\n",
    "    if not os.path.exists(icafesavepath):\n",
    "        print('Init icafe dir')\n",
    "        os.mkdir(icafesavepath)\n",
    "    \n",
    "    # isotropic resolution\n",
    "    img1 = resample_image(fixed_image)\n",
    "    sitk.WriteImage(sitk.Cast(img1, sitk.sitkInt16), icafesavepath + 'TH_0_P' + pi + side + '_U.tif')\n",
    "    print('save to icafe path', icafesavepath + 'TH_0_P' + pi + side + '_U.tif')\n",
    "    sitk.WriteImage(sitk.Cast(img1, sitk.sitkInt16), icafesavepath + 'TH_0_P'+  pi + side + '_US100.tif')\n",
    "    print('save to icafe path', icafesavepath + 'TH_0_P' + pi + side + '_US100.tif')\n",
    "    \n",
    "    fixed_image = preprocess(fixed_image)\n",
    "    fixed_ret, resampled_ret = [], []\n",
    "    for tp2 in regtp[7:8]:\n",
    "        #if tp2 != 1: continue\n",
    "        print(\"************************************************\")\n",
    "        print(\"Processing %d......\" % tp2)\n",
    "        tp2_casepath = getdcmpath(pi,tp2,side)\n",
    "        if tp2_casepath is None:\n",
    "            print('cannot find dcm path for TPid', tp2)\n",
    "            continue\n",
    "        \n",
    "        tp2_casepath = precasepath + 'TP' + str(tp2) + '/'\n",
    "        print(\"reading image......\", pi + 'TP' + str(tp2))\n",
    "        moving_image = get_dicom_series(tp2_casepath)\n",
    "        moving_image = preprocess(moving_image)\n",
    "        show_images(fixed_image, moving_image)\n",
    "        \n",
    "        transform = regis_fun(fixed_image, moving_image)\n",
    "        if tp2==10:\n",
    "            SEQ = 'S109'\n",
    "        else:\n",
    "            SEQ = 'S10'+str(tp2)\n",
    "        sitk.WriteTransform(transform, transform_path + 'P'+  pi + side + 'U' + SEQ + '.tfm')\n",
    "        tmp_img = transform_img(fixed_image, moving_image, transform)\n",
    "\n",
    "#         sitk.WriteImage(sitk.Cast(exqimg, sitk.sitkInt16), icafesavepath + 'TH_0_P'+  pi + side + '_U' + SEQ + '.tif')\n",
    "#         print('save to icafe path', icafesavepath + 'TH_0_P' + pi + side + '_U' + SEQ + '.tif')\n",
    "        fixed_ret.append(fixed_image)\n",
    "        resampled_ret.append(tmp_img)\n",
    "    return fixed_ret, resampled_ret"
   ]
  },
  {
   "cell_type": "code",
   "execution_count": 18,
   "metadata": {},
   "outputs": [
    {
     "data": {
      "image/png": "[encoded data removed]",
      "text/plain": [
       "<Figure size 432x288 with 1 Axes>"
      ]
     },
     "metadata": {
      "needs_background": "light"
     },
     "output_type": "display_data"
    },
    {
     "name": "stdout",
     "output_type": "stream",
     "text": [
      "Final metric value: 8939.19121360552\n",
      "Optimizer's stopping condition, GradientDescentOptimizerv4Template: Convergence checker passed at iteration 49.\n"
     ]
    }
   ],
   "source": [
    "for casei in caselist:\n",
    "    ret = do_registration(casei, affine_registration)\n",
    "    fixed_ret, resampled_ret = ret\n",
    "#     if ret is not None:\n",
    "#         fixed_image, moving_resampled = ret\n",
    "#         interact(display_images_with_alpha, image_z=(0,fixed_image.GetSize()[2] - 1), alpha=(0.0,1.0,0.05), \n",
    "#                  fixed = fixed(fixed_image), moving=fixed(moving_resampled));"
   ]
  },
  {
   "cell_type": "code",
   "execution_count": 19,
   "metadata": {},
   "outputs": [
    {
     "data": {
      "application/vnd.jupyter.widget-view+json": {
       "model_id": "9aad46e97de943cca59e600e9c185049",
       "version_major": 2,
       "version_minor": 0
      },
      "text/plain": [
       "interactive(children=(IntSlider(value=37, description='image_z', max=74), FloatSlider(value=0.5, description='…"
      ]
     },
     "metadata": {},
     "output_type": "display_data"
    }
   ],
   "source": [
    "show_mixed_images(fixed_ret[0], resampled_ret[0])"
   ]
  },
  {
   "cell_type": "code",
   "execution_count": 5,
   "metadata": {},
   "outputs": [
    {
     "name": "stdout",
     "output_type": "stream",
     "text": [
      "ahaknee0tp29  exist\n",
      "ahaknee12tp29  exist\n",
      "ahaknee18tp29  exist\n",
      "ahaknee24tp29  exist\n",
      "ahaknee30tp29  exist\n",
      "ahaknee36tp29  exist\n",
      "ahaknee48tp29  exist\n",
      "ahaknee72tp29  exist\n",
      "ahaknee96tp29  exist\n"
     ]
    }
   ],
   "source": [
    "for case in caselist:\n",
    "    pid = case['pid']\n",
    "    side = case['side']\n",
    "    for j in range(len(case['TP'])):\n",
    "        generate_centerline(pid, case['TP'][j], side)"
   ]
  },
  {
   "cell_type": "code",
   "execution_count": 8,
   "metadata": {},
   "outputs": [],
   "source": [
    "def get_centerline(pid, TPid, side='L'):\n",
    "    dir_path = r'../centerline/P'+pid+side\n",
    "    file_path = dir_path+'/tracing_raw_ves_TH_'+str(TPid)+'_P'+pid+side+'_U.swc'\n",
    "    df = pd.read_csv(file_path, header=None, sep=' ',index_col=0, names=['vessel_id','x','y','z','undefined','last_id'])\n",
    "    line = np.array([df['x'], df['y'], df['z']]).T\n",
    "    return df, line"
   ]
  },
  {
   "cell_type": "code",
   "execution_count": 9,
   "metadata": {},
   "outputs": [
    {
     "data": {
      "text/html": [
       "<div>\n",
       "<style scoped>\n",
       "    .dataframe tbody tr th:only-of-type {\n",
       "        vertical-align: middle;\n",
       "    }\n",
       "\n",
       "    .dataframe tbody tr th {\n",
       "        vertical-align: top;\n",
       "    }\n",
       "\n",
       "    .dataframe thead th {\n",
       "        text-align: right;\n",
       "    }\n",
       "</style>\n",
       "<table border=\"1\" class=\"dataframe\">\n",
       "  <thead>\n",
       "    <tr style=\"text-align: right;\">\n",
       "      <th></th>\n",
       "      <th>vessel_id</th>\n",
       "      <th>x</th>\n",
       "      <th>y</th>\n",
       "      <th>z</th>\n",
       "      <th>undefined</th>\n",
       "      <th>last_id</th>\n",
       "    </tr>\n",
       "  </thead>\n",
       "  <tbody>\n",
       "    <tr>\n",
       "      <th>1</th>\n",
       "      <td>0</td>\n",
       "      <td>217.0</td>\n",
       "      <td>305.0</td>\n",
       "      <td>4.11</td>\n",
       "      <td>8.29</td>\n",
       "      <td>0</td>\n",
       "    </tr>\n",
       "    <tr>\n",
       "      <th>2</th>\n",
       "      <td>0</td>\n",
       "      <td>216.0</td>\n",
       "      <td>305.0</td>\n",
       "      <td>8.23</td>\n",
       "      <td>8.76</td>\n",
       "      <td>1</td>\n",
       "    </tr>\n",
       "    <tr>\n",
       "      <th>3</th>\n",
       "      <td>0</td>\n",
       "      <td>215.0</td>\n",
       "      <td>305.0</td>\n",
       "      <td>12.34</td>\n",
       "      <td>8.79</td>\n",
       "      <td>2</td>\n",
       "    </tr>\n",
       "    <tr>\n",
       "      <th>4</th>\n",
       "      <td>0</td>\n",
       "      <td>213.0</td>\n",
       "      <td>305.0</td>\n",
       "      <td>16.46</td>\n",
       "      <td>9.20</td>\n",
       "      <td>3</td>\n",
       "    </tr>\n",
       "    <tr>\n",
       "      <th>5</th>\n",
       "      <td>0</td>\n",
       "      <td>212.0</td>\n",
       "      <td>305.0</td>\n",
       "      <td>20.57</td>\n",
       "      <td>9.10</td>\n",
       "      <td>4</td>\n",
       "    </tr>\n",
       "    <tr>\n",
       "      <th>6</th>\n",
       "      <td>0</td>\n",
       "      <td>211.0</td>\n",
       "      <td>305.0</td>\n",
       "      <td>24.69</td>\n",
       "      <td>9.15</td>\n",
       "      <td>5</td>\n",
       "    </tr>\n",
       "    <tr>\n",
       "      <th>7</th>\n",
       "      <td>0</td>\n",
       "      <td>211.0</td>\n",
       "      <td>305.0</td>\n",
       "      <td>28.80</td>\n",
       "      <td>9.08</td>\n",
       "      <td>6</td>\n",
       "    </tr>\n",
       "    <tr>\n",
       "      <th>8</th>\n",
       "      <td>0</td>\n",
       "      <td>210.0</td>\n",
       "      <td>305.0</td>\n",
       "      <td>32.91</td>\n",
       "      <td>9.15</td>\n",
       "      <td>7</td>\n",
       "    </tr>\n",
       "    <tr>\n",
       "      <th>9</th>\n",
       "      <td>0</td>\n",
       "      <td>208.0</td>\n",
       "      <td>306.0</td>\n",
       "      <td>37.03</td>\n",
       "      <td>9.18</td>\n",
       "      <td>8</td>\n",
       "    </tr>\n",
       "    <tr>\n",
       "      <th>10</th>\n",
       "      <td>0</td>\n",
       "      <td>207.0</td>\n",
       "      <td>306.0</td>\n",
       "      <td>41.14</td>\n",
       "      <td>9.30</td>\n",
       "      <td>9</td>\n",
       "    </tr>\n",
       "    <tr>\n",
       "      <th>11</th>\n",
       "      <td>0</td>\n",
       "      <td>206.0</td>\n",
       "      <td>306.0</td>\n",
       "      <td>45.26</td>\n",
       "      <td>9.41</td>\n",
       "      <td>10</td>\n",
       "    </tr>\n",
       "    <tr>\n",
       "      <th>12</th>\n",
       "      <td>0</td>\n",
       "      <td>205.0</td>\n",
       "      <td>306.0</td>\n",
       "      <td>49.37</td>\n",
       "      <td>9.59</td>\n",
       "      <td>11</td>\n",
       "    </tr>\n",
       "    <tr>\n",
       "      <th>13</th>\n",
       "      <td>0</td>\n",
       "      <td>204.0</td>\n",
       "      <td>306.0</td>\n",
       "      <td>53.49</td>\n",
       "      <td>9.67</td>\n",
       "      <td>12</td>\n",
       "    </tr>\n",
       "    <tr>\n",
       "      <th>14</th>\n",
       "      <td>0</td>\n",
       "      <td>204.0</td>\n",
       "      <td>306.0</td>\n",
       "      <td>57.60</td>\n",
       "      <td>9.77</td>\n",
       "      <td>13</td>\n",
       "    </tr>\n",
       "    <tr>\n",
       "      <th>15</th>\n",
       "      <td>0</td>\n",
       "      <td>203.0</td>\n",
       "      <td>306.0</td>\n",
       "      <td>61.71</td>\n",
       "      <td>9.79</td>\n",
       "      <td>14</td>\n",
       "    </tr>\n",
       "    <tr>\n",
       "      <th>16</th>\n",
       "      <td>0</td>\n",
       "      <td>203.0</td>\n",
       "      <td>306.0</td>\n",
       "      <td>65.83</td>\n",
       "      <td>9.72</td>\n",
       "      <td>15</td>\n",
       "    </tr>\n",
       "    <tr>\n",
       "      <th>17</th>\n",
       "      <td>0</td>\n",
       "      <td>202.0</td>\n",
       "      <td>306.0</td>\n",
       "      <td>69.94</td>\n",
       "      <td>9.87</td>\n",
       "      <td>16</td>\n",
       "    </tr>\n",
       "    <tr>\n",
       "      <th>18</th>\n",
       "      <td>0</td>\n",
       "      <td>202.0</td>\n",
       "      <td>305.0</td>\n",
       "      <td>74.06</td>\n",
       "      <td>10.01</td>\n",
       "      <td>17</td>\n",
       "    </tr>\n",
       "    <tr>\n",
       "      <th>19</th>\n",
       "      <td>0</td>\n",
       "      <td>201.0</td>\n",
       "      <td>305.0</td>\n",
       "      <td>78.17</td>\n",
       "      <td>10.20</td>\n",
       "      <td>18</td>\n",
       "    </tr>\n",
       "    <tr>\n",
       "      <th>20</th>\n",
       "      <td>0</td>\n",
       "      <td>201.0</td>\n",
       "      <td>304.0</td>\n",
       "      <td>82.29</td>\n",
       "      <td>10.01</td>\n",
       "      <td>19</td>\n",
       "    </tr>\n",
       "  </tbody>\n",
       "</table>\n",
       "</div>"
      ],
      "text/plain": [
       "    vessel_id      x      y      z  undefined  last_id\n",
       "1           0  217.0  305.0   4.11       8.29        0\n",
       "2           0  216.0  305.0   8.23       8.76        1\n",
       "3           0  215.0  305.0  12.34       8.79        2\n",
       "4           0  213.0  305.0  16.46       9.20        3\n",
       "5           0  212.0  305.0  20.57       9.10        4\n",
       "6           0  211.0  305.0  24.69       9.15        5\n",
       "7           0  211.0  305.0  28.80       9.08        6\n",
       "8           0  210.0  305.0  32.91       9.15        7\n",
       "9           0  208.0  306.0  37.03       9.18        8\n",
       "10          0  207.0  306.0  41.14       9.30        9\n",
       "11          0  206.0  306.0  45.26       9.41       10\n",
       "12          0  205.0  306.0  49.37       9.59       11\n",
       "13          0  204.0  306.0  53.49       9.67       12\n",
       "14          0  204.0  306.0  57.60       9.77       13\n",
       "15          0  203.0  306.0  61.71       9.79       14\n",
       "16          0  203.0  306.0  65.83       9.72       15\n",
       "17          0  202.0  306.0  69.94       9.87       16\n",
       "18          0  202.0  305.0  74.06      10.01       17\n",
       "19          0  201.0  305.0  78.17      10.20       18\n",
       "20          0  201.0  304.0  82.29      10.01       19"
      ]
     },
     "execution_count": 9,
     "metadata": {},
     "output_type": "execute_result"
    }
   ],
   "source": [
    "case = caselist[0]\n",
    "df1, line1 = get_centerline(case['pid'], case['TP'][0], case['side'])\n",
    "df1.head(20)\n",
    "df2, line2 = get_centerline(case['pid'], case['TP'][1], case['side'])\n",
    "df2.head(20)"
   ]
  },
  {
   "cell_type": "code",
   "execution_count": 10,
   "metadata": {},
   "outputs": [],
   "source": [
    "regtp = case['TP']\n",
    "tp2 = regtp[1]\n",
    "if tp2==10:\n",
    "    SEQ = 'S109'\n",
    "else:\n",
    "    SEQ = 'S10'+str(tp2)\n",
    "affine = sitk.ReadTransform(transform_path + 'P'+  case['pid'] + case['side'] + 'U' + SEQ + '.tfm')"
   ]
  },
  {
   "cell_type": "code",
   "execution_count": 11,
   "metadata": {},
   "outputs": [],
   "source": [
    "points = []\n",
    "for i in range(line1.shape[0]):\n",
    "    tmp_point = affine.TransformPoint((line1[i][0], line1[i][1], i))\n",
    "    points.append(tmp_point)\n",
    "ans = np.array(points)\n",
    "ans[:,2] = np.round(ans[:,2])"
   ]
  },
  {
   "cell_type": "code",
   "execution_count": 12,
   "metadata": {},
   "outputs": [],
   "source": [
    "dx, dy = [], []\n",
    "for i in range(ans.shape[0]):\n",
    "    if int(ans[i][2]) >= 75:\n",
    "        break\n",
    "    dx.append(ans[i][0] - line2[int(ans[i][2])][0])\n",
    "    dy.append(ans[i][1] - line2[int(ans[i][2])][1])\n",
    "dx = np.array(dx)\n",
    "dy = np.array(dy)"
   ]
  },
  {
   "cell_type": "code",
   "execution_count": 13,
   "metadata": {},
   "outputs": [],
   "source": [
    "displacement_image = sitk.Image([384,384,dx.shape[0]], sitk.sitkVectorFloat64)\n",
    "# The only point that has any displacement is (0,0)\n",
    "for i in range(dx.shape[0]):\n",
    "    displacement = (-dx[i],-dy[i],0)\n",
    "    for j in range(384):\n",
    "        for k in range(384):\n",
    "            displacement_image[j,k,i] = displacement\n",
    "\n",
    "displacement_field_transform = sitk.DisplacementFieldTransform(displacement_image)"
   ]
  },
  {
   "cell_type": "code",
   "execution_count": 14,
   "metadata": {},
   "outputs": [],
   "source": [
    "pi = case['pid']\n",
    "side = case['side']\n",
    "precasepath = split_seq_path + pi + side + '/'\n",
    "regtp = case['TP']\n",
    "tp1, tp2 = regtp[0], regtp[1]\n",
    "tp1_casepath = precasepath + 'TP0/'\n",
    "fixed_image = get_dicom_series(tp1_casepath)\n",
    "\n",
    "icafesavepath = icafepath+'0_P'+pi+side+'_U'+'/'\n",
    "tp2_casepath = precasepath + 'TP' + str(tp2) + '/'\n",
    "\n",
    "moving_image = get_dicom_series(tp2_casepath)\n",
    "fixed_image = empty_preprocess(fixed_image)\n",
    "moving_image = empty_preprocess(moving_image)"
   ]
  },
  {
   "cell_type": "code",
   "execution_count": 15,
   "metadata": {},
   "outputs": [
    {
     "data": {
      "application/vnd.jupyter.widget-view+json": {
       "model_id": "7f7a00a4e4974a4bb184642e3a366c4b",
       "version_major": 2,
       "version_minor": 0
      },
      "text/plain": [
       "interactive(children=(IntSlider(value=37, description='image_z', max=74), FloatSlider(value=0.5, description='…"
      ]
     },
     "metadata": {},
     "output_type": "display_data"
    }
   ],
   "source": [
    "resampled = transform_img(fixed_image, moving_image, affine)\n",
    "show_mixed_images(fixed_image, resampled)"
   ]
  },
  {
   "cell_type": "code",
   "execution_count": 16,
   "metadata": {},
   "outputs": [
    {
     "data": {
      "application/vnd.jupyter.widget-view+json": {
       "model_id": "d1a3194e25884d43ae28afaa9beee4ce",
       "version_major": 2,
       "version_minor": 0
      },
      "text/plain": [
       "interactive(children=(IntSlider(value=37, description='image_z', max=74), FloatSlider(value=0.5, description='…"
      ]
     },
     "metadata": {},
     "output_type": "display_data"
    }
   ],
   "source": [
    "resampled2 = transform_img(fixed_image, resampled, displacement_field_transform)\n",
    "show_mixed_images(fixed_image, resampled2)"
   ]
  },
  {
   "cell_type": "code",
   "execution_count": null,
   "metadata": {},
   "outputs": [],
   "source": []
  },
  {
   "cell_type": "code",
   "execution_count": null,
   "metadata": {},
   "outputs": [],
   "source": []
  },
  {
   "cell_type": "code",
   "execution_count": null,
   "metadata": {},
   "outputs": [],
   "source": []
  },
  {
   "cell_type": "code",
   "execution_count": null,
   "metadata": {},
   "outputs": [],
   "source": []
  },
  {
   "cell_type": "code",
   "execution_count": null,
   "metadata": {},
   "outputs": [],
   "source": []
  },
  {
   "cell_type": "code",
   "execution_count": 28,
   "metadata": {},
   "outputs": [],
   "source": [
    "# def our_pipeline(casei):\n",
    "#     pi = casei['pid']\n",
    "#     side = casei['side']\n",
    "#     precasepath = split_seq_path + pi + side + '/'\n",
    "#     regtp = casei['TP']\n",
    "#     if len(regtp) < 2:\n",
    "#         print(pi, 'not enough TPs')\n",
    "#         return\n",
    "#     tp1 = regtp[0]\n",
    "#     print(\"Fixed Image %d\" % tp1)\n",
    "#     tp1_casepath = precasepath + 'TP0/'\n",
    "#     fixed_image = get_dicom_series(tp1_casepath)\n",
    "    \n",
    "#     icafesavepath = icafepath+'0_P'+pi+side+'_U'+'/'\n",
    "#     if not os.path.exists(icafesavepath):\n",
    "#         print('Init icafe dir')\n",
    "#         os.mkdir(icafesavepath)\n",
    "    \n",
    "#     # isotropic resolution\n",
    "    \n",
    "#     fixed_image = resample_image(fixed_image)\n",
    "#     img1 = fixed_image\n",
    "#     sitk.WriteImage(sitk.Cast(fixed_image, sitk.sitkInt16), icafesavepath + 'TH_0_P' + pi + side + '_U.tif')\n",
    "#     print('save to icafe path', icafesavepath + 'TH_0_P' + pi + side + '_U.tif')\n",
    "#     sitk.WriteImage(sitk.Cast(fixed_image, sitk.sitkInt16), icafesavepath + 'TH_0_P'+  pi + side + '_US100.tif')\n",
    "#     print('save to icafe path', icafesavepath + 'TH_0_P' + pi + side + '_US100.tif')\n",
    "    \n",
    "# #     fixed_image = img1\n",
    "#     fixed_image = preprocess(img1)\n",
    "#     fixed_ret, resampled_ret = [], []\n",
    "#     for tp2 in regtp[1:3]:\n",
    "#         #if tp2 != 1: continue\n",
    "#         print(\"************************************************\")\n",
    "#         print(\"Processing %d...\" % tp2)\n",
    "#         tp2_casepath = getdcmpath(pi,tp2,side) \n",
    "#         if tp2_casepath is None:\n",
    "#             print('cannot find dcm path for TPid', tp2)\n",
    "#             continue\n",
    "        \n",
    "#         tp2_casepath = precasepath + 'TP' + str(tp2) + '/'\n",
    "#         print(\"reading image......\", pi + 'TP' + str(tp2))\n",
    "#         moving_image = get_dicom_series(tp2_casepath)\n",
    "#         img2 = resample_image(moving_image)\n",
    "#         moving_image = preprocess(img2)\n",
    "        \n",
    "#         if tp2 <=8:\n",
    "#             transform = rigid_registration(fixed_image, moving_image, vis=False)\n",
    "#             img2 = sitk.Resample(empty_preprocess(img2), empty_preprocess(img1), transform, sitk.sitkBSpline, 0.0, empty_preprocess(img2).GetPixelID())\n",
    "#             moving_image = sitk.Resample(moving_image, fixed_image, transform, sitk.sitkBSpline, 0.0, moving_image.GetPixelID())\n",
    "        \n",
    "#         ffd_transform = bspline_intra_modal_registration(fixed_image, moving_image, vis=False)\n",
    "#         exqimg = sitk.Resample(empty_preprocess(img2), empty_preprocess(img1), ffd_transform, sitk.sitkBSpline, 0.0, empty_preprocess(img2).GetPixelID())\n",
    "#         tmp_img = exqimg\n",
    "        \n",
    "#         if tp2==10:\n",
    "#             SEQ = 'S109'\n",
    "#         else:\n",
    "#             SEQ = 'S10'+str(tp2)\n",
    "# #         exqimg = resample_image(exqimg)\n",
    "#         sitk.WriteImage(sitk.Cast(exqimg, sitk.sitkInt16), icafesavepath + 'TH_0_P'+  pi + side + '_U' + SEQ + '.tif')\n",
    "#         print('save to icafe path', icafesavepath + 'TH_0_P' + pi + side + '_U' + SEQ + '.tif')\n",
    "#         fixed_ret.append(empty_preprocess(img1))\n",
    "#         resampled_ret.append(empty_preprocess(tmp_img))\n",
    "#     return fixed_ret, resampled_ret"
   ]
  },
  {
   "cell_type": "code",
   "execution_count": 28,
   "metadata": {},
   "outputs": [],
   "source": [
    "# for casei in caselist:\n",
    "#     our_pipeline(casei)"
   ]
  },
  {
   "cell_type": "code",
   "execution_count": null,
   "metadata": {},
   "outputs": [],
   "source": []
  }
 ],
 "metadata": {
  "kernelspec": {
   "display_name": "Python [conda env:OAIreg] *",
   "language": "python",
   "name": "conda-env-OAIreg-py"
  },
  "language_info": {
   "codemirror_mode": {
    "name": "ipython",
    "version": 3
   },
   "file_extension": ".py",
   "mimetype": "text/x-python",
   "name": "python",
   "nbconvert_exporter": "python",
   "pygments_lexer": "ipython3",
   "version": "3.7.7"
  }
 },
 "nbformat": 4,
 "nbformat_minor": 2
}
