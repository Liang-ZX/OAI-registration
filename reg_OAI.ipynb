{
 "cells": [
  {
   "cell_type": "code",
   "execution_count": 1,
   "metadata": {},
   "outputs": [
    {
     "data": {
      "text/plain": [
       "'win32'"
      ]
     },
     "execution_count": 1,
     "metadata": {},
     "output_type": "execute_result"
    }
   ],
   "source": [
    "import pydicom\n",
    "import os,re\n",
    "import numpy as np\n",
    "import shutil\n",
    "import matplotlib.pyplot as plt\n",
    "%matplotlib inline\n",
    "import cv2\n",
    "from pydicom.dataset import Dataset, FileDataset\n",
    "import tempfile\n",
    "import SimpleITK as sitk\n",
    "import math\n",
    "from ipywidgets import interact, fixed\n",
    "from skimage.transform import resize\n",
    "from IPython.display import clear_output\n",
    "from scipy.ndimage import zoom\n",
    "import scipy.misc\n",
    "from sys import platform\n",
    "import shutil\n",
    "\n",
    "from MyProcessDicom import *\n",
    "from RegistrationMethod import *\n",
    "from ServerDicomIO import *\n",
    "platform"
   ]
  },
  {
   "cell_type": "code",
   "execution_count": 2,
   "metadata": {
    "scrolled": true
   },
   "outputs": [],
   "source": [
    "import importlib\n",
    "import sys\n",
    "sys.path.append(r'..\\FRAPPE')\n",
    "import DB\n",
    "importlib.reload(DB)\n",
    "from DB import DB\n",
    "\n",
    "# process list\n",
    "# first in TP as reference\n",
    "caselist = [\n",
    "    {'pid': '9404954','TP':[0,1,2,3,4,5,6,8,10],'side':'L'}\n",
    "]\n",
    "\n",
    "# getdcmpath('9911265',0,'L'),getdcmpath('9911265',1,'R'),getdcmpath('9911265',8,'R')"
   ]
  },
  {
   "cell_type": "code",
   "execution_count": 3,
   "metadata": {},
   "outputs": [
    {
     "name": "stdout",
     "output_type": "stream",
     "text": [
      "********  tp 0 ************\n",
      "ahaknee0tp29  exist\n",
      "dcm path for TPid 0 Z:/OAI Baseline/gc0/9404954/10728107\n"
     ]
    },
    {
     "ename": "FileNotFoundError",
     "evalue": "[WinError 53] The network path was not found: 'Z:/OAI Baseline/gc0/9404954/10728107'",
     "output_type": "error",
     "traceback": [
      "\u001b[1;31m---------------------------------------------------------------------------\u001b[0m",
      "\u001b[1;31mFileNotFoundError\u001b[0m                         Traceback (most recent call last)",
      "\u001b[1;32m<ipython-input-3-4cf2a6af299e>\u001b[0m in \u001b[0;36m<module>\u001b[1;34m\u001b[0m\n\u001b[0;32m      1\u001b[0m \u001b[1;31m#split seqs for a case\u001b[0m\u001b[1;33m\u001b[0m\u001b[1;33m\u001b[0m\u001b[1;33m\u001b[0m\u001b[0m\n\u001b[1;32m----> 2\u001b[1;33m \u001b[0mgetFileFromDB\u001b[0m\u001b[1;33m(\u001b[0m\u001b[0mcaselist\u001b[0m\u001b[1;33m)\u001b[0m\u001b[1;33m\u001b[0m\u001b[1;33m\u001b[0m\u001b[0m\n\u001b[0m",
      "\u001b[1;32mC:\\Zhixuan\\OAI-registration\\ServerDicomIO.py\u001b[0m in \u001b[0;36mgetFileFromDB\u001b[1;34m(caselist)\u001b[0m\n\u001b[0;32m     83\u001b[0m                     \u001b[0mos\u001b[0m\u001b[1;33m.\u001b[0m\u001b[0mmkdir\u001b[0m\u001b[1;33m(\u001b[0m\u001b[0mtp_precasepath\u001b[0m\u001b[1;33m)\u001b[0m\u001b[1;33m\u001b[0m\u001b[1;33m\u001b[0m\u001b[0m\n\u001b[0;32m     84\u001b[0m \u001b[1;33m\u001b[0m\u001b[0m\n\u001b[1;32m---> 85\u001b[1;33m                 \u001b[0mfilelist\u001b[0m \u001b[1;33m=\u001b[0m \u001b[0mos\u001b[0m\u001b[1;33m.\u001b[0m\u001b[0mlistdir\u001b[0m\u001b[1;33m(\u001b[0m\u001b[0mcasepath\u001b[0m\u001b[1;33m)\u001b[0m\u001b[1;33m\u001b[0m\u001b[1;33m\u001b[0m\u001b[0m\n\u001b[0m\u001b[0;32m     86\u001b[0m                 \u001b[1;32mfor\u001b[0m \u001b[0mf\u001b[0m \u001b[1;32min\u001b[0m \u001b[0mfilelist\u001b[0m\u001b[1;33m:\u001b[0m\u001b[1;33m\u001b[0m\u001b[1;33m\u001b[0m\u001b[0m\n\u001b[0;32m     87\u001b[0m                     \u001b[1;32mif\u001b[0m \u001b[1;33m(\u001b[0m\u001b[1;34m'.dcm'\u001b[0m\u001b[1;33m)\u001b[0m \u001b[1;32mnot\u001b[0m \u001b[1;32min\u001b[0m \u001b[0mf\u001b[0m\u001b[1;33m:\u001b[0m\u001b[1;33m\u001b[0m\u001b[1;33m\u001b[0m\u001b[0m\n",
      "\u001b[1;31mFileNotFoundError\u001b[0m: [WinError 53] The network path was not found: 'Z:/OAI Baseline/gc0/9404954/10728107'"
     ]
    }
   ],
   "source": [
    "#split seqs for a case\n",
    "getFileFromDB(caselist)"
   ]
  },
  {
   "cell_type": "code",
   "execution_count": 4,
   "metadata": {},
   "outputs": [],
   "source": [
    "def do_registration(casei, regis_fun):\n",
    "    pi = casei['pid']\n",
    "    side = casei['side']\n",
    "    precasepath = split_seq_path + pi + side + '/'\n",
    "    regtp = casei['TP']\n",
    "    if len(regtp) < 2:\n",
    "        print(pi, 'not enough TPs')\n",
    "        return\n",
    "    tp1 = regtp[0]\n",
    "    print(\"Fixed Image %d\" % tp1)\n",
    "    tp1_casepath = precasepath + 'TP0/'\n",
    "    fixed_image = get_dicom_series(tp1_casepath)\n",
    "    \n",
    "    icafesavepath = icafepath+'0_P'+pi+side+'_U'+'/'\n",
    "    if not os.path.exists(icafesavepath):\n",
    "        print('Init icafe dir')\n",
    "        os.mkdir(icafesavepath)\n",
    "    \n",
    "    # isotropic resolution\n",
    "    img1 = resample_image(fixed_image)\n",
    "    sitk.WriteImage(sitk.Cast(img1, sitk.sitkInt16), icafesavepath + 'TH_0_P' + pi + side + '_U.tif')\n",
    "    print('save to icafe path', icafesavepath + 'TH_0_P' + pi + side + '_U.tif')\n",
    "    sitk.WriteImage(sitk.Cast(img1, sitk.sitkInt16), icafesavepath + 'TH_0_P'+  pi + side + '_US100.tif')\n",
    "    print('save to icafe path', icafesavepath + 'TH_0_P' + pi + side + '_US100.tif')\n",
    "    \n",
    "    fixed_ret, resampled_ret = [], []\n",
    "    for tp2 in regtp[1:]:\n",
    "        #if tp2 != 1: continue\n",
    "        print(\"************************************************\")\n",
    "        print(\"Processing %d......\" % tp2)\n",
    "        tp2_casepath = getdcmpath(pi,tp2,side)\n",
    "        if tp2_casepath is None:\n",
    "            print('cannot find dcm path for TPid', tp2)\n",
    "            continue\n",
    "        \n",
    "        tp2_casepath = precasepath + 'TP' + str(tp2) + '/'\n",
    "        print(\"reading image......\", pi + 'TP' + str(tp2))\n",
    "        moving_image = get_dicom_series(tp2_casepath)\n",
    "        fixed_image = preprocess(fixed_image)\n",
    "        moving_image = preprocess(moving_image)\n",
    "        show_images(fixed_image, moving_image)\n",
    "        \n",
    "        transform = regis_fun(fixed_image, moving_image)\n",
    "        if tp2==10:\n",
    "            SEQ = 'S109'\n",
    "        else:\n",
    "            SEQ = 'S10'+str(tp2)\n",
    "        sitk.WriteTransform(transform, transform_path + 'P'+  pi + side + 'U' + SEQ + '.tfm')\n",
    "        tmp_img = transform_img(fixed_image, moving_image, transform)\n",
    "\n",
    "#         sitk.WriteImage(sitk.Cast(exqimg, sitk.sitkInt16), icafesavepath + 'TH_0_P'+  pi + side + '_U' + SEQ + '.tif')\n",
    "#         print('save to icafe path', icafesavepath + 'TH_0_P' + pi + side + '_U' + SEQ + '.tif')\n",
    "        fixed_ret.append(fixed_image)\n",
    "        resampled_ret.append(tmp_img)\n",
    "    return fixed_ret, resampled_ret"
   ]
  },
  {
   "cell_type": "code",
   "execution_count": 5,
   "metadata": {},
   "outputs": [
    {
     "data": {
      "text/plain": [
       "[0, 1, 2, 3, 4, 5, 6, 8, 10]"
      ]
     },
     "execution_count": 5,
     "metadata": {},
     "output_type": "execute_result"
    }
   ],
   "source": [
    "caselist[0]['TP']"
   ]
  },
  {
   "cell_type": "code",
   "execution_count": 6,
   "metadata": {},
   "outputs": [
    {
     "name": "stdout",
     "output_type": "stream",
     "text": [
      "Fixed Image 0\n",
      "coronal split_seq_OAI/9404954L/TP0/001.dcm\n",
      "Init icafe dir\n"
     ]
    },
    {
     "ename": "FileNotFoundError",
     "evalue": "[WinError 53] The network path was not found: 'Y:/iCafe/result/OAIMTP/0_P9404954L_U/'",
     "output_type": "error",
     "traceback": [
      "\u001b[1;31m---------------------------------------------------------------------------\u001b[0m",
      "\u001b[1;31mFileNotFoundError\u001b[0m                         Traceback (most recent call last)",
      "\u001b[1;32m<ipython-input-6-c58bcc538244>\u001b[0m in \u001b[0;36m<module>\u001b[1;34m\u001b[0m\n\u001b[0;32m      1\u001b[0m \u001b[1;32mfor\u001b[0m \u001b[0mcasei\u001b[0m \u001b[1;32min\u001b[0m \u001b[0mcaselist\u001b[0m\u001b[1;33m:\u001b[0m\u001b[1;33m\u001b[0m\u001b[1;33m\u001b[0m\u001b[0m\n\u001b[1;32m----> 2\u001b[1;33m     \u001b[0mret\u001b[0m \u001b[1;33m=\u001b[0m \u001b[0mdo_registration\u001b[0m\u001b[1;33m(\u001b[0m\u001b[0mcasei\u001b[0m\u001b[1;33m,\u001b[0m \u001b[0maffine_registration\u001b[0m\u001b[1;33m)\u001b[0m\u001b[1;33m\u001b[0m\u001b[1;33m\u001b[0m\u001b[0m\n\u001b[0m\u001b[0;32m      3\u001b[0m \u001b[1;31m#     if ret is not None:\u001b[0m\u001b[1;33m\u001b[0m\u001b[1;33m\u001b[0m\u001b[1;33m\u001b[0m\u001b[0m\n\u001b[0;32m      4\u001b[0m \u001b[1;31m#         fixed_image, moving_resampled = ret\u001b[0m\u001b[1;33m\u001b[0m\u001b[1;33m\u001b[0m\u001b[1;33m\u001b[0m\u001b[0m\n\u001b[0;32m      5\u001b[0m \u001b[1;31m#         interact(display_images_with_alpha, image_z=(0,fixed_image.GetSize()[2] - 1), alpha=(0.0,1.0,0.05),\u001b[0m\u001b[1;33m\u001b[0m\u001b[1;33m\u001b[0m\u001b[1;33m\u001b[0m\u001b[0m\n",
      "\u001b[1;32m<ipython-input-4-6351ce6286d0>\u001b[0m in \u001b[0;36mdo_registration\u001b[1;34m(casei, regis_fun)\u001b[0m\n\u001b[0;32m     15\u001b[0m     \u001b[1;32mif\u001b[0m \u001b[1;32mnot\u001b[0m \u001b[0mos\u001b[0m\u001b[1;33m.\u001b[0m\u001b[0mpath\u001b[0m\u001b[1;33m.\u001b[0m\u001b[0mexists\u001b[0m\u001b[1;33m(\u001b[0m\u001b[0micafesavepath\u001b[0m\u001b[1;33m)\u001b[0m\u001b[1;33m:\u001b[0m\u001b[1;33m\u001b[0m\u001b[1;33m\u001b[0m\u001b[0m\n\u001b[0;32m     16\u001b[0m         \u001b[0mprint\u001b[0m\u001b[1;33m(\u001b[0m\u001b[1;34m'Init icafe dir'\u001b[0m\u001b[1;33m)\u001b[0m\u001b[1;33m\u001b[0m\u001b[1;33m\u001b[0m\u001b[0m\n\u001b[1;32m---> 17\u001b[1;33m         \u001b[0mos\u001b[0m\u001b[1;33m.\u001b[0m\u001b[0mmkdir\u001b[0m\u001b[1;33m(\u001b[0m\u001b[0micafesavepath\u001b[0m\u001b[1;33m)\u001b[0m\u001b[1;33m\u001b[0m\u001b[1;33m\u001b[0m\u001b[0m\n\u001b[0m\u001b[0;32m     18\u001b[0m \u001b[1;33m\u001b[0m\u001b[0m\n\u001b[0;32m     19\u001b[0m     \u001b[1;31m# isotropic resolution\u001b[0m\u001b[1;33m\u001b[0m\u001b[1;33m\u001b[0m\u001b[1;33m\u001b[0m\u001b[0m\n",
      "\u001b[1;31mFileNotFoundError\u001b[0m: [WinError 53] The network path was not found: 'Y:/iCafe/result/OAIMTP/0_P9404954L_U/'"
     ]
    }
   ],
   "source": [
    "for casei in caselist:\n",
    "    ret = do_registration(casei, affine_registration)\n",
    "#     if ret is not None:\n",
    "#         fixed_image, moving_resampled = ret\n",
    "#         interact(display_images_with_alpha, image_z=(0,fixed_image.GetSize()[2] - 1), alpha=(0.0,1.0,0.05), \n",
    "#                  fixed = fixed(fixed_image), moving=fixed(moving_resampled));"
   ]
  },
  {
   "cell_type": "code",
   "execution_count": 23,
   "metadata": {},
   "outputs": [
    {
     "data": {
      "application/vnd.jupyter.widget-view+json": {
       "model_id": "88a0f950dc2a4e5abb23c22e7f8ff1f8",
       "version_major": 2,
       "version_minor": 0
      },
      "text/plain": [
       "interactive(children=(IntSlider(value=37, description='image_z', max=74), FloatSlider(value=0.5, description='…"
      ]
     },
     "metadata": {},
     "output_type": "display_data"
    }
   ],
   "source": [
    "show_mixed_images()"
   ]
  },
  {
   "cell_type": "code",
   "execution_count": 28,
   "metadata": {},
   "outputs": [],
   "source": [
    "def our_pipeline(casei):\n",
    "    pi = casei['pid']\n",
    "    side = casei['side']\n",
    "    precasepath = split_seq_path + pi + side + '/'\n",
    "    regtp = casei['TP']\n",
    "    if len(regtp) < 2:\n",
    "        print(pi, 'not enough TPs')\n",
    "        return\n",
    "    tp1 = regtp[0]\n",
    "    print(\"Fixed Image %d\" % tp1)\n",
    "    tp1_casepath = precasepath + 'TP0/'\n",
    "    fixed_image = get_dicom_series(tp1_casepath)\n",
    "    \n",
    "    icafesavepath = icafepath+'0_P'+pi+side+'_U'+'/'\n",
    "    if not os.path.exists(icafesavepath):\n",
    "        print('Init icafe dir')\n",
    "        os.mkdir(icafesavepath)\n",
    "    \n",
    "    # isotropic resolution\n",
    "    \n",
    "    fixed_image = resample_image(fixed_image)\n",
    "    img1 = fixed_image\n",
    "    sitk.WriteImage(sitk.Cast(fixed_image, sitk.sitkInt16), icafesavepath + 'TH_0_P' + pi + side + '_U.tif')\n",
    "    print('save to icafe path', icafesavepath + 'TH_0_P' + pi + side + '_U.tif')\n",
    "    sitk.WriteImage(sitk.Cast(fixed_image, sitk.sitkInt16), icafesavepath + 'TH_0_P'+  pi + side + '_US100.tif')\n",
    "    print('save to icafe path', icafesavepath + 'TH_0_P' + pi + side + '_US100.tif')\n",
    "    \n",
    "#     fixed_image = img1\n",
    "    fixed_image = preprocess(img1)\n",
    "    fixed_ret, resampled_ret = [], []\n",
    "    for tp2 in regtp[1:3]:\n",
    "        #if tp2 != 1: continue\n",
    "        print(\"************************************************\")\n",
    "        print(\"Processing %d...\" % tp2)\n",
    "        tp2_casepath = getdcmpath(pi,tp2,side) \n",
    "        if tp2_casepath is None:\n",
    "            print('cannot find dcm path for TPid', tp2)\n",
    "            continue\n",
    "        \n",
    "        tp2_casepath = precasepath + 'TP' + str(tp2) + '/'\n",
    "        print(\"reading image......\", pi + 'TP' + str(tp2))\n",
    "        moving_image = get_dicom_series(tp2_casepath)\n",
    "        img2 = resample_image(moving_image)\n",
    "        moving_image = preprocess(img2)\n",
    "        \n",
    "        if tp2 <=8:\n",
    "            transform = rigid_registration(fixed_image, moving_image, vis=False)\n",
    "            img2 = sitk.Resample(empty_preprocess(img2), empty_preprocess(img1), transform, sitk.sitkBSpline, 0.0, empty_preprocess(img2).GetPixelID())\n",
    "            moving_image = sitk.Resample(moving_image, fixed_image, transform, sitk.sitkBSpline, 0.0, moving_image.GetPixelID())\n",
    "        \n",
    "        ffd_transform = bspline_intra_modal_registration(fixed_image, moving_image, vis=False)\n",
    "        exqimg = sitk.Resample(empty_preprocess(img2), empty_preprocess(img1), ffd_transform, sitk.sitkBSpline, 0.0, empty_preprocess(img2).GetPixelID())\n",
    "        tmp_img = exqimg\n",
    "        \n",
    "        if tp2==10:\n",
    "            SEQ = 'S109'\n",
    "        else:\n",
    "            SEQ = 'S10'+str(tp2)\n",
    "#         exqimg = resample_image(exqimg)\n",
    "        sitk.WriteImage(sitk.Cast(exqimg, sitk.sitkInt16), icafesavepath + 'TH_0_P'+  pi + side + '_U' + SEQ + '.tif')\n",
    "        print('save to icafe path', icafesavepath + 'TH_0_P' + pi + side + '_U' + SEQ + '.tif')\n",
    "        fixed_ret.append(empty_preprocess(img1))\n",
    "        resampled_ret.append(empty_preprocess(tmp_img))\n",
    "    return fixed_ret, resampled_ret"
   ]
  },
  {
   "cell_type": "code",
   "execution_count": 29,
   "metadata": {},
   "outputs": [
    {
     "name": "stdout",
     "output_type": "stream",
     "text": [
      "Fixed Image 0\n",
      "[384 384  75] [384, 384, 309]\n",
      "save to icafe path Z:/iCafe/result/OAIMTP/0_P9404954L_U/TH_0_P9404954L_U.tif\n",
      "save to icafe path Z:/iCafe/result/OAIMTP/0_P9404954L_U/TH_0_P9404954L_US100.tif\n",
      "************************************************\n",
      "Processing 1...\n",
      "ahaknee12tp29  exist\n",
      "reading image...... 9404954TP1\n",
      "[384 384  75] [384, 384, 309]\n",
      "Final metric value: 7153.610634321483\n",
      "Optimizer's stopping condition, GradientDescentOptimizerv4Template: Convergence checker passed at iteration 58.\n",
      "Final metric value: 2546.996866561506\n",
      "Optimizer's stopping condition, LBFGSBOptimizerv4: User requested\n",
      "save to icafe path Z:/iCafe/result/OAIMTP/0_P9404954L_U/TH_0_P9404954L_US101.tif\n",
      "************************************************\n",
      "Processing 2...\n",
      "ahaknee18tp29  exist\n",
      "cannot find dcm path for TPid 2\n"
     ]
    }
   ],
   "source": [
    "for casei in caselist:\n",
    "    our_pipeline(casei)"
   ]
  },
  {
   "cell_type": "code",
   "execution_count": null,
   "metadata": {},
   "outputs": [],
   "source": []
  }
 ],
 "metadata": {
  "kernelspec": {
   "display_name": "Python [conda env:OAIreg] *",
   "language": "python",
   "name": "conda-env-OAIreg-py"
  },
  "language_info": {
   "codemirror_mode": {
    "name": "ipython",
    "version": 3
   },
   "file_extension": ".py",
   "mimetype": "text/x-python",
   "name": "python",
   "nbconvert_exporter": "python",
   "pygments_lexer": "ipython3",
   "version": "3.7.7"
  }
 },
 "nbformat": 4,
 "nbformat_minor": 2
}
