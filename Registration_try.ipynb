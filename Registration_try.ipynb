{
 "cells": [
  {
   "cell_type": "code",
   "execution_count": 1,
   "metadata": {},
   "outputs": [],
   "source": [
    "import pydicom\n",
    "import os,re\n",
    "import numpy as np\n",
    "import pandas as pd\n",
    "import shutil\n",
    "import matplotlib.pyplot as plt\n",
    "%matplotlib inline\n",
    "import SimpleITK as sitk\n",
    "from IPython.display import clear_output\n",
    "import math\n",
    "import sys\n",
    "\n",
    "from ipywidgets import interact, fixed\n",
    "from IPython.display import clear_output\n",
    "import registration_utilities as ru\n",
    "import registration_callbacks as rc\n",
    "\n",
    "import cv2"
   ]
  },
  {
   "cell_type": "code",
   "execution_count": 2,
   "metadata": {},
   "outputs": [
    {
     "name": "stdout",
     "output_type": "stream",
     "text": [
      "Functions successfully defined.\n"
     ]
    }
   ],
   "source": [
    "p=256 #for dicom scaling\n",
    "ESP=0.1 #for dicom scaling\n",
    "\n",
    "def display_images(fixed_image_z, moving_image_z, fixed_npa, moving_npa):\n",
    "    # Create a figure with two subplots and the specified size.\n",
    "    plt.subplots(1,2,figsize=(10,8))\n",
    "    \n",
    "    # Draw the fixed image in the first subplot.\n",
    "    plt.subplot(1,2,1)\n",
    "    plt.imshow(fixed_npa[fixed_image_z,:,:],cmap=plt.cm.Greys_r);\n",
    "    plt.title('fixed image')\n",
    "    plt.axis('off')\n",
    "    \n",
    "    # Draw the moving image in the second subplot.\n",
    "    plt.subplot(1,2,2)\n",
    "    plt.imshow(moving_npa[moving_image_z,:,:],cmap=plt.cm.Greys_r);\n",
    "    plt.title('moving image')\n",
    "    plt.axis('off')\n",
    "    \n",
    "    plt.show()\n",
    "\n",
    "# Callback invoked by the IPython interact method for scrolling and modifying the alpha blending\n",
    "# of an image stack of two images that occupy the same physical space. \n",
    "def display_images_with_alpha(image_z, alpha, fixed, moving):\n",
    "    # img = (1.0 - alpha)*fixed[:,:,image_z] + alpha*moving[:,:,image_z]\n",
    "    fixed = sitk.GetArrayFromImage(fixed)\n",
    "    moving = sitk.GetArrayFromImage(moving)\n",
    "    dst = cv2.addWeighted(fixed[image_z,:,:],1.0-alpha,moving[image_z,:,:],alpha,0)\n",
    "    plt.imshow(dst, cmap=plt.cm.Greys_r)\n",
    "    # plt.imshow(sitk.GetArrayViewFromImage(img),cmap=plt.cm.Greys_r);\n",
    "    plt.axis('off')\n",
    "    plt.show()\n",
    "    \n",
    "# Callback invoked when the StartEvent happens, sets up our new data.\n",
    "def start_plot():\n",
    "    global metric_values, multires_iterations\n",
    "    plt.figure()\n",
    "    metric_values = []\n",
    "    multires_iterations = []\n",
    "\n",
    "# Callback invoked when the EndEvent happens, do cleanup of data and figure.\n",
    "def end_plot():\n",
    "    global metric_values, multires_iterations\n",
    "    \n",
    "    del metric_values\n",
    "    del multires_iterations\n",
    "    # Close figure, we don't want to get a duplicate of the plot latter on.\n",
    "    plt.close()\n",
    "\n",
    "# Callback invoked when the IterationEvent happens, update our data and display new figure.    \n",
    "def plot_values(registration_method):\n",
    "    global metric_values, multires_iterations\n",
    "    \n",
    "    metric_values.append(registration_method.GetMetricValue())                                       \n",
    "    # Clear the output area (wait=True, to reduce flickering), and plot current data\n",
    "    clear_output(wait=True)\n",
    "    # Plot the similarity metric values\n",
    "    plt.plot(metric_values, 'r')\n",
    "    plt.plot(multires_iterations, [metric_values[index] for index in multires_iterations], 'b*')\n",
    "    plt.xlabel('Iteration Number',fontsize=12)\n",
    "    plt.ylabel('Metric Value',fontsize=12)\n",
    "    plt.show()\n",
    "    \n",
    "# Callback invoked when the sitkMultiResolutionIterationEvent happens, update the index into the \n",
    "# metric_values list. \n",
    "def update_multires_iterations():\n",
    "    global metric_values, multires_iterations\n",
    "    multires_iterations.append(len(metric_values))\n",
    "\n",
    "def save_transform_and_image(transform, fixed_image, moving_image, fixed_ori,moving_ori, dicompath, outputfile_prefix,multi_tp):\n",
    "    global cnt_global                       \n",
    "    resample = sitk.ResampleImageFilter()\n",
    "    resample.SetReferenceImage(fixed_image)    \n",
    "    resample.SetInterpolator(sitk.sitkBSpline)  \n",
    "    resample.SetTransform(transform)\n",
    "    #sitk.WriteImage(resample.Execute(moving_image), outputfile_prefix+'.mha')\n",
    "    #sitk.WriteTransform(transform, outputfile_prefix+'.tfm')\n",
    "    max_moving = 0\n",
    "    min_moving = 0\n",
    "    exqimg = sitk.GetArrayFromImage(resample.Execute(moving_image))\n",
    "    print(exqimg.shape)\n",
    "    fix_imgs =  sitk.GetArrayFromImage(fixed_image)\n",
    "    for i in range(0,exqimg.shape[0]):\n",
    "        max_moving = max(max_moving,np.amax(exqimg[i,:,:]))\n",
    "        min_moving = min(min_moving,np.amin(exqimg[i,:,:]))\n",
    "        head1,tail1 = os.path.split(fixed_ori[0])\n",
    "        head2,tail2 = os.path.split(moving_ori[0])\n",
    "        \n",
    "        #if ('S101' in tail1) and ('S104' in tail2):\n",
    "         #   Aname = Adomainpath + str(cnt_global)+'.png'\n",
    "          #  Bname = Bdomainpath + str(cnt_global)+'.png'\n",
    "           # plt.imsave(Aname, fix_imgs[i,:,:],cmap = plt.get_cmap('gray'))\n",
    "            #plt.imsave(Bname, exqimg[i,:,:],cmap = plt.get_cmap('gray'))\n",
    "            #cnt_global += 1\n",
    "            #print(Aname)\n",
    "        \n",
    "    if multi_tp == False:\n",
    "\n",
    "        ds_ori = pydicom.dcmread(fixed_ori[0])\n",
    "        ds_ori_end = pydicom.dcmread(fixed_ori[-1])\n",
    "        sp_x = (ds_ori_end[0x20,0x32].value[0]-ds_ori[0x20,0x32].value[0])/len(fixed_ori)\n",
    "        sp_y = (ds_ori_end[0x20,0x32].value[1]-ds_ori[0x20,0x32].value[1])/len(fixed_ori)\n",
    "        sp_z = (ds_ori_end[0x20,0x32].value[2]-ds_ori[0x20,0x32].value[2])/len(fixed_ori)\n",
    "        a =  ds_ori_end.SliceLocation-float(ds_ori_end[0x20,0x32].value[0])\n",
    "        b =  ds_ori_end.SliceLocation-float(ds_ori_end[0x20,0x32].value[1])\n",
    "        c =  ds_ori_end.SliceLocation-float(ds_ori_end[0x20,0x32].value[2])\n",
    "        spori = -math.sqrt(sp_x*sp_x+sp_y*sp_y+sp_z*sp_z)\n",
    "        slicelocation_axis = 'x'\n",
    "        if min(a,b,c)==b:\n",
    "            slicelocation_axis = 'y'\n",
    "        elif min(a,b,c)==c:\n",
    "            slicelocation_axis = 'z'\n",
    "\n",
    "        if len(moving_ori)<len(fixed_ori):\n",
    "            reg_img = resample.Execute(moving_image)\n",
    "            #reg_img_resample = zoom(reg_img, (1, 1, len(moving_ori)/len(fixed_ori)))\n",
    "\n",
    "            new_x_size = (reg_img.GetSize())[0] \n",
    "            new_y_size = (reg_img.GetSize())[1]\n",
    "            new_z_size = len(moving_ori) #downsample\n",
    "            new_size = [new_x_size, new_y_size, new_z_size]\n",
    "            new_spacing = [old_sz*old_spc/new_sz  for old_sz, old_spc, new_sz in zip(reg_img.GetSize(), reg_img.GetSpacing(), new_size)]\n",
    "            interpolator_type = sitk.sitkLinear\n",
    "\n",
    "            reg_img_resample = sitk.Resample(reg_img, new_size, sitk.Transform(),\\\n",
    "                                             interpolator_type, reg_img.GetOrigin(),\\\n",
    "                                             new_spacing, reg_img.GetDirection(), 0.0, reg_img.GetPixelIDValue())\n",
    "            \n",
    "            new_reg_img_resample = (reg_img_resample-min_moving)/(max_moving-min_moving)*p\n",
    "\n",
    "            for i in range(0,len(moving_ori)): \n",
    "                path = moving_ori[i]\n",
    "                ds = pydicom.dcmread(path)\n",
    "                head,tail = os.path.split(path) \n",
    "                #new_data = ds.pixel_array\n",
    "                new_data = sitk.GetArrayFromImage(new_reg_img_resample[:,:,i])\n",
    "                #new_data = (new_data-np.amin(new_data))/(np.amax(new_data)-np.amin(new_data)+ESP)*p\n",
    "                new_data[new_data<0]=0\n",
    "                new_data[new_data>p]=p\n",
    "                new_data = (new_data).astype('int16')\n",
    "                sp = -(spori)*(len(fixed_ori)/len(moving_ori))\n",
    "                xsp = (sp_x)*(len(fixed_ori)/len(moving_ori))\n",
    "                ysp = (sp_y)*(len(fixed_ori)/len(moving_ori))\n",
    "                zsp = (sp_z)*(len(fixed_ori)/len(moving_ori))\n",
    "                #print((float(ds_ori[0x18,0x88].value)),len(fixed_ori),len(moving_ori),sp)\n",
    "                ds[0x18,0x88].value = sp\n",
    "\n",
    "                ds[0x20,0x37].value = ds_ori[0x20,0x37].value\n",
    "                if slicelocation_axis == 'x':\n",
    "                    ds.SliceLocation = ds_ori.SliceLocation+xsp*i\n",
    "                elif slicelocation_axis == 'y':\n",
    "                    ds.SliceLocation = ds_ori.SliceLocation+ysp*i\n",
    "                elif slicelocation_axis == 'z':\n",
    "                    ds.SliceLocation = ds_ori.SliceLocation+zsp*i\n",
    "                orientation = [ds_ori[0x20,0x32].value[0]+xsp*i,\\\n",
    "                                ds_ori[0x20,0x32].value[1]+ysp*i,ds_ori[0x20,0x32].value[2]+zsp*i]\n",
    "                ds[0x20,0x32].value =  orientation\n",
    "                ds[0x28,0x10].value = ds_ori[0x28,0x10].value\n",
    "                ds[0x28,0x11].value = ds_ori[0x28,0x11].value\n",
    "                ds[0x28,0x30].value = ds_ori[0x28,0x30].value\n",
    "                ds.PixelData = new_data.tostring()\n",
    "                newpath = dicompath+ tail\n",
    "                ds.save_as(newpath)\n",
    "                print(newpath)\n",
    "\n",
    "        elif len(moving_ori)>=len(fixed_ori):    \n",
    "            for i in range(0,len(moving_ori)): \n",
    "                path = moving_ori[i]\n",
    "                ds = pydicom.dcmread(path)\n",
    "                head,tail = os.path.split(path)\n",
    "                reg_img = resample.Execute(moving_image)\n",
    "                \n",
    "                new_reg_img = (reg_img-min_moving)/(max_moving-min_moving)*p\n",
    "                #new_reg_img = reg_img\n",
    "                if i < len(fixed_ori):\n",
    "                    ds_ori = pydicom.dcmread(fixed_ori[i])\n",
    "                    #new_data = ds.pixel_array\n",
    "                    new_data = sitk.GetArrayFromImage(new_reg_img[:,:,i])\n",
    "                    #new_data = (new_data-np.amin(new_data))/(np.amax(new_data)-np.amin(new_data)+ESP)*p\n",
    "                    new_data[new_data<0]=0\n",
    "                    new_data[new_data>p]=p\n",
    "                    new_data = (new_data).astype('int16')\n",
    "                    ds[0x20,0x32].value = ds_ori[0x20,0x32].value\n",
    "                    ds[0x20,0x37].value = ds_ori[0x20,0x37].value\n",
    "                    ds.SliceLocation = ds_ori.SliceLocation\n",
    "                    ds[0x28,0x10].value = ds_ori[0x28,0x10].value\n",
    "                    ds[0x28,0x11].value = ds_ori[0x28,0x11].value\n",
    "                    ds[0x28,0x30].value = ds_ori[0x28,0x30].value\n",
    "                    ds.PixelData = new_data.tostring()\n",
    "                    newpath = dicompath+ tail\n",
    "                    ds.save_as(newpath)\n",
    "                    print(newpath)\n",
    "                else:\n",
    "                    ds_ori = pydicom.dcmread(fixed_ori[-1])\n",
    "                    new_data = np.zeros((ds_ori.Rows,ds_ori.Columns))            \n",
    "                    new_data = (new_data).astype('int16')\n",
    "                    sp = -(float(ds_ori[0x18,0x88].value))\n",
    "                    xsp = (sp_x)*(len(fixed_ori)/len(moving_ori))\n",
    "                    ysp = (sp_y)*(len(fixed_ori)/len(moving_ori))\n",
    "                    zsp = (sp_z)*(len(fixed_ori)/len(moving_ori))\n",
    "                    orientation = [ds_ori[0x20,0x32].value[0]+xsp*(i-len(fixed_ori)),\\\n",
    "                                   ds_ori[0x20,0x32].value[1]+ysp*(i-len(fixed_ori))\\\n",
    "                                   ,ds_ori[0x20,0x32].value[2]+zsp*(i-len(fixed_ori))]\n",
    "                    ds[0x20,0x32].value =  orientation\n",
    "\n",
    "\n",
    "                    ds[0x20,0x37].value = ds_ori[0x20,0x37].value\n",
    "                    if slicelocation_axis == 'x':\n",
    "                        ds.SliceLocation = ds_ori.SliceLocation+xsp*(i-len(fixed_ori))\n",
    "                    elif slicelocation_axis == 'y':\n",
    "                        ds.SliceLocation = ds_ori.SliceLocation+ysp*(i-len(fixed_ori))\n",
    "                    elif slicelocation_axis == 'z':\n",
    "                        ds.SliceLocation = ds_ori.SliceLocation+zsp*(i-len(fixed_ori))\n",
    "                    #ds.SliceLocation = ds_ori.SliceLocation+sp*(i-len(fixed_ori))\n",
    "                    ds[0x28,0x30].value = ds_ori[0x28,0x30].value\n",
    "                    ds.Rows = ds_ori.Rows\n",
    "                    ds.Columns = ds_ori.Columns\n",
    "                    ds.PixelData = new_data.tostring()\n",
    "                    newpath = dicompath+ tail\n",
    "                    ds.save_as(newpath)\n",
    "                    print(newpath)\n",
    "\n",
    "\n",
    "           # ds = pydicom.dcmread(newpath)\n",
    "           # img = ds.pixel_array\n",
    "           # plt.figure()\n",
    "           # plt.imshow(img)\n",
    "           # plt.show()\n",
    "           # plt.close()\n",
    "    else:\n",
    "        reg_img = resample.Execute(moving_image)\n",
    "        new_reg_img = (reg_img-min_moving)/(max_moving-min_moving)*p\n",
    "        for i in range(0,len(moving_ori)): \n",
    "            path = moving_ori[i]\n",
    "            ds = pydicom.dcmread(path)\n",
    "            head,tail = os.path.split(path)\n",
    "            ds_ori = pydicom.dcmread(fixed_ori[i])\n",
    "            #new_data = ds.pixel_array\n",
    "            new_data = sitk.GetArrayFromImage((new_reg_img)[:,:,i])\n",
    "            #new_data = (new_data-np.amin(new_data))/(np.amax(new_data)-np.amin(new_data)+ESP)*p\n",
    "            new_data[new_data<0]=0\n",
    "            new_data[new_data>p]=p\n",
    "            new_data = (new_data).astype('int16')\n",
    "            ds[0x20,0x32].value = ds_ori[0x20,0x32].value\n",
    "            ds[0x20,0x37].value = ds_ori[0x20,0x37].value\n",
    "            ds.SliceLocation = ds_ori.SliceLocation\n",
    "            ds[0x28,0x10].value = ds_ori[0x28,0x10].value\n",
    "            ds[0x28,0x11].value = ds_ori[0x28,0x11].value\n",
    "            ds[0x28,0x30].value = ds_ori[0x28,0x30].value\n",
    "            ds.PixelData = new_data.tostring()\n",
    "            newpath = dicompath+ tail\n",
    "            ds.save_as(newpath)\n",
    "            print(newpath)\n",
    "\n",
    "\n",
    "# Callback we associate with the StartEvent, sets up our new data.\n",
    "def metric_start_plot():\n",
    "    global metric_values, multires_iterations\n",
    "    global current_iteration_number\n",
    "    \n",
    "    metric_values = []\n",
    "    multires_iterations = []\n",
    "    current_iteration_number = -1\n",
    "\n",
    "# Callback we associate with the EndEvent, do cleanup of data and figure.\n",
    "def metric_end_plot():\n",
    "    global metric_values, multires_iterations\n",
    "    global current_iteration_number\n",
    "\n",
    "    del metric_values\n",
    "    del multires_iterations\n",
    "    del current_iteration_number\n",
    "    # Close figure, we don't want to get a duplicate of the plot latter on\n",
    "    plt.close()\n",
    "\n",
    "# Callback we associate with the IterationEvent, update our data and display \n",
    "# new figure.    \n",
    "def metric_plot_values(registration_method):\n",
    "    global metric_values, multires_iterations\n",
    "    global current_iteration_number\n",
    "    \n",
    "    # Some optimizers report an iteration event for function evaluations and not\n",
    "    # a complete iteration, we only want to update every iteration.\n",
    "    if registration_method.GetOptimizerIteration() == current_iteration_number:\n",
    "        return\n",
    "\n",
    "    current_iteration_number =  registration_method.GetOptimizerIteration()\n",
    "    metric_values.append(registration_method.GetMetricValue())                                       \n",
    "    # Clear the output area (wait=True, to reduce flickering), and plot \n",
    "    # current data.\n",
    "    clear_output(wait=True)\n",
    "    # Plot the similarity metric values.\n",
    "    plt.plot(metric_values, 'r')\n",
    "    plt.plot(multires_iterations, [metric_values[index] for index in multires_iterations], 'b*')\n",
    "    plt.xlabel('Iteration Number',fontsize=12)\n",
    "    plt.ylabel('Metric Value',fontsize=12)\n",
    "    plt.show()\n",
    "    \n",
    "# Callback we associate with the MultiResolutionIterationEvent, update the \n",
    "# index into the metric_values list. \n",
    "def metric_update_multires_iterations():\n",
    "    global metric_values, multires_iterations\n",
    "    multires_iterations.append(len(metric_values))        \n",
    "\n",
    "def sortdir(flist):\n",
    "    for file in flist:\n",
    "        if ('.dcm') not in file:\n",
    "            del flist[flist.index(file)]\n",
    "        for j in range(0,len(flist)):\n",
    "            for k in range(j+1,len(flist)):\n",
    "                num=int(re.split('E|S|I|.dcm',flist[j])[3])\n",
    "                num2=int(re.split('E|S|I|.dcm',flist[k])[3])\n",
    "                if num>num2:\n",
    "                    tmp=flist[j]\n",
    "                    flist[j]=flist[k]\n",
    "                    flist[k]=tmp\n",
    "    return flist\n",
    "\n",
    "print('Functions successfully defined.')"
   ]
  },
  {
   "cell_type": "code",
   "execution_count": 3,
   "metadata": {},
   "outputs": [],
   "source": [
    "def get_dicom_series(file_path):\n",
    "    file_path = file_path + '/'\n",
    "    if not os.path.exists(file_path+'../coronal'):\n",
    "        os.mkdir(file_path+'../coronal')\n",
    "    TP1path = []\n",
    "    flist = os.listdir(file_path)\n",
    "    for f in flist:\n",
    "        dicomfilename = file_path + f\n",
    "        dcmimgcr = pydicom.dcmread(dicomfilename)\n",
    "        if abs(float(dcmimgcr.ImageOrientationPatient[0]))<abs(float(dcmimgcr.ImageOrientationPatient[1])):\n",
    "            #coronal slice showing scan areas\n",
    "            tmp_path = file_path[-5:-1]\n",
    "            if tmp_path[0] != '/':\n",
    "                tmp_path = '/' + tmp_path\n",
    "            shutil.move(dicomfilename,file_path+'../coronal'+tmp_path+'_'+f)\n",
    "            print('coronal',dicomfilename)\n",
    "            print('move '+ dicomfilename +' to '+ file_path+'../coronal'+tmp_path+'_'+f)\n",
    "        else:\n",
    "            TP1path.append(dicomfilename)\n",
    "    TP1path.sort()\n",
    "    fixed_image = sitk.ReadImage(TP1path)\n",
    "    resacleFilter = sitk.RescaleIntensityImageFilter()\n",
    "    resacleFilter.SetOutputMaximum(255)\n",
    "    resacleFilter.SetOutputMinimum(0)\n",
    "    fixed_image = resacleFilter.Execute(fixed_image)\n",
    "    return fixed_image\n",
    "\n",
    "# return numpy images && sitk images\n",
    "def read_dicom_image(file_path):\n",
    "    reader = sitk.ImageSeriesReader()\n",
    "    series_Names = reader.GetGDCMSeriesFileNames(file_path)\n",
    "    print(len(series_Names))\n",
    "    reader.SetFileNames(series_Names)\n",
    "    image3D = reader.Execute()\n",
    "    print('size =', image3D.GetSize()) #width(x), height(y), depth(z) \n",
    "    resacleFilter = sitk.RescaleIntensityImageFilter()\n",
    "    resacleFilter.SetOutputMaximum(255)\n",
    "    resacleFilter.SetOutputMinimum(0)\n",
    "    image3D = resacleFilter.Execute(image3D)\n",
    "#     origin = image3D.GetOrigin() # x, y, z\n",
    "#     spacing = image3D.GetSpacing() # x, y, z\n",
    "#     sitk.WriteImage(image3D, 'img3D.dcm')\n",
    "    img_array = sitk.GetArrayFromImage(image3D) # z, y, x\n",
    "    img_array = np.transpose(img_array,(2,1,0)) \n",
    "    return img_array, image3D\n",
    "\n",
    "def resample_image(fixed_image):\n",
    "    isoresample = sitk.ResampleImageFilter()\n",
    "    isoresample.SetInterpolator(sitk.sitkBSpline)\n",
    "    isoresample.SetOutputDirection(fixed_image.GetDirection())\n",
    "    isoresample.SetOutputOrigin(fixed_image.GetOrigin())\n",
    "    orig_spacing = fixed_image.GetSpacing()\n",
    "    new_spacing = (orig_spacing[0],orig_spacing[0],orig_spacing[0])\n",
    "    isoresample.SetOutputSpacing(new_spacing)\n",
    "    orig_size = np.array(fixed_image.GetSize(), dtype=np.int)    \n",
    "    new_size = orig_size.copy()\n",
    "    new_size[2] = int(orig_size[2]*(orig_spacing[2]/orig_spacing[0])+0.5)\n",
    "    new_size = [int(s) for s in new_size]\n",
    "    print(orig_size, new_size)\n",
    "    isoresample.SetSize(new_size)\n",
    "    return isoresample.Execute(fixed_image)"
   ]
  },
  {
   "cell_type": "code",
   "execution_count": 4,
   "metadata": {},
   "outputs": [],
   "source": [
    "# sitk.Cast(fixed_image, sitk.sitkInt16)\n",
    "# save sitk images\n",
    "def write_dicom_series(img_series, save_path, file_name):\n",
    "    if not os.path.exists(save_path):\n",
    "        os.makedirs(save_path)\n",
    "    sitk.WriteImage(img_series,save_path+\"/\"+file_name+\".dcm\")\n",
    "#     for z in range(img_series.GetDepth()):\n",
    "#         img = img_series[:,:,z]\n",
    "#         sitk.WriteImage(img,save_path+\"/%03d.dcm\" % (z+1))"
   ]
  },
  {
   "cell_type": "code",
   "execution_count": 5,
   "metadata": {},
   "outputs": [
    {
     "name": "stdout",
     "output_type": "stream",
     "text": [
      "75\n",
      "size = (384, 384, 75)\n",
      "75\n",
      "size = (384, 384, 75)\n"
     ]
    },
    {
     "data": {
      "application/vnd.jupyter.widget-view+json": {
       "model_id": "f0c8d0e1ab9149b483464d94e742a6e7",
       "version_major": 2,
       "version_minor": 0
      },
      "text/plain": [
       "interactive(children=(IntSlider(value=37, description='fixed_image_z', max=74), IntSlider(value=37, descriptio…"
      ]
     },
     "metadata": {},
     "output_type": "display_data"
    }
   ],
   "source": [
    "# The first image should not be Coronal plane 整个文件夹里只应该有横断面的数据!!!\n",
    "file_path = \"./data/9404954L/TP0\"\n",
    "img_array, fixed_image = read_dicom_image(file_path)\n",
    "file_path = \"./data/9404954L/TP8\"\n",
    "img_array, moving_image = read_dicom_image(file_path)\n",
    "interact(display_images, fixed_image_z=(0,fixed_image.GetSize()[2]-1), moving_image_z=(0,moving_image.GetSize()[2]-1), \n",
    "         fixed_npa = fixed(sitk.GetArrayViewFromImage(fixed_image)), moving_npa=fixed(sitk.GetArrayViewFromImage(moving_image)));"
   ]
  },
  {
   "cell_type": "code",
   "execution_count": 6,
   "metadata": {},
   "outputs": [],
   "source": [
    "img1 = fixed_image\n",
    "img2 = moving_image"
   ]
  },
  {
   "cell_type": "code",
   "execution_count": 37,
   "metadata": {},
   "outputs": [
    {
     "name": "stdout",
     "output_type": "stream",
     "text": [
      "[384 384  75] [384, 384, 309]\n",
      "[384 384  75] [384, 384, 309]\n"
     ]
    }
   ],
   "source": [
    "img1 = resample_image(fixed_image)\n",
    "img2 = resample_image(moving_image)"
   ]
  },
  {
   "cell_type": "code",
   "execution_count": 35,
   "metadata": {},
   "outputs": [],
   "source": [
    "def adaptive_thresh(images):\n",
    "    new_images = []\n",
    "    for z in range(images.GetDepth()):\n",
    "        img = sitk.GetArrayFromImage(images[:,:,z])\n",
    "        img = img.astype(np.uint8)\n",
    "#         th1, binary1 = cv2.threshold(img,0,255,cv2.THRESH_BINARY+cv2.THRESH_OTSU)\n",
    "#         img = cv2.medianBlur(img,5)\n",
    "#         binary1 = cv2.adaptiveThreshold(img, 255, cv2.ADAPTIVE_THRESH_GAUSSIAN_C, cv2.THRESH_BINARY, 11, 2)\n",
    "        img = cv2.GaussianBlur(img,(5,5),0)\n",
    "        canny = cv2.Canny(img, 50, 80, apertureSize = 3) # threshold2越大，提取的边缘越少\n",
    "        dst = canny\n",
    "        size = 2\n",
    "        kernel = np.ones((size, size), dtype=np.uint8)\n",
    "        img_open = cv2.erode(cv2.dilate(dst, kernel), kernel)\n",
    "        new_images.append(img_open)\n",
    "    img_array = np.array(new_images)\n",
    "    return sitk.GetImageFromArray(img_array)"
   ]
  },
  {
   "cell_type": "code",
   "execution_count": 36,
   "metadata": {},
   "outputs": [
    {
     "data": {
      "application/vnd.jupyter.widget-view+json": {
       "model_id": "0be7305ef0f34cdb84338118ec1c2c9b",
       "version_major": 2,
       "version_minor": 0
      },
      "text/plain": [
       "interactive(children=(IntSlider(value=37, description='fixed_image_z', max=74), IntSlider(value=37, descriptio…"
      ]
     },
     "metadata": {},
     "output_type": "display_data"
    }
   ],
   "source": [
    "fixed_image = adaptive_thresh(img1)\n",
    "moving_image = adaptive_thresh(img2)\n",
    "interact(display_images, fixed_image_z=(0,fixed_image.GetSize()[2]-1), moving_image_z=(0,moving_image.GetSize()[2]-1), \n",
    "         fixed_npa = fixed(sitk.GetArrayViewFromImage(fixed_image)), moving_npa=fixed(sitk.GetArrayViewFromImage(moving_image)));"
   ]
  },
  {
   "cell_type": "code",
   "execution_count": 7,
   "metadata": {},
   "outputs": [],
   "source": [
    "def do_thresh(images):\n",
    "    new_images = []\n",
    "    for z in range(images.GetDepth()):\n",
    "        img = sitk.GetArrayFromImage(images[:,:,z])\n",
    "        img = img.astype(np.uint8)\n",
    "        th1, binary1 = cv2.threshold(img,0,255,cv2.THRESH_BINARY+cv2.THRESH_OTSU)\n",
    "#         img = cv2.medianBlur(img,5)\n",
    "#         binary1 = cv2.adaptiveThreshold(img, 255, cv2.ADAPTIVE_THRESH_GAUSSIAN_C, cv2.THRESH_BINARY, 11, 2)\n",
    "        new_images.append(binary1)\n",
    "    img_array = np.array(new_images)\n",
    "    return sitk.GetImageFromArray(img_array)\n",
    "\n",
    "def empty_preprocess(images):\n",
    "    new_images = []\n",
    "    for z in range(images.GetDepth()):\n",
    "        img = sitk.GetArrayFromImage(images[:,:,z])\n",
    "        img = img.astype(np.uint8)\n",
    "        new_images.append(img)\n",
    "    return sitk.GetImageFromArray(np.array(new_images))"
   ]
  },
  {
   "cell_type": "code",
   "execution_count": 8,
   "metadata": {},
   "outputs": [
    {
     "data": {
      "application/vnd.jupyter.widget-view+json": {
       "model_id": "b064e28c55a8406cb903c0766c490edc",
       "version_major": 2,
       "version_minor": 0
      },
      "text/plain": [
       "interactive(children=(IntSlider(value=37, description='fixed_image_z', max=74), IntSlider(value=37, descriptio…"
      ]
     },
     "metadata": {},
     "output_type": "display_data"
    }
   ],
   "source": [
    "fixed_image = do_thresh(img1)\n",
    "moving_image = do_thresh(img2)\n",
    "interact(display_images, fixed_image_z=(0,fixed_image.GetSize()[2]-1), moving_image_z=(0,moving_image.GetSize()[2]-1), \n",
    "         fixed_npa = fixed(sitk.GetArrayViewFromImage(fixed_image)), moving_npa=fixed(sitk.GetArrayViewFromImage(moving_image)));"
   ]
  },
  {
   "cell_type": "code",
   "execution_count": 9,
   "metadata": {},
   "outputs": [],
   "source": [
    "def postprocess(images):\n",
    "    new_images = []\n",
    "    for z in range(images.GetDepth()):\n",
    "        img = sitk.GetArrayFromImage(images[:,:,z])\n",
    "        img = img.astype(np.uint8)\n",
    "#         th1, binary1 = cv2.threshold(img,0,255,cv2.THRESH_BINARY+cv2.THRESH_OTSU)\n",
    "        img = cv2.GaussianBlur(img,(5,5),0)\n",
    "#         th1, binary1 = cv2.threshold(img,0,255,cv2.THRESH_BINARY+cv2.THRESH_OTSU)\n",
    "        dst = img\n",
    "        kernel = np.ones((5, 5), dtype=np.uint8)\n",
    "        img_open = cv2.erode(cv2.dilate(dst, kernel), kernel)\n",
    "        new_images.append(img_open)\n",
    "    img_array = np.array(new_images)\n",
    "    return sitk.GetImageFromArray(img_array)"
   ]
  },
  {
   "cell_type": "code",
   "execution_count": 10,
   "metadata": {},
   "outputs": [],
   "source": [
    "img_tmp1 = fixed_image\n",
    "img_tmp2 = moving_image"
   ]
  },
  {
   "cell_type": "code",
   "execution_count": 91,
   "metadata": {},
   "outputs": [
    {
     "data": {
      "application/vnd.jupyter.widget-view+json": {
       "model_id": "4706dd26b60e4569aadd2d8b4111b1f7",
       "version_major": 2,
       "version_minor": 0
      },
      "text/plain": [
       "interactive(children=(IntSlider(value=37, description='fixed_image_z', max=74), IntSlider(value=37, descriptio…"
      ]
     },
     "metadata": {},
     "output_type": "display_data"
    }
   ],
   "source": [
    "fixed_image = postprocess(img_tmp1)\n",
    "moving_image = postprocess(img_tmp2)\n",
    "interact(display_images, fixed_image_z=(0,fixed_image.GetSize()[2]-1), moving_image_z=(0,moving_image.GetSize()[2]-1), \n",
    "         fixed_npa = fixed(sitk.GetArrayViewFromImage(fixed_image)), moving_npa=fixed(sitk.GetArrayViewFromImage(moving_image)));"
   ]
  },
  {
   "cell_type": "code",
   "execution_count": 9,
   "metadata": {},
   "outputs": [],
   "source": [
    "def preprocess(images):\n",
    "    new_images = []\n",
    "    for z in range(images.GetDepth()):\n",
    "        img = sitk.GetArrayFromImage(images[:,:,z])\n",
    "        img = img.astype(np.uint8)\n",
    "        dst = cv2.equalizeHist(img)\n",
    "        size = 3\n",
    "        kernel = np.ones((size, size), dtype=np.uint8)\n",
    "        img_erosion = cv2.erode(dst, kernel, iterations=1)\n",
    "        img_dilation = cv2.dilate(dst, kernel, iterations=1)\n",
    "        img_open = cv2.dilate(cv2.erode(dst, kernel), kernel)\n",
    "        new_images.append(dst)\n",
    "    img_array = np.array(new_images)\n",
    "\n",
    "    return sitk.GetImageFromArray(img_array)"
   ]
  },
  {
   "cell_type": "code",
   "execution_count": 10,
   "metadata": {},
   "outputs": [],
   "source": [
    "def edge_detect(images, threshold2=100):\n",
    "    new_images = []\n",
    "    for z in range(images.GetDepth()):\n",
    "        img = sitk.GetArrayFromImage(images[:,:,z])\n",
    "        img = img.astype(np.uint8)\n",
    "        \n",
    "        img = cv2.GaussianBlur(img,(5,5),0)\n",
    "        canny = cv2.Canny(img, 50, threshold2, apertureSize = 3) # threshold2越大，提取的边缘越少\n",
    "        \n",
    "        new_images.append(canny)\n",
    "    img_array = np.array(new_images)\n",
    "\n",
    "    return sitk.GetImageFromArray(img_array)"
   ]
  },
  {
   "cell_type": "code",
   "execution_count": 20,
   "metadata": {},
   "outputs": [
    {
     "data": {
      "application/vnd.jupyter.widget-view+json": {
       "model_id": "34777256b2d94a96bb2e2cbdd4083ba2",
       "version_major": 2,
       "version_minor": 0
      },
      "text/plain": [
       "interactive(children=(IntSlider(value=37, description='fixed_image_z', max=74), IntSlider(value=37, descriptio…"
      ]
     },
     "metadata": {},
     "output_type": "display_data"
    }
   ],
   "source": [
    "fixed_image = preprocess(img1)\n",
    "moving_image = preprocess(img2)\n",
    "interact(display_images, fixed_image_z=(0,fixed_image.GetSize()[2]-1), moving_image_z=(0,moving_image.GetSize()[2]-1), \n",
    "         fixed_npa = fixed(sitk.GetArrayViewFromImage(fixed_image)), moving_npa=fixed(sitk.GetArrayViewFromImage(moving_image)));"
   ]
  },
  {
   "cell_type": "code",
   "execution_count": 21,
   "metadata": {},
   "outputs": [
    {
     "data": {
      "application/vnd.jupyter.widget-view+json": {
       "model_id": "a68479646b4a431fab95e17b5b49df7d",
       "version_major": 2,
       "version_minor": 0
      },
      "text/plain": [
       "interactive(children=(IntSlider(value=37, description='image_z', max=74), FloatSlider(value=0.5, description='…"
      ]
     },
     "metadata": {},
     "output_type": "display_data"
    }
   ],
   "source": [
    "# initial transform\n",
    "initial_transform = sitk.CenteredTransformInitializer(fixed_image, \n",
    "                                                      moving_image, \n",
    "                                                      sitk.Euler3DTransform(), \n",
    "                                                      sitk.CenteredTransformInitializerFilter.GEOMETRY)\n",
    "\n",
    "moving_resampled = sitk.Resample(moving_image, fixed_image, initial_transform, sitk.sitkLinear, 0.0, moving_image.GetPixelID())\n",
    "\n",
    "interact(display_images_with_alpha, image_z=(0,fixed_image.GetSize()[2]-1), alpha=(0.0,1.0,0.05), fixed = fixed(fixed_image), moving=fixed(moving_resampled));"
   ]
  },
  {
   "cell_type": "code",
   "execution_count": 15,
   "metadata": {
    "scrolled": true
   },
   "outputs": [],
   "source": [
    "# rigid registration\n",
    "def rigid_registration(fixed_image, moving_image):\n",
    "    dimension = fixed_image.GetDimension()\n",
    "    initial_transform = sitk.CenteredTransformInitializer(fixed_image, \n",
    "                                                      moving_image, \n",
    "                                                      sitk.AffineTransform(dimension), \n",
    "                                                      sitk.CenteredTransformInitializerFilter.GEOMETRY)\n",
    "    \n",
    "    registration_method = sitk.ImageRegistrationMethod()\n",
    "\n",
    "    # Similarity metric settings.\n",
    "    # registration_method.SetMetricAsMattesMutualInformation(numberOfHistogramBins=500)\n",
    "    # registration_method.SetMetricSamplingStrategy(registration_method.RANDOM)\n",
    "    # registration_method.SetMetricSamplingPercentage(0.01)\n",
    "    registration_method.SetMetricAsMeanSquares()\n",
    "\n",
    "    registration_method.SetInterpolator(sitk.sitkLinear)\n",
    "\n",
    "    # Optimizer settings.\n",
    "    registration_method.SetOptimizerAsGradientDescent(learningRate=1.0, numberOfIterations=1000, convergenceMinimumValue=1e-10, convergenceWindowSize=50)\n",
    "    registration_method.SetOptimizerScalesFromPhysicalShift()\n",
    "\n",
    "    # Setup for the multi-resolution framework.            \n",
    "    registration_method.SetShrinkFactorsPerLevel(shrinkFactors = [4,2,1])\n",
    "    registration_method.SetSmoothingSigmasPerLevel(smoothingSigmas=[2,1,0])\n",
    "    registration_method.SmoothingSigmasAreSpecifiedInPhysicalUnitsOn()\n",
    "\n",
    "    # Don't optimize in-place, we would possibly like to run this cell multiple times.\n",
    "    registration_method.SetInitialTransform(initial_transform, inPlace=False)\n",
    "\n",
    "    # Connect all of the observers so that we can perform plotting during registration.\n",
    "    registration_method.AddCommand(sitk.sitkStartEvent, start_plot)\n",
    "    registration_method.AddCommand(sitk.sitkEndEvent, end_plot)\n",
    "    registration_method.AddCommand(sitk.sitkMultiResolutionIterationEvent, update_multires_iterations) \n",
    "    registration_method.AddCommand(sitk.sitkIterationEvent, lambda: plot_values(registration_method))\n",
    "\n",
    "    final_transform = registration_method.Execute(sitk.Cast(fixed_image, sitk.sitkFloat32), \n",
    "                                                   sitk.Cast(moving_image, sitk.sitkFloat32))\n",
    "    print('Final metric value: {0}'.format(registration_method.GetMetricValue()))\n",
    "    print('Optimizer\\'s stopping condition, {0}'.format(registration_method.GetOptimizerStopConditionDescription()))\n",
    "    return final_transform"
   ]
  },
  {
   "cell_type": "code",
   "execution_count": 16,
   "metadata": {},
   "outputs": [
    {
     "data": {
      "image/png": "[encoded data removed]",
      "text/plain": [
       "<Figure size 432x288 with 1 Axes>"
      ]
     },
     "metadata": {
      "needs_background": "light"
     },
     "output_type": "display_data"
    },
    {
     "name": "stdout",
     "output_type": "stream",
     "text": [
      "Final metric value: 11491.712007872142\n",
      "Optimizer's stopping condition, GradientDescentOptimizerv4Template: Convergence checker passed at iteration 57.\n"
     ]
    },
    {
     "data": {
      "application/vnd.jupyter.widget-view+json": {
       "model_id": "1fc0deb91c0342c9ab64e619dda0977f",
       "version_major": 2,
       "version_minor": 0
      },
      "text/plain": [
       "interactive(children=(IntSlider(value=37, description='image_z', max=74), FloatSlider(value=0.5, description='…"
      ]
     },
     "metadata": {},
     "output_type": "display_data"
    }
   ],
   "source": [
    "rigid_transform = rigid_registration(fixed_image, moving_image)\n",
    "moving_resampled = sitk.Resample(moving_image, fixed_image, rigid_transform, sitk.sitkBSpline, 0.0, moving_image.GetPixelID())\n",
    "\n",
    "interact(display_images_with_alpha, image_z=(0,fixed_image.GetSize()[2] - 1), alpha=(0.0,1.0,0.05), fixed = fixed(fixed_image), moving=fixed(moving_resampled));"
   ]
  },
  {
   "cell_type": "code",
   "execution_count": 17,
   "metadata": {},
   "outputs": [
    {
     "name": "stdout",
     "output_type": "stream",
     "text": [
      "itk::simple::Transform\n",
      " CompositeTransform (0x56381b350600)\n",
      "   RTTI typeinfo:   itk::CompositeTransform<double, 3u>\n",
      "   Reference Count: 1\n",
      "   Modified Time: 79049\n",
      "   Debug: Off\n",
      "   Object Name: \n",
      "   Observers: \n",
      "     none\n",
      "   Transforms in queue, from begin to end:\n",
      "   >>>>>>>>>\n",
      "   AffineTransform (0x56381b3ed4b0)\n",
      "     RTTI typeinfo:   itk::AffineTransform<double, 3u>\n",
      "     Reference Count: 1\n",
      "     Modified Time: 78138\n",
      "     Debug: Off\n",
      "     Object Name: \n",
      "     Observers: \n",
      "       none\n",
      "     Matrix: \n",
      "       0.974095 -0.000125371 0.013729 \n",
      "       -0.023149 1.01697 0.0810223 \n",
      "       0.00453887 -0.00563928 1.09039 \n",
      "     Offset: [9.87714, -7.69006, -1.51366]\n",
      "     Center: [191.5, 191.5, 37]\n",
      "     Translation: [5.40021, -5.87503, 1.62004]\n",
      "     Inverse: \n",
      "       1.02666 5.48627e-05 -0.0129306 \n",
      "       0.0237002 0.982907 -0.0733341 \n",
      "       -0.004151 0.00508317 0.916777 \n",
      "     Singular: 0\n",
      "   End of MultiTransform.\n",
      "<<<<<<<<<<\n",
      "   TransformsToOptimizeFlags, begin() to end(): \n",
      "      1 \n",
      "   TransformsToOptimize in queue, from begin to end:\n",
      "   End of TransformsToOptimizeQueue.\n",
      "<<<<<<<<<<\n",
      "   End of CompositeTransform.\n",
      "<<<<<<<<<<\n",
      "\n"
     ]
    }
   ],
   "source": [
    "print(rigid_transform)"
   ]
  },
  {
   "cell_type": "code",
   "execution_count": 39,
   "metadata": {},
   "outputs": [],
   "source": [
    "img2 = sitk.Resample(empty_preprocess(img2), empty_preprocess(img1), rigid_transform, sitk.sitkLinear, 0.0, empty_preprocess(img2).GetPixelID())\n",
    "moving_image = sitk.Resample(moving_image, fixed_image, rigid_transform, sitk.sitkLinear, 0.0, moving_image.GetPixelID())"
   ]
  },
  {
   "cell_type": "code",
   "execution_count": 79,
   "metadata": {},
   "outputs": [],
   "source": [
    "write_dicom_series(moving_resampled, \"./data/9404954L/resample\", \"tmp_test\")"
   ]
  },
  {
   "cell_type": "code",
   "execution_count": 22,
   "metadata": {},
   "outputs": [],
   "source": [
    "# FFD transform(Free Form Deformation)\n",
    "def bspline_intra_modal_registration(fixed_image, moving_image, fixed_image_mask=None, fixed_points=None, moving_points=None):\n",
    "\n",
    "    registration_method = sitk.ImageRegistrationMethod()\n",
    "    \n",
    "    # Determine the number of BSpline control points using the physical spacing we want for the control grid. \n",
    "    grid_physical_spacing = [50.0, 50.0, 50.0] # A control point every 50mm\n",
    "    image_physical_size = [size*spacing for size,spacing in zip(fixed_image.GetSize(), fixed_image.GetSpacing())]\n",
    "    mesh_size = [int(image_size/grid_spacing + 0.5) \\\n",
    "                 for image_size,grid_spacing in zip(image_physical_size,grid_physical_spacing)]\n",
    "\n",
    "    initial_transform = sitk.BSplineTransformInitializer(image1 = fixed_image, \n",
    "                                                         transformDomainMeshSize = mesh_size, order=3)    \n",
    "    registration_method.SetInitialTransform(initial_transform)\n",
    "        \n",
    "    registration_method.SetMetricAsMeanSquares()\n",
    "    # Settings for metric sampling, usage of a mask is optional. When given a mask the sample points will be \n",
    "    # generated inside that region. Also, this implicitly speeds things up as the mask is smaller than the\n",
    "    # whole image.\n",
    "    registration_method.SetMetricSamplingStrategy(registration_method.RANDOM)\n",
    "    registration_method.SetMetricSamplingPercentage(0.01)\n",
    "    if fixed_image_mask:\n",
    "        registration_method.SetMetricFixedMask(fixed_image_mask)\n",
    "    \n",
    "    # Multi-resolution framework.            \n",
    "    registration_method.SetShrinkFactorsPerLevel(shrinkFactors = [4,2,1])\n",
    "    registration_method.SetSmoothingSigmasPerLevel(smoothingSigmas=[2,1,0])\n",
    "    registration_method.SmoothingSigmasAreSpecifiedInPhysicalUnitsOn()\n",
    "\n",
    "    registration_method.SetInterpolator(sitk.sitkLinear)\n",
    "    registration_method.SetOptimizerAsLBFGSB(gradientConvergenceTolerance=1e-5, numberOfIterations=100)\n",
    "    \n",
    "    # If corresponding points in the fixed and moving image are given then we display the similarity metric\n",
    "    # and the TRE during the registration.\n",
    "    if fixed_points and moving_points:\n",
    "        registration_method.AddCommand(sitk.sitkStartEvent, rc.metric_and_reference_start_plot)\n",
    "        registration_method.AddCommand(sitk.sitkEndEvent, rc.metric_and_reference_end_plot)\n",
    "        registration_method.AddCommand(sitk.sitkIterationEvent, lambda: rc.metric_and_reference_plot_values(registration_method, fixed_points, moving_points))\n",
    "    else:\n",
    "        registration_method.AddCommand(sitk.sitkStartEvent, start_plot)\n",
    "        registration_method.AddCommand(sitk.sitkEndEvent, end_plot)\n",
    "        registration_method.AddCommand(sitk.sitkMultiResolutionIterationEvent, update_multires_iterations) \n",
    "        registration_method.AddCommand(sitk.sitkIterationEvent, lambda: plot_values(registration_method))\n",
    "    \n",
    "    final_transform = registration_method.Execute(sitk.Cast(fixed_image, sitk.sitkFloat32), sitk.Cast(moving_image, sitk.sitkFloat32))\n",
    "    print('Final metric value: {0}'.format(registration_method.GetMetricValue()))\n",
    "    print('Optimizer\\'s stopping condition, {0}'.format(registration_method.GetOptimizerStopConditionDescription()))\n",
    "    return final_transform\n",
    "\n",
    "def generate_random_pointset(image, image2, num_points):\n",
    "    \"\"\"\n",
    "    Generate a random set (uniform sample) of points in the given image's domain.\n",
    "    \n",
    "    Args:\n",
    "        image (SimpleITK.Image): Domain in which points are created.\n",
    "        num_points (int): Number of points to generate.\n",
    "        \n",
    "    Returns:\n",
    "        A list of points (tuples).\n",
    "    \"\"\"\n",
    "    # Continous random uniform point indexes inside the image bounds.\n",
    "    point_indexes = np.multiply(np.tile(image.GetSize(), (num_points, 1)), \n",
    "                                np.random.random((num_points, image.GetDimension())))\n",
    "    pointset_list = point_indexes.tolist()\n",
    "    # Get the list of physical points corresponding to the indexes.\n",
    "    return [image.TransformContinuousIndexToPhysicalPoint(point_index) \\\n",
    "            for point_index in pointset_list], [image2.TransformContinuousIndexToPhysicalPoint(point_index) \\\n",
    "            for point_index in pointset_list]"
   ]
  },
  {
   "cell_type": "code",
   "execution_count": 16,
   "metadata": {},
   "outputs": [],
   "source": [
    "def bspline_intra_modal_registration2(fixed_image, moving_image, fixed_image_mask=None, fixed_points=None, moving_points=None):\n",
    "\n",
    "    registration_method = sitk.ImageRegistrationMethod()\n",
    "    \n",
    "    # Determine the number of BSpline control points using the physical spacing we \n",
    "    # want for the finest resolution control grid. \n",
    "    grid_physical_spacing = [50.0, 50.0, 50.0] # A control point every 50mm\n",
    "    image_physical_size = [size*spacing for size,spacing in zip(fixed_image.GetSize(), fixed_image.GetSpacing())]\n",
    "    mesh_size = [int(image_size/grid_spacing + 0.5) \\\n",
    "                 for image_size,grid_spacing in zip(image_physical_size,grid_physical_spacing)]\n",
    "\n",
    "    # The starting mesh size will be 1/4 of the original, it will be refined by \n",
    "    # the multi-resolution framework.\n",
    "    mesh_size = [int(sz/4 + 0.5) for sz in mesh_size]\n",
    "    \n",
    "    initial_transform = sitk.BSplineTransformInitializer(image1 = fixed_image, \n",
    "                                                         transformDomainMeshSize = mesh_size, order=3)    \n",
    "    # Instead of the standard SetInitialTransform we use the BSpline specific method which also\n",
    "    # accepts the scaleFactors parameter to refine the BSpline mesh. In this case we start with \n",
    "    # the given mesh_size at the highest pyramid level then we double it in the next lower level and\n",
    "    # in the full resolution image we use a mesh that is four times the original size.\n",
    "    registration_method.SetInitialTransformAsBSpline(initial_transform,\n",
    "                                                     inPlace=True,\n",
    "                                                     scaleFactors=[1,2,4])\n",
    "    registration_method.SetMetricAsMeanSquares()\n",
    "    # Settings for metric sampling, usage of a mask is optional. When given a mask the sample points will be \n",
    "    # generated inside that region. Also, this implicitly speeds things up as the mask is smaller than the\n",
    "    # whole image.\n",
    "    registration_method.SetMetricSamplingStrategy(registration_method.RANDOM)\n",
    "    registration_method.SetMetricSamplingPercentage(0.01)\n",
    "    if fixed_image_mask:\n",
    "        registration_method.SetMetricFixedMask(fixed_image_mask)\n",
    "    \n",
    "    # Multi-resolution framework.            \n",
    "    registration_method.SetShrinkFactorsPerLevel(shrinkFactors = [4,2,1])\n",
    "    registration_method.SetSmoothingSigmasPerLevel(smoothingSigmas=[2,1,0])\n",
    "    registration_method.SmoothingSigmasAreSpecifiedInPhysicalUnitsOn()\n",
    "\n",
    "    registration_method.SetInterpolator(sitk.sitkLinear)\n",
    "    # Use the LBFGS2 instead of LBFGS. The latter cannot adapt to the changing control grid resolution.\n",
    "    registration_method.SetOptimizerAsLBFGS2(solutionAccuracy=1e-5, numberOfIterations=100, deltaConvergenceTolerance=0.01)\n",
    "\n",
    "    # If corresponding points in the fixed and moving image are given then we display the similarity metric\n",
    "    # and the TRE during the registration.\n",
    "    if fixed_points and moving_points:\n",
    "        registration_method.AddCommand(sitk.sitkStartEvent, rc.metric_and_reference_start_plot)\n",
    "        registration_method.AddCommand(sitk.sitkEndEvent, rc.metric_and_reference_end_plot)\n",
    "        registration_method.AddCommand(sitk.sitkIterationEvent, lambda: rc.metric_and_reference_plot_values(registration_method, fixed_points, moving_points))\n",
    "    else:\n",
    "        registration_method.AddCommand(sitk.sitkStartEvent, start_plot)\n",
    "        registration_method.AddCommand(sitk.sitkEndEvent, end_plot)\n",
    "        registration_method.AddCommand(sitk.sitkMultiResolutionIterationEvent, update_multires_iterations) \n",
    "        registration_method.AddCommand(sitk.sitkIterationEvent, lambda: plot_values(registration_method))\n",
    "     \n",
    "    final_transform = registration_method.Execute(sitk.Cast(fixed_image, sitk.sitkFloat32), sitk.Cast(moving_image, sitk.sitkFloat32))\n",
    "    print('Final metric value: {0}'.format(registration_method.GetMetricValue()))\n",
    "    print('Optimizer\\'s stopping condition, {0}'.format(registration_method.GetOptimizerStopConditionDescription()))\n",
    "    return final_transform"
   ]
  },
  {
   "cell_type": "code",
   "execution_count": 21,
   "metadata": {},
   "outputs": [],
   "source": [
    "# fixed_points, moving_points = generate_random_pointset(fixed_image, moving_image, 100)"
   ]
  },
  {
   "cell_type": "code",
   "execution_count": 23,
   "metadata": {},
   "outputs": [
    {
     "data": {
      "image/png": "[encoded data removed]",
      "text/plain": [
       "<Figure size 432x288 with 1 Axes>"
      ]
     },
     "metadata": {
      "needs_background": "light"
     },
     "output_type": "display_data"
    },
    {
     "name": "stdout",
     "output_type": "stream",
     "text": [
      "Final metric value: 3942.5693965821224\n",
      "Optimizer's stopping condition, LBFGSBOptimizerv4: User requested\n"
     ]
    }
   ],
   "source": [
    "ffd_transform = bspline_intra_modal_registration(fixed_image = fixed_image, \n",
    "                                    moving_image = moving_image,\n",
    "#                                     fixed_points=fixed_points, \n",
    "#                                     moving_points=moving_points\n",
    "                                    )\n",
    "# 上面取消注释会报错module 'SimpleITK' has no attribute 'CompositeTransform'，但文档里c++版本是有这个类的"
   ]
  },
  {
   "cell_type": "code",
   "execution_count": 40,
   "metadata": {},
   "outputs": [
    {
     "data": {
      "application/vnd.jupyter.widget-view+json": {
       "model_id": "f172d196ade14b6cbe8125bc99f2d461",
       "version_major": 2,
       "version_minor": 0
      },
      "text/plain": [
       "interactive(children=(IntSlider(value=154, description='image_z', max=308), FloatSlider(value=0.5, description…"
      ]
     },
     "metadata": {},
     "output_type": "display_data"
    }
   ],
   "source": [
    "moving_resampled = sitk.Resample(moving_image, fixed_image, ffd_transform, sitk.sitkBSpline, 0.0, moving_image.GetPixelID())\n",
    "\n",
    "interact(display_images_with_alpha, image_z=(0,fixed_image.GetSize()[2] - 1), alpha=(0.0,1.0,0.05), fixed = fixed(fixed_image), moving=fixed(moving_resampled));"
   ]
  },
  {
   "cell_type": "code",
   "execution_count": 42,
   "metadata": {},
   "outputs": [
    {
     "data": {
      "application/vnd.jupyter.widget-view+json": {
       "model_id": "04d39aef2a19416ab5bd871b2148e742",
       "version_major": 2,
       "version_minor": 0
      },
      "text/plain": [
       "interactive(children=(IntSlider(value=154, description='image_z', max=308), FloatSlider(value=0.5, description…"
      ]
     },
     "metadata": {},
     "output_type": "display_data"
    }
   ],
   "source": [
    "moving_image = empty_preprocess(img2)\n",
    "fixed_image = empty_preprocess(img1)\n",
    "moving_resampled = sitk.Resample(moving_image, fixed_image, ffd_transform, sitk.sitkBSpline, 0.0, moving_image.GetPixelID())\n",
    "interact(display_images_with_alpha, image_z=(0,fixed_image.GetSize()[2] - 1), alpha=(0.0,1.0,0.05), fixed = fixed(fixed_image), moving=fixed(moving_resampled));"
   ]
  },
  {
   "cell_type": "code",
   "execution_count": 43,
   "metadata": {},
   "outputs": [],
   "source": [
    "write_dicom_series(moving_resampled, \"./data/9404954L/resample\", \"TPthresh_8to0\")"
   ]
  },
  {
   "cell_type": "code",
   "execution_count": 70,
   "metadata": {},
   "outputs": [
    {
     "data": {
      "image/png": "[encoded data removed]",
      "text/plain": [
       "<Figure size 432x288 with 1 Axes>"
      ]
     },
     "metadata": {
      "needs_background": "light"
     },
     "output_type": "display_data"
    },
    {
     "name": "stdout",
     "output_type": "stream",
     "text": [
      "Final metric value: 1364.8470368659468\n",
      "Optimizer's stopping condition, Reached maximum number of iterations\n"
     ]
    }
   ],
   "source": [
    "ffd_transform2 = bspline_intra_modal_registration2(fixed_image = fixed_image, \n",
    "                                    moving_image = moving_image,\n",
    "#                                     fixed_points=fixed_points, \n",
    "#                                     moving_points=moving_points\n",
    "                                    )\n",
    "# 上面取消注释会报错module 'SimpleITK' has no attribute 'CompositeTransform'，但文档里c++版本是有这个类的"
   ]
  },
  {
   "cell_type": "code",
   "execution_count": 71,
   "metadata": {},
   "outputs": [
    {
     "data": {
      "application/vnd.jupyter.widget-view+json": {
       "model_id": "9739a736c46641a98289ddfbcdd4d880",
       "version_major": 2,
       "version_minor": 0
      },
      "text/plain": [
       "interactive(children=(IntSlider(value=37, description='image_z', max=74), FloatSlider(value=0.5, description='…"
      ]
     },
     "metadata": {},
     "output_type": "display_data"
    }
   ],
   "source": [
    "moving_resampled = sitk.Resample(moving_image, fixed_image, ffd_transform2, sitk.sitkBSpline, 0.0, moving_image.GetPixelID())\n",
    "\n",
    "interact(display_images_with_alpha, image_z=(0,fixed_image.GetSize()[2] - 1), alpha=(0.0,1.0,0.05), fixed = fixed(fixed_image), moving=fixed(moving_resampled));"
   ]
  },
  {
   "cell_type": "code",
   "execution_count": 38,
   "metadata": {},
   "outputs": [
    {
     "name": "stdout",
     "output_type": "stream",
     "text": [
      "Initial alignment errors in millimeters, mean(std): 11.07(0.06), max: 11.24\n",
      "Final alignment errors in millimeters, mean(std): 5.77(1.94), max: 10.68\n"
     ]
    },
    {
     "data": {
      "image/png": "[encoded data removed]",
      "text/plain": [
       "<Figure size 432x288 with 1 Axes>"
      ]
     },
     "metadata": {
      "needs_background": "light"
     },
     "output_type": "display_data"
    }
   ],
   "source": [
    "initial_errors_mean, initial_errors_std, _, initial_errors_max, initial_errors = ru.registration_errors(sitk.Euler3DTransform(),fixed_points, moving_points)\n",
    "final_errors_mean, final_errors_std, _, final_errors_max, final_errors = ru.registration_errors(ffd_transform, fixed_points, moving_points)\n",
    "\n",
    "plt.hist(initial_errors, bins=20, alpha=0.5, label='before registration', color='blue')\n",
    "plt.hist(final_errors, bins=20, alpha=0.5, label='after registration', color='green')\n",
    "plt.legend()\n",
    "plt.title('TRE histogram');\n",
    "print('Initial alignment errors in millimeters, mean(std): {:.2f}({:.2f}), max: {:.2f}'.format(initial_errors_mean, initial_errors_std, initial_errors_max))\n",
    "print('Final alignment errors in millimeters, mean(std): {:.2f}({:.2f}), max: {:.2f}'.format(final_errors_mean, final_errors_std, final_errors_max))"
   ]
  },
  {
   "cell_type": "code",
   "execution_count": 11,
   "metadata": {},
   "outputs": [],
   "source": [
    "# DEMONS\n",
    "def demons_registration(fixed_image, moving_image, fixed_points = None, moving_points = None):\n",
    "    registration_method = sitk.ImageRegistrationMethod()\n",
    "\n",
    "    # Create initial identity transformation.\n",
    "    transform_to_displacment_field_filter = sitk.TransformToDisplacementFieldFilter()\n",
    "    transform_to_displacment_field_filter.SetReferenceImage(fixed_image)\n",
    "    # The image returned from the initial_transform_filter is transferred to the transform and cleared out.\n",
    "    initial_transform = sitk.DisplacementFieldTransform(transform_to_displacment_field_filter.Execute(sitk.Transform()))\n",
    "    \n",
    "    # Regularization (update field - viscous, total field - elastic).\n",
    "    initial_transform.SetSmoothingGaussianOnUpdate(varianceForUpdateField=0.0, varianceForTotalField=2.0) \n",
    "    \n",
    "    registration_method.SetInitialTransform(initial_transform)\n",
    "\n",
    "    registration_method.SetMetricAsDemons(10) #intensities are equal if the difference is less than 10HU\n",
    "        \n",
    "    # Multi-resolution framework.            \n",
    "    registration_method.SetShrinkFactorsPerLevel(shrinkFactors = [4,2,1])\n",
    "    registration_method.SetSmoothingSigmasPerLevel(smoothingSigmas=[8,4,0])    \n",
    "\n",
    "    registration_method.SetInterpolator(sitk.sitkLinear)\n",
    "    # If you have time, run this code as is, otherwise switch to the gradient descent optimizer    \n",
    "    #registration_method.SetOptimizerAsConjugateGradientLineSearch(learningRate=1.0, numberOfIterations=20, convergenceMinimumValue=1e-6, convergenceWindowSize=10)\n",
    "    registration_method.SetOptimizerAsGradientDescent(learningRate=1.0, numberOfIterations=20, convergenceMinimumValue=1e-6, convergenceWindowSize=10)\n",
    "    registration_method.SetOptimizerScalesFromPhysicalShift()\n",
    "\n",
    "    # If corresponding points in the fixed and moving image are given then we display the similarity metric\n",
    "    # and the TRE during the registration.\n",
    "    if fixed_points and moving_points:\n",
    "        registration_method.AddCommand(sitk.sitkStartEvent, rc.metric_and_reference_start_plot)\n",
    "        registration_method.AddCommand(sitk.sitkEndEvent, rc.metric_and_reference_end_plot)        \n",
    "        registration_method.AddCommand(sitk.sitkIterationEvent, lambda: rc.metric_and_reference_plot_values(registration_method, fixed_points, moving_points))\n",
    "    else:\n",
    "        registration_method.AddCommand(sitk.sitkStartEvent, start_plot)\n",
    "        registration_method.AddCommand(sitk.sitkEndEvent, end_plot)\n",
    "        registration_method.AddCommand(sitk.sitkMultiResolutionIterationEvent, update_multires_iterations) \n",
    "        registration_method.AddCommand(sitk.sitkIterationEvent, lambda: plot_values(registration_method))\n",
    "\n",
    "    final_transform = registration_method.Execute(sitk.Cast(fixed_image, sitk.sitkFloat32), sitk.Cast(moving_image, sitk.sitkFloat32))\n",
    "    print('Final metric value: {0}'.format(registration_method.GetMetricValue()))\n",
    "    print('Optimizer\\'s stopping condition, {0}'.format(registration_method.GetOptimizerStopConditionDescription()))\n",
    "    return final_transform  "
   ]
  },
  {
   "cell_type": "code",
   "execution_count": 15,
   "metadata": {},
   "outputs": [
    {
     "data": {
      "image/png": "[encoded data removed]",
      "text/plain": [
       "<Figure size 432x288 with 1 Axes>"
      ]
     },
     "metadata": {
      "needs_background": "light"
     },
     "output_type": "display_data"
    },
    {
     "name": "stdout",
     "output_type": "stream",
     "text": [
      "Final metric value: 436.9191863265349\n",
      "Optimizer's stopping condition, GradientDescentOptimizerv4Template: Convergence checker passed at iteration 9.\n"
     ]
    }
   ],
   "source": [
    "demons_transform = demons_registration(fixed_image = fixed_image, \n",
    "                                    moving_image = moving_image,\n",
    "                                    )"
   ]
  },
  {
   "cell_type": "code",
   "execution_count": 24,
   "metadata": {},
   "outputs": [
    {
     "ename": "NameError",
     "evalue": "name 'demons_transform' is not defined",
     "output_type": "error",
     "traceback": [
      "\u001b[0;31m---------------------------------------------------------------------------\u001b[0m",
      "\u001b[0;31mNameError\u001b[0m                                 Traceback (most recent call last)",
      "\u001b[0;32m<ipython-input-24-41ae7b24ff53>\u001b[0m in \u001b[0;36m<module>\u001b[0;34m\u001b[0m\n\u001b[0;32m----> 1\u001b[0;31m \u001b[0mmoving_resampled\u001b[0m \u001b[0;34m=\u001b[0m \u001b[0msitk\u001b[0m\u001b[0;34m.\u001b[0m\u001b[0mResample\u001b[0m\u001b[0;34m(\u001b[0m\u001b[0mmoving_image\u001b[0m\u001b[0;34m,\u001b[0m \u001b[0mfixed_image\u001b[0m\u001b[0;34m,\u001b[0m \u001b[0mdemons_transform\u001b[0m\u001b[0;34m,\u001b[0m \u001b[0msitk\u001b[0m\u001b[0;34m.\u001b[0m\u001b[0msitkBSpline\u001b[0m\u001b[0;34m,\u001b[0m \u001b[0;36m0.0\u001b[0m\u001b[0;34m,\u001b[0m \u001b[0mmoving_image\u001b[0m\u001b[0;34m.\u001b[0m\u001b[0mGetPixelID\u001b[0m\u001b[0;34m(\u001b[0m\u001b[0;34m)\u001b[0m\u001b[0;34m)\u001b[0m\u001b[0;34m\u001b[0m\u001b[0;34m\u001b[0m\u001b[0m\n\u001b[0m\u001b[1;32m      2\u001b[0m \u001b[0;34m\u001b[0m\u001b[0m\n\u001b[1;32m      3\u001b[0m \u001b[0minteract\u001b[0m\u001b[0;34m(\u001b[0m\u001b[0mdisplay_images_with_alpha\u001b[0m\u001b[0;34m,\u001b[0m \u001b[0mimage_z\u001b[0m\u001b[0;34m=\u001b[0m\u001b[0;34m(\u001b[0m\u001b[0;36m0\u001b[0m\u001b[0;34m,\u001b[0m\u001b[0mfixed_image\u001b[0m\u001b[0;34m.\u001b[0m\u001b[0mGetSize\u001b[0m\u001b[0;34m(\u001b[0m\u001b[0;34m)\u001b[0m\u001b[0;34m[\u001b[0m\u001b[0;36m2\u001b[0m\u001b[0;34m]\u001b[0m \u001b[0;34m-\u001b[0m \u001b[0;36m1\u001b[0m\u001b[0;34m)\u001b[0m\u001b[0;34m,\u001b[0m \u001b[0malpha\u001b[0m\u001b[0;34m=\u001b[0m\u001b[0;34m(\u001b[0m\u001b[0;36m0.0\u001b[0m\u001b[0;34m,\u001b[0m\u001b[0;36m1.0\u001b[0m\u001b[0;34m,\u001b[0m\u001b[0;36m0.05\u001b[0m\u001b[0;34m)\u001b[0m\u001b[0;34m,\u001b[0m \u001b[0mfixed\u001b[0m \u001b[0;34m=\u001b[0m \u001b[0mfixed\u001b[0m\u001b[0;34m(\u001b[0m\u001b[0mfixed_image\u001b[0m\u001b[0;34m)\u001b[0m\u001b[0;34m,\u001b[0m \u001b[0mmoving\u001b[0m\u001b[0;34m=\u001b[0m\u001b[0mfixed\u001b[0m\u001b[0;34m(\u001b[0m\u001b[0mmoving_resampled\u001b[0m\u001b[0;34m)\u001b[0m\u001b[0;34m)\u001b[0m\u001b[0;34m;\u001b[0m\u001b[0;34m\u001b[0m\u001b[0;34m\u001b[0m\u001b[0m\n",
      "\u001b[0;31mNameError\u001b[0m: name 'demons_transform' is not defined"
     ]
    }
   ],
   "source": [
    "moving_resampled = sitk.Resample(moving_image, fixed_image, demons_transform, sitk.sitkBSpline, 0.0, moving_image.GetPixelID())\n",
    "\n",
    "interact(display_images_with_alpha, image_z=(0,fixed_image.GetSize()[2] - 1), alpha=(0.0,1.0,0.05), fixed = fixed(fixed_image), moving=fixed(moving_resampled));"
   ]
  },
  {
   "cell_type": "code",
   "execution_count": null,
   "metadata": {},
   "outputs": [],
   "source": [
    "#############################################################################\n",
    "# END\n",
    "############################################################################"
   ]
  },
  {
   "cell_type": "code",
   "execution_count": null,
   "metadata": {},
   "outputs": [],
   "source": []
  }
 ],
 "metadata": {
  "kernelspec": {
   "display_name": "Python [conda env:sassd] *",
   "language": "python",
   "name": "conda-env-sassd-py"
  },
  "language_info": {
   "codemirror_mode": {
    "name": "ipython",
    "version": 3
   },
   "file_extension": ".py",
   "mimetype": "text/x-python",
   "name": "python",
   "nbconvert_exporter": "python",
   "pygments_lexer": "ipython3",
   "version": "3.7.6"
  }
 },
 "nbformat": 4,
 "nbformat_minor": 2
}
