{
 "cells": [
  {
   "cell_type": "code",
   "execution_count": 1,
   "metadata": {},
   "outputs": [],
   "source": [
    "import pydicom\n",
    "import os,re\n",
    "import numpy as np\n",
    "import pandas as pd\n",
    "import shutil\n",
    "import matplotlib.pyplot as plt\n",
    "%matplotlib inline\n",
    "import SimpleITK as sitk\n",
    "import math\n",
    "import sys\n",
    "\n",
    "import AssistVisualization as vis\n",
    "\n",
    "from MyProcessDicom import *\n",
    "from LocalDicomIO import *\n",
    "from RegistrationMethod import *\n",
    "\n",
    "import cv2\n",
    "\n",
    "transform_path = \"./data/9941446R/transform/\""
   ]
  },
  {
   "cell_type": "code",
   "execution_count": 17,
   "metadata": {},
   "outputs": [],
   "source": [
    "file_path = \"./data/OAIMTP/P9941446R/tracing_raw_ves_TH_0_P9941446R_U.swc\""
   ]
  },
  {
   "cell_type": "code",
   "execution_count": 3,
   "metadata": {},
   "outputs": [],
   "source": [
    "def get_centerline(file_path):\n",
    "    df = pd.read_csv(file_path, header=None, sep=' ',index_col=0, names=['vessel_id','x','y','z','undefined','last_id'])\n",
    "    line = np.array([df['x'], df['y'], df['z']]).T\n",
    "    return df, line"
   ]
  },
  {
   "cell_type": "code",
   "execution_count": 18,
   "metadata": {},
   "outputs": [
    {
     "data": {
      "text/html": [
       "<div>\n",
       "<style scoped>\n",
       "    .dataframe tbody tr th:only-of-type {\n",
       "        vertical-align: middle;\n",
       "    }\n",
       "\n",
       "    .dataframe tbody tr th {\n",
       "        vertical-align: top;\n",
       "    }\n",
       "\n",
       "    .dataframe thead th {\n",
       "        text-align: right;\n",
       "    }\n",
       "</style>\n",
       "<table border=\"1\" class=\"dataframe\">\n",
       "  <thead>\n",
       "    <tr style=\"text-align: right;\">\n",
       "      <th></th>\n",
       "      <th>vessel_id</th>\n",
       "      <th>x</th>\n",
       "      <th>y</th>\n",
       "      <th>z</th>\n",
       "      <th>undefined</th>\n",
       "      <th>last_id</th>\n",
       "    </tr>\n",
       "  </thead>\n",
       "  <tbody>\n",
       "    <tr>\n",
       "      <th>1</th>\n",
       "      <td>0</td>\n",
       "      <td>149.0</td>\n",
       "      <td>287.0</td>\n",
       "      <td>4.11</td>\n",
       "      <td>8.00</td>\n",
       "      <td>0</td>\n",
       "    </tr>\n",
       "    <tr>\n",
       "      <th>2</th>\n",
       "      <td>0</td>\n",
       "      <td>149.0</td>\n",
       "      <td>287.0</td>\n",
       "      <td>8.23</td>\n",
       "      <td>8.02</td>\n",
       "      <td>1</td>\n",
       "    </tr>\n",
       "    <tr>\n",
       "      <th>3</th>\n",
       "      <td>0</td>\n",
       "      <td>150.0</td>\n",
       "      <td>288.0</td>\n",
       "      <td>12.34</td>\n",
       "      <td>7.82</td>\n",
       "      <td>2</td>\n",
       "    </tr>\n",
       "    <tr>\n",
       "      <th>4</th>\n",
       "      <td>0</td>\n",
       "      <td>150.0</td>\n",
       "      <td>288.0</td>\n",
       "      <td>16.46</td>\n",
       "      <td>7.25</td>\n",
       "      <td>3</td>\n",
       "    </tr>\n",
       "    <tr>\n",
       "      <th>5</th>\n",
       "      <td>0</td>\n",
       "      <td>151.0</td>\n",
       "      <td>288.0</td>\n",
       "      <td>20.57</td>\n",
       "      <td>6.70</td>\n",
       "      <td>4</td>\n",
       "    </tr>\n",
       "    <tr>\n",
       "      <th>6</th>\n",
       "      <td>0</td>\n",
       "      <td>153.0</td>\n",
       "      <td>290.0</td>\n",
       "      <td>24.69</td>\n",
       "      <td>5.70</td>\n",
       "      <td>5</td>\n",
       "    </tr>\n",
       "    <tr>\n",
       "      <th>7</th>\n",
       "      <td>0</td>\n",
       "      <td>153.0</td>\n",
       "      <td>289.0</td>\n",
       "      <td>28.80</td>\n",
       "      <td>5.75</td>\n",
       "      <td>6</td>\n",
       "    </tr>\n",
       "    <tr>\n",
       "      <th>8</th>\n",
       "      <td>0</td>\n",
       "      <td>153.0</td>\n",
       "      <td>288.0</td>\n",
       "      <td>32.91</td>\n",
       "      <td>5.73</td>\n",
       "      <td>7</td>\n",
       "    </tr>\n",
       "    <tr>\n",
       "      <th>9</th>\n",
       "      <td>0</td>\n",
       "      <td>153.0</td>\n",
       "      <td>288.0</td>\n",
       "      <td>37.03</td>\n",
       "      <td>5.81</td>\n",
       "      <td>8</td>\n",
       "    </tr>\n",
       "    <tr>\n",
       "      <th>10</th>\n",
       "      <td>0</td>\n",
       "      <td>153.0</td>\n",
       "      <td>288.0</td>\n",
       "      <td>41.14</td>\n",
       "      <td>5.81</td>\n",
       "      <td>9</td>\n",
       "    </tr>\n",
       "  </tbody>\n",
       "</table>\n",
       "</div>"
      ],
      "text/plain": [
       "    vessel_id      x      y      z  undefined  last_id\n",
       "1           0  149.0  287.0   4.11       8.00        0\n",
       "2           0  149.0  287.0   8.23       8.02        1\n",
       "3           0  150.0  288.0  12.34       7.82        2\n",
       "4           0  150.0  288.0  16.46       7.25        3\n",
       "5           0  151.0  288.0  20.57       6.70        4\n",
       "6           0  153.0  290.0  24.69       5.70        5\n",
       "7           0  153.0  289.0  28.80       5.75        6\n",
       "8           0  153.0  288.0  32.91       5.73        7\n",
       "9           0  153.0  288.0  37.03       5.81        8\n",
       "10          0  153.0  288.0  41.14       5.81        9"
      ]
     },
     "execution_count": 18,
     "metadata": {},
     "output_type": "execute_result"
    }
   ],
   "source": [
    "df1, line1 = get_centerline(file_path)\n",
    "df1.head(10)"
   ]
  },
  {
   "cell_type": "code",
   "execution_count": 19,
   "metadata": {},
   "outputs": [
    {
     "data": {
      "text/html": [
       "<div>\n",
       "<style scoped>\n",
       "    .dataframe tbody tr th:only-of-type {\n",
       "        vertical-align: middle;\n",
       "    }\n",
       "\n",
       "    .dataframe tbody tr th {\n",
       "        vertical-align: top;\n",
       "    }\n",
       "\n",
       "    .dataframe thead th {\n",
       "        text-align: right;\n",
       "    }\n",
       "</style>\n",
       "<table border=\"1\" class=\"dataframe\">\n",
       "  <thead>\n",
       "    <tr style=\"text-align: right;\">\n",
       "      <th></th>\n",
       "      <th>vessel_id</th>\n",
       "      <th>x</th>\n",
       "      <th>y</th>\n",
       "      <th>z</th>\n",
       "      <th>undefined</th>\n",
       "      <th>last_id</th>\n",
       "    </tr>\n",
       "  </thead>\n",
       "  <tbody>\n",
       "    <tr>\n",
       "      <th>1</th>\n",
       "      <td>0</td>\n",
       "      <td>172.0</td>\n",
       "      <td>275.0</td>\n",
       "      <td>0.00</td>\n",
       "      <td>6.18</td>\n",
       "      <td>-1</td>\n",
       "    </tr>\n",
       "    <tr>\n",
       "      <th>2</th>\n",
       "      <td>0</td>\n",
       "      <td>172.0</td>\n",
       "      <td>275.0</td>\n",
       "      <td>4.11</td>\n",
       "      <td>6.10</td>\n",
       "      <td>1</td>\n",
       "    </tr>\n",
       "    <tr>\n",
       "      <th>3</th>\n",
       "      <td>0</td>\n",
       "      <td>172.0</td>\n",
       "      <td>276.0</td>\n",
       "      <td>8.23</td>\n",
       "      <td>6.33</td>\n",
       "      <td>2</td>\n",
       "    </tr>\n",
       "    <tr>\n",
       "      <th>4</th>\n",
       "      <td>0</td>\n",
       "      <td>172.0</td>\n",
       "      <td>276.0</td>\n",
       "      <td>12.34</td>\n",
       "      <td>6.31</td>\n",
       "      <td>3</td>\n",
       "    </tr>\n",
       "    <tr>\n",
       "      <th>5</th>\n",
       "      <td>0</td>\n",
       "      <td>173.0</td>\n",
       "      <td>276.0</td>\n",
       "      <td>16.46</td>\n",
       "      <td>6.08</td>\n",
       "      <td>4</td>\n",
       "    </tr>\n",
       "    <tr>\n",
       "      <th>6</th>\n",
       "      <td>0</td>\n",
       "      <td>173.0</td>\n",
       "      <td>276.0</td>\n",
       "      <td>20.57</td>\n",
       "      <td>6.00</td>\n",
       "      <td>5</td>\n",
       "    </tr>\n",
       "    <tr>\n",
       "      <th>7</th>\n",
       "      <td>0</td>\n",
       "      <td>174.0</td>\n",
       "      <td>275.0</td>\n",
       "      <td>24.69</td>\n",
       "      <td>5.92</td>\n",
       "      <td>6</td>\n",
       "    </tr>\n",
       "    <tr>\n",
       "      <th>8</th>\n",
       "      <td>0</td>\n",
       "      <td>174.0</td>\n",
       "      <td>275.0</td>\n",
       "      <td>28.80</td>\n",
       "      <td>5.84</td>\n",
       "      <td>7</td>\n",
       "    </tr>\n",
       "    <tr>\n",
       "      <th>9</th>\n",
       "      <td>0</td>\n",
       "      <td>174.0</td>\n",
       "      <td>275.0</td>\n",
       "      <td>32.91</td>\n",
       "      <td>5.73</td>\n",
       "      <td>8</td>\n",
       "    </tr>\n",
       "    <tr>\n",
       "      <th>10</th>\n",
       "      <td>0</td>\n",
       "      <td>174.0</td>\n",
       "      <td>275.0</td>\n",
       "      <td>37.03</td>\n",
       "      <td>5.81</td>\n",
       "      <td>9</td>\n",
       "    </tr>\n",
       "  </tbody>\n",
       "</table>\n",
       "</div>"
      ],
      "text/plain": [
       "    vessel_id      x      y      z  undefined  last_id\n",
       "1           0  172.0  275.0   0.00       6.18       -1\n",
       "2           0  172.0  275.0   4.11       6.10        1\n",
       "3           0  172.0  276.0   8.23       6.33        2\n",
       "4           0  172.0  276.0  12.34       6.31        3\n",
       "5           0  173.0  276.0  16.46       6.08        4\n",
       "6           0  173.0  276.0  20.57       6.00        5\n",
       "7           0  174.0  275.0  24.69       5.92        6\n",
       "8           0  174.0  275.0  28.80       5.84        7\n",
       "9           0  174.0  275.0  32.91       5.73        8\n",
       "10          0  174.0  275.0  37.03       5.81        9"
      ]
     },
     "execution_count": 19,
     "metadata": {},
     "output_type": "execute_result"
    }
   ],
   "source": [
    "file_path2 = \"./data/OAIMTP/P9941446R/tracing_raw_ves_TH_5_P9941446R_U.swc\"\n",
    "df2, line2 = get_centerline(file_path2)\n",
    "df2.head(10)"
   ]
  },
  {
   "cell_type": "code",
   "execution_count": 6,
   "metadata": {},
   "outputs": [],
   "source": [
    "affine = sitk.ReadTransform(transform_path+\"affineTP1to0.tfm\")"
   ]
  },
  {
   "cell_type": "code",
   "execution_count": 7,
   "metadata": {},
   "outputs": [],
   "source": [
    "def generate_regis_with_centerline(line1, line2, transform):\n",
    "    points = []\n",
    "    for i in range(line1.shape[0]):\n",
    "        tmp_point = transform.TransformPoint((line1[i][0], line1[i][1], i))\n",
    "        points.append(tmp_point)\n",
    "    ans = np.array(points)\n",
    "    ans[:,2] = np.round(ans[:,2])\n",
    "    dx, dy = [], []\n",
    "    for i in range(ans.shape[0]):\n",
    "        if int(ans[i][2]) >= 75:\n",
    "            break\n",
    "        dx.append(ans[i][0] - line2[int(ans[i][2])][0])\n",
    "        dy.append(ans[i][1] - line2[int(ans[i][2])][1])\n",
    "    dx = np.array(dx)\n",
    "    dy = np.array(dy)\n",
    "    displacement_image = sitk.Image([384,384,dx.shape[0]], sitk.sitkVectorFloat64)\n",
    "    # The only point that has any displacement is (0,0)\n",
    "    for i in range(dx.shape[0]):\n",
    "        displacement = (-dx[i],-dy[i],0)\n",
    "        for j in range(384):\n",
    "            for k in range(384):\n",
    "                displacement_image[j,k,i] = displacement\n",
    "    return sitk.DisplacementFieldTransform(displacement_image)"
   ]
  },
  {
   "cell_type": "code",
   "execution_count": 10,
   "metadata": {},
   "outputs": [],
   "source": [
    "displacement_field_transform = generate_regis_with_centerline(line1, line2, affine)"
   ]
  },
  {
   "cell_type": "code",
   "execution_count": 8,
   "metadata": {},
   "outputs": [],
   "source": [
    "# print(displacement_field_transform)\n",
    "displacement_field_transform = sitk.ReadTransform(transform_path+\"displacement1.tfm\")"
   ]
  },
  {
   "cell_type": "code",
   "execution_count": 9,
   "metadata": {},
   "outputs": [
    {
     "name": "stdout",
     "output_type": "stream",
     "text": [
      "75\n",
      "size = (384, 384, 75)\n",
      "75\n",
      "size = (384, 384, 75)\n"
     ]
    },
    {
     "data": {
      "application/vnd.jupyter.widget-view+json": {
       "model_id": "c19c594ecc0340d8a9f8146b70db3982",
       "version_major": 2,
       "version_minor": 0
      },
      "text/plain": [
       "interactive(children=(IntSlider(value=37, description='fixed_image_z', max=74), IntSlider(value=37, descriptio…"
      ]
     },
     "metadata": {},
     "output_type": "display_data"
    }
   ],
   "source": [
    "file_path = \"./data/9941446R/TP0\"\n",
    "img_array, fixed_image = read_dicom_image(file_path)\n",
    "file_path = \"./data/9941446R/TP5\"\n",
    "img_array, moving_image = read_dicom_image(file_path)\n",
    "show_images(fixed_image, moving_image)"
   ]
  },
  {
   "cell_type": "code",
   "execution_count": 10,
   "metadata": {},
   "outputs": [],
   "source": [
    "resampled = transform_img(empty_preprocess(fixed_image), empty_preprocess(moving_image), affine)"
   ]
  },
  {
   "cell_type": "code",
   "execution_count": 11,
   "metadata": {},
   "outputs": [
    {
     "data": {
      "application/vnd.jupyter.widget-view+json": {
       "model_id": "df534e5a4e6a4f4ca1bff6085200cffd",
       "version_major": 2,
       "version_minor": 0
      },
      "text/plain": [
       "interactive(children=(IntSlider(value=37, description='image_z', max=74), FloatSlider(value=0.5, description='…"
      ]
     },
     "metadata": {},
     "output_type": "display_data"
    }
   ],
   "source": [
    "show_mixed_images(empty_preprocess(fixed_image), resampled)"
   ]
  },
  {
   "cell_type": "code",
   "execution_count": 20,
   "metadata": {},
   "outputs": [],
   "source": [
    "resampled2 = transform_img(empty_preprocess(fixed_image), resampled, displacement_field_transform)"
   ]
  },
  {
   "cell_type": "code",
   "execution_count": 22,
   "metadata": {},
   "outputs": [
    {
     "data": {
      "application/vnd.jupyter.widget-view+json": {
       "model_id": "181417b24be94bdb9df998c01a8e6319",
       "version_major": 2,
       "version_minor": 0
      },
      "text/plain": [
       "interactive(children=(IntSlider(value=37, description='fixed_image_z', max=74), IntSlider(value=37, descriptio…"
      ]
     },
     "metadata": {},
     "output_type": "display_data"
    }
   ],
   "source": [
    "show_images(empty_preprocess(fixed_image), resampled2)"
   ]
  },
  {
   "cell_type": "code",
   "execution_count": 21,
   "metadata": {},
   "outputs": [
    {
     "data": {
      "application/vnd.jupyter.widget-view+json": {
       "model_id": "90353d67464a4b98859d3bc6bdd350cc",
       "version_major": 2,
       "version_minor": 0
      },
      "text/plain": [
       "interactive(children=(IntSlider(value=37, description='image_z', max=74), FloatSlider(value=0.5, description='…"
      ]
     },
     "metadata": {},
     "output_type": "display_data"
    }
   ],
   "source": [
    "show_mixed_images(empty_preprocess(fixed_image), resampled2)"
   ]
  },
  {
   "cell_type": "code",
   "execution_count": 47,
   "metadata": {},
   "outputs": [
    {
     "data": {
      "application/vnd.jupyter.widget-view+json": {
       "model_id": "06cc676addd444708da43ea4a0ef5fc2",
       "version_major": 2,
       "version_minor": 0
      },
      "text/plain": [
       "interactive(children=(IntSlider(value=191, description='fixed_image_z', max=383), IntSlider(value=191, descrip…"
      ]
     },
     "metadata": {},
     "output_type": "display_data"
    }
   ],
   "source": [
    "img_array = sitk.GetArrayFromImage(resampled2)\n",
    "img_array = np.transpose(img_array,(1,0,2))\n",
    "images = sitk.GetImageFromArray(img_array)\n",
    "img_array2 = sitk.GetArrayFromImage(empty_preprocess(fixed_image))\n",
    "img_array2 = np.transpose(img_array2,(1,2,0))\n",
    "images2 = sitk.GetImageFromArray(img_array2)\n",
    "show_images(images, images2)"
   ]
  },
  {
   "cell_type": "code",
   "execution_count": 17,
   "metadata": {},
   "outputs": [],
   "source": [
    "sitk.WriteTransform(displacement_field_transform, transform_path+\"displacement1.tfm\")\n",
    "# write_dicom_series(resampled2, \"./data/9404954L/resample\", \"TP8to0_new\")"
   ]
  },
  {
   "cell_type": "code",
   "execution_count": 17,
   "metadata": {},
   "outputs": [
    {
     "name": "stdout",
     "output_type": "stream",
     "text": [
      "[384 384  75] [384, 384, 75]\n"
     ]
    }
   ],
   "source": [
    "sitk.WriteImage(sitk.Cast(resample_image(resampled2), sitk.sitkInt16), \"./data/9404954L/resample/TH_0_P9404954L_US108.tif\")"
   ]
  },
  {
   "cell_type": "code",
   "execution_count": null,
   "metadata": {},
   "outputs": [],
   "source": []
  }
 ],
 "metadata": {
  "kernelspec": {
   "display_name": "Python 3",
   "language": "python",
   "name": "python3"
  },
  "language_info": {
   "codemirror_mode": {
    "name": "ipython",
    "version": 3
   },
   "file_extension": ".py",
   "mimetype": "text/x-python",
   "name": "python",
   "nbconvert_exporter": "python",
   "pygments_lexer": "ipython3",
   "version": "3.7.6"
  }
 },
 "nbformat": 4,
 "nbformat_minor": 4
}
