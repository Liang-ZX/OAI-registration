{
 "cells": [
  {
   "cell_type": "code",
   "execution_count": 1,
   "metadata": {},
   "outputs": [],
   "source": [
    "import pydicom\n",
    "import os,re\n",
    "import numpy as np\n",
    "import pandas as pd\n",
    "import shutil\n",
    "import matplotlib.pyplot as plt\n",
    "%matplotlib inline\n",
    "import SimpleITK as sitk\n",
    "from IPython.display import clear_output\n",
    "import math\n",
    "import sys\n",
    "\n",
    "from ipywidgets import interact, fixed\n",
    "from IPython.display import clear_output\n",
    "\n",
    "import cv2"
   ]
  },
  {
   "cell_type": "code",
   "execution_count": 2,
   "metadata": {},
   "outputs": [],
   "source": [
    "file_path = \"./data/centerline/9404954/tracing_raw_ves_TH_0_P9404954L_U.swc\""
   ]
  },
  {
   "cell_type": "code",
   "execution_count": 31,
   "metadata": {},
   "outputs": [],
   "source": [
    "def get_centerline(file_path):\n",
    "    df = pd.read_csv(file_path, header=None, sep=' ',index_col=0, names=['vessel_id','x','y','z','undefined','last_id'])\n",
    "    print(df.head())\n",
    "    line = np.array([df['x'], df['y'], df['z']]).T\n",
    "    return line"
   ]
  },
  {
   "cell_type": "code",
   "execution_count": 32,
   "metadata": {},
   "outputs": [
    {
     "name": "stdout",
     "output_type": "stream",
     "text": [
      "   vessel_id      x      y      z  undefined  last_id\n",
      "1          0  207.0  293.0   4.11       8.85        0\n",
      "2          0  206.0  294.0   8.23       8.88        1\n",
      "3          0  205.0  295.0  12.34       8.99        2\n",
      "4          0  204.0  295.0  16.46       8.83        3\n",
      "5          0  203.0  295.0  20.57       8.94        4\n"
     ]
    }
   ],
   "source": [
    "line1 = get_centerline(file_path)"
   ]
  },
  {
   "cell_type": "code",
   "execution_count": 22,
   "metadata": {},
   "outputs": [
    {
     "data": {
      "text/plain": [
       "array([[207.  , 293.  ,   4.11],\n",
       "       [206.  , 294.  ,   8.23],\n",
       "       [205.  , 295.  ,  12.34],\n",
       "       [204.  , 295.  ,  16.46],\n",
       "       [203.  , 295.  ,  20.57],\n",
       "       [202.  , 295.  ,  24.69],\n",
       "       [201.  , 296.  ,  28.8 ],\n",
       "       [200.  , 296.  ,  32.91],\n",
       "       [199.  , 296.  ,  37.03],\n",
       "       [198.  , 296.  ,  41.14],\n",
       "       [197.  , 296.  ,  45.26],\n",
       "       [197.  , 296.  ,  49.37],\n",
       "       [196.  , 296.  ,  53.49],\n",
       "       [195.  , 296.  ,  57.6 ],\n",
       "       [194.  , 296.  ,  61.71],\n",
       "       [194.  , 296.  ,  65.83],\n",
       "       [193.  , 296.  ,  69.94],\n",
       "       [193.  , 296.  ,  74.06],\n",
       "       [192.  , 296.  ,  78.17],\n",
       "       [192.  , 295.  ,  82.29],\n",
       "       [192.  , 295.  ,  86.4 ],\n",
       "       [192.  , 294.  ,  90.52],\n",
       "       [191.  , 293.  ,  94.63],\n",
       "       [191.  , 294.  ,  98.74],\n",
       "       [190.  , 292.  , 102.86],\n",
       "       [190.  , 292.  , 106.97],\n",
       "       [190.  , 291.  , 111.09],\n",
       "       [189.  , 289.  , 115.2 ],\n",
       "       [189.  , 287.  , 119.32],\n",
       "       [188.  , 285.  , 123.43],\n",
       "       [187.  , 284.  , 127.54],\n",
       "       [187.  , 284.  , 131.66],\n",
       "       [186.  , 283.  , 135.77],\n",
       "       [186.  , 282.  , 139.89],\n",
       "       [185.  , 281.  , 144.  ],\n",
       "       [185.  , 279.  , 148.12],\n",
       "       [184.  , 279.  , 152.23],\n",
       "       [184.  , 278.  , 156.34],\n",
       "       [183.  , 277.  , 160.46],\n",
       "       [182.  , 277.  , 164.57],\n",
       "       [182.  , 276.  , 168.69],\n",
       "       [181.  , 274.  , 172.8 ],\n",
       "       [180.  , 273.  , 176.92],\n",
       "       [180.  , 271.  , 181.03],\n",
       "       [179.  , 270.  , 185.14],\n",
       "       [179.  , 269.  , 189.26],\n",
       "       [178.  , 268.  , 193.37],\n",
       "       [178.  , 266.  , 197.49],\n",
       "       [177.  , 265.  , 201.6 ],\n",
       "       [177.  , 264.  , 205.72],\n",
       "       [176.  , 262.  , 209.83],\n",
       "       [175.  , 261.  , 213.94],\n",
       "       [175.  , 261.  , 218.06],\n",
       "       [175.  , 257.  , 222.17],\n",
       "       [174.  , 256.  , 226.29],\n",
       "       [174.  , 253.  , 230.4 ],\n",
       "       [174.  , 251.  , 234.52],\n",
       "       [173.  , 249.  , 238.63],\n",
       "       [173.  , 247.  , 242.75],\n",
       "       [173.  , 245.  , 246.86],\n",
       "       [173.  , 244.  , 250.97],\n",
       "       [173.  , 242.  , 255.09],\n",
       "       [172.  , 241.  , 259.2 ],\n",
       "       [173.  , 239.  , 263.32],\n",
       "       [172.  , 237.  , 267.43],\n",
       "       [171.  , 236.  , 271.55],\n",
       "       [171.  , 234.  , 275.66],\n",
       "       [171.  , 233.  , 279.77],\n",
       "       [170.  , 231.  , 283.89],\n",
       "       [170.  , 230.  , 288.  ],\n",
       "       [169.  , 229.  , 292.12],\n",
       "       [169.  , 227.  , 296.23],\n",
       "       [168.  , 225.  , 300.35],\n",
       "       [166.  , 224.  , 304.46],\n",
       "       [164.  , 223.  , 308.57]])"
      ]
     },
     "execution_count": 22,
     "metadata": {},
     "output_type": "execute_result"
    }
   ],
   "source": []
  },
  {
   "cell_type": "code",
   "execution_count": null,
   "metadata": {},
   "outputs": [],
   "source": []
  }
 ],
 "metadata": {
  "kernelspec": {
   "display_name": "Python [conda env:sassd] *",
   "language": "python",
   "name": "conda-env-sassd-py"
  },
  "language_info": {
   "codemirror_mode": {
    "name": "ipython",
    "version": 3
   },
   "file_extension": ".py",
   "mimetype": "text/x-python",
   "name": "python",
   "nbconvert_exporter": "python",
   "pygments_lexer": "ipython3",
   "version": "3.7.6"
  }
 },
 "nbformat": 4,
 "nbformat_minor": 4
}
