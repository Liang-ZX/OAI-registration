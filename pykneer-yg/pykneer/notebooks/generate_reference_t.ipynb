{
 "cells": [
  {
   "cell_type": "code",
   "execution_count": 1,
   "metadata": {},
   "outputs": [],
   "source": [
    "import numpy as np\n",
    "import cv2\n",
    "import SimpleITK as sitk\n",
    "from matplotlib import pyplot as plt\n",
    "import scipy.io as io\n",
    "\n",
    "# path = 'E:\\\\split_seq_OAI\\\\reference.mha'\n",
    "path = '/home/liangzx/code/OAI-registration/newsubject/reference.mha'\n",
    "image = sitk.ReadImage(path)\n",
    "resacleFilter = sitk.RescaleIntensityImageFilter()\n",
    "resacleFilter.SetOutputMaximum(255)\n",
    "resacleFilter.SetOutputMinimum(0)\n",
    "img3D = resacleFilter.Execute(image)\n",
    "img = sitk.GetArrayFromImage(img3D).astype('uint8')\n",
    "img_tmp = cv2.cvtColor(img[:,:,70],cv2.COLOR_GRAY2RGB)"
   ]
  },
  {
   "cell_type": "code",
   "execution_count": 105,
   "metadata": {},
   "outputs": [],
   "source": [
    "path = '/home/liangzx/code/OAI-registration/newsubject/reference_f.mha'\n",
    "fimage = sitk.ReadImage(path)"
   ]
  },
  {
   "cell_type": "code",
   "execution_count": null,
   "metadata": {},
   "outputs": [],
   "source": [
    "mask = np.zeros(img_tmp.shape[:2],np.uint8)\n",
    "bgdModel = np.zeros((1,65),np.float64)\n",
    "fgdModel = np.zeros((1,65),np.float64)\n",
    "rect = (50,50,450,290)#划定区域\n",
    "cv2.grabCut(img_tmp,mask,rect,bgdModel,fgdModel,5,cv2.GC_INIT_WITH_RECT)#函数返回值为mask,bgdModel,fgdModel\n",
    "mask2 = np.where((mask==2)|(mask==0),0,1).astype('uint8')#0和2做背景\n",
    "\n",
    "img_tmp = img_tmp*mask2[:,:,np.newaxis]#使用蒙板来获取前景区域\n",
    "\n",
    "\n",
    "\n",
    "cv2.imshow('p',img_tmp)\n",
    "cv2.waitKey(0)"
   ]
  },
  {
   "cell_type": "code",
   "execution_count": 2,
   "metadata": {},
   "outputs": [],
   "source": [
    "import scipy.io as scio"
   ]
  },
  {
   "cell_type": "code",
   "execution_count": 3,
   "metadata": {},
   "outputs": [],
   "source": [
    "dataFile = '/home/liangzx/code/OAI-registration/newsubject/tibia_mask.mat'\n",
    "data = scio.loadmat(dataFile)"
   ]
  },
  {
   "cell_type": "code",
   "execution_count": 4,
   "metadata": {},
   "outputs": [],
   "source": [
    "mask_npy = data['result_new']"
   ]
  },
  {
   "cell_type": "code",
   "execution_count": 5,
   "metadata": {},
   "outputs": [],
   "source": [
    "fixed_image = img3D"
   ]
  },
  {
   "cell_type": "code",
   "execution_count": 6,
   "metadata": {},
   "outputs": [],
   "source": [
    "mask_image = sitk.GetImageFromArray(mask_npy)\n",
    "mask_image.SetDirection(fixed_image.GetDirection())\n",
    "mask_image.SetOrigin(fixed_image.GetOrigin())\n",
    "mask_image.SetSpacing(fixed_image.GetSpacing())"
   ]
  },
  {
   "cell_type": "code",
   "execution_count": 7,
   "metadata": {},
   "outputs": [],
   "source": [
    "def tmp_resample(fixed_image):\n",
    "    isoresample = sitk.ResampleImageFilter()\n",
    "#     isoresample.SetDefaultPixelValue(255);\n",
    "    isoresample.SetInterpolator(sitk.sitkNearestNeighbor)\n",
    "    isoresample.SetOutputDirection(fixed_image.GetDirection())\n",
    "    isoresample.SetOutputOrigin(fixed_image.GetOrigin())\n",
    "    isoresample.SetOutputSpacing(fixed_image.GetSpacing())\n",
    "    isoresample.SetSize(fixed_image.GetSize())\n",
    "    return isoresample.Execute(fixed_image)"
   ]
  },
  {
   "cell_type": "code",
   "execution_count": 8,
   "metadata": {},
   "outputs": [],
   "source": [
    "resacleFilter = sitk.RescaleIntensityImageFilter()\n",
    "resacleFilter.SetOutputMaximum(255)\n",
    "resacleFilter.SetOutputMinimum(0)\n",
    "mask_tmp2 = resacleFilter.Execute(mask_image)"
   ]
  },
  {
   "cell_type": "code",
   "execution_count": 9,
   "metadata": {},
   "outputs": [],
   "source": [
    "mask_tmp = tmp_resample(mask_tmp2)"
   ]
  },
  {
   "cell_type": "code",
   "execution_count": 10,
   "metadata": {},
   "outputs": [],
   "source": [
    "# binaryFilter = sitk.BinaryThresholdImageFilter()\n",
    "# binaryFilter.SetLowerThreshold(0.0)\n",
    "# binaryFilter.SetUpperThreshold(50.0)\n",
    "# binaryFilter.SetOutsideValue(255)\n",
    "# binaryFilter.SetInsideValue(0)\n",
    "# mask_tmp3 = binaryFilter.Execute(mask_tmp)"
   ]
  },
  {
   "cell_type": "code",
   "execution_count": null,
   "metadata": {},
   "outputs": [],
   "source": []
  },
  {
   "cell_type": "code",
   "execution_count": 10,
   "metadata": {},
   "outputs": [],
   "source": [
    "from ipywidgets import interact, fixed"
   ]
  },
  {
   "cell_type": "code",
   "execution_count": 11,
   "metadata": {},
   "outputs": [],
   "source": [
    "def display_images_with_mask(image_z, fixed, moving):\n",
    "    # img = (1.0 - alpha)*fixed[:,:,image_z] + alpha*moving[:,:,image_z]\n",
    "    fixed = sitk.GetArrayFromImage(fixed)\n",
    "    moving = sitk.GetArrayFromImage(moving) # mask\n",
    "    dst = fixed[image_z,:,:]*0.5+moving[image_z,:,:]*0.5\n",
    "    plt.imshow(dst, cmap=plt.cm.Greys_r)\n",
    "    # plt.imshow(sitk.GetArrayViewFromImage(img),cmap=plt.cm.Greys_r);\n",
    "    plt.axis('off')\n",
    "    plt.show()\n",
    "\n",
    "def show_masked_images(image, mask):\n",
    "    interact(display_images_with_mask, image_z=(0,image.GetSize()[2] - 1), \n",
    "             fixed = fixed(image), moving=fixed(mask));\n",
    "\n",
    "def display_mask(image_z, fixed):\n",
    "    # img = (1.0 - alpha)*fixed[:,:,image_z] + alpha*moving[:,:,image_z]\n",
    "    fixed = sitk.GetArrayFromImage(fixed)\n",
    "    dst = fixed[image_z,:,:]*255\n",
    "#     plt.figure(figsize=(8, 8))\n",
    "    plt.imshow(dst, cmap=plt.cm.Greys_r)\n",
    "    # plt.imshow(sitk.GetArrayViewFromImage(img),cmap=plt.cm.Greys_r);\n",
    "    plt.axis('off')\n",
    "    plt.show()\n",
    "    \n",
    "def show_mask(image):\n",
    "    interact(display_mask, image_z=(0,image.GetSize()[2] - 1), fixed = fixed(image));"
   ]
  },
  {
   "cell_type": "code",
   "execution_count": 12,
   "metadata": {},
   "outputs": [
    {
     "data": {
      "application/vnd.jupyter.widget-view+json": {
       "model_id": "6df7cc76f8584bf799c50fe32205b51d",
       "version_major": 2,
       "version_minor": 0
      },
      "text/plain": [
       "interactive(children=(IntSlider(value=191, description='image_z', max=383), Output()), _dom_classes=('widget-i…"
      ]
     },
     "metadata": {},
     "output_type": "display_data"
    }
   ],
   "source": [
    "show_mask(mask_tmp)"
   ]
  },
  {
   "cell_type": "code",
   "execution_count": 13,
   "metadata": {},
   "outputs": [],
   "source": [
    "resacleFilter = sitk.RescaleIntensityImageFilter()\n",
    "resacleFilter.SetOutputMaximum(1)\n",
    "resacleFilter.SetOutputMinimum(0)\n",
    "mask_tmp = resacleFilter.Execute(mask_tmp)\n",
    "sitk.WriteImage(sitk.Cast(mask_tmp, sitk.sitkInt16), \"/home/liangzx/code/OAI-registration/newsubject/reference_t.mha\")"
   ]
  },
  {
   "cell_type": "code",
   "execution_count": null,
   "metadata": {},
   "outputs": [],
   "source": []
  }
 ],
 "metadata": {
  "kernelspec": {
   "display_name": "Python [conda env:vectornet] *",
   "language": "python",
   "name": "conda-env-vectornet-py"
  },
  "language_info": {
   "codemirror_mode": {
    "name": "ipython",
    "version": 3
   },
   "file_extension": ".py",
   "mimetype": "text/x-python",
   "name": "python",
   "nbconvert_exporter": "python",
   "pygments_lexer": "ipython3",
   "version": "3.7.6"
  }
 },
 "nbformat": 4,
 "nbformat_minor": 4
}
