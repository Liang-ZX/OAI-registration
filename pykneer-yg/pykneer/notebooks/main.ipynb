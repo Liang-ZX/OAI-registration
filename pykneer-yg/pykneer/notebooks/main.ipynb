{
 "cells": [
  {
   "cell_type": "code",
   "execution_count": 4,
   "metadata": {},
   "outputs": [],
   "source": [
    "import sys\n",
    "import importlib\n",
    "sys.path.append(r'../../pykneer')\n",
    "sys.path.append(r'../pykneer')\n",
    "import pykneer_io as io\n",
    "importlib.reload(io)\n",
    "import preprocessing_for_nb as prep\n",
    "importlib.reload(prep)\n",
    "import segmentation_sa_for_nb as segm\n",
    "importlib.reload(segm)\n",
    "\n",
    "import SimpleITK as sitk\n",
    "import matplotlib.pyplot as plt\n",
    "%matplotlib inline\n",
    "\n",
    "sys.path.append(\"../../..\")\n",
    "from MyProcessDicom import *\n",
    "from icafeAPI import generate_centerline\n",
    "\n",
    "from preparing_images import prepare_image_and_list\n",
    "from display_and_show_images import *"
   ]
  },
  {
   "cell_type": "code",
   "execution_count": null,
   "metadata": {},
   "outputs": [],
   "source": [
    "def prepare_centerline(caselist):\n",
    "    ref_dir = r\"C:\\\\Zhixuan\\\\OAI-registration\\\\pykneer-yg/reference/centerline/\"\n",
    "    for case in caselist:\n",
    "        pid = case['pid']\n",
    "        side = case['side']\n",
    "        for j in range(len(case['TP'])):\n",
    "            if (generate_centerline(pid, case['TP'][j], side, case['TP2'])):\n",
    "                file_path = r'C:\\\\Zhixuan\\\\centerline/P'+pid+side+'/tracing_raw_ves_TH_'+str(case['TP'][j])+'_P'+pid+side+'_U.swc'\n",
    "                ref_path = ref_dir + pid + side + \"_TP\" + str(case['TP'][j]) + \"_line.txt\"\n",
    "                shutil.move(file_path, ref_path)"
   ]
  },
  {
   "cell_type": "code",
   "execution_count": 2,
   "metadata": {},
   "outputs": [
    {
     "name": "stdout",
     "output_type": "stream",
     "text": [
      "ahaknee0tp29  exist\n",
      "dcm path for TPid 0 Z:/OAI Baseline/ge0/9189303/10397606\n",
      "Loading QVJ Y:/0tp29\\cascade/0/9189303/10397606L\\E10397606L_L.QVJ\n",
      "Adding QVS E10397606LS101_L.QVS\n",
      "ahaknee12tp29  exist\n",
      "dcm path for TPid 1 Z:/OAI 12 Months/2.C.2/9189303/20060522/11151205\n",
      "Loading QVJ Y:/12tp29\\cascade/12/9189303/20060522L\\E20060522L_L.QVJ\n",
      "Adding QVS E20060522LS101_L.QVS\n",
      "ahaknee18tp29  exist\n",
      "cannot find dcm path for TPid 2\n",
      "ahaknee24tp29  exist\n",
      "cannot find dcm path for TPid 3\n",
      "ahaknee30tp29  exist\n",
      "cannot find dcm path for TPid 4\n",
      "ahaknee36tp29  exist\n",
      "cannot find dcm path for TPid 5\n",
      "ahaknee48tp29  exist\n",
      "cannot find dcm path for TPid 6\n",
      "ahaknee72tp29  exist\n",
      "cannot find dcm path for TPid 8\n",
      "ahaknee96tp29  exist\n",
      "cannot find dcm path for TPid 10\n",
      "ahaknee0tp29  exist\n",
      "dcm path for TPid 0 Z:/OAI Baseline/ge0/9189303/10397613\n",
      "Loading QVJ Y:/0tp29\\cascade/0/9189303/10397613R\\E10397613R_R.QVJ\n",
      "Adding QVS E10397613RS101_R.QVS\n",
      "ahaknee12tp29  exist\n",
      "dcm path for TPid 1 Z:/OAI 12 Months/2.C.2/9189303/20060522/11151210\n",
      "Loading QVJ Y:/12tp29\\cascade/12/9189303/20060522R\\E20060522R_R.QVJ\n",
      "Adding QVS E20060522RS101_R.QVS\n",
      "ahaknee18tp29  exist\n",
      "cannot find dcm path for TPid 2\n",
      "ahaknee24tp29  exist\n",
      "dcm path for TPid 3 Z:/OAI 24 Months/3.E.1/9189303/20070516/11745204\n",
      "Loading QVJ Y:/24tp29\\cascade/24/9189303/20070516R\\E20070516R_R.QVJ\n",
      "Adding QVS E20070516RS101_R.QVS\n",
      "ahaknee30tp29  exist\n",
      "cannot find dcm path for TPid 4\n",
      "ahaknee36tp29  exist\n",
      "dcm path for TPid 5 Z:/OAI 36 Months/5.E.1/9189303/20080508/12335807\n",
      "Loading QVJ Y:/36tp29\\cascade/36/9189303/20080508R\\E20080508R_R.QVJ\n",
      "Adding QVS E20080508RS101_R.QVS\n",
      "ahaknee48tp29  exist\n",
      "dcm path for TPid 6 Z:/OAI 48 Months/6.E.1/9189303/20090611/13184006\n",
      "Loading QVJ Y:/48tp29\\cascade/48/9189303/20090611R\\E20090611R_R.QVJ\n",
      "Adding QVS E20090611RS101_R.QVS\n",
      "ahaknee72tp29  exist\n",
      "dcm path for TPid 8 Z:/OAI 72 Months/8.E.1/9189303/20110310/13012211\n",
      "Loading QVJ Y:/72tp29\\cascade/72/9189303/20110310R\\E20110310R_R.QVJ\n",
      "Adding QVS E20110310RS101_R.QVS\n",
      "ahaknee96tp29  exist\n",
      "cannot find dcm path for TPid 10\n",
      "ahaknee0tp29  exist\n",
      "dcm path for TPid 0 Z:/OAI Baseline/gc0/9939718/10677605\n",
      "Loading QVJ Y:/0tp29\\cascade/0/9939718/10677605L\\E10677605L_L.QVJ\n",
      "Adding QVS E10677605LS101_L.QVS\n",
      "ahaknee12tp29  exist\n",
      "dcm path for TPid 1 Z:/OAI 12 Months/1.C.2/9939718/20050930/10599605\n",
      "Loading QVJ Y:/12tp29\\cascade/12/9939718/20050930L\\E20050930L_L.QVJ\n",
      "Adding QVS E20050930LS101_L.QVS\n",
      "ahaknee18tp29  exist\n",
      "cannot find dcm path for TPid 2\n",
      "ahaknee24tp29  exist\n",
      "dcm path for TPid 3 Z:/OAI 24 Months/3.C.2/9939718/20060810/11302505\n",
      "Loading QVJ Y:/24tp29\\cascade/24/9939718/20060810L\\E20060810L_L.QVJ\n",
      "Adding QVS E20060810LS101_L.QVS\n",
      "ahaknee30tp29  exist\n",
      "cannot find dcm path for TPid 4\n",
      "ahaknee36tp29  exist\n",
      "dcm path for TPid 5 Z:/OAI 36 Months/5.C.1/9939718/20070721/11871004\n",
      "Loading QVJ Y:/36tp29\\cascade/36/9939718/20070721L\\E20070721L_L.QVJ\n",
      "Adding QVS E20070721LS101_L.QVS\n",
      "ahaknee48tp29  exist\n",
      "dcm path for TPid 6 Z:/OAI 48 Months/6.C.1/9939718/20080715/12440205\n",
      "Loading QVJ Y:/48tp29\\cascade/48/9939718/20080715L\\E20080715L_L.QVJ\n",
      "Adding QVS E20080715LS101_L.QVS\n",
      "ahaknee72tp29  exist\n",
      "dcm path for TPid 8 Z:/OAI 72 Months/8.C.1/9939718/20100712/11060405\n",
      "Loading QVJ Y:/72tp29\\cascade/72/9939718/20100712L\\E20100712L_L.QVJ\n",
      "Adding QVS E20100712LS101_L.QVS\n",
      "ahaknee96tp29  exist\n",
      "dcm path for TPid 10 Z:/OAI 96 Months/10.C.1/9939718/20121130/13436605\n",
      "Loading QVJ Y:/96tp29\\cascade/96/9939718/20121130L\\E20121130L_L.QVJ\n",
      "Adding QVS E20121130LS101_L.QVS\n",
      "ahaknee0tp29  exist\n",
      "dcm path for TPid 0 Z:/OAI Baseline/gc0/9939718/10677611\n",
      "Loading QVJ Y:/0tp29\\cascade/0/9939718/10677611R\\E10677611R_R.QVJ\n",
      "Adding QVS E10677611RS101_R.QVS\n",
      "ahaknee12tp29  exist\n",
      "dcm path for TPid 1 Z:/OAI 12 Months/1.C.2/9939718/20050930/10599611\n",
      "Loading QVJ Y:/12tp29\\cascade/12/9939718/20050930R\\E20050930R_R.QVJ\n",
      "Adding QVS E20050930RS101_R.QVS\n",
      "ahaknee18tp29  exist\n",
      "dcm path for TPid 2 Z:/OAI 18 Months/2.D.2/9939718/20060303/10876605\n",
      "Loading QVJ Y:/18tp29\\cascade/18/9939718/20060303R\\E20060303R_R.QVJ\n",
      "Adding QVS E20060303RS101_R.QVS\n",
      "ahaknee24tp29  exist\n",
      "dcm path for TPid 3 Z:/OAI 24 Months/3.C.2/9939718/20060810/11302511\n",
      "Loading QVJ Y:/24tp29\\cascade/24/9939718/20060810R\\E20060810R_R.QVJ\n",
      "Adding QVS E20060810RS101_R.QVS\n",
      "ahaknee30tp29  exist\n",
      "cannot find dcm path for TPid 4\n",
      "ahaknee36tp29  exist\n",
      "dcm path for TPid 5 Z:/OAI 36 Months/5.C.1/9939718/20070721/11871010\n",
      "Loading QVJ Y:/36tp29\\cascade/36/9939718/20070721R\\E20070721R_R.QVJ\n",
      "Adding QVS E20070721RS101_R.QVS\n",
      "ahaknee48tp29  exist\n",
      "dcm path for TPid 6 Z:/OAI 48 Months/6.C.1/9939718/20080715/12440211\n",
      "Loading QVJ Y:/48tp29\\cascade/48/9939718/20080715R\\E20080715R_R.QVJ\n",
      "Adding QVS E20080715RS101_R.QVS\n",
      "ahaknee72tp29  exist\n",
      "dcm path for TPid 8 Z:/OAI 72 Months/8.C.1/9939718/20100712/11060411\n",
      "Loading QVJ Y:/72tp29\\cascade/72/9939718/20100712R\\E20100712R_R.QVJ\n",
      "Adding QVS E20100712RS101_R.QVS\n",
      "ahaknee96tp29  exist\n",
      "dcm path for TPid 10 Z:/OAI 96 Months/10.C.1/9939718/20121130/13436611\n",
      "Loading QVJ Y:/96tp29\\cascade/96/9939718/20121130R\\E20121130R_R.QVJ\n",
      "Adding QVS E20121130RS101_R.QVS\n",
      "ahaknee0tp29  exist\n",
      "dcm path for TPid 0 Z:/OAI Baseline/gc0/9941231/10118906\n",
      "Loading QVJ Y:/0tp29\\cascade/0/9941231/10118906L\\E10118906L_L.QVJ\n",
      "Adding QVS E10118906LS101_L.QVS\n",
      "ahaknee12tp29  exist\n",
      "dcm path for TPid 1 Z:/OAI 12 Months/1.C.2/9941231/20051012/10199005\n",
      "Loading QVJ Y:/12tp29\\cascade/12/9941231/20051012L\\E20051012L_L.QVJ\n",
      "Adding QVS E20051012LS101_L.QVS\n",
      "ahaknee18tp29  exist\n",
      "cannot find dcm path for TPid 2\n",
      "ahaknee24tp29  exist\n",
      "dcm path for TPid 3 Z:/OAI 24 Months/3.C.2/9941231/20060804/11265108\n",
      "Loading QVJ Y:/24tp29\\cascade/24/9941231/20060804L\\E20060804L_L.QVJ\n",
      "Adding QVS E20060804LS101_L.QVS\n",
      "ahaknee30tp29  exist\n",
      "cannot find dcm path for TPid 4\n",
      "ahaknee36tp29  exist\n",
      "dcm path for TPid 5 Z:/OAI 36 Months/5.C.1/9941231/20070713/11861304\n",
      "Loading QVJ Y:/36tp29\\cascade/36/9941231/20070713L\\E20070713L_L.QVJ\n",
      "Adding QVS E20070713LS101_L.QVS\n",
      "ahaknee48tp29  exist\n",
      "dcm path for TPid 6 Z:/OAI 48 Months/6.C.1/9941231/20080724/12444708\n",
      "Loading QVJ Y:/48tp29\\cascade/48/9941231/20080724L\\E20080724L_L.QVJ\n",
      "Adding QVS E20080724LS101_L.QVS\n",
      "ahaknee72tp29  exist\n",
      "dcm path for TPid 8 Z:/OAI 72 Months/8.C.1/9941231/20100809/11021805\n",
      "Loading QVJ Y:/72tp29\\cascade/72/9941231/20100809L\\E20100809L_L.QVJ\n",
      "Adding QVS E20100809LS101_L.QVS\n",
      "ahaknee96tp29  exist\n",
      "dcm path for TPid 10 Z:/OAI 96 Months/10.C.1/9941231/20120830/13486205\n",
      "Loading QVJ Y:/96tp29\\cascade/96/9941231/20120830L\\E20120830L_L.QVJ\n",
      "Adding QVS E20120830LS101_L.QVS\n",
      "ahaknee0tp29  exist\n",
      "dcm path for TPid 0 Z:/OAI Baseline/gc0/9941231/10118912\n",
      "Loading QVJ Y:/0tp29\\cascade/0/9941231/10118912R\\E10118912R_R.QVJ\n",
      "Adding QVS E10118912RS101_R.QVS\n",
      "ahaknee12tp29  exist\n",
      "dcm path for TPid 1 Z:/OAI 12 Months/1.C.2/9941231/20051012/10199011\n",
      "Loading QVJ Y:/12tp29\\cascade/12/9941231/20051012R\\E20051012R_R.QVJ\n",
      "Adding QVS E20051012RS101_R.QVS\n",
      "ahaknee18tp29  exist\n",
      "cannot find dcm path for TPid 2\n",
      "ahaknee24tp29  exist\n",
      "dcm path for TPid 3 Z:/OAI 24 Months/3.C.2/9941231/20060804/11265114\n",
      "Loading QVJ Y:/24tp29\\cascade/24/9941231/20060804R\\E20060804R_R.QVJ\n",
      "Adding QVS E20060804RS101_R.QVS\n",
      "ahaknee30tp29  exist\n",
      "cannot find dcm path for TPid 4\n",
      "ahaknee36tp29  exist\n",
      "dcm path for TPid 5 Z:/OAI 36 Months/5.C.1/9941231/20070713/11861310\n",
      "Loading QVJ Y:/36tp29\\cascade/36/9941231/20070713R\\E20070713R_R.QVJ\n",
      "Adding QVS E20070713RS101_R.QVS\n",
      "ahaknee48tp29  exist\n",
      "dcm path for TPid 6 Z:/OAI 48 Months/6.C.1/9941231/20080724/12444714\n",
      "Loading QVJ Y:/48tp29\\cascade/48/9941231/20080724R\\E20080724R_R.QVJ\n",
      "Adding QVS E20080724RS101_R.QVS\n",
      "ahaknee72tp29  exist\n",
      "cannot find dcm path for TPid 8\n",
      "ahaknee96tp29  exist\n",
      "cannot find dcm path for TPid 10\n",
      "ahaknee0tp29  exist\n",
      "dcm path for TPid 0 Z:/OAI Baseline/gc0/9942724/10119307\n",
      "Loading QVJ Y:/0tp29\\cascade/0/9942724/10119307L\\E10119307L_L.QVJ\n",
      "Adding QVS E10119307LS101_L.QVS\n",
      "ahaknee12tp29  exist\n",
      "dcm path for TPid 1 Z:/OAI 12 Months/1.C.2/9942724/20051011/10198005\n",
      "Loading QVJ Y:/12tp29\\cascade/12/9942724/20051011L\\E20051011L_L.QVJ\n",
      "Adding QVS E20051011LS101_L.QVS\n",
      "ahaknee18tp29  exist\n",
      "cannot find dcm path for TPid 2\n",
      "ahaknee24tp29  exist\n",
      "dcm path for TPid 3 Z:/OAI 24 Months/3.C.2/9942724/20061024/10371309\n",
      "Loading QVJ Y:/24tp29\\cascade/24/9942724/20061024L\\E20061024L_L.QVJ\n",
      "Adding QVS E20061024LS101_L.QVS\n",
      "ahaknee30tp29  exist\n",
      "cannot find dcm path for TPid 4\n",
      "ahaknee36tp29  exist\n",
      "cannot find dcm path for TPid 5\n",
      "ahaknee48tp29  exist\n",
      "dcm path for TPid 6 Z:/OAI 48 Months/6.C.1/9942724/20080724/12444508\n",
      "Loading QVJ Y:/48tp29\\cascade/48/9942724/20080724L\\E20080724L_L.QVJ\n"
     ]
    },
    {
     "name": "stdout",
     "output_type": "stream",
     "text": [
      "Adding QVS E20080724LS101_L.QVS\n",
      "ahaknee72tp29  exist\n",
      "cannot find dcm path for TPid 8\n",
      "ahaknee96tp29  exist\n",
      "dcm path for TPid 10 Z:/OAI 96 Months/10.C.1/9942724/20130508/13383008\n",
      "Loading QVJ Y:/96tp29\\cascade/96/9942724/20130508L\\E20130508L_L.QVJ\n",
      "Adding QVS E20130508LS101_L.QVS\n",
      "ahaknee0tp29  exist\n",
      "dcm path for TPid 0 Z:/OAI Baseline/gc0/9942724/10119313\n",
      "Loading QVJ Y:/0tp29\\cascade/0/9942724/10119313R\\E10119313R_R.QVJ\n",
      "Adding QVS E10119313RS101_R.QVS\n",
      "ahaknee12tp29  exist\n",
      "dcm path for TPid 1 Z:/OAI 12 Months/1.C.2/9942724/20051011/10198011\n",
      "Loading QVJ Y:/12tp29\\cascade/12/9942724/20051011R\\E20051011R_R.QVJ\n",
      "Adding QVS E20051011RS101_R.QVS\n",
      "ahaknee18tp29  exist\n",
      "cannot find dcm path for TPid 2\n",
      "ahaknee24tp29  exist\n",
      "dcm path for TPid 3 Z:/OAI 24 Months/3.C.2/9942724/20061024/10371314\n",
      "Loading QVJ Y:/24tp29\\cascade/24/9942724/20061024R\\E20061024R_R.QVJ\n",
      "Adding QVS E20061024RS101_R.QVS\n",
      "ahaknee30tp29  exist\n",
      "cannot find dcm path for TPid 4\n",
      "ahaknee36tp29  exist\n",
      "dcm path for TPid 5 Z:/OAI 36 Months/5.C.1/9942724/20071002/12021106\n",
      "Loading QVJ Y:/36tp29\\cascade/36/9942724/20071002R\\E20071002R_R.QVJ\n",
      "Adding QVS E20071002RS101_R.QVS\n",
      "ahaknee48tp29  exist\n",
      "dcm path for TPid 6 Z:/OAI 48 Months/6.C.1/9942724/20080724/12444514\n",
      "Loading QVJ Y:/48tp29\\cascade/48/9942724/20080724R\\E20080724R_R.QVJ\n",
      "Adding QVS E20080724RS101_R.QVS\n",
      "ahaknee72tp29  exist\n",
      "cannot find dcm path for TPid 8\n",
      "ahaknee96tp29  exist\n",
      "dcm path for TPid 10 Z:/OAI 96 Months/10.C.1/9942724/20130508/13383014\n",
      "Loading QVJ Y:/96tp29\\cascade/96/9942724/20130508R\\E20130508R_R.QVJ\n",
      "Adding QVS E20130508RS101_R.QVS\n",
      "ahaknee0tp29  exist\n",
      "dcm path for TPid 0 Z:/OAI Baseline/gc0/9941446/10304807\n",
      "Loading QVJ Y:/0tp29\\cascade/0/9941446/10304807L\\E10304807L_L.QVJ\n",
      "Adding QVS E10304807LS101_L.QVS\n",
      "ahaknee12tp29  exist\n",
      "dcm path for TPid 1 Z:/OAI 12 Months/1.C.2/9941446/20051207/10632205\n",
      "Loading QVJ Y:/12tp29\\cascade/12/9941446/20051207L\\E20051207L_L.QVJ\n",
      "Adding QVS E20051207LS101_L.QVS\n",
      "ahaknee18tp29  exist\n",
      "cannot find dcm path for TPid 2\n",
      "ahaknee24tp29  exist\n",
      "dcm path for TPid 3 Z:/OAI 24 Months/3.C.2/9941446/20070111/11492208\n",
      "Loading QVJ Y:/24tp29\\cascade/24/9941446/20070111L\\E20070111L_L.QVJ\n",
      "Adding QVS E20070111LS101_L.QVS\n",
      "ahaknee30tp29  exist\n",
      "cannot find dcm path for TPid 4\n",
      "ahaknee36tp29  exist\n",
      "cannot find dcm path for TPid 5\n",
      "ahaknee48tp29  exist\n",
      "dcm path for TPid 6 Z:/OAI 48 Months/6.C.1/9941446/20090312/12758716\n",
      "Loading QVJ Y:/48tp29\\cascade/48/9941446/20090312L\\E20090312L_L.QVJ\n",
      "Adding QVS E20090312LS101_L.QVS\n",
      "ahaknee72tp29  exist\n",
      "dcm path for TPid 8 Z:/OAI 72 Months/8.C.1/9941446/20101102/13086905\n",
      "Loading QVJ Y:/72tp29\\cascade/72/9941446/20101102L\\E20101102L_L.QVJ\n",
      "Adding QVS E20101102LS101_L.QVS\n",
      "ahaknee96tp29  exist\n",
      "dcm path for TPid 10 Z:/OAI 96 Months/10.C.1/9941446/20121101/13582710\n",
      "Loading QVJ Y:/96tp29\\cascade/96/9941446/20121101L\\E20121101L_L.QVJ\n",
      "Adding QVS E20121101LS101_L.QVS\n",
      "ahaknee0tp29  exist\n",
      "dcm path for TPid 0 Z:/OAI Baseline/gc0/9941446/10304815\n",
      "Loading QVJ Y:/0tp29\\cascade/0/9941446/10304815R\\E10304815R_R.QVJ\n",
      "Adding QVS E10304815RS101_R.QVS\n",
      "ahaknee12tp29  exist\n",
      "dcm path for TPid 1 Z:/OAI 12 Months/1.C.2/9941446/20051207/10632213\n",
      "Loading QVJ Y:/12tp29\\cascade/12/9941446/20051207R\\E20051207R_R.QVJ\n",
      "Adding QVS E20051207RS101_R.QVS\n",
      "ahaknee18tp29  exist\n",
      "cannot find dcm path for TPid 2\n",
      "ahaknee24tp29  exist\n",
      "dcm path for TPid 3 Z:/OAI 24 Months/3.C.2/9941446/20070111/11492217\n",
      "Loading QVJ Y:/24tp29\\cascade/24/9941446/20070111R\\E20070111R_R.QVJ\n",
      "Adding QVS E20070111RS101_R.QVS\n",
      "ahaknee30tp29  exist\n",
      "cannot find dcm path for TPid 4\n",
      "ahaknee36tp29  exist\n",
      "dcm path for TPid 5 Z:/OAI 36 Months/5.C.1/9941446/20080124/12199708\n",
      "Loading QVJ Y:/36tp29\\cascade/36/9941446/20080124R\\E20080124R_R.QVJ\n",
      "Adding QVS E20080124RS101_R.QVS\n",
      "ahaknee48tp29  exist\n",
      "dcm path for TPid 6 Z:/OAI 48 Months/6.C.1/9941446/20090312/12758705\n",
      "Loading QVJ Y:/48tp29\\cascade/48/9941446/20090312R\\E20090312R_R.QVJ\n",
      "Adding QVS E20090312RS101_R.QVS\n",
      "ahaknee72tp29  exist\n",
      "dcm path for TPid 8 Z:/OAI 72 Months/8.C.1/9941446/20101102/13086911\n",
      "Loading QVJ Y:/72tp29\\cascade/72/9941446/20101102R\\E20101102R_R.QVJ\n",
      "Adding QVS E20101102RS101_R.QVS\n",
      "ahaknee96tp29  exist\n",
      "dcm path for TPid 10 Z:/OAI 96 Months/10.C.1/9941446/20121101/13582718\n",
      "Loading QVJ Y:/96tp29\\cascade/96/9941446/20121101R\\E20121101R_R.QVJ\n",
      "Adding QVS E20121101RS101_R.QVS\n",
      "ahaknee0tp29  exist\n",
      "dcm path for TPid 0 Z:/OAI Baseline/gc0/9404954/10728107\n",
      "Loading QVJ Y:/0tp29\\cascade/0/9404954/10728107L\\E10728107L_L.QVJ\n",
      "Adding QVS E10728107LS101_L.QVS\n",
      "ahaknee12tp29  exist\n",
      "dcm path for TPid 1 Z:/OAI 12 Months/1.C.2/9404954/20060223/10862205\n",
      "Loading QVJ Y:/12tp29\\cascade/12/9404954/20060223L\\E20060223L_L.QVJ\n",
      "Adding QVS E20060223LS101_L.QVS\n",
      "ahaknee18tp29  exist\n",
      "cannot find dcm path for TPid 2\n",
      "ahaknee24tp29  exist\n",
      "dcm path for TPid 3 Z:/OAI 24 Months/3.C.2/9404954/20070518/11732407\n",
      "Loading QVJ Y:/24tp29\\cascade/24/9404954/20070518L\\E20070518L_L.QVJ\n",
      "Adding QVS E20070518LS101_L.QVS\n",
      "ahaknee30tp29  exist\n",
      "cannot find dcm path for TPid 4\n",
      "ahaknee36tp29  exist\n",
      "cannot find dcm path for TPid 5\n",
      "ahaknee48tp29  exist\n",
      "dcm path for TPid 6 Z:/OAI 48 Months/6.C.1/9404954/20090323/12540108\n",
      "Loading QVJ Y:/48tp29\\cascade/48/9404954/20090323L\\E20090323L_L.QVJ\n",
      "Adding QVS E20090323LS101_L.QVS\n",
      "ahaknee72tp29  exist\n",
      "dcm path for TPid 8 Z:/OAI 72 Months/8.C.1/9404954/20110202/13000504\n",
      "Loading QVJ Y:/72tp29\\cascade/72/9404954/20110202L\\E20110202L_L.QVJ\n",
      "Adding QVS E20110202LS101_L.QVS\n",
      "ahaknee96tp29  exist\n",
      "dcm path for TPid 10 Z:/OAI 96 Months/10.C.1/9404954/20121119/13579209\n",
      "Loading QVJ Y:/96tp29\\cascade/96/9404954/20121119L\\E20121119L_L.QVJ\n",
      "Adding QVS E20121119LS101_L.QVS\n",
      "ahaknee0tp29  exist\n",
      "dcm path for TPid 0 Z:/OAI Baseline/gc0/9404954/10728113\n",
      "Loading QVJ Y:/0tp29\\cascade/0/9404954/10728113R\\E10728113R_R.QVJ\n",
      "Adding QVS E10728113RS101_R.QVS\n",
      "ahaknee12tp29  exist\n",
      "dcm path for TPid 1 Z:/OAI 12 Months/1.C.2/9404954/20060223/10862212\n",
      "Loading QVJ Y:/12tp29\\cascade/12/9404954/20060223R\\E20060223R_R.QVJ\n",
      "Adding QVS E20060223RS101_R.QVS\n",
      "ahaknee18tp29  exist\n",
      "cannot find dcm path for TPid 2\n",
      "ahaknee24tp29  exist\n",
      "dcm path for TPid 3 Z:/OAI 24 Months/3.C.2/9404954/20070518/11732414\n",
      "Loading QVJ Y:/24tp29\\cascade/24/9404954/20070518R\\E20070518R_R.QVJ\n",
      "Adding QVS E20070518RS101_R.QVS\n",
      "ahaknee30tp29  exist\n",
      "dcm path for TPid 4 Z:/OAI 30 Months/results/4.G.1/9404954/20070817/11925205\n",
      "Loading QVJ Y:/30tp29\\cascade/30/9404954/20070817R\\E20070817R_R.QVJ\n",
      "Adding QVS E20070817RS101_R.QVS\n",
      "ahaknee36tp29  exist\n",
      "dcm path for TPid 5 Z:/OAI 36 Months/5.C.1/9404954/20080108/12024504\n",
      "Loading QVJ Y:/36tp29\\cascade/36/9404954/20080108R\\E20080108R_R.QVJ\n",
      "Adding QVS E20080108RS101_R.QVS\n",
      "ahaknee48tp29  exist\n",
      "dcm path for TPid 6 Z:/OAI 48 Months/6.C.1/9404954/20090323/12540116\n",
      "Loading QVJ Y:/48tp29\\cascade/48/9404954/20090323R\\E20090323R_R.QVJ\n",
      "Adding QVS E20090323RS101_R.QVS\n",
      "ahaknee72tp29  exist\n",
      "dcm path for TPid 8 Z:/OAI 72 Months/8.C.1/9404954/20110202/13000511\n",
      "Loading QVJ Y:/72tp29\\cascade/72/9404954/20110202R\\E20110202R_R.QVJ\n",
      "Adding QVS E20110202RS101_R.QVS\n",
      "ahaknee96tp29  exist\n",
      "dcm path for TPid 10 Z:/OAI 96 Months/10.C.1/9404954/20121119/13579215\n",
      "Loading QVJ Y:/96tp29\\cascade/96/9404954/20121119R\\E20121119R_R.QVJ\n",
      "Adding QVS E20121119RS101_R.QVS\n",
      "ahaknee0tp29  exist\n",
      "dcm path for TPid 0 Z:/OAI Baseline/gc0/9942030/10566806\n",
      "Loading QVJ Y:/0tp29\\cascade/0/9942030/10566806L\\E10566806L_L.QVJ\n",
      "Adding QVS E10566806LS101_L.QVS\n",
      "ahaknee12tp29  exist\n",
      "dcm path for TPid 1 Z:/OAI 12 Months/1.C.2/9942030/20060627/11208204\n",
      "Loading QVJ Y:/12tp29\\cascade/12/9942030/20060627L\\E20060627L_L.QVJ\n",
      "Adding QVS E20060627LS101_L.QVS\n",
      "ahaknee18tp29  exist\n",
      "cannot find dcm path for TPid 2\n",
      "ahaknee24tp29  exist\n",
      "dcm path for TPid 3 Z:/OAI 24 Months/3.C.2/9942030/20070820/11940405\n",
      "Loading QVJ Y:/24tp29\\cascade/24/9942030/20070820L\\E20070820L_L.QVJ\n",
      "Adding QVS E20070820LS101_L.QVS\n",
      "ahaknee30tp29  exist\n",
      "cannot find dcm path for TPid 4\n",
      "ahaknee36tp29  exist\n",
      "dcm path for TPid 5 Z:/OAI 36 Months/5.C.1/9942030/20080819/12486505\n",
      "Loading QVJ Y:/36tp29\\cascade/36/9942030/20080819L\\E20080819L_L.QVJ\n",
      "Adding QVS E20080819LS101_L.QVS\n",
      "ahaknee48tp29  exist\n",
      "dcm path for TPid 6 Z:/OAI 48 Months/6.C.1/9942030/20090818/13195904\n",
      "Loading QVJ Y:/48tp29\\cascade/48/9942030/20090818L\\E20090818L_L.QVJ\n",
      "Adding QVS E20090818LS101_L.QVS\n",
      "ahaknee72tp29  exist\n",
      "cannot find dcm path for TPid 8\n",
      "ahaknee96tp29  exist\n",
      "cannot find dcm path for TPid 10\n",
      "ahaknee0tp29  exist\n",
      "dcm path for TPid 0 Z:/OAI Baseline/gc0/9942030/10566814\n",
      "Loading QVJ Y:/0tp29\\cascade/0/9942030/10566814R\\E10566814R_R.QVJ\n",
      "Adding QVS E10566814RS101_R.QVS\n",
      "ahaknee12tp29  exist\n"
     ]
    },
    {
     "name": "stdout",
     "output_type": "stream",
     "text": [
      "dcm path for TPid 1 Z:/OAI 12 Months/1.C.2/9942030/20060627/11208212\n",
      "Loading QVJ Y:/12tp29\\cascade/12/9942030/20060627R\\E20060627R_R.QVJ\n",
      "Adding QVS E20060627RS101_R.QVS\n",
      "ahaknee18tp29  exist\n",
      "cannot find dcm path for TPid 2\n",
      "ahaknee24tp29  exist\n",
      "dcm path for TPid 3 Z:/OAI 24 Months/3.C.2/9942030/20070820/11940413\n",
      "Loading QVJ Y:/24tp29\\cascade/24/9942030/20070820R\\E20070820R_R.QVJ\n",
      "Adding QVS E20070820RS101_R.QVS\n",
      "ahaknee30tp29  exist\n",
      "cannot find dcm path for TPid 4\n",
      "ahaknee36tp29  exist\n",
      "dcm path for TPid 5 Z:/OAI 36 Months/5.C.1/9942030/20080819/12486512\n",
      "Loading QVJ Y:/36tp29\\cascade/36/9942030/20080819R\\E20080819R_R.QVJ\n",
      "Adding QVS E20080819RS101_R.QVS\n",
      "ahaknee48tp29  exist\n",
      "dcm path for TPid 6 Z:/OAI 48 Months/6.C.1/9942030/20090818/13195913\n",
      "Loading QVJ Y:/48tp29\\cascade/48/9942030/20090818R\\E20090818R_R.QVJ\n",
      "Adding QVS E20090818RS101_R.QVS\n",
      "ahaknee72tp29  exist\n",
      "cannot find dcm path for TPid 8\n",
      "ahaknee96tp29  exist\n",
      "cannot find dcm path for TPid 10\n"
     ]
    }
   ],
   "source": [
    "# process list\n",
    "# first in TP as reference\n",
    "caselist = [\n",
    "    {'pid': '9189303','TP':[0,1,2,3,4,5,6,8,10],'TP2':[0,12,18,24,30,36,48,72,96],'side':'L'},\n",
    "    {'pid': '9189303','TP':[0,1,2,3,4,5,6,8,10],'TP2':[0,12,18,24,30,36,48,72,96],'side':'R'},\n",
    "    {'pid': '9939718','TP':[0,1,2,3,4,5,6,8,10],'TP2':[0,12,18,24,30,36,48,72,96],'side':'L'},\n",
    "    {'pid': '9939718','TP':[0,1,2,3,4,5,6,8,10],'TP2':[0,12,18,24,30,36,48,72,96],'side':'R'},\n",
    "    {'pid': '9941231','TP':[0,1,2,3,4,5,6,8,10],'TP2':[0,12,18,24,30,36,48,72,96],'side':'L'},\n",
    "    {'pid': '9941231','TP':[0,1,2,3,4,5,6,8,10],'TP2':[0,12,18,24,30,36,48,72,96],'side':'R'},\n",
    "    {'pid': '9942724','TP':[0,1,2,3,4,5,6,8,10],'TP2':[0,12,18,24,30,36,48,72,96],'side':'L'},\n",
    "    {'pid': '9942724','TP':[0,1,2,3,4,5,6,8,10],'TP2':[0,12,18,24,30,36,48,72,96],'side':'R'},\n",
    "    {'pid': '9941446','TP':[0,1,2,3,4,5,6,8,10],'TP2':[0,12,18,24,30,36,48,72,96],'side':'L'},\n",
    "    {'pid': '9941446','TP':[0,1,2,3,4,5,6,8,10],'TP2':[0,12,18,24,30,36,48,72,96],'side':'R'},\n",
    "    {'pid': '9404954','TP':[0,1,2,3,4,5,6,8,10],'TP2':[0,12,18,24,30,36,48,72,96],'side':'L'},\n",
    "    {'pid': '9404954','TP':[0,1,2,3,4,5,6,8,10],'TP2':[0,12,18,24,30,36,48,72,96],'side':'R'},\n",
    "    {'pid': '9942030','TP':[0,1,2,3,4,5,6,8,10],'TP2':[0,12,18,24,30,36,48,72,96],'side':'L'},\n",
    "    {'pid': '9942030','TP':[0,1,2,3,4,5,6,8,10],'TP2':[0,12,18,24,30,36,48,72,96],'side':'R'},\n",
    "]\n",
    "\n",
    "prepare_image_and_list(caselist)"
   ]
  },
  {
   "cell_type": "code",
   "execution_count": 3,
   "metadata": {},
   "outputs": [],
   "source": [
    "def preprocess():\n",
    "    input_file_name           = \".\\image_list_preprocessing.txt\"\n",
    "    n_of_cores                = 1 # change the number of cores according to your computer\n",
    "    intensity_standardization = 0\n",
    "\n",
    "    # Image information\n",
    "    image_data = io.load_image_data_preprocessing(input_file_name)\n",
    "\n",
    "    ref = sitk.ReadImage('../../reference/newsubject/reference.mha')\n",
    "\n",
    "    # Spatial standardization\n",
    "    # Step 0: Read the dicom images\n",
    "    prep.read_dicom_stack(image_data, n_of_cores)\n",
    "    # Save image header\n",
    "    prep.print_dicom_header(image_data, n_of_cores)    # save to *.txt\n",
    "\n",
    "    # Step 1: Change orientation to RAI\n",
    "    #prep.axial_to_sagittal(image_data, n_of_cores)\n",
    "    prep.orientation_to_rai(image_data, n_of_cores)\n",
    "\n",
    "    # Step 2: Change laterality if knee is right\n",
    "    prep.flip_rl(image_data, n_of_cores)\n",
    "    # Step 3: Set image origin to (0,0,0)\n",
    "    prep.origin_to_zero(image_data, n_of_cores)    # Images are saved as *_orig.mha and they are anonymized\n",
    "\n",
    "    # 4. Correct magnetic field inhomogeneities\n",
    "    # Magnetic fields inhomogeneities create grey shades on images. This correction removes these shades. \n",
    "    # This is the longest step of the processing. It can take up to 15-20 min on a standard PC or laptop\n",
    "    if intensity_standardization == 1:\n",
    "        prep.field_correction(image_data, n_of_cores)\n",
    "        prep.rescale_to_range(image_data, n_of_cores)  # 5. Rescale intensities to [0 100]\n",
    "        prep.edge_preserving_smoothing(image_data, n_of_cores)  # 6. Edge preserving smoothing\n",
    "\n",
    "# preprocess()"
   ]
  },
  {
   "cell_type": "code",
   "execution_count": 3,
   "metadata": {},
   "outputs": [],
   "source": [
    "def segmentation_sa():\n",
    "    input_file_name = \"./image_list_newsubject.txt\"\n",
    "    modality        = \"newsubject\" # use \"newsubject\", \"longitudinal\", or \"multimodal\" \n",
    "    n_of_cores      = 1\n",
    "\n",
    "    image_data = io.load_image_data_segmentation(modality, input_file_name)\n",
    "    segm.prepare_reference(image_data)\n",
    "    ### NOTE!!! reference_fv is dummy!!!\n",
    "\n",
    "    # Segment Bone\n",
    "#     # 1. Register image to reference\n",
    "    segm.register_bone_to_reference(image_data, n_of_cores)\n",
    "#     # 2. Invert transformations\n",
    "    segm.invert_bone_transformations(image_data, n_of_cores)\n",
    "#     # 3. Warp reference mask to moving image\n",
    "    segm.warp_bone_mask(image_data, n_of_cores)\n",
    "    \n",
    "    segm.register_tibia_to_reference(image_data, n_of_cores)\n",
    "    segm.invert_tibia_transformations(image_data, n_of_cores)\n",
    "    segm.warp_tibia_mask(image_data, n_of_cores)\n",
    "\n",
    "    # Segment cartilage\n",
    "    segm.register_cartilage_to_reference(image_data, n_of_cores)\n",
    "    segm.invert_cartilage_transformations(image_data, n_of_cores)\n",
    "    segm.warp_cartilage_mask(image_data, n_of_cores)\n",
    "    \n",
    "# segmentation_sa()"
   ]
  },
  {
   "cell_type": "code",
   "execution_count": 16,
   "metadata": {},
   "outputs": [],
   "source": [
    "def load_data(data_type):\n",
    "    if data_type == \"newsubject\":\n",
    "        input_file_name = \"./image_list_newsubject.txt\"\n",
    "        modality        = \"newsubject\" # use \"newsubject\", \"longitudinal\", or \"multimodal\" \n",
    "    elif data_type == \"reference\":\n",
    "        input_file_name = \"./image_list_reference.txt\"\n",
    "        modality        = \"newsubject\" # use \"newsubject\", \"longitudinal\", or \"multimodal\"\n",
    "    elif data_type == \"longitudinal\":\n",
    "        input_file_name = \"./image_list_longitudinal.txt\"\n",
    "        modality        = \"longitudinal\" # use \"newsubject\", \"longitudinal\", or \"multimodal\" \n",
    "    \n",
    "    n_of_cores      = 1\n",
    "    image_data = io.load_image_data_segmentation(modality, input_file_name)\n",
    "    return image_data"
   ]
  },
  {
   "cell_type": "code",
   "execution_count": 13,
   "metadata": {},
   "outputs": [
    {
     "name": "stdout",
     "output_type": "stream",
     "text": [
      "-> image information loaded\n"
     ]
    }
   ],
   "source": [
    "image_data = load_data(\"newsubject\")"
   ]
  },
  {
   "cell_type": "code",
   "execution_count": null,
   "metadata": {},
   "outputs": [],
   "source": [
    "image_data[0]"
   ]
  },
  {
   "cell_type": "code",
   "execution_count": 17,
   "metadata": {},
   "outputs": [
    {
     "name": "stdout",
     "output_type": "stream",
     "text": [
      "-> image information loaded\n"
     ]
    }
   ],
   "source": [
    "image_data = load_data(\"reference\")"
   ]
  },
  {
   "cell_type": "code",
   "execution_count": 5,
   "metadata": {},
   "outputs": [],
   "source": [
    "def segmentation_sa_long():\n",
    "    input_file_name = \"./image_list_longitudinal.txt\"\n",
    "    modality        = \"longitudinal\" # use \"newsubject\", \"longitudinal\", or \"multimodal\" \n",
    "    n_of_cores      = 1\n",
    "\n",
    "    image_data = io.load_image_data_segmentation(modality, input_file_name)\n",
    "    segm.prepare_reference(image_data)\n",
    "\n",
    "    segm.register_bone_to_reference(image_data, n_of_cores)\n",
    "    segm.invert_bone_transformations(image_data, n_of_cores)\n",
    "    segm.warp_tibia_mask(image_data, n_of_cores)\n",
    "    segm.warp_bone_mask(image_data, n_of_cores)\n",
    "\n",
    "    # segm.register_vessel_to_reference(image_data, n_of_cores)\n",
    "    # segm.invert_vessel_transformations(image_data, n_of_cores)\n",
    "    # segm.warp_vessel_mask(image_data, n_of_cores)\n",
    "    \n",
    "#     segm.register_cartilage_to_reference(image_data, n_of_cores)\n",
    "#     segm.invert_cartilage_transformations(image_data, n_of_cores)\n",
    "#     segm.warp_cartilage_mask(image_data, n_of_cores)\n",
    "    \n",
    "# segmentation_sa_long()"
   ]
  },
  {
   "cell_type": "code",
   "execution_count": null,
   "metadata": {},
   "outputs": [],
   "source": [
    "# preprocess()\n",
    "# segmentation_sa()\n",
    "# segmentation_sa_long()"
   ]
  },
  {
   "cell_type": "code",
   "execution_count": null,
   "metadata": {},
   "outputs": [],
   "source": []
  },
  {
   "cell_type": "code",
   "execution_count": null,
   "metadata": {},
   "outputs": [],
   "source": []
  },
  {
   "cell_type": "code",
   "execution_count": null,
   "metadata": {},
   "outputs": [],
   "source": []
  },
  {
   "cell_type": "code",
   "execution_count": null,
   "metadata": {},
   "outputs": [],
   "source": []
  },
  {
   "cell_type": "code",
   "execution_count": 19,
   "metadata": {},
   "outputs": [
    {
     "name": "stdout",
     "output_type": "stream",
     "text": [
      "-> image information loaded\n"
     ]
    }
   ],
   "source": [
    "image_data = load_data(\"longitudinal\")"
   ]
  },
  {
   "cell_type": "code",
   "execution_count": null,
   "metadata": {},
   "outputs": [],
   "source": [
    "image_data[0]"
   ]
  },
  {
   "cell_type": "code",
   "execution_count": 62,
   "metadata": {},
   "outputs": [
    {
     "data": {
      "application/vnd.jupyter.widget-view+json": {
       "model_id": "09220ed9113543879b7f25c75b507deb",
       "version_major": 2,
       "version_minor": 0
      },
      "text/plain": [
       "interactive(children=(IntSlider(value=191, description='image_z', max=383), FloatSlider(value=0.5, description…"
      ]
     },
     "metadata": {},
     "output_type": "display_data"
    }
   ],
   "source": [
    "# mask_file_name = image_data[0]['reference_folder'] + '9941231L_TP0_prep_f.mha'\n",
    "mask_file_name = image_data[0]['segmented_folder'] + '9404954L_TP3_prep_f.mha'\n",
    "# mask_file_name = \"C:\\\\Zhixuan\\\\OAI-registration\\\\pykneer-yg\\\\reference\\\\newsubject\\\\reference_f.mha\"\n",
    "tibia_file_name = image_data[0]['segmented_folder'] + '9404954L_TP3_prep_t_rigid.mha'\n",
    "# tibia_file_name = \"C:\\\\Zhixuan\\\\OAI-registration\\\\pykneer-yg\\\\reference\\\\longitudinal\\\\9404954L_TP3_prep_t.mha\"\n",
    "# mask_file_name = 'C:\\\\Zhixuan\\\\OAI-registration\\\\pykneer-yg\\\\reference\\\\longitudinal\\\\9941446L_TP0_prep_t.mha'\n",
    "moving_file_name   = image_data[0]['moving_folder']    + \"9404954L_TP3_prep.mha\"\n",
    "# moving_file_name = \"C:\\\\Zhixuan\\\\OAI-registration\\\\pykneer-yg\\\\registered\\\\9404954L_TP1_prep\\\\t_rigid.mha\"\n",
    "mask = sitk.ReadImage(mask_file_name)\n",
    "tibia = sitk.ReadImage(tibia_file_name)\n",
    "moving = sitk.ReadImage(moving_file_name)\n",
    "key = 1\n",
    "if key == 1:\n",
    "    mask = resample_bwimage(mask)\n",
    "    tibia = resample_bwimage(tibia)\n",
    "    moving = resample_bwimage(moving)\n",
    "#     show_masked_images_sagittal(moving, mask)\n",
    "    show_all_masked_images(moving, mask,tibia)\n",
    "else:\n",
    "#     show_all_masked_images(moving, mask,tibia)\n",
    "    show_masked_images(moving, tibia)    "
   ]
  },
  {
   "cell_type": "code",
   "execution_count": 7,
   "metadata": {},
   "outputs": [],
   "source": [
    "image_data = image_data[0]\n",
    "reference_file_name = \"C:\\\\Zhixuan\\\\OAI-registration\\\\pykneer-yg\\\\reference\\\\longitudinal\\\\\" + image_data['fmask'][:-5] + 't.mha'\n",
    "tibia_file_name = image_data['segmented_folder'] + image_data['fmask'][:-5] + 't_rigid.mha'\n",
    "ref = sitk.ReadImage(reference_file_name)\n",
    "tibia = sitk.ReadImage(tibia_file_name)"
   ]
  },
  {
   "cell_type": "code",
   "execution_count": null,
   "metadata": {},
   "outputs": [],
   "source": []
  },
  {
   "cell_type": "code",
   "execution_count": null,
   "metadata": {},
   "outputs": [],
   "source": []
  },
  {
   "cell_type": "code",
   "execution_count": 6,
   "metadata": {},
   "outputs": [
    {
     "name": "stdout",
     "output_type": "stream",
     "text": [
      "9189303L_TP1\n"
     ]
    },
    {
     "data": {
      "application/vnd.jupyter.widget-view+json": {
       "model_id": "161a9426c96b48ecb9ddeb27ebfab77f",
       "version_major": 2,
       "version_minor": 0
      },
      "text/plain": [
       "interactive(children=(IntSlider(value=191, description='image_z', max=383), FloatSlider(value=0.5, description…"
      ]
     },
     "metadata": {},
     "output_type": "display_data"
    },
    {
     "name": "stdout",
     "output_type": "stream",
     "text": [
      "9189303R_TP1\n"
     ]
    },
    {
     "data": {
      "application/vnd.jupyter.widget-view+json": {
       "model_id": "a51b65e915994851a9fe8bcfa4c3102e",
       "version_major": 2,
       "version_minor": 0
      },
      "text/plain": [
       "interactive(children=(IntSlider(value=191, description='image_z', max=383), FloatSlider(value=0.5, description…"
      ]
     },
     "metadata": {},
     "output_type": "display_data"
    },
    {
     "name": "stdout",
     "output_type": "stream",
     "text": [
      "9189303R_TP3\n"
     ]
    },
    {
     "data": {
      "application/vnd.jupyter.widget-view+json": {
       "model_id": "711a04e663e1437fa45aeca926833358",
       "version_major": 2,
       "version_minor": 0
      },
      "text/plain": [
       "interactive(children=(IntSlider(value=191, description='image_z', max=383), FloatSlider(value=0.5, description…"
      ]
     },
     "metadata": {},
     "output_type": "display_data"
    },
    {
     "name": "stdout",
     "output_type": "stream",
     "text": [
      "9189303R_TP5\n"
     ]
    },
    {
     "data": {
      "application/vnd.jupyter.widget-view+json": {
       "model_id": "1aa8a0c9b4b64cd5a592779c0b668c45",
       "version_major": 2,
       "version_minor": 0
      },
      "text/plain": [
       "interactive(children=(IntSlider(value=191, description='image_z', max=383), FloatSlider(value=0.5, description…"
      ]
     },
     "metadata": {},
     "output_type": "display_data"
    },
    {
     "name": "stdout",
     "output_type": "stream",
     "text": [
      "9189303R_TP6\n"
     ]
    },
    {
     "data": {
      "application/vnd.jupyter.widget-view+json": {
       "model_id": "ec896e6ad28646cd92f44da7e4cdb1e2",
       "version_major": 2,
       "version_minor": 0
      },
      "text/plain": [
       "interactive(children=(IntSlider(value=191, description='image_z', max=383), FloatSlider(value=0.5, description…"
      ]
     },
     "metadata": {},
     "output_type": "display_data"
    },
    {
     "name": "stdout",
     "output_type": "stream",
     "text": [
      "9189303R_TP8\n"
     ]
    },
    {
     "data": {
      "application/vnd.jupyter.widget-view+json": {
       "model_id": "e5b5e00b88ed47f982f9c70264d7a6ee",
       "version_major": 2,
       "version_minor": 0
      },
      "text/plain": [
       "interactive(children=(IntSlider(value=191, description='image_z', max=383), FloatSlider(value=0.5, description…"
      ]
     },
     "metadata": {},
     "output_type": "display_data"
    },
    {
     "name": "stdout",
     "output_type": "stream",
     "text": [
      "9939718L_TP1\n"
     ]
    },
    {
     "data": {
      "application/vnd.jupyter.widget-view+json": {
       "model_id": "c2141a9e22744a4984763b2794f40065",
       "version_major": 2,
       "version_minor": 0
      },
      "text/plain": [
       "interactive(children=(IntSlider(value=191, description='image_z', max=383), FloatSlider(value=0.5, description…"
      ]
     },
     "metadata": {},
     "output_type": "display_data"
    },
    {
     "name": "stdout",
     "output_type": "stream",
     "text": [
      "9939718L_TP3\n"
     ]
    },
    {
     "data": {
      "application/vnd.jupyter.widget-view+json": {
       "model_id": "6a0510ee5007427e9a0822329522220f",
       "version_major": 2,
       "version_minor": 0
      },
      "text/plain": [
       "interactive(children=(IntSlider(value=191, description='image_z', max=383), FloatSlider(value=0.5, description…"
      ]
     },
     "metadata": {},
     "output_type": "display_data"
    },
    {
     "name": "stdout",
     "output_type": "stream",
     "text": [
      "9939718L_TP5\n"
     ]
    },
    {
     "data": {
      "application/vnd.jupyter.widget-view+json": {
       "model_id": "214948816799420fbf969c85a1ab1ec0",
       "version_major": 2,
       "version_minor": 0
      },
      "text/plain": [
       "interactive(children=(IntSlider(value=191, description='image_z', max=383), FloatSlider(value=0.5, description…"
      ]
     },
     "metadata": {},
     "output_type": "display_data"
    },
    {
     "name": "stdout",
     "output_type": "stream",
     "text": [
      "9939718L_TP6\n"
     ]
    },
    {
     "data": {
      "application/vnd.jupyter.widget-view+json": {
       "model_id": "989ee3f86f234fe2842559f8061b8e85",
       "version_major": 2,
       "version_minor": 0
      },
      "text/plain": [
       "interactive(children=(IntSlider(value=191, description='image_z', max=383), FloatSlider(value=0.5, description…"
      ]
     },
     "metadata": {},
     "output_type": "display_data"
    },
    {
     "name": "stdout",
     "output_type": "stream",
     "text": [
      "9939718L_TP8\n"
     ]
    },
    {
     "data": {
      "application/vnd.jupyter.widget-view+json": {
       "model_id": "a2d73de0d82c4b859465a5d3eda473bd",
       "version_major": 2,
       "version_minor": 0
      },
      "text/plain": [
       "interactive(children=(IntSlider(value=191, description='image_z', max=383), FloatSlider(value=0.5, description…"
      ]
     },
     "metadata": {},
     "output_type": "display_data"
    },
    {
     "name": "stdout",
     "output_type": "stream",
     "text": [
      "9939718L_TP1\n"
     ]
    },
    {
     "data": {
      "application/vnd.jupyter.widget-view+json": {
       "model_id": "617b82b9084c4872933e445eda12bd1c",
       "version_major": 2,
       "version_minor": 0
      },
      "text/plain": [
       "interactive(children=(IntSlider(value=191, description='image_z', max=383), FloatSlider(value=0.5, description…"
      ]
     },
     "metadata": {},
     "output_type": "display_data"
    },
    {
     "name": "stdout",
     "output_type": "stream",
     "text": [
      "9939718R_TP1\n"
     ]
    },
    {
     "data": {
      "application/vnd.jupyter.widget-view+json": {
       "model_id": "a552335d323a468abe6d26ede660adcf",
       "version_major": 2,
       "version_minor": 0
      },
      "text/plain": [
       "interactive(children=(IntSlider(value=191, description='image_z', max=383), FloatSlider(value=0.5, description…"
      ]
     },
     "metadata": {},
     "output_type": "display_data"
    },
    {
     "name": "stdout",
     "output_type": "stream",
     "text": [
      "9939718R_TP2\n"
     ]
    },
    {
     "data": {
      "application/vnd.jupyter.widget-view+json": {
       "model_id": "db34bfc36036431592ab72a08ef053ba",
       "version_major": 2,
       "version_minor": 0
      },
      "text/plain": [
       "interactive(children=(IntSlider(value=191, description='image_z', max=383), FloatSlider(value=0.5, description…"
      ]
     },
     "metadata": {},
     "output_type": "display_data"
    },
    {
     "name": "stdout",
     "output_type": "stream",
     "text": [
      "9939718R_TP3\n"
     ]
    },
    {
     "data": {
      "application/vnd.jupyter.widget-view+json": {
       "model_id": "ed27f750654a4d46b94cb788b14e5175",
       "version_major": 2,
       "version_minor": 0
      },
      "text/plain": [
       "interactive(children=(IntSlider(value=191, description='image_z', max=383), FloatSlider(value=0.5, description…"
      ]
     },
     "metadata": {},
     "output_type": "display_data"
    },
    {
     "name": "stdout",
     "output_type": "stream",
     "text": [
      "9939718R_TP5\n"
     ]
    },
    {
     "data": {
      "application/vnd.jupyter.widget-view+json": {
       "model_id": "568d9c8dd3a34bc3a5548df2e09c1273",
       "version_major": 2,
       "version_minor": 0
      },
      "text/plain": [
       "interactive(children=(IntSlider(value=191, description='image_z', max=383), FloatSlider(value=0.5, description…"
      ]
     },
     "metadata": {},
     "output_type": "display_data"
    },
    {
     "name": "stdout",
     "output_type": "stream",
     "text": [
      "9939718R_TP6\n"
     ]
    },
    {
     "data": {
      "application/vnd.jupyter.widget-view+json": {
       "model_id": "eecb916dcd1a4d19ab67addca331841b",
       "version_major": 2,
       "version_minor": 0
      },
      "text/plain": [
       "interactive(children=(IntSlider(value=191, description='image_z', max=383), FloatSlider(value=0.5, description…"
      ]
     },
     "metadata": {},
     "output_type": "display_data"
    },
    {
     "name": "stdout",
     "output_type": "stream",
     "text": [
      "9939718R_TP8\n"
     ]
    },
    {
     "data": {
      "application/vnd.jupyter.widget-view+json": {
       "model_id": "82710d4f868546a7a60fc2e4bcd883e8",
       "version_major": 2,
       "version_minor": 0
      },
      "text/plain": [
       "interactive(children=(IntSlider(value=191, description='image_z', max=383), FloatSlider(value=0.5, description…"
      ]
     },
     "metadata": {},
     "output_type": "display_data"
    },
    {
     "name": "stdout",
     "output_type": "stream",
     "text": [
      "9939718R_TP1\n"
     ]
    },
    {
     "data": {
      "application/vnd.jupyter.widget-view+json": {
       "model_id": "f8c65af002ca412097100dbb32aff328",
       "version_major": 2,
       "version_minor": 0
      },
      "text/plain": [
       "interactive(children=(IntSlider(value=191, description='image_z', max=383), FloatSlider(value=0.5, description…"
      ]
     },
     "metadata": {},
     "output_type": "display_data"
    },
    {
     "name": "stdout",
     "output_type": "stream",
     "text": [
      "9941231L_TP1\n"
     ]
    },
    {
     "data": {
      "application/vnd.jupyter.widget-view+json": {
       "model_id": "8492da791bcf44e5b40d7fcd5e7c8947",
       "version_major": 2,
       "version_minor": 0
      },
      "text/plain": [
       "interactive(children=(IntSlider(value=191, description='image_z', max=383), FloatSlider(value=0.5, description…"
      ]
     },
     "metadata": {},
     "output_type": "display_data"
    },
    {
     "name": "stdout",
     "output_type": "stream",
     "text": [
      "9941231L_TP3\n"
     ]
    },
    {
     "data": {
      "application/vnd.jupyter.widget-view+json": {
       "model_id": "71a8b6a5dded431bac7acf85614a736e",
       "version_major": 2,
       "version_minor": 0
      },
      "text/plain": [
       "interactive(children=(IntSlider(value=191, description='image_z', max=383), FloatSlider(value=0.5, description…"
      ]
     },
     "metadata": {},
     "output_type": "display_data"
    },
    {
     "name": "stdout",
     "output_type": "stream",
     "text": [
      "9941231L_TP5\n"
     ]
    },
    {
     "data": {
      "application/vnd.jupyter.widget-view+json": {
       "model_id": "a123160a49db41b99d694b552d7e0afe",
       "version_major": 2,
       "version_minor": 0
      },
      "text/plain": [
       "interactive(children=(IntSlider(value=191, description='image_z', max=383), FloatSlider(value=0.5, description…"
      ]
     },
     "metadata": {},
     "output_type": "display_data"
    },
    {
     "name": "stdout",
     "output_type": "stream",
     "text": [
      "9941231L_TP6\n"
     ]
    },
    {
     "data": {
      "application/vnd.jupyter.widget-view+json": {
       "model_id": "bfea1e0d019f4385b38a2dfc1d0fc5e3",
       "version_major": 2,
       "version_minor": 0
      },
      "text/plain": [
       "interactive(children=(IntSlider(value=191, description='image_z', max=383), FloatSlider(value=0.5, description…"
      ]
     },
     "metadata": {},
     "output_type": "display_data"
    },
    {
     "name": "stdout",
     "output_type": "stream",
     "text": [
      "9941231L_TP8\n"
     ]
    },
    {
     "data": {
      "application/vnd.jupyter.widget-view+json": {
       "model_id": "a79cba176893465ea4561f0cd706d90b",
       "version_major": 2,
       "version_minor": 0
      },
      "text/plain": [
       "interactive(children=(IntSlider(value=191, description='image_z', max=383), FloatSlider(value=0.5, description…"
      ]
     },
     "metadata": {},
     "output_type": "display_data"
    },
    {
     "name": "stdout",
     "output_type": "stream",
     "text": [
      "9941231L_TP1\n"
     ]
    },
    {
     "data": {
      "application/vnd.jupyter.widget-view+json": {
       "model_id": "1bcaea949d214845a9477b8442a87bf0",
       "version_major": 2,
       "version_minor": 0
      },
      "text/plain": [
       "interactive(children=(IntSlider(value=191, description='image_z', max=383), FloatSlider(value=0.5, description…"
      ]
     },
     "metadata": {},
     "output_type": "display_data"
    },
    {
     "name": "stdout",
     "output_type": "stream",
     "text": [
      "9941231R_TP1\n"
     ]
    },
    {
     "data": {
      "application/vnd.jupyter.widget-view+json": {
       "model_id": "a0f05ef822c24057af2c5f2e19dcc690",
       "version_major": 2,
       "version_minor": 0
      },
      "text/plain": [
       "interactive(children=(IntSlider(value=191, description='image_z', max=383), FloatSlider(value=0.5, description…"
      ]
     },
     "metadata": {},
     "output_type": "display_data"
    },
    {
     "name": "stdout",
     "output_type": "stream",
     "text": [
      "9941231R_TP3\n"
     ]
    },
    {
     "data": {
      "application/vnd.jupyter.widget-view+json": {
       "model_id": "6433e11d7f0a4d7083d847b78edc69a5",
       "version_major": 2,
       "version_minor": 0
      },
      "text/plain": [
       "interactive(children=(IntSlider(value=191, description='image_z', max=383), FloatSlider(value=0.5, description…"
      ]
     },
     "metadata": {},
     "output_type": "display_data"
    },
    {
     "name": "stdout",
     "output_type": "stream",
     "text": [
      "9941231R_TP5\n"
     ]
    },
    {
     "data": {
      "application/vnd.jupyter.widget-view+json": {
       "model_id": "39b0dc32f4334224be9fade546f0f128",
       "version_major": 2,
       "version_minor": 0
      },
      "text/plain": [
       "interactive(children=(IntSlider(value=191, description='image_z', max=383), FloatSlider(value=0.5, description…"
      ]
     },
     "metadata": {},
     "output_type": "display_data"
    },
    {
     "name": "stdout",
     "output_type": "stream",
     "text": [
      "9941231R_TP6\n"
     ]
    },
    {
     "data": {
      "application/vnd.jupyter.widget-view+json": {
       "model_id": "80c2f0f889484cabb2d1f77824d48db5",
       "version_major": 2,
       "version_minor": 0
      },
      "text/plain": [
       "interactive(children=(IntSlider(value=191, description='image_z', max=383), FloatSlider(value=0.5, description…"
      ]
     },
     "metadata": {},
     "output_type": "display_data"
    },
    {
     "name": "stdout",
     "output_type": "stream",
     "text": [
      "9942724L_TP1\n"
     ]
    },
    {
     "data": {
      "application/vnd.jupyter.widget-view+json": {
       "model_id": "6f5d501b8ba3484f8869fe3450126e1a",
       "version_major": 2,
       "version_minor": 0
      },
      "text/plain": [
       "interactive(children=(IntSlider(value=191, description='image_z', max=383), FloatSlider(value=0.5, description…"
      ]
     },
     "metadata": {},
     "output_type": "display_data"
    },
    {
     "name": "stdout",
     "output_type": "stream",
     "text": [
      "9942724L_TP3\n"
     ]
    },
    {
     "data": {
      "application/vnd.jupyter.widget-view+json": {
       "model_id": "3187f5b456c349e2bf4109d648420135",
       "version_major": 2,
       "version_minor": 0
      },
      "text/plain": [
       "interactive(children=(IntSlider(value=191, description='image_z', max=383), FloatSlider(value=0.5, description…"
      ]
     },
     "metadata": {},
     "output_type": "display_data"
    },
    {
     "name": "stdout",
     "output_type": "stream",
     "text": [
      "9942724L_TP6\n"
     ]
    },
    {
     "data": {
      "application/vnd.jupyter.widget-view+json": {
       "model_id": "3160ee355def47ed8b2a83458c197467",
       "version_major": 2,
       "version_minor": 0
      },
      "text/plain": [
       "interactive(children=(IntSlider(value=191, description='image_z', max=383), FloatSlider(value=0.5, description…"
      ]
     },
     "metadata": {},
     "output_type": "display_data"
    },
    {
     "name": "stdout",
     "output_type": "stream",
     "text": [
      "9942724L_TP1\n"
     ]
    },
    {
     "data": {
      "application/vnd.jupyter.widget-view+json": {
       "model_id": "d7ed5db07f1a4d21a3695d3beacafa96",
       "version_major": 2,
       "version_minor": 0
      },
      "text/plain": [
       "interactive(children=(IntSlider(value=191, description='image_z', max=383), FloatSlider(value=0.5, description…"
      ]
     },
     "metadata": {},
     "output_type": "display_data"
    },
    {
     "name": "stdout",
     "output_type": "stream",
     "text": [
      "9942724R_TP1\n"
     ]
    },
    {
     "data": {
      "application/vnd.jupyter.widget-view+json": {
       "model_id": "b50af3e435fa406fa728838ae5fd6c60",
       "version_major": 2,
       "version_minor": 0
      },
      "text/plain": [
       "interactive(children=(IntSlider(value=191, description='image_z', max=383), FloatSlider(value=0.5, description…"
      ]
     },
     "metadata": {},
     "output_type": "display_data"
    },
    {
     "name": "stdout",
     "output_type": "stream",
     "text": [
      "9942724R_TP3\n"
     ]
    },
    {
     "data": {
      "application/vnd.jupyter.widget-view+json": {
       "model_id": "2fe799cbb5e5455b8d6062ffc1218cea",
       "version_major": 2,
       "version_minor": 0
      },
      "text/plain": [
       "interactive(children=(IntSlider(value=191, description='image_z', max=383), FloatSlider(value=0.5, description…"
      ]
     },
     "metadata": {},
     "output_type": "display_data"
    },
    {
     "name": "stdout",
     "output_type": "stream",
     "text": [
      "9942724R_TP5\n"
     ]
    },
    {
     "data": {
      "application/vnd.jupyter.widget-view+json": {
       "model_id": "4b6adb2367c045458d1b0adc98af8eb6",
       "version_major": 2,
       "version_minor": 0
      },
      "text/plain": [
       "interactive(children=(IntSlider(value=191, description='image_z', max=383), FloatSlider(value=0.5, description…"
      ]
     },
     "metadata": {},
     "output_type": "display_data"
    },
    {
     "name": "stdout",
     "output_type": "stream",
     "text": [
      "9942724R_TP6\n"
     ]
    },
    {
     "data": {
      "application/vnd.jupyter.widget-view+json": {
       "model_id": "647f1dc2374f43c593ffe3c7f491f88e",
       "version_major": 2,
       "version_minor": 0
      },
      "text/plain": [
       "interactive(children=(IntSlider(value=191, description='image_z', max=383), FloatSlider(value=0.5, description…"
      ]
     },
     "metadata": {},
     "output_type": "display_data"
    },
    {
     "name": "stdout",
     "output_type": "stream",
     "text": [
      "9942724R_TP1\n"
     ]
    },
    {
     "data": {
      "application/vnd.jupyter.widget-view+json": {
       "model_id": "ec9bb6c6e6ea409d831f6c62c40159fc",
       "version_major": 2,
       "version_minor": 0
      },
      "text/plain": [
       "interactive(children=(IntSlider(value=191, description='image_z', max=383), FloatSlider(value=0.5, description…"
      ]
     },
     "metadata": {},
     "output_type": "display_data"
    },
    {
     "name": "stdout",
     "output_type": "stream",
     "text": [
      "9941446L_TP1\n"
     ]
    },
    {
     "data": {
      "application/vnd.jupyter.widget-view+json": {
       "model_id": "ed98ba5bf2c44b1fb1d97182d4ccc5ee",
       "version_major": 2,
       "version_minor": 0
      },
      "text/plain": [
       "interactive(children=(IntSlider(value=191, description='image_z', max=383), FloatSlider(value=0.5, description…"
      ]
     },
     "metadata": {},
     "output_type": "display_data"
    },
    {
     "name": "stdout",
     "output_type": "stream",
     "text": [
      "9941446L_TP3\n"
     ]
    },
    {
     "data": {
      "application/vnd.jupyter.widget-view+json": {
       "model_id": "4e3f731aa48f49078ec570b622b10c77",
       "version_major": 2,
       "version_minor": 0
      },
      "text/plain": [
       "interactive(children=(IntSlider(value=191, description='image_z', max=383), FloatSlider(value=0.5, description…"
      ]
     },
     "metadata": {},
     "output_type": "display_data"
    },
    {
     "name": "stdout",
     "output_type": "stream",
     "text": [
      "9941446L_TP6\n"
     ]
    },
    {
     "data": {
      "application/vnd.jupyter.widget-view+json": {
       "model_id": "d90423fdc81b4f049c1fec6591a533a1",
       "version_major": 2,
       "version_minor": 0
      },
      "text/plain": [
       "interactive(children=(IntSlider(value=191, description='image_z', max=383), FloatSlider(value=0.5, description…"
      ]
     },
     "metadata": {},
     "output_type": "display_data"
    },
    {
     "name": "stdout",
     "output_type": "stream",
     "text": [
      "9941446L_TP8\n"
     ]
    },
    {
     "data": {
      "application/vnd.jupyter.widget-view+json": {
       "model_id": "9381bb4efffb453bbef3cdcecba1b91d",
       "version_major": 2,
       "version_minor": 0
      },
      "text/plain": [
       "interactive(children=(IntSlider(value=191, description='image_z', max=383), FloatSlider(value=0.5, description…"
      ]
     },
     "metadata": {},
     "output_type": "display_data"
    },
    {
     "name": "stdout",
     "output_type": "stream",
     "text": [
      "9941446L_TP1\n"
     ]
    },
    {
     "data": {
      "application/vnd.jupyter.widget-view+json": {
       "model_id": "59c2eee13ac147c0a7e063bb423cb2e5",
       "version_major": 2,
       "version_minor": 0
      },
      "text/plain": [
       "interactive(children=(IntSlider(value=191, description='image_z', max=383), FloatSlider(value=0.5, description…"
      ]
     },
     "metadata": {},
     "output_type": "display_data"
    },
    {
     "name": "stdout",
     "output_type": "stream",
     "text": [
      "9941446R_TP1\n"
     ]
    },
    {
     "data": {
      "application/vnd.jupyter.widget-view+json": {
       "model_id": "55098d14c4e34264afb43f4b7c0c1ece",
       "version_major": 2,
       "version_minor": 0
      },
      "text/plain": [
       "interactive(children=(IntSlider(value=191, description='image_z', max=383), FloatSlider(value=0.5, description…"
      ]
     },
     "metadata": {},
     "output_type": "display_data"
    },
    {
     "name": "stdout",
     "output_type": "stream",
     "text": [
      "9941446R_TP3\n"
     ]
    },
    {
     "data": {
      "application/vnd.jupyter.widget-view+json": {
       "model_id": "32da8f38a25c43d1bdb7738c75884c97",
       "version_major": 2,
       "version_minor": 0
      },
      "text/plain": [
       "interactive(children=(IntSlider(value=191, description='image_z', max=383), FloatSlider(value=0.5, description…"
      ]
     },
     "metadata": {},
     "output_type": "display_data"
    },
    {
     "name": "stdout",
     "output_type": "stream",
     "text": [
      "9941446R_TP5\n"
     ]
    },
    {
     "data": {
      "application/vnd.jupyter.widget-view+json": {
       "model_id": "8331b3f763d14805a8df072ecb89ea60",
       "version_major": 2,
       "version_minor": 0
      },
      "text/plain": [
       "interactive(children=(IntSlider(value=191, description='image_z', max=383), FloatSlider(value=0.5, description…"
      ]
     },
     "metadata": {},
     "output_type": "display_data"
    },
    {
     "name": "stdout",
     "output_type": "stream",
     "text": [
      "9941446R_TP6\n"
     ]
    },
    {
     "data": {
      "application/vnd.jupyter.widget-view+json": {
       "model_id": "fc34ff9936c04021b70e820527ac39ae",
       "version_major": 2,
       "version_minor": 0
      },
      "text/plain": [
       "interactive(children=(IntSlider(value=191, description='image_z', max=383), FloatSlider(value=0.5, description…"
      ]
     },
     "metadata": {},
     "output_type": "display_data"
    },
    {
     "name": "stdout",
     "output_type": "stream",
     "text": [
      "9941446R_TP8\n"
     ]
    },
    {
     "data": {
      "application/vnd.jupyter.widget-view+json": {
       "model_id": "c2371a8cdd6e47d28bb3204fb059c080",
       "version_major": 2,
       "version_minor": 0
      },
      "text/plain": [
       "interactive(children=(IntSlider(value=191, description='image_z', max=383), FloatSlider(value=0.5, description…"
      ]
     },
     "metadata": {},
     "output_type": "display_data"
    },
    {
     "name": "stdout",
     "output_type": "stream",
     "text": [
      "9941446R_TP1\n"
     ]
    },
    {
     "data": {
      "application/vnd.jupyter.widget-view+json": {
       "model_id": "5552948acf994552b5892897ed1965a4",
       "version_major": 2,
       "version_minor": 0
      },
      "text/plain": [
       "interactive(children=(IntSlider(value=191, description='image_z', max=383), FloatSlider(value=0.5, description…"
      ]
     },
     "metadata": {},
     "output_type": "display_data"
    },
    {
     "name": "stdout",
     "output_type": "stream",
     "text": [
      "9404954L_TP1\n"
     ]
    },
    {
     "data": {
      "application/vnd.jupyter.widget-view+json": {
       "model_id": "5700cbd69ac04b65b2f7db293bd188d9",
       "version_major": 2,
       "version_minor": 0
      },
      "text/plain": [
       "interactive(children=(IntSlider(value=191, description='image_z', max=383), FloatSlider(value=0.5, description…"
      ]
     },
     "metadata": {},
     "output_type": "display_data"
    },
    {
     "name": "stdout",
     "output_type": "stream",
     "text": [
      "9404954L_TP3\n"
     ]
    },
    {
     "data": {
      "application/vnd.jupyter.widget-view+json": {
       "model_id": "ddabb9f8802840c09b1a300b855c07d4",
       "version_major": 2,
       "version_minor": 0
      },
      "text/plain": [
       "interactive(children=(IntSlider(value=191, description='image_z', max=383), FloatSlider(value=0.5, description…"
      ]
     },
     "metadata": {},
     "output_type": "display_data"
    },
    {
     "name": "stdout",
     "output_type": "stream",
     "text": [
      "9404954L_TP6\n"
     ]
    },
    {
     "data": {
      "application/vnd.jupyter.widget-view+json": {
       "model_id": "a11f250211454831ae96a9e7dcb0d422",
       "version_major": 2,
       "version_minor": 0
      },
      "text/plain": [
       "interactive(children=(IntSlider(value=191, description='image_z', max=383), FloatSlider(value=0.5, description…"
      ]
     },
     "metadata": {},
     "output_type": "display_data"
    },
    {
     "name": "stdout",
     "output_type": "stream",
     "text": [
      "9404954L_TP8\n"
     ]
    },
    {
     "data": {
      "application/vnd.jupyter.widget-view+json": {
       "model_id": "adfdc3c7402b454cbdeb98810f0d4a37",
       "version_major": 2,
       "version_minor": 0
      },
      "text/plain": [
       "interactive(children=(IntSlider(value=191, description='image_z', max=383), FloatSlider(value=0.5, description…"
      ]
     },
     "metadata": {},
     "output_type": "display_data"
    },
    {
     "name": "stdout",
     "output_type": "stream",
     "text": [
      "9404954L_TP1\n"
     ]
    },
    {
     "data": {
      "application/vnd.jupyter.widget-view+json": {
       "model_id": "5f3dabfaf8a34ab19942bfaa8b4e94ef",
       "version_major": 2,
       "version_minor": 0
      },
      "text/plain": [
       "interactive(children=(IntSlider(value=191, description='image_z', max=383), FloatSlider(value=0.5, description…"
      ]
     },
     "metadata": {},
     "output_type": "display_data"
    },
    {
     "name": "stdout",
     "output_type": "stream",
     "text": [
      "9404954R_TP1\n"
     ]
    },
    {
     "data": {
      "application/vnd.jupyter.widget-view+json": {
       "model_id": "6eb4514142f243c692881826fda5ea4d",
       "version_major": 2,
       "version_minor": 0
      },
      "text/plain": [
       "interactive(children=(IntSlider(value=191, description='image_z', max=383), FloatSlider(value=0.5, description…"
      ]
     },
     "metadata": {},
     "output_type": "display_data"
    },
    {
     "name": "stdout",
     "output_type": "stream",
     "text": [
      "9404954R_TP3\n"
     ]
    },
    {
     "data": {
      "application/vnd.jupyter.widget-view+json": {
       "model_id": "95e6205a80cb49fe9df79c3002a73bae",
       "version_major": 2,
       "version_minor": 0
      },
      "text/plain": [
       "interactive(children=(IntSlider(value=191, description='image_z', max=383), FloatSlider(value=0.5, description…"
      ]
     },
     "metadata": {},
     "output_type": "display_data"
    },
    {
     "name": "stdout",
     "output_type": "stream",
     "text": [
      "9404954R_TP4\n"
     ]
    },
    {
     "data": {
      "application/vnd.jupyter.widget-view+json": {
       "model_id": "0237da74b04e4094a3fd44f674a66ad9",
       "version_major": 2,
       "version_minor": 0
      },
      "text/plain": [
       "interactive(children=(IntSlider(value=191, description='image_z', max=383), FloatSlider(value=0.5, description…"
      ]
     },
     "metadata": {},
     "output_type": "display_data"
    },
    {
     "name": "stdout",
     "output_type": "stream",
     "text": [
      "9404954R_TP5\n"
     ]
    },
    {
     "data": {
      "application/vnd.jupyter.widget-view+json": {
       "model_id": "f6c5d2f093a64347bf293afe13bf1b99",
       "version_major": 2,
       "version_minor": 0
      },
      "text/plain": [
       "interactive(children=(IntSlider(value=191, description='image_z', max=383), FloatSlider(value=0.5, description…"
      ]
     },
     "metadata": {},
     "output_type": "display_data"
    },
    {
     "name": "stdout",
     "output_type": "stream",
     "text": [
      "9404954R_TP6\n"
     ]
    },
    {
     "data": {
      "application/vnd.jupyter.widget-view+json": {
       "model_id": "518a763c838d442f9fb3783149e16a01",
       "version_major": 2,
       "version_minor": 0
      },
      "text/plain": [
       "interactive(children=(IntSlider(value=191, description='image_z', max=383), FloatSlider(value=0.5, description…"
      ]
     },
     "metadata": {},
     "output_type": "display_data"
    },
    {
     "name": "stdout",
     "output_type": "stream",
     "text": [
      "9404954R_TP8\n"
     ]
    },
    {
     "data": {
      "application/vnd.jupyter.widget-view+json": {
       "model_id": "50d823f2484140d58279a050d0fdde7a",
       "version_major": 2,
       "version_minor": 0
      },
      "text/plain": [
       "interactive(children=(IntSlider(value=191, description='image_z', max=383), FloatSlider(value=0.5, description…"
      ]
     },
     "metadata": {},
     "output_type": "display_data"
    },
    {
     "name": "stdout",
     "output_type": "stream",
     "text": [
      "9404954R_TP1\n"
     ]
    },
    {
     "data": {
      "application/vnd.jupyter.widget-view+json": {
       "model_id": "93918a21230149c4934fe65c9dcffa99",
       "version_major": 2,
       "version_minor": 0
      },
      "text/plain": [
       "interactive(children=(IntSlider(value=191, description='image_z', max=383), FloatSlider(value=0.5, description…"
      ]
     },
     "metadata": {},
     "output_type": "display_data"
    },
    {
     "name": "stdout",
     "output_type": "stream",
     "text": [
      "9942030L_TP1\n"
     ]
    },
    {
     "data": {
      "application/vnd.jupyter.widget-view+json": {
       "model_id": "948e6b66f1c04844a02684ccd02e2e68",
       "version_major": 2,
       "version_minor": 0
      },
      "text/plain": [
       "interactive(children=(IntSlider(value=191, description='image_z', max=383), FloatSlider(value=0.5, description…"
      ]
     },
     "metadata": {},
     "output_type": "display_data"
    },
    {
     "name": "stdout",
     "output_type": "stream",
     "text": [
      "9942030L_TP3\n"
     ]
    },
    {
     "data": {
      "application/vnd.jupyter.widget-view+json": {
       "model_id": "e1d64664dc044574880f4fcaa064a298",
       "version_major": 2,
       "version_minor": 0
      },
      "text/plain": [
       "interactive(children=(IntSlider(value=191, description='image_z', max=383), FloatSlider(value=0.5, description…"
      ]
     },
     "metadata": {},
     "output_type": "display_data"
    },
    {
     "name": "stdout",
     "output_type": "stream",
     "text": [
      "9942030L_TP5\n"
     ]
    },
    {
     "data": {
      "application/vnd.jupyter.widget-view+json": {
       "model_id": "78fcc5d92b97484d8205fd45321c9b0d",
       "version_major": 2,
       "version_minor": 0
      },
      "text/plain": [
       "interactive(children=(IntSlider(value=191, description='image_z', max=383), FloatSlider(value=0.5, description…"
      ]
     },
     "metadata": {},
     "output_type": "display_data"
    },
    {
     "name": "stdout",
     "output_type": "stream",
     "text": [
      "9942030L_TP6\n"
     ]
    },
    {
     "data": {
      "application/vnd.jupyter.widget-view+json": {
       "model_id": "78f0aefd22f94f0a9e3f458fafb1c9bb",
       "version_major": 2,
       "version_minor": 0
      },
      "text/plain": [
       "interactive(children=(IntSlider(value=191, description='image_z', max=383), FloatSlider(value=0.5, description…"
      ]
     },
     "metadata": {},
     "output_type": "display_data"
    },
    {
     "name": "stdout",
     "output_type": "stream",
     "text": [
      "9942030R_TP1\n"
     ]
    },
    {
     "data": {
      "application/vnd.jupyter.widget-view+json": {
       "model_id": "e3f4a59f046f4ca2973f8fd575b9e3c4",
       "version_major": 2,
       "version_minor": 0
      },
      "text/plain": [
       "interactive(children=(IntSlider(value=191, description='image_z', max=383), FloatSlider(value=0.5, description…"
      ]
     },
     "metadata": {},
     "output_type": "display_data"
    },
    {
     "name": "stdout",
     "output_type": "stream",
     "text": [
      "9942030R_TP3\n"
     ]
    },
    {
     "data": {
      "application/vnd.jupyter.widget-view+json": {
       "model_id": "5c13b03a2fc04ae985646032a449970a",
       "version_major": 2,
       "version_minor": 0
      },
      "text/plain": [
       "interactive(children=(IntSlider(value=191, description='image_z', max=383), FloatSlider(value=0.5, description…"
      ]
     },
     "metadata": {},
     "output_type": "display_data"
    },
    {
     "name": "stdout",
     "output_type": "stream",
     "text": [
      "9942030R_TP5\n"
     ]
    },
    {
     "data": {
      "application/vnd.jupyter.widget-view+json": {
       "model_id": "8b7bbc0e697343a18dc142043341949f",
       "version_major": 2,
       "version_minor": 0
      },
      "text/plain": [
       "interactive(children=(IntSlider(value=191, description='image_z', max=383), FloatSlider(value=0.5, description…"
      ]
     },
     "metadata": {},
     "output_type": "display_data"
    },
    {
     "name": "stdout",
     "output_type": "stream",
     "text": [
      "9942030R_TP6\n"
     ]
    },
    {
     "data": {
      "application/vnd.jupyter.widget-view+json": {
       "model_id": "c4736d9b88cd4dbab5da5e685dfb538f",
       "version_major": 2,
       "version_minor": 0
      },
      "text/plain": [
       "interactive(children=(IntSlider(value=191, description='image_z', max=383), FloatSlider(value=0.5, description…"
      ]
     },
     "metadata": {},
     "output_type": "display_data"
    }
   ],
   "source": [
    "show_sagital_reference(image_data)"
   ]
  },
  {
   "cell_type": "code",
   "execution_count": null,
   "metadata": {},
   "outputs": [],
   "source": [
    "# 9939718L_TP10, 9939718R_TP10, 9941231L_TP10, 9942724L_TP10, 9942724R_TP10,\n",
    "# 9941446R_TP1, 9404954L_TP3, 9404954L_TP10"
   ]
  },
  {
   "cell_type": "code",
   "execution_count": 14,
   "metadata": {},
   "outputs": [
    {
     "name": "stdout",
     "output_type": "stream",
     "text": [
      "9189303L_TP0\n"
     ]
    },
    {
     "data": {
      "application/vnd.jupyter.widget-view+json": {
       "model_id": "53d2ea6bf70f4569aa0aea30db1509c5",
       "version_major": 2,
       "version_minor": 0
      },
      "text/plain": [
       "interactive(children=(IntSlider(value=191, description='image_z', max=383), FloatSlider(value=0.5, description…"
      ]
     },
     "metadata": {},
     "output_type": "display_data"
    },
    {
     "name": "stdout",
     "output_type": "stream",
     "text": [
      "9189303R_TP0\n"
     ]
    },
    {
     "data": {
      "application/vnd.jupyter.widget-view+json": {
       "model_id": "c1db2c2220f3471d888a0a6de086d943",
       "version_major": 2,
       "version_minor": 0
      },
      "text/plain": [
       "interactive(children=(IntSlider(value=191, description='image_z', max=383), FloatSlider(value=0.5, description…"
      ]
     },
     "metadata": {},
     "output_type": "display_data"
    },
    {
     "name": "stdout",
     "output_type": "stream",
     "text": [
      "9939718L_TP0\n"
     ]
    },
    {
     "data": {
      "application/vnd.jupyter.widget-view+json": {
       "model_id": "ea29e22a6288412ba51f7241043950bf",
       "version_major": 2,
       "version_minor": 0
      },
      "text/plain": [
       "interactive(children=(IntSlider(value=191, description='image_z', max=383), FloatSlider(value=0.5, description…"
      ]
     },
     "metadata": {},
     "output_type": "display_data"
    },
    {
     "name": "stdout",
     "output_type": "stream",
     "text": [
      "9939718R_TP0\n"
     ]
    },
    {
     "data": {
      "application/vnd.jupyter.widget-view+json": {
       "model_id": "8cbac43324534db99d7def5e8cf05b20",
       "version_major": 2,
       "version_minor": 0
      },
      "text/plain": [
       "interactive(children=(IntSlider(value=191, description='image_z', max=383), FloatSlider(value=0.5, description…"
      ]
     },
     "metadata": {},
     "output_type": "display_data"
    },
    {
     "name": "stdout",
     "output_type": "stream",
     "text": [
      "9941231L_TP0\n"
     ]
    },
    {
     "data": {
      "application/vnd.jupyter.widget-view+json": {
       "model_id": "1207f4adedf7457b97d33cc4549a1e83",
       "version_major": 2,
       "version_minor": 0
      },
      "text/plain": [
       "interactive(children=(IntSlider(value=191, description='image_z', max=383), FloatSlider(value=0.5, description…"
      ]
     },
     "metadata": {},
     "output_type": "display_data"
    },
    {
     "name": "stdout",
     "output_type": "stream",
     "text": [
      "9941231R_TP0\n"
     ]
    },
    {
     "data": {
      "application/vnd.jupyter.widget-view+json": {
       "model_id": "67c7096149ec4c8386253bffa34a2dba",
       "version_major": 2,
       "version_minor": 0
      },
      "text/plain": [
       "interactive(children=(IntSlider(value=191, description='image_z', max=383), FloatSlider(value=0.5, description…"
      ]
     },
     "metadata": {},
     "output_type": "display_data"
    },
    {
     "name": "stdout",
     "output_type": "stream",
     "text": [
      "9942724L_TP0\n"
     ]
    },
    {
     "data": {
      "application/vnd.jupyter.widget-view+json": {
       "model_id": "a6ab2600728c4194a8280e10436ef044",
       "version_major": 2,
       "version_minor": 0
      },
      "text/plain": [
       "interactive(children=(IntSlider(value=191, description='image_z', max=383), FloatSlider(value=0.5, description…"
      ]
     },
     "metadata": {},
     "output_type": "display_data"
    },
    {
     "name": "stdout",
     "output_type": "stream",
     "text": [
      "9942724R_TP0\n"
     ]
    },
    {
     "data": {
      "application/vnd.jupyter.widget-view+json": {
       "model_id": "905fa78cbfe34f719335f2348888f3d9",
       "version_major": 2,
       "version_minor": 0
      },
      "text/plain": [
       "interactive(children=(IntSlider(value=191, description='image_z', max=383), FloatSlider(value=0.5, description…"
      ]
     },
     "metadata": {},
     "output_type": "display_data"
    },
    {
     "name": "stdout",
     "output_type": "stream",
     "text": [
      "9941446L_TP0\n"
     ]
    },
    {
     "data": {
      "application/vnd.jupyter.widget-view+json": {
       "model_id": "8a864af34ca04e2a8bcc24f843691f09",
       "version_major": 2,
       "version_minor": 0
      },
      "text/plain": [
       "interactive(children=(IntSlider(value=191, description='image_z', max=383), FloatSlider(value=0.5, description…"
      ]
     },
     "metadata": {},
     "output_type": "display_data"
    },
    {
     "name": "stdout",
     "output_type": "stream",
     "text": [
      "9941446R_TP0\n"
     ]
    },
    {
     "data": {
      "application/vnd.jupyter.widget-view+json": {
       "model_id": "f8b9a033da3748e6a72e32889c67d9d9",
       "version_major": 2,
       "version_minor": 0
      },
      "text/plain": [
       "interactive(children=(IntSlider(value=191, description='image_z', max=383), FloatSlider(value=0.5, description…"
      ]
     },
     "metadata": {},
     "output_type": "display_data"
    },
    {
     "name": "stdout",
     "output_type": "stream",
     "text": [
      "9404954L_TP0\n"
     ]
    },
    {
     "data": {
      "application/vnd.jupyter.widget-view+json": {
       "model_id": "34b6067767bb45eeb998c4d53b1e4782",
       "version_major": 2,
       "version_minor": 0
      },
      "text/plain": [
       "interactive(children=(IntSlider(value=191, description='image_z', max=383), FloatSlider(value=0.5, description…"
      ]
     },
     "metadata": {},
     "output_type": "display_data"
    },
    {
     "name": "stdout",
     "output_type": "stream",
     "text": [
      "9404954R_TP0\n"
     ]
    },
    {
     "data": {
      "application/vnd.jupyter.widget-view+json": {
       "model_id": "dbb96e193025498289e8ef07066a82e2",
       "version_major": 2,
       "version_minor": 0
      },
      "text/plain": [
       "interactive(children=(IntSlider(value=191, description='image_z', max=383), FloatSlider(value=0.5, description…"
      ]
     },
     "metadata": {},
     "output_type": "display_data"
    },
    {
     "name": "stdout",
     "output_type": "stream",
     "text": [
      "9942030L_TP0\n"
     ]
    },
    {
     "data": {
      "application/vnd.jupyter.widget-view+json": {
       "model_id": "bc5e662659c5475583c001d5a0eb9519",
       "version_major": 2,
       "version_minor": 0
      },
      "text/plain": [
       "interactive(children=(IntSlider(value=191, description='image_z', max=383), FloatSlider(value=0.5, description…"
      ]
     },
     "metadata": {},
     "output_type": "display_data"
    },
    {
     "name": "stdout",
     "output_type": "stream",
     "text": [
      "9942030R_TP0\n"
     ]
    },
    {
     "data": {
      "application/vnd.jupyter.widget-view+json": {
       "model_id": "e6ad58228c2747c39a425127cf82ecc0",
       "version_major": 2,
       "version_minor": 0
      },
      "text/plain": [
       "interactive(children=(IntSlider(value=191, description='image_z', max=383), FloatSlider(value=0.5, description…"
      ]
     },
     "metadata": {},
     "output_type": "display_data"
    }
   ],
   "source": [
    "show_sagital_slice_images(image_data)"
   ]
  },
  {
   "cell_type": "code",
   "execution_count": 16,
   "metadata": {},
   "outputs": [
    {
     "name": "stdout",
     "output_type": "stream",
     "text": [
      "9189303L_TP1\n"
     ]
    },
    {
     "data": {
      "application/vnd.jupyter.widget-view+json": {
       "model_id": "6f87ae3e085f4aa98b48c2e4d20951d6",
       "version_major": 2,
       "version_minor": 0
      },
      "text/plain": [
       "interactive(children=(IntSlider(value=191, description='image_z', max=383), FloatSlider(value=0.5, description…"
      ]
     },
     "metadata": {},
     "output_type": "display_data"
    },
    {
     "name": "stdout",
     "output_type": "stream",
     "text": [
      "9189303R_TP1\n"
     ]
    },
    {
     "data": {
      "application/vnd.jupyter.widget-view+json": {
       "model_id": "f582ad9e28f54cec9ba9a71af4c73675",
       "version_major": 2,
       "version_minor": 0
      },
      "text/plain": [
       "interactive(children=(IntSlider(value=191, description='image_z', max=383), FloatSlider(value=0.5, description…"
      ]
     },
     "metadata": {},
     "output_type": "display_data"
    },
    {
     "name": "stdout",
     "output_type": "stream",
     "text": [
      "9189303R_TP3\n"
     ]
    },
    {
     "data": {
      "application/vnd.jupyter.widget-view+json": {
       "model_id": "231393c9cd1d417798103768122a3910",
       "version_major": 2,
       "version_minor": 0
      },
      "text/plain": [
       "interactive(children=(IntSlider(value=191, description='image_z', max=383), FloatSlider(value=0.5, description…"
      ]
     },
     "metadata": {},
     "output_type": "display_data"
    },
    {
     "name": "stdout",
     "output_type": "stream",
     "text": [
      "9189303R_TP5\n"
     ]
    },
    {
     "data": {
      "application/vnd.jupyter.widget-view+json": {
       "model_id": "0bf2f8cc751848f2bac6c6d1810d406c",
       "version_major": 2,
       "version_minor": 0
      },
      "text/plain": [
       "interactive(children=(IntSlider(value=191, description='image_z', max=383), FloatSlider(value=0.5, description…"
      ]
     },
     "metadata": {},
     "output_type": "display_data"
    },
    {
     "name": "stdout",
     "output_type": "stream",
     "text": [
      "9189303R_TP6\n"
     ]
    },
    {
     "data": {
      "application/vnd.jupyter.widget-view+json": {
       "model_id": "5000840e05c7436ca1bd28f1e33510b0",
       "version_major": 2,
       "version_minor": 0
      },
      "text/plain": [
       "interactive(children=(IntSlider(value=191, description='image_z', max=383), FloatSlider(value=0.5, description…"
      ]
     },
     "metadata": {},
     "output_type": "display_data"
    },
    {
     "name": "stdout",
     "output_type": "stream",
     "text": [
      "9189303R_TP8\n"
     ]
    },
    {
     "data": {
      "application/vnd.jupyter.widget-view+json": {
       "model_id": "423df2ba3cc14bf486af655a4c2aed2e",
       "version_major": 2,
       "version_minor": 0
      },
      "text/plain": [
       "interactive(children=(IntSlider(value=191, description='image_z', max=383), FloatSlider(value=0.5, description…"
      ]
     },
     "metadata": {},
     "output_type": "display_data"
    },
    {
     "name": "stdout",
     "output_type": "stream",
     "text": [
      "9939718L_TP1\n"
     ]
    },
    {
     "data": {
      "application/vnd.jupyter.widget-view+json": {
       "model_id": "205aaa207fa0493981c46f442b0d8fcd",
       "version_major": 2,
       "version_minor": 0
      },
      "text/plain": [
       "interactive(children=(IntSlider(value=191, description='image_z', max=383), FloatSlider(value=0.5, description…"
      ]
     },
     "metadata": {},
     "output_type": "display_data"
    },
    {
     "name": "stdout",
     "output_type": "stream",
     "text": [
      "9939718L_TP3\n"
     ]
    },
    {
     "data": {
      "application/vnd.jupyter.widget-view+json": {
       "model_id": "85682aa0747d46e2b76e8732b03285f0",
       "version_major": 2,
       "version_minor": 0
      },
      "text/plain": [
       "interactive(children=(IntSlider(value=191, description='image_z', max=383), FloatSlider(value=0.5, description…"
      ]
     },
     "metadata": {},
     "output_type": "display_data"
    },
    {
     "name": "stdout",
     "output_type": "stream",
     "text": [
      "9939718L_TP5\n"
     ]
    },
    {
     "data": {
      "application/vnd.jupyter.widget-view+json": {
       "model_id": "7c1710fd0b0d4b51b83f97cdc723f09c",
       "version_major": 2,
       "version_minor": 0
      },
      "text/plain": [
       "interactive(children=(IntSlider(value=191, description='image_z', max=383), FloatSlider(value=0.5, description…"
      ]
     },
     "metadata": {},
     "output_type": "display_data"
    },
    {
     "name": "stdout",
     "output_type": "stream",
     "text": [
      "9939718L_TP6\n"
     ]
    },
    {
     "data": {
      "application/vnd.jupyter.widget-view+json": {
       "model_id": "68bbd460915e49f9a9aaffe0efee91a6",
       "version_major": 2,
       "version_minor": 0
      },
      "text/plain": [
       "interactive(children=(IntSlider(value=191, description='image_z', max=383), FloatSlider(value=0.5, description…"
      ]
     },
     "metadata": {},
     "output_type": "display_data"
    },
    {
     "name": "stdout",
     "output_type": "stream",
     "text": [
      "9939718L_TP8\n"
     ]
    },
    {
     "data": {
      "application/vnd.jupyter.widget-view+json": {
       "model_id": "ac5896792b18471d868d5d73fa9e1bf2",
       "version_major": 2,
       "version_minor": 0
      },
      "text/plain": [
       "interactive(children=(IntSlider(value=191, description='image_z', max=383), FloatSlider(value=0.5, description…"
      ]
     },
     "metadata": {},
     "output_type": "display_data"
    },
    {
     "name": "stdout",
     "output_type": "stream",
     "text": [
      "9939718L_TP1\n"
     ]
    },
    {
     "data": {
      "application/vnd.jupyter.widget-view+json": {
       "model_id": "291c25caa8204796a7084ba1f638b025",
       "version_major": 2,
       "version_minor": 0
      },
      "text/plain": [
       "interactive(children=(IntSlider(value=191, description='image_z', max=383), FloatSlider(value=0.5, description…"
      ]
     },
     "metadata": {},
     "output_type": "display_data"
    },
    {
     "name": "stdout",
     "output_type": "stream",
     "text": [
      "9939718R_TP1\n"
     ]
    },
    {
     "data": {
      "application/vnd.jupyter.widget-view+json": {
       "model_id": "f36a7cf2c1df4d08a5cc3d12f42d45c6",
       "version_major": 2,
       "version_minor": 0
      },
      "text/plain": [
       "interactive(children=(IntSlider(value=191, description='image_z', max=383), FloatSlider(value=0.5, description…"
      ]
     },
     "metadata": {},
     "output_type": "display_data"
    },
    {
     "name": "stdout",
     "output_type": "stream",
     "text": [
      "9939718R_TP2\n"
     ]
    },
    {
     "data": {
      "application/vnd.jupyter.widget-view+json": {
       "model_id": "c070c42dd81d4982a4dc5cecf198d374",
       "version_major": 2,
       "version_minor": 0
      },
      "text/plain": [
       "interactive(children=(IntSlider(value=191, description='image_z', max=383), FloatSlider(value=0.5, description…"
      ]
     },
     "metadata": {},
     "output_type": "display_data"
    },
    {
     "name": "stdout",
     "output_type": "stream",
     "text": [
      "9939718R_TP3\n"
     ]
    },
    {
     "data": {
      "application/vnd.jupyter.widget-view+json": {
       "model_id": "0e7121fc31c64915a697b7a7f762e9e4",
       "version_major": 2,
       "version_minor": 0
      },
      "text/plain": [
       "interactive(children=(IntSlider(value=191, description='image_z', max=383), FloatSlider(value=0.5, description…"
      ]
     },
     "metadata": {},
     "output_type": "display_data"
    },
    {
     "name": "stdout",
     "output_type": "stream",
     "text": [
      "9939718R_TP5\n"
     ]
    },
    {
     "data": {
      "application/vnd.jupyter.widget-view+json": {
       "model_id": "0607f6fbea3a428fa6f34f7a89fd0b86",
       "version_major": 2,
       "version_minor": 0
      },
      "text/plain": [
       "interactive(children=(IntSlider(value=191, description='image_z', max=383), FloatSlider(value=0.5, description…"
      ]
     },
     "metadata": {},
     "output_type": "display_data"
    },
    {
     "name": "stdout",
     "output_type": "stream",
     "text": [
      "9939718R_TP6\n"
     ]
    },
    {
     "data": {
      "application/vnd.jupyter.widget-view+json": {
       "model_id": "d0b999217a5f4a23b23d9efa3e176848",
       "version_major": 2,
       "version_minor": 0
      },
      "text/plain": [
       "interactive(children=(IntSlider(value=191, description='image_z', max=383), FloatSlider(value=0.5, description…"
      ]
     },
     "metadata": {},
     "output_type": "display_data"
    },
    {
     "name": "stdout",
     "output_type": "stream",
     "text": [
      "9939718R_TP8\n"
     ]
    },
    {
     "data": {
      "application/vnd.jupyter.widget-view+json": {
       "model_id": "3ba8065786324947b7e099e94df1b34f",
       "version_major": 2,
       "version_minor": 0
      },
      "text/plain": [
       "interactive(children=(IntSlider(value=191, description='image_z', max=383), FloatSlider(value=0.5, description…"
      ]
     },
     "metadata": {},
     "output_type": "display_data"
    },
    {
     "name": "stdout",
     "output_type": "stream",
     "text": [
      "9939718R_TP1\n"
     ]
    },
    {
     "data": {
      "application/vnd.jupyter.widget-view+json": {
       "model_id": "7ce59142aaae425499547e9ab8983973",
       "version_major": 2,
       "version_minor": 0
      },
      "text/plain": [
       "interactive(children=(IntSlider(value=191, description='image_z', max=383), FloatSlider(value=0.5, description…"
      ]
     },
     "metadata": {},
     "output_type": "display_data"
    },
    {
     "name": "stdout",
     "output_type": "stream",
     "text": [
      "9941231L_TP1\n"
     ]
    },
    {
     "data": {
      "application/vnd.jupyter.widget-view+json": {
       "model_id": "297fa38a2d7e4102b58a361cc479b04f",
       "version_major": 2,
       "version_minor": 0
      },
      "text/plain": [
       "interactive(children=(IntSlider(value=191, description='image_z', max=383), FloatSlider(value=0.5, description…"
      ]
     },
     "metadata": {},
     "output_type": "display_data"
    },
    {
     "name": "stdout",
     "output_type": "stream",
     "text": [
      "9941231L_TP3\n"
     ]
    },
    {
     "data": {
      "application/vnd.jupyter.widget-view+json": {
       "model_id": "82b09468310d4a34b5737b8050a89bb4",
       "version_major": 2,
       "version_minor": 0
      },
      "text/plain": [
       "interactive(children=(IntSlider(value=191, description='image_z', max=383), FloatSlider(value=0.5, description…"
      ]
     },
     "metadata": {},
     "output_type": "display_data"
    },
    {
     "name": "stdout",
     "output_type": "stream",
     "text": [
      "9941231L_TP5\n"
     ]
    },
    {
     "data": {
      "application/vnd.jupyter.widget-view+json": {
       "model_id": "8aa9749156bc478cb4381b2d673bd237",
       "version_major": 2,
       "version_minor": 0
      },
      "text/plain": [
       "interactive(children=(IntSlider(value=191, description='image_z', max=383), FloatSlider(value=0.5, description…"
      ]
     },
     "metadata": {},
     "output_type": "display_data"
    },
    {
     "name": "stdout",
     "output_type": "stream",
     "text": [
      "9941231L_TP6\n"
     ]
    },
    {
     "data": {
      "application/vnd.jupyter.widget-view+json": {
       "model_id": "89694993c7f84de89506379d477e7fff",
       "version_major": 2,
       "version_minor": 0
      },
      "text/plain": [
       "interactive(children=(IntSlider(value=191, description='image_z', max=383), FloatSlider(value=0.5, description…"
      ]
     },
     "metadata": {},
     "output_type": "display_data"
    },
    {
     "name": "stdout",
     "output_type": "stream",
     "text": [
      "9941231L_TP8\n"
     ]
    },
    {
     "data": {
      "application/vnd.jupyter.widget-view+json": {
       "model_id": "9658b12446bf4bd8a36fadb050c11772",
       "version_major": 2,
       "version_minor": 0
      },
      "text/plain": [
       "interactive(children=(IntSlider(value=191, description='image_z', max=383), FloatSlider(value=0.5, description…"
      ]
     },
     "metadata": {},
     "output_type": "display_data"
    },
    {
     "name": "stdout",
     "output_type": "stream",
     "text": [
      "9941231L_TP1\n"
     ]
    },
    {
     "data": {
      "application/vnd.jupyter.widget-view+json": {
       "model_id": "b9675333315b42a0bcec432c03fc8fd1",
       "version_major": 2,
       "version_minor": 0
      },
      "text/plain": [
       "interactive(children=(IntSlider(value=191, description='image_z', max=383), FloatSlider(value=0.5, description…"
      ]
     },
     "metadata": {},
     "output_type": "display_data"
    },
    {
     "name": "stdout",
     "output_type": "stream",
     "text": [
      "9941231R_TP1\n"
     ]
    },
    {
     "data": {
      "application/vnd.jupyter.widget-view+json": {
       "model_id": "dd73ea7c0e404421b1c5a59b6e5b7eea",
       "version_major": 2,
       "version_minor": 0
      },
      "text/plain": [
       "interactive(children=(IntSlider(value=191, description='image_z', max=383), FloatSlider(value=0.5, description…"
      ]
     },
     "metadata": {},
     "output_type": "display_data"
    },
    {
     "name": "stdout",
     "output_type": "stream",
     "text": [
      "9941231R_TP3\n"
     ]
    },
    {
     "data": {
      "application/vnd.jupyter.widget-view+json": {
       "model_id": "f94e96286f9e422f80af210e22b9a4ce",
       "version_major": 2,
       "version_minor": 0
      },
      "text/plain": [
       "interactive(children=(IntSlider(value=191, description='image_z', max=383), FloatSlider(value=0.5, description…"
      ]
     },
     "metadata": {},
     "output_type": "display_data"
    },
    {
     "name": "stdout",
     "output_type": "stream",
     "text": [
      "9941231R_TP5\n"
     ]
    },
    {
     "data": {
      "application/vnd.jupyter.widget-view+json": {
       "model_id": "8792b6e94aeb4b0d91bbbd2a37725763",
       "version_major": 2,
       "version_minor": 0
      },
      "text/plain": [
       "interactive(children=(IntSlider(value=191, description='image_z', max=383), FloatSlider(value=0.5, description…"
      ]
     },
     "metadata": {},
     "output_type": "display_data"
    },
    {
     "name": "stdout",
     "output_type": "stream",
     "text": [
      "9941231R_TP6\n"
     ]
    },
    {
     "data": {
      "application/vnd.jupyter.widget-view+json": {
       "model_id": "dfaecac7743049b8adc89756aef0d092",
       "version_major": 2,
       "version_minor": 0
      },
      "text/plain": [
       "interactive(children=(IntSlider(value=191, description='image_z', max=383), FloatSlider(value=0.5, description…"
      ]
     },
     "metadata": {},
     "output_type": "display_data"
    },
    {
     "name": "stdout",
     "output_type": "stream",
     "text": [
      "9942724L_TP1\n"
     ]
    },
    {
     "data": {
      "application/vnd.jupyter.widget-view+json": {
       "model_id": "4eabdfe8376644139e19bb61b1fe4689",
       "version_major": 2,
       "version_minor": 0
      },
      "text/plain": [
       "interactive(children=(IntSlider(value=191, description='image_z', max=383), FloatSlider(value=0.5, description…"
      ]
     },
     "metadata": {},
     "output_type": "display_data"
    },
    {
     "name": "stdout",
     "output_type": "stream",
     "text": [
      "9942724L_TP3\n"
     ]
    },
    {
     "data": {
      "application/vnd.jupyter.widget-view+json": {
       "model_id": "b07cd9774829473cb340890bc12b883b",
       "version_major": 2,
       "version_minor": 0
      },
      "text/plain": [
       "interactive(children=(IntSlider(value=191, description='image_z', max=383), FloatSlider(value=0.5, description…"
      ]
     },
     "metadata": {},
     "output_type": "display_data"
    },
    {
     "name": "stdout",
     "output_type": "stream",
     "text": [
      "9942724L_TP6\n"
     ]
    },
    {
     "data": {
      "application/vnd.jupyter.widget-view+json": {
       "model_id": "5a69a08fab5441da9f052c752a80ee6d",
       "version_major": 2,
       "version_minor": 0
      },
      "text/plain": [
       "interactive(children=(IntSlider(value=191, description='image_z', max=383), FloatSlider(value=0.5, description…"
      ]
     },
     "metadata": {},
     "output_type": "display_data"
    },
    {
     "name": "stdout",
     "output_type": "stream",
     "text": [
      "9942724L_TP1\n"
     ]
    },
    {
     "data": {
      "application/vnd.jupyter.widget-view+json": {
       "model_id": "b150a553e3b94109a3b804ebb5f90784",
       "version_major": 2,
       "version_minor": 0
      },
      "text/plain": [
       "interactive(children=(IntSlider(value=191, description='image_z', max=383), FloatSlider(value=0.5, description…"
      ]
     },
     "metadata": {},
     "output_type": "display_data"
    },
    {
     "name": "stdout",
     "output_type": "stream",
     "text": [
      "9942724R_TP1\n"
     ]
    },
    {
     "data": {
      "application/vnd.jupyter.widget-view+json": {
       "model_id": "8bf3545d701e4e8a8e42cf8d76eb9548",
       "version_major": 2,
       "version_minor": 0
      },
      "text/plain": [
       "interactive(children=(IntSlider(value=191, description='image_z', max=383), FloatSlider(value=0.5, description…"
      ]
     },
     "metadata": {},
     "output_type": "display_data"
    },
    {
     "name": "stdout",
     "output_type": "stream",
     "text": [
      "9942724R_TP3\n"
     ]
    },
    {
     "data": {
      "application/vnd.jupyter.widget-view+json": {
       "model_id": "5ded8f3426ce4c41ac4d73422322fbf3",
       "version_major": 2,
       "version_minor": 0
      },
      "text/plain": [
       "interactive(children=(IntSlider(value=191, description='image_z', max=383), FloatSlider(value=0.5, description…"
      ]
     },
     "metadata": {},
     "output_type": "display_data"
    },
    {
     "name": "stdout",
     "output_type": "stream",
     "text": [
      "9942724R_TP5\n"
     ]
    },
    {
     "data": {
      "application/vnd.jupyter.widget-view+json": {
       "model_id": "62a037c338f742a685c15fe342597a31",
       "version_major": 2,
       "version_minor": 0
      },
      "text/plain": [
       "interactive(children=(IntSlider(value=191, description='image_z', max=383), FloatSlider(value=0.5, description…"
      ]
     },
     "metadata": {},
     "output_type": "display_data"
    },
    {
     "name": "stdout",
     "output_type": "stream",
     "text": [
      "9942724R_TP6\n"
     ]
    },
    {
     "data": {
      "application/vnd.jupyter.widget-view+json": {
       "model_id": "6ef3cd89fd454aa2b794c4f34b71bc28",
       "version_major": 2,
       "version_minor": 0
      },
      "text/plain": [
       "interactive(children=(IntSlider(value=191, description='image_z', max=383), FloatSlider(value=0.5, description…"
      ]
     },
     "metadata": {},
     "output_type": "display_data"
    },
    {
     "name": "stdout",
     "output_type": "stream",
     "text": [
      "9942724R_TP1\n"
     ]
    },
    {
     "data": {
      "application/vnd.jupyter.widget-view+json": {
       "model_id": "67cd223ad9454425899668e2be687ebb",
       "version_major": 2,
       "version_minor": 0
      },
      "text/plain": [
       "interactive(children=(IntSlider(value=191, description='image_z', max=383), FloatSlider(value=0.5, description…"
      ]
     },
     "metadata": {},
     "output_type": "display_data"
    },
    {
     "name": "stdout",
     "output_type": "stream",
     "text": [
      "9941446L_TP1\n"
     ]
    },
    {
     "data": {
      "application/vnd.jupyter.widget-view+json": {
       "model_id": "1083234df7014e598763f42e8520083a",
       "version_major": 2,
       "version_minor": 0
      },
      "text/plain": [
       "interactive(children=(IntSlider(value=191, description='image_z', max=383), FloatSlider(value=0.5, description…"
      ]
     },
     "metadata": {},
     "output_type": "display_data"
    },
    {
     "name": "stdout",
     "output_type": "stream",
     "text": [
      "9941446L_TP3\n"
     ]
    },
    {
     "data": {
      "application/vnd.jupyter.widget-view+json": {
       "model_id": "ea6c3512075546f3be1675cae38c2c35",
       "version_major": 2,
       "version_minor": 0
      },
      "text/plain": [
       "interactive(children=(IntSlider(value=191, description='image_z', max=383), FloatSlider(value=0.5, description…"
      ]
     },
     "metadata": {},
     "output_type": "display_data"
    },
    {
     "name": "stdout",
     "output_type": "stream",
     "text": [
      "9941446L_TP6\n"
     ]
    },
    {
     "data": {
      "application/vnd.jupyter.widget-view+json": {
       "model_id": "f967ac176f4c49809128ae2503311c0a",
       "version_major": 2,
       "version_minor": 0
      },
      "text/plain": [
       "interactive(children=(IntSlider(value=191, description='image_z', max=383), FloatSlider(value=0.5, description…"
      ]
     },
     "metadata": {},
     "output_type": "display_data"
    },
    {
     "name": "stdout",
     "output_type": "stream",
     "text": [
      "9941446L_TP8\n"
     ]
    },
    {
     "data": {
      "application/vnd.jupyter.widget-view+json": {
       "model_id": "b3101cd167f84dfb8f01c5fee0bfd8d4",
       "version_major": 2,
       "version_minor": 0
      },
      "text/plain": [
       "interactive(children=(IntSlider(value=191, description='image_z', max=383), FloatSlider(value=0.5, description…"
      ]
     },
     "metadata": {},
     "output_type": "display_data"
    },
    {
     "name": "stdout",
     "output_type": "stream",
     "text": [
      "9941446L_TP1\n"
     ]
    },
    {
     "data": {
      "application/vnd.jupyter.widget-view+json": {
       "model_id": "8c8fd96a88724a28b9f3e5ab6dd41400",
       "version_major": 2,
       "version_minor": 0
      },
      "text/plain": [
       "interactive(children=(IntSlider(value=191, description='image_z', max=383), FloatSlider(value=0.5, description…"
      ]
     },
     "metadata": {},
     "output_type": "display_data"
    },
    {
     "name": "stdout",
     "output_type": "stream",
     "text": [
      "9941446R_TP1\n"
     ]
    },
    {
     "data": {
      "application/vnd.jupyter.widget-view+json": {
       "model_id": "caf24f4ca80842ea9b18776daafef582",
       "version_major": 2,
       "version_minor": 0
      },
      "text/plain": [
       "interactive(children=(IntSlider(value=191, description='image_z', max=383), FloatSlider(value=0.5, description…"
      ]
     },
     "metadata": {},
     "output_type": "display_data"
    },
    {
     "name": "stdout",
     "output_type": "stream",
     "text": [
      "9941446R_TP3\n"
     ]
    },
    {
     "data": {
      "application/vnd.jupyter.widget-view+json": {
       "model_id": "8448a5c5ef9c4752ad5d98dea837a5e8",
       "version_major": 2,
       "version_minor": 0
      },
      "text/plain": [
       "interactive(children=(IntSlider(value=191, description='image_z', max=383), FloatSlider(value=0.5, description…"
      ]
     },
     "metadata": {},
     "output_type": "display_data"
    },
    {
     "name": "stdout",
     "output_type": "stream",
     "text": [
      "9941446R_TP5\n"
     ]
    },
    {
     "data": {
      "application/vnd.jupyter.widget-view+json": {
       "model_id": "8072816da7904dd6a8345290d7a1c224",
       "version_major": 2,
       "version_minor": 0
      },
      "text/plain": [
       "interactive(children=(IntSlider(value=191, description='image_z', max=383), FloatSlider(value=0.5, description…"
      ]
     },
     "metadata": {},
     "output_type": "display_data"
    },
    {
     "name": "stdout",
     "output_type": "stream",
     "text": [
      "9941446R_TP6\n"
     ]
    },
    {
     "data": {
      "application/vnd.jupyter.widget-view+json": {
       "model_id": "30eaeea46ab84c9f9d206f82fb9e614b",
       "version_major": 2,
       "version_minor": 0
      },
      "text/plain": [
       "interactive(children=(IntSlider(value=191, description='image_z', max=383), FloatSlider(value=0.5, description…"
      ]
     },
     "metadata": {},
     "output_type": "display_data"
    },
    {
     "name": "stdout",
     "output_type": "stream",
     "text": [
      "9941446R_TP8\n"
     ]
    },
    {
     "data": {
      "application/vnd.jupyter.widget-view+json": {
       "model_id": "42b1bc553ace4a54b82ff21acee2245b",
       "version_major": 2,
       "version_minor": 0
      },
      "text/plain": [
       "interactive(children=(IntSlider(value=191, description='image_z', max=383), FloatSlider(value=0.5, description…"
      ]
     },
     "metadata": {},
     "output_type": "display_data"
    },
    {
     "name": "stdout",
     "output_type": "stream",
     "text": [
      "9941446R_TP1\n"
     ]
    },
    {
     "data": {
      "application/vnd.jupyter.widget-view+json": {
       "model_id": "55131c41f8244df39bea3311f598f84a",
       "version_major": 2,
       "version_minor": 0
      },
      "text/plain": [
       "interactive(children=(IntSlider(value=191, description='image_z', max=383), FloatSlider(value=0.5, description…"
      ]
     },
     "metadata": {},
     "output_type": "display_data"
    },
    {
     "name": "stdout",
     "output_type": "stream",
     "text": [
      "9404954L_TP1\n"
     ]
    },
    {
     "data": {
      "application/vnd.jupyter.widget-view+json": {
       "model_id": "aff8683c4de5427bbf24480b8e93d839",
       "version_major": 2,
       "version_minor": 0
      },
      "text/plain": [
       "interactive(children=(IntSlider(value=191, description='image_z', max=383), FloatSlider(value=0.5, description…"
      ]
     },
     "metadata": {},
     "output_type": "display_data"
    },
    {
     "name": "stdout",
     "output_type": "stream",
     "text": [
      "9404954L_TP3\n"
     ]
    },
    {
     "data": {
      "application/vnd.jupyter.widget-view+json": {
       "model_id": "2601663e4c6047d980efd8d1cd92babf",
       "version_major": 2,
       "version_minor": 0
      },
      "text/plain": [
       "interactive(children=(IntSlider(value=191, description='image_z', max=383), FloatSlider(value=0.5, description…"
      ]
     },
     "metadata": {},
     "output_type": "display_data"
    },
    {
     "name": "stdout",
     "output_type": "stream",
     "text": [
      "9404954L_TP6\n"
     ]
    },
    {
     "data": {
      "application/vnd.jupyter.widget-view+json": {
       "model_id": "54b9175248804bd49300f182924bb67a",
       "version_major": 2,
       "version_minor": 0
      },
      "text/plain": [
       "interactive(children=(IntSlider(value=191, description='image_z', max=383), FloatSlider(value=0.5, description…"
      ]
     },
     "metadata": {},
     "output_type": "display_data"
    },
    {
     "name": "stdout",
     "output_type": "stream",
     "text": [
      "9404954L_TP8\n"
     ]
    },
    {
     "data": {
      "application/vnd.jupyter.widget-view+json": {
       "model_id": "0ea8ebb584204c9cbce4bd90fdae5038",
       "version_major": 2,
       "version_minor": 0
      },
      "text/plain": [
       "interactive(children=(IntSlider(value=191, description='image_z', max=383), FloatSlider(value=0.5, description…"
      ]
     },
     "metadata": {},
     "output_type": "display_data"
    },
    {
     "name": "stdout",
     "output_type": "stream",
     "text": [
      "9404954L_TP1\n"
     ]
    },
    {
     "data": {
      "application/vnd.jupyter.widget-view+json": {
       "model_id": "6441b015069e4cd6b9113b2c2d2bb26c",
       "version_major": 2,
       "version_minor": 0
      },
      "text/plain": [
       "interactive(children=(IntSlider(value=191, description='image_z', max=383), FloatSlider(value=0.5, description…"
      ]
     },
     "metadata": {},
     "output_type": "display_data"
    },
    {
     "name": "stdout",
     "output_type": "stream",
     "text": [
      "9404954R_TP1\n"
     ]
    },
    {
     "data": {
      "application/vnd.jupyter.widget-view+json": {
       "model_id": "c51a24bfb5ca4b5ea5d7a8fa68aa59af",
       "version_major": 2,
       "version_minor": 0
      },
      "text/plain": [
       "interactive(children=(IntSlider(value=191, description='image_z', max=383), FloatSlider(value=0.5, description…"
      ]
     },
     "metadata": {},
     "output_type": "display_data"
    },
    {
     "name": "stdout",
     "output_type": "stream",
     "text": [
      "9404954R_TP3\n"
     ]
    },
    {
     "data": {
      "application/vnd.jupyter.widget-view+json": {
       "model_id": "7d92d1cd8fbe4d31aa1deb8c930fa23f",
       "version_major": 2,
       "version_minor": 0
      },
      "text/plain": [
       "interactive(children=(IntSlider(value=191, description='image_z', max=383), FloatSlider(value=0.5, description…"
      ]
     },
     "metadata": {},
     "output_type": "display_data"
    },
    {
     "name": "stdout",
     "output_type": "stream",
     "text": [
      "9404954R_TP4\n"
     ]
    },
    {
     "data": {
      "application/vnd.jupyter.widget-view+json": {
       "model_id": "102da78185624bbb98484b7dc1cea477",
       "version_major": 2,
       "version_minor": 0
      },
      "text/plain": [
       "interactive(children=(IntSlider(value=191, description='image_z', max=383), FloatSlider(value=0.5, description…"
      ]
     },
     "metadata": {},
     "output_type": "display_data"
    },
    {
     "name": "stdout",
     "output_type": "stream",
     "text": [
      "9404954R_TP5\n"
     ]
    },
    {
     "data": {
      "application/vnd.jupyter.widget-view+json": {
       "model_id": "052886ba7ce44d7eb57cb2baea5fb9b4",
       "version_major": 2,
       "version_minor": 0
      },
      "text/plain": [
       "interactive(children=(IntSlider(value=191, description='image_z', max=383), FloatSlider(value=0.5, description…"
      ]
     },
     "metadata": {},
     "output_type": "display_data"
    },
    {
     "name": "stdout",
     "output_type": "stream",
     "text": [
      "9404954R_TP6\n"
     ]
    },
    {
     "data": {
      "application/vnd.jupyter.widget-view+json": {
       "model_id": "3a1b963363ef492f903ee4818d2af566",
       "version_major": 2,
       "version_minor": 0
      },
      "text/plain": [
       "interactive(children=(IntSlider(value=191, description='image_z', max=383), FloatSlider(value=0.5, description…"
      ]
     },
     "metadata": {},
     "output_type": "display_data"
    },
    {
     "name": "stdout",
     "output_type": "stream",
     "text": [
      "9404954R_TP8\n"
     ]
    },
    {
     "data": {
      "application/vnd.jupyter.widget-view+json": {
       "model_id": "b212fc8310b848898376282035c770a9",
       "version_major": 2,
       "version_minor": 0
      },
      "text/plain": [
       "interactive(children=(IntSlider(value=191, description='image_z', max=383), FloatSlider(value=0.5, description…"
      ]
     },
     "metadata": {},
     "output_type": "display_data"
    },
    {
     "name": "stdout",
     "output_type": "stream",
     "text": [
      "9404954R_TP1\n"
     ]
    },
    {
     "data": {
      "application/vnd.jupyter.widget-view+json": {
       "model_id": "910194f6879147a09233d9cde537b957",
       "version_major": 2,
       "version_minor": 0
      },
      "text/plain": [
       "interactive(children=(IntSlider(value=191, description='image_z', max=383), FloatSlider(value=0.5, description…"
      ]
     },
     "metadata": {},
     "output_type": "display_data"
    },
    {
     "name": "stdout",
     "output_type": "stream",
     "text": [
      "9942030L_TP1\n"
     ]
    },
    {
     "data": {
      "application/vnd.jupyter.widget-view+json": {
       "model_id": "e7877b805f5c4df88efc798672835960",
       "version_major": 2,
       "version_minor": 0
      },
      "text/plain": [
       "interactive(children=(IntSlider(value=191, description='image_z', max=383), FloatSlider(value=0.5, description…"
      ]
     },
     "metadata": {},
     "output_type": "display_data"
    },
    {
     "name": "stdout",
     "output_type": "stream",
     "text": [
      "9942030L_TP3\n"
     ]
    },
    {
     "data": {
      "application/vnd.jupyter.widget-view+json": {
       "model_id": "8ee74d2bf16d46e98811cb45ef4d5983",
       "version_major": 2,
       "version_minor": 0
      },
      "text/plain": [
       "interactive(children=(IntSlider(value=191, description='image_z', max=383), FloatSlider(value=0.5, description…"
      ]
     },
     "metadata": {},
     "output_type": "display_data"
    },
    {
     "name": "stdout",
     "output_type": "stream",
     "text": [
      "9942030L_TP5\n"
     ]
    },
    {
     "data": {
      "application/vnd.jupyter.widget-view+json": {
       "model_id": "e2d9fb6d1383416db9b49a618600c0d7",
       "version_major": 2,
       "version_minor": 0
      },
      "text/plain": [
       "interactive(children=(IntSlider(value=191, description='image_z', max=383), FloatSlider(value=0.5, description…"
      ]
     },
     "metadata": {},
     "output_type": "display_data"
    },
    {
     "name": "stdout",
     "output_type": "stream",
     "text": [
      "9942030L_TP6\n"
     ]
    },
    {
     "data": {
      "application/vnd.jupyter.widget-view+json": {
       "model_id": "4e6e510409af445faaee48d0af8e9d93",
       "version_major": 2,
       "version_minor": 0
      },
      "text/plain": [
       "interactive(children=(IntSlider(value=191, description='image_z', max=383), FloatSlider(value=0.5, description…"
      ]
     },
     "metadata": {},
     "output_type": "display_data"
    },
    {
     "name": "stdout",
     "output_type": "stream",
     "text": [
      "9942030R_TP1\n"
     ]
    },
    {
     "data": {
      "application/vnd.jupyter.widget-view+json": {
       "model_id": "b7616c77915a453d948c6d6b773257fd",
       "version_major": 2,
       "version_minor": 0
      },
      "text/plain": [
       "interactive(children=(IntSlider(value=191, description='image_z', max=383), FloatSlider(value=0.5, description…"
      ]
     },
     "metadata": {},
     "output_type": "display_data"
    },
    {
     "name": "stdout",
     "output_type": "stream",
     "text": [
      "9942030R_TP3\n"
     ]
    },
    {
     "data": {
      "application/vnd.jupyter.widget-view+json": {
       "model_id": "f573e708e9784501b2f90f22c1fdfc0f",
       "version_major": 2,
       "version_minor": 0
      },
      "text/plain": [
       "interactive(children=(IntSlider(value=191, description='image_z', max=383), FloatSlider(value=0.5, description…"
      ]
     },
     "metadata": {},
     "output_type": "display_data"
    },
    {
     "name": "stdout",
     "output_type": "stream",
     "text": [
      "9942030R_TP5\n"
     ]
    },
    {
     "data": {
      "application/vnd.jupyter.widget-view+json": {
       "model_id": "fa6a85b7b3584d03a0cc79ea44438fe9",
       "version_major": 2,
       "version_minor": 0
      },
      "text/plain": [
       "interactive(children=(IntSlider(value=191, description='image_z', max=383), FloatSlider(value=0.5, description…"
      ]
     },
     "metadata": {},
     "output_type": "display_data"
    },
    {
     "name": "stdout",
     "output_type": "stream",
     "text": [
      "9942030R_TP6\n"
     ]
    },
    {
     "data": {
      "application/vnd.jupyter.widget-view+json": {
       "model_id": "d4d2485683674db9bfd2c3f550478239",
       "version_major": 2,
       "version_minor": 0
      },
      "text/plain": [
       "interactive(children=(IntSlider(value=191, description='image_z', max=383), FloatSlider(value=0.5, description…"
      ]
     },
     "metadata": {},
     "output_type": "display_data"
    }
   ],
   "source": [
    "# rigid_only\n",
    "show_sagital_slice_images(image_data, is_rigid=True)"
   ]
  },
  {
   "cell_type": "code",
   "execution_count": null,
   "metadata": {},
   "outputs": [],
   "source": [
    "# 9939718L_TP10, 9941231L_TP10, 9942723L_TP10, 9942724R_TP10"
   ]
  },
  {
   "cell_type": "code",
   "execution_count": 20,
   "metadata": {},
   "outputs": [
    {
     "name": "stdout",
     "output_type": "stream",
     "text": [
      "9189303L_TP1\n"
     ]
    },
    {
     "data": {
      "application/vnd.jupyter.widget-view+json": {
       "model_id": "08d41477f22049769dedd94928e76f1d",
       "version_major": 2,
       "version_minor": 0
      },
      "text/plain": [
       "interactive(children=(IntSlider(value=191, description='image_z', max=383), FloatSlider(value=0.5, description…"
      ]
     },
     "metadata": {},
     "output_type": "display_data"
    },
    {
     "name": "stdout",
     "output_type": "stream",
     "text": [
      "9189303R_TP1\n"
     ]
    },
    {
     "data": {
      "application/vnd.jupyter.widget-view+json": {
       "model_id": "e1c5001d7be84b7a9deab4d4f8b0fbbb",
       "version_major": 2,
       "version_minor": 0
      },
      "text/plain": [
       "interactive(children=(IntSlider(value=191, description='image_z', max=383), FloatSlider(value=0.5, description…"
      ]
     },
     "metadata": {},
     "output_type": "display_data"
    },
    {
     "name": "stdout",
     "output_type": "stream",
     "text": [
      "9189303R_TP3\n"
     ]
    },
    {
     "data": {
      "application/vnd.jupyter.widget-view+json": {
       "model_id": "69a45945161a4c149ef8d635c36cc48d",
       "version_major": 2,
       "version_minor": 0
      },
      "text/plain": [
       "interactive(children=(IntSlider(value=191, description='image_z', max=383), FloatSlider(value=0.5, description…"
      ]
     },
     "metadata": {},
     "output_type": "display_data"
    },
    {
     "name": "stdout",
     "output_type": "stream",
     "text": [
      "9189303R_TP5\n"
     ]
    },
    {
     "data": {
      "application/vnd.jupyter.widget-view+json": {
       "model_id": "055e7749998a4d4d9ad9920b6812133e",
       "version_major": 2,
       "version_minor": 0
      },
      "text/plain": [
       "interactive(children=(IntSlider(value=191, description='image_z', max=383), FloatSlider(value=0.5, description…"
      ]
     },
     "metadata": {},
     "output_type": "display_data"
    },
    {
     "name": "stdout",
     "output_type": "stream",
     "text": [
      "9189303R_TP6\n"
     ]
    },
    {
     "data": {
      "application/vnd.jupyter.widget-view+json": {
       "model_id": "be53b37e3f2f4a23ba530690ce28dff6",
       "version_major": 2,
       "version_minor": 0
      },
      "text/plain": [
       "interactive(children=(IntSlider(value=191, description='image_z', max=383), FloatSlider(value=0.5, description…"
      ]
     },
     "metadata": {},
     "output_type": "display_data"
    },
    {
     "name": "stdout",
     "output_type": "stream",
     "text": [
      "9189303R_TP8\n"
     ]
    },
    {
     "data": {
      "application/vnd.jupyter.widget-view+json": {
       "model_id": "84596acf8da7448f83092e6babd02c66",
       "version_major": 2,
       "version_minor": 0
      },
      "text/plain": [
       "interactive(children=(IntSlider(value=191, description='image_z', max=383), FloatSlider(value=0.5, description…"
      ]
     },
     "metadata": {},
     "output_type": "display_data"
    },
    {
     "name": "stdout",
     "output_type": "stream",
     "text": [
      "9939718L_TP1\n"
     ]
    },
    {
     "data": {
      "application/vnd.jupyter.widget-view+json": {
       "model_id": "fcbb037fb34a476fb12607386b9a4062",
       "version_major": 2,
       "version_minor": 0
      },
      "text/plain": [
       "interactive(children=(IntSlider(value=191, description='image_z', max=383), FloatSlider(value=0.5, description…"
      ]
     },
     "metadata": {},
     "output_type": "display_data"
    },
    {
     "name": "stdout",
     "output_type": "stream",
     "text": [
      "9939718L_TP3\n"
     ]
    },
    {
     "data": {
      "application/vnd.jupyter.widget-view+json": {
       "model_id": "b379bc97709348b3afd30d46613947d8",
       "version_major": 2,
       "version_minor": 0
      },
      "text/plain": [
       "interactive(children=(IntSlider(value=191, description='image_z', max=383), FloatSlider(value=0.5, description…"
      ]
     },
     "metadata": {},
     "output_type": "display_data"
    },
    {
     "name": "stdout",
     "output_type": "stream",
     "text": [
      "9939718L_TP5\n"
     ]
    },
    {
     "data": {
      "application/vnd.jupyter.widget-view+json": {
       "model_id": "c37c0541a5624c72b15e4f0bf31cd0c1",
       "version_major": 2,
       "version_minor": 0
      },
      "text/plain": [
       "interactive(children=(IntSlider(value=191, description='image_z', max=383), FloatSlider(value=0.5, description…"
      ]
     },
     "metadata": {},
     "output_type": "display_data"
    },
    {
     "name": "stdout",
     "output_type": "stream",
     "text": [
      "9939718L_TP6\n"
     ]
    },
    {
     "data": {
      "application/vnd.jupyter.widget-view+json": {
       "model_id": "bdffa6b3b5f94190806b5f419f6ef142",
       "version_major": 2,
       "version_minor": 0
      },
      "text/plain": [
       "interactive(children=(IntSlider(value=191, description='image_z', max=383), FloatSlider(value=0.5, description…"
      ]
     },
     "metadata": {},
     "output_type": "display_data"
    },
    {
     "name": "stdout",
     "output_type": "stream",
     "text": [
      "9939718L_TP8\n"
     ]
    },
    {
     "data": {
      "application/vnd.jupyter.widget-view+json": {
       "model_id": "562d48fe38a44b669a176fd30449b730",
       "version_major": 2,
       "version_minor": 0
      },
      "text/plain": [
       "interactive(children=(IntSlider(value=191, description='image_z', max=383), FloatSlider(value=0.5, description…"
      ]
     },
     "metadata": {},
     "output_type": "display_data"
    },
    {
     "name": "stdout",
     "output_type": "stream",
     "text": [
      "9939718L_TP1\n"
     ]
    },
    {
     "data": {
      "application/vnd.jupyter.widget-view+json": {
       "model_id": "ef501d89028d466c8cf46efbe02b4caf",
       "version_major": 2,
       "version_minor": 0
      },
      "text/plain": [
       "interactive(children=(IntSlider(value=191, description='image_z', max=383), FloatSlider(value=0.5, description…"
      ]
     },
     "metadata": {},
     "output_type": "display_data"
    },
    {
     "name": "stdout",
     "output_type": "stream",
     "text": [
      "9939718R_TP1\n"
     ]
    },
    {
     "data": {
      "application/vnd.jupyter.widget-view+json": {
       "model_id": "22e92df6c6ff495baaaa039f8e150e08",
       "version_major": 2,
       "version_minor": 0
      },
      "text/plain": [
       "interactive(children=(IntSlider(value=191, description='image_z', max=383), FloatSlider(value=0.5, description…"
      ]
     },
     "metadata": {},
     "output_type": "display_data"
    },
    {
     "name": "stdout",
     "output_type": "stream",
     "text": [
      "9939718R_TP2\n"
     ]
    },
    {
     "data": {
      "application/vnd.jupyter.widget-view+json": {
       "model_id": "39b93ece800047989ff3230ceb1e068e",
       "version_major": 2,
       "version_minor": 0
      },
      "text/plain": [
       "interactive(children=(IntSlider(value=191, description='image_z', max=383), FloatSlider(value=0.5, description…"
      ]
     },
     "metadata": {},
     "output_type": "display_data"
    },
    {
     "name": "stdout",
     "output_type": "stream",
     "text": [
      "9939718R_TP3\n"
     ]
    },
    {
     "data": {
      "application/vnd.jupyter.widget-view+json": {
       "model_id": "b9df42da5a554dee9e9a33d3590d54d5",
       "version_major": 2,
       "version_minor": 0
      },
      "text/plain": [
       "interactive(children=(IntSlider(value=191, description='image_z', max=383), FloatSlider(value=0.5, description…"
      ]
     },
     "metadata": {},
     "output_type": "display_data"
    },
    {
     "name": "stdout",
     "output_type": "stream",
     "text": [
      "9939718R_TP5\n"
     ]
    },
    {
     "data": {
      "application/vnd.jupyter.widget-view+json": {
       "model_id": "b7a6fa3a138e4ceaae141e172f8bcedb",
       "version_major": 2,
       "version_minor": 0
      },
      "text/plain": [
       "interactive(children=(IntSlider(value=191, description='image_z', max=383), FloatSlider(value=0.5, description…"
      ]
     },
     "metadata": {},
     "output_type": "display_data"
    },
    {
     "name": "stdout",
     "output_type": "stream",
     "text": [
      "9939718R_TP6\n"
     ]
    },
    {
     "data": {
      "application/vnd.jupyter.widget-view+json": {
       "model_id": "1f056036b14d4aeb886219351c4b0661",
       "version_major": 2,
       "version_minor": 0
      },
      "text/plain": [
       "interactive(children=(IntSlider(value=191, description='image_z', max=383), FloatSlider(value=0.5, description…"
      ]
     },
     "metadata": {},
     "output_type": "display_data"
    },
    {
     "name": "stdout",
     "output_type": "stream",
     "text": [
      "9939718R_TP8\n"
     ]
    },
    {
     "data": {
      "application/vnd.jupyter.widget-view+json": {
       "model_id": "e42a0dbe9cc1498b8ef15752d081a528",
       "version_major": 2,
       "version_minor": 0
      },
      "text/plain": [
       "interactive(children=(IntSlider(value=191, description='image_z', max=383), FloatSlider(value=0.5, description…"
      ]
     },
     "metadata": {},
     "output_type": "display_data"
    },
    {
     "name": "stdout",
     "output_type": "stream",
     "text": [
      "9939718R_TP1\n"
     ]
    },
    {
     "data": {
      "application/vnd.jupyter.widget-view+json": {
       "model_id": "f327eb0fdfb340c4989756aa57bee445",
       "version_major": 2,
       "version_minor": 0
      },
      "text/plain": [
       "interactive(children=(IntSlider(value=191, description='image_z', max=383), FloatSlider(value=0.5, description…"
      ]
     },
     "metadata": {},
     "output_type": "display_data"
    },
    {
     "name": "stdout",
     "output_type": "stream",
     "text": [
      "9941231L_TP1\n"
     ]
    },
    {
     "data": {
      "application/vnd.jupyter.widget-view+json": {
       "model_id": "0eceee5905ac486d98d93ba104d5fdfe",
       "version_major": 2,
       "version_minor": 0
      },
      "text/plain": [
       "interactive(children=(IntSlider(value=191, description='image_z', max=383), FloatSlider(value=0.5, description…"
      ]
     },
     "metadata": {},
     "output_type": "display_data"
    },
    {
     "name": "stdout",
     "output_type": "stream",
     "text": [
      "9941231L_TP3\n"
     ]
    },
    {
     "data": {
      "application/vnd.jupyter.widget-view+json": {
       "model_id": "518b131c322a4fd080b86adc4691aacc",
       "version_major": 2,
       "version_minor": 0
      },
      "text/plain": [
       "interactive(children=(IntSlider(value=191, description='image_z', max=383), FloatSlider(value=0.5, description…"
      ]
     },
     "metadata": {},
     "output_type": "display_data"
    },
    {
     "name": "stdout",
     "output_type": "stream",
     "text": [
      "9941231L_TP5\n"
     ]
    },
    {
     "data": {
      "application/vnd.jupyter.widget-view+json": {
       "model_id": "6c08d4dc05c646e5aba1c2527644a2b4",
       "version_major": 2,
       "version_minor": 0
      },
      "text/plain": [
       "interactive(children=(IntSlider(value=191, description='image_z', max=383), FloatSlider(value=0.5, description…"
      ]
     },
     "metadata": {},
     "output_type": "display_data"
    },
    {
     "name": "stdout",
     "output_type": "stream",
     "text": [
      "9941231L_TP6\n"
     ]
    },
    {
     "data": {
      "application/vnd.jupyter.widget-view+json": {
       "model_id": "e1193272fe8c468e87fc021a7351e799",
       "version_major": 2,
       "version_minor": 0
      },
      "text/plain": [
       "interactive(children=(IntSlider(value=191, description='image_z', max=383), FloatSlider(value=0.5, description…"
      ]
     },
     "metadata": {},
     "output_type": "display_data"
    },
    {
     "name": "stdout",
     "output_type": "stream",
     "text": [
      "9941231L_TP8\n"
     ]
    },
    {
     "data": {
      "application/vnd.jupyter.widget-view+json": {
       "model_id": "5b6efbd1be8b4852a7c4a4ce4f66f48e",
       "version_major": 2,
       "version_minor": 0
      },
      "text/plain": [
       "interactive(children=(IntSlider(value=191, description='image_z', max=383), FloatSlider(value=0.5, description…"
      ]
     },
     "metadata": {},
     "output_type": "display_data"
    },
    {
     "name": "stdout",
     "output_type": "stream",
     "text": [
      "9941231L_TP1\n"
     ]
    },
    {
     "data": {
      "application/vnd.jupyter.widget-view+json": {
       "model_id": "9272f5ad9c1645c9849fe6be73a34edc",
       "version_major": 2,
       "version_minor": 0
      },
      "text/plain": [
       "interactive(children=(IntSlider(value=191, description='image_z', max=383), FloatSlider(value=0.5, description…"
      ]
     },
     "metadata": {},
     "output_type": "display_data"
    },
    {
     "name": "stdout",
     "output_type": "stream",
     "text": [
      "9941231R_TP1\n"
     ]
    },
    {
     "data": {
      "application/vnd.jupyter.widget-view+json": {
       "model_id": "9d8e909c78b3414696eac159f8d15ad1",
       "version_major": 2,
       "version_minor": 0
      },
      "text/plain": [
       "interactive(children=(IntSlider(value=191, description='image_z', max=383), FloatSlider(value=0.5, description…"
      ]
     },
     "metadata": {},
     "output_type": "display_data"
    },
    {
     "name": "stdout",
     "output_type": "stream",
     "text": [
      "9941231R_TP3\n"
     ]
    },
    {
     "data": {
      "application/vnd.jupyter.widget-view+json": {
       "model_id": "ffefdec206914c66924e9355d8ac3cf7",
       "version_major": 2,
       "version_minor": 0
      },
      "text/plain": [
       "interactive(children=(IntSlider(value=191, description='image_z', max=383), FloatSlider(value=0.5, description…"
      ]
     },
     "metadata": {},
     "output_type": "display_data"
    },
    {
     "name": "stdout",
     "output_type": "stream",
     "text": [
      "9941231R_TP5\n"
     ]
    },
    {
     "data": {
      "application/vnd.jupyter.widget-view+json": {
       "model_id": "0cc80d0f4d89406b96dd3895ca6ca897",
       "version_major": 2,
       "version_minor": 0
      },
      "text/plain": [
       "interactive(children=(IntSlider(value=191, description='image_z', max=383), FloatSlider(value=0.5, description…"
      ]
     },
     "metadata": {},
     "output_type": "display_data"
    },
    {
     "name": "stdout",
     "output_type": "stream",
     "text": [
      "9941231R_TP6\n"
     ]
    },
    {
     "data": {
      "application/vnd.jupyter.widget-view+json": {
       "model_id": "66f88e8ac6ef41b999577130d2c7fa59",
       "version_major": 2,
       "version_minor": 0
      },
      "text/plain": [
       "interactive(children=(IntSlider(value=191, description='image_z', max=383), FloatSlider(value=0.5, description…"
      ]
     },
     "metadata": {},
     "output_type": "display_data"
    },
    {
     "name": "stdout",
     "output_type": "stream",
     "text": [
      "9942724L_TP1\n"
     ]
    },
    {
     "data": {
      "application/vnd.jupyter.widget-view+json": {
       "model_id": "f2aa222cb6794e4fae2cf87ea422fbe5",
       "version_major": 2,
       "version_minor": 0
      },
      "text/plain": [
       "interactive(children=(IntSlider(value=191, description='image_z', max=383), FloatSlider(value=0.5, description…"
      ]
     },
     "metadata": {},
     "output_type": "display_data"
    },
    {
     "name": "stdout",
     "output_type": "stream",
     "text": [
      "9942724L_TP3\n"
     ]
    },
    {
     "data": {
      "application/vnd.jupyter.widget-view+json": {
       "model_id": "65771892a1424521a774f828622b9e0c",
       "version_major": 2,
       "version_minor": 0
      },
      "text/plain": [
       "interactive(children=(IntSlider(value=191, description='image_z', max=383), FloatSlider(value=0.5, description…"
      ]
     },
     "metadata": {},
     "output_type": "display_data"
    },
    {
     "name": "stdout",
     "output_type": "stream",
     "text": [
      "9942724L_TP6\n"
     ]
    },
    {
     "data": {
      "application/vnd.jupyter.widget-view+json": {
       "model_id": "0eeb11ff9d29431aa066836f97cb69cc",
       "version_major": 2,
       "version_minor": 0
      },
      "text/plain": [
       "interactive(children=(IntSlider(value=191, description='image_z', max=383), FloatSlider(value=0.5, description…"
      ]
     },
     "metadata": {},
     "output_type": "display_data"
    },
    {
     "name": "stdout",
     "output_type": "stream",
     "text": [
      "9942724L_TP1\n"
     ]
    },
    {
     "data": {
      "application/vnd.jupyter.widget-view+json": {
       "model_id": "5e5b21735eb74b79b246bfe8e9762d6a",
       "version_major": 2,
       "version_minor": 0
      },
      "text/plain": [
       "interactive(children=(IntSlider(value=191, description='image_z', max=383), FloatSlider(value=0.5, description…"
      ]
     },
     "metadata": {},
     "output_type": "display_data"
    },
    {
     "name": "stdout",
     "output_type": "stream",
     "text": [
      "9942724R_TP1\n"
     ]
    },
    {
     "data": {
      "application/vnd.jupyter.widget-view+json": {
       "model_id": "707f1c9684994994b72a5b1e8abc7304",
       "version_major": 2,
       "version_minor": 0
      },
      "text/plain": [
       "interactive(children=(IntSlider(value=191, description='image_z', max=383), FloatSlider(value=0.5, description…"
      ]
     },
     "metadata": {},
     "output_type": "display_data"
    },
    {
     "name": "stdout",
     "output_type": "stream",
     "text": [
      "9942724R_TP3\n"
     ]
    },
    {
     "data": {
      "application/vnd.jupyter.widget-view+json": {
       "model_id": "7dafe5cd06cd4a1abe33a6114d4748c1",
       "version_major": 2,
       "version_minor": 0
      },
      "text/plain": [
       "interactive(children=(IntSlider(value=191, description='image_z', max=383), FloatSlider(value=0.5, description…"
      ]
     },
     "metadata": {},
     "output_type": "display_data"
    },
    {
     "name": "stdout",
     "output_type": "stream",
     "text": [
      "9942724R_TP5\n"
     ]
    },
    {
     "data": {
      "application/vnd.jupyter.widget-view+json": {
       "model_id": "f598257bee624e97b8db127c38910656",
       "version_major": 2,
       "version_minor": 0
      },
      "text/plain": [
       "interactive(children=(IntSlider(value=191, description='image_z', max=383), FloatSlider(value=0.5, description…"
      ]
     },
     "metadata": {},
     "output_type": "display_data"
    },
    {
     "name": "stdout",
     "output_type": "stream",
     "text": [
      "9942724R_TP6\n"
     ]
    },
    {
     "data": {
      "application/vnd.jupyter.widget-view+json": {
       "model_id": "cab960f6c17a4382a31c50e3d97d21dd",
       "version_major": 2,
       "version_minor": 0
      },
      "text/plain": [
       "interactive(children=(IntSlider(value=191, description='image_z', max=383), FloatSlider(value=0.5, description…"
      ]
     },
     "metadata": {},
     "output_type": "display_data"
    },
    {
     "name": "stdout",
     "output_type": "stream",
     "text": [
      "9942724R_TP1\n"
     ]
    },
    {
     "data": {
      "application/vnd.jupyter.widget-view+json": {
       "model_id": "12fa2bd490e440d891490495581b008b",
       "version_major": 2,
       "version_minor": 0
      },
      "text/plain": [
       "interactive(children=(IntSlider(value=191, description='image_z', max=383), FloatSlider(value=0.5, description…"
      ]
     },
     "metadata": {},
     "output_type": "display_data"
    },
    {
     "name": "stdout",
     "output_type": "stream",
     "text": [
      "9941446L_TP1\n"
     ]
    },
    {
     "data": {
      "application/vnd.jupyter.widget-view+json": {
       "model_id": "2e0c2f93cd094650b88576888c3da5d3",
       "version_major": 2,
       "version_minor": 0
      },
      "text/plain": [
       "interactive(children=(IntSlider(value=191, description='image_z', max=383), FloatSlider(value=0.5, description…"
      ]
     },
     "metadata": {},
     "output_type": "display_data"
    },
    {
     "name": "stdout",
     "output_type": "stream",
     "text": [
      "9941446L_TP3\n"
     ]
    },
    {
     "data": {
      "application/vnd.jupyter.widget-view+json": {
       "model_id": "0395a657e2fd489e916c6c055e55d9bb",
       "version_major": 2,
       "version_minor": 0
      },
      "text/plain": [
       "interactive(children=(IntSlider(value=191, description='image_z', max=383), FloatSlider(value=0.5, description…"
      ]
     },
     "metadata": {},
     "output_type": "display_data"
    },
    {
     "name": "stdout",
     "output_type": "stream",
     "text": [
      "9941446L_TP6\n"
     ]
    },
    {
     "data": {
      "application/vnd.jupyter.widget-view+json": {
       "model_id": "6f772567ab1d4921ab2bdd4f5ab36aa0",
       "version_major": 2,
       "version_minor": 0
      },
      "text/plain": [
       "interactive(children=(IntSlider(value=191, description='image_z', max=383), FloatSlider(value=0.5, description…"
      ]
     },
     "metadata": {},
     "output_type": "display_data"
    },
    {
     "name": "stdout",
     "output_type": "stream",
     "text": [
      "9941446L_TP8\n"
     ]
    },
    {
     "data": {
      "application/vnd.jupyter.widget-view+json": {
       "model_id": "893e9f7b9d3c46e88d06d498bf855db1",
       "version_major": 2,
       "version_minor": 0
      },
      "text/plain": [
       "interactive(children=(IntSlider(value=191, description='image_z', max=383), FloatSlider(value=0.5, description…"
      ]
     },
     "metadata": {},
     "output_type": "display_data"
    },
    {
     "name": "stdout",
     "output_type": "stream",
     "text": [
      "9941446L_TP1\n"
     ]
    },
    {
     "data": {
      "application/vnd.jupyter.widget-view+json": {
       "model_id": "dd65c6df0a2e41ef9a1781316c66415b",
       "version_major": 2,
       "version_minor": 0
      },
      "text/plain": [
       "interactive(children=(IntSlider(value=191, description='image_z', max=383), FloatSlider(value=0.5, description…"
      ]
     },
     "metadata": {},
     "output_type": "display_data"
    },
    {
     "name": "stdout",
     "output_type": "stream",
     "text": [
      "9941446R_TP1\n"
     ]
    },
    {
     "data": {
      "application/vnd.jupyter.widget-view+json": {
       "model_id": "b977a10930cb44b099d8dfac3ba8b5b0",
       "version_major": 2,
       "version_minor": 0
      },
      "text/plain": [
       "interactive(children=(IntSlider(value=191, description='image_z', max=383), FloatSlider(value=0.5, description…"
      ]
     },
     "metadata": {},
     "output_type": "display_data"
    },
    {
     "name": "stdout",
     "output_type": "stream",
     "text": [
      "9941446R_TP3\n"
     ]
    },
    {
     "data": {
      "application/vnd.jupyter.widget-view+json": {
       "model_id": "dac2ce97ff6d462cb391451293a2d71e",
       "version_major": 2,
       "version_minor": 0
      },
      "text/plain": [
       "interactive(children=(IntSlider(value=191, description='image_z', max=383), FloatSlider(value=0.5, description…"
      ]
     },
     "metadata": {},
     "output_type": "display_data"
    },
    {
     "name": "stdout",
     "output_type": "stream",
     "text": [
      "9941446R_TP5\n"
     ]
    },
    {
     "data": {
      "application/vnd.jupyter.widget-view+json": {
       "model_id": "42ac2c62e61f4710b6dae9e97997a089",
       "version_major": 2,
       "version_minor": 0
      },
      "text/plain": [
       "interactive(children=(IntSlider(value=191, description='image_z', max=383), FloatSlider(value=0.5, description…"
      ]
     },
     "metadata": {},
     "output_type": "display_data"
    },
    {
     "name": "stdout",
     "output_type": "stream",
     "text": [
      "9941446R_TP6\n"
     ]
    },
    {
     "data": {
      "application/vnd.jupyter.widget-view+json": {
       "model_id": "68829cd415564112a7193397d8cd190f",
       "version_major": 2,
       "version_minor": 0
      },
      "text/plain": [
       "interactive(children=(IntSlider(value=191, description='image_z', max=383), FloatSlider(value=0.5, description…"
      ]
     },
     "metadata": {},
     "output_type": "display_data"
    },
    {
     "name": "stdout",
     "output_type": "stream",
     "text": [
      "9941446R_TP8\n"
     ]
    },
    {
     "data": {
      "application/vnd.jupyter.widget-view+json": {
       "model_id": "3fa069af58874f5aab5e9c78c332756a",
       "version_major": 2,
       "version_minor": 0
      },
      "text/plain": [
       "interactive(children=(IntSlider(value=191, description='image_z', max=383), FloatSlider(value=0.5, description…"
      ]
     },
     "metadata": {},
     "output_type": "display_data"
    },
    {
     "name": "stdout",
     "output_type": "stream",
     "text": [
      "9941446R_TP1\n"
     ]
    },
    {
     "data": {
      "application/vnd.jupyter.widget-view+json": {
       "model_id": "9e3ce381c39b43d4b954e436b8d8db12",
       "version_major": 2,
       "version_minor": 0
      },
      "text/plain": [
       "interactive(children=(IntSlider(value=191, description='image_z', max=383), FloatSlider(value=0.5, description…"
      ]
     },
     "metadata": {},
     "output_type": "display_data"
    },
    {
     "name": "stdout",
     "output_type": "stream",
     "text": [
      "9404954L_TP1\n"
     ]
    },
    {
     "data": {
      "application/vnd.jupyter.widget-view+json": {
       "model_id": "2386de2876a34dc0a54a822f2a086834",
       "version_major": 2,
       "version_minor": 0
      },
      "text/plain": [
       "interactive(children=(IntSlider(value=191, description='image_z', max=383), FloatSlider(value=0.5, description…"
      ]
     },
     "metadata": {},
     "output_type": "display_data"
    },
    {
     "name": "stdout",
     "output_type": "stream",
     "text": [
      "9404954L_TP3\n"
     ]
    },
    {
     "data": {
      "application/vnd.jupyter.widget-view+json": {
       "model_id": "e2eafab8bbc74848a4f929fa0a7acb55",
       "version_major": 2,
       "version_minor": 0
      },
      "text/plain": [
       "interactive(children=(IntSlider(value=191, description='image_z', max=383), FloatSlider(value=0.5, description…"
      ]
     },
     "metadata": {},
     "output_type": "display_data"
    },
    {
     "name": "stdout",
     "output_type": "stream",
     "text": [
      "9404954L_TP6\n"
     ]
    },
    {
     "data": {
      "application/vnd.jupyter.widget-view+json": {
       "model_id": "a390ce70d23849d781afa813a2751dc4",
       "version_major": 2,
       "version_minor": 0
      },
      "text/plain": [
       "interactive(children=(IntSlider(value=191, description='image_z', max=383), FloatSlider(value=0.5, description…"
      ]
     },
     "metadata": {},
     "output_type": "display_data"
    },
    {
     "name": "stdout",
     "output_type": "stream",
     "text": [
      "9404954L_TP8\n"
     ]
    },
    {
     "data": {
      "application/vnd.jupyter.widget-view+json": {
       "model_id": "31e462d3b84141118c14dc2e8705a4fd",
       "version_major": 2,
       "version_minor": 0
      },
      "text/plain": [
       "interactive(children=(IntSlider(value=191, description='image_z', max=383), FloatSlider(value=0.5, description…"
      ]
     },
     "metadata": {},
     "output_type": "display_data"
    },
    {
     "name": "stdout",
     "output_type": "stream",
     "text": [
      "9404954L_TP1\n"
     ]
    },
    {
     "data": {
      "application/vnd.jupyter.widget-view+json": {
       "model_id": "991401da2ef24c37bb83ddf1aa5959c5",
       "version_major": 2,
       "version_minor": 0
      },
      "text/plain": [
       "interactive(children=(IntSlider(value=191, description='image_z', max=383), FloatSlider(value=0.5, description…"
      ]
     },
     "metadata": {},
     "output_type": "display_data"
    },
    {
     "name": "stdout",
     "output_type": "stream",
     "text": [
      "9404954R_TP1\n"
     ]
    },
    {
     "data": {
      "application/vnd.jupyter.widget-view+json": {
       "model_id": "e032c7d9e27b4479be9d3b3e5b9138f6",
       "version_major": 2,
       "version_minor": 0
      },
      "text/plain": [
       "interactive(children=(IntSlider(value=191, description='image_z', max=383), FloatSlider(value=0.5, description…"
      ]
     },
     "metadata": {},
     "output_type": "display_data"
    },
    {
     "name": "stdout",
     "output_type": "stream",
     "text": [
      "9404954R_TP3\n"
     ]
    },
    {
     "data": {
      "application/vnd.jupyter.widget-view+json": {
       "model_id": "193f6fcdd14b4b1c8f8c90b9f6d82590",
       "version_major": 2,
       "version_minor": 0
      },
      "text/plain": [
       "interactive(children=(IntSlider(value=191, description='image_z', max=383), FloatSlider(value=0.5, description…"
      ]
     },
     "metadata": {},
     "output_type": "display_data"
    },
    {
     "name": "stdout",
     "output_type": "stream",
     "text": [
      "9404954R_TP4\n"
     ]
    },
    {
     "data": {
      "application/vnd.jupyter.widget-view+json": {
       "model_id": "c4823a0abd464725adf7ffda97d2e878",
       "version_major": 2,
       "version_minor": 0
      },
      "text/plain": [
       "interactive(children=(IntSlider(value=191, description='image_z', max=383), FloatSlider(value=0.5, description…"
      ]
     },
     "metadata": {},
     "output_type": "display_data"
    },
    {
     "name": "stdout",
     "output_type": "stream",
     "text": [
      "9404954R_TP5\n"
     ]
    },
    {
     "data": {
      "application/vnd.jupyter.widget-view+json": {
       "model_id": "9409ea5e1c2d43c39bae301bbae27271",
       "version_major": 2,
       "version_minor": 0
      },
      "text/plain": [
       "interactive(children=(IntSlider(value=191, description='image_z', max=383), FloatSlider(value=0.5, description…"
      ]
     },
     "metadata": {},
     "output_type": "display_data"
    },
    {
     "name": "stdout",
     "output_type": "stream",
     "text": [
      "9404954R_TP6\n"
     ]
    },
    {
     "data": {
      "application/vnd.jupyter.widget-view+json": {
       "model_id": "1e35dac6965b4fd09879ff9cb986a73b",
       "version_major": 2,
       "version_minor": 0
      },
      "text/plain": [
       "interactive(children=(IntSlider(value=191, description='image_z', max=383), FloatSlider(value=0.5, description…"
      ]
     },
     "metadata": {},
     "output_type": "display_data"
    },
    {
     "name": "stdout",
     "output_type": "stream",
     "text": [
      "9404954R_TP8\n"
     ]
    },
    {
     "data": {
      "application/vnd.jupyter.widget-view+json": {
       "model_id": "2d511348535144e69ce9c50f737afe50",
       "version_major": 2,
       "version_minor": 0
      },
      "text/plain": [
       "interactive(children=(IntSlider(value=191, description='image_z', max=383), FloatSlider(value=0.5, description…"
      ]
     },
     "metadata": {},
     "output_type": "display_data"
    },
    {
     "name": "stdout",
     "output_type": "stream",
     "text": [
      "9404954R_TP1\n"
     ]
    },
    {
     "data": {
      "application/vnd.jupyter.widget-view+json": {
       "model_id": "806d11b13ce048318aaf8e401890f06b",
       "version_major": 2,
       "version_minor": 0
      },
      "text/plain": [
       "interactive(children=(IntSlider(value=191, description='image_z', max=383), FloatSlider(value=0.5, description…"
      ]
     },
     "metadata": {},
     "output_type": "display_data"
    },
    {
     "name": "stdout",
     "output_type": "stream",
     "text": [
      "9942030L_TP1\n"
     ]
    },
    {
     "data": {
      "application/vnd.jupyter.widget-view+json": {
       "model_id": "7fcf3af2ef7e40378e712630be289ab3",
       "version_major": 2,
       "version_minor": 0
      },
      "text/plain": [
       "interactive(children=(IntSlider(value=191, description='image_z', max=383), FloatSlider(value=0.5, description…"
      ]
     },
     "metadata": {},
     "output_type": "display_data"
    },
    {
     "name": "stdout",
     "output_type": "stream",
     "text": [
      "9942030L_TP3\n"
     ]
    },
    {
     "data": {
      "application/vnd.jupyter.widget-view+json": {
       "model_id": "cb7a055ea7d64052a34d292c29b6be85",
       "version_major": 2,
       "version_minor": 0
      },
      "text/plain": [
       "interactive(children=(IntSlider(value=191, description='image_z', max=383), FloatSlider(value=0.5, description…"
      ]
     },
     "metadata": {},
     "output_type": "display_data"
    },
    {
     "name": "stdout",
     "output_type": "stream",
     "text": [
      "9942030L_TP5\n"
     ]
    },
    {
     "data": {
      "application/vnd.jupyter.widget-view+json": {
       "model_id": "8399d72fdaf64f4b9303a21c47287526",
       "version_major": 2,
       "version_minor": 0
      },
      "text/plain": [
       "interactive(children=(IntSlider(value=191, description='image_z', max=383), FloatSlider(value=0.5, description…"
      ]
     },
     "metadata": {},
     "output_type": "display_data"
    },
    {
     "name": "stdout",
     "output_type": "stream",
     "text": [
      "9942030L_TP6\n"
     ]
    },
    {
     "data": {
      "application/vnd.jupyter.widget-view+json": {
       "model_id": "2ff95386fcc64f0dbb2160a92507e2c5",
       "version_major": 2,
       "version_minor": 0
      },
      "text/plain": [
       "interactive(children=(IntSlider(value=191, description='image_z', max=383), FloatSlider(value=0.5, description…"
      ]
     },
     "metadata": {},
     "output_type": "display_data"
    },
    {
     "name": "stdout",
     "output_type": "stream",
     "text": [
      "9942030R_TP1\n"
     ]
    },
    {
     "data": {
      "application/vnd.jupyter.widget-view+json": {
       "model_id": "ba1c07ef684a484c9bcf8bedeac818d2",
       "version_major": 2,
       "version_minor": 0
      },
      "text/plain": [
       "interactive(children=(IntSlider(value=191, description='image_z', max=383), FloatSlider(value=0.5, description…"
      ]
     },
     "metadata": {},
     "output_type": "display_data"
    },
    {
     "name": "stdout",
     "output_type": "stream",
     "text": [
      "9942030R_TP3\n"
     ]
    },
    {
     "data": {
      "application/vnd.jupyter.widget-view+json": {
       "model_id": "066305db613c47e8a93e26df323a5c40",
       "version_major": 2,
       "version_minor": 0
      },
      "text/plain": [
       "interactive(children=(IntSlider(value=191, description='image_z', max=383), FloatSlider(value=0.5, description…"
      ]
     },
     "metadata": {},
     "output_type": "display_data"
    },
    {
     "name": "stdout",
     "output_type": "stream",
     "text": [
      "9942030R_TP5\n"
     ]
    },
    {
     "data": {
      "application/vnd.jupyter.widget-view+json": {
       "model_id": "4cad2f464a514c4b8aef7b55919cf369",
       "version_major": 2,
       "version_minor": 0
      },
      "text/plain": [
       "interactive(children=(IntSlider(value=191, description='image_z', max=383), FloatSlider(value=0.5, description…"
      ]
     },
     "metadata": {},
     "output_type": "display_data"
    },
    {
     "name": "stdout",
     "output_type": "stream",
     "text": [
      "9942030R_TP6\n"
     ]
    },
    {
     "data": {
      "application/vnd.jupyter.widget-view+json": {
       "model_id": "ccf9be1410764ca3820696fdfec51e1e",
       "version_major": 2,
       "version_minor": 0
      },
      "text/plain": [
       "interactive(children=(IntSlider(value=191, description='image_z', max=383), FloatSlider(value=0.5, description…"
      ]
     },
     "metadata": {},
     "output_type": "display_data"
    }
   ],
   "source": [
    "show_sagital_slice_images(image_data)"
   ]
  },
  {
   "cell_type": "code",
   "execution_count": null,
   "metadata": {},
   "outputs": [],
   "source": [
    "# 9939718L_TP10"
   ]
  },
  {
   "cell_type": "code",
   "execution_count": null,
   "metadata": {},
   "outputs": [],
   "source": []
  },
  {
   "cell_type": "code",
   "execution_count": 53,
   "metadata": {},
   "outputs": [],
   "source": [
    "def get_max_coordinate(image):\n",
    "    array = sitk.GetArrayFromImage(image)\n",
    "    return np.max(np.nonzero(np.argmax(np.argmax(array, axis = 1), axis=1)))\n",
    "\n",
    "def computeQualityMeasures(lP,lT):\n",
    "    quality=dict()\n",
    "#     labelPred=sitk.GetImageFromArray(lP, isVector=False)\n",
    "#     labelTrue=sitk.GetImageFromArray(lT, isVector=False)\n",
    "    labelPred = lP\n",
    "    labelTrue = lT\n",
    "    space = labelPred.GetSpacing()[2]\n",
    "    hausdorffcomputer=sitk.HausdorffDistanceImageFilter()\n",
    "    hausdorffcomputer.Execute(labelTrue,labelPred)\n",
    "    quality[\"avgHausdorff\"]=hausdorffcomputer.GetAverageHausdorffDistance() * space\n",
    "    quality[\"Hausdorff\"]=hausdorffcomputer.GetHausdorffDistance() * space\n",
    " \n",
    "    dicecomputer=sitk.LabelOverlapMeasuresImageFilter()\n",
    "    dicecomputer.Execute(labelTrue,labelPred)\n",
    "    quality[\"dice\"]=dicecomputer.GetDiceCoefficient()\n",
    "    \n",
    "    quality[\"max_y_coordinate\"]= (get_max_coordinate(labelPred) - get_max_coordinate(labelTrue)) * space\n",
    " \n",
    "    return quality"
   ]
  },
  {
   "cell_type": "code",
   "execution_count": 23,
   "metadata": {},
   "outputs": [],
   "source": [
    "def compute_quality_metrics(all_image_data):\n",
    "    last_name = '0000000L'\n",
    "    # for each image\n",
    "    for i in range(0, len(all_image_data)):\n",
    "        image_data                    = all_image_data[i]\n",
    "        if(image_data['moving_name'][12]==\"_\"):\n",
    "            print(image_data['moving_name'][:12])\n",
    "        else:\n",
    "            print(image_data['moving_name'][:13])\n",
    "   \n",
    "        reference_file_name = \"C:\\\\Zhixuan\\\\OAI-registration\\\\pykneer-yg\\\\reference\\\\longitudinal\\\\\" + image_data['fmask'][:-5] + 't.mha'\n",
    "        tibia_file_name = image_data['segmented_folder'] + image_data['fmask'][:-5] + 't_rigid.mha'\n",
    "#         moving_file_name   = image_data['moving_folder']    + image_data['moving_name']\n",
    "        ref = sitk.ReadImage(reference_file_name)\n",
    "        tibia = sitk.ReadImage(tibia_file_name)\n",
    "        ref = resample_bwimage(ref)\n",
    "        tibia = resample_bwimage(tibia)\n",
    "        quality = computeQualityMeasures(tibia,ref)\n",
    "        print(quality)"
   ]
  },
  {
   "cell_type": "code",
   "execution_count": 54,
   "metadata": {},
   "outputs": [
    {
     "name": "stdout",
     "output_type": "stream",
     "text": [
      "9189303L_TP1\n",
      "{'avgHausdorff': 0.028482431556391026, 'Hausdorff': 1.7022163298314896, 'dice': 0.9452461181744207, 'max_y_coordinate': 1.458332}\n",
      "9189303R_TP1\n",
      "{'avgHausdorff': 0.005384008517187203, 'Hausdorff': 1.1962868750009994, 'dice': 0.9754406969690601, 'max_y_coordinate': 0.0}\n",
      "9189303R_TP3\n",
      "{'avgHausdorff': 0.02834624318016654, 'Hausdorff': 2.024588757673465, 'dice': 0.9293305769725577, 'max_y_coordinate': 0.0}\n",
      "9189303R_TP5\n",
      "{'avgHausdorff': 0.2355643321350342, 'Hausdorff': 5.848513611115999, 'dice': 0.8748443849512911, 'max_y_coordinate': 0.0}\n",
      "9189303R_TP6\n",
      "{'avgHausdorff': 0.09620642202785332, 'Hausdorff': 3.367908953870376, 'dice': 0.8886050566917022, 'max_y_coordinate': 1.458332}\n",
      "9189303R_TP8\n",
      "{'avgHausdorff': 0.13012442111739636, 'Hausdorff': 4.120543680559, 'dice': 0.8846094631278907, 'max_y_coordinate': 0.0}\n",
      "9939718L_TP1\n",
      "{'avgHausdorff': 0.04394620582816473, 'Hausdorff': 2.212242406241996, 'dice': 0.9195791244323976, 'max_y_coordinate': 0.0}\n",
      "9939718L_TP3\n",
      "{'avgHausdorff': 0.07413344872055135, 'Hausdorff': 2.6114786571049007, 'dice': 0.8976990045318535, 'max_y_coordinate': 0.0}\n",
      "9939718L_TP5\n",
      "{'avgHausdorff': 0.5583651799924304, 'Hausdorff': 8.772770416674, 'dice': 0.7798468572208962, 'max_y_coordinate': 0.0}\n",
      "9939718L_TP6\n",
      "{'avgHausdorff': 0.2503437478322476, 'Hausdorff': 4.654125216804556, 'dice': 0.8318624925454597, 'max_y_coordinate': 0.0}\n",
      "9939718L_TP8\n",
      "{'avgHausdorff': 0.13713992791556187, 'Hausdorff': 4.1547042126919305, 'dice': 0.8613937014150502, 'max_y_coordinate': -1.458332}\n",
      "9939718L_TP10\n",
      "{'avgHausdorff': 3.1639378742916433, 'Hausdorff': 10.058159084119461, 'dice': 0.13142662309836434, 'max_y_coordinate': 21.145813999999998}\n",
      "9939718R_TP1\n",
      "{'avgHausdorff': 0.02480872597916318, 'Hausdorff': 1.1041227891976662, 'dice': 0.932935455236156, 'max_y_coordinate': 1.458332}\n",
      "9939718R_TP2\n",
      "{'avgHausdorff': 0.12719809163426452, 'Hausdorff': 3.062951281048318, 'dice': 0.8789365857165107, 'max_y_coordinate': 0.0}\n",
      "9939718R_TP3\n",
      "{'avgHausdorff': 0.10277860015392228, 'Hausdorff': 2.624974760717855, 'dice': 0.8885860117939458, 'max_y_coordinate': 0.0}\n",
      "9939718R_TP5\n",
      "{'avgHausdorff': 0.7271406897250562, 'Hausdorff': 9.038611944451999, 'dice': 0.7587254663827879, 'max_y_coordinate': 1.458332}\n",
      "9939718R_TP6\n",
      "{'avgHausdorff': 0.24756782452644713, 'Hausdorff': 4.656022923393838, 'dice': 0.8446387772559928, 'max_y_coordinate': 0.0}\n",
      "9939718R_TP8\n",
      "{'avgHausdorff': 0.14426705782248092, 'Hausdorff': 4.120543680559, 'dice': 0.8711185416313849, 'max_y_coordinate': 1.458332}\n",
      "9939718R_TP10\n",
      "{'avgHausdorff': 0.05038396548309701, 'Hausdorff': 6.098441730501184, 'dice': 0.9092714164678486, 'max_y_coordinate': 0.0}\n",
      "9941231L_TP1\n",
      "{'avgHausdorff': 0.0054145775112691774, 'Hausdorff': 1.0716414585738525, 'dice': 0.9733380493897071, 'max_y_coordinate': 0.0}\n",
      "9941231L_TP3\n",
      "{'avgHausdorff': 0.03970968960706926, 'Hausdorff': 1.7533452963615979, 'dice': 0.9283905304922564, 'max_y_coordinate': -1.458332}\n",
      "9941231L_TP5\n",
      "{'avgHausdorff': 0.3166489141221943, 'Hausdorff': 5.338386482794527, 'dice': 0.8257057521934366, 'max_y_coordinate': 0.0}\n",
      "9941231L_TP6\n",
      "{'avgHausdorff': 0.008314933296279421, 'Hausdorff': 1.4741625843707804, 'dice': 0.9672709118725008, 'max_y_coordinate': 0.0}\n",
      "9941231L_TP8\n",
      "{'avgHausdorff': 0.06372512547781914, 'Hausdorff': 2.621607248413258, 'dice': 0.9016089849625193, 'max_y_coordinate': 0.0}\n",
      "9941231L_TP10\n",
      "{'avgHausdorff': 0.9498766312400073, 'Hausdorff': 9.285445375825338, 'dice': 0.5657377435315153, 'max_y_coordinate': 3.281247}\n",
      "9941231R_TP1\n",
      "{'avgHausdorff': 0.028943956510693234, 'Hausdorff': 1.9535282864940609, 'dice': 0.9297051786728612, 'max_y_coordinate': 0.0}\n",
      "9941231R_TP3\n",
      "{'avgHausdorff': 0.05525256163053763, 'Hausdorff': 2.3591095319936115, 'dice': 0.9098194390919443, 'max_y_coordinate': -1.458332}\n",
      "9941231R_TP5\n",
      "{'avgHausdorff': 0.2589904338965391, 'Hausdorff': 4.869328634683117, 'dice': 0.8331306038122199, 'max_y_coordinate': 0.0}\n",
      "9941231R_TP6\n",
      "{'avgHausdorff': 0.032781854125789975, 'Hausdorff': 3.151091297270426, 'dice': 0.9296423677202553, 'max_y_coordinate': 0.0}\n",
      "9942724L_TP1\n",
      "{'avgHausdorff': 0.015084650790053462, 'Hausdorff': 1.2887146194741954, 'dice': 0.9554110782176616, 'max_y_coordinate': 0.0}\n",
      "9942724L_TP3\n",
      "{'avgHausdorff': 0.15168207722598043, 'Hausdorff': 3.6522988311460276, 'dice': 0.8863864365795832, 'max_y_coordinate': 0.0}\n",
      "9942724L_TP6\n",
      "{'avgHausdorff': 0.22594900149928115, 'Hausdorff': 4.716346383197446, 'dice': 0.860985249234212, 'max_y_coordinate': 0.0}\n",
      "9942724L_TP10\n",
      "{'avgHausdorff': 2.4431107743021405, 'Hausdorff': 12.037954873490552, 'dice': 0.32197628720519045, 'max_y_coordinate': 13.489571}\n",
      "9942724R_TP1\n",
      "{'avgHausdorff': 0.05034574965445269, 'Hausdorff': 2.6417479330492415, 'dice': 0.9189686643004786, 'max_y_coordinate': 0.0}\n",
      "9942724R_TP3\n",
      "{'avgHausdorff': 0.14761007476062796, 'Hausdorff': 4.120543680559, 'dice': 0.8822836047219443, 'max_y_coordinate': 0.0}\n",
      "9942724R_TP5\n",
      "{'avgHausdorff': 0.1597898331505111, 'Hausdorff': 4.120543680559, 'dice': 0.8744009013205472, 'max_y_coordinate': 0.0}\n",
      "9942724R_TP6\n",
      "{'avgHausdorff': 0.0800897061874963, 'Hausdorff': 2.641747933049242, 'dice': 0.9103938693761343, 'max_y_coordinate': 0.0}\n",
      "9942724R_TP10\n",
      "{'avgHausdorff': 1.4837390063995568, 'Hausdorff': 11.837413089398236, 'dice': 0.3850059361765637, 'max_y_coordinate': 13.489571}\n",
      "9941446L_TP1\n",
      "{'avgHausdorff': 0.01242717581926755, 'Hausdorff': 1.5501091601256987, 'dice': 0.9558862827861213, 'max_y_coordinate': 0.0}\n",
      "9941446L_TP3\n",
      "{'avgHausdorff': 0.014317495707284553, 'Hausdorff': 1.702216329831491, 'dice': 0.9464454937411476, 'max_y_coordinate': 0.0}\n",
      "9941446L_TP6\n",
      "{'avgHausdorff': 0.014084581086521714, 'Hausdorff': 1.5213476791783727, 'dice': 0.9484136362936394, 'max_y_coordinate': 0.0}\n",
      "9941446L_TP8\n",
      "{'avgHausdorff': 0.013863109821818207, 'Hausdorff': 1.860890694445999, 'dice': 0.947232665791948, 'max_y_coordinate': 0.0}\n",
      "9941446L_TP10\n",
      "{'avgHausdorff': 0.0700243934385224, 'Hausdorff': 3.0687141295697797, 'dice': 0.9092189395471088, 'max_y_coordinate': 1.458332}\n",
      "9941446R_TP1\n",
      "{'avgHausdorff': 0.4688572877114071, 'Hausdorff': 9.214774497861919, 'dice': 0.7921055197662771, 'max_y_coordinate': 1.458332}\n",
      "9941446R_TP3\n",
      "{'avgHausdorff': 0.1211621823145482, 'Hausdorff': 3.1314055721710004, 'dice': 0.8716102920112107, 'max_y_coordinate': 0.0}\n",
      "9941446R_TP5\n",
      "{'avgHausdorff': 0.037273563271411896, 'Hausdorff': 1.7125642447775944, 'dice': 0.929317213974049, 'max_y_coordinate': 0.0}\n",
      "9941446R_TP6\n",
      "{'avgHausdorff': 0.05910599079762045, 'Hausdorff': 2.1474006594974315, 'dice': 0.909288855057846, 'max_y_coordinate': 0.0}\n",
      "9941446R_TP8\n",
      "{'avgHausdorff': 0.0553981572881671, 'Hausdorff': 3.4686971575796055, 'dice': 0.9068244155635796, 'max_y_coordinate': 0.0}\n",
      "9941446R_TP10\n",
      "{'avgHausdorff': 0.12097311143080008, 'Hausdorff': 3.637757437646665, 'dice': 0.8772203340228403, 'max_y_coordinate': 1.458332}\n",
      "9404954L_TP1\n",
      "{'avgHausdorff': 0.008758614060135861, 'Hausdorff': 2.03329670649501, 'dice': 0.9664891842696656, 'max_y_coordinate': 0.0}\n",
      "9404954L_TP3\n",
      "{'avgHausdorff': 2.9854112963341177, 'Hausdorff': 11.85158383124553, 'dice': 0.16662953188575744, 'max_y_coordinate': 26.979142}\n",
      "9404954L_TP6\n",
      "{'avgHausdorff': 0.17104563600391612, 'Hausdorff': 4.298913145038605, 'dice': 0.8591653026167502, 'max_y_coordinate': -1.458332}\n",
      "9404954L_TP8\n",
      "{'avgHausdorff': 0.22515745417400967, 'Hausdorff': 5.325131623152674, 'dice': 0.820649353445849, 'max_y_coordinate': 0.0}\n",
      "9404954L_TP10\n",
      "{'avgHausdorff': 0.2608177182449338, 'Hausdorff': 5.323472445164697, 'dice': 0.8237266951702714, 'max_y_coordinate': 0.0}\n",
      "9404954R_TP1\n",
      "{'avgHausdorff': 0.004548373350893754, 'Hausdorff': 1.0716414585738503, 'dice': 0.9769173351516937, 'max_y_coordinate': 1.458332}\n",
      "9404954R_TP3\n",
      "{'avgHausdorff': 0.2536282566474309, 'Hausdorff': 5.343348578195308, 'dice': 0.8352543855995685, 'max_y_coordinate': 0.0}\n",
      "9404954R_TP4\n",
      "{'avgHausdorff': 0.03795664890830886, 'Hausdorff': 2.355361937042857, 'dice': 0.9160871925816422, 'max_y_coordinate': 1.458332}\n",
      "9404954R_TP5\n",
      "{'avgHausdorff': 0.21548576790147453, 'Hausdorff': 5.399266953038923, 'dice': 0.8807229695685096, 'max_y_coordinate': 0.0}\n",
      "9404954R_TP6\n",
      "{'avgHausdorff': 0.17570534888523195, 'Hausdorff': 4.761087429742041, 'dice': 0.8824132948388733, 'max_y_coordinate': 1.458332}\n",
      "9404954R_TP8\n",
      "{'avgHausdorff': 0.12306741829850032, 'Hausdorff': 4.205424758845189, 'dice': 0.8955023527319445, 'max_y_coordinate': 0.0}\n",
      "9404954R_TP10\n"
     ]
    },
    {
     "name": "stdout",
     "output_type": "stream",
     "text": [
      "{'avgHausdorff': 0.19339855866886987, 'Hausdorff': 5.031713717469721, 'dice': 0.8593400894202432, 'max_y_coordinate': 1.458332}\n",
      "9942030L_TP1\n",
      "{'avgHausdorff': 0.006802586492322834, 'Hausdorff': 0.8916595910310097, 'dice': 0.9688436046565413, 'max_y_coordinate': 0.0}\n",
      "9942030L_TP3\n",
      "{'avgHausdorff': 0.01221719230223438, 'Hausdorff': 1.595049166668002, 'dice': 0.9499394435360823, 'max_y_coordinate': 0.0}\n",
      "9942030L_TP5\n",
      "{'avgHausdorff': 0.014389675085587719, 'Hausdorff': 1.412967101680144, 'dice': 0.950090118012583, 'max_y_coordinate': 0.0}\n",
      "9942030L_TP6\n",
      "{'avgHausdorff': 0.03543023968946025, 'Hausdorff': 2.0114561514682046, 'dice': 0.9210476804638622, 'max_y_coordinate': 0.0}\n",
      "9942030R_TP1\n",
      "{'avgHausdorff': 0.00805301525350448, 'Hausdorff': 0.9398917350640814, 'dice': 0.9652266812259899, 'max_y_coordinate': 0.0}\n",
      "9942030R_TP3\n",
      "{'avgHausdorff': 0.017945087219969784, 'Hausdorff': 1.079853390607781, 'dice': 0.9383363279295135, 'max_y_coordinate': 0.0}\n",
      "9942030R_TP5\n",
      "{'avgHausdorff': 0.013560049802565331, 'Hausdorff': 1.733074727293085, 'dice': 0.9515843029317319, 'max_y_coordinate': 0.0}\n",
      "9942030R_TP6\n",
      "{'avgHausdorff': 0.0074328730455732045, 'Hausdorff': 1.7733841789540923, 'dice': 0.9698809206973724, 'max_y_coordinate': 1.458332}\n"
     ]
    }
   ],
   "source": [
    "compute_quality_metrics(image_data)"
   ]
  },
  {
   "cell_type": "code",
   "execution_count": null,
   "metadata": {},
   "outputs": [],
   "source": []
  },
  {
   "cell_type": "code",
   "execution_count": null,
   "metadata": {},
   "outputs": [],
   "source": []
  },
  {
   "cell_type": "code",
   "execution_count": null,
   "metadata": {},
   "outputs": [],
   "source": []
  },
  {
   "cell_type": "code",
   "execution_count": 50,
   "metadata": {},
   "outputs": [],
   "source": [
    "def tmp_resample(fixed_image, reference):\n",
    "    isoresample = sitk.ResampleImageFilter()\n",
    "    isoresample.SetInterpolator(sitk.sitkBSpline)\n",
    "    isoresample.SetOutputDirection(fixed_image.GetDirection())\n",
    "    isoresample.SetOutputOrigin(fixed_image.GetOrigin())\n",
    "    orig_spacing = fixed_image.GetSpacing()\n",
    "    new_spacing = (orig_spacing[0],orig_spacing[0],orig_spacing[0])\n",
    "    isoresample.SetOutputSpacing(new_spacing)\n",
    "    orig_size = np.array(fixed_image.GetSize(), dtype=np.int)    \n",
    "    new_size = orig_size.copy()\n",
    "    new_size[2] = int(orig_size[2]*(orig_spacing[2]/orig_spacing[0])+0.5)\n",
    "    new_size = [int(s) for s in new_size]\n",
    "    print(orig_size, new_size)\n",
    "    isoresample.SetSize(new_size)\n",
    "    return isoresample.Execute(fixed_image)"
   ]
  },
  {
   "cell_type": "code",
   "execution_count": 29,
   "metadata": {},
   "outputs": [],
   "source": [
    "def show_registered_images(find_str): \n",
    "    path = 'C:\\\\Zhixuan\\\\OAI-registration\\\\pyKNEEr-yg\\\\registered\\\\'\n",
    "    file_path_list = []\n",
    "    reference = sitk.ReadImage(path+find_str+\"_TP0_prep\\\\f_rigid.mha\")\n",
    "    for file in os.listdir(path):\n",
    "        if find_str in file:\n",
    "            file_path_list.append(file)\n",
    "    i = 1\n",
    "    # Create a figure with two subplots and the specified size.\n",
    "    plt.subplots(len(file_path_list), 1,figsize=(25,20))\n",
    "    for tmp_path in file_path_list:\n",
    "        result_file_name              = path + tmp_path + '\\\\f_rigid.mha'\n",
    "#         mask_file_name                = image_data[\"segmented_folder\"] + image_data[anatomy + \"mask\"]\n",
    "\n",
    "        # read the images\n",
    "        result = sitk.ReadImage(result_file_name)\n",
    "#         mask   = sitk.ReadImage(mask_file_name)\n",
    "\n",
    "        # images from simpleitk to numpy\n",
    "    #     result_py = sitk.GetArrayFromImage(result)\n",
    "    #         mask_py   = sitk.GetArrayFromImage(mask)\n",
    "        pos1 = tmp_path.find('TP', 0)\n",
    "        pos2 = tmp_path.find('_', pos1)\n",
    "        tp = tmp_path[pos1:pos2]\n",
    "        if tp != 'TP0':\n",
    "            result = resample_image(result)\n",
    "        \n",
    "            \n",
    "        show_sagittal_images(result, len(file_path_list), i, tp)\n",
    "        i = i + 1\n",
    "    plt.show() \n",
    "\n",
    "# show_registered_images('9939718R')"
   ]
  },
  {
   "cell_type": "code",
   "execution_count": 30,
   "metadata": {},
   "outputs": [],
   "source": [
    "def display_sagittal_images(fixed_image, moving_image):\n",
    "    # Create a figure with two subplots and the specified size.\n",
    "    plt.subplots(1,2,figsize=(10,8))\n",
    "    \n",
    "    fixed_npa = sitk.GetArrayViewFromImage(fixed_image)\n",
    "    moving_npa = sitk.GetArrayViewFromImage(moving_image)\n",
    "    size = np.size(fixed_npa, 2)\n",
    "    # Draw the fixed image in the first subplot.\n",
    "    plt.subplot(1,2,1)\n",
    "    plt.imshow(fixed_npa[:,:,size//2],cmap=plt.cm.Greys_r);\n",
    "    plt.title('fixed image')\n",
    "    plt.axis('off')\n",
    "    \n",
    "    # Draw the moving image in the second subplot.\n",
    "    plt.subplot(1,2,2)\n",
    "    plt.imshow(moving_npa[:,:,size//2],cmap=plt.cm.Greys_r);\n",
    "    plt.title('moving image')\n",
    "    plt.axis('off')\n",
    "    \n",
    "    plt.show() "
   ]
  },
  {
   "cell_type": "code",
   "execution_count": null,
   "metadata": {},
   "outputs": [],
   "source": []
  }
 ],
 "metadata": {
  "kernelspec": {
   "display_name": "Python [conda env:OAIreg] *",
   "language": "python",
   "name": "conda-env-OAIreg-py"
  },
  "language_info": {
   "codemirror_mode": {
    "name": "ipython",
    "version": 3
   },
   "file_extension": ".py",
   "mimetype": "text/x-python",
   "name": "python",
   "nbconvert_exporter": "python",
   "pygments_lexer": "ipython3",
   "version": "3.7.7"
  }
 },
 "nbformat": 4,
 "nbformat_minor": 4
}
