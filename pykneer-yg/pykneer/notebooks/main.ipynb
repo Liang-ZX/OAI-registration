{
 "cells": [
  {
   "cell_type": "code",
   "execution_count": 1,
   "metadata": {},
   "outputs": [],
   "source": [
    "import sys\n",
    "import importlib\n",
    "sys.path.append(r'../../pykneer')\n",
    "sys.path.append(r'../pykneer')\n",
    "import pykneer_io as io\n",
    "importlib.reload(io)\n",
    "import preprocessing_for_nb as prep\n",
    "importlib.reload(prep)\n",
    "import segmentation_sa_for_nb as segm\n",
    "importlib.reload(segm)\n",
    "\n",
    "import SimpleITK as sitk\n",
    "import matplotlib.pyplot as plt\n",
    "\n",
    "from preparing_images import prepare_image_and_list"
   ]
  },
  {
   "cell_type": "code",
   "execution_count": 2,
   "metadata": {},
   "outputs": [
    {
     "name": "stdout",
     "output_type": "stream",
     "text": [
      "ahaknee0tp29  exist\n",
      "dcm path for TPid 0 Z:/OAI Baseline/gc0/9941231/10118906\n",
      "Loading QVJ Y:/0tp29\\cascade/0/9941231/10118906L\\E10118906L_L.QVJ\n",
      "Adding QVS E10118906LS101_L.QVS\n",
      "ahaknee12tp29  exist\n",
      "dcm path for TPid 1 Z:/OAI 12 Months/1.C.2/9941231/20051012/10199005\n",
      "Loading QVJ Y:/12tp29\\cascade/12/9941231/20051012L\\E20051012L_L.QVJ\n",
      "Adding QVS E20051012LS101_L.QVS\n",
      "ahaknee18tp29  exist\n",
      "cannot find dcm path for TPid 2\n",
      "ahaknee24tp29  exist\n",
      "dcm path for TPid 3 Z:/OAI 24 Months/3.C.2/9941231/20060804/11265108\n",
      "Loading QVJ Y:/24tp29\\cascade/24/9941231/20060804L\\E20060804L_L.QVJ\n",
      "Adding QVS E20060804LS101_L.QVS\n",
      "ahaknee30tp29  exist\n",
      "cannot find dcm path for TPid 4\n",
      "ahaknee36tp29  exist\n",
      "dcm path for TPid 5 Z:/OAI 36 Months/5.C.1/9941231/20070713/11861304\n",
      "Loading QVJ Y:/36tp29\\cascade/36/9941231/20070713L\\E20070713L_L.QVJ\n",
      "Adding QVS E20070713LS101_L.QVS\n",
      "ahaknee48tp29  exist\n",
      "dcm path for TPid 6 Z:/OAI 48 Months/6.C.1/9941231/20080724/12444708\n",
      "Loading QVJ Y:/48tp29\\cascade/48/9941231/20080724L\\E20080724L_L.QVJ\n",
      "Adding QVS E20080724LS101_L.QVS\n",
      "ahaknee72tp29  exist\n",
      "dcm path for TPid 8 Z:/OAI 72 Months/8.C.1/9941231/20100809/11021805\n",
      "Loading QVJ Y:/72tp29\\cascade/72/9941231/20100809L\\E20100809L_L.QVJ\n",
      "Adding QVS E20100809LS101_L.QVS\n",
      "ahaknee96tp29  exist\n",
      "dcm path for TPid 10 Z:/OAI 96 Months/10.C.1/9941231/20120830/13486205\n",
      "Loading QVJ Y:/96tp29\\cascade/96/9941231/20120830L\\E20120830L_L.QVJ\n",
      "Adding QVS E20120830LS101_L.QVS\n",
      "ahaknee0tp29  exist\n",
      "dcm path for TPid 0 Z:/OAI Baseline/gc0/9941231/10118912\n",
      "Loading QVJ Y:/0tp29\\cascade/0/9941231/10118912R\\E10118912R_R.QVJ\n",
      "Adding QVS E10118912RS101_R.QVS\n",
      "ahaknee12tp29  exist\n",
      "dcm path for TPid 1 Z:/OAI 12 Months/1.C.2/9941231/20051012/10199011\n",
      "Loading QVJ Y:/12tp29\\cascade/12/9941231/20051012R\\E20051012R_R.QVJ\n",
      "Adding QVS E20051012RS101_R.QVS\n",
      "ahaknee18tp29  exist\n",
      "cannot find dcm path for TPid 2\n",
      "ahaknee24tp29  exist\n",
      "dcm path for TPid 3 Z:/OAI 24 Months/3.C.2/9941231/20060804/11265114\n",
      "Loading QVJ Y:/24tp29\\cascade/24/9941231/20060804R\\E20060804R_R.QVJ\n",
      "Adding QVS E20060804RS101_R.QVS\n",
      "ahaknee30tp29  exist\n",
      "cannot find dcm path for TPid 4\n",
      "ahaknee36tp29  exist\n",
      "dcm path for TPid 5 Z:/OAI 36 Months/5.C.1/9941231/20070713/11861310\n",
      "Loading QVJ Y:/36tp29\\cascade/36/9941231/20070713R\\E20070713R_R.QVJ\n",
      "Adding QVS E20070713RS101_R.QVS\n",
      "ahaknee48tp29  exist\n",
      "dcm path for TPid 6 Z:/OAI 48 Months/6.C.1/9941231/20080724/12444714\n",
      "Loading QVJ Y:/48tp29\\cascade/48/9941231/20080724R\\E20080724R_R.QVJ\n",
      "Adding QVS E20080724RS101_R.QVS\n",
      "ahaknee72tp29  exist\n",
      "cannot find dcm path for TPid 8\n",
      "ahaknee96tp29  exist\n",
      "cannot find dcm path for TPid 10\n",
      "ahaknee0tp29  exist\n",
      "dcm path for TPid 0 Z:/OAI Baseline/gc0/9941446/10304807\n",
      "Loading QVJ Y:/0tp29\\cascade/0/9941446/10304807L\\E10304807L_L.QVJ\n",
      "Adding QVS E10304807LS101_L.QVS\n",
      "ahaknee12tp29  exist\n",
      "dcm path for TPid 1 Z:/OAI 12 Months/1.C.2/9941446/20051207/10632205\n",
      "Loading QVJ Y:/12tp29\\cascade/12/9941446/20051207L\\E20051207L_L.QVJ\n",
      "Adding QVS E20051207LS101_L.QVS\n",
      "ahaknee18tp29  exist\n",
      "cannot find dcm path for TPid 2\n",
      "ahaknee24tp29  exist\n",
      "dcm path for TPid 3 Z:/OAI 24 Months/3.C.2/9941446/20070111/11492208\n",
      "Loading QVJ Y:/24tp29\\cascade/24/9941446/20070111L\\E20070111L_L.QVJ\n",
      "Adding QVS E20070111LS101_L.QVS\n",
      "ahaknee30tp29  exist\n",
      "cannot find dcm path for TPid 4\n",
      "ahaknee36tp29  exist\n",
      "cannot find dcm path for TPid 5\n",
      "ahaknee48tp29  exist\n",
      "dcm path for TPid 6 Z:/OAI 48 Months/6.C.1/9941446/20090312/12758716\n",
      "Loading QVJ Y:/48tp29\\cascade/48/9941446/20090312L\\E20090312L_L.QVJ\n",
      "Adding QVS E20090312LS101_L.QVS\n",
      "ahaknee72tp29  exist\n",
      "dcm path for TPid 8 Z:/OAI 72 Months/8.C.1/9941446/20101102/13086905\n",
      "Loading QVJ Y:/72tp29\\cascade/72/9941446/20101102L\\E20101102L_L.QVJ\n",
      "Adding QVS E20101102LS101_L.QVS\n",
      "ahaknee96tp29  exist\n",
      "dcm path for TPid 10 Z:/OAI 96 Months/10.C.1/9941446/20121101/13582710\n",
      "Loading QVJ Y:/96tp29\\cascade/96/9941446/20121101L\\E20121101L_L.QVJ\n",
      "Adding QVS E20121101LS101_L.QVS\n",
      "ahaknee0tp29  exist\n",
      "dcm path for TPid 0 Z:/OAI Baseline/gc0/9941446/10304815\n",
      "Loading QVJ Y:/0tp29\\cascade/0/9941446/10304815R\\E10304815R_R.QVJ\n",
      "Adding QVS E10304815RS101_R.QVS\n",
      "ahaknee12tp29  exist\n",
      "dcm path for TPid 1 Z:/OAI 12 Months/1.C.2/9941446/20051207/10632213\n",
      "Loading QVJ Y:/12tp29\\cascade/12/9941446/20051207R\\E20051207R_R.QVJ\n",
      "Adding QVS E20051207RS101_R.QVS\n",
      "ahaknee18tp29  exist\n",
      "cannot find dcm path for TPid 2\n",
      "ahaknee24tp29  exist\n",
      "dcm path for TPid 3 Z:/OAI 24 Months/3.C.2/9941446/20070111/11492217\n",
      "Loading QVJ Y:/24tp29\\cascade/24/9941446/20070111R\\E20070111R_R.QVJ\n",
      "Adding QVS E20070111RS101_R.QVS\n",
      "ahaknee30tp29  exist\n",
      "cannot find dcm path for TPid 4\n",
      "ahaknee36tp29  exist\n",
      "dcm path for TPid 5 Z:/OAI 36 Months/5.C.1/9941446/20080124/12199708\n",
      "Loading QVJ Y:/36tp29\\cascade/36/9941446/20080124R\\E20080124R_R.QVJ\n",
      "Adding QVS E20080124RS101_R.QVS\n",
      "ahaknee48tp29  exist\n",
      "dcm path for TPid 6 Z:/OAI 48 Months/6.C.1/9941446/20090312/12758705\n",
      "Loading QVJ Y:/48tp29\\cascade/48/9941446/20090312R\\E20090312R_R.QVJ\n",
      "Adding QVS E20090312RS101_R.QVS\n",
      "ahaknee72tp29  exist\n",
      "dcm path for TPid 8 Z:/OAI 72 Months/8.C.1/9941446/20101102/13086911\n",
      "Loading QVJ Y:/72tp29\\cascade/72/9941446/20101102R\\E20101102R_R.QVJ\n",
      "Adding QVS E20101102RS101_R.QVS\n",
      "ahaknee96tp29  exist\n",
      "dcm path for TPid 10 Z:/OAI 96 Months/10.C.1/9941446/20121101/13582718\n",
      "Loading QVJ Y:/96tp29\\cascade/96/9941446/20121101R\\E20121101R_R.QVJ\n",
      "Adding QVS E20121101RS101_R.QVS\n",
      "ahaknee0tp29  exist\n",
      "dcm path for TPid 0 Z:/OAI Baseline/gc0/9404954/10728107\n",
      "Loading QVJ Y:/0tp29\\cascade/0/9404954/10728107L\\E10728107L_L.QVJ\n",
      "Adding QVS E10728107LS101_L.QVS\n",
      "ahaknee12tp29  exist\n",
      "dcm path for TPid 1 Z:/OAI 12 Months/1.C.2/9404954/20060223/10862205\n",
      "Loading QVJ Y:/12tp29\\cascade/12/9404954/20060223L\\E20060223L_L.QVJ\n",
      "Adding QVS E20060223LS101_L.QVS\n",
      "ahaknee18tp29  exist\n",
      "cannot find dcm path for TPid 2\n",
      "ahaknee24tp29  exist\n",
      "dcm path for TPid 3 Z:/OAI 24 Months/3.C.2/9404954/20070518/11732407\n",
      "Loading QVJ Y:/24tp29\\cascade/24/9404954/20070518L\\E20070518L_L.QVJ\n",
      "Adding QVS E20070518LS101_L.QVS\n",
      "ahaknee30tp29  exist\n",
      "cannot find dcm path for TPid 4\n",
      "ahaknee36tp29  exist\n",
      "cannot find dcm path for TPid 5\n",
      "ahaknee48tp29  exist\n",
      "dcm path for TPid 6 Z:/OAI 48 Months/6.C.1/9404954/20090323/12540108\n",
      "Loading QVJ Y:/48tp29\\cascade/48/9404954/20090323L\\E20090323L_L.QVJ\n",
      "Adding QVS E20090323LS101_L.QVS\n",
      "ahaknee72tp29  exist\n",
      "dcm path for TPid 8 Z:/OAI 72 Months/8.C.1/9404954/20110202/13000504\n",
      "Loading QVJ Y:/72tp29\\cascade/72/9404954/20110202L\\E20110202L_L.QVJ\n",
      "Adding QVS E20110202LS101_L.QVS\n",
      "ahaknee96tp29  exist\n",
      "dcm path for TPid 10 Z:/OAI 96 Months/10.C.1/9404954/20121119/13579209\n",
      "Loading QVJ Y:/96tp29\\cascade/96/9404954/20121119L\\E20121119L_L.QVJ\n",
      "Adding QVS E20121119LS101_L.QVS\n",
      "ahaknee0tp29  exist\n",
      "dcm path for TPid 0 Z:/OAI Baseline/gc0/9404954/10728113\n",
      "Loading QVJ Y:/0tp29\\cascade/0/9404954/10728113R\\E10728113R_R.QVJ\n",
      "Adding QVS E10728113RS101_R.QVS\n",
      "ahaknee12tp29  exist\n",
      "dcm path for TPid 1 Z:/OAI 12 Months/1.C.2/9404954/20060223/10862212\n",
      "Loading QVJ Y:/12tp29\\cascade/12/9404954/20060223R\\E20060223R_R.QVJ\n",
      "Adding QVS E20060223RS101_R.QVS\n",
      "ahaknee18tp29  exist\n",
      "cannot find dcm path for TPid 2\n",
      "ahaknee24tp29  exist\n",
      "dcm path for TPid 3 Z:/OAI 24 Months/3.C.2/9404954/20070518/11732414\n",
      "Loading QVJ Y:/24tp29\\cascade/24/9404954/20070518R\\E20070518R_R.QVJ\n",
      "Adding QVS E20070518RS101_R.QVS\n",
      "ahaknee30tp29  exist\n",
      "dcm path for TPid 4 Z:/OAI 30 Months/results/4.G.1/9404954/20070817/11925205\n",
      "Loading QVJ Y:/30tp29\\cascade/30/9404954/20070817R\\E20070817R_R.QVJ\n",
      "Adding QVS E20070817RS101_R.QVS\n",
      "ahaknee36tp29  exist\n",
      "dcm path for TPid 5 Z:/OAI 36 Months/5.C.1/9404954/20080108/12024504\n",
      "Loading QVJ Y:/36tp29\\cascade/36/9404954/20080108R\\E20080108R_R.QVJ\n",
      "Adding QVS E20080108RS101_R.QVS\n",
      "ahaknee48tp29  exist\n",
      "dcm path for TPid 6 Z:/OAI 48 Months/6.C.1/9404954/20090323/12540116\n",
      "Loading QVJ Y:/48tp29\\cascade/48/9404954/20090323R\\E20090323R_R.QVJ\n",
      "Adding QVS E20090323RS101_R.QVS\n",
      "ahaknee72tp29  exist\n",
      "dcm path for TPid 8 Z:/OAI 72 Months/8.C.1/9404954/20110202/13000511\n",
      "Loading QVJ Y:/72tp29\\cascade/72/9404954/20110202R\\E20110202R_R.QVJ\n",
      "Adding QVS E20110202RS101_R.QVS\n",
      "ahaknee96tp29  exist\n",
      "dcm path for TPid 10 Z:/OAI 96 Months/10.C.1/9404954/20121119/13579215\n",
      "Loading QVJ Y:/96tp29\\cascade/96/9404954/20121119R\\E20121119R_R.QVJ\n",
      "Adding QVS E20121119RS101_R.QVS\n"
     ]
    }
   ],
   "source": [
    "# process list\n",
    "# first in TP as reference\n",
    "caselist = [\n",
    "#     {'pid': '9189303','TP':[0,1,2,3,4,5,6,8,10],'TP2':[0,12,18,24,30,36,48,72,96],'side':'L'},\n",
    "#     {'pid': '9189303','TP':[0,1,2,3,4,5,6,8,10],'TP2':[0,12,18,24,30,36,48,72,96],'side':'R'},\n",
    "#     {'pid': '9939718','TP':[0,1,2,3,4,5,6,8,10],'TP2':[0,12,18,24,30,36,48,72,96],'side':'L'},\n",
    "#     {'pid': '9939718','TP':[0,1,2,3,4,5,6,8,10],'TP2':[0,12,18,24,30,36,48,72,96],'side':'R'},\n",
    "    {'pid': '9941231','TP':[0,1,2,3,4,5,6,8,10],'TP2':[0,12,18,24,30,36,48,72,96],'side':'L'},\n",
    "    {'pid': '9941231','TP':[0,1,2,3,4,5,6,8,10],'TP2':[0,12,18,24,30,36,48,72,96],'side':'R'},\n",
    "#     {'pid': '9942724','TP':[0,1,2,3,4,5,6,8,10],'TP2':[0,12,18,24,30,36,48,72,96],'side':'L'},\n",
    "#     {'pid': '9942724','TP':[0,1,2,3,4,5,6,8,10],'TP2':[0,12,18,24,30,36,48,72,96],'side':'R'},\n",
    "    {'pid': '9941446','TP':[0,1,2,3,4,5,6,8,10],'TP2':[0,12,18,24,30,36,48,72,96],'side':'L'},\n",
    "    {'pid': '9941446','TP':[0,1,2,3,4,5,6,8,10],'TP2':[0,12,18,24,30,36,48,72,96],'side':'R'},\n",
    "    {'pid': '9404954','TP':[0,1,2,3,4,5,6,8,10],'TP2':[0,12,18,24,30,36,48,72,96],'side':'L'},\n",
    "    {'pid': '9404954','TP':[0,1,2,3,4,5,6,8,10],'TP2':[0,12,18,24,30,36,48,72,96],'side':'R'},\n",
    "#     {'pid': '9942030','TP':[0,1,2,3,4,5,6,8,10],'TP2':[0,12,18,24,30,36,48,72,96],'side':'L'},\n",
    "#     {'pid': '9942030','TP':[0,1,2,3,4,5,6,8,10],'TP2':[0,12,18,24,30,36,48,72,96],'side':'R'},\n",
    "]\n",
    "\n",
    "prepare_image_and_list(caselist)"
   ]
  },
  {
   "cell_type": "code",
   "execution_count": 18,
   "metadata": {},
   "outputs": [
    {
     "name": "stdout",
     "output_type": "stream",
     "text": [
      "9189303L_TP0\n",
      "9189303L_TP1\n",
      "9189303R_TP0\n",
      "9189303R_TP1\n",
      "9189303R_TP3\n",
      "9189303R_TP5\n",
      "9189303R_TP6\n",
      "9189303R_TP8\n",
      "9939718L_TP0\n",
      "9939718L_TP1\n",
      "9939718L_TP3\n",
      "9939718L_TP5\n",
      "9939718L_TP6\n",
      "9939718L_TP8\n",
      "9939718L_TP10\n",
      "9939718R_TP0\n",
      "9939718R_TP1\n",
      "9939718R_TP2\n",
      "9939718R_TP3\n",
      "9939718R_TP5\n",
      "9939718R_TP6\n",
      "9939718R_TP8\n",
      "9939718R_TP10\n",
      "9941231L_TP0\n",
      "9941231L_TP1\n",
      "9941231L_TP3\n",
      "9941231L_TP5\n",
      "9941231L_TP6\n",
      "9941231L_TP8\n",
      "9941231L_TP10\n",
      "9941231R_TP0\n",
      "9941231R_TP1\n",
      "9941231R_TP3\n",
      "9941231R_TP5\n",
      "9941231R_TP6\n",
      "9942724L_TP0\n",
      "9942724L_TP1\n",
      "9942724L_TP3\n",
      "9942724L_TP6\n",
      "9942724L_TP10\n",
      "9942724R_TP0\n",
      "9942724R_TP1\n",
      "9942724R_TP3\n",
      "9942724R_TP5\n",
      "9942724R_TP6\n",
      "9942724R_TP10\n",
      "-> information loaded for 46 subjects\n",
      "-> Dicom images read\n",
      "-> The total time was 62.54 seconds (about 1 min)\n",
      "-> Dicom headers written\n",
      "-> The total time was 10.09 seconds (about 0 min)\n",
      "-> Image orientation changed\n",
      "-> The total time was 12.54 seconds (about 0 min)\n",
      "-> Image laterality changed for right images\n",
      "-> The total time was 5.12 seconds (about 0 min)\n",
      "-> Image origin changed\n",
      "-> _orig.mha images saved\n",
      "-> The total time was 16.89 seconds (about 0 min)\n"
     ]
    }
   ],
   "source": [
    "def preprocess():\n",
    "    input_file_name           = \".\\image_list_preprocessing.txt\"\n",
    "    n_of_cores                = 1 # change the number of cores according to your computer\n",
    "    intensity_standardization = 0\n",
    "\n",
    "    # Image information\n",
    "    image_data = io.load_image_data_preprocessing(input_file_name)\n",
    "\n",
    "    ref = sitk.ReadImage('../../reference/newsubject/reference.mha')\n",
    "\n",
    "    # Spatial standardization\n",
    "    # Step 0: Read the dicom images\n",
    "    prep.read_dicom_stack(image_data, n_of_cores)\n",
    "    # Save image header\n",
    "    prep.print_dicom_header(image_data, n_of_cores)    # save to *.txt\n",
    "\n",
    "    # Step 1: Change orientation to RAI\n",
    "    #prep.axial_to_sagittal(image_data, n_of_cores)\n",
    "    prep.orientation_to_rai(image_data, n_of_cores)\n",
    "\n",
    "    # Step 2: Change laterality if knee is right\n",
    "    prep.flip_rl(image_data, n_of_cores)\n",
    "    # Step 3: Set image origin to (0,0,0)\n",
    "    prep.origin_to_zero(image_data, n_of_cores)    # Images are saved as *_orig.mha and they are anonymized\n",
    "\n",
    "    # 4. Correct magnetic field inhomogeneities\n",
    "    # Magnetic fields inhomogeneities create grey shades on images. This correction removes these shades. \n",
    "    # This is the longest step of the processing. It can take up to 15-20 min on a standard PC or laptop\n",
    "    if intensity_standardization == 1:\n",
    "        prep.field_correction(image_data, n_of_cores)\n",
    "        prep.rescale_to_range(image_data, n_of_cores)  # 5. Rescale intensities to [0 100]\n",
    "        prep.edge_preserving_smoothing(image_data, n_of_cores)  # 6. Edge preserving smoothing\n",
    "\n",
    "preprocess()"
   ]
  },
  {
   "cell_type": "code",
   "execution_count": 3,
   "metadata": {},
   "outputs": [
    {
     "name": "stdout",
     "output_type": "stream",
     "text": [
      "-> image information loaded\n",
      "reference.mha\n",
      "-> Reference preparation completed\n",
      "-> Registration completed\n",
      "-> The total time was 2782.04 seconds (about 46 min)\n",
      "-> Inversion completed\n",
      "-> The total time was 2998.97 seconds (about 49 min)\n",
      "-> Warping completed\n",
      "-> The total time was 640.91 seconds (about 10 min)\n"
     ]
    }
   ],
   "source": [
    "def segmentation_sa():\n",
    "    input_file_name = \"./image_list_newsubject.txt\"\n",
    "    modality        = \"newsubject\" # use \"newsubject\", \"longitudinal\", or \"multimodal\" \n",
    "    n_of_cores      = 1\n",
    "\n",
    "    image_data = io.load_image_data_segmentation(modality, input_file_name)\n",
    "    segm.prepare_reference(image_data)\n",
    "    ### NOTE!!! reference_fv is dummy!!!\n",
    "\n",
    "    # Segment Bone\n",
    "#     # 1. Register image to reference\n",
    "#     segm.register_bone_to_reference(image_data, n_of_cores)\n",
    "#     # 2. Invert transformations\n",
    "#     segm.invert_bone_transformations(image_data, n_of_cores)\n",
    "#     # 3. Warp reference mask to moving image\n",
    "#     segm.warp_bone_mask(image_data, n_of_cores)\n",
    "    \n",
    "    segm.register_tibia_to_reference(image_data, n_of_cores)\n",
    "    segm.invert_tibia_transformations(image_data, n_of_cores)\n",
    "    segm.warp_tibia_mask(image_data, n_of_cores)\n",
    "\n",
    "    # Segment cartilage\n",
    "#     segm.register_cartilage_to_reference(image_data, n_of_cores)\n",
    "#     segm.invert_cartilage_transformations(image_data, n_of_cores)\n",
    "#     segm.warp_cartilage_mask(image_data, n_of_cores)\n",
    "    \n",
    "segmentation_sa()"
   ]
  },
  {
   "cell_type": "code",
   "execution_count": 2,
   "metadata": {},
   "outputs": [
    {
     "name": "stdout",
     "output_type": "stream",
     "text": [
      "-> image information loaded\n"
     ]
    },
    {
     "data": {
      "text/plain": [
       "{'registration_type': 'newsubject',\n",
       " 'vessel': 'fv',\n",
       " 'cartilage': 'fc',\n",
       " 'bone': 'f',\n",
       " 'current_anatomy': [],\n",
       " 'reference_folder': 'C:\\\\Zhixuan\\\\OAI-registration\\\\pyKNEEr-yg\\\\reference\\\\newsubject\\\\',\n",
       " 'reference_name': 'reference.mha',\n",
       " 'reference_root': 'reference',\n",
       " 'moving_folder': 'C:\\\\Zhixuan\\\\OAI-registration\\\\pyKNEEr-yg\\\\preprocessed\\\\',\n",
       " 'moving_name': '9941231L_TP1_prep.mha',\n",
       " 'moving_root': '9941231L_TP1_prep',\n",
       " 'registered_folder': 'C:\\\\Zhixuan\\\\OAI-registration\\\\pyKNEEr-yg\\\\registered\\\\',\n",
       " 'segmented_folder': 'C:\\\\Zhixuan\\\\OAI-registration\\\\pyKNEEr-yg\\\\segmented\\\\',\n",
       " 'registered_sub_folder': 'C:\\\\Zhixuan\\\\OAI-registration\\\\pyKNEEr-yg\\\\registered\\\\9941231L_TP1_prep\\\\',\n",
       " 'i_registered_sub_folder': 'C:\\\\Zhixuan\\\\OAI-registration\\\\pyKNEEr-yg\\\\registered\\\\9941231L_TP1_prep\\\\invert\\\\',\n",
       " 'dilate_radius': 15,\n",
       " 'fmask_file_name': 'reference_f.mha',\n",
       " 'fdil_mask_file_name': 'reference_f_15.mha',\n",
       " 'flevelset_mask_file_name': 'reference_f_levelSet.mha',\n",
       " 'fcmask_file_name': 'reference_fc.mha',\n",
       " 'fcdil_mask_file_name': 'reference_fc_15.mha',\n",
       " 'fclevelset_mask_file_name': 'reference_fc_levelSet.mha',\n",
       " 'fvmask_file_name': 'reference_fv.mha',\n",
       " 'fvdil_mask_file_name': 'reference_fv_15.mha',\n",
       " 'fvlevelset_mask_file_name': 'reference_fv_levelSet.mha',\n",
       " 'frigid_name': 'f_rigid.mha',\n",
       " 'fsimilarity_name': 'f_similarity.mha',\n",
       " 'fspline_name': 'f_spline.mha',\n",
       " 'fcspline_name': 'fc_spline.mha',\n",
       " 'fvspline_name': 'fv_spline.mha',\n",
       " 'fm_rigid_name': 'f_rigidMask.mha',\n",
       " 'fm_similarity_name': 'f_similarityMask.mha',\n",
       " 'fm_spline_name': 'f_splineMask.mha',\n",
       " 'fmask': '9941231L_TP1_prep_f.mha',\n",
       " 'fcm_rigid_name': 'fc_rigidMask.mha',\n",
       " 'fcm_similarity_name': 'fc_similarityMask.mha',\n",
       " 'fcm_spline_name': 'fc_splineMask.mha',\n",
       " 'fcmask': '9941231L_TP1_prep_fc.mha',\n",
       " 'fvm_rigid_name': 'fv_rigidMask.mha',\n",
       " 'fvm_similarity_name': 'fv_similarityMask.mha',\n",
       " 'fvm_spline_name': 'fv_splineMask.mha',\n",
       " 'fvmask': '9941231L_TP1_prep_fv.mha',\n",
       " 'frigid_transf_name': 'TransformParameters.f_rigid.txt',\n",
       " 'fsimilarity_transf_name': 'TransformParameters.f_similarity.txt',\n",
       " 'fspline_transf_name': 'TransformParameters.f_spline.txt',\n",
       " 'fi_rigid_transf_name': 'iTransformParameters.f_rigid.txt',\n",
       " 'fi_similarity_transf_name': 'iTransformParameters.f_similarity.txt',\n",
       " 'fi_spline_transf_name': 'iTransformParameters.f_spline.txt',\n",
       " 'fm_rigid_transf_name': 'mTransformParameters.f_rigid.txt',\n",
       " 'fm_similarity_transf_name': 'mTransformParameters.f_similarity.txt',\n",
       " 'fm_spline_transf_name': 'mTransformParameters.f_spline.txt',\n",
       " 'fcspline_transf_name': 'TransformParameters.fc_spline.txt',\n",
       " 'fci_spline_transf_name': 'iTransformParameters.fc_spline.txt',\n",
       " 'fcm_spline_transf_name': 'mTransformParameters.fc_spline.txt',\n",
       " 'fvspline_transf_name': 'TransformParameters.fv_spline.txt',\n",
       " 'fvi_spline_transf_name': 'iTransformParameters.fv_spline.txt',\n",
       " 'fvm_spline_transf_name': 'mTransformParameters.fv_spline.txt',\n",
       " 'param_file_rigid': 'C:\\\\Zhixuan\\\\OAI-registration\\\\pykneer-yg\\\\pykneer\\\\pykneer/parameterFiles\\\\MR_param_rigid.txt',\n",
       " 'i_param_file_rigid': 'C:\\\\Zhixuan\\\\OAI-registration\\\\pykneer-yg\\\\pykneer\\\\pykneer/parameterFiles\\\\MR_iparam_rigid.txt',\n",
       " 'param_file_similarity': 'C:\\\\Zhixuan\\\\OAI-registration\\\\pykneer-yg\\\\pykneer\\\\pykneer/parameterFiles\\\\MR_param_similarity.txt',\n",
       " 'i_param_file_similarity': 'C:\\\\Zhixuan\\\\OAI-registration\\\\pykneer-yg\\\\pykneer\\\\pykneer/parameterFiles\\\\MR_iparam_similarity.txt',\n",
       " 'param_file_spline': 'C:\\\\Zhixuan\\\\OAI-registration\\\\pykneer-yg\\\\pykneer\\\\pykneer/parameterFiles\\\\MR_param_spline.txt',\n",
       " 'i_param_file_spline': 'C:\\\\Zhixuan\\\\OAI-registration\\\\pykneer-yg\\\\pykneer\\\\pykneer/parameterFiles\\\\MR_iparam_spline.txt',\n",
       " 'elastix_folder': '../../pykneer\\\\pykneer\\\\elastix\\\\Windows\\\\',\n",
       " 'complete_elastix_path': '../../pykneer\\\\pykneer\\\\elastix\\\\Windows\\\\elastix',\n",
       " 'complete_transformix_path': '../../pykneer\\\\pykneer\\\\elastix\\\\Windows\\\\transformix'}"
      ]
     },
     "execution_count": 2,
     "metadata": {},
     "output_type": "execute_result"
    }
   ],
   "source": [
    "sys.path.append(\"../../..\")\n",
    "from MyProcessDicom import *\n",
    "input_file_name = \"./image_list_newsubject.txt\"\n",
    "modality        = \"newsubject\" # use \"newsubject\", \"longitudinal\", or \"multimodal\" \n",
    "n_of_cores      = 1\n",
    "\n",
    "image_data = io.load_image_data_segmentation(modality, input_file_name)\n",
    "image_data[0]"
   ]
  },
  {
   "cell_type": "code",
   "execution_count": 21,
   "metadata": {},
   "outputs": [],
   "source": [
    "def segmentation_sa_long():\n",
    "    input_file_name = \"./image_list_longitudinal.txt\"\n",
    "    modality        = \"longitudinal\" # use \"newsubject\", \"longitudinal\", or \"multimodal\" \n",
    "    n_of_cores      = 1\n",
    "\n",
    "    image_data = io.load_image_data_segmentation(modality, input_file_name)\n",
    "    segm.prepare_reference(image_data)\n",
    "\n",
    "    segm.register_bone_to_reference(image_data, n_of_cores)\n",
    "    segm.invert_bone_transformations(image_data, n_of_cores)\n",
    "    segm.warp_tibia_mask(image_data, n_of_cores)\n",
    "    segm.warp_bone_mask(image_data, n_of_cores)\n",
    "\n",
    "    # segm.register_vessel_to_reference(image_data, n_of_cores)\n",
    "    # segm.invert_vessel_transformations(image_data, n_of_cores)\n",
    "    # segm.warp_vessel_mask(image_data, n_of_cores)\n",
    "    \n",
    "#     segm.register_cartilage_to_reference(image_data, n_of_cores)\n",
    "#     segm.invert_cartilage_transformations(image_data, n_of_cores)\n",
    "#     segm.warp_cartilage_mask(image_data, n_of_cores)\n",
    "    \n",
    "# segmentation_sa_long()"
   ]
  },
  {
   "cell_type": "code",
   "execution_count": null,
   "metadata": {},
   "outputs": [],
   "source": [
    "# preprocess()\n",
    "segmentation_sa()\n",
    "segmentation_sa_long()"
   ]
  },
  {
   "cell_type": "code",
   "execution_count": null,
   "metadata": {},
   "outputs": [],
   "source": []
  },
  {
   "cell_type": "code",
   "execution_count": 23,
   "metadata": {},
   "outputs": [
    {
     "name": "stdout",
     "output_type": "stream",
     "text": [
      "-> image information loaded\n"
     ]
    }
   ],
   "source": [
    "sys.path.append(\"../../..\")\n",
    "from MyProcessDicom import *\n",
    "input_file_name = \"./image_list_longitudinal.txt\"\n",
    "modality        = \"longitudinal\" # use \"newsubject\", \"longitudinal\", or \"multimodal\" \n",
    "n_of_cores      = 1\n",
    "\n",
    "image_data = io.load_image_data_segmentation(modality, input_file_name)"
   ]
  },
  {
   "cell_type": "code",
   "execution_count": null,
   "metadata": {},
   "outputs": [],
   "source": [
    "image_data[0]"
   ]
  },
  {
   "cell_type": "code",
   "execution_count": 3,
   "metadata": {},
   "outputs": [],
   "source": [
    "import matplotlib.pyplot as plt\n",
    "import os\n",
    "%matplotlib inline\n",
    "import numpy as np\n",
    "from ipywidgets import interact, fixed\n",
    "def show_sagittal_images(image, length, index, tp_str):\n",
    "    \n",
    "    image_npa = sitk.GetArrayViewFromImage(image)\n",
    "    size = np.size(image_npa, 2)\n",
    "    # Draw the fixed image in the first subplot.\n",
    "    plt.subplot(length,1,index)\n",
    "    plt.imshow(image_npa[:,:,size//2],cmap=plt.cm.Greys_r);\n",
    "    plt.title(tp_str)\n",
    "    plt.axis('off')"
   ]
  },
  {
   "cell_type": "code",
   "execution_count": 4,
   "metadata": {},
   "outputs": [],
   "source": [
    "def show_slice_images(all_image_data):\n",
    "    last_name = '0000000L'\n",
    "    # for each image\n",
    "    for i in range(0, len(all_image_data)):\n",
    "\n",
    "        # get paths and file names of the current image\n",
    "        image_data                    = all_image_data[i]\n",
    "#         if image_data['moving_name'][:12] != last_name:\n",
    "#             last_name = image_data['moving_name'][:8]\n",
    "        print(image_data['moving_name'][:12])\n",
    "            \n",
    "        moving_file_name              = image_data['registered_sub_folder']    + image_data['fspline_name']\n",
    "        reference_file_name              = image_data['reference_folder']    + image_data['reference_name']\n",
    "    #     image_data = all_image_data[0]\n",
    "    #     reference_file_name = image_data['registered_sub_folder']    + image_data['frigid_name']\n",
    "    #         mask_file_name                = image_data[\"segmented_folder\"] + image_data[anatomy + \"mask\"]\n",
    "\n",
    "    #     test_name          = image_data[\"reference_folder\"] + image_data[\"reference_name\"]\n",
    "        # read the images\n",
    "        reference = sitk.ReadImage(reference_file_name)\n",
    "        moving = sitk.ReadImage(moving_file_name)\n",
    "    #         mask   = sitk.ReadImage(mask_file_name)\n",
    "    #     test = sitk.ReadImage(test_name)\n",
    "\n",
    "    #     reference = tmp_resample(reference, moving)\n",
    "    #     print(moving.GetSize())\n",
    "\n",
    "        # images from simpleitk to numpy\n",
    "    #     reference_py = sitk.GetArrayFromImage(reference)\n",
    "    #     moving_py = sitk.GetArrayFromImage(moving)\n",
    "    #         mask_py   = sitk.GetArrayFromImage(mask)\n",
    "        show_mixed_images(reference, moving)\n",
    "    #     show_mixed_images(reference, reference)"
   ]
  },
  {
   "cell_type": "code",
   "execution_count": 5,
   "metadata": {},
   "outputs": [],
   "source": [
    "def display_images_with_mask(image_z, fixed, moving):\n",
    "    # img = (1.0 - alpha)*fixed[:,:,image_z] + alpha*moving[:,:,image_z]\n",
    "    fixed = sitk.GetArrayFromImage(fixed)\n",
    "    moving = sitk.GetArrayFromImage(moving) # mask\n",
    "    dst = fixed[image_z,:,:]*0.5+moving[image_z,:,:]*0.5*255\n",
    "#     plt.figure(figsize=(15,15))\n",
    "    plt.imshow(dst, cmap=plt.cm.Greys_r)\n",
    "    # plt.imshow(sitk.GetArrayViewFromImage(img),cmap=plt.cm.Greys_r);\n",
    "    plt.axis('off')\n",
    "    plt.show()\n",
    "\n",
    "def show_masked_images(image, mask):\n",
    "    interact(display_images_with_mask, image_z=(0,image.GetSize()[2] - 1), \n",
    "             fixed = fixed(image), moving=fixed(mask));"
   ]
  },
  {
   "cell_type": "code",
   "execution_count": 6,
   "metadata": {},
   "outputs": [],
   "source": [
    "def display_images_with_mask_sagittal(image_z, fixed, moving):\n",
    "    # img = (1.0 - alpha)*fixed[:,:,image_z] + alpha*moving[:,:,image_z]\n",
    "    fixed = sitk.GetArrayFromImage(fixed)\n",
    "    moving = sitk.GetArrayFromImage(moving) # mask\n",
    "    dst = fixed[:,:,image_z]*0.5+moving[:,:,image_z]*0.5*255\n",
    "    plt.figure(figsize=(7,7))\n",
    "    plt.imshow(dst, cmap=plt.cm.Greys_r)\n",
    "    # plt.imshow(sitk.GetArrayViewFromImage(img),cmap=plt.cm.Greys_r);\n",
    "    plt.axis('off')\n",
    "    plt.show()\n",
    "\n",
    "def show_masked_images_sagittal(image, mask):\n",
    "    interact(display_images_with_mask_sagittal, image_z=(0,image.GetSize()[0] - 1), \n",
    "             fixed = fixed(image), moving=fixed(mask));\n",
    "    \n",
    "def display_images_with_all_masks(image_z, alpha, fixed, moving, tibia):\n",
    "    # img = (1.0 - alpha)*fixed[:,:,image_z] + alpha*moving[:,:,image_z]\n",
    "    fixed = sitk.GetArrayFromImage(fixed)\n",
    "    moving = sitk.GetArrayFromImage(moving) # mask\n",
    "    tibia = sitk.GetArrayFromImage(tibia) # mask\n",
    "    dst = fixed[:,:,image_z]*alpha+moving[:,:,image_z]*(1-alpha)*255+tibia[:,:,image_z]*(1-alpha)*255\n",
    "    dst = np.flipud(dst)\n",
    "    plt.figure(figsize=(7,7))\n",
    "    plt.imshow(dst, cmap=plt.cm.Greys_r)\n",
    "    # plt.imshow(sitk.GetArrayViewFromImage(img),cmap=plt.cm.Greys_r);\n",
    "    plt.axis('off')\n",
    "    plt.show()\n",
    "\n",
    "def show_all_masked_images(image, mask, tibia):\n",
    "    interact(display_images_with_all_masks, image_z=(0,image.GetSize()[0] - 1), alpha=(0.0,1.0,0.05),\n",
    "             fixed = fixed(image), moving=fixed(mask), tibia=fixed(tibia));"
   ]
  },
  {
   "cell_type": "code",
   "execution_count": 102,
   "metadata": {},
   "outputs": [
    {
     "name": "stdout",
     "output_type": "stream",
     "text": [
      "[384 384  75] [384, 384, 309]\n",
      "[384 384  75] [384, 384, 309]\n",
      "[384 384  75] [384, 384, 309]\n"
     ]
    },
    {
     "data": {
      "application/vnd.jupyter.widget-view+json": {
       "model_id": "f1f35ad5c54e4214ab27038a187f18b6",
       "version_major": 2,
       "version_minor": 0
      },
      "text/plain": [
       "interactive(children=(IntSlider(value=191, description='image_z', max=383), Output()), _dom_classes=('widget-i…"
      ]
     },
     "metadata": {},
     "output_type": "display_data"
    }
   ],
   "source": [
    "# mask_file_name = image_data[0]['reference_folder'] + '9941231L_TP0_prep_f.mha'\n",
    "mask_file_name = image_data[0]['segmented_folder'] + '9404954L_TP0_prep_f.mha'\n",
    "tibia_file_name = image_data[0]['segmented_folder'] + '9404954L_TP0_prep_t.mha'\n",
    "# mask_file_name = 'C:\\\\Zhixuan\\\\OAI-registration\\\\pykneer-yg\\\\reference\\\\longitudinal\\\\9941446L_TP0_prep_t.mha'\n",
    "moving_file_name   = image_data[0]['moving_folder']    + \"9404954L_TP0_prep.mha\"\n",
    "mask = sitk.ReadImage(mask_file_name)\n",
    "tibia = sitk.ReadImage(tibia_file_name)\n",
    "moving = sitk.ReadImage(moving_file_name)\n",
    "key = 1\n",
    "if key == 1:\n",
    "    mask = resample_bwimage(mask)\n",
    "    tibia = resample_bwimage(tibia)\n",
    "    moving = resample_bwimage(moving)\n",
    "#     show_masked_images_sagittal(moving, mask)\n",
    "    show_all_masked_images(moving, mask,tibia)\n",
    "else:\n",
    "    show_masked_images(moving, mask)    "
   ]
  },
  {
   "cell_type": "code",
   "execution_count": 7,
   "metadata": {},
   "outputs": [],
   "source": [
    "def show_sagital_slice_images(all_image_data, is_rigid=False):\n",
    "    last_name = '0000000L'\n",
    "    # for each image\n",
    "    for i in range(0, len(all_image_data)):\n",
    "#     for i in range(0, 4):\n",
    "\n",
    "        # get paths and file names of the current image\n",
    "        image_data                    = all_image_data[i]\n",
    "#         if image_data['moving_name'][:8] != last_name:\n",
    "#             last_name = image_data['moving_name'][:8]\n",
    "        print(image_data['moving_name'][:12])       \n",
    "   \n",
    "        # mask_file_name = image_data[0]['reference_folder'] + '9941231L_TP0_prep_f.mha'\n",
    "        if is_rigid:\n",
    "            mask_file_name = image_data['segmented_folder'] + image_data['fmask'][:-5] + 'f_rigid.mha'\n",
    "            tibia_file_name = image_data['segmented_folder'] + image_data['fmask'][:-5] + 't_rigid.mha'\n",
    "        else:\n",
    "            mask_file_name = image_data['segmented_folder'] + image_data['fmask']\n",
    "            tibia_file_name = image_data['segmented_folder'] + image_data['fmask'][:-5] + 't.mha'\n",
    "        # mask_file_name = 'C:\\\\Zhixuan\\\\OAI-registration\\\\pykneer-yg\\\\reference\\\\longitudinal\\\\9941446L_TP0_prep_t.mha'\n",
    "        moving_file_name   = image_data['moving_folder']    + image_data['moving_name']\n",
    "        mask = sitk.ReadImage(mask_file_name)\n",
    "        tibia = sitk.ReadImage(tibia_file_name)\n",
    "        moving = sitk.ReadImage(moving_file_name)\n",
    "        key = 1\n",
    "        if key == 1:\n",
    "            mask = resample_bwimage(mask)\n",
    "            tibia = resample_bwimage(tibia)\n",
    "            moving = resample_bwimage(moving)\n",
    "        #     show_masked_images_sagittal(moving, mask)\n",
    "            show_all_masked_images(moving, mask,tibia)\n",
    "        else:\n",
    "            show_masked_images(moving, mask)    "
   ]
  },
  {
   "cell_type": "code",
   "execution_count": 8,
   "metadata": {},
   "outputs": [],
   "source": [
    "def show_sagital_reference(all_image_data):\n",
    "    last_name = '0000000L'\n",
    "    # for each image\n",
    "    for i in range(0, len(all_image_data)):\n",
    "#     for i in range(0, 4):\n",
    "\n",
    "        # get paths and file names of the current image\n",
    "        image_data                    = all_image_data[i]\n",
    "#         if image_data['moving_name'][:8] != last_name:\n",
    "#             last_name = image_data['moving_name'][:8]\n",
    "        print(image_data['moving_name'][:12])       \n",
    "   \n",
    "        # mask_file_name = image_data[0]['reference_folder'] + '9941231L_TP0_prep_f.mha'\n",
    "        mask_file_name = image_data['segmented_folder'] + image_data['fmask']\n",
    "        tibia_file_name = \"C:\\\\Zhixuan\\\\OAI-registration\\\\pykneer-yg\\\\reference\\\\longitudinal\\\\\" + image_data['fmask'][:-5] + 't.mha'\n",
    "        # mask_file_name = 'C:\\\\Zhixuan\\\\OAI-registration\\\\pykneer-yg\\\\reference\\\\longitudinal\\\\9941446L_TP0_prep_t.mha'\n",
    "        moving_file_name   = image_data['moving_folder']    + image_data['moving_name']\n",
    "        mask = sitk.ReadImage(mask_file_name)\n",
    "        tibia = sitk.ReadImage(tibia_file_name)\n",
    "        moving = sitk.ReadImage(moving_file_name)\n",
    "        key = 1\n",
    "        if key == 1:\n",
    "            mask = resample_bwimage(mask)\n",
    "            tibia = resample_bwimage(tibia)\n",
    "            moving = resample_bwimage(moving)\n",
    "        #     show_masked_images_sagittal(moving, mask)\n",
    "            show_all_masked_images(moving, mask,tibia)\n",
    "        else:\n",
    "            show_masked_images(moving, mask)    "
   ]
  },
  {
   "cell_type": "code",
   "execution_count": 9,
   "metadata": {},
   "outputs": [
    {
     "name": "stdout",
     "output_type": "stream",
     "text": [
      "9941231L_TP1\n"
     ]
    },
    {
     "data": {
      "application/vnd.jupyter.widget-view+json": {
       "model_id": "bc3beec450f34f04b0157685d736b206",
       "version_major": 2,
       "version_minor": 0
      },
      "text/plain": [
       "interactive(children=(IntSlider(value=191, description='image_z', max=383), FloatSlider(value=0.5, description…"
      ]
     },
     "metadata": {},
     "output_type": "display_data"
    },
    {
     "name": "stdout",
     "output_type": "stream",
     "text": [
      "9941231L_TP3\n"
     ]
    },
    {
     "data": {
      "application/vnd.jupyter.widget-view+json": {
       "model_id": "3fdc3897e7f34fe4b2bab8633c3bac27",
       "version_major": 2,
       "version_minor": 0
      },
      "text/plain": [
       "interactive(children=(IntSlider(value=191, description='image_z', max=383), FloatSlider(value=0.5, description…"
      ]
     },
     "metadata": {},
     "output_type": "display_data"
    },
    {
     "name": "stdout",
     "output_type": "stream",
     "text": [
      "9941231L_TP5\n"
     ]
    },
    {
     "data": {
      "application/vnd.jupyter.widget-view+json": {
       "model_id": "63f3a3967c004617ad5cb5251992626f",
       "version_major": 2,
       "version_minor": 0
      },
      "text/plain": [
       "interactive(children=(IntSlider(value=191, description='image_z', max=383), FloatSlider(value=0.5, description…"
      ]
     },
     "metadata": {},
     "output_type": "display_data"
    },
    {
     "name": "stdout",
     "output_type": "stream",
     "text": [
      "9941231L_TP6\n"
     ]
    },
    {
     "data": {
      "application/vnd.jupyter.widget-view+json": {
       "model_id": "3fcc85ba90e345419aa2c5ebbda2c0db",
       "version_major": 2,
       "version_minor": 0
      },
      "text/plain": [
       "interactive(children=(IntSlider(value=191, description='image_z', max=383), FloatSlider(value=0.5, description…"
      ]
     },
     "metadata": {},
     "output_type": "display_data"
    },
    {
     "name": "stdout",
     "output_type": "stream",
     "text": [
      "9941231L_TP8\n"
     ]
    },
    {
     "data": {
      "application/vnd.jupyter.widget-view+json": {
       "model_id": "0db2e98bcc2249288d3861c36adc4ca1",
       "version_major": 2,
       "version_minor": 0
      },
      "text/plain": [
       "interactive(children=(IntSlider(value=191, description='image_z', max=383), FloatSlider(value=0.5, description…"
      ]
     },
     "metadata": {},
     "output_type": "display_data"
    },
    {
     "name": "stdout",
     "output_type": "stream",
     "text": [
      "9941231L_TP1\n"
     ]
    },
    {
     "data": {
      "application/vnd.jupyter.widget-view+json": {
       "model_id": "a32545ea93e0443281182ad9dac844e0",
       "version_major": 2,
       "version_minor": 0
      },
      "text/plain": [
       "interactive(children=(IntSlider(value=191, description='image_z', max=383), FloatSlider(value=0.5, description…"
      ]
     },
     "metadata": {},
     "output_type": "display_data"
    },
    {
     "name": "stdout",
     "output_type": "stream",
     "text": [
      "9941231R_TP1\n"
     ]
    },
    {
     "data": {
      "application/vnd.jupyter.widget-view+json": {
       "model_id": "00e0243ead0349ab90d3a1126e123964",
       "version_major": 2,
       "version_minor": 0
      },
      "text/plain": [
       "interactive(children=(IntSlider(value=191, description='image_z', max=383), FloatSlider(value=0.5, description…"
      ]
     },
     "metadata": {},
     "output_type": "display_data"
    },
    {
     "name": "stdout",
     "output_type": "stream",
     "text": [
      "9941231R_TP3\n"
     ]
    },
    {
     "data": {
      "application/vnd.jupyter.widget-view+json": {
       "model_id": "4852555da19142b98d7dbcb676597d6f",
       "version_major": 2,
       "version_minor": 0
      },
      "text/plain": [
       "interactive(children=(IntSlider(value=191, description='image_z', max=383), FloatSlider(value=0.5, description…"
      ]
     },
     "metadata": {},
     "output_type": "display_data"
    },
    {
     "name": "stdout",
     "output_type": "stream",
     "text": [
      "9941231R_TP5\n"
     ]
    },
    {
     "data": {
      "application/vnd.jupyter.widget-view+json": {
       "model_id": "81b727ec16e84d5c903d3c74710e4af7",
       "version_major": 2,
       "version_minor": 0
      },
      "text/plain": [
       "interactive(children=(IntSlider(value=191, description='image_z', max=383), FloatSlider(value=0.5, description…"
      ]
     },
     "metadata": {},
     "output_type": "display_data"
    },
    {
     "name": "stdout",
     "output_type": "stream",
     "text": [
      "9941231R_TP6\n"
     ]
    },
    {
     "data": {
      "application/vnd.jupyter.widget-view+json": {
       "model_id": "23dc470ffc164829826bedfaa3282c9c",
       "version_major": 2,
       "version_minor": 0
      },
      "text/plain": [
       "interactive(children=(IntSlider(value=191, description='image_z', max=383), FloatSlider(value=0.5, description…"
      ]
     },
     "metadata": {},
     "output_type": "display_data"
    },
    {
     "name": "stdout",
     "output_type": "stream",
     "text": [
      "9941446L_TP1\n"
     ]
    },
    {
     "data": {
      "application/vnd.jupyter.widget-view+json": {
       "model_id": "87063967b1784555927155c57041766f",
       "version_major": 2,
       "version_minor": 0
      },
      "text/plain": [
       "interactive(children=(IntSlider(value=191, description='image_z', max=383), FloatSlider(value=0.5, description…"
      ]
     },
     "metadata": {},
     "output_type": "display_data"
    },
    {
     "name": "stdout",
     "output_type": "stream",
     "text": [
      "9941446L_TP3\n"
     ]
    },
    {
     "data": {
      "application/vnd.jupyter.widget-view+json": {
       "model_id": "645fa40073184e60afaa287718b75708",
       "version_major": 2,
       "version_minor": 0
      },
      "text/plain": [
       "interactive(children=(IntSlider(value=191, description='image_z', max=383), FloatSlider(value=0.5, description…"
      ]
     },
     "metadata": {},
     "output_type": "display_data"
    },
    {
     "name": "stdout",
     "output_type": "stream",
     "text": [
      "9941446L_TP6\n"
     ]
    },
    {
     "data": {
      "application/vnd.jupyter.widget-view+json": {
       "model_id": "5a932b33fa194902a10825337eb4061c",
       "version_major": 2,
       "version_minor": 0
      },
      "text/plain": [
       "interactive(children=(IntSlider(value=191, description='image_z', max=383), FloatSlider(value=0.5, description…"
      ]
     },
     "metadata": {},
     "output_type": "display_data"
    },
    {
     "name": "stdout",
     "output_type": "stream",
     "text": [
      "9941446L_TP8\n"
     ]
    },
    {
     "data": {
      "application/vnd.jupyter.widget-view+json": {
       "model_id": "83e4adedb88e427891252e9ee7d222f5",
       "version_major": 2,
       "version_minor": 0
      },
      "text/plain": [
       "interactive(children=(IntSlider(value=191, description='image_z', max=383), FloatSlider(value=0.5, description…"
      ]
     },
     "metadata": {},
     "output_type": "display_data"
    },
    {
     "name": "stdout",
     "output_type": "stream",
     "text": [
      "9941446L_TP1\n"
     ]
    },
    {
     "data": {
      "application/vnd.jupyter.widget-view+json": {
       "model_id": "1577b0b0d3234ca0b15716009b09a46e",
       "version_major": 2,
       "version_minor": 0
      },
      "text/plain": [
       "interactive(children=(IntSlider(value=191, description='image_z', max=383), FloatSlider(value=0.5, description…"
      ]
     },
     "metadata": {},
     "output_type": "display_data"
    },
    {
     "name": "stdout",
     "output_type": "stream",
     "text": [
      "9941446R_TP1\n"
     ]
    },
    {
     "data": {
      "application/vnd.jupyter.widget-view+json": {
       "model_id": "4fb607bf468c4ccebaec1784316e0cca",
       "version_major": 2,
       "version_minor": 0
      },
      "text/plain": [
       "interactive(children=(IntSlider(value=191, description='image_z', max=383), FloatSlider(value=0.5, description…"
      ]
     },
     "metadata": {},
     "output_type": "display_data"
    },
    {
     "name": "stdout",
     "output_type": "stream",
     "text": [
      "9941446R_TP3\n"
     ]
    },
    {
     "data": {
      "application/vnd.jupyter.widget-view+json": {
       "model_id": "f13a328e90dc4f0c8c7b89435ff390b7",
       "version_major": 2,
       "version_minor": 0
      },
      "text/plain": [
       "interactive(children=(IntSlider(value=191, description='image_z', max=383), FloatSlider(value=0.5, description…"
      ]
     },
     "metadata": {},
     "output_type": "display_data"
    },
    {
     "name": "stdout",
     "output_type": "stream",
     "text": [
      "9941446R_TP5\n"
     ]
    },
    {
     "data": {
      "application/vnd.jupyter.widget-view+json": {
       "model_id": "38225c90d1014adea605f402427712ac",
       "version_major": 2,
       "version_minor": 0
      },
      "text/plain": [
       "interactive(children=(IntSlider(value=191, description='image_z', max=383), FloatSlider(value=0.5, description…"
      ]
     },
     "metadata": {},
     "output_type": "display_data"
    },
    {
     "name": "stdout",
     "output_type": "stream",
     "text": [
      "9941446R_TP6\n"
     ]
    },
    {
     "data": {
      "application/vnd.jupyter.widget-view+json": {
       "model_id": "3f4684525ff3402dae895c84034ad113",
       "version_major": 2,
       "version_minor": 0
      },
      "text/plain": [
       "interactive(children=(IntSlider(value=191, description='image_z', max=383), FloatSlider(value=0.5, description…"
      ]
     },
     "metadata": {},
     "output_type": "display_data"
    },
    {
     "name": "stdout",
     "output_type": "stream",
     "text": [
      "9941446R_TP8\n"
     ]
    },
    {
     "data": {
      "application/vnd.jupyter.widget-view+json": {
       "model_id": "8c1bec8cee664d4985fba8deaebdedf0",
       "version_major": 2,
       "version_minor": 0
      },
      "text/plain": [
       "interactive(children=(IntSlider(value=191, description='image_z', max=383), FloatSlider(value=0.5, description…"
      ]
     },
     "metadata": {},
     "output_type": "display_data"
    },
    {
     "name": "stdout",
     "output_type": "stream",
     "text": [
      "9941446R_TP1\n"
     ]
    },
    {
     "data": {
      "application/vnd.jupyter.widget-view+json": {
       "model_id": "bf2cd75ece704f45946cb55c5feccf18",
       "version_major": 2,
       "version_minor": 0
      },
      "text/plain": [
       "interactive(children=(IntSlider(value=191, description='image_z', max=383), FloatSlider(value=0.5, description…"
      ]
     },
     "metadata": {},
     "output_type": "display_data"
    },
    {
     "name": "stdout",
     "output_type": "stream",
     "text": [
      "9404954L_TP1\n"
     ]
    },
    {
     "data": {
      "application/vnd.jupyter.widget-view+json": {
       "model_id": "cfe73023a9d545eeb84302958e18d710",
       "version_major": 2,
       "version_minor": 0
      },
      "text/plain": [
       "interactive(children=(IntSlider(value=191, description='image_z', max=383), FloatSlider(value=0.5, description…"
      ]
     },
     "metadata": {},
     "output_type": "display_data"
    },
    {
     "name": "stdout",
     "output_type": "stream",
     "text": [
      "9404954L_TP3\n"
     ]
    },
    {
     "data": {
      "application/vnd.jupyter.widget-view+json": {
       "model_id": "6955c5070f314ff29d2b79cd854370c9",
       "version_major": 2,
       "version_minor": 0
      },
      "text/plain": [
       "interactive(children=(IntSlider(value=191, description='image_z', max=383), FloatSlider(value=0.5, description…"
      ]
     },
     "metadata": {},
     "output_type": "display_data"
    },
    {
     "name": "stdout",
     "output_type": "stream",
     "text": [
      "9404954L_TP6\n"
     ]
    },
    {
     "data": {
      "application/vnd.jupyter.widget-view+json": {
       "model_id": "575505254a8e4c1194e1fcaf3bb095c1",
       "version_major": 2,
       "version_minor": 0
      },
      "text/plain": [
       "interactive(children=(IntSlider(value=191, description='image_z', max=383), FloatSlider(value=0.5, description…"
      ]
     },
     "metadata": {},
     "output_type": "display_data"
    },
    {
     "name": "stdout",
     "output_type": "stream",
     "text": [
      "9404954L_TP8\n"
     ]
    },
    {
     "data": {
      "application/vnd.jupyter.widget-view+json": {
       "model_id": "2b6a6e9ae8564ba7a4605a5390677497",
       "version_major": 2,
       "version_minor": 0
      },
      "text/plain": [
       "interactive(children=(IntSlider(value=191, description='image_z', max=383), FloatSlider(value=0.5, description…"
      ]
     },
     "metadata": {},
     "output_type": "display_data"
    },
    {
     "name": "stdout",
     "output_type": "stream",
     "text": [
      "9404954L_TP1\n"
     ]
    },
    {
     "data": {
      "application/vnd.jupyter.widget-view+json": {
       "model_id": "fe4903cb2bab4d7daf142148836f5639",
       "version_major": 2,
       "version_minor": 0
      },
      "text/plain": [
       "interactive(children=(IntSlider(value=191, description='image_z', max=383), FloatSlider(value=0.5, description…"
      ]
     },
     "metadata": {},
     "output_type": "display_data"
    },
    {
     "name": "stdout",
     "output_type": "stream",
     "text": [
      "9404954R_TP1\n"
     ]
    },
    {
     "data": {
      "application/vnd.jupyter.widget-view+json": {
       "model_id": "fa247cafe2944ddb9eb0253052e7a147",
       "version_major": 2,
       "version_minor": 0
      },
      "text/plain": [
       "interactive(children=(IntSlider(value=191, description='image_z', max=383), FloatSlider(value=0.5, description…"
      ]
     },
     "metadata": {},
     "output_type": "display_data"
    },
    {
     "name": "stdout",
     "output_type": "stream",
     "text": [
      "9404954R_TP3\n"
     ]
    },
    {
     "data": {
      "application/vnd.jupyter.widget-view+json": {
       "model_id": "87e7bfc1f7574deea23cfbe1eaf948b3",
       "version_major": 2,
       "version_minor": 0
      },
      "text/plain": [
       "interactive(children=(IntSlider(value=191, description='image_z', max=383), FloatSlider(value=0.5, description…"
      ]
     },
     "metadata": {},
     "output_type": "display_data"
    },
    {
     "name": "stdout",
     "output_type": "stream",
     "text": [
      "9404954R_TP4\n"
     ]
    },
    {
     "data": {
      "application/vnd.jupyter.widget-view+json": {
       "model_id": "b213db23fe3b4814bcb69ca164617276",
       "version_major": 2,
       "version_minor": 0
      },
      "text/plain": [
       "interactive(children=(IntSlider(value=191, description='image_z', max=383), FloatSlider(value=0.5, description…"
      ]
     },
     "metadata": {},
     "output_type": "display_data"
    },
    {
     "name": "stdout",
     "output_type": "stream",
     "text": [
      "9404954R_TP5\n"
     ]
    },
    {
     "data": {
      "application/vnd.jupyter.widget-view+json": {
       "model_id": "9eb8bc52d3804ac4b1240ac83c3b3439",
       "version_major": 2,
       "version_minor": 0
      },
      "text/plain": [
       "interactive(children=(IntSlider(value=191, description='image_z', max=383), FloatSlider(value=0.5, description…"
      ]
     },
     "metadata": {},
     "output_type": "display_data"
    },
    {
     "name": "stdout",
     "output_type": "stream",
     "text": [
      "9404954R_TP6\n"
     ]
    },
    {
     "data": {
      "application/vnd.jupyter.widget-view+json": {
       "model_id": "00b5dbc6c75a4c428a52af2d2f0ab0eb",
       "version_major": 2,
       "version_minor": 0
      },
      "text/plain": [
       "interactive(children=(IntSlider(value=191, description='image_z', max=383), FloatSlider(value=0.5, description…"
      ]
     },
     "metadata": {},
     "output_type": "display_data"
    },
    {
     "name": "stdout",
     "output_type": "stream",
     "text": [
      "9404954R_TP8\n"
     ]
    },
    {
     "data": {
      "application/vnd.jupyter.widget-view+json": {
       "model_id": "6fac0a8b0eac4fe7b47741e17a94bf86",
       "version_major": 2,
       "version_minor": 0
      },
      "text/plain": [
       "interactive(children=(IntSlider(value=191, description='image_z', max=383), FloatSlider(value=0.5, description…"
      ]
     },
     "metadata": {},
     "output_type": "display_data"
    },
    {
     "name": "stdout",
     "output_type": "stream",
     "text": [
      "9404954R_TP1\n"
     ]
    },
    {
     "data": {
      "application/vnd.jupyter.widget-view+json": {
       "model_id": "571d31a5e693443f9e5c4b3207c134dc",
       "version_major": 2,
       "version_minor": 0
      },
      "text/plain": [
       "interactive(children=(IntSlider(value=191, description='image_z', max=383), FloatSlider(value=0.5, description…"
      ]
     },
     "metadata": {},
     "output_type": "display_data"
    }
   ],
   "source": [
    "show_sagital_reference(image_data)"
   ]
  },
  {
   "cell_type": "code",
   "execution_count": 11,
   "metadata": {},
   "outputs": [
    {
     "name": "stdout",
     "output_type": "stream",
     "text": [
      "9941231L_TP1\n"
     ]
    },
    {
     "data": {
      "application/vnd.jupyter.widget-view+json": {
       "model_id": "3d03de0dc626437fa86c7f0030c82ce9",
       "version_major": 2,
       "version_minor": 0
      },
      "text/plain": [
       "interactive(children=(IntSlider(value=191, description='image_z', max=383), FloatSlider(value=0.5, description…"
      ]
     },
     "metadata": {},
     "output_type": "display_data"
    },
    {
     "name": "stdout",
     "output_type": "stream",
     "text": [
      "9941231L_TP3\n"
     ]
    },
    {
     "data": {
      "application/vnd.jupyter.widget-view+json": {
       "model_id": "8ecf4b7d48784358b680cbc6dbd15537",
       "version_major": 2,
       "version_minor": 0
      },
      "text/plain": [
       "interactive(children=(IntSlider(value=191, description='image_z', max=383), FloatSlider(value=0.5, description…"
      ]
     },
     "metadata": {},
     "output_type": "display_data"
    },
    {
     "name": "stdout",
     "output_type": "stream",
     "text": [
      "9941231L_TP5\n"
     ]
    },
    {
     "data": {
      "application/vnd.jupyter.widget-view+json": {
       "model_id": "150b46a99c7a4f63ab788c80367a9856",
       "version_major": 2,
       "version_minor": 0
      },
      "text/plain": [
       "interactive(children=(IntSlider(value=191, description='image_z', max=383), FloatSlider(value=0.5, description…"
      ]
     },
     "metadata": {},
     "output_type": "display_data"
    },
    {
     "name": "stdout",
     "output_type": "stream",
     "text": [
      "9941231L_TP6\n"
     ]
    },
    {
     "data": {
      "application/vnd.jupyter.widget-view+json": {
       "model_id": "f1780a7684c941f1b1642aec97bf6f09",
       "version_major": 2,
       "version_minor": 0
      },
      "text/plain": [
       "interactive(children=(IntSlider(value=191, description='image_z', max=383), FloatSlider(value=0.5, description…"
      ]
     },
     "metadata": {},
     "output_type": "display_data"
    },
    {
     "name": "stdout",
     "output_type": "stream",
     "text": [
      "9941231L_TP8\n"
     ]
    },
    {
     "data": {
      "application/vnd.jupyter.widget-view+json": {
       "model_id": "329ed5054bea4ca1bb15405ba2f30e43",
       "version_major": 2,
       "version_minor": 0
      },
      "text/plain": [
       "interactive(children=(IntSlider(value=191, description='image_z', max=383), FloatSlider(value=0.5, description…"
      ]
     },
     "metadata": {},
     "output_type": "display_data"
    },
    {
     "name": "stdout",
     "output_type": "stream",
     "text": [
      "9941231L_TP1\n"
     ]
    },
    {
     "data": {
      "application/vnd.jupyter.widget-view+json": {
       "model_id": "e074656122ed44489db2917131ca524a",
       "version_major": 2,
       "version_minor": 0
      },
      "text/plain": [
       "interactive(children=(IntSlider(value=191, description='image_z', max=383), FloatSlider(value=0.5, description…"
      ]
     },
     "metadata": {},
     "output_type": "display_data"
    },
    {
     "name": "stdout",
     "output_type": "stream",
     "text": [
      "9941231R_TP1\n"
     ]
    },
    {
     "data": {
      "application/vnd.jupyter.widget-view+json": {
       "model_id": "8c2982b574004887bc448ea6a01e7acc",
       "version_major": 2,
       "version_minor": 0
      },
      "text/plain": [
       "interactive(children=(IntSlider(value=191, description='image_z', max=383), FloatSlider(value=0.5, description…"
      ]
     },
     "metadata": {},
     "output_type": "display_data"
    },
    {
     "name": "stdout",
     "output_type": "stream",
     "text": [
      "9941231R_TP3\n"
     ]
    },
    {
     "data": {
      "application/vnd.jupyter.widget-view+json": {
       "model_id": "8c67ab9039bb48b58536083e690858e1",
       "version_major": 2,
       "version_minor": 0
      },
      "text/plain": [
       "interactive(children=(IntSlider(value=191, description='image_z', max=383), FloatSlider(value=0.5, description…"
      ]
     },
     "metadata": {},
     "output_type": "display_data"
    },
    {
     "name": "stdout",
     "output_type": "stream",
     "text": [
      "9941231R_TP5\n"
     ]
    },
    {
     "data": {
      "application/vnd.jupyter.widget-view+json": {
       "model_id": "48b58ea33dcd4c0d9a64b963626d85fc",
       "version_major": 2,
       "version_minor": 0
      },
      "text/plain": [
       "interactive(children=(IntSlider(value=191, description='image_z', max=383), FloatSlider(value=0.5, description…"
      ]
     },
     "metadata": {},
     "output_type": "display_data"
    },
    {
     "name": "stdout",
     "output_type": "stream",
     "text": [
      "9941231R_TP6\n"
     ]
    },
    {
     "data": {
      "application/vnd.jupyter.widget-view+json": {
       "model_id": "0a82201c4ce844678779320f0b71d7ab",
       "version_major": 2,
       "version_minor": 0
      },
      "text/plain": [
       "interactive(children=(IntSlider(value=191, description='image_z', max=383), FloatSlider(value=0.5, description…"
      ]
     },
     "metadata": {},
     "output_type": "display_data"
    },
    {
     "name": "stdout",
     "output_type": "stream",
     "text": [
      "9941446L_TP1\n"
     ]
    },
    {
     "data": {
      "application/vnd.jupyter.widget-view+json": {
       "model_id": "bb5766aa31984fcba2b11c020ad711c1",
       "version_major": 2,
       "version_minor": 0
      },
      "text/plain": [
       "interactive(children=(IntSlider(value=191, description='image_z', max=383), FloatSlider(value=0.5, description…"
      ]
     },
     "metadata": {},
     "output_type": "display_data"
    },
    {
     "name": "stdout",
     "output_type": "stream",
     "text": [
      "9941446L_TP3\n"
     ]
    },
    {
     "data": {
      "application/vnd.jupyter.widget-view+json": {
       "model_id": "ac6ac67cd5514371bddb404063dd3412",
       "version_major": 2,
       "version_minor": 0
      },
      "text/plain": [
       "interactive(children=(IntSlider(value=191, description='image_z', max=383), FloatSlider(value=0.5, description…"
      ]
     },
     "metadata": {},
     "output_type": "display_data"
    },
    {
     "name": "stdout",
     "output_type": "stream",
     "text": [
      "9941446L_TP6\n"
     ]
    },
    {
     "data": {
      "application/vnd.jupyter.widget-view+json": {
       "model_id": "41959b4f5f154d0d93fb4e1be0b37ef7",
       "version_major": 2,
       "version_minor": 0
      },
      "text/plain": [
       "interactive(children=(IntSlider(value=191, description='image_z', max=383), FloatSlider(value=0.5, description…"
      ]
     },
     "metadata": {},
     "output_type": "display_data"
    },
    {
     "name": "stdout",
     "output_type": "stream",
     "text": [
      "9941446L_TP8\n"
     ]
    },
    {
     "data": {
      "application/vnd.jupyter.widget-view+json": {
       "model_id": "b09658dc30b74c908f91a452fae16a87",
       "version_major": 2,
       "version_minor": 0
      },
      "text/plain": [
       "interactive(children=(IntSlider(value=191, description='image_z', max=383), FloatSlider(value=0.5, description…"
      ]
     },
     "metadata": {},
     "output_type": "display_data"
    },
    {
     "name": "stdout",
     "output_type": "stream",
     "text": [
      "9941446L_TP1\n"
     ]
    },
    {
     "data": {
      "application/vnd.jupyter.widget-view+json": {
       "model_id": "fdc5861c317d407e9fec0f7b65871d01",
       "version_major": 2,
       "version_minor": 0
      },
      "text/plain": [
       "interactive(children=(IntSlider(value=191, description='image_z', max=383), FloatSlider(value=0.5, description…"
      ]
     },
     "metadata": {},
     "output_type": "display_data"
    },
    {
     "name": "stdout",
     "output_type": "stream",
     "text": [
      "9941446R_TP1\n"
     ]
    },
    {
     "data": {
      "application/vnd.jupyter.widget-view+json": {
       "model_id": "39536d79c2874b53bcaa2d70f6e93a54",
       "version_major": 2,
       "version_minor": 0
      },
      "text/plain": [
       "interactive(children=(IntSlider(value=191, description='image_z', max=383), FloatSlider(value=0.5, description…"
      ]
     },
     "metadata": {},
     "output_type": "display_data"
    },
    {
     "name": "stdout",
     "output_type": "stream",
     "text": [
      "9941446R_TP3\n"
     ]
    },
    {
     "data": {
      "application/vnd.jupyter.widget-view+json": {
       "model_id": "45fa11f692054386980b7d2215053c14",
       "version_major": 2,
       "version_minor": 0
      },
      "text/plain": [
       "interactive(children=(IntSlider(value=191, description='image_z', max=383), FloatSlider(value=0.5, description…"
      ]
     },
     "metadata": {},
     "output_type": "display_data"
    },
    {
     "name": "stdout",
     "output_type": "stream",
     "text": [
      "9941446R_TP5\n"
     ]
    },
    {
     "data": {
      "application/vnd.jupyter.widget-view+json": {
       "model_id": "ed0f0b9258294501a767ca87297e0fd9",
       "version_major": 2,
       "version_minor": 0
      },
      "text/plain": [
       "interactive(children=(IntSlider(value=191, description='image_z', max=383), FloatSlider(value=0.5, description…"
      ]
     },
     "metadata": {},
     "output_type": "display_data"
    },
    {
     "name": "stdout",
     "output_type": "stream",
     "text": [
      "9941446R_TP6\n"
     ]
    },
    {
     "data": {
      "application/vnd.jupyter.widget-view+json": {
       "model_id": "36f9012c32274b6ab2ce74d0f0bf2310",
       "version_major": 2,
       "version_minor": 0
      },
      "text/plain": [
       "interactive(children=(IntSlider(value=191, description='image_z', max=383), FloatSlider(value=0.5, description…"
      ]
     },
     "metadata": {},
     "output_type": "display_data"
    },
    {
     "name": "stdout",
     "output_type": "stream",
     "text": [
      "9941446R_TP8\n"
     ]
    },
    {
     "data": {
      "application/vnd.jupyter.widget-view+json": {
       "model_id": "a4553e65cdda4b4a8926400d3b988777",
       "version_major": 2,
       "version_minor": 0
      },
      "text/plain": [
       "interactive(children=(IntSlider(value=191, description='image_z', max=383), FloatSlider(value=0.5, description…"
      ]
     },
     "metadata": {},
     "output_type": "display_data"
    },
    {
     "name": "stdout",
     "output_type": "stream",
     "text": [
      "9941446R_TP1\n"
     ]
    },
    {
     "data": {
      "application/vnd.jupyter.widget-view+json": {
       "model_id": "dc9b4c0fc6974799a9bbffbc5870c17e",
       "version_major": 2,
       "version_minor": 0
      },
      "text/plain": [
       "interactive(children=(IntSlider(value=191, description='image_z', max=383), FloatSlider(value=0.5, description…"
      ]
     },
     "metadata": {},
     "output_type": "display_data"
    },
    {
     "name": "stdout",
     "output_type": "stream",
     "text": [
      "9404954L_TP1\n"
     ]
    },
    {
     "data": {
      "application/vnd.jupyter.widget-view+json": {
       "model_id": "f4217d8109f8496b82902a7886c3fa52",
       "version_major": 2,
       "version_minor": 0
      },
      "text/plain": [
       "interactive(children=(IntSlider(value=191, description='image_z', max=383), FloatSlider(value=0.5, description…"
      ]
     },
     "metadata": {},
     "output_type": "display_data"
    },
    {
     "name": "stdout",
     "output_type": "stream",
     "text": [
      "9404954L_TP3\n"
     ]
    },
    {
     "data": {
      "application/vnd.jupyter.widget-view+json": {
       "model_id": "63fd493607c444f8bb1097ad8bb36715",
       "version_major": 2,
       "version_minor": 0
      },
      "text/plain": [
       "interactive(children=(IntSlider(value=191, description='image_z', max=383), FloatSlider(value=0.5, description…"
      ]
     },
     "metadata": {},
     "output_type": "display_data"
    },
    {
     "name": "stdout",
     "output_type": "stream",
     "text": [
      "9404954L_TP6\n"
     ]
    },
    {
     "data": {
      "application/vnd.jupyter.widget-view+json": {
       "model_id": "e8e2894395fc4740be17ede29aeb23f0",
       "version_major": 2,
       "version_minor": 0
      },
      "text/plain": [
       "interactive(children=(IntSlider(value=191, description='image_z', max=383), FloatSlider(value=0.5, description…"
      ]
     },
     "metadata": {},
     "output_type": "display_data"
    },
    {
     "name": "stdout",
     "output_type": "stream",
     "text": [
      "9404954L_TP8\n"
     ]
    },
    {
     "data": {
      "application/vnd.jupyter.widget-view+json": {
       "model_id": "6bff9842293a44838a784de0f9d2c4d5",
       "version_major": 2,
       "version_minor": 0
      },
      "text/plain": [
       "interactive(children=(IntSlider(value=191, description='image_z', max=383), FloatSlider(value=0.5, description…"
      ]
     },
     "metadata": {},
     "output_type": "display_data"
    },
    {
     "name": "stdout",
     "output_type": "stream",
     "text": [
      "9404954L_TP1\n"
     ]
    },
    {
     "data": {
      "application/vnd.jupyter.widget-view+json": {
       "model_id": "89b6fbf8910946f5bc6f3b35a165b83d",
       "version_major": 2,
       "version_minor": 0
      },
      "text/plain": [
       "interactive(children=(IntSlider(value=191, description='image_z', max=383), FloatSlider(value=0.5, description…"
      ]
     },
     "metadata": {},
     "output_type": "display_data"
    },
    {
     "name": "stdout",
     "output_type": "stream",
     "text": [
      "9404954R_TP1\n"
     ]
    },
    {
     "data": {
      "application/vnd.jupyter.widget-view+json": {
       "model_id": "bac93932484d4cadac5ea2a9e1f2882b",
       "version_major": 2,
       "version_minor": 0
      },
      "text/plain": [
       "interactive(children=(IntSlider(value=191, description='image_z', max=383), FloatSlider(value=0.5, description…"
      ]
     },
     "metadata": {},
     "output_type": "display_data"
    },
    {
     "name": "stdout",
     "output_type": "stream",
     "text": [
      "9404954R_TP3\n"
     ]
    },
    {
     "data": {
      "application/vnd.jupyter.widget-view+json": {
       "model_id": "c3b9d0bc221b48a09dc3dc00a0f14d26",
       "version_major": 2,
       "version_minor": 0
      },
      "text/plain": [
       "interactive(children=(IntSlider(value=191, description='image_z', max=383), FloatSlider(value=0.5, description…"
      ]
     },
     "metadata": {},
     "output_type": "display_data"
    },
    {
     "name": "stdout",
     "output_type": "stream",
     "text": [
      "9404954R_TP4\n"
     ]
    },
    {
     "data": {
      "application/vnd.jupyter.widget-view+json": {
       "model_id": "2af8eacac79f4571bbe34f2dbd129454",
       "version_major": 2,
       "version_minor": 0
      },
      "text/plain": [
       "interactive(children=(IntSlider(value=191, description='image_z', max=383), FloatSlider(value=0.5, description…"
      ]
     },
     "metadata": {},
     "output_type": "display_data"
    },
    {
     "name": "stdout",
     "output_type": "stream",
     "text": [
      "9404954R_TP5\n"
     ]
    },
    {
     "data": {
      "application/vnd.jupyter.widget-view+json": {
       "model_id": "975dc221167b472292930c6fe389c06c",
       "version_major": 2,
       "version_minor": 0
      },
      "text/plain": [
       "interactive(children=(IntSlider(value=191, description='image_z', max=383), FloatSlider(value=0.5, description…"
      ]
     },
     "metadata": {},
     "output_type": "display_data"
    },
    {
     "name": "stdout",
     "output_type": "stream",
     "text": [
      "9404954R_TP6\n"
     ]
    },
    {
     "data": {
      "application/vnd.jupyter.widget-view+json": {
       "model_id": "acb26e83bc4a40939e6a3b03fda2648a",
       "version_major": 2,
       "version_minor": 0
      },
      "text/plain": [
       "interactive(children=(IntSlider(value=191, description='image_z', max=383), FloatSlider(value=0.5, description…"
      ]
     },
     "metadata": {},
     "output_type": "display_data"
    },
    {
     "name": "stdout",
     "output_type": "stream",
     "text": [
      "9404954R_TP8\n"
     ]
    },
    {
     "data": {
      "application/vnd.jupyter.widget-view+json": {
       "model_id": "495cabc23d8048ef8f46bb9038be48f9",
       "version_major": 2,
       "version_minor": 0
      },
      "text/plain": [
       "interactive(children=(IntSlider(value=191, description='image_z', max=383), FloatSlider(value=0.5, description…"
      ]
     },
     "metadata": {},
     "output_type": "display_data"
    },
    {
     "name": "stdout",
     "output_type": "stream",
     "text": [
      "9404954R_TP1\n"
     ]
    },
    {
     "data": {
      "application/vnd.jupyter.widget-view+json": {
       "model_id": "f2c88f65f1a345109d5c06855a634c57",
       "version_major": 2,
       "version_minor": 0
      },
      "text/plain": [
       "interactive(children=(IntSlider(value=191, description='image_z', max=383), FloatSlider(value=0.5, description…"
      ]
     },
     "metadata": {},
     "output_type": "display_data"
    }
   ],
   "source": [
    "show_sagital_slice_images(image_data, is_rigid=False)"
   ]
  },
  {
   "cell_type": "code",
   "execution_count": null,
   "metadata": {},
   "outputs": [],
   "source": [
    "show_sagital_slice_images(image_data)"
   ]
  },
  {
   "cell_type": "code",
   "execution_count": 16,
   "metadata": {},
   "outputs": [
    {
     "name": "stdout",
     "output_type": "stream",
     "text": [
      "9941446L_TP1\n"
     ]
    },
    {
     "data": {
      "application/vnd.jupyter.widget-view+json": {
       "model_id": "a2be4f96be8340b9ae4697b5cd03636e",
       "version_major": 2,
       "version_minor": 0
      },
      "text/plain": [
       "interactive(children=(IntSlider(value=191, description='image_z', max=383), FloatSlider(value=0.5, description…"
      ]
     },
     "metadata": {},
     "output_type": "display_data"
    },
    {
     "name": "stdout",
     "output_type": "stream",
     "text": [
      "9941446L_TP3\n"
     ]
    },
    {
     "data": {
      "application/vnd.jupyter.widget-view+json": {
       "model_id": "8f9c7106eafb4693bcb29a9ef2ed79b4",
       "version_major": 2,
       "version_minor": 0
      },
      "text/plain": [
       "interactive(children=(IntSlider(value=191, description='image_z', max=383), FloatSlider(value=0.5, description…"
      ]
     },
     "metadata": {},
     "output_type": "display_data"
    },
    {
     "name": "stdout",
     "output_type": "stream",
     "text": [
      "9941446L_TP6\n"
     ]
    },
    {
     "data": {
      "application/vnd.jupyter.widget-view+json": {
       "model_id": "eadda5322bf3444b9b2cfad0fc2d9715",
       "version_major": 2,
       "version_minor": 0
      },
      "text/plain": [
       "interactive(children=(IntSlider(value=191, description='image_z', max=383), FloatSlider(value=0.5, description…"
      ]
     },
     "metadata": {},
     "output_type": "display_data"
    },
    {
     "name": "stdout",
     "output_type": "stream",
     "text": [
      "9941446L_TP8\n"
     ]
    },
    {
     "data": {
      "application/vnd.jupyter.widget-view+json": {
       "model_id": "2799d9ad317b492a96b9ff83521b179c",
       "version_major": 2,
       "version_minor": 0
      },
      "text/plain": [
       "interactive(children=(IntSlider(value=191, description='image_z', max=383), FloatSlider(value=0.5, description…"
      ]
     },
     "metadata": {},
     "output_type": "display_data"
    },
    {
     "name": "stdout",
     "output_type": "stream",
     "text": [
      "9941446L_TP1\n"
     ]
    },
    {
     "data": {
      "application/vnd.jupyter.widget-view+json": {
       "model_id": "9e9186b4e7c14494a2b3ca768334c7c1",
       "version_major": 2,
       "version_minor": 0
      },
      "text/plain": [
       "interactive(children=(IntSlider(value=191, description='image_z', max=383), FloatSlider(value=0.5, description…"
      ]
     },
     "metadata": {},
     "output_type": "display_data"
    },
    {
     "name": "stdout",
     "output_type": "stream",
     "text": [
      "9941446R_TP1\n"
     ]
    },
    {
     "data": {
      "application/vnd.jupyter.widget-view+json": {
       "model_id": "2793f469290745588508c13f69d3ef27",
       "version_major": 2,
       "version_minor": 0
      },
      "text/plain": [
       "interactive(children=(IntSlider(value=191, description='image_z', max=383), FloatSlider(value=0.5, description…"
      ]
     },
     "metadata": {},
     "output_type": "display_data"
    },
    {
     "name": "stdout",
     "output_type": "stream",
     "text": [
      "9941446R_TP3\n"
     ]
    },
    {
     "data": {
      "application/vnd.jupyter.widget-view+json": {
       "model_id": "ca22b99225ad4ee29a1de5ae59ca4be8",
       "version_major": 2,
       "version_minor": 0
      },
      "text/plain": [
       "interactive(children=(IntSlider(value=191, description='image_z', max=383), FloatSlider(value=0.5, description…"
      ]
     },
     "metadata": {},
     "output_type": "display_data"
    },
    {
     "name": "stdout",
     "output_type": "stream",
     "text": [
      "9941446R_TP5\n"
     ]
    },
    {
     "data": {
      "application/vnd.jupyter.widget-view+json": {
       "model_id": "242d12107c124190b2107e647efa71ad",
       "version_major": 2,
       "version_minor": 0
      },
      "text/plain": [
       "interactive(children=(IntSlider(value=191, description='image_z', max=383), FloatSlider(value=0.5, description…"
      ]
     },
     "metadata": {},
     "output_type": "display_data"
    },
    {
     "name": "stdout",
     "output_type": "stream",
     "text": [
      "9941446R_TP6\n"
     ]
    },
    {
     "data": {
      "application/vnd.jupyter.widget-view+json": {
       "model_id": "c044d511602c47879de87f78e4759e7f",
       "version_major": 2,
       "version_minor": 0
      },
      "text/plain": [
       "interactive(children=(IntSlider(value=191, description='image_z', max=383), FloatSlider(value=0.5, description…"
      ]
     },
     "metadata": {},
     "output_type": "display_data"
    },
    {
     "name": "stdout",
     "output_type": "stream",
     "text": [
      "9941446R_TP8\n"
     ]
    },
    {
     "data": {
      "application/vnd.jupyter.widget-view+json": {
       "model_id": "2dd65febc33244c39ce76b3a99382371",
       "version_major": 2,
       "version_minor": 0
      },
      "text/plain": [
       "interactive(children=(IntSlider(value=191, description='image_z', max=383), FloatSlider(value=0.5, description…"
      ]
     },
     "metadata": {},
     "output_type": "display_data"
    },
    {
     "name": "stdout",
     "output_type": "stream",
     "text": [
      "9941446R_TP1\n"
     ]
    },
    {
     "data": {
      "application/vnd.jupyter.widget-view+json": {
       "model_id": "a5e2937c175b4c058a74aef34226a82e",
       "version_major": 2,
       "version_minor": 0
      },
      "text/plain": [
       "interactive(children=(IntSlider(value=191, description='image_z', max=383), FloatSlider(value=0.5, description…"
      ]
     },
     "metadata": {},
     "output_type": "display_data"
    },
    {
     "name": "stdout",
     "output_type": "stream",
     "text": [
      "9404954L_TP1\n"
     ]
    },
    {
     "data": {
      "application/vnd.jupyter.widget-view+json": {
       "model_id": "134faa77751f4fd7af4d05a2a127c76c",
       "version_major": 2,
       "version_minor": 0
      },
      "text/plain": [
       "interactive(children=(IntSlider(value=191, description='image_z', max=383), FloatSlider(value=0.5, description…"
      ]
     },
     "metadata": {},
     "output_type": "display_data"
    },
    {
     "name": "stdout",
     "output_type": "stream",
     "text": [
      "9404954L_TP3\n"
     ]
    },
    {
     "data": {
      "application/vnd.jupyter.widget-view+json": {
       "model_id": "12def11c460e49d497b91e9cc1ce3e56",
       "version_major": 2,
       "version_minor": 0
      },
      "text/plain": [
       "interactive(children=(IntSlider(value=191, description='image_z', max=383), FloatSlider(value=0.5, description…"
      ]
     },
     "metadata": {},
     "output_type": "display_data"
    },
    {
     "name": "stdout",
     "output_type": "stream",
     "text": [
      "9404954L_TP6\n"
     ]
    },
    {
     "data": {
      "application/vnd.jupyter.widget-view+json": {
       "model_id": "fce070b78bce4886b9881c3ad8dbe1bd",
       "version_major": 2,
       "version_minor": 0
      },
      "text/plain": [
       "interactive(children=(IntSlider(value=191, description='image_z', max=383), FloatSlider(value=0.5, description…"
      ]
     },
     "metadata": {},
     "output_type": "display_data"
    },
    {
     "name": "stdout",
     "output_type": "stream",
     "text": [
      "9404954L_TP8\n"
     ]
    },
    {
     "data": {
      "application/vnd.jupyter.widget-view+json": {
       "model_id": "ea5aa37fd1494a2bb009c21c4757b758",
       "version_major": 2,
       "version_minor": 0
      },
      "text/plain": [
       "interactive(children=(IntSlider(value=191, description='image_z', max=383), FloatSlider(value=0.5, description…"
      ]
     },
     "metadata": {},
     "output_type": "display_data"
    },
    {
     "name": "stdout",
     "output_type": "stream",
     "text": [
      "9404954L_TP1\n"
     ]
    },
    {
     "data": {
      "application/vnd.jupyter.widget-view+json": {
       "model_id": "4635f39950634e7ca00013a09d8d68a9",
       "version_major": 2,
       "version_minor": 0
      },
      "text/plain": [
       "interactive(children=(IntSlider(value=191, description='image_z', max=383), FloatSlider(value=0.5, description…"
      ]
     },
     "metadata": {},
     "output_type": "display_data"
    },
    {
     "name": "stdout",
     "output_type": "stream",
     "text": [
      "9404954R_TP1\n"
     ]
    },
    {
     "data": {
      "application/vnd.jupyter.widget-view+json": {
       "model_id": "f6e6b192f8b14f75a2092a3cf66fa452",
       "version_major": 2,
       "version_minor": 0
      },
      "text/plain": [
       "interactive(children=(IntSlider(value=191, description='image_z', max=383), FloatSlider(value=0.5, description…"
      ]
     },
     "metadata": {},
     "output_type": "display_data"
    },
    {
     "name": "stdout",
     "output_type": "stream",
     "text": [
      "9404954R_TP3\n"
     ]
    },
    {
     "data": {
      "application/vnd.jupyter.widget-view+json": {
       "model_id": "89c6e295e63940fbbf2f11d1dca14ade",
       "version_major": 2,
       "version_minor": 0
      },
      "text/plain": [
       "interactive(children=(IntSlider(value=191, description='image_z', max=383), FloatSlider(value=0.5, description…"
      ]
     },
     "metadata": {},
     "output_type": "display_data"
    },
    {
     "name": "stdout",
     "output_type": "stream",
     "text": [
      "9404954R_TP4\n"
     ]
    },
    {
     "data": {
      "application/vnd.jupyter.widget-view+json": {
       "model_id": "b842a978d855430eb0ad632e3ef3b12b",
       "version_major": 2,
       "version_minor": 0
      },
      "text/plain": [
       "interactive(children=(IntSlider(value=191, description='image_z', max=383), FloatSlider(value=0.5, description…"
      ]
     },
     "metadata": {},
     "output_type": "display_data"
    },
    {
     "name": "stdout",
     "output_type": "stream",
     "text": [
      "9404954R_TP5\n"
     ]
    },
    {
     "data": {
      "application/vnd.jupyter.widget-view+json": {
       "model_id": "a0910d6c85a74b7ca75fdf6b16eb9ac2",
       "version_major": 2,
       "version_minor": 0
      },
      "text/plain": [
       "interactive(children=(IntSlider(value=191, description='image_z', max=383), FloatSlider(value=0.5, description…"
      ]
     },
     "metadata": {},
     "output_type": "display_data"
    },
    {
     "name": "stdout",
     "output_type": "stream",
     "text": [
      "9404954R_TP6\n"
     ]
    },
    {
     "data": {
      "application/vnd.jupyter.widget-view+json": {
       "model_id": "048f6553f4434715b71677eab2d83264",
       "version_major": 2,
       "version_minor": 0
      },
      "text/plain": [
       "interactive(children=(IntSlider(value=191, description='image_z', max=383), FloatSlider(value=0.5, description…"
      ]
     },
     "metadata": {},
     "output_type": "display_data"
    },
    {
     "name": "stdout",
     "output_type": "stream",
     "text": [
      "9404954R_TP8\n"
     ]
    },
    {
     "data": {
      "application/vnd.jupyter.widget-view+json": {
       "model_id": "0ebc1d92d34641ce91e81a3eca0cfbcf",
       "version_major": 2,
       "version_minor": 0
      },
      "text/plain": [
       "interactive(children=(IntSlider(value=191, description='image_z', max=383), FloatSlider(value=0.5, description…"
      ]
     },
     "metadata": {},
     "output_type": "display_data"
    },
    {
     "name": "stdout",
     "output_type": "stream",
     "text": [
      "9404954R_TP1\n"
     ]
    },
    {
     "data": {
      "application/vnd.jupyter.widget-view+json": {
       "model_id": "fe64517ab2304fee86eee2a98224b1cc",
       "version_major": 2,
       "version_minor": 0
      },
      "text/plain": [
       "interactive(children=(IntSlider(value=191, description='image_z', max=383), FloatSlider(value=0.5, description…"
      ]
     },
     "metadata": {},
     "output_type": "display_data"
    },
    {
     "name": "stdout",
     "output_type": "stream",
     "text": [
      "9942030L_TP1\n"
     ]
    },
    {
     "data": {
      "application/vnd.jupyter.widget-view+json": {
       "model_id": "6c7b2944a3324224a4dd54d203c101c4",
       "version_major": 2,
       "version_minor": 0
      },
      "text/plain": [
       "interactive(children=(IntSlider(value=191, description='image_z', max=383), FloatSlider(value=0.5, description…"
      ]
     },
     "metadata": {},
     "output_type": "display_data"
    },
    {
     "name": "stdout",
     "output_type": "stream",
     "text": [
      "9942030L_TP3\n"
     ]
    },
    {
     "data": {
      "application/vnd.jupyter.widget-view+json": {
       "model_id": "68db0ef86b4e47a0a7cabb97d0b30fe4",
       "version_major": 2,
       "version_minor": 0
      },
      "text/plain": [
       "interactive(children=(IntSlider(value=191, description='image_z', max=383), FloatSlider(value=0.5, description…"
      ]
     },
     "metadata": {},
     "output_type": "display_data"
    },
    {
     "name": "stdout",
     "output_type": "stream",
     "text": [
      "9942030L_TP5\n"
     ]
    },
    {
     "data": {
      "application/vnd.jupyter.widget-view+json": {
       "model_id": "523f6262ed3d4594a2df8514a6618939",
       "version_major": 2,
       "version_minor": 0
      },
      "text/plain": [
       "interactive(children=(IntSlider(value=191, description='image_z', max=383), FloatSlider(value=0.5, description…"
      ]
     },
     "metadata": {},
     "output_type": "display_data"
    },
    {
     "name": "stdout",
     "output_type": "stream",
     "text": [
      "9942030L_TP6\n"
     ]
    },
    {
     "data": {
      "application/vnd.jupyter.widget-view+json": {
       "model_id": "2c702931f5bb489cabae7efdb5af30fd",
       "version_major": 2,
       "version_minor": 0
      },
      "text/plain": [
       "interactive(children=(IntSlider(value=191, description='image_z', max=383), FloatSlider(value=0.5, description…"
      ]
     },
     "metadata": {},
     "output_type": "display_data"
    },
    {
     "name": "stdout",
     "output_type": "stream",
     "text": [
      "9942030R_TP1\n"
     ]
    },
    {
     "data": {
      "application/vnd.jupyter.widget-view+json": {
       "model_id": "7985eae8ea01488fb67e798c593961cd",
       "version_major": 2,
       "version_minor": 0
      },
      "text/plain": [
       "interactive(children=(IntSlider(value=191, description='image_z', max=383), FloatSlider(value=0.5, description…"
      ]
     },
     "metadata": {},
     "output_type": "display_data"
    },
    {
     "name": "stdout",
     "output_type": "stream",
     "text": [
      "9942030R_TP3\n"
     ]
    },
    {
     "data": {
      "application/vnd.jupyter.widget-view+json": {
       "model_id": "44b42f4c84134d0eb95deae60f2ac8a4",
       "version_major": 2,
       "version_minor": 0
      },
      "text/plain": [
       "interactive(children=(IntSlider(value=191, description='image_z', max=383), FloatSlider(value=0.5, description…"
      ]
     },
     "metadata": {},
     "output_type": "display_data"
    },
    {
     "name": "stdout",
     "output_type": "stream",
     "text": [
      "9942030R_TP5\n"
     ]
    },
    {
     "data": {
      "application/vnd.jupyter.widget-view+json": {
       "model_id": "27a4aa186f0640faa9d1bd8341aa3072",
       "version_major": 2,
       "version_minor": 0
      },
      "text/plain": [
       "interactive(children=(IntSlider(value=191, description='image_z', max=383), FloatSlider(value=0.5, description…"
      ]
     },
     "metadata": {},
     "output_type": "display_data"
    },
    {
     "name": "stdout",
     "output_type": "stream",
     "text": [
      "9942030R_TP6\n"
     ]
    },
    {
     "data": {
      "application/vnd.jupyter.widget-view+json": {
       "model_id": "5b7dcbb711ad40f48b9bbf13c885a927",
       "version_major": 2,
       "version_minor": 0
      },
      "text/plain": [
       "interactive(children=(IntSlider(value=191, description='image_z', max=383), FloatSlider(value=0.5, description…"
      ]
     },
     "metadata": {},
     "output_type": "display_data"
    }
   ],
   "source": [
    "# rigid_only\n",
    "show_sagital_slice_images(image_data, is_rigid=True)"
   ]
  },
  {
   "cell_type": "code",
   "execution_count": null,
   "metadata": {},
   "outputs": [],
   "source": [
    "# 9404954L TP3, 6, 8, 10"
   ]
  },
  {
   "cell_type": "code",
   "execution_count": 26,
   "metadata": {},
   "outputs": [
    {
     "name": "stdout",
     "output_type": "stream",
     "text": [
      "9189303L_TP1\n"
     ]
    },
    {
     "data": {
      "application/vnd.jupyter.widget-view+json": {
       "model_id": "d623f28a0e7c4cbdb6c97b674e3150d8",
       "version_major": 2,
       "version_minor": 0
      },
      "text/plain": [
       "interactive(children=(IntSlider(value=191, description='image_z', max=383), FloatSlider(value=0.5, description…"
      ]
     },
     "metadata": {},
     "output_type": "display_data"
    },
    {
     "name": "stdout",
     "output_type": "stream",
     "text": [
      "9189303R_TP1\n"
     ]
    },
    {
     "data": {
      "application/vnd.jupyter.widget-view+json": {
       "model_id": "9c338c82085b4810a220113e60f438ef",
       "version_major": 2,
       "version_minor": 0
      },
      "text/plain": [
       "interactive(children=(IntSlider(value=191, description='image_z', max=383), FloatSlider(value=0.5, description…"
      ]
     },
     "metadata": {},
     "output_type": "display_data"
    },
    {
     "name": "stdout",
     "output_type": "stream",
     "text": [
      "9189303R_TP3\n"
     ]
    },
    {
     "data": {
      "application/vnd.jupyter.widget-view+json": {
       "model_id": "7bd256941d4f40749e44a321bfcf4c89",
       "version_major": 2,
       "version_minor": 0
      },
      "text/plain": [
       "interactive(children=(IntSlider(value=191, description='image_z', max=383), FloatSlider(value=0.5, description…"
      ]
     },
     "metadata": {},
     "output_type": "display_data"
    },
    {
     "name": "stdout",
     "output_type": "stream",
     "text": [
      "9189303R_TP5\n"
     ]
    },
    {
     "data": {
      "application/vnd.jupyter.widget-view+json": {
       "model_id": "cee6d66c11ee4fadb6cb0a5f5bc5bae6",
       "version_major": 2,
       "version_minor": 0
      },
      "text/plain": [
       "interactive(children=(IntSlider(value=191, description='image_z', max=383), FloatSlider(value=0.5, description…"
      ]
     },
     "metadata": {},
     "output_type": "display_data"
    },
    {
     "name": "stdout",
     "output_type": "stream",
     "text": [
      "9189303R_TP6\n"
     ]
    },
    {
     "data": {
      "application/vnd.jupyter.widget-view+json": {
       "model_id": "8deebc447ead4cc096eb8e8b21d76829",
       "version_major": 2,
       "version_minor": 0
      },
      "text/plain": [
       "interactive(children=(IntSlider(value=191, description='image_z', max=383), FloatSlider(value=0.5, description…"
      ]
     },
     "metadata": {},
     "output_type": "display_data"
    },
    {
     "name": "stdout",
     "output_type": "stream",
     "text": [
      "9189303R_TP8\n"
     ]
    },
    {
     "data": {
      "application/vnd.jupyter.widget-view+json": {
       "model_id": "d6cf9f544aee48f7a068f275f3a2b418",
       "version_major": 2,
       "version_minor": 0
      },
      "text/plain": [
       "interactive(children=(IntSlider(value=191, description='image_z', max=383), FloatSlider(value=0.5, description…"
      ]
     },
     "metadata": {},
     "output_type": "display_data"
    },
    {
     "name": "stdout",
     "output_type": "stream",
     "text": [
      "9939718L_TP1\n"
     ]
    },
    {
     "data": {
      "application/vnd.jupyter.widget-view+json": {
       "model_id": "bff3ba83336b4f61a53c6a46a9ffb832",
       "version_major": 2,
       "version_minor": 0
      },
      "text/plain": [
       "interactive(children=(IntSlider(value=191, description='image_z', max=383), FloatSlider(value=0.5, description…"
      ]
     },
     "metadata": {},
     "output_type": "display_data"
    },
    {
     "name": "stdout",
     "output_type": "stream",
     "text": [
      "9939718L_TP3\n"
     ]
    },
    {
     "data": {
      "application/vnd.jupyter.widget-view+json": {
       "model_id": "dd6ff3c0813b490f95d2643d98c47b25",
       "version_major": 2,
       "version_minor": 0
      },
      "text/plain": [
       "interactive(children=(IntSlider(value=191, description='image_z', max=383), FloatSlider(value=0.5, description…"
      ]
     },
     "metadata": {},
     "output_type": "display_data"
    },
    {
     "name": "stdout",
     "output_type": "stream",
     "text": [
      "9939718L_TP5\n"
     ]
    },
    {
     "data": {
      "application/vnd.jupyter.widget-view+json": {
       "model_id": "8c73f22e4d314b6c8ffb1aac3698eb49",
       "version_major": 2,
       "version_minor": 0
      },
      "text/plain": [
       "interactive(children=(IntSlider(value=191, description='image_z', max=383), FloatSlider(value=0.5, description…"
      ]
     },
     "metadata": {},
     "output_type": "display_data"
    },
    {
     "name": "stdout",
     "output_type": "stream",
     "text": [
      "9939718L_TP6\n"
     ]
    },
    {
     "data": {
      "application/vnd.jupyter.widget-view+json": {
       "model_id": "5aeaa75fd3aa42c3a2230871a4b51de4",
       "version_major": 2,
       "version_minor": 0
      },
      "text/plain": [
       "interactive(children=(IntSlider(value=191, description='image_z', max=383), FloatSlider(value=0.5, description…"
      ]
     },
     "metadata": {},
     "output_type": "display_data"
    },
    {
     "name": "stdout",
     "output_type": "stream",
     "text": [
      "9939718L_TP8\n"
     ]
    },
    {
     "data": {
      "application/vnd.jupyter.widget-view+json": {
       "model_id": "64967705118248f7822e21ce09e0c523",
       "version_major": 2,
       "version_minor": 0
      },
      "text/plain": [
       "interactive(children=(IntSlider(value=191, description='image_z', max=383), FloatSlider(value=0.5, description…"
      ]
     },
     "metadata": {},
     "output_type": "display_data"
    },
    {
     "name": "stdout",
     "output_type": "stream",
     "text": [
      "9939718L_TP1\n"
     ]
    },
    {
     "data": {
      "application/vnd.jupyter.widget-view+json": {
       "model_id": "7c6675d1e13f4e2ebc9ec147268dc8ae",
       "version_major": 2,
       "version_minor": 0
      },
      "text/plain": [
       "interactive(children=(IntSlider(value=191, description='image_z', max=383), FloatSlider(value=0.5, description…"
      ]
     },
     "metadata": {},
     "output_type": "display_data"
    },
    {
     "name": "stdout",
     "output_type": "stream",
     "text": [
      "9939718R_TP1\n"
     ]
    },
    {
     "data": {
      "application/vnd.jupyter.widget-view+json": {
       "model_id": "085bf5449f6d46f78588392ee139bfe9",
       "version_major": 2,
       "version_minor": 0
      },
      "text/plain": [
       "interactive(children=(IntSlider(value=191, description='image_z', max=383), FloatSlider(value=0.5, description…"
      ]
     },
     "metadata": {},
     "output_type": "display_data"
    },
    {
     "name": "stdout",
     "output_type": "stream",
     "text": [
      "9939718R_TP2\n"
     ]
    },
    {
     "data": {
      "application/vnd.jupyter.widget-view+json": {
       "model_id": "087c001d5be5407386b8870ea9ba0586",
       "version_major": 2,
       "version_minor": 0
      },
      "text/plain": [
       "interactive(children=(IntSlider(value=191, description='image_z', max=383), FloatSlider(value=0.5, description…"
      ]
     },
     "metadata": {},
     "output_type": "display_data"
    },
    {
     "name": "stdout",
     "output_type": "stream",
     "text": [
      "9939718R_TP3\n"
     ]
    },
    {
     "data": {
      "application/vnd.jupyter.widget-view+json": {
       "model_id": "8e7b0990014640f1815bc57f8d84e4f4",
       "version_major": 2,
       "version_minor": 0
      },
      "text/plain": [
       "interactive(children=(IntSlider(value=191, description='image_z', max=383), FloatSlider(value=0.5, description…"
      ]
     },
     "metadata": {},
     "output_type": "display_data"
    },
    {
     "name": "stdout",
     "output_type": "stream",
     "text": [
      "9939718R_TP5\n"
     ]
    },
    {
     "data": {
      "application/vnd.jupyter.widget-view+json": {
       "model_id": "9b696edb63c941a6acc7fc68480c0b80",
       "version_major": 2,
       "version_minor": 0
      },
      "text/plain": [
       "interactive(children=(IntSlider(value=191, description='image_z', max=383), FloatSlider(value=0.5, description…"
      ]
     },
     "metadata": {},
     "output_type": "display_data"
    },
    {
     "name": "stdout",
     "output_type": "stream",
     "text": [
      "9939718R_TP6\n"
     ]
    },
    {
     "data": {
      "application/vnd.jupyter.widget-view+json": {
       "model_id": "35d67ece6cb14dd6a06e2bceda129d62",
       "version_major": 2,
       "version_minor": 0
      },
      "text/plain": [
       "interactive(children=(IntSlider(value=191, description='image_z', max=383), FloatSlider(value=0.5, description…"
      ]
     },
     "metadata": {},
     "output_type": "display_data"
    },
    {
     "name": "stdout",
     "output_type": "stream",
     "text": [
      "9939718R_TP8\n"
     ]
    },
    {
     "data": {
      "application/vnd.jupyter.widget-view+json": {
       "model_id": "e8b07ba94f3a4e24b656db1d23f2caae",
       "version_major": 2,
       "version_minor": 0
      },
      "text/plain": [
       "interactive(children=(IntSlider(value=191, description='image_z', max=383), FloatSlider(value=0.5, description…"
      ]
     },
     "metadata": {},
     "output_type": "display_data"
    },
    {
     "name": "stdout",
     "output_type": "stream",
     "text": [
      "9939718R_TP1\n"
     ]
    },
    {
     "data": {
      "application/vnd.jupyter.widget-view+json": {
       "model_id": "17f47ef76d924a939fecb143a218f0b5",
       "version_major": 2,
       "version_minor": 0
      },
      "text/plain": [
       "interactive(children=(IntSlider(value=191, description='image_z', max=383), FloatSlider(value=0.5, description…"
      ]
     },
     "metadata": {},
     "output_type": "display_data"
    },
    {
     "name": "stdout",
     "output_type": "stream",
     "text": [
      "9941231L_TP1\n"
     ]
    },
    {
     "data": {
      "application/vnd.jupyter.widget-view+json": {
       "model_id": "3a409d56523348f5aed6aab50b2c6f17",
       "version_major": 2,
       "version_minor": 0
      },
      "text/plain": [
       "interactive(children=(IntSlider(value=191, description='image_z', max=383), FloatSlider(value=0.5, description…"
      ]
     },
     "metadata": {},
     "output_type": "display_data"
    },
    {
     "name": "stdout",
     "output_type": "stream",
     "text": [
      "9941231L_TP3\n"
     ]
    },
    {
     "data": {
      "application/vnd.jupyter.widget-view+json": {
       "model_id": "ffdf97a70be341099ae874298c9217e9",
       "version_major": 2,
       "version_minor": 0
      },
      "text/plain": [
       "interactive(children=(IntSlider(value=191, description='image_z', max=383), FloatSlider(value=0.5, description…"
      ]
     },
     "metadata": {},
     "output_type": "display_data"
    },
    {
     "name": "stdout",
     "output_type": "stream",
     "text": [
      "9941231L_TP5\n"
     ]
    },
    {
     "data": {
      "application/vnd.jupyter.widget-view+json": {
       "model_id": "f414256256964136b91c395e2cf2da84",
       "version_major": 2,
       "version_minor": 0
      },
      "text/plain": [
       "interactive(children=(IntSlider(value=191, description='image_z', max=383), FloatSlider(value=0.5, description…"
      ]
     },
     "metadata": {},
     "output_type": "display_data"
    },
    {
     "name": "stdout",
     "output_type": "stream",
     "text": [
      "9941231L_TP6\n"
     ]
    },
    {
     "data": {
      "application/vnd.jupyter.widget-view+json": {
       "model_id": "7d40fa00f51249c8b037c159180756a8",
       "version_major": 2,
       "version_minor": 0
      },
      "text/plain": [
       "interactive(children=(IntSlider(value=191, description='image_z', max=383), FloatSlider(value=0.5, description…"
      ]
     },
     "metadata": {},
     "output_type": "display_data"
    },
    {
     "name": "stdout",
     "output_type": "stream",
     "text": [
      "9941231L_TP8\n"
     ]
    },
    {
     "data": {
      "application/vnd.jupyter.widget-view+json": {
       "model_id": "7cfdf7650a4549819ec72d10fa36b09b",
       "version_major": 2,
       "version_minor": 0
      },
      "text/plain": [
       "interactive(children=(IntSlider(value=191, description='image_z', max=383), FloatSlider(value=0.5, description…"
      ]
     },
     "metadata": {},
     "output_type": "display_data"
    },
    {
     "name": "stdout",
     "output_type": "stream",
     "text": [
      "9941231L_TP1\n"
     ]
    },
    {
     "data": {
      "application/vnd.jupyter.widget-view+json": {
       "model_id": "016e14372e1f473dabab63e427343f52",
       "version_major": 2,
       "version_minor": 0
      },
      "text/plain": [
       "interactive(children=(IntSlider(value=191, description='image_z', max=383), FloatSlider(value=0.5, description…"
      ]
     },
     "metadata": {},
     "output_type": "display_data"
    },
    {
     "name": "stdout",
     "output_type": "stream",
     "text": [
      "9941231R_TP1\n"
     ]
    },
    {
     "data": {
      "application/vnd.jupyter.widget-view+json": {
       "model_id": "f01f4fda33944bf3870217d9e96c52fd",
       "version_major": 2,
       "version_minor": 0
      },
      "text/plain": [
       "interactive(children=(IntSlider(value=191, description='image_z', max=383), FloatSlider(value=0.5, description…"
      ]
     },
     "metadata": {},
     "output_type": "display_data"
    },
    {
     "name": "stdout",
     "output_type": "stream",
     "text": [
      "9941231R_TP3\n"
     ]
    },
    {
     "data": {
      "application/vnd.jupyter.widget-view+json": {
       "model_id": "5f4efd890998411a92c2015ce34262fa",
       "version_major": 2,
       "version_minor": 0
      },
      "text/plain": [
       "interactive(children=(IntSlider(value=191, description='image_z', max=383), FloatSlider(value=0.5, description…"
      ]
     },
     "metadata": {},
     "output_type": "display_data"
    },
    {
     "name": "stdout",
     "output_type": "stream",
     "text": [
      "9941231R_TP5\n"
     ]
    },
    {
     "data": {
      "application/vnd.jupyter.widget-view+json": {
       "model_id": "43db5c0f4fad4be68869bd844cb7c033",
       "version_major": 2,
       "version_minor": 0
      },
      "text/plain": [
       "interactive(children=(IntSlider(value=191, description='image_z', max=383), FloatSlider(value=0.5, description…"
      ]
     },
     "metadata": {},
     "output_type": "display_data"
    },
    {
     "name": "stdout",
     "output_type": "stream",
     "text": [
      "9941231R_TP6\n"
     ]
    },
    {
     "data": {
      "application/vnd.jupyter.widget-view+json": {
       "model_id": "8083d2bb549c4af2b7f423ee1c2c5390",
       "version_major": 2,
       "version_minor": 0
      },
      "text/plain": [
       "interactive(children=(IntSlider(value=191, description='image_z', max=383), FloatSlider(value=0.5, description…"
      ]
     },
     "metadata": {},
     "output_type": "display_data"
    },
    {
     "name": "stdout",
     "output_type": "stream",
     "text": [
      "9942724L_TP1\n"
     ]
    },
    {
     "data": {
      "application/vnd.jupyter.widget-view+json": {
       "model_id": "94480129e3104b1bacf47e70a29e5c12",
       "version_major": 2,
       "version_minor": 0
      },
      "text/plain": [
       "interactive(children=(IntSlider(value=191, description='image_z', max=383), FloatSlider(value=0.5, description…"
      ]
     },
     "metadata": {},
     "output_type": "display_data"
    },
    {
     "name": "stdout",
     "output_type": "stream",
     "text": [
      "9942724L_TP3\n"
     ]
    },
    {
     "data": {
      "application/vnd.jupyter.widget-view+json": {
       "model_id": "32392465ab3a4645886cfb97c0cb0f32",
       "version_major": 2,
       "version_minor": 0
      },
      "text/plain": [
       "interactive(children=(IntSlider(value=191, description='image_z', max=383), FloatSlider(value=0.5, description…"
      ]
     },
     "metadata": {},
     "output_type": "display_data"
    },
    {
     "name": "stdout",
     "output_type": "stream",
     "text": [
      "9942724L_TP6\n"
     ]
    },
    {
     "data": {
      "application/vnd.jupyter.widget-view+json": {
       "model_id": "c0c2f91b45634d419e146f8d25a79d7d",
       "version_major": 2,
       "version_minor": 0
      },
      "text/plain": [
       "interactive(children=(IntSlider(value=191, description='image_z', max=383), FloatSlider(value=0.5, description…"
      ]
     },
     "metadata": {},
     "output_type": "display_data"
    },
    {
     "name": "stdout",
     "output_type": "stream",
     "text": [
      "9942724L_TP1\n"
     ]
    },
    {
     "data": {
      "application/vnd.jupyter.widget-view+json": {
       "model_id": "b6793cebf04c4557a76774c54ea7c024",
       "version_major": 2,
       "version_minor": 0
      },
      "text/plain": [
       "interactive(children=(IntSlider(value=191, description='image_z', max=383), FloatSlider(value=0.5, description…"
      ]
     },
     "metadata": {},
     "output_type": "display_data"
    },
    {
     "name": "stdout",
     "output_type": "stream",
     "text": [
      "9942724R_TP1\n"
     ]
    },
    {
     "data": {
      "application/vnd.jupyter.widget-view+json": {
       "model_id": "e75ce0cb70594533818155e353c08efa",
       "version_major": 2,
       "version_minor": 0
      },
      "text/plain": [
       "interactive(children=(IntSlider(value=191, description='image_z', max=383), FloatSlider(value=0.5, description…"
      ]
     },
     "metadata": {},
     "output_type": "display_data"
    },
    {
     "name": "stdout",
     "output_type": "stream",
     "text": [
      "9942724R_TP3\n"
     ]
    },
    {
     "data": {
      "application/vnd.jupyter.widget-view+json": {
       "model_id": "c3253dd3973244268bb7518a8143728c",
       "version_major": 2,
       "version_minor": 0
      },
      "text/plain": [
       "interactive(children=(IntSlider(value=191, description='image_z', max=383), FloatSlider(value=0.5, description…"
      ]
     },
     "metadata": {},
     "output_type": "display_data"
    },
    {
     "name": "stdout",
     "output_type": "stream",
     "text": [
      "9942724R_TP5\n"
     ]
    },
    {
     "data": {
      "application/vnd.jupyter.widget-view+json": {
       "model_id": "ba1f38ac5c76451c8d0b4d60f61e2f2e",
       "version_major": 2,
       "version_minor": 0
      },
      "text/plain": [
       "interactive(children=(IntSlider(value=191, description='image_z', max=383), FloatSlider(value=0.5, description…"
      ]
     },
     "metadata": {},
     "output_type": "display_data"
    },
    {
     "name": "stdout",
     "output_type": "stream",
     "text": [
      "9942724R_TP6\n"
     ]
    },
    {
     "data": {
      "application/vnd.jupyter.widget-view+json": {
       "model_id": "d990c76a56c5428b930157fcdeccc90d",
       "version_major": 2,
       "version_minor": 0
      },
      "text/plain": [
       "interactive(children=(IntSlider(value=191, description='image_z', max=383), FloatSlider(value=0.5, description…"
      ]
     },
     "metadata": {},
     "output_type": "display_data"
    },
    {
     "name": "stdout",
     "output_type": "stream",
     "text": [
      "9942724R_TP1\n"
     ]
    },
    {
     "data": {
      "application/vnd.jupyter.widget-view+json": {
       "model_id": "b907012289824f88ba0ffc440f87d036",
       "version_major": 2,
       "version_minor": 0
      },
      "text/plain": [
       "interactive(children=(IntSlider(value=191, description='image_z', max=383), FloatSlider(value=0.5, description…"
      ]
     },
     "metadata": {},
     "output_type": "display_data"
    }
   ],
   "source": [
    "show_sagital_slice_images(image_data)"
   ]
  },
  {
   "cell_type": "code",
   "execution_count": null,
   "metadata": {},
   "outputs": [],
   "source": [
    "# 9939718L_TP10 9941231L_TP10 9942724L_TP10 9942724R_TP10"
   ]
  },
  {
   "cell_type": "code",
   "execution_count": null,
   "metadata": {},
   "outputs": [],
   "source": [
    "#9941231R_TP5, 9941231R_TP6, 9941231L_TP1, 9939718R_TP3, 5, 6"
   ]
  },
  {
   "cell_type": "code",
   "execution_count": null,
   "metadata": {},
   "outputs": [],
   "source": []
  },
  {
   "cell_type": "code",
   "execution_count": null,
   "metadata": {},
   "outputs": [],
   "source": [
    "def computeQualityMeasures(lP,lT):\n",
    "    quality=dict()\n",
    "#     labelPred=sitk.GetImageFromArray(lP, isVector=False)\n",
    "#     labelTrue=sitk.GetImageFromArray(lT, isVector=False)\n",
    "    labelPred = lP\n",
    "    labelTrue = lT\n",
    "    hausdorffcomputer=sitk.HausdorffDistanceImageFilter()\n",
    "    hausdorffcomputer.Execute(labelTrue>0.5,labelPred>0.5)\n",
    "    quality[\"avgHausdorff\"]=hausdorffcomputer.GetAverageHausdorffDistance()\n",
    "    quality[\"Hausdorff\"]=hausdorffcomputer.GetHausdorffDistance()\n",
    " \n",
    "    dicecomputer=sitk.LabelOverlapMeasuresImageFilter()\n",
    "    dicecomputer.Execute(labelTrue>0.5,labelPred>0.5)\n",
    "    quality[\"dice\"]=dicecomputer.GetDiceCoefficient()\n",
    " \n",
    "    return quality"
   ]
  },
  {
   "cell_type": "code",
   "execution_count": null,
   "metadata": {},
   "outputs": [],
   "source": []
  },
  {
   "cell_type": "code",
   "execution_count": null,
   "metadata": {},
   "outputs": [],
   "source": []
  },
  {
   "cell_type": "code",
   "execution_count": null,
   "metadata": {},
   "outputs": [],
   "source": []
  },
  {
   "cell_type": "code",
   "execution_count": null,
   "metadata": {},
   "outputs": [],
   "source": []
  },
  {
   "cell_type": "code",
   "execution_count": 50,
   "metadata": {},
   "outputs": [],
   "source": [
    "def tmp_resample(fixed_image, reference):\n",
    "    isoresample = sitk.ResampleImageFilter()\n",
    "    isoresample.SetInterpolator(sitk.sitkBSpline)\n",
    "    isoresample.SetOutputDirection(fixed_image.GetDirection())\n",
    "    isoresample.SetOutputOrigin(fixed_image.GetOrigin())\n",
    "    orig_spacing = fixed_image.GetSpacing()\n",
    "    new_spacing = (orig_spacing[0],orig_spacing[0],orig_spacing[0])\n",
    "    isoresample.SetOutputSpacing(new_spacing)\n",
    "    orig_size = np.array(fixed_image.GetSize(), dtype=np.int)    \n",
    "    new_size = orig_size.copy()\n",
    "    new_size[2] = int(orig_size[2]*(orig_spacing[2]/orig_spacing[0])+0.5)\n",
    "    new_size = [int(s) for s in new_size]\n",
    "    print(orig_size, new_size)\n",
    "    isoresample.SetSize(new_size)\n",
    "    return isoresample.Execute(fixed_image)"
   ]
  },
  {
   "cell_type": "code",
   "execution_count": 29,
   "metadata": {},
   "outputs": [],
   "source": [
    "def show_registered_images(find_str): \n",
    "    path = 'C:\\\\Zhixuan\\\\OAI-registration\\\\pyKNEEr-yg\\\\registered\\\\'\n",
    "    file_path_list = []\n",
    "    reference = sitk.ReadImage(path+find_str+\"_TP0_prep\\\\f_rigid.mha\")\n",
    "    for file in os.listdir(path):\n",
    "        if find_str in file:\n",
    "            file_path_list.append(file)\n",
    "    i = 1\n",
    "    # Create a figure with two subplots and the specified size.\n",
    "    plt.subplots(len(file_path_list), 1,figsize=(25,20))\n",
    "    for tmp_path in file_path_list:\n",
    "        result_file_name              = path + tmp_path + '\\\\f_rigid.mha'\n",
    "#         mask_file_name                = image_data[\"segmented_folder\"] + image_data[anatomy + \"mask\"]\n",
    "\n",
    "        # read the images\n",
    "        result = sitk.ReadImage(result_file_name)\n",
    "#         mask   = sitk.ReadImage(mask_file_name)\n",
    "\n",
    "        # images from simpleitk to numpy\n",
    "    #     result_py = sitk.GetArrayFromImage(result)\n",
    "    #         mask_py   = sitk.GetArrayFromImage(mask)\n",
    "        pos1 = tmp_path.find('TP', 0)\n",
    "        pos2 = tmp_path.find('_', pos1)\n",
    "        tp = tmp_path[pos1:pos2]\n",
    "        if tp != 'TP0':\n",
    "            result = resample_image(result)\n",
    "        \n",
    "            \n",
    "        show_sagittal_images(result, len(file_path_list), i, tp)\n",
    "        i = i + 1\n",
    "    plt.show() \n",
    "\n",
    "# show_registered_images('9939718R')"
   ]
  },
  {
   "cell_type": "code",
   "execution_count": 30,
   "metadata": {},
   "outputs": [],
   "source": [
    "def display_sagittal_images(fixed_image, moving_image):\n",
    "    # Create a figure with two subplots and the specified size.\n",
    "    plt.subplots(1,2,figsize=(10,8))\n",
    "    \n",
    "    fixed_npa = sitk.GetArrayViewFromImage(fixed_image)\n",
    "    moving_npa = sitk.GetArrayViewFromImage(moving_image)\n",
    "    size = np.size(fixed_npa, 2)\n",
    "    # Draw the fixed image in the first subplot.\n",
    "    plt.subplot(1,2,1)\n",
    "    plt.imshow(fixed_npa[:,:,size//2],cmap=plt.cm.Greys_r);\n",
    "    plt.title('fixed image')\n",
    "    plt.axis('off')\n",
    "    \n",
    "    # Draw the moving image in the second subplot.\n",
    "    plt.subplot(1,2,2)\n",
    "    plt.imshow(moving_npa[:,:,size//2],cmap=plt.cm.Greys_r);\n",
    "    plt.title('moving image')\n",
    "    plt.axis('off')\n",
    "    \n",
    "    plt.show() "
   ]
  },
  {
   "cell_type": "code",
   "execution_count": null,
   "metadata": {},
   "outputs": [],
   "source": []
  }
 ],
 "metadata": {
  "kernelspec": {
   "display_name": "Python [conda env:OAIreg] *",
   "language": "python",
   "name": "conda-env-OAIreg-py"
  },
  "language_info": {
   "codemirror_mode": {
    "name": "ipython",
    "version": 3
   },
   "file_extension": ".py",
   "mimetype": "text/x-python",
   "name": "python",
   "nbconvert_exporter": "python",
   "pygments_lexer": "ipython3",
   "version": "3.7.7"
  }
 },
 "nbformat": 4,
 "nbformat_minor": 4
}
