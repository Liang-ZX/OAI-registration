{
 "cells": [
  {
   "cell_type": "code",
   "execution_count": 1,
   "metadata": {},
   "outputs": [],
   "source": [
    "import sys\n",
    "import importlib\n",
    "sys.path.append(r'../../pykneer')\n",
    "sys.path.append(r'../pykneer')\n",
    "import pykneer_io as io\n",
    "importlib.reload(io)\n",
    "import preprocessing_for_nb as prep\n",
    "importlib.reload(prep)\n",
    "import segmentation_sa_for_nb as segm\n",
    "importlib.reload(segm)\n",
    "\n",
    "import SimpleITK as sitk\n",
    "import matplotlib.pyplot as plt\n",
    "\n",
    "from preparing_images import prepare_image_and_list"
   ]
  },
  {
   "cell_type": "code",
   "execution_count": 17,
   "metadata": {},
   "outputs": [
    {
     "name": "stdout",
     "output_type": "stream",
     "text": [
      "ahaknee0tp29  exist\n",
      "dcm path for TPid 0 Z:/OAI Baseline/ge0/9189303/10397606\n",
      "Loading QVJ Y:/0tp29\\cascade/0/9189303/10397606L\\E10397606L_L.QVJ\n",
      "Adding QVS E10397606LS101_L.QVS\n",
      "ahaknee12tp29  exist\n",
      "dcm path for TPid 1 Z:/OAI 12 Months/2.C.2/9189303/20060522/11151205\n",
      "Loading QVJ Y:/12tp29\\cascade/12/9189303/20060522L\\E20060522L_L.QVJ\n",
      "Adding QVS E20060522LS101_L.QVS\n",
      "ahaknee18tp29  exist\n",
      "cannot find dcm path for TPid 2\n",
      "ahaknee24tp29  exist\n",
      "cannot find dcm path for TPid 3\n",
      "ahaknee30tp29  exist\n",
      "cannot find dcm path for TPid 4\n",
      "ahaknee36tp29  exist\n",
      "cannot find dcm path for TPid 5\n",
      "ahaknee48tp29  exist\n",
      "cannot find dcm path for TPid 6\n",
      "ahaknee72tp29  exist\n",
      "cannot find dcm path for TPid 8\n",
      "ahaknee96tp29  exist\n",
      "cannot find dcm path for TPid 10\n",
      "ahaknee0tp29  exist\n",
      "dcm path for TPid 0 Z:/OAI Baseline/ge0/9189303/10397613\n",
      "Loading QVJ Y:/0tp29\\cascade/0/9189303/10397613R\\E10397613R_R.QVJ\n",
      "Adding QVS E10397613RS101_R.QVS\n",
      "coronal Z:/OAI Baseline/ge0/9189303/10397613/001.dcm\n",
      "copying Z:/OAI Baseline/ge0/9189303/10397613/076.dcmahaknee12tp29  exist/9189303/10397613/013.dcm\n",
      "dcm path for TPid 1 Z:/OAI 12 Months/2.C.2/9189303/20060522/11151210\n",
      "Loading QVJ Y:/12tp29\\cascade/12/9189303/20060522R\\E20060522R_R.QVJ\n",
      "Adding QVS E20060522RS101_R.QVS\n",
      "coronal Z:/OAI 12 Months/2.C.2/9189303/20060522/11151210/001.dcm\n",
      "copying Z:/OAI 12 Months/2.C.2/9189303/20060522/11151210/076.dcm Z:/OAI 12 Months/2.C.2/9189303/20060522/11151210/060.dcmahaknee18tp29  exist\n",
      "cannot find dcm path for TPid 2\n",
      "ahaknee24tp29  exist\n",
      "dcm path for TPid 3 Z:/OAI 24 Months/3.E.1/9189303/20070516/11745204\n",
      "Loading QVJ Y:/24tp29\\cascade/24/9189303/20070516R\\E20070516R_R.QVJ\n",
      "Adding QVS E20070516RS101_R.QVS\n",
      "copying Z:/OAI 24 Months/3.E.1/9189303/20070516/11745204/075.dcmcoronal Z:/OAI 24 Months/3.E.1/9189303/20070516/11745204/076.dcm\n",
      "ahaknee30tp29  exist\n",
      "cannot find dcm path for TPid 4\n",
      "ahaknee36tp29  exist\n",
      "dcm path for TPid 5 Z:/OAI 36 Months/5.E.1/9189303/20080508/12335807\n",
      "Loading QVJ Y:/36tp29\\cascade/36/9189303/20080508R\\E20080508R_R.QVJ\n",
      "Adding QVS E20080508RS101_R.QVS\n",
      "copying Z:/OAI 36 Months/5.E.1/9189303/20080508/12335807/075.dcmno such contour OuterWall\n",
      "No lumen contour for frappe dcm slice 74\n",
      "coronal Z:/OAI 36 Months/5.E.1/9189303/20080508/12335807/076.dcm\n",
      "ahaknee48tp29  exist\n",
      "dcm path for TPid 6 Z:/OAI 48 Months/6.E.1/9189303/20090611/13184006\n",
      "Loading QVJ Y:/48tp29\\cascade/48/9189303/20090611R\\E20090611R_R.QVJ\n",
      "Adding QVS E20090611RS101_R.QVS\n",
      "copying Z:/OAI 48 Months/6.E.1/9189303/20090611/13184006/075.dcmcoronal Z:/OAI 48 Months/6.E.1/9189303/20090611/13184006/076.dcm\n",
      "ahaknee72tp29  exist\n",
      "dcm path for TPid 8 Z:/OAI 72 Months/8.E.1/9189303/20110310/13012211\n",
      "Loading QVJ Y:/72tp29\\cascade/72/9189303/20110310R\\E20110310R_R.QVJ\n",
      "Adding QVS E20110310RS101_R.QVS\n",
      "copying Z:/OAI 72 Months/8.E.1/9189303/20110310/13012211/075.dcmcoronal Z:/OAI 72 Months/8.E.1/9189303/20110310/13012211/076.dcm 72 Months/8.E.1/9189303/20110310/13012211/066.dcm\n",
      "ahaknee96tp29  exist\n",
      "cannot find dcm path for TPid 10\n",
      "ahaknee0tp29  exist\n",
      "dcm path for TPid 0 Z:/OAI Baseline/gc0/9939718/10677605\n",
      "Loading QVJ Y:/0tp29\\cascade/0/9939718/10677605L\\E10677605L_L.QVJ\n",
      "Adding QVS E10677605LS101_L.QVS\n",
      "coronal Z:/OAI Baseline/gc0/9939718/10677605/001.dcm\n",
      "copying Z:/OAI Baseline/gc0/9939718/10677605/061.dcmahaknee12tp29  exist/9939718/10677605/014.dcm\n",
      "dcm path for TPid 1 Z:/OAI 12 Months/1.C.2/9939718/20050930/10599605\n",
      "Loading QVJ Y:/12tp29\\cascade/12/9939718/20050930L\\E20050930L_L.QVJ\n",
      "Adding QVS E20050930LS101_L.QVS\n",
      "coronal Z:/OAI 12 Months/1.C.2/9939718/20050930/10599605/001.dcm\n",
      "copying Z:/OAI 12 Months/1.C.2/9939718/20050930/10599605/064.dcmahaknee18tp29  existC.2/9939718/20050930/10599605/007.dcm\n",
      "cannot find dcm path for TPid 2\n",
      "ahaknee24tp29  exist\n",
      "dcm path for TPid 3 Z:/OAI 24 Months/3.C.2/9939718/20060810/11302505\n",
      "Loading QVJ Y:/24tp29\\cascade/24/9939718/20060810L\\E20060810L_L.QVJ\n",
      "Adding QVS E20060810LS101_L.QVS\n",
      "coronal Z:/OAI 24 Months/3.C.2/9939718/20060810/11302505/001.dcm\n",
      "copying Z:/OAI 24 Months/3.C.2/9939718/20060810/11302505/066.dcmahaknee30tp29  exist\n",
      "cannot find dcm path for TPid 4\n",
      "ahaknee36tp29  exist\n",
      "dcm path for TPid 5 Z:/OAI 36 Months/5.C.1/9939718/20070721/11871004\n",
      "Loading QVJ Y:/36tp29\\cascade/36/9939718/20070721L\\E20070721L_L.QVJ\n",
      "Adding QVS E20070721LS101_L.QVS\n",
      "copying Z:/OAI 36 Months/5.C.1/9939718/20070721/11871004/080.dcmcoronal Z:/OAI 36 Months/5.C.1/9939718/20070721/11871004/081.dcm\n",
      "ahaknee48tp29  exist\n",
      "dcm path for TPid 6 Z:/OAI 48 Months/6.C.1/9939718/20080715/12440205\n",
      "Loading QVJ Y:/48tp29\\cascade/48/9939718/20080715L\\E20080715L_L.QVJ\n",
      "Adding QVS E20080715LS101_L.QVS\n",
      "copying Z:/OAI 48 Months/6.C.1/9939718/20080715/12440205/070.dcmcoronal Z:/OAI 48 Months/6.C.1/9939718/20080715/12440205/071.dcm\n",
      "ahaknee72tp29  exist\n",
      "dcm path for TPid 8 Z:/OAI 72 Months/8.C.1/9939718/20100712/11060405\n",
      "Loading QVJ Y:/72tp29\\cascade/72/9939718/20100712L\\E20100712L_L.QVJ\n",
      "Adding QVS E20100712LS101_L.QVS\n",
      "copying Z:/OAI 72 Months/8.C.1/9939718/20100712/11060405/070.dcmcoronal Z:/OAI 72 Months/8.C.1/9939718/20100712/11060405/071.dcm\n",
      "ahaknee96tp29  exist\n",
      "dcm path for TPid 10 Z:/OAI 96 Months/10.C.1/9939718/20121130/13436605\n",
      "Loading QVJ Y:/96tp29\\cascade/96/9939718/20121130L\\E20121130L_L.QVJ\n",
      "Adding QVS E20121130LS101_L.QVS\n",
      "copying Z:/OAI 96 Months/10.C.1/9939718/20121130/13436605/065.dcmno such contour OuterWall9939718/20121130/13436605/051.dcm\n",
      "No lumen contour for frappe dcm slice 64\n",
      "copying Z:/OAI 96 Months/10.C.1/9939718/20121130/13436605/066.dcmno such contour OuterWall\n",
      "No lumen contour for frappe dcm slice 65\n",
      "copying Z:/OAI 96 Months/10.C.1/9939718/20121130/13436605/067.dcmno such contour OuterWall\n",
      "No lumen contour for frappe dcm slice 66\n",
      "copying Z:/OAI 96 Months/10.C.1/9939718/20121130/13436605/068.dcmno such contour OuterWall\n",
      "No lumen contour for frappe dcm slice 67\n",
      "copying Z:/OAI 96 Months/10.C.1/9939718/20121130/13436605/069.dcmno such contour OuterWall\n",
      "No lumen contour for frappe dcm slice 68\n",
      "copying Z:/OAI 96 Months/10.C.1/9939718/20121130/13436605/070.dcmno such contour OuterWall\n",
      "No lumen contour for frappe dcm slice 69\n",
      "coronal Z:/OAI 96 Months/10.C.1/9939718/20121130/13436605/071.dcm\n",
      "ahaknee0tp29  exist\n",
      "dcm path for TPid 0 Z:/OAI Baseline/gc0/9939718/10677611\n",
      "Loading QVJ Y:/0tp29\\cascade/0/9939718/10677611R\\E10677611R_R.QVJ\n",
      "Adding QVS E10677611RS101_R.QVS\n",
      "ahaknee12tp29  exist\n",
      "dcm path for TPid 1 Z:/OAI 12 Months/1.C.2/9939718/20050930/10599611\n",
      "Loading QVJ Y:/12tp29\\cascade/12/9939718/20050930R\\E20050930R_R.QVJ\n",
      "Adding QVS E20050930RS101_R.QVS\n",
      "ahaknee18tp29  exist\n",
      "dcm path for TPid 2 Z:/OAI 18 Months/2.D.2/9939718/20060303/10876605\n",
      "Loading QVJ Y:/18tp29\\cascade/18/9939718/20060303R\\E20060303R_R.QVJ\n",
      "Adding QVS E20060303RS101_R.QVS\n",
      "ahaknee24tp29  exist\n",
      "dcm path for TPid 3 Z:/OAI 24 Months/3.C.2/9939718/20060810/11302511\n",
      "Loading QVJ Y:/24tp29\\cascade/24/9939718/20060810R\\E20060810R_R.QVJ\n",
      "Adding QVS E20060810RS101_R.QVS\n",
      "ahaknee30tp29  exist\n",
      "cannot find dcm path for TPid 4\n",
      "ahaknee36tp29  exist\n",
      "dcm path for TPid 5 Z:/OAI 36 Months/5.C.1/9939718/20070721/11871010\n",
      "Loading QVJ Y:/36tp29\\cascade/36/9939718/20070721R\\E20070721R_R.QVJ\n",
      "Adding QVS E20070721RS101_R.QVS\n",
      "ahaknee48tp29  exist\n",
      "dcm path for TPid 6 Z:/OAI 48 Months/6.C.1/9939718/20080715/12440211\n",
      "Loading QVJ Y:/48tp29\\cascade/48/9939718/20080715R\\E20080715R_R.QVJ\n",
      "Adding QVS E20080715RS101_R.QVS\n",
      "ahaknee72tp29  exist\n",
      "dcm path for TPid 8 Z:/OAI 72 Months/8.C.1/9939718/20100712/11060411\n",
      "Loading QVJ Y:/72tp29\\cascade/72/9939718/20100712R\\E20100712R_R.QVJ\n",
      "Adding QVS E20100712RS101_R.QVS\n",
      "ahaknee96tp29  exist\n",
      "dcm path for TPid 10 Z:/OAI 96 Months/10.C.1/9939718/20121130/13436611\n",
      "Loading QVJ Y:/96tp29\\cascade/96/9939718/20121130R\\E20121130R_R.QVJ\n",
      "Adding QVS E20121130RS101_R.QVS\n",
      "ahaknee0tp29  exist\n",
      "dcm path for TPid 0 Z:/OAI Baseline/gc0/9941231/10118906\n",
      "Loading QVJ Y:/0tp29\\cascade/0/9941231/10118906L\\E10118906L_L.QVJ\n",
      "Adding QVS E10118906LS101_L.QVS\n",
      "ahaknee12tp29  exist\n",
      "dcm path for TPid 1 Z:/OAI 12 Months/1.C.2/9941231/20051012/10199005\n",
      "Loading QVJ Y:/12tp29\\cascade/12/9941231/20051012L\\E20051012L_L.QVJ\n",
      "Adding QVS E20051012LS101_L.QVS\n",
      "ahaknee18tp29  exist\n",
      "cannot find dcm path for TPid 2\n",
      "ahaknee24tp29  exist\n",
      "dcm path for TPid 3 Z:/OAI 24 Months/3.C.2/9941231/20060804/11265108\n",
      "Loading QVJ Y:/24tp29\\cascade/24/9941231/20060804L\\E20060804L_L.QVJ\n",
      "Adding QVS E20060804LS101_L.QVS\n",
      "ahaknee30tp29  exist\n",
      "cannot find dcm path for TPid 4\n",
      "ahaknee36tp29  exist\n",
      "dcm path for TPid 5 Z:/OAI 36 Months/5.C.1/9941231/20070713/11861304\n"
     ]
    },
    {
     "name": "stdout",
     "output_type": "stream",
     "text": [
      "Loading QVJ Y:/36tp29\\cascade/36/9941231/20070713L\\E20070713L_L.QVJ\n",
      "Adding QVS E20070713LS101_L.QVS\n",
      "ahaknee48tp29  exist\n",
      "dcm path for TPid 6 Z:/OAI 48 Months/6.C.1/9941231/20080724/12444708\n",
      "Loading QVJ Y:/48tp29\\cascade/48/9941231/20080724L\\E20080724L_L.QVJ\n",
      "Adding QVS E20080724LS101_L.QVS\n",
      "ahaknee72tp29  exist\n",
      "dcm path for TPid 8 Z:/OAI 72 Months/8.C.1/9941231/20100809/11021805\n",
      "Loading QVJ Y:/72tp29\\cascade/72/9941231/20100809L\\E20100809L_L.QVJ\n",
      "Adding QVS E20100809LS101_L.QVS\n",
      "ahaknee96tp29  exist\n",
      "dcm path for TPid 10 Z:/OAI 96 Months/10.C.1/9941231/20120830/13486205\n",
      "Loading QVJ Y:/96tp29\\cascade/96/9941231/20120830L\\E20120830L_L.QVJ\n",
      "Adding QVS E20120830LS101_L.QVS\n",
      "ahaknee0tp29  exist\n",
      "dcm path for TPid 0 Z:/OAI Baseline/gc0/9941231/10118912\n",
      "Loading QVJ Y:/0tp29\\cascade/0/9941231/10118912R\\E10118912R_R.QVJ\n",
      "Adding QVS E10118912RS101_R.QVS\n",
      "ahaknee12tp29  exist\n",
      "dcm path for TPid 1 Z:/OAI 12 Months/1.C.2/9941231/20051012/10199011\n",
      "Loading QVJ Y:/12tp29\\cascade/12/9941231/20051012R\\E20051012R_R.QVJ\n",
      "Adding QVS E20051012RS101_R.QVS\n",
      "ahaknee18tp29  exist\n",
      "cannot find dcm path for TPid 2\n",
      "ahaknee24tp29  exist\n",
      "dcm path for TPid 3 Z:/OAI 24 Months/3.C.2/9941231/20060804/11265114\n",
      "Loading QVJ Y:/24tp29\\cascade/24/9941231/20060804R\\E20060804R_R.QVJ\n",
      "Adding QVS E20060804RS101_R.QVS\n",
      "ahaknee30tp29  exist\n",
      "cannot find dcm path for TPid 4\n",
      "ahaknee36tp29  exist\n",
      "dcm path for TPid 5 Z:/OAI 36 Months/5.C.1/9941231/20070713/11861310\n",
      "Loading QVJ Y:/36tp29\\cascade/36/9941231/20070713R\\E20070713R_R.QVJ\n",
      "Adding QVS E20070713RS101_R.QVS\n",
      "ahaknee48tp29  exist\n",
      "dcm path for TPid 6 Z:/OAI 48 Months/6.C.1/9941231/20080724/12444714\n",
      "Loading QVJ Y:/48tp29\\cascade/48/9941231/20080724R\\E20080724R_R.QVJ\n",
      "Adding QVS E20080724RS101_R.QVS\n",
      "ahaknee72tp29  exist\n",
      "cannot find dcm path for TPid 8\n",
      "ahaknee96tp29  exist\n",
      "cannot find dcm path for TPid 10\n",
      "ahaknee0tp29  exist\n",
      "dcm path for TPid 0 Z:/OAI Baseline/gc0/9942724/10119307\n",
      "Loading QVJ Y:/0tp29\\cascade/0/9942724/10119307L\\E10119307L_L.QVJ\n",
      "Adding QVS E10119307LS101_L.QVS\n",
      "ahaknee12tp29  exist\n",
      "dcm path for TPid 1 Z:/OAI 12 Months/1.C.2/9942724/20051011/10198005\n",
      "Loading QVJ Y:/12tp29\\cascade/12/9942724/20051011L\\E20051011L_L.QVJ\n",
      "Adding QVS E20051011LS101_L.QVS\n",
      "ahaknee18tp29  exist\n",
      "cannot find dcm path for TPid 2\n",
      "ahaknee24tp29  exist\n",
      "dcm path for TPid 3 Z:/OAI 24 Months/3.C.2/9942724/20061024/10371309\n",
      "Loading QVJ Y:/24tp29\\cascade/24/9942724/20061024L\\E20061024L_L.QVJ\n",
      "Adding QVS E20061024LS101_L.QVS\n",
      "ahaknee30tp29  exist\n",
      "cannot find dcm path for TPid 4\n",
      "ahaknee36tp29  exist\n",
      "cannot find dcm path for TPid 5\n",
      "ahaknee48tp29  exist\n",
      "dcm path for TPid 6 Z:/OAI 48 Months/6.C.1/9942724/20080724/12444508\n",
      "Loading QVJ Y:/48tp29\\cascade/48/9942724/20080724L\\E20080724L_L.QVJ\n",
      "Adding QVS E20080724LS101_L.QVS\n",
      "ahaknee72tp29  exist\n",
      "cannot find dcm path for TPid 8\n",
      "ahaknee96tp29  exist\n",
      "dcm path for TPid 10 Z:/OAI 96 Months/10.C.1/9942724/20130508/13383008\n",
      "Loading QVJ Y:/96tp29\\cascade/96/9942724/20130508L\\E20130508L_L.QVJ\n",
      "Adding QVS E20130508LS101_L.QVS\n",
      "ahaknee0tp29  exist\n",
      "dcm path for TPid 0 Z:/OAI Baseline/gc0/9942724/10119313\n",
      "Loading QVJ Y:/0tp29\\cascade/0/9942724/10119313R\\E10119313R_R.QVJ\n",
      "Adding QVS E10119313RS101_R.QVS\n",
      "ahaknee12tp29  exist\n",
      "dcm path for TPid 1 Z:/OAI 12 Months/1.C.2/9942724/20051011/10198011\n",
      "Loading QVJ Y:/12tp29\\cascade/12/9942724/20051011R\\E20051011R_R.QVJ\n",
      "Adding QVS E20051011RS101_R.QVS\n",
      "ahaknee18tp29  exist\n",
      "cannot find dcm path for TPid 2\n",
      "ahaknee24tp29  exist\n",
      "dcm path for TPid 3 Z:/OAI 24 Months/3.C.2/9942724/20061024/10371314\n",
      "Loading QVJ Y:/24tp29\\cascade/24/9942724/20061024R\\E20061024R_R.QVJ\n",
      "Adding QVS E20061024RS101_R.QVS\n",
      "ahaknee30tp29  exist\n",
      "cannot find dcm path for TPid 4\n",
      "ahaknee36tp29  exist\n",
      "dcm path for TPid 5 Z:/OAI 36 Months/5.C.1/9942724/20071002/12021106\n",
      "Loading QVJ Y:/36tp29\\cascade/36/9942724/20071002R\\E20071002R_R.QVJ\n",
      "Adding QVS E20071002RS101_R.QVS\n",
      "ahaknee48tp29  exist\n",
      "dcm path for TPid 6 Z:/OAI 48 Months/6.C.1/9942724/20080724/12444514\n",
      "Loading QVJ Y:/48tp29\\cascade/48/9942724/20080724R\\E20080724R_R.QVJ\n",
      "Adding QVS E20080724RS101_R.QVS\n",
      "ahaknee72tp29  exist\n",
      "cannot find dcm path for TPid 8\n",
      "ahaknee96tp29  exist\n",
      "dcm path for TPid 10 Z:/OAI 96 Months/10.C.1/9942724/20130508/13383014\n",
      "Loading QVJ Y:/96tp29\\cascade/96/9942724/20130508R\\E20130508R_R.QVJ\n",
      "Adding QVS E20130508RS101_R.QVS\n"
     ]
    }
   ],
   "source": [
    "# process list\n",
    "# first in TP as reference\n",
    "caselist = [\n",
    "    {'pid': '9189303','TP':[0,1,2,3,4,5,6,8,10],'TP2':[0,12,18,24,30,36,48,72,96],'side':'L'},\n",
    "    {'pid': '9189303','TP':[0,1,2,3,4,5,6,8,10],'TP2':[0,12,18,24,30,36,48,72,96],'side':'R'},\n",
    "    {'pid': '9939718','TP':[0,1,2,3,4,5,6,8,10],'TP2':[0,12,18,24,30,36,48,72,96],'side':'L'},\n",
    "    {'pid': '9939718','TP':[0,1,2,3,4,5,6,8,10],'TP2':[0,12,18,24,30,36,48,72,96],'side':'R'},\n",
    "    {'pid': '9941231','TP':[0,1,2,3,4,5,6,8,10],'TP2':[0,12,18,24,30,36,48,72,96],'side':'L'},\n",
    "    {'pid': '9941231','TP':[0,1,2,3,4,5,6,8,10],'TP2':[0,12,18,24,30,36,48,72,96],'side':'R'},\n",
    "    {'pid': '9942724','TP':[0,1,2,3,4,5,6,8,10],'TP2':[0,12,18,24,30,36,48,72,96],'side':'L'},\n",
    "    {'pid': '9942724','TP':[0,1,2,3,4,5,6,8,10],'TP2':[0,12,18,24,30,36,48,72,96],'side':'R'},\n",
    "#     {'pid': '9941446','TP':[0,1,2,3,4,5,6,8,10],'TP2':[0,12,18,24,30,36,48,72,96],'side':'L'},\n",
    "#     {'pid': '9941446','TP':[0,1,2,3,4,5,6,8,10],'TP2':[0,12,18,24,30,36,48,72,96],'side':'R'},\n",
    "#     {'pid': '9404954','TP':[0,1,2,3,4,5,6,8,10],'TP2':[0,12,18,24,30,36,48,72,96],'side':'L'},\n",
    "#     {'pid': '9404954','TP':[0,1,2,3,4,5,6,8,10],'TP2':[0,12,18,24,30,36,48,72,96],'side':'R'},\n",
    "#     {'pid': '9942030','TP':[0,1,2,3,4,5,6,8,10],'TP2':[0,12,18,24,30,36,48,72,96],'side':'L'},\n",
    "#     {'pid': '9942030','TP':[0,1,2,3,4,5,6,8,10],'TP2':[0,12,18,24,30,36,48,72,96],'side':'R'},\n",
    "]\n",
    "\n",
    "prepare_image_and_list(caselist)"
   ]
  },
  {
   "cell_type": "code",
   "execution_count": 18,
   "metadata": {},
   "outputs": [
    {
     "name": "stdout",
     "output_type": "stream",
     "text": [
      "9189303L_TP0\n",
      "9189303L_TP1\n",
      "9189303R_TP0\n",
      "9189303R_TP1\n",
      "9189303R_TP3\n",
      "9189303R_TP5\n",
      "9189303R_TP6\n",
      "9189303R_TP8\n",
      "9939718L_TP0\n",
      "9939718L_TP1\n",
      "9939718L_TP3\n",
      "9939718L_TP5\n",
      "9939718L_TP6\n",
      "9939718L_TP8\n",
      "9939718L_TP10\n",
      "9939718R_TP0\n",
      "9939718R_TP1\n",
      "9939718R_TP2\n",
      "9939718R_TP3\n",
      "9939718R_TP5\n",
      "9939718R_TP6\n",
      "9939718R_TP8\n",
      "9939718R_TP10\n",
      "9941231L_TP0\n",
      "9941231L_TP1\n",
      "9941231L_TP3\n",
      "9941231L_TP5\n",
      "9941231L_TP6\n",
      "9941231L_TP8\n",
      "9941231L_TP10\n",
      "9941231R_TP0\n",
      "9941231R_TP1\n",
      "9941231R_TP3\n",
      "9941231R_TP5\n",
      "9941231R_TP6\n",
      "9942724L_TP0\n",
      "9942724L_TP1\n",
      "9942724L_TP3\n",
      "9942724L_TP6\n",
      "9942724L_TP10\n",
      "9942724R_TP0\n",
      "9942724R_TP1\n",
      "9942724R_TP3\n",
      "9942724R_TP5\n",
      "9942724R_TP6\n",
      "9942724R_TP10\n",
      "-> information loaded for 46 subjects\n",
      "-> Dicom images read\n",
      "-> The total time was 62.54 seconds (about 1 min)\n",
      "-> Dicom headers written\n",
      "-> The total time was 10.09 seconds (about 0 min)\n",
      "-> Image orientation changed\n",
      "-> The total time was 12.54 seconds (about 0 min)\n",
      "-> Image laterality changed for right images\n",
      "-> The total time was 5.12 seconds (about 0 min)\n",
      "-> Image origin changed\n",
      "-> _orig.mha images saved\n",
      "-> The total time was 16.89 seconds (about 0 min)\n"
     ]
    }
   ],
   "source": [
    "def preprocess():\n",
    "    input_file_name           = \".\\image_list_preprocessing.txt\"\n",
    "    n_of_cores                = 1 # change the number of cores according to your computer\n",
    "    intensity_standardization = 0\n",
    "\n",
    "    # Image information\n",
    "    image_data = io.load_image_data_preprocessing(input_file_name)\n",
    "\n",
    "    ref = sitk.ReadImage('../../reference/newsubject/reference.mha')\n",
    "\n",
    "    # Spatial standardization\n",
    "    # Step 0: Read the dicom images\n",
    "    prep.read_dicom_stack(image_data, n_of_cores)\n",
    "    # Save image header\n",
    "    prep.print_dicom_header(image_data, n_of_cores)    # save to *.txt\n",
    "\n",
    "    # Step 1: Change orientation to RAI\n",
    "    #prep.axial_to_sagittal(image_data, n_of_cores)\n",
    "    prep.orientation_to_rai(image_data, n_of_cores)\n",
    "\n",
    "    # Step 2: Change laterality if knee is right\n",
    "    prep.flip_rl(image_data, n_of_cores)\n",
    "    # Step 3: Set image origin to (0,0,0)\n",
    "    prep.origin_to_zero(image_data, n_of_cores)    # Images are saved as *_orig.mha and they are anonymized\n",
    "\n",
    "    # 4. Correct magnetic field inhomogeneities\n",
    "    # Magnetic fields inhomogeneities create grey shades on images. This correction removes these shades. \n",
    "    # This is the longest step of the processing. It can take up to 15-20 min on a standard PC or laptop\n",
    "    if intensity_standardization == 1:\n",
    "        prep.field_correction(image_data, n_of_cores)\n",
    "        prep.rescale_to_range(image_data, n_of_cores)  # 5. Rescale intensities to [0 100]\n",
    "        prep.edge_preserving_smoothing(image_data, n_of_cores)  # 6. Edge preserving smoothing\n",
    "\n",
    "preprocess()"
   ]
  },
  {
   "cell_type": "code",
   "execution_count": 19,
   "metadata": {},
   "outputs": [],
   "source": [
    "def segmentation_sa():\n",
    "    input_file_name = \"./image_list_newsubject.txt\"\n",
    "    modality        = \"newsubject\" # use \"newsubject\", \"longitudinal\", or \"multimodal\" \n",
    "    n_of_cores      = 1\n",
    "\n",
    "    image_data = io.load_image_data_segmentation(modality, input_file_name)\n",
    "    segm.prepare_reference(image_data)\n",
    "    ### NOTE!!! reference_fv is dummy!!!\n",
    "\n",
    "    # Segment Bone\n",
    "    # 1. Register image to reference\n",
    "    segm.register_bone_to_reference(image_data, n_of_cores)\n",
    "    # 2. Invert transformations\n",
    "    segm.invert_bone_transformations(image_data, n_of_cores)\n",
    "    # 3. Warp reference mask to moving image\n",
    "    segm.warp_bone_mask(image_data, n_of_cores)\n",
    "    \n",
    "    segm.register_tibia_to_reference(image_data, n_of_cores)\n",
    "    segm.invert_tibia_transformations(image_data, n_of_cores)\n",
    "    segm.warp_tibia_mask(image_data, n_of_cores)\n",
    "\n",
    "    # Segment cartilage\n",
    "    segm.register_cartilage_to_reference(image_data, n_of_cores)\n",
    "    segm.invert_cartilage_transformations(image_data, n_of_cores)\n",
    "    segm.warp_cartilage_mask(image_data, n_of_cores)\n",
    "    \n",
    "# segmentation_sa()"
   ]
  },
  {
   "cell_type": "code",
   "execution_count": 20,
   "metadata": {},
   "outputs": [
    {
     "name": "stdout",
     "output_type": "stream",
     "text": [
      "-> image information loaded\n"
     ]
    },
    {
     "data": {
      "text/plain": [
       "{'registration_type': 'newsubject',\n",
       " 'vessel': 'fv',\n",
       " 'cartilage': 'fc',\n",
       " 'bone': 'f',\n",
       " 'current_anatomy': [],\n",
       " 'reference_folder': 'C:\\\\Zhixuan\\\\OAI-registration\\\\pyKNEEr-yg\\\\reference\\\\newsubject\\\\',\n",
       " 'reference_name': 'reference.mha',\n",
       " 'reference_root': 'reference',\n",
       " 'moving_folder': 'C:\\\\Zhixuan\\\\OAI-registration\\\\pyKNEEr-yg\\\\preprocessed\\\\',\n",
       " 'moving_name': '9189303L_TP0_prep.mha',\n",
       " 'moving_root': '9189303L_TP0_prep',\n",
       " 'registered_folder': 'C:\\\\Zhixuan\\\\OAI-registration\\\\pyKNEEr-yg\\\\registered\\\\',\n",
       " 'segmented_folder': 'C:\\\\Zhixuan\\\\OAI-registration\\\\pyKNEEr-yg\\\\segmented\\\\',\n",
       " 'registered_sub_folder': 'C:\\\\Zhixuan\\\\OAI-registration\\\\pyKNEEr-yg\\\\registered\\\\9189303L_TP0_prep\\\\',\n",
       " 'i_registered_sub_folder': 'C:\\\\Zhixuan\\\\OAI-registration\\\\pyKNEEr-yg\\\\registered\\\\9189303L_TP0_prep\\\\invert\\\\',\n",
       " 'dilate_radius': 15,\n",
       " 'fmask_file_name': 'reference_f.mha',\n",
       " 'fdil_mask_file_name': 'reference_f_15.mha',\n",
       " 'flevelset_mask_file_name': 'reference_f_levelSet.mha',\n",
       " 'fcmask_file_name': 'reference_fc.mha',\n",
       " 'fcdil_mask_file_name': 'reference_fc_15.mha',\n",
       " 'fclevelset_mask_file_name': 'reference_fc_levelSet.mha',\n",
       " 'fvmask_file_name': 'reference_fv.mha',\n",
       " 'fvdil_mask_file_name': 'reference_fv_15.mha',\n",
       " 'fvlevelset_mask_file_name': 'reference_fv_levelSet.mha',\n",
       " 'frigid_name': 'f_rigid.mha',\n",
       " 'fsimilarity_name': 'f_similarity.mha',\n",
       " 'fspline_name': 'f_spline.mha',\n",
       " 'fcspline_name': 'fc_spline.mha',\n",
       " 'fvspline_name': 'fv_spline.mha',\n",
       " 'fm_rigid_name': 'f_rigidMask.mha',\n",
       " 'fm_similarity_name': 'f_similarityMask.mha',\n",
       " 'fm_spline_name': 'f_splineMask.mha',\n",
       " 'fmask': '9189303L_TP0_prep_f.mha',\n",
       " 'fcm_rigid_name': 'fc_rigidMask.mha',\n",
       " 'fcm_similarity_name': 'fc_similarityMask.mha',\n",
       " 'fcm_spline_name': 'fc_splineMask.mha',\n",
       " 'fcmask': '9189303L_TP0_prep_fc.mha',\n",
       " 'fvm_rigid_name': 'fv_rigidMask.mha',\n",
       " 'fvm_similarity_name': 'fv_similarityMask.mha',\n",
       " 'fvm_spline_name': 'fv_splineMask.mha',\n",
       " 'fvmask': '9189303L_TP0_prep_fv.mha',\n",
       " 'frigid_transf_name': 'TransformParameters.f_rigid.txt',\n",
       " 'fsimilarity_transf_name': 'TransformParameters.f_similarity.txt',\n",
       " 'fspline_transf_name': 'TransformParameters.f_spline.txt',\n",
       " 'fi_rigid_transf_name': 'iTransformParameters.f_rigid.txt',\n",
       " 'fi_similarity_transf_name': 'iTransformParameters.f_similarity.txt',\n",
       " 'fi_spline_transf_name': 'iTransformParameters.f_spline.txt',\n",
       " 'fm_rigid_transf_name': 'mTransformParameters.f_rigid.txt',\n",
       " 'fm_similarity_transf_name': 'mTransformParameters.f_similarity.txt',\n",
       " 'fm_spline_transf_name': 'mTransformParameters.f_spline.txt',\n",
       " 'fcspline_transf_name': 'TransformParameters.fc_spline.txt',\n",
       " 'fci_spline_transf_name': 'iTransformParameters.fc_spline.txt',\n",
       " 'fcm_spline_transf_name': 'mTransformParameters.fc_spline.txt',\n",
       " 'fvspline_transf_name': 'TransformParameters.fv_spline.txt',\n",
       " 'fvi_spline_transf_name': 'iTransformParameters.fv_spline.txt',\n",
       " 'fvm_spline_transf_name': 'mTransformParameters.fv_spline.txt',\n",
       " 'param_file_rigid': 'C:\\\\Zhixuan\\\\OAI-registration\\\\pykneer-yg\\\\pykneer\\\\pykneer/parameterFiles\\\\MR_param_rigid.txt',\n",
       " 'i_param_file_rigid': 'C:\\\\Zhixuan\\\\OAI-registration\\\\pykneer-yg\\\\pykneer\\\\pykneer/parameterFiles\\\\MR_iparam_rigid.txt',\n",
       " 'param_file_similarity': 'C:\\\\Zhixuan\\\\OAI-registration\\\\pykneer-yg\\\\pykneer\\\\pykneer/parameterFiles\\\\MR_param_similarity.txt',\n",
       " 'i_param_file_similarity': 'C:\\\\Zhixuan\\\\OAI-registration\\\\pykneer-yg\\\\pykneer\\\\pykneer/parameterFiles\\\\MR_iparam_similarity.txt',\n",
       " 'param_file_spline': 'C:\\\\Zhixuan\\\\OAI-registration\\\\pykneer-yg\\\\pykneer\\\\pykneer/parameterFiles\\\\MR_param_spline.txt',\n",
       " 'i_param_file_spline': 'C:\\\\Zhixuan\\\\OAI-registration\\\\pykneer-yg\\\\pykneer\\\\pykneer/parameterFiles\\\\MR_iparam_spline.txt',\n",
       " 'elastix_folder': '../../pykneer\\\\pykneer\\\\elastix\\\\Windows\\\\',\n",
       " 'complete_elastix_path': '../../pykneer\\\\pykneer\\\\elastix\\\\Windows\\\\elastix',\n",
       " 'complete_transformix_path': '../../pykneer\\\\pykneer\\\\elastix\\\\Windows\\\\transformix'}"
      ]
     },
     "execution_count": 20,
     "metadata": {},
     "output_type": "execute_result"
    }
   ],
   "source": [
    "sys.path.append(\"../../..\")\n",
    "from MyProcessDicom import *\n",
    "input_file_name = \"./image_list_newsubject.txt\"\n",
    "modality        = \"newsubject\" # use \"newsubject\", \"longitudinal\", or \"multimodal\" \n",
    "n_of_cores      = 1\n",
    "\n",
    "image_data = io.load_image_data_segmentation(modality, input_file_name)\n",
    "image_data[0]"
   ]
  },
  {
   "cell_type": "code",
   "execution_count": 21,
   "metadata": {},
   "outputs": [],
   "source": [
    "def segmentation_sa_long():\n",
    "    input_file_name = \"./image_list_longitudinal.txt\"\n",
    "    modality        = \"longitudinal\" # use \"newsubject\", \"longitudinal\", or \"multimodal\" \n",
    "    n_of_cores      = 1\n",
    "\n",
    "    image_data = io.load_image_data_segmentation(modality, input_file_name)\n",
    "    segm.prepare_reference(image_data)\n",
    "\n",
    "    segm.register_bone_to_reference(image_data, n_of_cores)\n",
    "    segm.invert_bone_transformations(image_data, n_of_cores)\n",
    "    segm.warp_tibia_mask(image_data, n_of_cores)\n",
    "    segm.warp_bone_mask(image_data, n_of_cores)\n",
    "\n",
    "    # segm.register_vessel_to_reference(image_data, n_of_cores)\n",
    "    # segm.invert_vessel_transformations(image_data, n_of_cores)\n",
    "    # segm.warp_vessel_mask(image_data, n_of_cores)\n",
    "    \n",
    "#     segm.register_cartilage_to_reference(image_data, n_of_cores)\n",
    "#     segm.invert_cartilage_transformations(image_data, n_of_cores)\n",
    "#     segm.warp_cartilage_mask(image_data, n_of_cores)\n",
    "    \n",
    "# segmentation_sa_long()"
   ]
  },
  {
   "cell_type": "code",
   "execution_count": 22,
   "metadata": {},
   "outputs": [
    {
     "name": "stdout",
     "output_type": "stream",
     "text": [
      "-> image information loaded\n",
      "reference.mha\n",
      "-> Reference preparation completed\n",
      "-> Registration completed\n",
      "-> The total time was 686.69 seconds (about 11 min)\n",
      "-> Inversion completed\n",
      "-> The total time was 735.08 seconds (about 12 min)\n",
      "-> Warping completed\n",
      "-> The total time was 154.69 seconds (about 2 min)\n",
      "-> Registration completed\n",
      "-> The total time was 671.05 seconds (about 11 min)\n",
      "-> Inversion completed\n",
      "-> The total time was 723.72 seconds (about 12 min)\n",
      "-> Warping completed\n",
      "-> The total time was 153.54 seconds (about 2 min)\n",
      "-> Registration completed\n",
      "-> The total time was 467.22 seconds (about 7 min)\n",
      "-> Inversion completed\n",
      "-> The total time was 600.06 seconds (about 10 min)\n",
      "-> Warping completed\n",
      "-> The total time was 155.36 seconds (about 2 min)\n",
      "-> image information loaded\n",
      "9189303L_TP0_prep.mha\n",
      "9189303R_TP0_prep.mha\n",
      "9189303R_TP0_prep.mha\n",
      "9189303R_TP0_prep.mha\n",
      "9189303R_TP0_prep.mha\n",
      "9189303R_TP0_prep.mha\n",
      "9939718L_TP0_prep.mha\n",
      "9939718L_TP0_prep.mha\n",
      "9939718L_TP0_prep.mha\n",
      "9939718L_TP0_prep.mha\n",
      "9939718L_TP0_prep.mha\n",
      "9939718L_TP0_prep.mha\n",
      "9939718R_TP0_prep.mha\n",
      "9939718R_TP0_prep.mha\n",
      "9939718R_TP0_prep.mha\n",
      "9939718R_TP0_prep.mha\n",
      "9939718R_TP0_prep.mha\n",
      "9939718R_TP0_prep.mha\n",
      "9939718R_TP0_prep.mha\n",
      "9941231L_TP0_prep.mha\n",
      "9941231L_TP0_prep.mha\n",
      "9941231L_TP0_prep.mha\n",
      "9941231L_TP0_prep.mha\n",
      "9941231L_TP0_prep.mha\n",
      "9941231L_TP0_prep.mha\n",
      "9941231R_TP0_prep.mha\n",
      "9941231R_TP0_prep.mha\n",
      "9941231R_TP0_prep.mha\n",
      "9941231R_TP0_prep.mha\n",
      "9942724L_TP0_prep.mha\n",
      "9942724L_TP0_prep.mha\n",
      "9942724L_TP0_prep.mha\n",
      "9942724L_TP0_prep.mha\n",
      "9942724R_TP0_prep.mha\n",
      "9942724R_TP0_prep.mha\n",
      "9942724R_TP0_prep.mha\n",
      "9942724R_TP0_prep.mha\n",
      "9942724R_TP0_prep.mha\n",
      "-> Reference preparation completed\n",
      "-> Registration completed\n",
      "-> The total time was 2037.66 seconds (about 33 min)\n",
      "-> Inversion completed\n",
      "-> The total time was 2946.43 seconds (about 49 min)\n",
      "-> Warping completed\n",
      "-> The total time was 400.53 seconds (about 6 min)\n",
      "-> Warping completed\n",
      "-> The total time was 400.05 seconds (about 6 min)\n"
     ]
    }
   ],
   "source": [
    "# preprocess()\n",
    "segmentation_sa()\n",
    "segmentation_sa_long()"
   ]
  },
  {
   "cell_type": "code",
   "execution_count": 65,
   "metadata": {},
   "outputs": [
    {
     "data": {
      "text/plain": [
       "{'registration_type': 'longitudinal',\n",
       " 'vessel': 'fv',\n",
       " 'cartilage': 'fc',\n",
       " 'bone': 'f',\n",
       " 'current_anatomy': [],\n",
       " 'reference_folder': 'C:\\\\Zhixuan\\\\OAI-registration\\\\pyKNEEr-yg\\\\reference\\\\longitudinal\\\\',\n",
       " 'reference_name': '9941446L_TP0_prep.mha',\n",
       " 'reference_root': '9941446L_TP0_prep',\n",
       " 'moving_folder': 'C:\\\\Zhixuan\\\\OAI-registration\\\\pyKNEEr-yg\\\\preprocessed\\\\',\n",
       " 'moving_name': '9941446L_TP1_prep.mha',\n",
       " 'moving_root': '9941446L_TP1_prep',\n",
       " 'registered_folder': 'C:\\\\Zhixuan\\\\OAI-registration\\\\pyKNEEr-yg\\\\registered\\\\',\n",
       " 'segmented_folder': 'C:\\\\Zhixuan\\\\OAI-registration\\\\pyKNEEr-yg\\\\segmented\\\\',\n",
       " 'registered_sub_folder': 'C:\\\\Zhixuan\\\\OAI-registration\\\\pyKNEEr-yg\\\\registered\\\\9941446L_TP1_prep\\\\',\n",
       " 'i_registered_sub_folder': 'C:\\\\Zhixuan\\\\OAI-registration\\\\pyKNEEr-yg\\\\registered\\\\9941446L_TP1_prep\\\\invert\\\\',\n",
       " 'dilate_radius': 15,\n",
       " 'fmask_file_name': '9941446L_TP0_prep_f.mha',\n",
       " 'fdil_mask_file_name': '9941446L_TP0_prep_f_15.mha',\n",
       " 'flevelset_mask_file_name': '9941446L_TP0_prep_f_levelSet.mha',\n",
       " 'fcmask_file_name': '9941446L_TP0_prep_fc.mha',\n",
       " 'fcdil_mask_file_name': '9941446L_TP0_prep_fc_15.mha',\n",
       " 'fclevelset_mask_file_name': '9941446L_TP0_prep_fc_levelSet.mha',\n",
       " 'fvmask_file_name': '9941446L_TP0_prep_fv.mha',\n",
       " 'fvdil_mask_file_name': '9941446L_TP0_prep_fv_15.mha',\n",
       " 'fvlevelset_mask_file_name': '9941446L_TP0_prep_fv_levelSet.mha',\n",
       " 'frigid_name': 'f_rigid.mha',\n",
       " 'fsimilarity_name': 'f_similarity.mha',\n",
       " 'fspline_name': 'f_spline.mha',\n",
       " 'fcspline_name': 'fc_spline.mha',\n",
       " 'fvspline_name': 'fv_spline.mha',\n",
       " 'fm_rigid_name': 'f_rigidMask.mha',\n",
       " 'fm_similarity_name': 'f_similarityMask.mha',\n",
       " 'fm_spline_name': 'f_splineMask.mha',\n",
       " 'fmask': '9941446L_TP1_prep_f.mha',\n",
       " 'fcm_rigid_name': 'fc_rigidMask.mha',\n",
       " 'fcm_similarity_name': 'fc_similarityMask.mha',\n",
       " 'fcm_spline_name': 'fc_splineMask.mha',\n",
       " 'fcmask': '9941446L_TP1_prep_fc.mha',\n",
       " 'fvm_rigid_name': 'fv_rigidMask.mha',\n",
       " 'fvm_similarity_name': 'fv_similarityMask.mha',\n",
       " 'fvm_spline_name': 'fv_splineMask.mha',\n",
       " 'fvmask': '9941446L_TP1_prep_fv.mha',\n",
       " 'frigid_transf_name': 'TransformParameters.f_rigid.txt',\n",
       " 'fsimilarity_transf_name': 'TransformParameters.f_similarity.txt',\n",
       " 'fspline_transf_name': 'TransformParameters.f_spline.txt',\n",
       " 'fi_rigid_transf_name': 'iTransformParameters.f_rigid.txt',\n",
       " 'fi_similarity_transf_name': 'iTransformParameters.f_similarity.txt',\n",
       " 'fi_spline_transf_name': 'iTransformParameters.f_spline.txt',\n",
       " 'fm_rigid_transf_name': 'mTransformParameters.f_rigid.txt',\n",
       " 'fm_similarity_transf_name': 'mTransformParameters.f_similarity.txt',\n",
       " 'fm_spline_transf_name': 'mTransformParameters.f_spline.txt',\n",
       " 'fcspline_transf_name': 'TransformParameters.fc_spline.txt',\n",
       " 'fci_spline_transf_name': 'iTransformParameters.fc_spline.txt',\n",
       " 'fcm_spline_transf_name': 'mTransformParameters.fc_spline.txt',\n",
       " 'fvspline_transf_name': 'TransformParameters.fv_spline.txt',\n",
       " 'fvi_spline_transf_name': 'iTransformParameters.fv_spline.txt',\n",
       " 'fvm_spline_transf_name': 'mTransformParameters.fv_spline.txt',\n",
       " 'param_file_rigid': 'C:\\\\Zhixuan\\\\OAI-registration\\\\pykneer-yg\\\\pykneer\\\\pykneer/parameterFiles\\\\MR_param_rigid.txt',\n",
       " 'i_param_file_rigid': 'C:\\\\Zhixuan\\\\OAI-registration\\\\pykneer-yg\\\\pykneer\\\\pykneer/parameterFiles\\\\MR_iparam_rigid.txt',\n",
       " 'param_file_similarity': 'C:\\\\Zhixuan\\\\OAI-registration\\\\pykneer-yg\\\\pykneer\\\\pykneer/parameterFiles\\\\MR_param_similarity.txt',\n",
       " 'i_param_file_similarity': 'C:\\\\Zhixuan\\\\OAI-registration\\\\pykneer-yg\\\\pykneer\\\\pykneer/parameterFiles\\\\MR_iparam_similarity.txt',\n",
       " 'param_file_spline': 'C:\\\\Zhixuan\\\\OAI-registration\\\\pykneer-yg\\\\pykneer\\\\pykneer/parameterFiles\\\\MR_param_spline.txt',\n",
       " 'i_param_file_spline': 'C:\\\\Zhixuan\\\\OAI-registration\\\\pykneer-yg\\\\pykneer\\\\pykneer/parameterFiles\\\\MR_iparam_spline.txt',\n",
       " 'elastix_folder': '../../pykneer\\\\pykneer\\\\elastix\\\\Windows\\\\',\n",
       " 'complete_elastix_path': '../../pykneer\\\\pykneer\\\\elastix\\\\Windows\\\\elastix',\n",
       " 'complete_transformix_path': '../../pykneer\\\\pykneer\\\\elastix\\\\Windows\\\\transformix'}"
      ]
     },
     "execution_count": 65,
     "metadata": {},
     "output_type": "execute_result"
    }
   ],
   "source": [
    "image_data[0]"
   ]
  },
  {
   "cell_type": "code",
   "execution_count": null,
   "metadata": {},
   "outputs": [],
   "source": []
  },
  {
   "cell_type": "code",
   "execution_count": 60,
   "metadata": {},
   "outputs": [
    {
     "name": "stdout",
     "output_type": "stream",
     "text": [
      "9941231L\n"
     ]
    },
    {
     "data": {
      "application/vnd.jupyter.widget-view+json": {
       "model_id": "29c8567e988e4fa39e7c4b86ab87a8a3",
       "version_major": 2,
       "version_minor": 0
      },
      "text/plain": [
       "interactive(children=(IntSlider(value=34, description='image_z', max=69), FloatSlider(value=0.5, description='…"
      ]
     },
     "metadata": {},
     "output_type": "display_data"
    }
   ],
   "source": [
    "show_slice_images(image_data)"
   ]
  },
  {
   "cell_type": "code",
   "execution_count": 56,
   "metadata": {},
   "outputs": [
    {
     "name": "stdout",
     "output_type": "stream",
     "text": [
      "9941231L\n"
     ]
    },
    {
     "data": {
      "application/vnd.jupyter.widget-view+json": {
       "model_id": "f818a101731e4c45b18ba2cf25103286",
       "version_major": 2,
       "version_minor": 0
      },
      "text/plain": [
       "interactive(children=(IntSlider(value=34, description='image_z', max=69), FloatSlider(value=0.5, description='…"
      ]
     },
     "metadata": {},
     "output_type": "display_data"
    }
   ],
   "source": [
    "show_slice_images(image_data)"
   ]
  },
  {
   "cell_type": "code",
   "execution_count": 23,
   "metadata": {},
   "outputs": [
    {
     "name": "stdout",
     "output_type": "stream",
     "text": [
      "-> image information loaded\n"
     ]
    }
   ],
   "source": [
    "sys.path.append(\"../../..\")\n",
    "from MyProcessDicom import *\n",
    "input_file_name = \"./image_list_longitudinal.txt\"\n",
    "modality        = \"longitudinal\" # use \"newsubject\", \"longitudinal\", or \"multimodal\" \n",
    "n_of_cores      = 1\n",
    "\n",
    "image_data = io.load_image_data_segmentation(modality, input_file_name)"
   ]
  },
  {
   "cell_type": "code",
   "execution_count": 4,
   "metadata": {},
   "outputs": [],
   "source": [
    "import matplotlib.pyplot as plt\n",
    "import os\n",
    "%matplotlib inline\n",
    "import numpy as np\n",
    "from ipywidgets import interact, fixed\n",
    "def show_sagittal_images(image, length, index, tp_str):\n",
    "    \n",
    "    image_npa = sitk.GetArrayViewFromImage(image)\n",
    "    size = np.size(image_npa, 2)\n",
    "    # Draw the fixed image in the first subplot.\n",
    "    plt.subplot(length,1,index)\n",
    "    plt.imshow(image_npa[:,:,size//2],cmap=plt.cm.Greys_r);\n",
    "    plt.title(tp_str)\n",
    "    plt.axis('off')"
   ]
  },
  {
   "cell_type": "code",
   "execution_count": 5,
   "metadata": {},
   "outputs": [],
   "source": [
    "def show_slice_images(all_image_data):\n",
    "    last_name = '0000000L'\n",
    "    # for each image\n",
    "    for i in range(0, len(all_image_data)):\n",
    "\n",
    "        # get paths and file names of the current image\n",
    "        image_data                    = all_image_data[i]\n",
    "#         if image_data['moving_name'][:12] != last_name:\n",
    "#             last_name = image_data['moving_name'][:8]\n",
    "        print(image_data['moving_name'][:12])\n",
    "            \n",
    "        moving_file_name              = image_data['registered_sub_folder']    + image_data['fspline_name']\n",
    "        reference_file_name              = image_data['reference_folder']    + image_data['reference_name']\n",
    "    #     image_data = all_image_data[0]\n",
    "    #     reference_file_name = image_data['registered_sub_folder']    + image_data['frigid_name']\n",
    "    #         mask_file_name                = image_data[\"segmented_folder\"] + image_data[anatomy + \"mask\"]\n",
    "\n",
    "    #     test_name          = image_data[\"reference_folder\"] + image_data[\"reference_name\"]\n",
    "        # read the images\n",
    "        reference = sitk.ReadImage(reference_file_name)\n",
    "        moving = sitk.ReadImage(moving_file_name)\n",
    "    #         mask   = sitk.ReadImage(mask_file_name)\n",
    "    #     test = sitk.ReadImage(test_name)\n",
    "\n",
    "    #     reference = tmp_resample(reference, moving)\n",
    "    #     print(moving.GetSize())\n",
    "\n",
    "        # images from simpleitk to numpy\n",
    "    #     reference_py = sitk.GetArrayFromImage(reference)\n",
    "    #     moving_py = sitk.GetArrayFromImage(moving)\n",
    "    #         mask_py   = sitk.GetArrayFromImage(mask)\n",
    "        show_mixed_images(reference, moving)\n",
    "    #     show_mixed_images(reference, reference)"
   ]
  },
  {
   "cell_type": "code",
   "execution_count": 11,
   "metadata": {},
   "outputs": [
    {
     "name": "stdout",
     "output_type": "stream",
     "text": [
      "9941446L\n"
     ]
    },
    {
     "data": {
      "application/vnd.jupyter.widget-view+json": {
       "model_id": "749df0e417ca4c09b3b07782b6ebd2ec",
       "version_major": 2,
       "version_minor": 0
      },
      "text/plain": [
       "interactive(children=(IntSlider(value=37, description='image_z', max=74), FloatSlider(value=0.5, description='…"
      ]
     },
     "metadata": {},
     "output_type": "display_data"
    },
    {
     "data": {
      "application/vnd.jupyter.widget-view+json": {
       "model_id": "3d9207d91f1549cf88effd78d66047c8",
       "version_major": 2,
       "version_minor": 0
      },
      "text/plain": [
       "interactive(children=(IntSlider(value=37, description='image_z', max=74), FloatSlider(value=0.5, description='…"
      ]
     },
     "metadata": {},
     "output_type": "display_data"
    },
    {
     "data": {
      "application/vnd.jupyter.widget-view+json": {
       "model_id": "475694cc7c2249ab8f6ffa90a596d655",
       "version_major": 2,
       "version_minor": 0
      },
      "text/plain": [
       "interactive(children=(IntSlider(value=37, description='image_z', max=74), FloatSlider(value=0.5, description='…"
      ]
     },
     "metadata": {},
     "output_type": "display_data"
    },
    {
     "data": {
      "application/vnd.jupyter.widget-view+json": {
       "model_id": "1c892ceb5e1442a7a996a11bccaa2995",
       "version_major": 2,
       "version_minor": 0
      },
      "text/plain": [
       "interactive(children=(IntSlider(value=37, description='image_z', max=74), FloatSlider(value=0.5, description='…"
      ]
     },
     "metadata": {},
     "output_type": "display_data"
    },
    {
     "data": {
      "application/vnd.jupyter.widget-view+json": {
       "model_id": "d27c665298124843aa797e9544acd0c9",
       "version_major": 2,
       "version_minor": 0
      },
      "text/plain": [
       "interactive(children=(IntSlider(value=37, description='image_z', max=74), FloatSlider(value=0.5, description='…"
      ]
     },
     "metadata": {},
     "output_type": "display_data"
    },
    {
     "name": "stdout",
     "output_type": "stream",
     "text": [
      "9941446R\n"
     ]
    },
    {
     "data": {
      "application/vnd.jupyter.widget-view+json": {
       "model_id": "00b3ab3f1dfd4dcfadadfe40aec4b594",
       "version_major": 2,
       "version_minor": 0
      },
      "text/plain": [
       "interactive(children=(IntSlider(value=37, description='image_z', max=74), FloatSlider(value=0.5, description='…"
      ]
     },
     "metadata": {},
     "output_type": "display_data"
    },
    {
     "data": {
      "application/vnd.jupyter.widget-view+json": {
       "model_id": "c74eb2d6b82a4f68ab272337ef9b1632",
       "version_major": 2,
       "version_minor": 0
      },
      "text/plain": [
       "interactive(children=(IntSlider(value=37, description='image_z', max=74), FloatSlider(value=0.5, description='…"
      ]
     },
     "metadata": {},
     "output_type": "display_data"
    },
    {
     "data": {
      "application/vnd.jupyter.widget-view+json": {
       "model_id": "09d99b396f994b8fb6888b68420f99b8",
       "version_major": 2,
       "version_minor": 0
      },
      "text/plain": [
       "interactive(children=(IntSlider(value=37, description='image_z', max=74), FloatSlider(value=0.5, description='…"
      ]
     },
     "metadata": {},
     "output_type": "display_data"
    },
    {
     "data": {
      "application/vnd.jupyter.widget-view+json": {
       "model_id": "7558d85b20c4439a90f6a9e31863497c",
       "version_major": 2,
       "version_minor": 0
      },
      "text/plain": [
       "interactive(children=(IntSlider(value=37, description='image_z', max=74), FloatSlider(value=0.5, description='…"
      ]
     },
     "metadata": {},
     "output_type": "display_data"
    },
    {
     "data": {
      "application/vnd.jupyter.widget-view+json": {
       "model_id": "438d22726e244d70a599e8a898115228",
       "version_major": 2,
       "version_minor": 0
      },
      "text/plain": [
       "interactive(children=(IntSlider(value=37, description='image_z', max=74), FloatSlider(value=0.5, description='…"
      ]
     },
     "metadata": {},
     "output_type": "display_data"
    },
    {
     "data": {
      "application/vnd.jupyter.widget-view+json": {
       "model_id": "e6edb42ab5454d829464959a4169550f",
       "version_major": 2,
       "version_minor": 0
      },
      "text/plain": [
       "interactive(children=(IntSlider(value=37, description='image_z', max=74), FloatSlider(value=0.5, description='…"
      ]
     },
     "metadata": {},
     "output_type": "display_data"
    },
    {
     "name": "stdout",
     "output_type": "stream",
     "text": [
      "9404954L\n"
     ]
    },
    {
     "data": {
      "application/vnd.jupyter.widget-view+json": {
       "model_id": "ce360cff865646b890d1eb9063c83737",
       "version_major": 2,
       "version_minor": 0
      },
      "text/plain": [
       "interactive(children=(IntSlider(value=37, description='image_z', max=74), FloatSlider(value=0.5, description='…"
      ]
     },
     "metadata": {},
     "output_type": "display_data"
    },
    {
     "data": {
      "application/vnd.jupyter.widget-view+json": {
       "model_id": "f7d86b9ff8b44b8cb216da7143c80a24",
       "version_major": 2,
       "version_minor": 0
      },
      "text/plain": [
       "interactive(children=(IntSlider(value=37, description='image_z', max=74), FloatSlider(value=0.5, description='…"
      ]
     },
     "metadata": {},
     "output_type": "display_data"
    },
    {
     "data": {
      "application/vnd.jupyter.widget-view+json": {
       "model_id": "37f83ddcd13840b49b11adabe2b75455",
       "version_major": 2,
       "version_minor": 0
      },
      "text/plain": [
       "interactive(children=(IntSlider(value=37, description='image_z', max=74), FloatSlider(value=0.5, description='…"
      ]
     },
     "metadata": {},
     "output_type": "display_data"
    },
    {
     "data": {
      "application/vnd.jupyter.widget-view+json": {
       "model_id": "1cb86eb1e7704f31b0f6927151a3dccc",
       "version_major": 2,
       "version_minor": 0
      },
      "text/plain": [
       "interactive(children=(IntSlider(value=37, description='image_z', max=74), FloatSlider(value=0.5, description='…"
      ]
     },
     "metadata": {},
     "output_type": "display_data"
    },
    {
     "data": {
      "application/vnd.jupyter.widget-view+json": {
       "model_id": "1dc19dc7974c45d48145bcf13ccb98cc",
       "version_major": 2,
       "version_minor": 0
      },
      "text/plain": [
       "interactive(children=(IntSlider(value=37, description='image_z', max=74), FloatSlider(value=0.5, description='…"
      ]
     },
     "metadata": {},
     "output_type": "display_data"
    },
    {
     "name": "stdout",
     "output_type": "stream",
     "text": [
      "9404954R\n"
     ]
    },
    {
     "data": {
      "application/vnd.jupyter.widget-view+json": {
       "model_id": "fef5287374a94e658b2f6732c1e9c467",
       "version_major": 2,
       "version_minor": 0
      },
      "text/plain": [
       "interactive(children=(IntSlider(value=37, description='image_z', max=74), FloatSlider(value=0.5, description='…"
      ]
     },
     "metadata": {},
     "output_type": "display_data"
    },
    {
     "data": {
      "application/vnd.jupyter.widget-view+json": {
       "model_id": "17de7409191444929be64d5c502ce3b9",
       "version_major": 2,
       "version_minor": 0
      },
      "text/plain": [
       "interactive(children=(IntSlider(value=37, description='image_z', max=74), FloatSlider(value=0.5, description='…"
      ]
     },
     "metadata": {},
     "output_type": "display_data"
    },
    {
     "data": {
      "application/vnd.jupyter.widget-view+json": {
       "model_id": "0dbe388a1b3b4a82a48c7eab864b1ec5",
       "version_major": 2,
       "version_minor": 0
      },
      "text/plain": [
       "interactive(children=(IntSlider(value=37, description='image_z', max=74), FloatSlider(value=0.5, description='…"
      ]
     },
     "metadata": {},
     "output_type": "display_data"
    },
    {
     "data": {
      "application/vnd.jupyter.widget-view+json": {
       "model_id": "a256e23b2c0d4e46b4eea0591e2903f0",
       "version_major": 2,
       "version_minor": 0
      },
      "text/plain": [
       "interactive(children=(IntSlider(value=37, description='image_z', max=74), FloatSlider(value=0.5, description='…"
      ]
     },
     "metadata": {},
     "output_type": "display_data"
    },
    {
     "data": {
      "application/vnd.jupyter.widget-view+json": {
       "model_id": "8847c752f07f4a5fb1b0545867f82434",
       "version_major": 2,
       "version_minor": 0
      },
      "text/plain": [
       "interactive(children=(IntSlider(value=37, description='image_z', max=74), FloatSlider(value=0.5, description='…"
      ]
     },
     "metadata": {},
     "output_type": "display_data"
    },
    {
     "data": {
      "application/vnd.jupyter.widget-view+json": {
       "model_id": "dd5e0ba4b4054f7f9f2ae8d48b1a6f0c",
       "version_major": 2,
       "version_minor": 0
      },
      "text/plain": [
       "interactive(children=(IntSlider(value=37, description='image_z', max=74), FloatSlider(value=0.5, description='…"
      ]
     },
     "metadata": {},
     "output_type": "display_data"
    },
    {
     "data": {
      "application/vnd.jupyter.widget-view+json": {
       "model_id": "ff3e950f19594489a82bc3ea089a0cc7",
       "version_major": 2,
       "version_minor": 0
      },
      "text/plain": [
       "interactive(children=(IntSlider(value=37, description='image_z', max=74), FloatSlider(value=0.5, description='…"
      ]
     },
     "metadata": {},
     "output_type": "display_data"
    },
    {
     "name": "stdout",
     "output_type": "stream",
     "text": [
      "9939718R\n"
     ]
    },
    {
     "data": {
      "application/vnd.jupyter.widget-view+json": {
       "model_id": "53a4c7589dce42ccaa8a983b4da18de0",
       "version_major": 2,
       "version_minor": 0
      },
      "text/plain": [
       "interactive(children=(IntSlider(value=29, description='image_z', max=59), FloatSlider(value=0.5, description='…"
      ]
     },
     "metadata": {},
     "output_type": "display_data"
    },
    {
     "data": {
      "application/vnd.jupyter.widget-view+json": {
       "model_id": "23f91604825a421186771838ac229f40",
       "version_major": 2,
       "version_minor": 0
      },
      "text/plain": [
       "interactive(children=(IntSlider(value=29, description='image_z', max=59), FloatSlider(value=0.5, description='…"
      ]
     },
     "metadata": {},
     "output_type": "display_data"
    },
    {
     "data": {
      "application/vnd.jupyter.widget-view+json": {
       "model_id": "da29c6f65ae04b74b8934ea099de922b",
       "version_major": 2,
       "version_minor": 0
      },
      "text/plain": [
       "interactive(children=(IntSlider(value=29, description='image_z', max=59), FloatSlider(value=0.5, description='…"
      ]
     },
     "metadata": {},
     "output_type": "display_data"
    },
    {
     "data": {
      "application/vnd.jupyter.widget-view+json": {
       "model_id": "1afbf21c91f9407daf8df320dbc0e2b8",
       "version_major": 2,
       "version_minor": 0
      },
      "text/plain": [
       "interactive(children=(IntSlider(value=29, description='image_z', max=59), FloatSlider(value=0.5, description='…"
      ]
     },
     "metadata": {},
     "output_type": "display_data"
    },
    {
     "data": {
      "application/vnd.jupyter.widget-view+json": {
       "model_id": "dfc6b2bbd1bb435a8d4b908e24f44113",
       "version_major": 2,
       "version_minor": 0
      },
      "text/plain": [
       "interactive(children=(IntSlider(value=29, description='image_z', max=59), FloatSlider(value=0.5, description='…"
      ]
     },
     "metadata": {},
     "output_type": "display_data"
    },
    {
     "data": {
      "application/vnd.jupyter.widget-view+json": {
       "model_id": "8d49bf666487435f92ef28c6a18e2432",
       "version_major": 2,
       "version_minor": 0
      },
      "text/plain": [
       "interactive(children=(IntSlider(value=29, description='image_z', max=59), FloatSlider(value=0.5, description='…"
      ]
     },
     "metadata": {},
     "output_type": "display_data"
    },
    {
     "data": {
      "application/vnd.jupyter.widget-view+json": {
       "model_id": "54bbde9c811345039ae350802a11c909",
       "version_major": 2,
       "version_minor": 0
      },
      "text/plain": [
       "interactive(children=(IntSlider(value=29, description='image_z', max=59), FloatSlider(value=0.5, description='…"
      ]
     },
     "metadata": {},
     "output_type": "display_data"
    },
    {
     "name": "stdout",
     "output_type": "stream",
     "text": [
      "9941231L\n"
     ]
    },
    {
     "data": {
      "application/vnd.jupyter.widget-view+json": {
       "model_id": "9702cfc74b634e1bbef2f9ba1e30fa9d",
       "version_major": 2,
       "version_minor": 0
      },
      "text/plain": [
       "interactive(children=(IntSlider(value=34, description='image_z', max=68), FloatSlider(value=0.5, description='…"
      ]
     },
     "metadata": {},
     "output_type": "display_data"
    },
    {
     "data": {
      "application/vnd.jupyter.widget-view+json": {
       "model_id": "3db94a4d52934624b71c263c0c7be3a6",
       "version_major": 2,
       "version_minor": 0
      },
      "text/plain": [
       "interactive(children=(IntSlider(value=34, description='image_z', max=68), FloatSlider(value=0.5, description='…"
      ]
     },
     "metadata": {},
     "output_type": "display_data"
    },
    {
     "data": {
      "application/vnd.jupyter.widget-view+json": {
       "model_id": "fc344ffb40af457bbbb0b3bda58386e2",
       "version_major": 2,
       "version_minor": 0
      },
      "text/plain": [
       "interactive(children=(IntSlider(value=34, description='image_z', max=68), FloatSlider(value=0.5, description='…"
      ]
     },
     "metadata": {},
     "output_type": "display_data"
    },
    {
     "data": {
      "application/vnd.jupyter.widget-view+json": {
       "model_id": "2d9804360b5d42e1a556a61e62a1f1d2",
       "version_major": 2,
       "version_minor": 0
      },
      "text/plain": [
       "interactive(children=(IntSlider(value=34, description='image_z', max=68), FloatSlider(value=0.5, description='…"
      ]
     },
     "metadata": {},
     "output_type": "display_data"
    },
    {
     "data": {
      "application/vnd.jupyter.widget-view+json": {
       "model_id": "e314e7a37d5847268f2a5f967a2799a3",
       "version_major": 2,
       "version_minor": 0
      },
      "text/plain": [
       "interactive(children=(IntSlider(value=34, description='image_z', max=68), FloatSlider(value=0.5, description='…"
      ]
     },
     "metadata": {},
     "output_type": "display_data"
    },
    {
     "data": {
      "application/vnd.jupyter.widget-view+json": {
       "model_id": "8f53885e612e482e93808ea93d1c5349",
       "version_major": 2,
       "version_minor": 0
      },
      "text/plain": [
       "interactive(children=(IntSlider(value=34, description='image_z', max=68), FloatSlider(value=0.5, description='…"
      ]
     },
     "metadata": {},
     "output_type": "display_data"
    },
    {
     "name": "stdout",
     "output_type": "stream",
     "text": [
      "9941231R\n"
     ]
    },
    {
     "data": {
      "application/vnd.jupyter.widget-view+json": {
       "model_id": "519e625e3a944ccbae1ae47d0f30c9f1",
       "version_major": 2,
       "version_minor": 0
      },
      "text/plain": [
       "interactive(children=(IntSlider(value=36, description='image_z', max=73), FloatSlider(value=0.5, description='…"
      ]
     },
     "metadata": {},
     "output_type": "display_data"
    },
    {
     "data": {
      "application/vnd.jupyter.widget-view+json": {
       "model_id": "2c924c962b244db7847cfbff2fd4d2bd",
       "version_major": 2,
       "version_minor": 0
      },
      "text/plain": [
       "interactive(children=(IntSlider(value=36, description='image_z', max=73), FloatSlider(value=0.5, description='…"
      ]
     },
     "metadata": {},
     "output_type": "display_data"
    },
    {
     "data": {
      "application/vnd.jupyter.widget-view+json": {
       "model_id": "9784709cd4e042269542adbb93e9f3cd",
       "version_major": 2,
       "version_minor": 0
      },
      "text/plain": [
       "interactive(children=(IntSlider(value=36, description='image_z', max=73), FloatSlider(value=0.5, description='…"
      ]
     },
     "metadata": {},
     "output_type": "display_data"
    },
    {
     "data": {
      "application/vnd.jupyter.widget-view+json": {
       "model_id": "0b0aa6a2cae24c4699b41e1fba0a16dc",
       "version_major": 2,
       "version_minor": 0
      },
      "text/plain": [
       "interactive(children=(IntSlider(value=36, description='image_z', max=73), FloatSlider(value=0.5, description='…"
      ]
     },
     "metadata": {},
     "output_type": "display_data"
    },
    {
     "name": "stdout",
     "output_type": "stream",
     "text": [
      "9942030L\n"
     ]
    },
    {
     "data": {
      "application/vnd.jupyter.widget-view+json": {
       "model_id": "6ca4e367b9de460fbdea29b445188b3a",
       "version_major": 2,
       "version_minor": 0
      },
      "text/plain": [
       "interactive(children=(IntSlider(value=37, description='image_z', max=74), FloatSlider(value=0.5, description='…"
      ]
     },
     "metadata": {},
     "output_type": "display_data"
    },
    {
     "data": {
      "application/vnd.jupyter.widget-view+json": {
       "model_id": "c66bb3d526f040628c24a914d9dc7504",
       "version_major": 2,
       "version_minor": 0
      },
      "text/plain": [
       "interactive(children=(IntSlider(value=37, description='image_z', max=74), FloatSlider(value=0.5, description='…"
      ]
     },
     "metadata": {},
     "output_type": "display_data"
    },
    {
     "data": {
      "application/vnd.jupyter.widget-view+json": {
       "model_id": "8c417c285d494f8496cc739a8e9baf49",
       "version_major": 2,
       "version_minor": 0
      },
      "text/plain": [
       "interactive(children=(IntSlider(value=37, description='image_z', max=74), FloatSlider(value=0.5, description='…"
      ]
     },
     "metadata": {},
     "output_type": "display_data"
    },
    {
     "data": {
      "application/vnd.jupyter.widget-view+json": {
       "model_id": "ff892de7e6944ff2b289f9821689997d",
       "version_major": 2,
       "version_minor": 0
      },
      "text/plain": [
       "interactive(children=(IntSlider(value=37, description='image_z', max=74), FloatSlider(value=0.5, description='…"
      ]
     },
     "metadata": {},
     "output_type": "display_data"
    },
    {
     "name": "stdout",
     "output_type": "stream",
     "text": [
      "9942030R\n"
     ]
    },
    {
     "data": {
      "application/vnd.jupyter.widget-view+json": {
       "model_id": "3f4e595057d34acd91f5125c93a71525",
       "version_major": 2,
       "version_minor": 0
      },
      "text/plain": [
       "interactive(children=(IntSlider(value=37, description='image_z', max=74), FloatSlider(value=0.5, description='…"
      ]
     },
     "metadata": {},
     "output_type": "display_data"
    },
    {
     "data": {
      "application/vnd.jupyter.widget-view+json": {
       "model_id": "4786824b000941ca87f5bcefd43f291e",
       "version_major": 2,
       "version_minor": 0
      },
      "text/plain": [
       "interactive(children=(IntSlider(value=37, description='image_z', max=74), FloatSlider(value=0.5, description='…"
      ]
     },
     "metadata": {},
     "output_type": "display_data"
    },
    {
     "data": {
      "application/vnd.jupyter.widget-view+json": {
       "model_id": "b15427da19364a1d9ac7a1735b6bff41",
       "version_major": 2,
       "version_minor": 0
      },
      "text/plain": [
       "interactive(children=(IntSlider(value=37, description='image_z', max=74), FloatSlider(value=0.5, description='…"
      ]
     },
     "metadata": {},
     "output_type": "display_data"
    },
    {
     "data": {
      "application/vnd.jupyter.widget-view+json": {
       "model_id": "5129b82ce7e045398d6224a591ccca2e",
       "version_major": 2,
       "version_minor": 0
      },
      "text/plain": [
       "interactive(children=(IntSlider(value=37, description='image_z', max=74), FloatSlider(value=0.5, description='…"
      ]
     },
     "metadata": {},
     "output_type": "display_data"
    },
    {
     "name": "stdout",
     "output_type": "stream",
     "text": [
      "9942724L\n"
     ]
    },
    {
     "data": {
      "application/vnd.jupyter.widget-view+json": {
       "model_id": "78dc4ec31e284e6ea4b7a6bfc760e3ab",
       "version_major": 2,
       "version_minor": 0
      },
      "text/plain": [
       "interactive(children=(IntSlider(value=29, description='image_z', max=59), FloatSlider(value=0.5, description='…"
      ]
     },
     "metadata": {},
     "output_type": "display_data"
    },
    {
     "data": {
      "application/vnd.jupyter.widget-view+json": {
       "model_id": "8a214b80163741569e769f1e8774939b",
       "version_major": 2,
       "version_minor": 0
      },
      "text/plain": [
       "interactive(children=(IntSlider(value=29, description='image_z', max=59), FloatSlider(value=0.5, description='…"
      ]
     },
     "metadata": {},
     "output_type": "display_data"
    },
    {
     "data": {
      "application/vnd.jupyter.widget-view+json": {
       "model_id": "93f9ca7380a349b586acbe642fe362be",
       "version_major": 2,
       "version_minor": 0
      },
      "text/plain": [
       "interactive(children=(IntSlider(value=29, description='image_z', max=59), FloatSlider(value=0.5, description='…"
      ]
     },
     "metadata": {},
     "output_type": "display_data"
    },
    {
     "data": {
      "application/vnd.jupyter.widget-view+json": {
       "model_id": "d0406277ceeb497b9c92c8e3ce3691a0",
       "version_major": 2,
       "version_minor": 0
      },
      "text/plain": [
       "interactive(children=(IntSlider(value=29, description='image_z', max=59), FloatSlider(value=0.5, description='…"
      ]
     },
     "metadata": {},
     "output_type": "display_data"
    },
    {
     "name": "stdout",
     "output_type": "stream",
     "text": [
      "9942724R\n"
     ]
    },
    {
     "data": {
      "application/vnd.jupyter.widget-view+json": {
       "model_id": "98a687d5d2b5450da008a30f2fd318d5",
       "version_major": 2,
       "version_minor": 0
      },
      "text/plain": [
       "interactive(children=(IntSlider(value=29, description='image_z', max=59), FloatSlider(value=0.5, description='…"
      ]
     },
     "metadata": {},
     "output_type": "display_data"
    },
    {
     "data": {
      "application/vnd.jupyter.widget-view+json": {
       "model_id": "570e87ea785246618b50f0949aceff51",
       "version_major": 2,
       "version_minor": 0
      },
      "text/plain": [
       "interactive(children=(IntSlider(value=29, description='image_z', max=59), FloatSlider(value=0.5, description='…"
      ]
     },
     "metadata": {},
     "output_type": "display_data"
    },
    {
     "data": {
      "application/vnd.jupyter.widget-view+json": {
       "model_id": "be6489a51ec94491935c5a23011cea5e",
       "version_major": 2,
       "version_minor": 0
      },
      "text/plain": [
       "interactive(children=(IntSlider(value=29, description='image_z', max=59), FloatSlider(value=0.5, description='…"
      ]
     },
     "metadata": {},
     "output_type": "display_data"
    },
    {
     "data": {
      "application/vnd.jupyter.widget-view+json": {
       "model_id": "fb748988734c45bcbac3ce50096acc90",
       "version_major": 2,
       "version_minor": 0
      },
      "text/plain": [
       "interactive(children=(IntSlider(value=29, description='image_z', max=59), FloatSlider(value=0.5, description='…"
      ]
     },
     "metadata": {},
     "output_type": "display_data"
    },
    {
     "data": {
      "application/vnd.jupyter.widget-view+json": {
       "model_id": "6c217f98c9554f1e8537f6747215094a",
       "version_major": 2,
       "version_minor": 0
      },
      "text/plain": [
       "interactive(children=(IntSlider(value=29, description='image_z', max=59), FloatSlider(value=0.5, description='…"
      ]
     },
     "metadata": {},
     "output_type": "display_data"
    }
   ],
   "source": [
    "show_slice_images(image_data)"
   ]
  },
  {
   "cell_type": "code",
   "execution_count": null,
   "metadata": {},
   "outputs": [],
   "source": [
    "# 57 cases in total\n",
    "# 9941231L TP5, 9941231R TP10 bone registered but vessel not\n",
    "# 9941231L TP10, 9942724L TP10, 9942724R TP10 fail\n"
   ]
  },
  {
   "cell_type": "code",
   "execution_count": 6,
   "metadata": {},
   "outputs": [],
   "source": [
    "def display_images_with_mask(image_z, fixed, moving):\n",
    "    # img = (1.0 - alpha)*fixed[:,:,image_z] + alpha*moving[:,:,image_z]\n",
    "    fixed = sitk.GetArrayFromImage(fixed)\n",
    "    moving = sitk.GetArrayFromImage(moving) # mask\n",
    "    dst = fixed[image_z,:,:]*0.5+moving[image_z,:,:]*0.5*255\n",
    "#     plt.figure(figsize=(15,15))\n",
    "    plt.imshow(dst, cmap=plt.cm.Greys_r)\n",
    "    # plt.imshow(sitk.GetArrayViewFromImage(img),cmap=plt.cm.Greys_r);\n",
    "    plt.axis('off')\n",
    "    plt.show()\n",
    "\n",
    "def show_masked_images(image, mask):\n",
    "    interact(display_images_with_mask, image_z=(0,image.GetSize()[2] - 1), \n",
    "             fixed = fixed(image), moving=fixed(mask));"
   ]
  },
  {
   "cell_type": "code",
   "execution_count": 7,
   "metadata": {},
   "outputs": [],
   "source": [
    "def display_images_with_mask_sagittal(image_z, fixed, moving):\n",
    "    # img = (1.0 - alpha)*fixed[:,:,image_z] + alpha*moving[:,:,image_z]\n",
    "    fixed = sitk.GetArrayFromImage(fixed)\n",
    "    moving = sitk.GetArrayFromImage(moving) # mask\n",
    "    dst = fixed[:,:,image_z]*0.5+moving[:,:,image_z]*0.5*255\n",
    "    plt.figure(figsize=(7,7))\n",
    "    plt.imshow(dst, cmap=plt.cm.Greys_r)\n",
    "    # plt.imshow(sitk.GetArrayViewFromImage(img),cmap=plt.cm.Greys_r);\n",
    "    plt.axis('off')\n",
    "    plt.show()\n",
    "\n",
    "def show_masked_images_sagittal(image, mask):\n",
    "    interact(display_images_with_mask_sagittal, image_z=(0,image.GetSize()[0] - 1), \n",
    "             fixed = fixed(image), moving=fixed(mask));\n",
    "    \n",
    "def display_images_with_all_masks(image_z, alpha, fixed, moving, tibia):\n",
    "    # img = (1.0 - alpha)*fixed[:,:,image_z] + alpha*moving[:,:,image_z]\n",
    "    fixed = sitk.GetArrayFromImage(fixed)\n",
    "    moving = sitk.GetArrayFromImage(moving) # mask\n",
    "    tibia = sitk.GetArrayFromImage(tibia) # mask\n",
    "    dst = fixed[:,:,image_z]*alpha+moving[:,:,image_z]*(1-alpha)*255+tibia[:,:,image_z]*(1-alpha)*255\n",
    "    dst = np.flipud(dst)\n",
    "    plt.figure(figsize=(7,7))\n",
    "    plt.imshow(dst, cmap=plt.cm.Greys_r)\n",
    "    # plt.imshow(sitk.GetArrayViewFromImage(img),cmap=plt.cm.Greys_r);\n",
    "    plt.axis('off')\n",
    "    plt.show()\n",
    "\n",
    "def show_all_masked_images(image, mask, tibia):\n",
    "    interact(display_images_with_all_masks, image_z=(0,image.GetSize()[0] - 1), alpha=(0.0,1.0,0.05),\n",
    "             fixed = fixed(image), moving=fixed(mask), tibia=fixed(tibia));"
   ]
  },
  {
   "cell_type": "code",
   "execution_count": 102,
   "metadata": {},
   "outputs": [
    {
     "name": "stdout",
     "output_type": "stream",
     "text": [
      "[384 384  75] [384, 384, 309]\n",
      "[384 384  75] [384, 384, 309]\n",
      "[384 384  75] [384, 384, 309]\n"
     ]
    },
    {
     "data": {
      "application/vnd.jupyter.widget-view+json": {
       "model_id": "f1f35ad5c54e4214ab27038a187f18b6",
       "version_major": 2,
       "version_minor": 0
      },
      "text/plain": [
       "interactive(children=(IntSlider(value=191, description='image_z', max=383), Output()), _dom_classes=('widget-i…"
      ]
     },
     "metadata": {},
     "output_type": "display_data"
    }
   ],
   "source": [
    "# mask_file_name = image_data[0]['reference_folder'] + '9941231L_TP0_prep_f.mha'\n",
    "mask_file_name = image_data[0]['segmented_folder'] + '9404954L_TP0_prep_f.mha'\n",
    "tibia_file_name = image_data[0]['segmented_folder'] + '9404954L_TP0_prep_t.mha'\n",
    "# mask_file_name = 'C:\\\\Zhixuan\\\\OAI-registration\\\\pykneer-yg\\\\reference\\\\longitudinal\\\\9941446L_TP0_prep_t.mha'\n",
    "moving_file_name   = image_data[0]['moving_folder']    + \"9404954L_TP0_prep.mha\"\n",
    "mask = sitk.ReadImage(mask_file_name)\n",
    "tibia = sitk.ReadImage(tibia_file_name)\n",
    "moving = sitk.ReadImage(moving_file_name)\n",
    "key = 1\n",
    "if key == 1:\n",
    "    mask = resample_bwimage(mask)\n",
    "    tibia = resample_bwimage(tibia)\n",
    "    moving = resample_bwimage(moving)\n",
    "#     show_masked_images_sagittal(moving, mask)\n",
    "    show_all_masked_images(moving, mask,tibia)\n",
    "else:\n",
    "    show_masked_images(moving, mask)    "
   ]
  },
  {
   "cell_type": "code",
   "execution_count": 13,
   "metadata": {},
   "outputs": [],
   "source": [
    "def show_sagital_slice_images(all_image_data, is_rigid=False):\n",
    "    last_name = '0000000L'\n",
    "    # for each image\n",
    "    for i in range(0, len(all_image_data)):\n",
    "#     for i in range(0, 4):\n",
    "\n",
    "        # get paths and file names of the current image\n",
    "        image_data                    = all_image_data[i]\n",
    "#         if image_data['moving_name'][:8] != last_name:\n",
    "#             last_name = image_data['moving_name'][:8]\n",
    "        print(image_data['moving_name'][:12])       \n",
    "   \n",
    "        # mask_file_name = image_data[0]['reference_folder'] + '9941231L_TP0_prep_f.mha'\n",
    "        if is_rigid:\n",
    "            mask_file_name = image_data['segmented_folder'] + image_data['fmask'][:-5] + 'f_rigid.mha'\n",
    "            tibia_file_name = image_data['segmented_folder'] + image_data['fmask'][:-5] + 't_rigid.mha'\n",
    "        else:\n",
    "            mask_file_name = image_data['segmented_folder'] + image_data['fmask']\n",
    "            tibia_file_name = image_data['segmented_folder'] + image_data['fmask'][:-5] + 't.mha'\n",
    "        # mask_file_name = 'C:\\\\Zhixuan\\\\OAI-registration\\\\pykneer-yg\\\\reference\\\\longitudinal\\\\9941446L_TP0_prep_t.mha'\n",
    "        moving_file_name   = image_data['moving_folder']    + image_data['moving_name']\n",
    "        mask = sitk.ReadImage(mask_file_name)\n",
    "        tibia = sitk.ReadImage(tibia_file_name)\n",
    "        moving = sitk.ReadImage(moving_file_name)\n",
    "        key = 1\n",
    "        if key == 1:\n",
    "            mask = resample_bwimage(mask)\n",
    "            tibia = resample_bwimage(tibia)\n",
    "            moving = resample_bwimage(moving)\n",
    "        #     show_masked_images_sagittal(moving, mask)\n",
    "            show_all_masked_images(moving, mask,tibia)\n",
    "        else:\n",
    "            show_masked_images(moving, mask)    "
   ]
  },
  {
   "cell_type": "code",
   "execution_count": 12,
   "metadata": {},
   "outputs": [
    {
     "name": "stdout",
     "output_type": "stream",
     "text": [
      "9941446L_TP0\n"
     ]
    },
    {
     "data": {
      "application/vnd.jupyter.widget-view+json": {
       "model_id": "a308771eb8814abb98aec40020e0f45f",
       "version_major": 2,
       "version_minor": 0
      },
      "text/plain": [
       "interactive(children=(IntSlider(value=191, description='image_z', max=383), FloatSlider(value=0.5, description…"
      ]
     },
     "metadata": {},
     "output_type": "display_data"
    },
    {
     "name": "stdout",
     "output_type": "stream",
     "text": [
      "9941446R_TP0\n"
     ]
    },
    {
     "data": {
      "application/vnd.jupyter.widget-view+json": {
       "model_id": "9e484b9de83843fbae656ad40bcb7112",
       "version_major": 2,
       "version_minor": 0
      },
      "text/plain": [
       "interactive(children=(IntSlider(value=191, description='image_z', max=383), FloatSlider(value=0.5, description…"
      ]
     },
     "metadata": {},
     "output_type": "display_data"
    },
    {
     "name": "stdout",
     "output_type": "stream",
     "text": [
      "9404954L_TP0\n"
     ]
    },
    {
     "data": {
      "application/vnd.jupyter.widget-view+json": {
       "model_id": "a5a0a9b34a1947a69fd1c1ef23a67a5f",
       "version_major": 2,
       "version_minor": 0
      },
      "text/plain": [
       "interactive(children=(IntSlider(value=191, description='image_z', max=383), FloatSlider(value=0.5, description…"
      ]
     },
     "metadata": {},
     "output_type": "display_data"
    },
    {
     "name": "stdout",
     "output_type": "stream",
     "text": [
      "9404954R_TP0\n"
     ]
    },
    {
     "data": {
      "application/vnd.jupyter.widget-view+json": {
       "model_id": "b78331185b794e1e9fdc8983c45f861e",
       "version_major": 2,
       "version_minor": 0
      },
      "text/plain": [
       "interactive(children=(IntSlider(value=191, description='image_z', max=383), FloatSlider(value=0.5, description…"
      ]
     },
     "metadata": {},
     "output_type": "display_data"
    }
   ],
   "source": [
    "show_sagital_slice_images(image_data)"
   ]
  },
  {
   "cell_type": "code",
   "execution_count": 9,
   "metadata": {},
   "outputs": [
    {
     "name": "stdout",
     "output_type": "stream",
     "text": [
      "9941446L_TP1\n"
     ]
    },
    {
     "data": {
      "application/vnd.jupyter.widget-view+json": {
       "model_id": "",
       "version_major": 2,
       "version_minor": 0
      },
      "text/plain": [
       "interactive(children=(IntSlider(value=191, description='image_z', max=383), FloatSlider(value=0.5, description…"
      ]
     },
     "metadata": {},
     "output_type": "display_data"
    },
    {
     "name": "stdout",
     "output_type": "stream",
     "text": [
      "9941446L_TP3\n"
     ]
    },
    {
     "data": {
      "application/vnd.jupyter.widget-view+json": {
       "model_id": "",
       "version_major": 2,
       "version_minor": 0
      },
      "text/plain": [
       "interactive(children=(IntSlider(value=191, description='image_z', max=383), FloatSlider(value=0.5, description…"
      ]
     },
     "metadata": {},
     "output_type": "display_data"
    },
    {
     "name": "stdout",
     "output_type": "stream",
     "text": [
      "9941446L_TP6\n"
     ]
    },
    {
     "data": {
      "application/vnd.jupyter.widget-view+json": {
       "model_id": "",
       "version_major": 2,
       "version_minor": 0
      },
      "text/plain": [
       "interactive(children=(IntSlider(value=191, description='image_z', max=383), FloatSlider(value=0.5, description…"
      ]
     },
     "metadata": {},
     "output_type": "display_data"
    },
    {
     "name": "stdout",
     "output_type": "stream",
     "text": [
      "9941446L_TP8\n"
     ]
    },
    {
     "data": {
      "application/vnd.jupyter.widget-view+json": {
       "model_id": "",
       "version_major": 2,
       "version_minor": 0
      },
      "text/plain": [
       "interactive(children=(IntSlider(value=191, description='image_z', max=383), FloatSlider(value=0.5, description…"
      ]
     },
     "metadata": {},
     "output_type": "display_data"
    },
    {
     "name": "stdout",
     "output_type": "stream",
     "text": [
      "9941446L_TP1\n"
     ]
    },
    {
     "data": {
      "application/vnd.jupyter.widget-view+json": {
       "model_id": "",
       "version_major": 2,
       "version_minor": 0
      },
      "text/plain": [
       "interactive(children=(IntSlider(value=191, description='image_z', max=383), FloatSlider(value=0.5, description…"
      ]
     },
     "metadata": {},
     "output_type": "display_data"
    },
    {
     "name": "stdout",
     "output_type": "stream",
     "text": [
      "9941446R_TP1\n"
     ]
    },
    {
     "data": {
      "application/vnd.jupyter.widget-view+json": {
       "model_id": "",
       "version_major": 2,
       "version_minor": 0
      },
      "text/plain": [
       "interactive(children=(IntSlider(value=191, description='image_z', max=383), FloatSlider(value=0.5, description…"
      ]
     },
     "metadata": {},
     "output_type": "display_data"
    },
    {
     "name": "stdout",
     "output_type": "stream",
     "text": [
      "9941446R_TP3\n"
     ]
    },
    {
     "data": {
      "application/vnd.jupyter.widget-view+json": {
       "model_id": "",
       "version_major": 2,
       "version_minor": 0
      },
      "text/plain": [
       "interactive(children=(IntSlider(value=191, description='image_z', max=383), FloatSlider(value=0.5, description…"
      ]
     },
     "metadata": {},
     "output_type": "display_data"
    },
    {
     "name": "stdout",
     "output_type": "stream",
     "text": [
      "9941446R_TP5\n"
     ]
    },
    {
     "data": {
      "application/vnd.jupyter.widget-view+json": {
       "model_id": "",
       "version_major": 2,
       "version_minor": 0
      },
      "text/plain": [
       "interactive(children=(IntSlider(value=191, description='image_z', max=383), FloatSlider(value=0.5, description…"
      ]
     },
     "metadata": {},
     "output_type": "display_data"
    },
    {
     "name": "stdout",
     "output_type": "stream",
     "text": [
      "9941446R_TP6\n"
     ]
    },
    {
     "data": {
      "application/vnd.jupyter.widget-view+json": {
       "model_id": "",
       "version_major": 2,
       "version_minor": 0
      },
      "text/plain": [
       "interactive(children=(IntSlider(value=191, description='image_z', max=383), FloatSlider(value=0.5, description…"
      ]
     },
     "metadata": {},
     "output_type": "display_data"
    },
    {
     "name": "stdout",
     "output_type": "stream",
     "text": [
      "9941446R_TP8\n"
     ]
    },
    {
     "data": {
      "application/vnd.jupyter.widget-view+json": {
       "model_id": "",
       "version_major": 2,
       "version_minor": 0
      },
      "text/plain": [
       "interactive(children=(IntSlider(value=191, description='image_z', max=383), FloatSlider(value=0.5, description…"
      ]
     },
     "metadata": {},
     "output_type": "display_data"
    },
    {
     "name": "stdout",
     "output_type": "stream",
     "text": [
      "9941446R_TP1\n"
     ]
    },
    {
     "data": {
      "application/vnd.jupyter.widget-view+json": {
       "model_id": "",
       "version_major": 2,
       "version_minor": 0
      },
      "text/plain": [
       "interactive(children=(IntSlider(value=191, description='image_z', max=383), FloatSlider(value=0.5, description…"
      ]
     },
     "metadata": {},
     "output_type": "display_data"
    },
    {
     "name": "stdout",
     "output_type": "stream",
     "text": [
      "9404954L_TP1\n"
     ]
    },
    {
     "data": {
      "application/vnd.jupyter.widget-view+json": {
       "model_id": "",
       "version_major": 2,
       "version_minor": 0
      },
      "text/plain": [
       "interactive(children=(IntSlider(value=191, description='image_z', max=383), FloatSlider(value=0.5, description…"
      ]
     },
     "metadata": {},
     "output_type": "display_data"
    },
    {
     "name": "stdout",
     "output_type": "stream",
     "text": [
      "9404954L_TP3\n"
     ]
    },
    {
     "data": {
      "application/vnd.jupyter.widget-view+json": {
       "model_id": "",
       "version_major": 2,
       "version_minor": 0
      },
      "text/plain": [
       "interactive(children=(IntSlider(value=191, description='image_z', max=383), FloatSlider(value=0.5, description…"
      ]
     },
     "metadata": {},
     "output_type": "display_data"
    },
    {
     "name": "stdout",
     "output_type": "stream",
     "text": [
      "9404954L_TP6\n"
     ]
    },
    {
     "data": {
      "application/vnd.jupyter.widget-view+json": {
       "model_id": "",
       "version_major": 2,
       "version_minor": 0
      },
      "text/plain": [
       "interactive(children=(IntSlider(value=191, description='image_z', max=383), FloatSlider(value=0.5, description…"
      ]
     },
     "metadata": {},
     "output_type": "display_data"
    },
    {
     "name": "stdout",
     "output_type": "stream",
     "text": [
      "9404954L_TP8\n"
     ]
    },
    {
     "data": {
      "application/vnd.jupyter.widget-view+json": {
       "model_id": "",
       "version_major": 2,
       "version_minor": 0
      },
      "text/plain": [
       "interactive(children=(IntSlider(value=191, description='image_z', max=383), FloatSlider(value=0.5, description…"
      ]
     },
     "metadata": {},
     "output_type": "display_data"
    },
    {
     "name": "stdout",
     "output_type": "stream",
     "text": [
      "9404954L_TP1\n"
     ]
    },
    {
     "data": {
      "application/vnd.jupyter.widget-view+json": {
       "model_id": "",
       "version_major": 2,
       "version_minor": 0
      },
      "text/plain": [
       "interactive(children=(IntSlider(value=191, description='image_z', max=383), FloatSlider(value=0.5, description…"
      ]
     },
     "metadata": {},
     "output_type": "display_data"
    },
    {
     "name": "stdout",
     "output_type": "stream",
     "text": [
      "9404954R_TP1\n"
     ]
    },
    {
     "data": {
      "application/vnd.jupyter.widget-view+json": {
       "model_id": "",
       "version_major": 2,
       "version_minor": 0
      },
      "text/plain": [
       "interactive(children=(IntSlider(value=191, description='image_z', max=383), FloatSlider(value=0.5, description…"
      ]
     },
     "metadata": {},
     "output_type": "display_data"
    },
    {
     "name": "stdout",
     "output_type": "stream",
     "text": [
      "9404954R_TP3\n"
     ]
    },
    {
     "data": {
      "application/vnd.jupyter.widget-view+json": {
       "model_id": "",
       "version_major": 2,
       "version_minor": 0
      },
      "text/plain": [
       "interactive(children=(IntSlider(value=191, description='image_z', max=383), FloatSlider(value=0.5, description…"
      ]
     },
     "metadata": {},
     "output_type": "display_data"
    },
    {
     "name": "stdout",
     "output_type": "stream",
     "text": [
      "9404954R_TP4\n"
     ]
    },
    {
     "data": {
      "application/vnd.jupyter.widget-view+json": {
       "model_id": "",
       "version_major": 2,
       "version_minor": 0
      },
      "text/plain": [
       "interactive(children=(IntSlider(value=191, description='image_z', max=383), FloatSlider(value=0.5, description…"
      ]
     },
     "metadata": {},
     "output_type": "display_data"
    },
    {
     "name": "stdout",
     "output_type": "stream",
     "text": [
      "9404954R_TP5\n"
     ]
    },
    {
     "data": {
      "application/vnd.jupyter.widget-view+json": {
       "model_id": "",
       "version_major": 2,
       "version_minor": 0
      },
      "text/plain": [
       "interactive(children=(IntSlider(value=191, description='image_z', max=383), FloatSlider(value=0.5, description…"
      ]
     },
     "metadata": {},
     "output_type": "display_data"
    },
    {
     "name": "stdout",
     "output_type": "stream",
     "text": [
      "9404954R_TP6\n"
     ]
    },
    {
     "data": {
      "application/vnd.jupyter.widget-view+json": {
       "model_id": "",
       "version_major": 2,
       "version_minor": 0
      },
      "text/plain": [
       "interactive(children=(IntSlider(value=191, description='image_z', max=383), FloatSlider(value=0.5, description…"
      ]
     },
     "metadata": {},
     "output_type": "display_data"
    },
    {
     "name": "stdout",
     "output_type": "stream",
     "text": [
      "9404954R_TP8\n"
     ]
    },
    {
     "data": {
      "application/vnd.jupyter.widget-view+json": {
       "model_id": "",
       "version_major": 2,
       "version_minor": 0
      },
      "text/plain": [
       "interactive(children=(IntSlider(value=191, description='image_z', max=383), FloatSlider(value=0.5, description…"
      ]
     },
     "metadata": {},
     "output_type": "display_data"
    },
    {
     "name": "stdout",
     "output_type": "stream",
     "text": [
      "9404954R_TP1\n"
     ]
    },
    {
     "data": {
      "application/vnd.jupyter.widget-view+json": {
       "model_id": "",
       "version_major": 2,
       "version_minor": 0
      },
      "text/plain": [
       "interactive(children=(IntSlider(value=191, description='image_z', max=383), FloatSlider(value=0.5, description…"
      ]
     },
     "metadata": {},
     "output_type": "display_data"
    },
    {
     "name": "stdout",
     "output_type": "stream",
     "text": [
      "9942030L_TP1\n"
     ]
    },
    {
     "data": {
      "application/vnd.jupyter.widget-view+json": {
       "model_id": "",
       "version_major": 2,
       "version_minor": 0
      },
      "text/plain": [
       "interactive(children=(IntSlider(value=191, description='image_z', max=383), FloatSlider(value=0.5, description…"
      ]
     },
     "metadata": {},
     "output_type": "display_data"
    },
    {
     "name": "stdout",
     "output_type": "stream",
     "text": [
      "9942030L_TP3\n"
     ]
    },
    {
     "data": {
      "application/vnd.jupyter.widget-view+json": {
       "model_id": "",
       "version_major": 2,
       "version_minor": 0
      },
      "text/plain": [
       "interactive(children=(IntSlider(value=191, description='image_z', max=383), FloatSlider(value=0.5, description…"
      ]
     },
     "metadata": {},
     "output_type": "display_data"
    },
    {
     "name": "stdout",
     "output_type": "stream",
     "text": [
      "9942030L_TP5\n"
     ]
    },
    {
     "data": {
      "application/vnd.jupyter.widget-view+json": {
       "model_id": "",
       "version_major": 2,
       "version_minor": 0
      },
      "text/plain": [
       "interactive(children=(IntSlider(value=191, description='image_z', max=383), FloatSlider(value=0.5, description…"
      ]
     },
     "metadata": {},
     "output_type": "display_data"
    },
    {
     "name": "stdout",
     "output_type": "stream",
     "text": [
      "9942030L_TP6\n"
     ]
    },
    {
     "data": {
      "application/vnd.jupyter.widget-view+json": {
       "model_id": "",
       "version_major": 2,
       "version_minor": 0
      },
      "text/plain": [
       "interactive(children=(IntSlider(value=191, description='image_z', max=383), FloatSlider(value=0.5, description…"
      ]
     },
     "metadata": {},
     "output_type": "display_data"
    },
    {
     "name": "stdout",
     "output_type": "stream",
     "text": [
      "9942030R_TP1\n"
     ]
    },
    {
     "data": {
      "application/vnd.jupyter.widget-view+json": {
       "model_id": "",
       "version_major": 2,
       "version_minor": 0
      },
      "text/plain": [
       "interactive(children=(IntSlider(value=191, description='image_z', max=383), FloatSlider(value=0.5, description…"
      ]
     },
     "metadata": {},
     "output_type": "display_data"
    },
    {
     "name": "stdout",
     "output_type": "stream",
     "text": [
      "9942030R_TP3\n"
     ]
    },
    {
     "data": {
      "application/vnd.jupyter.widget-view+json": {
       "model_id": "",
       "version_major": 2,
       "version_minor": 0
      },
      "text/plain": [
       "interactive(children=(IntSlider(value=191, description='image_z', max=383), FloatSlider(value=0.5, description…"
      ]
     },
     "metadata": {},
     "output_type": "display_data"
    },
    {
     "name": "stdout",
     "output_type": "stream",
     "text": [
      "9942030R_TP5\n"
     ]
    },
    {
     "data": {
      "application/vnd.jupyter.widget-view+json": {
       "model_id": "",
       "version_major": 2,
       "version_minor": 0
      },
      "text/plain": [
       "interactive(children=(IntSlider(value=191, description='image_z', max=383), FloatSlider(value=0.5, description…"
      ]
     },
     "metadata": {},
     "output_type": "display_data"
    },
    {
     "name": "stdout",
     "output_type": "stream",
     "text": [
      "9942030R_TP6\n"
     ]
    },
    {
     "data": {
      "application/vnd.jupyter.widget-view+json": {
       "model_id": "",
       "version_major": 2,
       "version_minor": 0
      },
      "text/plain": [
       "interactive(children=(IntSlider(value=191, description='image_z', max=383), FloatSlider(value=0.5, description…"
      ]
     },
     "metadata": {},
     "output_type": "display_data"
    }
   ],
   "source": [
    "show_sagital_slice_images(image_data)"
   ]
  },
  {
   "cell_type": "code",
   "execution_count": 16,
   "metadata": {},
   "outputs": [
    {
     "name": "stdout",
     "output_type": "stream",
     "text": [
      "9941446L_TP1\n"
     ]
    },
    {
     "data": {
      "application/vnd.jupyter.widget-view+json": {
       "model_id": "a2be4f96be8340b9ae4697b5cd03636e",
       "version_major": 2,
       "version_minor": 0
      },
      "text/plain": [
       "interactive(children=(IntSlider(value=191, description='image_z', max=383), FloatSlider(value=0.5, description…"
      ]
     },
     "metadata": {},
     "output_type": "display_data"
    },
    {
     "name": "stdout",
     "output_type": "stream",
     "text": [
      "9941446L_TP3\n"
     ]
    },
    {
     "data": {
      "application/vnd.jupyter.widget-view+json": {
       "model_id": "8f9c7106eafb4693bcb29a9ef2ed79b4",
       "version_major": 2,
       "version_minor": 0
      },
      "text/plain": [
       "interactive(children=(IntSlider(value=191, description='image_z', max=383), FloatSlider(value=0.5, description…"
      ]
     },
     "metadata": {},
     "output_type": "display_data"
    },
    {
     "name": "stdout",
     "output_type": "stream",
     "text": [
      "9941446L_TP6\n"
     ]
    },
    {
     "data": {
      "application/vnd.jupyter.widget-view+json": {
       "model_id": "eadda5322bf3444b9b2cfad0fc2d9715",
       "version_major": 2,
       "version_minor": 0
      },
      "text/plain": [
       "interactive(children=(IntSlider(value=191, description='image_z', max=383), FloatSlider(value=0.5, description…"
      ]
     },
     "metadata": {},
     "output_type": "display_data"
    },
    {
     "name": "stdout",
     "output_type": "stream",
     "text": [
      "9941446L_TP8\n"
     ]
    },
    {
     "data": {
      "application/vnd.jupyter.widget-view+json": {
       "model_id": "2799d9ad317b492a96b9ff83521b179c",
       "version_major": 2,
       "version_minor": 0
      },
      "text/plain": [
       "interactive(children=(IntSlider(value=191, description='image_z', max=383), FloatSlider(value=0.5, description…"
      ]
     },
     "metadata": {},
     "output_type": "display_data"
    },
    {
     "name": "stdout",
     "output_type": "stream",
     "text": [
      "9941446L_TP1\n"
     ]
    },
    {
     "data": {
      "application/vnd.jupyter.widget-view+json": {
       "model_id": "9e9186b4e7c14494a2b3ca768334c7c1",
       "version_major": 2,
       "version_minor": 0
      },
      "text/plain": [
       "interactive(children=(IntSlider(value=191, description='image_z', max=383), FloatSlider(value=0.5, description…"
      ]
     },
     "metadata": {},
     "output_type": "display_data"
    },
    {
     "name": "stdout",
     "output_type": "stream",
     "text": [
      "9941446R_TP1\n"
     ]
    },
    {
     "data": {
      "application/vnd.jupyter.widget-view+json": {
       "model_id": "2793f469290745588508c13f69d3ef27",
       "version_major": 2,
       "version_minor": 0
      },
      "text/plain": [
       "interactive(children=(IntSlider(value=191, description='image_z', max=383), FloatSlider(value=0.5, description…"
      ]
     },
     "metadata": {},
     "output_type": "display_data"
    },
    {
     "name": "stdout",
     "output_type": "stream",
     "text": [
      "9941446R_TP3\n"
     ]
    },
    {
     "data": {
      "application/vnd.jupyter.widget-view+json": {
       "model_id": "ca22b99225ad4ee29a1de5ae59ca4be8",
       "version_major": 2,
       "version_minor": 0
      },
      "text/plain": [
       "interactive(children=(IntSlider(value=191, description='image_z', max=383), FloatSlider(value=0.5, description…"
      ]
     },
     "metadata": {},
     "output_type": "display_data"
    },
    {
     "name": "stdout",
     "output_type": "stream",
     "text": [
      "9941446R_TP5\n"
     ]
    },
    {
     "data": {
      "application/vnd.jupyter.widget-view+json": {
       "model_id": "242d12107c124190b2107e647efa71ad",
       "version_major": 2,
       "version_minor": 0
      },
      "text/plain": [
       "interactive(children=(IntSlider(value=191, description='image_z', max=383), FloatSlider(value=0.5, description…"
      ]
     },
     "metadata": {},
     "output_type": "display_data"
    },
    {
     "name": "stdout",
     "output_type": "stream",
     "text": [
      "9941446R_TP6\n"
     ]
    },
    {
     "data": {
      "application/vnd.jupyter.widget-view+json": {
       "model_id": "c044d511602c47879de87f78e4759e7f",
       "version_major": 2,
       "version_minor": 0
      },
      "text/plain": [
       "interactive(children=(IntSlider(value=191, description='image_z', max=383), FloatSlider(value=0.5, description…"
      ]
     },
     "metadata": {},
     "output_type": "display_data"
    },
    {
     "name": "stdout",
     "output_type": "stream",
     "text": [
      "9941446R_TP8\n"
     ]
    },
    {
     "data": {
      "application/vnd.jupyter.widget-view+json": {
       "model_id": "2dd65febc33244c39ce76b3a99382371",
       "version_major": 2,
       "version_minor": 0
      },
      "text/plain": [
       "interactive(children=(IntSlider(value=191, description='image_z', max=383), FloatSlider(value=0.5, description…"
      ]
     },
     "metadata": {},
     "output_type": "display_data"
    },
    {
     "name": "stdout",
     "output_type": "stream",
     "text": [
      "9941446R_TP1\n"
     ]
    },
    {
     "data": {
      "application/vnd.jupyter.widget-view+json": {
       "model_id": "a5e2937c175b4c058a74aef34226a82e",
       "version_major": 2,
       "version_minor": 0
      },
      "text/plain": [
       "interactive(children=(IntSlider(value=191, description='image_z', max=383), FloatSlider(value=0.5, description…"
      ]
     },
     "metadata": {},
     "output_type": "display_data"
    },
    {
     "name": "stdout",
     "output_type": "stream",
     "text": [
      "9404954L_TP1\n"
     ]
    },
    {
     "data": {
      "application/vnd.jupyter.widget-view+json": {
       "model_id": "134faa77751f4fd7af4d05a2a127c76c",
       "version_major": 2,
       "version_minor": 0
      },
      "text/plain": [
       "interactive(children=(IntSlider(value=191, description='image_z', max=383), FloatSlider(value=0.5, description…"
      ]
     },
     "metadata": {},
     "output_type": "display_data"
    },
    {
     "name": "stdout",
     "output_type": "stream",
     "text": [
      "9404954L_TP3\n"
     ]
    },
    {
     "data": {
      "application/vnd.jupyter.widget-view+json": {
       "model_id": "12def11c460e49d497b91e9cc1ce3e56",
       "version_major": 2,
       "version_minor": 0
      },
      "text/plain": [
       "interactive(children=(IntSlider(value=191, description='image_z', max=383), FloatSlider(value=0.5, description…"
      ]
     },
     "metadata": {},
     "output_type": "display_data"
    },
    {
     "name": "stdout",
     "output_type": "stream",
     "text": [
      "9404954L_TP6\n"
     ]
    },
    {
     "data": {
      "application/vnd.jupyter.widget-view+json": {
       "model_id": "fce070b78bce4886b9881c3ad8dbe1bd",
       "version_major": 2,
       "version_minor": 0
      },
      "text/plain": [
       "interactive(children=(IntSlider(value=191, description='image_z', max=383), FloatSlider(value=0.5, description…"
      ]
     },
     "metadata": {},
     "output_type": "display_data"
    },
    {
     "name": "stdout",
     "output_type": "stream",
     "text": [
      "9404954L_TP8\n"
     ]
    },
    {
     "data": {
      "application/vnd.jupyter.widget-view+json": {
       "model_id": "ea5aa37fd1494a2bb009c21c4757b758",
       "version_major": 2,
       "version_minor": 0
      },
      "text/plain": [
       "interactive(children=(IntSlider(value=191, description='image_z', max=383), FloatSlider(value=0.5, description…"
      ]
     },
     "metadata": {},
     "output_type": "display_data"
    },
    {
     "name": "stdout",
     "output_type": "stream",
     "text": [
      "9404954L_TP1\n"
     ]
    },
    {
     "data": {
      "application/vnd.jupyter.widget-view+json": {
       "model_id": "4635f39950634e7ca00013a09d8d68a9",
       "version_major": 2,
       "version_minor": 0
      },
      "text/plain": [
       "interactive(children=(IntSlider(value=191, description='image_z', max=383), FloatSlider(value=0.5, description…"
      ]
     },
     "metadata": {},
     "output_type": "display_data"
    },
    {
     "name": "stdout",
     "output_type": "stream",
     "text": [
      "9404954R_TP1\n"
     ]
    },
    {
     "data": {
      "application/vnd.jupyter.widget-view+json": {
       "model_id": "f6e6b192f8b14f75a2092a3cf66fa452",
       "version_major": 2,
       "version_minor": 0
      },
      "text/plain": [
       "interactive(children=(IntSlider(value=191, description='image_z', max=383), FloatSlider(value=0.5, description…"
      ]
     },
     "metadata": {},
     "output_type": "display_data"
    },
    {
     "name": "stdout",
     "output_type": "stream",
     "text": [
      "9404954R_TP3\n"
     ]
    },
    {
     "data": {
      "application/vnd.jupyter.widget-view+json": {
       "model_id": "89c6e295e63940fbbf2f11d1dca14ade",
       "version_major": 2,
       "version_minor": 0
      },
      "text/plain": [
       "interactive(children=(IntSlider(value=191, description='image_z', max=383), FloatSlider(value=0.5, description…"
      ]
     },
     "metadata": {},
     "output_type": "display_data"
    },
    {
     "name": "stdout",
     "output_type": "stream",
     "text": [
      "9404954R_TP4\n"
     ]
    },
    {
     "data": {
      "application/vnd.jupyter.widget-view+json": {
       "model_id": "b842a978d855430eb0ad632e3ef3b12b",
       "version_major": 2,
       "version_minor": 0
      },
      "text/plain": [
       "interactive(children=(IntSlider(value=191, description='image_z', max=383), FloatSlider(value=0.5, description…"
      ]
     },
     "metadata": {},
     "output_type": "display_data"
    },
    {
     "name": "stdout",
     "output_type": "stream",
     "text": [
      "9404954R_TP5\n"
     ]
    },
    {
     "data": {
      "application/vnd.jupyter.widget-view+json": {
       "model_id": "a0910d6c85a74b7ca75fdf6b16eb9ac2",
       "version_major": 2,
       "version_minor": 0
      },
      "text/plain": [
       "interactive(children=(IntSlider(value=191, description='image_z', max=383), FloatSlider(value=0.5, description…"
      ]
     },
     "metadata": {},
     "output_type": "display_data"
    },
    {
     "name": "stdout",
     "output_type": "stream",
     "text": [
      "9404954R_TP6\n"
     ]
    },
    {
     "data": {
      "application/vnd.jupyter.widget-view+json": {
       "model_id": "048f6553f4434715b71677eab2d83264",
       "version_major": 2,
       "version_minor": 0
      },
      "text/plain": [
       "interactive(children=(IntSlider(value=191, description='image_z', max=383), FloatSlider(value=0.5, description…"
      ]
     },
     "metadata": {},
     "output_type": "display_data"
    },
    {
     "name": "stdout",
     "output_type": "stream",
     "text": [
      "9404954R_TP8\n"
     ]
    },
    {
     "data": {
      "application/vnd.jupyter.widget-view+json": {
       "model_id": "0ebc1d92d34641ce91e81a3eca0cfbcf",
       "version_major": 2,
       "version_minor": 0
      },
      "text/plain": [
       "interactive(children=(IntSlider(value=191, description='image_z', max=383), FloatSlider(value=0.5, description…"
      ]
     },
     "metadata": {},
     "output_type": "display_data"
    },
    {
     "name": "stdout",
     "output_type": "stream",
     "text": [
      "9404954R_TP1\n"
     ]
    },
    {
     "data": {
      "application/vnd.jupyter.widget-view+json": {
       "model_id": "fe64517ab2304fee86eee2a98224b1cc",
       "version_major": 2,
       "version_minor": 0
      },
      "text/plain": [
       "interactive(children=(IntSlider(value=191, description='image_z', max=383), FloatSlider(value=0.5, description…"
      ]
     },
     "metadata": {},
     "output_type": "display_data"
    },
    {
     "name": "stdout",
     "output_type": "stream",
     "text": [
      "9942030L_TP1\n"
     ]
    },
    {
     "data": {
      "application/vnd.jupyter.widget-view+json": {
       "model_id": "6c7b2944a3324224a4dd54d203c101c4",
       "version_major": 2,
       "version_minor": 0
      },
      "text/plain": [
       "interactive(children=(IntSlider(value=191, description='image_z', max=383), FloatSlider(value=0.5, description…"
      ]
     },
     "metadata": {},
     "output_type": "display_data"
    },
    {
     "name": "stdout",
     "output_type": "stream",
     "text": [
      "9942030L_TP3\n"
     ]
    },
    {
     "data": {
      "application/vnd.jupyter.widget-view+json": {
       "model_id": "68db0ef86b4e47a0a7cabb97d0b30fe4",
       "version_major": 2,
       "version_minor": 0
      },
      "text/plain": [
       "interactive(children=(IntSlider(value=191, description='image_z', max=383), FloatSlider(value=0.5, description…"
      ]
     },
     "metadata": {},
     "output_type": "display_data"
    },
    {
     "name": "stdout",
     "output_type": "stream",
     "text": [
      "9942030L_TP5\n"
     ]
    },
    {
     "data": {
      "application/vnd.jupyter.widget-view+json": {
       "model_id": "523f6262ed3d4594a2df8514a6618939",
       "version_major": 2,
       "version_minor": 0
      },
      "text/plain": [
       "interactive(children=(IntSlider(value=191, description='image_z', max=383), FloatSlider(value=0.5, description…"
      ]
     },
     "metadata": {},
     "output_type": "display_data"
    },
    {
     "name": "stdout",
     "output_type": "stream",
     "text": [
      "9942030L_TP6\n"
     ]
    },
    {
     "data": {
      "application/vnd.jupyter.widget-view+json": {
       "model_id": "2c702931f5bb489cabae7efdb5af30fd",
       "version_major": 2,
       "version_minor": 0
      },
      "text/plain": [
       "interactive(children=(IntSlider(value=191, description='image_z', max=383), FloatSlider(value=0.5, description…"
      ]
     },
     "metadata": {},
     "output_type": "display_data"
    },
    {
     "name": "stdout",
     "output_type": "stream",
     "text": [
      "9942030R_TP1\n"
     ]
    },
    {
     "data": {
      "application/vnd.jupyter.widget-view+json": {
       "model_id": "7985eae8ea01488fb67e798c593961cd",
       "version_major": 2,
       "version_minor": 0
      },
      "text/plain": [
       "interactive(children=(IntSlider(value=191, description='image_z', max=383), FloatSlider(value=0.5, description…"
      ]
     },
     "metadata": {},
     "output_type": "display_data"
    },
    {
     "name": "stdout",
     "output_type": "stream",
     "text": [
      "9942030R_TP3\n"
     ]
    },
    {
     "data": {
      "application/vnd.jupyter.widget-view+json": {
       "model_id": "44b42f4c84134d0eb95deae60f2ac8a4",
       "version_major": 2,
       "version_minor": 0
      },
      "text/plain": [
       "interactive(children=(IntSlider(value=191, description='image_z', max=383), FloatSlider(value=0.5, description…"
      ]
     },
     "metadata": {},
     "output_type": "display_data"
    },
    {
     "name": "stdout",
     "output_type": "stream",
     "text": [
      "9942030R_TP5\n"
     ]
    },
    {
     "data": {
      "application/vnd.jupyter.widget-view+json": {
       "model_id": "27a4aa186f0640faa9d1bd8341aa3072",
       "version_major": 2,
       "version_minor": 0
      },
      "text/plain": [
       "interactive(children=(IntSlider(value=191, description='image_z', max=383), FloatSlider(value=0.5, description…"
      ]
     },
     "metadata": {},
     "output_type": "display_data"
    },
    {
     "name": "stdout",
     "output_type": "stream",
     "text": [
      "9942030R_TP6\n"
     ]
    },
    {
     "data": {
      "application/vnd.jupyter.widget-view+json": {
       "model_id": "5b7dcbb711ad40f48b9bbf13c885a927",
       "version_major": 2,
       "version_minor": 0
      },
      "text/plain": [
       "interactive(children=(IntSlider(value=191, description='image_z', max=383), FloatSlider(value=0.5, description…"
      ]
     },
     "metadata": {},
     "output_type": "display_data"
    }
   ],
   "source": [
    "# rigid_only\n",
    "show_sagital_slice_images(image_data, is_rigid=True)"
   ]
  },
  {
   "cell_type": "code",
   "execution_count": null,
   "metadata": {},
   "outputs": [],
   "source": [
    "# 9404954L TP3, 6, 8, 10"
   ]
  },
  {
   "cell_type": "code",
   "execution_count": 25,
   "metadata": {},
   "outputs": [
    {
     "name": "stdout",
     "output_type": "stream",
     "text": [
      "9189303L_TP1\n"
     ]
    },
    {
     "data": {
      "application/vnd.jupyter.widget-view+json": {
       "model_id": "7fc4c2a80f1a43d2bf8881de58f1bc59",
       "version_major": 2,
       "version_minor": 0
      },
      "text/plain": [
       "interactive(children=(IntSlider(value=191, description='image_z', max=383), FloatSlider(value=0.5, description…"
      ]
     },
     "metadata": {},
     "output_type": "display_data"
    },
    {
     "name": "stdout",
     "output_type": "stream",
     "text": [
      "9189303R_TP1\n"
     ]
    },
    {
     "data": {
      "application/vnd.jupyter.widget-view+json": {
       "model_id": "22433460004a480ba4ecd64cf149a4ed",
       "version_major": 2,
       "version_minor": 0
      },
      "text/plain": [
       "interactive(children=(IntSlider(value=191, description='image_z', max=383), FloatSlider(value=0.5, description…"
      ]
     },
     "metadata": {},
     "output_type": "display_data"
    },
    {
     "name": "stdout",
     "output_type": "stream",
     "text": [
      "9189303R_TP3\n"
     ]
    },
    {
     "data": {
      "application/vnd.jupyter.widget-view+json": {
       "model_id": "d5f802753ddf483ab9084309085606fe",
       "version_major": 2,
       "version_minor": 0
      },
      "text/plain": [
       "interactive(children=(IntSlider(value=191, description='image_z', max=383), FloatSlider(value=0.5, description…"
      ]
     },
     "metadata": {},
     "output_type": "display_data"
    },
    {
     "name": "stdout",
     "output_type": "stream",
     "text": [
      "9189303R_TP5\n"
     ]
    },
    {
     "data": {
      "application/vnd.jupyter.widget-view+json": {
       "model_id": "46c6e84adfbb49b78e986256b18d5853",
       "version_major": 2,
       "version_minor": 0
      },
      "text/plain": [
       "interactive(children=(IntSlider(value=191, description='image_z', max=383), FloatSlider(value=0.5, description…"
      ]
     },
     "metadata": {},
     "output_type": "display_data"
    },
    {
     "name": "stdout",
     "output_type": "stream",
     "text": [
      "9189303R_TP6\n"
     ]
    },
    {
     "data": {
      "application/vnd.jupyter.widget-view+json": {
       "model_id": "7059f6d957964bc198f443fdafbd3f57",
       "version_major": 2,
       "version_minor": 0
      },
      "text/plain": [
       "interactive(children=(IntSlider(value=191, description='image_z', max=383), FloatSlider(value=0.5, description…"
      ]
     },
     "metadata": {},
     "output_type": "display_data"
    },
    {
     "name": "stdout",
     "output_type": "stream",
     "text": [
      "9189303R_TP8\n"
     ]
    },
    {
     "data": {
      "application/vnd.jupyter.widget-view+json": {
       "model_id": "22ef5a21c16140f39a1ff6c08ff7a95b",
       "version_major": 2,
       "version_minor": 0
      },
      "text/plain": [
       "interactive(children=(IntSlider(value=191, description='image_z', max=383), FloatSlider(value=0.5, description…"
      ]
     },
     "metadata": {},
     "output_type": "display_data"
    },
    {
     "name": "stdout",
     "output_type": "stream",
     "text": [
      "9939718L_TP1\n"
     ]
    },
    {
     "data": {
      "application/vnd.jupyter.widget-view+json": {
       "model_id": "92beb5e1de2b4950ab82a0e85705ff66",
       "version_major": 2,
       "version_minor": 0
      },
      "text/plain": [
       "interactive(children=(IntSlider(value=191, description='image_z', max=383), FloatSlider(value=0.5, description…"
      ]
     },
     "metadata": {},
     "output_type": "display_data"
    },
    {
     "name": "stdout",
     "output_type": "stream",
     "text": [
      "9939718L_TP3\n"
     ]
    },
    {
     "data": {
      "application/vnd.jupyter.widget-view+json": {
       "model_id": "402afbb9caf84377b72cd6320de29648",
       "version_major": 2,
       "version_minor": 0
      },
      "text/plain": [
       "interactive(children=(IntSlider(value=191, description='image_z', max=383), FloatSlider(value=0.5, description…"
      ]
     },
     "metadata": {},
     "output_type": "display_data"
    },
    {
     "name": "stdout",
     "output_type": "stream",
     "text": [
      "9939718L_TP5\n"
     ]
    },
    {
     "data": {
      "application/vnd.jupyter.widget-view+json": {
       "model_id": "be384479db3344c0a17c25c0355e42de",
       "version_major": 2,
       "version_minor": 0
      },
      "text/plain": [
       "interactive(children=(IntSlider(value=191, description='image_z', max=383), FloatSlider(value=0.5, description…"
      ]
     },
     "metadata": {},
     "output_type": "display_data"
    },
    {
     "name": "stdout",
     "output_type": "stream",
     "text": [
      "9939718L_TP6\n"
     ]
    },
    {
     "data": {
      "application/vnd.jupyter.widget-view+json": {
       "model_id": "fcbd02e5a2dc4e3aabf4faf5a4b388c3",
       "version_major": 2,
       "version_minor": 0
      },
      "text/plain": [
       "interactive(children=(IntSlider(value=191, description='image_z', max=383), FloatSlider(value=0.5, description…"
      ]
     },
     "metadata": {},
     "output_type": "display_data"
    },
    {
     "name": "stdout",
     "output_type": "stream",
     "text": [
      "9939718L_TP8\n"
     ]
    },
    {
     "data": {
      "application/vnd.jupyter.widget-view+json": {
       "model_id": "48c085bd8eb34832987b0f80b5cb7c54",
       "version_major": 2,
       "version_minor": 0
      },
      "text/plain": [
       "interactive(children=(IntSlider(value=191, description='image_z', max=383), FloatSlider(value=0.5, description…"
      ]
     },
     "metadata": {},
     "output_type": "display_data"
    },
    {
     "name": "stdout",
     "output_type": "stream",
     "text": [
      "9939718L_TP1\n"
     ]
    },
    {
     "data": {
      "application/vnd.jupyter.widget-view+json": {
       "model_id": "fa7c2fe89b514e0d87d041baf24f08ec",
       "version_major": 2,
       "version_minor": 0
      },
      "text/plain": [
       "interactive(children=(IntSlider(value=191, description='image_z', max=383), FloatSlider(value=0.5, description…"
      ]
     },
     "metadata": {},
     "output_type": "display_data"
    },
    {
     "name": "stdout",
     "output_type": "stream",
     "text": [
      "9939718R_TP1\n"
     ]
    },
    {
     "data": {
      "application/vnd.jupyter.widget-view+json": {
       "model_id": "0f8f14e61ff24c48a268a090d7eb33a8",
       "version_major": 2,
       "version_minor": 0
      },
      "text/plain": [
       "interactive(children=(IntSlider(value=191, description='image_z', max=383), FloatSlider(value=0.5, description…"
      ]
     },
     "metadata": {},
     "output_type": "display_data"
    },
    {
     "name": "stdout",
     "output_type": "stream",
     "text": [
      "9939718R_TP2\n"
     ]
    },
    {
     "data": {
      "application/vnd.jupyter.widget-view+json": {
       "model_id": "6514037e088c42d4bb793be1f4031e91",
       "version_major": 2,
       "version_minor": 0
      },
      "text/plain": [
       "interactive(children=(IntSlider(value=191, description='image_z', max=383), FloatSlider(value=0.5, description…"
      ]
     },
     "metadata": {},
     "output_type": "display_data"
    },
    {
     "name": "stdout",
     "output_type": "stream",
     "text": [
      "9939718R_TP3\n"
     ]
    },
    {
     "data": {
      "application/vnd.jupyter.widget-view+json": {
       "model_id": "0529a1919cdf49ae980ed986d248ab68",
       "version_major": 2,
       "version_minor": 0
      },
      "text/plain": [
       "interactive(children=(IntSlider(value=191, description='image_z', max=383), FloatSlider(value=0.5, description…"
      ]
     },
     "metadata": {},
     "output_type": "display_data"
    },
    {
     "name": "stdout",
     "output_type": "stream",
     "text": [
      "9939718R_TP5\n"
     ]
    },
    {
     "data": {
      "application/vnd.jupyter.widget-view+json": {
       "model_id": "12ef10b33c9943b1be5f3b7a7ae1ea97",
       "version_major": 2,
       "version_minor": 0
      },
      "text/plain": [
       "interactive(children=(IntSlider(value=191, description='image_z', max=383), FloatSlider(value=0.5, description…"
      ]
     },
     "metadata": {},
     "output_type": "display_data"
    },
    {
     "name": "stdout",
     "output_type": "stream",
     "text": [
      "9939718R_TP6\n"
     ]
    },
    {
     "data": {
      "application/vnd.jupyter.widget-view+json": {
       "model_id": "c1a239e80e0a4da8ac721d6a3ff1720b",
       "version_major": 2,
       "version_minor": 0
      },
      "text/plain": [
       "interactive(children=(IntSlider(value=191, description='image_z', max=383), FloatSlider(value=0.5, description…"
      ]
     },
     "metadata": {},
     "output_type": "display_data"
    },
    {
     "name": "stdout",
     "output_type": "stream",
     "text": [
      "9939718R_TP8\n"
     ]
    },
    {
     "data": {
      "application/vnd.jupyter.widget-view+json": {
       "model_id": "06c41a40863542189f66870c53bccc4f",
       "version_major": 2,
       "version_minor": 0
      },
      "text/plain": [
       "interactive(children=(IntSlider(value=191, description='image_z', max=383), FloatSlider(value=0.5, description…"
      ]
     },
     "metadata": {},
     "output_type": "display_data"
    },
    {
     "name": "stdout",
     "output_type": "stream",
     "text": [
      "9939718R_TP1\n"
     ]
    },
    {
     "data": {
      "application/vnd.jupyter.widget-view+json": {
       "model_id": "0debfd36e1fc4f7bbdc2539ca5935c49",
       "version_major": 2,
       "version_minor": 0
      },
      "text/plain": [
       "interactive(children=(IntSlider(value=191, description='image_z', max=383), FloatSlider(value=0.5, description…"
      ]
     },
     "metadata": {},
     "output_type": "display_data"
    },
    {
     "name": "stdout",
     "output_type": "stream",
     "text": [
      "9941231L_TP1\n"
     ]
    },
    {
     "data": {
      "application/vnd.jupyter.widget-view+json": {
       "model_id": "01c75a8765be4aebafdded8ab1df827d",
       "version_major": 2,
       "version_minor": 0
      },
      "text/plain": [
       "interactive(children=(IntSlider(value=191, description='image_z', max=383), FloatSlider(value=0.5, description…"
      ]
     },
     "metadata": {},
     "output_type": "display_data"
    },
    {
     "name": "stdout",
     "output_type": "stream",
     "text": [
      "9941231L_TP3\n"
     ]
    },
    {
     "data": {
      "application/vnd.jupyter.widget-view+json": {
       "model_id": "d9a96eabf50f4bd997ab8fabc430c264",
       "version_major": 2,
       "version_minor": 0
      },
      "text/plain": [
       "interactive(children=(IntSlider(value=191, description='image_z', max=383), FloatSlider(value=0.5, description…"
      ]
     },
     "metadata": {},
     "output_type": "display_data"
    },
    {
     "name": "stdout",
     "output_type": "stream",
     "text": [
      "9941231L_TP5\n"
     ]
    },
    {
     "data": {
      "application/vnd.jupyter.widget-view+json": {
       "model_id": "a43a67f6be4c4f2c87104960f3bebe1a",
       "version_major": 2,
       "version_minor": 0
      },
      "text/plain": [
       "interactive(children=(IntSlider(value=191, description='image_z', max=383), FloatSlider(value=0.5, description…"
      ]
     },
     "metadata": {},
     "output_type": "display_data"
    },
    {
     "name": "stdout",
     "output_type": "stream",
     "text": [
      "9941231L_TP6\n"
     ]
    },
    {
     "data": {
      "application/vnd.jupyter.widget-view+json": {
       "model_id": "7a23bea1e0b84a1a9869571f7315d1a0",
       "version_major": 2,
       "version_minor": 0
      },
      "text/plain": [
       "interactive(children=(IntSlider(value=191, description='image_z', max=383), FloatSlider(value=0.5, description…"
      ]
     },
     "metadata": {},
     "output_type": "display_data"
    },
    {
     "name": "stdout",
     "output_type": "stream",
     "text": [
      "9941231L_TP8\n"
     ]
    },
    {
     "data": {
      "application/vnd.jupyter.widget-view+json": {
       "model_id": "b2c8a93e1a324edba18699c8f7e6f434",
       "version_major": 2,
       "version_minor": 0
      },
      "text/plain": [
       "interactive(children=(IntSlider(value=191, description='image_z', max=383), FloatSlider(value=0.5, description…"
      ]
     },
     "metadata": {},
     "output_type": "display_data"
    },
    {
     "name": "stdout",
     "output_type": "stream",
     "text": [
      "9941231L_TP1\n"
     ]
    },
    {
     "data": {
      "application/vnd.jupyter.widget-view+json": {
       "model_id": "4539342f70d54f2287a8bff222e9c65e",
       "version_major": 2,
       "version_minor": 0
      },
      "text/plain": [
       "interactive(children=(IntSlider(value=191, description='image_z', max=383), FloatSlider(value=0.5, description…"
      ]
     },
     "metadata": {},
     "output_type": "display_data"
    },
    {
     "name": "stdout",
     "output_type": "stream",
     "text": [
      "9941231R_TP1\n"
     ]
    },
    {
     "data": {
      "application/vnd.jupyter.widget-view+json": {
       "model_id": "9071ae53c1a34add8e1f42303d015125",
       "version_major": 2,
       "version_minor": 0
      },
      "text/plain": [
       "interactive(children=(IntSlider(value=191, description='image_z', max=383), FloatSlider(value=0.5, description…"
      ]
     },
     "metadata": {},
     "output_type": "display_data"
    },
    {
     "name": "stdout",
     "output_type": "stream",
     "text": [
      "9941231R_TP3\n"
     ]
    },
    {
     "data": {
      "application/vnd.jupyter.widget-view+json": {
       "model_id": "f8ce048f1d7c414fbd3b54dd0d8cbc74",
       "version_major": 2,
       "version_minor": 0
      },
      "text/plain": [
       "interactive(children=(IntSlider(value=191, description='image_z', max=383), FloatSlider(value=0.5, description…"
      ]
     },
     "metadata": {},
     "output_type": "display_data"
    },
    {
     "name": "stdout",
     "output_type": "stream",
     "text": [
      "9941231R_TP5\n"
     ]
    },
    {
     "data": {
      "application/vnd.jupyter.widget-view+json": {
       "model_id": "11d4ee3b4b8442bb8aa703f62984cfd7",
       "version_major": 2,
       "version_minor": 0
      },
      "text/plain": [
       "interactive(children=(IntSlider(value=191, description='image_z', max=383), FloatSlider(value=0.5, description…"
      ]
     },
     "metadata": {},
     "output_type": "display_data"
    },
    {
     "name": "stdout",
     "output_type": "stream",
     "text": [
      "9941231R_TP6\n"
     ]
    },
    {
     "data": {
      "application/vnd.jupyter.widget-view+json": {
       "model_id": "83b1557baca640b3bf88839e95120156",
       "version_major": 2,
       "version_minor": 0
      },
      "text/plain": [
       "interactive(children=(IntSlider(value=191, description='image_z', max=383), FloatSlider(value=0.5, description…"
      ]
     },
     "metadata": {},
     "output_type": "display_data"
    },
    {
     "name": "stdout",
     "output_type": "stream",
     "text": [
      "9942724L_TP1\n"
     ]
    },
    {
     "data": {
      "application/vnd.jupyter.widget-view+json": {
       "model_id": "55508b84f5c9488ab26234c309defeae",
       "version_major": 2,
       "version_minor": 0
      },
      "text/plain": [
       "interactive(children=(IntSlider(value=191, description='image_z', max=383), FloatSlider(value=0.5, description…"
      ]
     },
     "metadata": {},
     "output_type": "display_data"
    },
    {
     "name": "stdout",
     "output_type": "stream",
     "text": [
      "9942724L_TP3\n"
     ]
    },
    {
     "data": {
      "application/vnd.jupyter.widget-view+json": {
       "model_id": "adf16d2377694300936bb0fe4a9f6996",
       "version_major": 2,
       "version_minor": 0
      },
      "text/plain": [
       "interactive(children=(IntSlider(value=191, description='image_z', max=383), FloatSlider(value=0.5, description…"
      ]
     },
     "metadata": {},
     "output_type": "display_data"
    },
    {
     "name": "stdout",
     "output_type": "stream",
     "text": [
      "9942724L_TP6\n"
     ]
    },
    {
     "data": {
      "application/vnd.jupyter.widget-view+json": {
       "model_id": "8e3e2ff4a8514a0eb6ae734f3f2410b2",
       "version_major": 2,
       "version_minor": 0
      },
      "text/plain": [
       "interactive(children=(IntSlider(value=191, description='image_z', max=383), FloatSlider(value=0.5, description…"
      ]
     },
     "metadata": {},
     "output_type": "display_data"
    },
    {
     "name": "stdout",
     "output_type": "stream",
     "text": [
      "9942724L_TP1\n"
     ]
    },
    {
     "data": {
      "application/vnd.jupyter.widget-view+json": {
       "model_id": "8218ae87996640bc88b8b49e28a0ed54",
       "version_major": 2,
       "version_minor": 0
      },
      "text/plain": [
       "interactive(children=(IntSlider(value=191, description='image_z', max=383), FloatSlider(value=0.5, description…"
      ]
     },
     "metadata": {},
     "output_type": "display_data"
    },
    {
     "name": "stdout",
     "output_type": "stream",
     "text": [
      "9942724R_TP1\n"
     ]
    },
    {
     "data": {
      "application/vnd.jupyter.widget-view+json": {
       "model_id": "9e38d404b2b84b6d92195cc7aa74021d",
       "version_major": 2,
       "version_minor": 0
      },
      "text/plain": [
       "interactive(children=(IntSlider(value=191, description='image_z', max=383), FloatSlider(value=0.5, description…"
      ]
     },
     "metadata": {},
     "output_type": "display_data"
    },
    {
     "name": "stdout",
     "output_type": "stream",
     "text": [
      "9942724R_TP3\n"
     ]
    },
    {
     "data": {
      "application/vnd.jupyter.widget-view+json": {
       "model_id": "0ba5f5e6f6a641f2a0d979ec7d025342",
       "version_major": 2,
       "version_minor": 0
      },
      "text/plain": [
       "interactive(children=(IntSlider(value=191, description='image_z', max=383), FloatSlider(value=0.5, description…"
      ]
     },
     "metadata": {},
     "output_type": "display_data"
    },
    {
     "name": "stdout",
     "output_type": "stream",
     "text": [
      "9942724R_TP5\n"
     ]
    },
    {
     "data": {
      "application/vnd.jupyter.widget-view+json": {
       "model_id": "ed45f70f1b364eb1b6d2e7d4de5d341c",
       "version_major": 2,
       "version_minor": 0
      },
      "text/plain": [
       "interactive(children=(IntSlider(value=191, description='image_z', max=383), FloatSlider(value=0.5, description…"
      ]
     },
     "metadata": {},
     "output_type": "display_data"
    },
    {
     "name": "stdout",
     "output_type": "stream",
     "text": [
      "9942724R_TP6\n"
     ]
    },
    {
     "data": {
      "application/vnd.jupyter.widget-view+json": {
       "model_id": "f266e93490e04c349e83bc13d74c41a7",
       "version_major": 2,
       "version_minor": 0
      },
      "text/plain": [
       "interactive(children=(IntSlider(value=191, description='image_z', max=383), FloatSlider(value=0.5, description…"
      ]
     },
     "metadata": {},
     "output_type": "display_data"
    },
    {
     "name": "stdout",
     "output_type": "stream",
     "text": [
      "9942724R_TP1\n"
     ]
    },
    {
     "data": {
      "application/vnd.jupyter.widget-view+json": {
       "model_id": "e7b6f0bcdbad41e390eaf1d2349b2fae",
       "version_major": 2,
       "version_minor": 0
      },
      "text/plain": [
       "interactive(children=(IntSlider(value=191, description='image_z', max=383), FloatSlider(value=0.5, description…"
      ]
     },
     "metadata": {},
     "output_type": "display_data"
    }
   ],
   "source": [
    "show_sagital_slice_images(image_data, is_rigid = True)"
   ]
  },
  {
   "cell_type": "code",
   "execution_count": null,
   "metadata": {},
   "outputs": [],
   "source": [
    "# 9939718L_TP10 9941231L_TP10 9942724L_TP10 9942724R_TP10"
   ]
  },
  {
   "cell_type": "code",
   "execution_count": null,
   "metadata": {},
   "outputs": [],
   "source": [
    "#9941231R_TP5, 9941231R_TP6, 9941231L_TP1, 9939718R_TP3, 5, 6"
   ]
  },
  {
   "cell_type": "code",
   "execution_count": null,
   "metadata": {},
   "outputs": [],
   "source": []
  },
  {
   "cell_type": "code",
   "execution_count": 50,
   "metadata": {},
   "outputs": [],
   "source": [
    "def tmp_resample(fixed_image, reference):\n",
    "    isoresample = sitk.ResampleImageFilter()\n",
    "    isoresample.SetInterpolator(sitk.sitkBSpline)\n",
    "    isoresample.SetOutputDirection(fixed_image.GetDirection())\n",
    "    isoresample.SetOutputOrigin(fixed_image.GetOrigin())\n",
    "    orig_spacing = fixed_image.GetSpacing()\n",
    "    new_spacing = (orig_spacing[0],orig_spacing[0],orig_spacing[0])\n",
    "    isoresample.SetOutputSpacing(new_spacing)\n",
    "    orig_size = np.array(fixed_image.GetSize(), dtype=np.int)    \n",
    "    new_size = orig_size.copy()\n",
    "    new_size[2] = int(orig_size[2]*(orig_spacing[2]/orig_spacing[0])+0.5)\n",
    "    new_size = [int(s) for s in new_size]\n",
    "    print(orig_size, new_size)\n",
    "    isoresample.SetSize(new_size)\n",
    "    return isoresample.Execute(fixed_image)"
   ]
  },
  {
   "cell_type": "code",
   "execution_count": 29,
   "metadata": {},
   "outputs": [],
   "source": [
    "def show_registered_images(find_str): \n",
    "    path = 'C:\\\\Zhixuan\\\\OAI-registration\\\\pyKNEEr-yg\\\\registered\\\\'\n",
    "    file_path_list = []\n",
    "    reference = sitk.ReadImage(path+find_str+\"_TP0_prep\\\\f_rigid.mha\")\n",
    "    for file in os.listdir(path):\n",
    "        if find_str in file:\n",
    "            file_path_list.append(file)\n",
    "    i = 1\n",
    "    # Create a figure with two subplots and the specified size.\n",
    "    plt.subplots(len(file_path_list), 1,figsize=(25,20))\n",
    "    for tmp_path in file_path_list:\n",
    "        result_file_name              = path + tmp_path + '\\\\f_rigid.mha'\n",
    "#         mask_file_name                = image_data[\"segmented_folder\"] + image_data[anatomy + \"mask\"]\n",
    "\n",
    "        # read the images\n",
    "        result = sitk.ReadImage(result_file_name)\n",
    "#         mask   = sitk.ReadImage(mask_file_name)\n",
    "\n",
    "        # images from simpleitk to numpy\n",
    "    #     result_py = sitk.GetArrayFromImage(result)\n",
    "    #         mask_py   = sitk.GetArrayFromImage(mask)\n",
    "        pos1 = tmp_path.find('TP', 0)\n",
    "        pos2 = tmp_path.find('_', pos1)\n",
    "        tp = tmp_path[pos1:pos2]\n",
    "        if tp != 'TP0':\n",
    "            result = resample_image(result)\n",
    "        \n",
    "            \n",
    "        show_sagittal_images(result, len(file_path_list), i, tp)\n",
    "        i = i + 1\n",
    "    plt.show() \n",
    "\n",
    "# show_registered_images('9939718R')"
   ]
  },
  {
   "cell_type": "code",
   "execution_count": 30,
   "metadata": {},
   "outputs": [],
   "source": [
    "def display_sagittal_images(fixed_image, moving_image):\n",
    "    # Create a figure with two subplots and the specified size.\n",
    "    plt.subplots(1,2,figsize=(10,8))\n",
    "    \n",
    "    fixed_npa = sitk.GetArrayViewFromImage(fixed_image)\n",
    "    moving_npa = sitk.GetArrayViewFromImage(moving_image)\n",
    "    size = np.size(fixed_npa, 2)\n",
    "    # Draw the fixed image in the first subplot.\n",
    "    plt.subplot(1,2,1)\n",
    "    plt.imshow(fixed_npa[:,:,size//2],cmap=plt.cm.Greys_r);\n",
    "    plt.title('fixed image')\n",
    "    plt.axis('off')\n",
    "    \n",
    "    # Draw the moving image in the second subplot.\n",
    "    plt.subplot(1,2,2)\n",
    "    plt.imshow(moving_npa[:,:,size//2],cmap=plt.cm.Greys_r);\n",
    "    plt.title('moving image')\n",
    "    plt.axis('off')\n",
    "    \n",
    "    plt.show() "
   ]
  },
  {
   "cell_type": "code",
   "execution_count": 62,
   "metadata": {},
   "outputs": [
    {
     "name": "stdout",
     "output_type": "stream",
     "text": [
      "[384 384  69] [384, 384, 284]\n",
      "[384 384  69] [384, 384, 284]\n",
      "[384 384  69] [384, 384, 284]\n",
      "[384 384  69] [384, 384, 284]\n",
      "[384 384  69] [384, 384, 284]\n",
      "[384 384  69] [384, 384, 284]\n"
     ]
    },
    {
     "data": {
      "image/png": "[encoded data removed]",
      "text/plain": [
       "<Figure size 1800x1440 with 7 Axes>"
      ]
     },
     "metadata": {
      "needs_background": "light"
     },
     "output_type": "display_data"
    }
   ],
   "source": [
    "show_registered_images('9941231L')"
   ]
  },
  {
   "cell_type": "code",
   "execution_count": 33,
   "metadata": {},
   "outputs": [
    {
     "name": "stdout",
     "output_type": "stream",
     "text": [
      "[384 384  70] [384, 384, 288]\n",
      "[384 384  69] [384, 384, 284]\n",
      "[384 384  69] [384, 384, 284]\n",
      "[384 384  69] [384, 384, 284]\n",
      "[384 384  69] [384, 384, 284]\n",
      "[384 384  69] [384, 384, 284]\n"
     ]
    },
    {
     "data": {
      "image/png": "[encoded data removed]",
      "text/plain": [
       "<Figure size 1800x1440 with 7 Axes>"
      ]
     },
     "metadata": {
      "needs_background": "light"
     },
     "output_type": "display_data"
    }
   ],
   "source": [
    "show_registered_images('9941231L')"
   ]
  },
  {
   "cell_type": "code",
   "execution_count": null,
   "metadata": {},
   "outputs": [],
   "source": []
  }
 ],
 "metadata": {
  "kernelspec": {
   "display_name": "Python [conda env:OAIreg] *",
   "language": "python",
   "name": "conda-env-OAIreg-py"
  },
  "language_info": {
   "codemirror_mode": {
    "name": "ipython",
    "version": 3
   },
   "file_extension": ".py",
   "mimetype": "text/x-python",
   "name": "python",
   "nbconvert_exporter": "python",
   "pygments_lexer": "ipython3",
   "version": "3.7.7"
  }
 },
 "nbformat": 4,
 "nbformat_minor": 4
}
