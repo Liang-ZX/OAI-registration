{
 "cells": [
  {
   "cell_type": "code",
   "execution_count": 1,
   "metadata": {},
   "outputs": [],
   "source": [
    "import sys\n",
    "import importlib\n",
    "sys.path.append(r'../../pykneer')\n",
    "sys.path.append(r'../pykneer')\n",
    "import pykneer_io as io\n",
    "importlib.reload(io)\n",
    "import preprocessing_for_nb as prep\n",
    "importlib.reload(prep)\n",
    "import segmentation_sa_for_nb as segm\n",
    "importlib.reload(segm)\n",
    "\n",
    "import SimpleITK as sitk\n",
    "import matplotlib.pyplot as plt\n",
    "\n",
    "from preparing_images import prepare_image_and_list"
   ]
  },
  {
   "cell_type": "code",
   "execution_count": 20,
   "metadata": {},
   "outputs": [
    {
     "name": "stdout",
     "output_type": "stream",
     "text": [
      "ahaknee0tp29  exist\n",
      "dcm path for TPid 0 Z:/OAI Baseline/gc0/9941446/10304807\n",
      "Loading QVJ Y:/0tp29\\cascade/0/9941446/10304807L\\E10304807L_L.QVJ\n",
      "Adding QVS E10304807LS101_L.QVS\n",
      "coronal Z:/OAI Baseline/gc0/9941446/10304807/001.dcm\n",
      "ahaknee12tp29  exist\n",
      "dcm path for TPid 1 Z:/OAI 12 Months/1.C.2/9941446/20051207/10632205\n",
      "Loading QVJ Y:/12tp29\\cascade/12/9941446/20051207L\\E20051207L_L.QVJ\n",
      "Adding QVS E20051207LS101_L.QVS\n",
      "coronal Z:/OAI 12 Months/1.C.2/9941446/20051207/10632205/001.dcm\n",
      "no such contour OuterWall\n",
      "No lumen contour for frappe dcm slice 75\n",
      "ahaknee18tp29  exist\n",
      "cannot find dcm path for TPid 2\n",
      "ahaknee24tp29  exist\n",
      "dcm path for TPid 3 Z:/OAI 24 Months/3.C.2/9941446/20070111/11492208\n",
      "Loading QVJ Y:/24tp29\\cascade/24/9941446/20070111L\\E20070111L_L.QVJ\n",
      "Adding QVS E20070111LS101_L.QVS\n",
      "coronal Z:/OAI 24 Months/3.C.2/9941446/20070111/11492208/001.dcm\n",
      "ahaknee30tp29  exist\n",
      "cannot find dcm path for TPid 4\n",
      "ahaknee36tp29  exist\n",
      "cannot find dcm path for TPid 5\n",
      "ahaknee48tp29  exist\n",
      "dcm path for TPid 6 Z:/OAI 48 Months/6.C.1/9941446/20090312/12758716\n",
      "Loading QVJ Y:/48tp29\\cascade/48/9941446/20090312L\\E20090312L_L.QVJ\n",
      "Adding QVS E20090312LS101_L.QVS\n",
      "coronal Z:/OAI 48 Months/6.C.1/9941446/20090312/12758716/076.dcm\n",
      "ahaknee72tp29  exist\n",
      "dcm path for TPid 8 Z:/OAI 72 Months/8.C.1/9941446/20101102/13086905\n",
      "Loading QVJ Y:/72tp29\\cascade/72/9941446/20101102L\\E20101102L_L.QVJ\n",
      "Adding QVS E20101102LS101_L.QVS\n",
      "coronal Z:/OAI 72 Months/8.C.1/9941446/20101102/13086905/076.dcm\n",
      "ahaknee96tp29  exist\n",
      "dcm path for TPid 10 Z:/OAI 96 Months/10.C.1/9941446/20121101/13582710\n",
      "Loading QVJ Y:/96tp29\\cascade/96/9941446/20121101L\\E20121101L_L.QVJ\n",
      "Adding QVS E20121101LS101_L.QVS\n",
      "coronal Z:/OAI 96 Months/10.C.1/9941446/20121101/13582710/076.dcm\n",
      "ahaknee0tp29  exist\n",
      "dcm path for TPid 0 Z:/OAI Baseline/gc0/9941446/10304815\n",
      "Loading QVJ Y:/0tp29\\cascade/0/9941446/10304815R\\E10304815R_R.QVJ\n",
      "Adding QVS E10304815RS101_R.QVS\n",
      "coronal Z:/OAI Baseline/gc0/9941446/10304815/001.dcm\n",
      "ahaknee12tp29  exist\n",
      "dcm path for TPid 1 Z:/OAI 12 Months/1.C.2/9941446/20051207/10632213\n",
      "Loading QVJ Y:/12tp29\\cascade/12/9941446/20051207R\\E20051207R_R.QVJ\n",
      "Adding QVS E20051207RS101_R.QVS\n",
      "coronal Z:/OAI 12 Months/1.C.2/9941446/20051207/10632213/001.dcm\n",
      "ahaknee18tp29  exist\n",
      "cannot find dcm path for TPid 2\n",
      "ahaknee24tp29  exist\n",
      "dcm path for TPid 3 Z:/OAI 24 Months/3.C.2/9941446/20070111/11492217\n",
      "Loading QVJ Y:/24tp29\\cascade/24/9941446/20070111R\\E20070111R_R.QVJ\n",
      "Adding QVS E20070111RS101_R.QVS\n",
      "coronal Z:/OAI 24 Months/3.C.2/9941446/20070111/11492217/001.dcm\n",
      "ahaknee30tp29  exist\n",
      "cannot find dcm path for TPid 4\n",
      "ahaknee36tp29  exist\n",
      "dcm path for TPid 5 Z:/OAI 36 Months/5.C.1/9941446/20080124/12199708\n",
      "Loading QVJ Y:/36tp29\\cascade/36/9941446/20080124R\\E20080124R_R.QVJ\n",
      "Adding QVS E20080124RS101_R.QVS\n",
      "coronal Z:/OAI 36 Months/5.C.1/9941446/20080124/12199708/076.dcm\n",
      "ahaknee48tp29  exist\n",
      "dcm path for TPid 6 Z:/OAI 48 Months/6.C.1/9941446/20090312/12758705\n",
      "Loading QVJ Y:/48tp29\\cascade/48/9941446/20090312R\\E20090312R_R.QVJ\n",
      "Adding QVS E20090312RS101_R.QVS\n",
      "coronal Z:/OAI 48 Months/6.C.1/9941446/20090312/12758705/076.dcm\n",
      "ahaknee72tp29  exist\n",
      "dcm path for TPid 8 Z:/OAI 72 Months/8.C.1/9941446/20101102/13086911\n",
      "Loading QVJ Y:/72tp29\\cascade/72/9941446/20101102R\\E20101102R_R.QVJ\n",
      "Adding QVS E20101102RS101_R.QVS\n",
      "no such contour OuterWall\n",
      "No lumen contour for frappe dcm slice 0\n",
      "no such contour OuterWall\n",
      "No lumen contour for frappe dcm slice 1\n",
      "coronal Z:/OAI 72 Months/8.C.1/9941446/20101102/13086911/076.dcm\n",
      "ahaknee96tp29  exist\n",
      "dcm path for TPid 10 Z:/OAI 96 Months/10.C.1/9941446/20121101/13582718\n",
      "Loading QVJ Y:/96tp29\\cascade/96/9941446/20121101R\\E20121101R_R.QVJ\n",
      "Adding QVS E20121101RS101_R.QVS\n",
      "coronal Z:/OAI 96 Months/10.C.1/9941446/20121101/13582718/076.dcm\n",
      "ahaknee0tp29  exist\n",
      "dcm path for TPid 0 Z:/OAI Baseline/gc0/9404954/10728107\n",
      "Loading QVJ Y:/0tp29\\cascade/0/9404954/10728107L\\E10728107L_L.QVJ\n",
      "Adding QVS E10728107LS101_L.QVS\n",
      "coronal Z:/OAI Baseline/gc0/9404954/10728107/001.dcm\n",
      "copying Z:/OAI Baseline/gc0/9404954/10728107/076.dcmahaknee12tp29  exist\n",
      "dcm path for TPid 1 Z:/OAI 12 Months/1.C.2/9404954/20060223/10862205\n",
      "Loading QVJ Y:/12tp29\\cascade/12/9404954/20060223L\\E20060223L_L.QVJ\n",
      "Adding QVS E20060223LS101_L.QVS\n",
      "coronal Z:/OAI 12 Months/1.C.2/9404954/20060223/10862205/001.dcm\n",
      "copying Z:/OAI 12 Months/1.C.2/9404954/20060223/10862205/076.dcmahaknee18tp29  existC.2/9404954/20060223/10862205/035.dcm\n",
      "cannot find dcm path for TPid 2\n",
      "ahaknee24tp29  exist\n",
      "dcm path for TPid 3 Z:/OAI 24 Months/3.C.2/9404954/20070518/11732407\n",
      "Loading QVJ Y:/24tp29\\cascade/24/9404954/20070518L\\E20070518L_L.QVJ\n",
      "Adding QVS E20070518LS101_L.QVS\n",
      "copying Z:/OAI 24 Months/3.C.2/9404954/20070518/11732407/075.dcmcoronal Z:/OAI 24 Months/3.C.2/9404954/20070518/11732407/076.dcm\n",
      "ahaknee30tp29  exist\n",
      "cannot find dcm path for TPid 4\n",
      "ahaknee36tp29  exist\n",
      "cannot find dcm path for TPid 5\n",
      "ahaknee48tp29  exist\n",
      "dcm path for TPid 6 Z:/OAI 48 Months/6.C.1/9404954/20090323/12540108\n",
      "Loading QVJ Y:/48tp29\\cascade/48/9404954/20090323L\\E20090323L_L.QVJ\n",
      "Adding QVS E20090323LS101_L.QVS\n",
      "copying Z:/OAI 48 Months/6.C.1/9404954/20090323/12540108/075.dcmcoronal Z:/OAI 48 Months/6.C.1/9404954/20090323/12540108/076.dcm\n",
      "ahaknee72tp29  exist\n",
      "dcm path for TPid 8 Z:/OAI 72 Months/8.C.1/9404954/20110202/13000504\n",
      "Loading QVJ Y:/72tp29\\cascade/72/9404954/20110202L\\E20110202L_L.QVJ\n",
      "Adding QVS E20110202LS101_L.QVS\n",
      "copying Z:/OAI 72 Months/8.C.1/9404954/20110202/13000504/075.dcmcoronal Z:/OAI 72 Months/8.C.1/9404954/20110202/13000504/076.dcm\n",
      "ahaknee96tp29  exist\n",
      "dcm path for TPid 10 Z:/OAI 96 Months/10.C.1/9404954/20121119/13579209\n",
      "Loading QVJ Y:/96tp29\\cascade/96/9404954/20121119L\\E20121119L_L.QVJ\n",
      "Adding QVS E20121119LS101_L.QVS\n",
      "copying Z:/OAI 96 Months/10.C.1/9404954/20121119/13579209/075.dcmcoronal Z:/OAI 96 Months/10.C.1/9404954/20121119/13579209/076.dcm\n",
      "ahaknee0tp29  exist\n",
      "dcm path for TPid 0 Z:/OAI Baseline/gc0/9404954/10728113\n",
      "Loading QVJ Y:/0tp29\\cascade/0/9404954/10728113R\\E10728113R_R.QVJ\n",
      "Adding QVS E10728113RS101_R.QVS\n",
      "coronal Z:/OAI Baseline/gc0/9404954/10728113/001.dcm\n",
      "copying Z:/OAI Baseline/gc0/9404954/10728113/076.dcmahaknee12tp29  exist/9404954/10728113/025.dcm\n",
      "dcm path for TPid 1 Z:/OAI 12 Months/1.C.2/9404954/20060223/10862212\n",
      "Loading QVJ Y:/12tp29\\cascade/12/9404954/20060223R\\E20060223R_R.QVJ\n",
      "Adding QVS E20060223RS101_R.QVS\n",
      "coronal Z:/OAI 12 Months/1.C.2/9404954/20060223/10862212/001.dcm\n",
      "copying Z:/OAI 12 Months/1.C.2/9404954/20060223/10862212/076.dcmahaknee18tp29  exist\n",
      "cannot find dcm path for TPid 2\n",
      "ahaknee24tp29  exist\n",
      "dcm path for TPid 3 Z:/OAI 24 Months/3.C.2/9404954/20070518/11732414\n",
      "Loading QVJ Y:/24tp29\\cascade/24/9404954/20070518R\\E20070518R_R.QVJ\n",
      "Adding QVS E20070518RS101_R.QVS\n",
      "copying Z:/OAI 24 Months/3.C.2/9404954/20070518/11732414/075.dcmcoronal Z:/OAI 24 Months/3.C.2/9404954/20070518/11732414/076.dcm\n",
      "ahaknee30tp29  exist\n",
      "dcm path for TPid 4 Z:/OAI 30 Months/results/4.G.1/9404954/20070817/11925205\n",
      "Loading QVJ Y:/30tp29\\cascade/30/9404954/20070817R\\E20070817R_R.QVJ\n",
      "Adding QVS E20070817RS101_R.QVS\n",
      "copying Z:/OAI 30 Months/results/4.G.1/9404954/20070817/11925205/074.dcm Z:/OAI 30 Months/results/4.G.1/9404954/20070817/11925205/075.dcmno such contour OuterWall\n",
      "No lumen contour for frappe dcm slice 74\n",
      "coronal Z:/OAI 30 Months/results/4.G.1/9404954/20070817/11925205/076.dcm\n",
      "ahaknee36tp29  exist\n",
      "dcm path for TPid 5 Z:/OAI 36 Months/5.C.1/9404954/20080108/12024504\n",
      "Loading QVJ Y:/36tp29\\cascade/36/9404954/20080108R\\E20080108R_R.QVJ\n",
      "Adding QVS E20080108RS101_R.QVS\n",
      "copying Z:/OAI 36 Months/5.C.1/9404954/20080108/12024504/075.dcmcoronal Z:/OAI 36 Months/5.C.1/9404954/20080108/12024504/076.dcm36 Months/5.C.1/9404954/20080108/12024504/073.dcm\n",
      "ahaknee48tp29  exist\n",
      "dcm path for TPid 6 Z:/OAI 48 Months/6.C.1/9404954/20090323/12540116\n",
      "Loading QVJ Y:/48tp29\\cascade/48/9404954/20090323R\\E20090323R_R.QVJ\n",
      "Adding QVS E20090323RS101_R.QVS\n",
      "copying Z:/OAI 48 Months/6.C.1/9404954/20090323/12540116/075.dcmcoronal Z:/OAI 48 Months/6.C.1/9404954/20090323/12540116/076.dcm\n",
      "ahaknee72tp29  exist\n",
      "dcm path for TPid 8 Z:/OAI 72 Months/8.C.1/9404954/20110202/13000511\n",
      "Loading QVJ Y:/72tp29\\cascade/72/9404954/20110202R\\E20110202R_R.QVJ\n",
      "Adding QVS E20110202RS101_R.QVS\n",
      "copying Z:/OAI 72 Months/8.C.1/9404954/20110202/13000511/075.dcmcoronal Z:/OAI 72 Months/8.C.1/9404954/20110202/13000511/076.dcm\n",
      "ahaknee96tp29  exist\n",
      "dcm path for TPid 10 Z:/OAI 96 Months/10.C.1/9404954/20121119/13579215\n",
      "Loading QVJ Y:/96tp29\\cascade/96/9404954/20121119R\\E20121119R_R.QVJ\n",
      "Adding QVS E20121119RS101_R.QVS\n",
      "copying Z:/OAI 96 Months/10.C.1/9404954/20121119/13579215/074.dcmno such contour OuterWall9404954/20121119/13579215/026.dcm\n",
      "No lumen contour for frappe dcm slice 73\n",
      "copying Z:/OAI 96 Months/10.C.1/9404954/20121119/13579215/075.dcmno such contour OuterWall\n",
      "No lumen contour for frappe dcm slice 74\n",
      "coronal Z:/OAI 96 Months/10.C.1/9404954/20121119/13579215/076.dcm\n",
      "ahaknee0tp29  exist\n",
      "dcm path for TPid 0 Z:/OAI Baseline/gc0/9939718/10677611\n",
      "Loading QVJ Y:/0tp29\\cascade/0/9939718/10677611R\\E10677611R_R.QVJ\n",
      "Adding QVS E10677611RS101_R.QVS\n",
      "coronal Z:/OAI Baseline/gc0/9939718/10677611/001.dcm\n",
      "copying Z:/OAI Baseline/gc0/9939718/10677611/061.dcmahaknee12tp29  exist/9939718/10677611/057.dcm\n",
      "dcm path for TPid 1 Z:/OAI 12 Months/1.C.2/9939718/20050930/10599611\n",
      "Loading QVJ Y:/12tp29\\cascade/12/9939718/20050930R\\E20050930R_R.QVJ\n",
      "Adding QVS E20050930RS101_R.QVS\n",
      "coronal Z:/OAI 12 Months/1.C.2/9939718/20050930/10599611/001.dcm\n",
      "copying Z:/OAI 12 Months/1.C.2/9939718/20050930/10599611/062.dcmahaknee18tp29  exist.2/9939718/20050930/10599611/031.dcm Z:/OAI 12 Months/1.C.2/9939718/20050930/10599611/060.dcm\n",
      "dcm path for TPid 2 Z:/OAI 18 Months/2.D.2/9939718/20060303/10876605\n",
      "Loading QVJ Y:/18tp29\\cascade/18/9939718/20060303R\\E20060303R_R.QVJ\n",
      "Adding QVS E20060303RS101_R.QVS\n",
      "coronal Z:/OAI 18 Months/2.D.2/9939718/20060303/10876605/001.dcm\n",
      "copying Z:/OAI 18 Months/2.D.2/9939718/20060303/10876605/068.dcmahaknee24tp29  exist\n",
      "dcm path for TPid 3 Z:/OAI 24 Months/3.C.2/9939718/20060810/11302511\n",
      "Loading QVJ Y:/24tp29\\cascade/24/9939718/20060810R\\E20060810R_R.QVJ\n",
      "Adding QVS E20060810RS101_R.QVS\n",
      "coronal Z:/OAI 24 Months/3.C.2/9939718/20060810/11302511/001.dcm\n",
      "copying Z:/OAI 24 Months/3.C.2/9939718/20060810/11302511/068.dcmahaknee30tp29  exist\n",
      "cannot find dcm path for TPid 4\n",
      "ahaknee36tp29  exist\n",
      "dcm path for TPid 5 Z:/OAI 36 Months/5.C.1/9939718/20070721/11871010\n",
      "Loading QVJ Y:/36tp29\\cascade/36/9939718/20070721R\\E20070721R_R.QVJ\n",
      "Adding QVS E20070721RS101_R.QVS\n",
      "copying Z:/OAI 36 Months/5.C.1/9939718/20070721/11871010/001.dcmno such contour OuterWall\n",
      "No lumen contour for frappe dcm slice 0\n",
      "copying Z:/OAI 36 Months/5.C.1/9939718/20070721/11871010/078.dcmcoronal Z:/OAI 36 Months/5.C.1/9939718/20070721/11871010/079.dcm\n",
      "ahaknee48tp29  exist\n",
      "dcm path for TPid 6 Z:/OAI 48 Months/6.C.1/9939718/20080715/12440211\n",
      "Loading QVJ Y:/48tp29\\cascade/48/9939718/20080715R\\E20080715R_R.QVJ\n",
      "Adding QVS E20080715RS101_R.QVS\n",
      "copying Z:/OAI 48 Months/6.C.1/9939718/20080715/12440211/070.dcmcoronal Z:/OAI 48 Months/6.C.1/9939718/20080715/12440211/071.dcm\n",
      "ahaknee72tp29  exist\n",
      "dcm path for TPid 8 Z:/OAI 72 Months/8.C.1/9939718/20100712/11060411\n",
      "Loading QVJ Y:/72tp29\\cascade/72/9939718/20100712R\\E20100712R_R.QVJ\n",
      "Adding QVS E20100712RS101_R.QVS\n",
      "copying Z:/OAI 72 Months/8.C.1/9939718/20100712/11060411/070.dcmcoronal Z:/OAI 72 Months/8.C.1/9939718/20100712/11060411/071.dcm\n",
      "ahaknee96tp29  exist\n",
      "dcm path for TPid 10 Z:/OAI 96 Months/10.C.1/9939718/20121130/13436611\n",
      "Loading QVJ Y:/96tp29\\cascade/96/9939718/20121130R\\E20121130R_R.QVJ\n",
      "Adding QVS E20121130RS101_R.QVS\n",
      "copying Z:/OAI 96 Months/10.C.1/9939718/20121130/13436611/070.dcmcoronal Z:/OAI 96 Months/10.C.1/9939718/20121130/13436611/071.dcm\n",
      "ahaknee0tp29  exist\n",
      "dcm path for TPid 0 Z:/OAI Baseline/gc0/9941231/10118906\n",
      "Loading QVJ Y:/0tp29\\cascade/0/9941231/10118906L\\E10118906L_L.QVJ\n",
      "Adding QVS E10118906LS101_L.QVS\n",
      "coronal Z:/OAI Baseline/gc0/9941231/10118906/001.dcm\n",
      "copying Z:/OAI Baseline/gc0/9941231/10118906/070.dcmahaknee12tp29  exist\n",
      "dcm path for TPid 1 Z:/OAI 12 Months/1.C.2/9941231/20051012/10199005\n",
      "Loading QVJ Y:/12tp29\\cascade/12/9941231/20051012L\\E20051012L_L.QVJ\n",
      "Adding QVS E20051012LS101_L.QVS\n",
      "coronal Z:/OAI 12 Months/1.C.2/9941231/20051012/10199005/001.dcm\n",
      "copying Z:/OAI 12 Months/1.C.2/9941231/20051012/10199005/067.dcmahaknee18tp29  existC.2/9941231/20051012/10199005/004.dcm\n",
      "cannot find dcm path for TPid 2\n",
      "ahaknee24tp29  exist\n",
      "dcm path for TPid 3 Z:/OAI 24 Months/3.C.2/9941231/20060804/11265108\n",
      "Loading QVJ Y:/24tp29\\cascade/24/9941231/20060804L\\E20060804L_L.QVJ\n",
      "Adding QVS E20060804LS101_L.QVS\n",
      "coronal Z:/OAI 24 Months/3.C.2/9941231/20060804/11265108/001.dcm\n",
      "copying Z:/OAI 24 Months/3.C.2/9941231/20060804/11265108/073.dcmahaknee30tp29  existC.2/9941231/20060804/11265108/028.dcm\n",
      "cannot find dcm path for TPid 4\n",
      "ahaknee36tp29  exist\n",
      "dcm path for TPid 5 Z:/OAI 36 Months/5.C.1/9941231/20070713/11861304\n",
      "Loading QVJ Y:/36tp29\\cascade/36/9941231/20070713L\\E20070713L_L.QVJ\n",
      "Adding QVS E20070713LS101_L.QVS\n",
      "copying Z:/OAI 36 Months/5.C.1/9941231/20070713/11861304/001.dcmno such contour OuterWall\n",
      "No lumen contour for frappe dcm slice 0\n",
      "copying Z:/OAI 36 Months/5.C.1/9941231/20070713/11861304/002.dcmno such contour OuterWall\n",
      "No lumen contour for frappe dcm slice 1\n",
      "copying Z:/OAI 36 Months/5.C.1/9941231/20070713/11861304/077.dcmcoronal Z:/OAI 36 Months/5.C.1/9941231/20070713/11861304/078.dcm\n",
      "ahaknee48tp29  exist\n",
      "dcm path for TPid 6 Z:/OAI 48 Months/6.C.1/9941231/20080724/12444708\n",
      "Loading QVJ Y:/48tp29\\cascade/48/9941231/20080724L\\E20080724L_L.QVJ\n",
      "Adding QVS E20080724LS101_L.QVS\n",
      "copying Z:/OAI 48 Months/6.C.1/9941231/20080724/12444708/070.dcmcoronal Z:/OAI 48 Months/6.C.1/9941231/20080724/12444708/071.dcm\n",
      "ahaknee72tp29  exist\n",
      "dcm path for TPid 8 Z:/OAI 72 Months/8.C.1/9941231/20100809/11021805\n",
      "Loading QVJ Y:/72tp29\\cascade/72/9941231/20100809L\\E20100809L_L.QVJ\n",
      "Adding QVS E20100809LS101_L.QVS\n",
      "copying Z:/OAI 72 Months/8.C.1/9941231/20100809/11021805/070.dcmcoronal Z:/OAI 72 Months/8.C.1/9941231/20100809/11021805/071.dcm\n",
      "ahaknee96tp29  exist\n",
      "dcm path for TPid 10 Z:/OAI 96 Months/10.C.1/9941231/20120830/13486205\n",
      "Loading QVJ Y:/96tp29\\cascade/96/9941231/20120830L\\E20120830L_L.QVJ\n",
      "Adding QVS E20120830LS101_L.QVS\n",
      "copying Z:/OAI 96 Months/10.C.1/9941231/20120830/13486205/063.dcmno such contour OuterWall9941231/20120830/13486205/036.dcm\n",
      "No lumen contour for frappe dcm slice 62\n",
      "copying Z:/OAI 96 Months/10.C.1/9941231/20120830/13486205/064.dcmno such contour OuterWall\n",
      "No lumen contour for frappe dcm slice 63\n",
      "copying Z:/OAI 96 Months/10.C.1/9941231/20120830/13486205/065.dcmno such contour OuterWall\n",
      "No lumen contour for frappe dcm slice 64\n",
      "copying Z:/OAI 96 Months/10.C.1/9941231/20120830/13486205/066.dcmno such contour OuterWall\n",
      "No lumen contour for frappe dcm slice 65\n",
      "copying Z:/OAI 96 Months/10.C.1/9941231/20120830/13486205/067.dcmno such contour OuterWall\n",
      "No lumen contour for frappe dcm slice 66\n",
      "copying Z:/OAI 96 Months/10.C.1/9941231/20120830/13486205/068.dcmno such contour OuterWall\n",
      "No lumen contour for frappe dcm slice 67\n",
      "copying Z:/OAI 96 Months/10.C.1/9941231/20120830/13486205/069.dcmno such contour OuterWall\n",
      "No lumen contour for frappe dcm slice 68\n",
      "copying Z:/OAI 96 Months/10.C.1/9941231/20120830/13486205/070.dcmno such contour OuterWall\n",
      "No lumen contour for frappe dcm slice 69\n",
      "coronal Z:/OAI 96 Months/10.C.1/9941231/20120830/13486205/071.dcm\n",
      "ahaknee0tp29  exist\n",
      "dcm path for TPid 0 Z:/OAI Baseline/gc0/9941231/10118912\n",
      "Loading QVJ Y:/0tp29\\cascade/0/9941231/10118912R\\E10118912R_R.QVJ\n",
      "Adding QVS E10118912RS101_R.QVS\n",
      "coronal Z:/OAI Baseline/gc0/9941231/10118912/001.dcm\n",
      "copying Z:/OAI Baseline/gc0/9941231/10118912/075.dcmahaknee12tp29  exist9941231/10118912/048.dcm\n",
      "dcm path for TPid 1 Z:/OAI 12 Months/1.C.2/9941231/20051012/10199011\n",
      "Loading QVJ Y:/12tp29\\cascade/12/9941231/20051012R\\E20051012R_R.QVJ\n",
      "Adding QVS E20051012RS101_R.QVS\n",
      "coronal Z:/OAI 12 Months/1.C.2/9941231/20051012/10199011/001.dcm\n",
      "copying Z:/OAI 12 Months/1.C.2/9941231/20051012/10199011/075.dcmahaknee18tp29  existC.2/9941231/20051012/10199011/032.dcm\n",
      "cannot find dcm path for TPid 2\n",
      "ahaknee24tp29  exist\n",
      "dcm path for TPid 3 Z:/OAI 24 Months/3.C.2/9941231/20060804/11265114\n",
      "Loading QVJ Y:/24tp29\\cascade/24/9941231/20060804R\\E20060804R_R.QVJ\n",
      "Adding QVS E20060804RS101_R.QVS\n",
      "coronal Z:/OAI 24 Months/3.C.2/9941231/20060804/11265114/001.dcm\n"
     ]
    },
    {
     "name": "stdout",
     "output_type": "stream",
     "text": [
      "copying Z:/OAI 24 Months/3.C.2/9941231/20060804/11265114/078.dcmno such contour OuterWall\n",
      "No lumen contour for frappe dcm slice 77\n",
      "copying Z:/OAI 24 Months/3.C.2/9941231/20060804/11265114/079.dcmno such contour OuterWall\n",
      "No lumen contour for frappe dcm slice 78\n",
      "ahaknee30tp29  exist\n",
      "cannot find dcm path for TPid 4\n",
      "ahaknee36tp29  exist\n",
      "dcm path for TPid 5 Z:/OAI 36 Months/5.C.1/9941231/20070713/11861310\n",
      "Loading QVJ Y:/36tp29\\cascade/36/9941231/20070713R\\E20070713R_R.QVJ\n",
      "Adding QVS E20070713RS101_R.QVS\n",
      "copying Z:/OAI 36 Months/5.C.1/9941231/20070713/11861310/080.dcmcoronal Z:/OAI 36 Months/5.C.1/9941231/20070713/11861310/081.dcm\n",
      "ahaknee48tp29  exist\n",
      "dcm path for TPid 6 Z:/OAI 48 Months/6.C.1/9941231/20080724/12444714\n",
      "Loading QVJ Y:/48tp29\\cascade/48/9941231/20080724R\\E20080724R_R.QVJ\n",
      "Adding QVS E20080724RS101_R.QVS\n",
      "copying Z:/OAI 48 Months/6.C.1/9941231/20080724/12444714/076.dcmcoronal Z:/OAI 48 Months/6.C.1/9941231/20080724/12444714/077.dcm 48 Months/6.C.1/9941231/20080724/12444714/056.dcm\n",
      "ahaknee72tp29  exist\n",
      "cannot find dcm path for TPid 8\n",
      "ahaknee96tp29  exist\n",
      "cannot find dcm path for TPid 10\n",
      "ahaknee0tp29  exist\n",
      "dcm path for TPid 0 Z:/OAI Baseline/gc0/9942030/10566806\n",
      "Loading QVJ Y:/0tp29\\cascade/0/9942030/10566806L\\E10566806L_L.QVJ\n",
      "Adding QVS E10566806LS101_L.QVS\n",
      "coronal Z:/OAI Baseline/gc0/9942030/10566806/001.dcm\n",
      "copying Z:/OAI Baseline/gc0/9942030/10566806/076.dcmahaknee12tp29  exist/9942030/10566806/044.dcm Z:/OAI Baseline/gc0/9942030/10566806/064.dcm\n",
      "dcm path for TPid 1 Z:/OAI 12 Months/1.C.2/9942030/20060627/11208204\n",
      "Loading QVJ Y:/12tp29\\cascade/12/9942030/20060627L\\E20060627L_L.QVJ\n",
      "Adding QVS E20060627LS101_L.QVS\n",
      "coronal Z:/OAI 12 Months/1.C.2/9942030/20060627/11208204/001.dcm\n",
      "copying Z:/OAI 12 Months/1.C.2/9942030/20060627/11208204/076.dcmahaknee18tp29  exist\n",
      "cannot find dcm path for TPid 2\n",
      "ahaknee24tp29  exist\n",
      "dcm path for TPid 3 Z:/OAI 24 Months/3.C.2/9942030/20070820/11940405\n",
      "Loading QVJ Y:/24tp29\\cascade/24/9942030/20070820L\\E20070820L_L.QVJ\n",
      "Adding QVS E20070820LS101_L.QVS\n",
      "copying Z:/OAI 24 Months/3.C.2/9942030/20070820/11940405/074.dcm Z:/OAI 24 Months/3.C.2/9942030/20070820/11940405/019.dcm Z:/OAI 24 Months/3.C.2/9942030/20070820/11940405/037.dcm Z:/OAI 24 Months/3.C.2/9942030/20070820/11940405/075.dcmcoronal Z:/OAI 24 Months/3.C.2/9942030/20070820/11940405/076.dcm\n",
      "ahaknee30tp29  exist\n",
      "cannot find dcm path for TPid 4\n",
      "ahaknee36tp29  exist\n",
      "dcm path for TPid 5 Z:/OAI 36 Months/5.C.1/9942030/20080819/12486505\n",
      "Loading QVJ Y:/36tp29\\cascade/36/9942030/20080819L\\E20080819L_L.QVJ\n",
      "Adding QVS E20080819LS101_L.QVS\n",
      "copying Z:/OAI 36 Months/5.C.1/9942030/20080819/12486505/075.dcmcoronal Z:/OAI 36 Months/5.C.1/9942030/20080819/12486505/076.dcm 36 Months/5.C.1/9942030/20080819/12486505/071.dcm\n",
      "ahaknee48tp29  exist\n",
      "dcm path for TPid 6 Z:/OAI 48 Months/6.C.1/9942030/20090818/13195904\n",
      "Loading QVJ Y:/48tp29\\cascade/48/9942030/20090818L\\E20090818L_L.QVJ\n",
      "Adding QVS E20090818LS101_L.QVS\n",
      "copying Z:/OAI 48 Months/6.C.1/9942030/20090818/13195904/075.dcmcoronal Z:/OAI 48 Months/6.C.1/9942030/20090818/13195904/076.dcm 48 Months/6.C.1/9942030/20090818/13195904/029.dcm Z:/OAI 48 Months/6.C.1/9942030/20090818/13195904/064.dcm\n",
      "ahaknee72tp29  exist\n",
      "cannot find dcm path for TPid 8\n",
      "ahaknee96tp29  exist\n",
      "cannot find dcm path for TPid 10\n",
      "ahaknee0tp29  exist\n",
      "dcm path for TPid 0 Z:/OAI Baseline/gc0/9942030/10566814\n",
      "Loading QVJ Y:/0tp29\\cascade/0/9942030/10566814R\\E10566814R_R.QVJ\n",
      "Adding QVS E10566814RS101_R.QVS\n",
      "coronal Z:/OAI Baseline/gc0/9942030/10566814/001.dcm\n",
      "copying Z:/OAI Baseline/gc0/9942030/10566814/076.dcm Z:/OAI Baseline/gc0/9942030/10566814/031.dcm Z:/OAI Baseline/gc0/9942030/10566814/040.dcm Z:/OAI Baseline/gc0/9942030/10566814/049.dcmahaknee12tp29  exist\n",
      "dcm path for TPid 1 Z:/OAI 12 Months/1.C.2/9942030/20060627/11208212\n",
      "Loading QVJ Y:/12tp29\\cascade/12/9942030/20060627R\\E20060627R_R.QVJ\n",
      "Adding QVS E20060627RS101_R.QVS\n",
      "coronal Z:/OAI 12 Months/1.C.2/9942030/20060627/11208212/001.dcm\n",
      "copying Z:/OAI 12 Months/1.C.2/9942030/20060627/11208212/076.dcmahaknee18tp29  existC.2/9942030/20060627/11208212/009.dcm\n",
      "cannot find dcm path for TPid 2\n",
      "ahaknee24tp29  exist\n",
      "dcm path for TPid 3 Z:/OAI 24 Months/3.C.2/9942030/20070820/11940413\n",
      "Loading QVJ Y:/24tp29\\cascade/24/9942030/20070820R\\E20070820R_R.QVJ\n",
      "Adding QVS E20070820RS101_R.QVS\n",
      "copying Z:/OAI 24 Months/3.C.2/9942030/20070820/11940413/075.dcmcoronal Z:/OAI 24 Months/3.C.2/9942030/20070820/11940413/076.dcm\n",
      "ahaknee30tp29  exist\n",
      "cannot find dcm path for TPid 4\n",
      "ahaknee36tp29  exist\n",
      "dcm path for TPid 5 Z:/OAI 36 Months/5.C.1/9942030/20080819/12486512\n",
      "Loading QVJ Y:/36tp29\\cascade/36/9942030/20080819R\\E20080819R_R.QVJ\n",
      "Adding QVS E20080819RS101_R.QVS\n",
      "copying Z:/OAI 36 Months/5.C.1/9942030/20080819/12486512/075.dcmcoronal Z:/OAI 36 Months/5.C.1/9942030/20080819/12486512/076.dcm 36 Months/5.C.1/9942030/20080819/12486512/016.dcm Z:/OAI 36 Months/5.C.1/9942030/20080819/12486512/058.dcm\n",
      "ahaknee48tp29  exist\n",
      "dcm path for TPid 6 Z:/OAI 48 Months/6.C.1/9942030/20090818/13195913\n",
      "Loading QVJ Y:/48tp29\\cascade/48/9942030/20090818R\\E20090818R_R.QVJ\n",
      "Adding QVS E20090818RS101_R.QVS\n",
      "copying Z:/OAI 48 Months/6.C.1/9942030/20090818/13195913/075.dcmcoronal Z:/OAI 48 Months/6.C.1/9942030/20090818/13195913/076.dcm\n",
      "ahaknee72tp29  exist\n",
      "cannot find dcm path for TPid 8\n",
      "ahaknee96tp29  exist\n",
      "cannot find dcm path for TPid 10\n",
      "ahaknee0tp29  exist\n",
      "dcm path for TPid 0 Z:/OAI Baseline/gc0/9942724/10119307\n",
      "Loading QVJ Y:/0tp29\\cascade/0/9942724/10119307L\\E10119307L_L.QVJ\n",
      "Adding QVS E10119307LS101_L.QVS\n",
      "coronal Z:/OAI Baseline/gc0/9942724/10119307/001.dcm\n",
      "copying Z:/OAI Baseline/gc0/9942724/10119307/060.dcm Z:/OAI Baseline/gc0/9942724/10119307/042.dcm Z:/OAI Baseline/gc0/9942724/10119307/061.dcmahaknee12tp29  exist\n",
      "dcm path for TPid 1 Z:/OAI 12 Months/1.C.2/9942724/20051011/10198005\n",
      "Loading QVJ Y:/12tp29\\cascade/12/9942724/20051011L\\E20051011L_L.QVJ\n",
      "Adding QVS E20051011LS101_L.QVS\n",
      "coronal Z:/OAI 12 Months/1.C.2/9942724/20051011/10198005/001.dcm\n",
      "copying Z:/OAI 12 Months/1.C.2/9942724/20051011/10198005/061.dcmahaknee18tp29  exist\n",
      "cannot find dcm path for TPid 2\n",
      "ahaknee24tp29  exist\n",
      "dcm path for TPid 3 Z:/OAI 24 Months/3.C.2/9942724/20061024/10371309\n",
      "Loading QVJ Y:/24tp29\\cascade/24/9942724/20061024L\\E20061024L_L.QVJ\n",
      "Adding QVS E20061024LS101_L.QVS\n",
      "coronal Z:/OAI 24 Months/3.C.2/9942724/20061024/10371309/001.dcm\n",
      "copying Z:/OAI 24 Months/3.C.2/9942724/20061024/10371309/068.dcmahaknee30tp29  exist.2/9942724/20061024/10371309/011.dcm\n",
      "cannot find dcm path for TPid 4\n",
      "ahaknee36tp29  exist\n",
      "cannot find dcm path for TPid 5\n",
      "ahaknee48tp29  exist\n",
      "dcm path for TPid 6 Z:/OAI 48 Months/6.C.1/9942724/20080724/12444508\n",
      "Loading QVJ Y:/48tp29\\cascade/48/9942724/20080724L\\E20080724L_L.QVJ\n",
      "Adding QVS E20080724LS101_L.QVS\n",
      "copying Z:/OAI 48 Months/6.C.1/9942724/20080724/12444508/070.dcmcoronal Z:/OAI 48 Months/6.C.1/9942724/20080724/12444508/071.dcm48 Months/6.C.1/9942724/20080724/12444508/026.dcm\n",
      "ahaknee72tp29  exist\n",
      "cannot find dcm path for TPid 8\n",
      "ahaknee96tp29  exist\n",
      "dcm path for TPid 10 Z:/OAI 96 Months/10.C.1/9942724/20130508/13383008\n",
      "Loading QVJ Y:/96tp29\\cascade/96/9942724/20130508L\\E20130508L_L.QVJ\n",
      "Adding QVS E20130508LS101_L.QVS\n",
      "copying Z:/OAI 96 Months/10.C.1/9942724/20130508/13383008/064.dcmno such contour OuterWall9942724/20130508/13383008/003.dcm\n",
      "No lumen contour for frappe dcm slice 63\n",
      "copying Z:/OAI 96 Months/10.C.1/9942724/20130508/13383008/065.dcmno such contour OuterWall\n",
      "No lumen contour for frappe dcm slice 64\n",
      "copying Z:/OAI 96 Months/10.C.1/9942724/20130508/13383008/066.dcmno such contour OuterWall\n",
      "No lumen contour for frappe dcm slice 65\n",
      "copying Z:/OAI 96 Months/10.C.1/9942724/20130508/13383008/067.dcmno such contour OuterWall\n",
      "No lumen contour for frappe dcm slice 66\n",
      "copying Z:/OAI 96 Months/10.C.1/9942724/20130508/13383008/068.dcmno such contour OuterWall\n",
      "No lumen contour for frappe dcm slice 67\n",
      "copying Z:/OAI 96 Months/10.C.1/9942724/20130508/13383008/069.dcmno such contour OuterWall\n",
      "No lumen contour for frappe dcm slice 68\n",
      "copying Z:/OAI 96 Months/10.C.1/9942724/20130508/13383008/070.dcmno such contour OuterWall\n",
      "No lumen contour for frappe dcm slice 69\n",
      "coronal Z:/OAI 96 Months/10.C.1/9942724/20130508/13383008/071.dcm\n",
      "ahaknee0tp29  exist\n",
      "dcm path for TPid 0 Z:/OAI Baseline/gc0/9942724/10119313\n"
     ]
    },
    {
     "name": "stdout",
     "output_type": "stream",
     "text": [
      "Loading QVJ Y:/0tp29\\cascade/0/9942724/10119313R\\E10119313R_R.QVJ\n",
      "Adding QVS E10119313RS101_R.QVS\n",
      "coronal Z:/OAI Baseline/gc0/9942724/10119313/001.dcm\n",
      "copying Z:/OAI Baseline/gc0/9942724/10119313/061.dcmahaknee12tp29  exist\n",
      "dcm path for TPid 1 Z:/OAI 12 Months/1.C.2/9942724/20051011/10198011\n",
      "Loading QVJ Y:/12tp29\\cascade/12/9942724/20051011R\\E20051011R_R.QVJ\n",
      "Adding QVS E20051011RS101_R.QVS\n",
      "coronal Z:/OAI 12 Months/1.C.2/9942724/20051011/10198011/001.dcm\n",
      "copying Z:/OAI 12 Months/1.C.2/9942724/20051011/10198011/064.dcmahaknee18tp29  exist\n",
      "cannot find dcm path for TPid 2\n",
      "ahaknee24tp29  exist\n",
      "dcm path for TPid 3 Z:/OAI 24 Months/3.C.2/9942724/20061024/10371314\n",
      "Loading QVJ Y:/24tp29\\cascade/24/9942724/20061024R\\E20061024R_R.QVJ\n",
      "Adding QVS E20061024RS101_R.QVS\n",
      "coronal Z:/OAI 24 Months/3.C.2/9942724/20061024/10371314/001.dcm\n",
      "copying Z:/OAI 24 Months/3.C.2/9942724/20061024/10371314/067.dcmahaknee30tp29  exist\n",
      "cannot find dcm path for TPid 4\n",
      "ahaknee36tp29  exist\n",
      "dcm path for TPid 5 Z:/OAI 36 Months/5.C.1/9942724/20071002/12021106\n",
      "Loading QVJ Y:/36tp29\\cascade/36/9942724/20071002R\\E20071002R_R.QVJ\n",
      "Adding QVS E20071002RS101_R.QVS\n",
      "copying Z:/OAI 36 Months/5.C.1/9942724/20071002/12021106/070.dcmcoronal Z:/OAI 36 Months/5.C.1/9942724/20071002/12021106/071.dcm\n",
      "ahaknee48tp29  exist\n",
      "dcm path for TPid 6 Z:/OAI 48 Months/6.C.1/9942724/20080724/12444514\n",
      "Loading QVJ Y:/48tp29\\cascade/48/9942724/20080724R\\E20080724R_R.QVJ\n",
      "Adding QVS E20080724RS101_R.QVS\n",
      "copying Z:/OAI 48 Months/6.C.1/9942724/20080724/12444514/070.dcmcoronal Z:/OAI 48 Months/6.C.1/9942724/20080724/12444514/071.dcm8 Months/6.C.1/9942724/20080724/12444514/042.dcm\n",
      "ahaknee72tp29  exist\n",
      "cannot find dcm path for TPid 8\n",
      "ahaknee96tp29  exist\n",
      "dcm path for TPid 10 Z:/OAI 96 Months/10.C.1/9942724/20130508/13383014\n",
      "Loading QVJ Y:/96tp29\\cascade/96/9942724/20130508R\\E20130508R_R.QVJ\n",
      "Adding QVS E20130508RS101_R.QVS\n",
      "copying Z:/OAI 96 Months/10.C.1/9942724/20130508/13383014/061.dcmno such contour OuterWall\n",
      "No lumen contour for frappe dcm slice 60\n",
      "copying Z:/OAI 96 Months/10.C.1/9942724/20130508/13383014/062.dcmno such contour OuterWall\n",
      "No lumen contour for frappe dcm slice 61\n",
      "copying Z:/OAI 96 Months/10.C.1/9942724/20130508/13383014/063.dcmno such contour OuterWall\n",
      "No lumen contour for frappe dcm slice 62\n",
      "copying Z:/OAI 96 Months/10.C.1/9942724/20130508/13383014/064.dcmno such contour OuterWall\n",
      "No lumen contour for frappe dcm slice 63\n",
      "copying Z:/OAI 96 Months/10.C.1/9942724/20130508/13383014/065.dcmno such contour OuterWall\n",
      "No lumen contour for frappe dcm slice 64\n",
      "copying Z:/OAI 96 Months/10.C.1/9942724/20130508/13383014/066.dcmno such contour OuterWall\n",
      "No lumen contour for frappe dcm slice 65\n",
      "copying Z:/OAI 96 Months/10.C.1/9942724/20130508/13383014/067.dcmno such contour OuterWall\n",
      "No lumen contour for frappe dcm slice 66\n",
      "copying Z:/OAI 96 Months/10.C.1/9942724/20130508/13383014/068.dcmno such contour OuterWall\n",
      "No lumen contour for frappe dcm slice 67\n",
      "copying Z:/OAI 96 Months/10.C.1/9942724/20130508/13383014/069.dcmno such contour OuterWall\n",
      "No lumen contour for frappe dcm slice 68\n",
      "copying Z:/OAI 96 Months/10.C.1/9942724/20130508/13383014/070.dcmno such contour OuterWall\n",
      "No lumen contour for frappe dcm slice 69\n",
      "coronal Z:/OAI 96 Months/10.C.1/9942724/20130508/13383014/071.dcm\n"
     ]
    }
   ],
   "source": [
    "# process list\n",
    "# first in TP as reference\n",
    "caselist = [\n",
    "#     {'pid': '9189303','TP':[0,1,2,3,4,5,6,8,10],'TP2':[0,12,18,24,30,36,48,72,96],'side':'L'},\n",
    "    {'pid': '9941446','TP':[0,1,2,3,4,5,6,8,10],'TP2':[0,12,18,24,30,36,48,72,96],'side':'L'},\n",
    "    {'pid': '9941446','TP':[0,1,2,3,4,5,6,8,10],'TP2':[0,12,18,24,30,36,48,72,96],'side':'R'},\n",
    "    {'pid': '9404954','TP':[0,1,2,3,4,5,6,8,10],'TP2':[0,12,18,24,30,36,48,72,96],'side':'L'},\n",
    "    {'pid': '9404954','TP':[0,1,2,3,4,5,6,8,10],'TP2':[0,12,18,24,30,36,48,72,96],'side':'R'},\n",
    "    {'pid': '9939718','TP':[0,1,2,3,4,5,6,8,10],'TP2':[0,12,18,24,30,36,48,72,96],'side':'R'},\n",
    "    {'pid': '9941231','TP':[0,1,2,3,4,5,6,8,10],'TP2':[0,12,18,24,30,36,48,72,96],'side':'L'},\n",
    "    {'pid': '9941231','TP':[0,1,2,3,4,5,6,8,10],'TP2':[0,12,18,24,30,36,48,72,96],'side':'R'},\n",
    "    {'pid': '9942030','TP':[0,1,2,3,4,5,6,8,10],'TP2':[0,12,18,24,30,36,48,72,96],'side':'L'},\n",
    "    {'pid': '9942030','TP':[0,1,2,3,4,5,6,8,10],'TP2':[0,12,18,24,30,36,48,72,96],'side':'R'},\n",
    "    {'pid': '9942724','TP':[0,1,2,3,4,5,6,8,10],'TP2':[0,12,18,24,30,36,48,72,96],'side':'L'},\n",
    "    {'pid': '9942724','TP':[0,1,2,3,4,5,6,8,10],'TP2':[0,12,18,24,30,36,48,72,96],'side':'R'},\n",
    "]\n",
    "\n",
    "prepare_image_and_list(caselist)"
   ]
  },
  {
   "cell_type": "code",
   "execution_count": 21,
   "metadata": {},
   "outputs": [],
   "source": [
    "def preprocess():\n",
    "    input_file_name           = \".\\image_list_preprocessing.txt\"\n",
    "    n_of_cores                = 1 # change the number of cores according to your computer\n",
    "    intensity_standardization = 0\n",
    "\n",
    "    # Image information\n",
    "    image_data = io.load_image_data_preprocessing(input_file_name)\n",
    "\n",
    "    ref = sitk.ReadImage('../../reference/newsubject/reference.mha')\n",
    "\n",
    "    # Spatial standardization\n",
    "    # Step 0: Read the dicom images\n",
    "    prep.read_dicom_stack(image_data, n_of_cores)\n",
    "    # Save image header\n",
    "    prep.print_dicom_header(image_data, n_of_cores)    # save to *.txt\n",
    "\n",
    "    # Step 1: Change orientation to RAI\n",
    "    #prep.axial_to_sagittal(image_data, n_of_cores)\n",
    "    prep.orientation_to_rai(image_data, n_of_cores)\n",
    "\n",
    "    # Step 2: Change laterality if knee is right\n",
    "    prep.flip_rl(image_data, n_of_cores)\n",
    "    # Step 3: Set image origin to (0,0,0)\n",
    "    prep.origin_to_zero(image_data, n_of_cores)    # Images are saved as *_orig.mha and they are anonymized\n",
    "\n",
    "    # 4. Correct magnetic field inhomogeneities\n",
    "    # Magnetic fields inhomogeneities create grey shades on images. This correction removes these shades. \n",
    "    # This is the longest step of the processing. It can take up to 15-20 min on a standard PC or laptop\n",
    "    if intensity_standardization == 1:\n",
    "        prep.field_correction(image_data, n_of_cores)\n",
    "        prep.rescale_to_range(image_data, n_of_cores)  # 5. Rescale intensities to [0 100]\n",
    "        prep.edge_preserving_smoothing(image_data, n_of_cores)  # 6. Edge preserving smoothing\n",
    "\n",
    "# preprocess()"
   ]
  },
  {
   "cell_type": "code",
   "execution_count": 23,
   "metadata": {},
   "outputs": [],
   "source": [
    "def segmentation_sa():\n",
    "    input_file_name = \"./image_list_newsubject.txt\"\n",
    "    modality        = \"newsubject\" # use \"newsubject\", \"longitudinal\", or \"multimodal\" \n",
    "    n_of_cores      = 1\n",
    "\n",
    "    image_data = io.load_image_data_segmentation(modality, input_file_name)\n",
    "    segm.prepare_reference(image_data)\n",
    "    ### NOTE!!! reference_fv is dummy!!!\n",
    "\n",
    "    # Segment Bone\n",
    "    # 1. Register image to reference\n",
    "    segm.register_bone_to_reference(image_data, n_of_cores)\n",
    "    # 2. Invert transformations\n",
    "    segm.invert_bone_transformations(image_data, n_of_cores)\n",
    "    # 3. Warp reference mask to moving image\n",
    "    segm.warp_bone_mask(image_data, n_of_cores)\n",
    "\n",
    "    # Segment cartilage\n",
    "    segm.register_cartilage_to_reference(image_data, n_of_cores)\n",
    "    segm.invert_cartilage_transformations(image_data, n_of_cores)\n",
    "    segm.warp_cartilage_mask(image_data, n_of_cores)\n",
    "    \n",
    "# segmentation_sa()"
   ]
  },
  {
   "cell_type": "code",
   "execution_count": 24,
   "metadata": {},
   "outputs": [],
   "source": [
    "def segmentation_sa_long():\n",
    "    input_file_name = \"./image_list_longitudinal.txt\"\n",
    "    modality        = \"longitudinal\" # use \"newsubject\", \"longitudinal\", or \"multimodal\" \n",
    "    n_of_cores      = 1\n",
    "\n",
    "    image_data = io.load_image_data_segmentation(modality, input_file_name)\n",
    "    segm.prepare_reference(image_data)\n",
    "\n",
    "    segm.register_bone_to_reference(image_data, n_of_cores)\n",
    "    # segm.invert_bone_transformations(image_data, n_of_cores)\n",
    "    # segm.warp_bone_mask(image_data, n_of_cores)\n",
    "\n",
    "    # segm.register_vessel_to_reference(image_data, n_of_cores)\n",
    "    # segm.invert_vessel_transformations(image_data, n_of_cores)\n",
    "    # segm.warp_vessel_mask(image_data, n_of_cores)\n",
    "    \n",
    "# segmentation_sa_long()"
   ]
  },
  {
   "cell_type": "code",
   "execution_count": 25,
   "metadata": {},
   "outputs": [
    {
     "name": "stdout",
     "output_type": "stream",
     "text": [
      "9941446L_TP0\n",
      "9941446L_TP1\n",
      "9941446L_TP3\n",
      "9941446L_TP6\n",
      "9941446L_TP8\n",
      "9941446L_TP10\n",
      "9941446R_TP0\n",
      "9941446R_TP1\n",
      "9941446R_TP3\n",
      "9941446R_TP5\n",
      "9941446R_TP6\n",
      "9941446R_TP8\n",
      "9941446R_TP10\n",
      "9404954L_TP0\n",
      "9404954L_TP1\n",
      "9404954L_TP3\n",
      "9404954L_TP6\n",
      "9404954L_TP8\n",
      "9404954L_TP10\n",
      "9404954R_TP0\n",
      "9404954R_TP1\n",
      "9404954R_TP3\n",
      "9404954R_TP4\n",
      "9404954R_TP5\n",
      "9404954R_TP6\n",
      "9404954R_TP8\n",
      "9404954R_TP10\n",
      "9939718R_TP0\n",
      "9939718R_TP1\n",
      "9939718R_TP2\n",
      "9939718R_TP3\n",
      "9939718R_TP5\n",
      "9939718R_TP6\n",
      "9939718R_TP8\n",
      "9939718R_TP10\n",
      "9941231L_TP0\n",
      "9941231L_TP1\n",
      "9941231L_TP3\n",
      "9941231L_TP5\n",
      "9941231L_TP6\n",
      "9941231L_TP8\n",
      "9941231L_TP10\n",
      "9941231R_TP0\n",
      "9941231R_TP1\n",
      "9941231R_TP3\n",
      "9941231R_TP5\n",
      "9941231R_TP6\n",
      "9942030L_TP0\n",
      "9942030L_TP1\n",
      "9942030L_TP3\n",
      "9942030L_TP5\n",
      "9942030L_TP6\n",
      "9942030R_TP0\n",
      "9942030R_TP1\n",
      "9942030R_TP3\n",
      "9942030R_TP5\n",
      "9942030R_TP6\n",
      "9942724L_TP0\n",
      "9942724L_TP1\n",
      "9942724L_TP3\n",
      "9942724L_TP6\n",
      "9942724L_TP10\n",
      "9942724R_TP0\n",
      "9942724R_TP1\n",
      "9942724R_TP3\n",
      "9942724R_TP5\n",
      "9942724R_TP6\n",
      "9942724R_TP10\n",
      "-> information loaded for 68 subjects\n",
      "-> Dicom images read\n",
      "-> The total time was 82.47 seconds (about 1 min)\n",
      "-> Dicom headers written\n",
      "-> The total time was 15.38 seconds (about 0 min)\n",
      "-> Image orientation changed\n",
      "-> The total time was 14.19 seconds (about 0 min)\n",
      "-> Image laterality changed for right images\n",
      "-> The total time was 7.28 seconds (about 0 min)\n",
      "-> Image origin changed\n",
      "-> _orig.mha images saved\n",
      "-> The total time was 16.47 seconds (about 0 min)\n",
      "-> image information loaded\n",
      "reference.mha\n",
      "-> Reference preparation completed\n",
      "-> Registration completed\n",
      "-> The total time was 786.72 seconds (about 13 min)\n",
      "-> Inversion completed\n",
      "-> The total time was 851.60 seconds (about 14 min)\n",
      "-> Warping completed\n",
      "-> The total time was 182.24 seconds (about 3 min)\n",
      "-> Registration completed\n",
      "-> The total time was 528.33 seconds (about 8 min)\n",
      "-> Inversion completed\n",
      "-> The total time was 683.87 seconds (about 11 min)\n",
      "-> Warping completed\n",
      "-> The total time was 182.86 seconds (about 3 min)\n",
      "-> image information loaded\n",
      "9941446L_TP0_prep.mha\n"
     ]
    },
    {
     "ename": "RuntimeError",
     "evalue": "Exception thrown in SimpleITK ReadImage: D:\\a\\1\\sitk\\Code\\IO\\src\\sitkImageReaderBase.cxx:99:\nsitk::ERROR: The file \"C:\\Zhixuan\\OAI-registration\\pyKNEEr-yg\\reference\\longitudinal\\9941446L_TP0_prep_f.mha\" does not exist.",
     "output_type": "error",
     "traceback": [
      "\u001b[1;31m---------------------------------------------------------------------------\u001b[0m",
      "\u001b[1;31mRuntimeError\u001b[0m                              Traceback (most recent call last)",
      "\u001b[1;32m<ipython-input-25-9c91c5429357>\u001b[0m in \u001b[0;36m<module>\u001b[1;34m\u001b[0m\n\u001b[0;32m      1\u001b[0m \u001b[0mpreprocess\u001b[0m\u001b[1;33m(\u001b[0m\u001b[1;33m)\u001b[0m\u001b[1;33m\u001b[0m\u001b[1;33m\u001b[0m\u001b[0m\n\u001b[0;32m      2\u001b[0m \u001b[0msegmentation_sa\u001b[0m\u001b[1;33m(\u001b[0m\u001b[1;33m)\u001b[0m\u001b[1;33m\u001b[0m\u001b[1;33m\u001b[0m\u001b[0m\n\u001b[1;32m----> 3\u001b[1;33m \u001b[0msegmentation_sa_long\u001b[0m\u001b[1;33m(\u001b[0m\u001b[1;33m)\u001b[0m\u001b[1;33m\u001b[0m\u001b[1;33m\u001b[0m\u001b[0m\n\u001b[0m",
      "\u001b[1;32m<ipython-input-24-84f7606b7a27>\u001b[0m in \u001b[0;36msegmentation_sa_long\u001b[1;34m()\u001b[0m\n\u001b[0;32m      5\u001b[0m \u001b[1;33m\u001b[0m\u001b[0m\n\u001b[0;32m      6\u001b[0m     \u001b[0mimage_data\u001b[0m \u001b[1;33m=\u001b[0m \u001b[0mio\u001b[0m\u001b[1;33m.\u001b[0m\u001b[0mload_image_data_segmentation\u001b[0m\u001b[1;33m(\u001b[0m\u001b[0mmodality\u001b[0m\u001b[1;33m,\u001b[0m \u001b[0minput_file_name\u001b[0m\u001b[1;33m)\u001b[0m\u001b[1;33m\u001b[0m\u001b[1;33m\u001b[0m\u001b[0m\n\u001b[1;32m----> 7\u001b[1;33m     \u001b[0msegm\u001b[0m\u001b[1;33m.\u001b[0m\u001b[0mprepare_reference\u001b[0m\u001b[1;33m(\u001b[0m\u001b[0mimage_data\u001b[0m\u001b[1;33m)\u001b[0m\u001b[1;33m\u001b[0m\u001b[1;33m\u001b[0m\u001b[0m\n\u001b[0m\u001b[0;32m      8\u001b[0m \u001b[1;33m\u001b[0m\u001b[0m\n\u001b[0;32m      9\u001b[0m     \u001b[0msegm\u001b[0m\u001b[1;33m.\u001b[0m\u001b[0mregister_bone_to_reference\u001b[0m\u001b[1;33m(\u001b[0m\u001b[0mimage_data\u001b[0m\u001b[1;33m,\u001b[0m \u001b[0mn_of_cores\u001b[0m\u001b[1;33m)\u001b[0m\u001b[1;33m\u001b[0m\u001b[1;33m\u001b[0m\u001b[0m\n",
      "\u001b[1;32mC:\\Zhixuan\\OAI-registration\\pykneer-yg\\pykneer\\pykneer\\segmentation_sa_for_nb.py\u001b[0m in \u001b[0;36mprepare_reference\u001b[1;34m(all_image_data)\u001b[0m\n\u001b[0;32m     95\u001b[0m             \u001b[0mimage_data\u001b[0m\u001b[1;33m[\u001b[0m\u001b[1;34m\"current_anatomy\"\u001b[0m\u001b[1;33m]\u001b[0m \u001b[1;33m=\u001b[0m \u001b[0mimage_data\u001b[0m\u001b[1;33m[\u001b[0m\u001b[1;34m\"bone\"\u001b[0m\u001b[1;33m]\u001b[0m\u001b[1;33m\u001b[0m\u001b[1;33m\u001b[0m\u001b[0m\n\u001b[0;32m     96\u001b[0m             \u001b[0mbone\u001b[0m \u001b[1;33m=\u001b[0m \u001b[0melastix_transformix\u001b[0m\u001b[1;33m.\u001b[0m\u001b[0mbone\u001b[0m\u001b[1;33m(\u001b[0m\u001b[1;33m)\u001b[0m\u001b[1;33m\u001b[0m\u001b[1;33m\u001b[0m\u001b[0m\n\u001b[1;32m---> 97\u001b[1;33m             \u001b[0mbone\u001b[0m\u001b[1;33m.\u001b[0m\u001b[0mprepare_reference\u001b[0m \u001b[1;33m(\u001b[0m\u001b[0mimage_data\u001b[0m\u001b[1;33m)\u001b[0m\u001b[1;33m\u001b[0m\u001b[1;33m\u001b[0m\u001b[0m\n\u001b[0m\u001b[0;32m     98\u001b[0m \u001b[1;33m\u001b[0m\u001b[0m\n\u001b[0;32m     99\u001b[0m             \u001b[1;31m# instanciate cartilage class and prepare reference\u001b[0m\u001b[1;33m\u001b[0m\u001b[1;33m\u001b[0m\u001b[1;33m\u001b[0m\u001b[0m\n",
      "\u001b[1;32mC:\\Zhixuan\\OAI-registration\\pykneer-yg\\pykneer\\pykneer\\elastix_transformix.py\u001b[0m in \u001b[0;36mprepare_reference\u001b[1;34m(self, image_data)\u001b[0m\n\u001b[0;32m     91\u001b[0m         \u001b[1;31m# dilate mask\u001b[0m\u001b[1;33m\u001b[0m\u001b[1;33m\u001b[0m\u001b[1;33m\u001b[0m\u001b[0m\n\u001b[0;32m     92\u001b[0m         \u001b[1;32mif\u001b[0m \u001b[1;32mnot\u001b[0m \u001b[0mos\u001b[0m\u001b[1;33m.\u001b[0m\u001b[0mpath\u001b[0m\u001b[1;33m.\u001b[0m\u001b[0misfile\u001b[0m\u001b[1;33m(\u001b[0m\u001b[0mreference_mask_dil_name\u001b[0m\u001b[1;33m)\u001b[0m\u001b[1;33m:\u001b[0m\u001b[1;33m\u001b[0m\u001b[1;33m\u001b[0m\u001b[0m\n\u001b[1;32m---> 93\u001b[1;33m             \u001b[0mmask\u001b[0m    \u001b[1;33m=\u001b[0m \u001b[0msitk\u001b[0m\u001b[1;33m.\u001b[0m\u001b[0mReadImage\u001b[0m\u001b[1;33m(\u001b[0m\u001b[0mreference_mask_name\u001b[0m\u001b[1;33m)\u001b[0m\u001b[1;33m\u001b[0m\u001b[1;33m\u001b[0m\u001b[0m\n\u001b[0m\u001b[0;32m     94\u001b[0m             \u001b[0mmaskDil\u001b[0m \u001b[1;33m=\u001b[0m \u001b[0msitkf\u001b[0m\u001b[1;33m.\u001b[0m\u001b[0mdilate_mask\u001b[0m\u001b[1;33m(\u001b[0m\u001b[0mmask\u001b[0m\u001b[1;33m,\u001b[0m \u001b[0mradius\u001b[0m\u001b[1;33m)\u001b[0m\u001b[1;33m\u001b[0m\u001b[1;33m\u001b[0m\u001b[0m\n\u001b[0;32m     95\u001b[0m             \u001b[0msitk\u001b[0m\u001b[1;33m.\u001b[0m\u001b[0mWriteImage\u001b[0m\u001b[1;33m(\u001b[0m\u001b[0mmaskDil\u001b[0m\u001b[1;33m,\u001b[0m \u001b[0mreference_mask_dil_name\u001b[0m\u001b[1;33m)\u001b[0m\u001b[1;33m\u001b[0m\u001b[1;33m\u001b[0m\u001b[0m\n",
      "\u001b[1;32m~\\anaconda3\\envs\\OAIreg\\lib\\site-packages\\SimpleITK\\SimpleITK.py\u001b[0m in \u001b[0;36mReadImage\u001b[1;34m(*args)\u001b[0m\n\u001b[0;32m   8874\u001b[0m \u001b[1;33m\u001b[0m\u001b[0m\n\u001b[0;32m   8875\u001b[0m     \"\"\"\n\u001b[1;32m-> 8876\u001b[1;33m     \u001b[1;32mreturn\u001b[0m \u001b[0m_SimpleITK\u001b[0m\u001b[1;33m.\u001b[0m\u001b[0mReadImage\u001b[0m\u001b[1;33m(\u001b[0m\u001b[1;33m*\u001b[0m\u001b[0margs\u001b[0m\u001b[1;33m)\u001b[0m\u001b[1;33m\u001b[0m\u001b[1;33m\u001b[0m\u001b[0m\n\u001b[0m\u001b[0;32m   8877\u001b[0m \u001b[1;32mclass\u001b[0m \u001b[0mImageViewer\u001b[0m\u001b[1;33m(\u001b[0m\u001b[0m_object\u001b[0m\u001b[1;33m)\u001b[0m\u001b[1;33m:\u001b[0m\u001b[1;33m\u001b[0m\u001b[1;33m\u001b[0m\u001b[0m\n\u001b[0;32m   8878\u001b[0m     \"\"\"\n",
      "\u001b[1;31mRuntimeError\u001b[0m: Exception thrown in SimpleITK ReadImage: D:\\a\\1\\sitk\\Code\\IO\\src\\sitkImageReaderBase.cxx:99:\nsitk::ERROR: The file \"C:\\Zhixuan\\OAI-registration\\pyKNEEr-yg\\reference\\longitudinal\\9941446L_TP0_prep_f.mha\" does not exist."
     ]
    }
   ],
   "source": [
    "preprocess()\n",
    "segmentation_sa()\n",
    "segmentation_sa_long()"
   ]
  },
  {
   "cell_type": "code",
   "execution_count": 65,
   "metadata": {},
   "outputs": [
    {
     "data": {
      "text/plain": [
       "{'registration_type': 'longitudinal',\n",
       " 'vessel': 'fv',\n",
       " 'cartilage': 'fc',\n",
       " 'bone': 'f',\n",
       " 'current_anatomy': [],\n",
       " 'reference_folder': 'C:\\\\Zhixuan\\\\OAI-registration\\\\pyKNEEr-yg\\\\reference\\\\longitudinal\\\\',\n",
       " 'reference_name': '9941446L_TP0_prep.mha',\n",
       " 'reference_root': '9941446L_TP0_prep',\n",
       " 'moving_folder': 'C:\\\\Zhixuan\\\\OAI-registration\\\\pyKNEEr-yg\\\\preprocessed\\\\',\n",
       " 'moving_name': '9941446L_TP1_prep.mha',\n",
       " 'moving_root': '9941446L_TP1_prep',\n",
       " 'registered_folder': 'C:\\\\Zhixuan\\\\OAI-registration\\\\pyKNEEr-yg\\\\registered\\\\',\n",
       " 'segmented_folder': 'C:\\\\Zhixuan\\\\OAI-registration\\\\pyKNEEr-yg\\\\segmented\\\\',\n",
       " 'registered_sub_folder': 'C:\\\\Zhixuan\\\\OAI-registration\\\\pyKNEEr-yg\\\\registered\\\\9941446L_TP1_prep\\\\',\n",
       " 'i_registered_sub_folder': 'C:\\\\Zhixuan\\\\OAI-registration\\\\pyKNEEr-yg\\\\registered\\\\9941446L_TP1_prep\\\\invert\\\\',\n",
       " 'dilate_radius': 15,\n",
       " 'fmask_file_name': '9941446L_TP0_prep_f.mha',\n",
       " 'fdil_mask_file_name': '9941446L_TP0_prep_f_15.mha',\n",
       " 'flevelset_mask_file_name': '9941446L_TP0_prep_f_levelSet.mha',\n",
       " 'fcmask_file_name': '9941446L_TP0_prep_fc.mha',\n",
       " 'fcdil_mask_file_name': '9941446L_TP0_prep_fc_15.mha',\n",
       " 'fclevelset_mask_file_name': '9941446L_TP0_prep_fc_levelSet.mha',\n",
       " 'fvmask_file_name': '9941446L_TP0_prep_fv.mha',\n",
       " 'fvdil_mask_file_name': '9941446L_TP0_prep_fv_15.mha',\n",
       " 'fvlevelset_mask_file_name': '9941446L_TP0_prep_fv_levelSet.mha',\n",
       " 'frigid_name': 'f_rigid.mha',\n",
       " 'fsimilarity_name': 'f_similarity.mha',\n",
       " 'fspline_name': 'f_spline.mha',\n",
       " 'fcspline_name': 'fc_spline.mha',\n",
       " 'fvspline_name': 'fv_spline.mha',\n",
       " 'fm_rigid_name': 'f_rigidMask.mha',\n",
       " 'fm_similarity_name': 'f_similarityMask.mha',\n",
       " 'fm_spline_name': 'f_splineMask.mha',\n",
       " 'fmask': '9941446L_TP1_prep_f.mha',\n",
       " 'fcm_rigid_name': 'fc_rigidMask.mha',\n",
       " 'fcm_similarity_name': 'fc_similarityMask.mha',\n",
       " 'fcm_spline_name': 'fc_splineMask.mha',\n",
       " 'fcmask': '9941446L_TP1_prep_fc.mha',\n",
       " 'fvm_rigid_name': 'fv_rigidMask.mha',\n",
       " 'fvm_similarity_name': 'fv_similarityMask.mha',\n",
       " 'fvm_spline_name': 'fv_splineMask.mha',\n",
       " 'fvmask': '9941446L_TP1_prep_fv.mha',\n",
       " 'frigid_transf_name': 'TransformParameters.f_rigid.txt',\n",
       " 'fsimilarity_transf_name': 'TransformParameters.f_similarity.txt',\n",
       " 'fspline_transf_name': 'TransformParameters.f_spline.txt',\n",
       " 'fi_rigid_transf_name': 'iTransformParameters.f_rigid.txt',\n",
       " 'fi_similarity_transf_name': 'iTransformParameters.f_similarity.txt',\n",
       " 'fi_spline_transf_name': 'iTransformParameters.f_spline.txt',\n",
       " 'fm_rigid_transf_name': 'mTransformParameters.f_rigid.txt',\n",
       " 'fm_similarity_transf_name': 'mTransformParameters.f_similarity.txt',\n",
       " 'fm_spline_transf_name': 'mTransformParameters.f_spline.txt',\n",
       " 'fcspline_transf_name': 'TransformParameters.fc_spline.txt',\n",
       " 'fci_spline_transf_name': 'iTransformParameters.fc_spline.txt',\n",
       " 'fcm_spline_transf_name': 'mTransformParameters.fc_spline.txt',\n",
       " 'fvspline_transf_name': 'TransformParameters.fv_spline.txt',\n",
       " 'fvi_spline_transf_name': 'iTransformParameters.fv_spline.txt',\n",
       " 'fvm_spline_transf_name': 'mTransformParameters.fv_spline.txt',\n",
       " 'param_file_rigid': 'C:\\\\Zhixuan\\\\OAI-registration\\\\pykneer-yg\\\\pykneer\\\\pykneer/parameterFiles\\\\MR_param_rigid.txt',\n",
       " 'i_param_file_rigid': 'C:\\\\Zhixuan\\\\OAI-registration\\\\pykneer-yg\\\\pykneer\\\\pykneer/parameterFiles\\\\MR_iparam_rigid.txt',\n",
       " 'param_file_similarity': 'C:\\\\Zhixuan\\\\OAI-registration\\\\pykneer-yg\\\\pykneer\\\\pykneer/parameterFiles\\\\MR_param_similarity.txt',\n",
       " 'i_param_file_similarity': 'C:\\\\Zhixuan\\\\OAI-registration\\\\pykneer-yg\\\\pykneer\\\\pykneer/parameterFiles\\\\MR_iparam_similarity.txt',\n",
       " 'param_file_spline': 'C:\\\\Zhixuan\\\\OAI-registration\\\\pykneer-yg\\\\pykneer\\\\pykneer/parameterFiles\\\\MR_param_spline.txt',\n",
       " 'i_param_file_spline': 'C:\\\\Zhixuan\\\\OAI-registration\\\\pykneer-yg\\\\pykneer\\\\pykneer/parameterFiles\\\\MR_iparam_spline.txt',\n",
       " 'elastix_folder': '../../pykneer\\\\pykneer\\\\elastix\\\\Windows\\\\',\n",
       " 'complete_elastix_path': '../../pykneer\\\\pykneer\\\\elastix\\\\Windows\\\\elastix',\n",
       " 'complete_transformix_path': '../../pykneer\\\\pykneer\\\\elastix\\\\Windows\\\\transformix'}"
      ]
     },
     "execution_count": 65,
     "metadata": {},
     "output_type": "execute_result"
    }
   ],
   "source": [
    "image_data[0]"
   ]
  },
  {
   "cell_type": "code",
   "execution_count": null,
   "metadata": {},
   "outputs": [],
   "source": []
  },
  {
   "cell_type": "code",
   "execution_count": 26,
   "metadata": {},
   "outputs": [
    {
     "name": "stdout",
     "output_type": "stream",
     "text": [
      "-> image information loaded\n",
      "9941446L_TP0_prep.mha\n",
      "9941446L_TP0_prep.mha\n",
      "9941446L_TP0_prep.mha\n",
      "9941446L_TP0_prep.mha\n",
      "9941446L_TP0_prep.mha\n",
      "9941446R_TP0_prep.mha\n",
      "9941446R_TP0_prep.mha\n",
      "9941446R_TP0_prep.mha\n",
      "9941446R_TP0_prep.mha\n",
      "9941446R_TP0_prep.mha\n",
      "9941446R_TP0_prep.mha\n",
      "9404954L_TP0_prep.mha\n",
      "9404954L_TP0_prep.mha\n",
      "9404954L_TP0_prep.mha\n",
      "9404954L_TP0_prep.mha\n",
      "9404954L_TP0_prep.mha\n",
      "9404954R_TP0_prep.mha\n",
      "9404954R_TP0_prep.mha\n",
      "9404954R_TP0_prep.mha\n",
      "9404954R_TP0_prep.mha\n",
      "9404954R_TP0_prep.mha\n",
      "9404954R_TP0_prep.mha\n",
      "9404954R_TP0_prep.mha\n",
      "9939718R_TP0_prep.mha\n",
      "9939718R_TP0_prep.mha\n",
      "9939718R_TP0_prep.mha\n",
      "9939718R_TP0_prep.mha\n",
      "9939718R_TP0_prep.mha\n",
      "9939718R_TP0_prep.mha\n",
      "9939718R_TP0_prep.mha\n",
      "9941231L_TP0_prep.mha\n",
      "9941231L_TP0_prep.mha\n",
      "9941231L_TP0_prep.mha\n",
      "9941231L_TP0_prep.mha\n",
      "9941231L_TP0_prep.mha\n",
      "9941231L_TP0_prep.mha\n",
      "9941231R_TP0_prep.mha\n",
      "9941231R_TP0_prep.mha\n",
      "9941231R_TP0_prep.mha\n",
      "9941231R_TP0_prep.mha\n",
      "9942030L_TP0_prep.mha\n",
      "9942030L_TP0_prep.mha\n",
      "9942030L_TP0_prep.mha\n",
      "9942030L_TP0_prep.mha\n",
      "9942030R_TP0_prep.mha\n",
      "9942030R_TP0_prep.mha\n",
      "9942030R_TP0_prep.mha\n",
      "9942030R_TP0_prep.mha\n",
      "9942724L_TP0_prep.mha\n",
      "9942724L_TP0_prep.mha\n",
      "9942724L_TP0_prep.mha\n",
      "9942724L_TP0_prep.mha\n",
      "9942724R_TP0_prep.mha\n",
      "9942724R_TP0_prep.mha\n",
      "9942724R_TP0_prep.mha\n",
      "9942724R_TP0_prep.mha\n",
      "9942724R_TP0_prep.mha\n",
      "-> Reference preparation completed\n",
      "-> Registration completed\n",
      "-> The total time was 3073.02 seconds (about 51 min)\n"
     ]
    }
   ],
   "source": [
    "segmentation_sa_long()"
   ]
  },
  {
   "cell_type": "code",
   "execution_count": 2,
   "metadata": {},
   "outputs": [
    {
     "name": "stdout",
     "output_type": "stream",
     "text": [
      "-> image information loaded\n"
     ]
    }
   ],
   "source": [
    "sys.path.append(\"../../..\")\n",
    "from MyProcessDicom import *\n",
    "input_file_name = \"./image_list_longitudinal.txt\"\n",
    "modality        = \"longitudinal\" # use \"newsubject\", \"longitudinal\", or \"multimodal\" \n",
    "n_of_cores      = 1\n",
    "\n",
    "image_data = io.load_image_data_segmentation(modality, input_file_name)"
   ]
  },
  {
   "cell_type": "code",
   "execution_count": 3,
   "metadata": {},
   "outputs": [],
   "source": [
    "import matplotlib.pyplot as plt\n",
    "import os\n",
    "%matplotlib inline\n",
    "import numpy as np\n",
    "def show_sagittal_images(image, length, index, tp_str):\n",
    "    \n",
    "    image_npa = sitk.GetArrayViewFromImage(image)\n",
    "    size = np.size(image_npa, 2)\n",
    "    # Draw the fixed image in the first subplot.\n",
    "    plt.subplot(length,1,index)\n",
    "    plt.imshow(image_npa[:,:,size//2],cmap=plt.cm.Greys_r);\n",
    "    plt.title(tp_str)\n",
    "    plt.axis('off')"
   ]
  },
  {
   "cell_type": "code",
   "execution_count": 15,
   "metadata": {},
   "outputs": [
    {
     "data": {
      "text/plain": [
       "'9941446L'"
      ]
     },
     "execution_count": 15,
     "metadata": {},
     "output_type": "execute_result"
    }
   ],
   "source": [
    "image_data[1]['moving_name'][:8]"
   ]
  },
  {
   "cell_type": "code",
   "execution_count": 16,
   "metadata": {},
   "outputs": [],
   "source": [
    "def show_slice_images(all_image_data):\n",
    "    last_name = '0000000L'\n",
    "    # for each image\n",
    "    for i in range(0, len(all_image_data)):\n",
    "\n",
    "        # get paths and file names of the current image\n",
    "        image_data                    = all_image_data[i]\n",
    "        if image_data['moving_name'][:8] != last_name:\n",
    "            last_name = image_data['moving_name'][:8]\n",
    "            print(last_name)\n",
    "            \n",
    "        moving_file_name              = image_data['registered_sub_folder']    + image_data['frigid_name']\n",
    "        reference_file_name              = image_data['reference_folder']    + image_data['reference_name']\n",
    "    #     image_data = all_image_data[0]\n",
    "    #     reference_file_name = image_data['registered_sub_folder']    + image_data['frigid_name']\n",
    "    #         mask_file_name                = image_data[\"segmented_folder\"] + image_data[anatomy + \"mask\"]\n",
    "\n",
    "    #     test_name          = image_data[\"reference_folder\"] + image_data[\"reference_name\"]\n",
    "        # read the images\n",
    "        reference = sitk.ReadImage(reference_file_name)\n",
    "        moving = sitk.ReadImage(moving_file_name)\n",
    "    #         mask   = sitk.ReadImage(mask_file_name)\n",
    "    #     test = sitk.ReadImage(test_name)\n",
    "\n",
    "    #     reference = tmp_resample(reference, moving)\n",
    "    #     print(moving.GetSize())\n",
    "\n",
    "        # images from simpleitk to numpy\n",
    "    #     reference_py = sitk.GetArrayFromImage(reference)\n",
    "    #     moving_py = sitk.GetArrayFromImage(moving)\n",
    "    #         mask_py   = sitk.GetArrayFromImage(mask)\n",
    "        show_mixed_images(reference, moving)\n",
    "    #     show_mixed_images(reference, reference)"
   ]
  },
  {
   "cell_type": "code",
   "execution_count": 17,
   "metadata": {},
   "outputs": [
    {
     "name": "stdout",
     "output_type": "stream",
     "text": [
      "9941446L\n"
     ]
    },
    {
     "data": {
      "application/vnd.jupyter.widget-view+json": {
       "model_id": "dfa413b8fa3e4e3db6282a8fdb6c135c",
       "version_major": 2,
       "version_minor": 0
      },
      "text/plain": [
       "interactive(children=(IntSlider(value=37, description='image_z', max=74), FloatSlider(value=0.5, description='…"
      ]
     },
     "metadata": {},
     "output_type": "display_data"
    },
    {
     "data": {
      "application/vnd.jupyter.widget-view+json": {
       "model_id": "b5294ffb6b744577a065214f318593b3",
       "version_major": 2,
       "version_minor": 0
      },
      "text/plain": [
       "interactive(children=(IntSlider(value=37, description='image_z', max=74), FloatSlider(value=0.5, description='…"
      ]
     },
     "metadata": {},
     "output_type": "display_data"
    },
    {
     "data": {
      "application/vnd.jupyter.widget-view+json": {
       "model_id": "5b222d43248d44a090e01bac4741135c",
       "version_major": 2,
       "version_minor": 0
      },
      "text/plain": [
       "interactive(children=(IntSlider(value=37, description='image_z', max=74), FloatSlider(value=0.5, description='…"
      ]
     },
     "metadata": {},
     "output_type": "display_data"
    },
    {
     "data": {
      "application/vnd.jupyter.widget-view+json": {
       "model_id": "24be52514b7840e8a3bb0427ea475764",
       "version_major": 2,
       "version_minor": 0
      },
      "text/plain": [
       "interactive(children=(IntSlider(value=37, description='image_z', max=74), FloatSlider(value=0.5, description='…"
      ]
     },
     "metadata": {},
     "output_type": "display_data"
    },
    {
     "data": {
      "application/vnd.jupyter.widget-view+json": {
       "model_id": "334dd091e93843f29cb6f7d5c95f8ba7",
       "version_major": 2,
       "version_minor": 0
      },
      "text/plain": [
       "interactive(children=(IntSlider(value=37, description='image_z', max=74), FloatSlider(value=0.5, description='…"
      ]
     },
     "metadata": {},
     "output_type": "display_data"
    },
    {
     "name": "stdout",
     "output_type": "stream",
     "text": [
      "9941446R\n"
     ]
    },
    {
     "data": {
      "application/vnd.jupyter.widget-view+json": {
       "model_id": "972d5624253c49d094569f35ff714aa1",
       "version_major": 2,
       "version_minor": 0
      },
      "text/plain": [
       "interactive(children=(IntSlider(value=37, description='image_z', max=74), FloatSlider(value=0.5, description='…"
      ]
     },
     "metadata": {},
     "output_type": "display_data"
    },
    {
     "data": {
      "application/vnd.jupyter.widget-view+json": {
       "model_id": "a6a5632fc82e4b83a52e52889d267757",
       "version_major": 2,
       "version_minor": 0
      },
      "text/plain": [
       "interactive(children=(IntSlider(value=37, description='image_z', max=74), FloatSlider(value=0.5, description='…"
      ]
     },
     "metadata": {},
     "output_type": "display_data"
    },
    {
     "data": {
      "application/vnd.jupyter.widget-view+json": {
       "model_id": "6b21d2eee3fe45268323df74e1ac2cc4",
       "version_major": 2,
       "version_minor": 0
      },
      "text/plain": [
       "interactive(children=(IntSlider(value=37, description='image_z', max=74), FloatSlider(value=0.5, description='…"
      ]
     },
     "metadata": {},
     "output_type": "display_data"
    },
    {
     "data": {
      "application/vnd.jupyter.widget-view+json": {
       "model_id": "a3e2c9c81d214324bcbd32bcf29baeaf",
       "version_major": 2,
       "version_minor": 0
      },
      "text/plain": [
       "interactive(children=(IntSlider(value=37, description='image_z', max=74), FloatSlider(value=0.5, description='…"
      ]
     },
     "metadata": {},
     "output_type": "display_data"
    },
    {
     "data": {
      "application/vnd.jupyter.widget-view+json": {
       "model_id": "6b6ef627e65f4b82b6a5a92948c8fe7d",
       "version_major": 2,
       "version_minor": 0
      },
      "text/plain": [
       "interactive(children=(IntSlider(value=37, description='image_z', max=74), FloatSlider(value=0.5, description='…"
      ]
     },
     "metadata": {},
     "output_type": "display_data"
    },
    {
     "data": {
      "application/vnd.jupyter.widget-view+json": {
       "model_id": "e461292e2f1a4c07b5a3856b862a3c4f",
       "version_major": 2,
       "version_minor": 0
      },
      "text/plain": [
       "interactive(children=(IntSlider(value=37, description='image_z', max=74), FloatSlider(value=0.5, description='…"
      ]
     },
     "metadata": {},
     "output_type": "display_data"
    },
    {
     "name": "stdout",
     "output_type": "stream",
     "text": [
      "9404954L\n"
     ]
    },
    {
     "data": {
      "application/vnd.jupyter.widget-view+json": {
       "model_id": "c97ec81bd2744a9c96da00b9966dfca3",
       "version_major": 2,
       "version_minor": 0
      },
      "text/plain": [
       "interactive(children=(IntSlider(value=37, description='image_z', max=74), FloatSlider(value=0.5, description='…"
      ]
     },
     "metadata": {},
     "output_type": "display_data"
    },
    {
     "data": {
      "application/vnd.jupyter.widget-view+json": {
       "model_id": "4a6a72cb9cc94515a999928122b27515",
       "version_major": 2,
       "version_minor": 0
      },
      "text/plain": [
       "interactive(children=(IntSlider(value=37, description='image_z', max=74), FloatSlider(value=0.5, description='…"
      ]
     },
     "metadata": {},
     "output_type": "display_data"
    },
    {
     "data": {
      "application/vnd.jupyter.widget-view+json": {
       "model_id": "6539e631f298401795379540832c747b",
       "version_major": 2,
       "version_minor": 0
      },
      "text/plain": [
       "interactive(children=(IntSlider(value=37, description='image_z', max=74), FloatSlider(value=0.5, description='…"
      ]
     },
     "metadata": {},
     "output_type": "display_data"
    },
    {
     "data": {
      "application/vnd.jupyter.widget-view+json": {
       "model_id": "5090fed37ce1477e83cc0144148528eb",
       "version_major": 2,
       "version_minor": 0
      },
      "text/plain": [
       "interactive(children=(IntSlider(value=37, description='image_z', max=74), FloatSlider(value=0.5, description='…"
      ]
     },
     "metadata": {},
     "output_type": "display_data"
    },
    {
     "data": {
      "application/vnd.jupyter.widget-view+json": {
       "model_id": "d02f553513fc423a8f51a03065cdf521",
       "version_major": 2,
       "version_minor": 0
      },
      "text/plain": [
       "interactive(children=(IntSlider(value=37, description='image_z', max=74), FloatSlider(value=0.5, description='…"
      ]
     },
     "metadata": {},
     "output_type": "display_data"
    },
    {
     "name": "stdout",
     "output_type": "stream",
     "text": [
      "9404954R\n"
     ]
    },
    {
     "data": {
      "application/vnd.jupyter.widget-view+json": {
       "model_id": "f696ec01608b4ea29bb000164bd44d9b",
       "version_major": 2,
       "version_minor": 0
      },
      "text/plain": [
       "interactive(children=(IntSlider(value=37, description='image_z', max=74), FloatSlider(value=0.5, description='…"
      ]
     },
     "metadata": {},
     "output_type": "display_data"
    },
    {
     "data": {
      "application/vnd.jupyter.widget-view+json": {
       "model_id": "ed003125f44e4aef92a33d920ac5450b",
       "version_major": 2,
       "version_minor": 0
      },
      "text/plain": [
       "interactive(children=(IntSlider(value=37, description='image_z', max=74), FloatSlider(value=0.5, description='…"
      ]
     },
     "metadata": {},
     "output_type": "display_data"
    },
    {
     "data": {
      "application/vnd.jupyter.widget-view+json": {
       "model_id": "8584d0311da8493f8a95f2bb02774bb0",
       "version_major": 2,
       "version_minor": 0
      },
      "text/plain": [
       "interactive(children=(IntSlider(value=37, description='image_z', max=74), FloatSlider(value=0.5, description='…"
      ]
     },
     "metadata": {},
     "output_type": "display_data"
    },
    {
     "data": {
      "application/vnd.jupyter.widget-view+json": {
       "model_id": "1ac23c61de7e4816aa6aa89356137407",
       "version_major": 2,
       "version_minor": 0
      },
      "text/plain": [
       "interactive(children=(IntSlider(value=37, description='image_z', max=74), FloatSlider(value=0.5, description='…"
      ]
     },
     "metadata": {},
     "output_type": "display_data"
    },
    {
     "data": {
      "application/vnd.jupyter.widget-view+json": {
       "model_id": "4b569a7f1a194c528db36dc188ac2659",
       "version_major": 2,
       "version_minor": 0
      },
      "text/plain": [
       "interactive(children=(IntSlider(value=37, description='image_z', max=74), FloatSlider(value=0.5, description='…"
      ]
     },
     "metadata": {},
     "output_type": "display_data"
    },
    {
     "data": {
      "application/vnd.jupyter.widget-view+json": {
       "model_id": "5effb955b94440f4833cc7cf25e4f268",
       "version_major": 2,
       "version_minor": 0
      },
      "text/plain": [
       "interactive(children=(IntSlider(value=37, description='image_z', max=74), FloatSlider(value=0.5, description='…"
      ]
     },
     "metadata": {},
     "output_type": "display_data"
    },
    {
     "data": {
      "application/vnd.jupyter.widget-view+json": {
       "model_id": "80f09cebc0474563b98cf8ae00766c81",
       "version_major": 2,
       "version_minor": 0
      },
      "text/plain": [
       "interactive(children=(IntSlider(value=37, description='image_z', max=74), FloatSlider(value=0.5, description='…"
      ]
     },
     "metadata": {},
     "output_type": "display_data"
    },
    {
     "name": "stdout",
     "output_type": "stream",
     "text": [
      "9939718R\n"
     ]
    },
    {
     "data": {
      "application/vnd.jupyter.widget-view+json": {
       "model_id": "3412225a7bd24981a6b0c73deb9ff39e",
       "version_major": 2,
       "version_minor": 0
      },
      "text/plain": [
       "interactive(children=(IntSlider(value=29, description='image_z', max=59), FloatSlider(value=0.5, description='…"
      ]
     },
     "metadata": {},
     "output_type": "display_data"
    },
    {
     "data": {
      "application/vnd.jupyter.widget-view+json": {
       "model_id": "300ae4d617244ddd984153e4c08f80a7",
       "version_major": 2,
       "version_minor": 0
      },
      "text/plain": [
       "interactive(children=(IntSlider(value=29, description='image_z', max=59), FloatSlider(value=0.5, description='…"
      ]
     },
     "metadata": {},
     "output_type": "display_data"
    },
    {
     "data": {
      "application/vnd.jupyter.widget-view+json": {
       "model_id": "7e44fa2119904117bab7d99f9d0c706c",
       "version_major": 2,
       "version_minor": 0
      },
      "text/plain": [
       "interactive(children=(IntSlider(value=29, description='image_z', max=59), FloatSlider(value=0.5, description='…"
      ]
     },
     "metadata": {},
     "output_type": "display_data"
    },
    {
     "data": {
      "application/vnd.jupyter.widget-view+json": {
       "model_id": "f3de221c55d74c71bfb934d22dd180b8",
       "version_major": 2,
       "version_minor": 0
      },
      "text/plain": [
       "interactive(children=(IntSlider(value=29, description='image_z', max=59), FloatSlider(value=0.5, description='…"
      ]
     },
     "metadata": {},
     "output_type": "display_data"
    },
    {
     "data": {
      "application/vnd.jupyter.widget-view+json": {
       "model_id": "6cb38bb5e2e74b889fcc6673051af46f",
       "version_major": 2,
       "version_minor": 0
      },
      "text/plain": [
       "interactive(children=(IntSlider(value=29, description='image_z', max=59), FloatSlider(value=0.5, description='…"
      ]
     },
     "metadata": {},
     "output_type": "display_data"
    },
    {
     "data": {
      "application/vnd.jupyter.widget-view+json": {
       "model_id": "2464295570554842a63d7c5bba9655c9",
       "version_major": 2,
       "version_minor": 0
      },
      "text/plain": [
       "interactive(children=(IntSlider(value=29, description='image_z', max=59), FloatSlider(value=0.5, description='…"
      ]
     },
     "metadata": {},
     "output_type": "display_data"
    },
    {
     "data": {
      "application/vnd.jupyter.widget-view+json": {
       "model_id": "6afe9c8c74524e9dac9d575dd60e59dd",
       "version_major": 2,
       "version_minor": 0
      },
      "text/plain": [
       "interactive(children=(IntSlider(value=29, description='image_z', max=59), FloatSlider(value=0.5, description='…"
      ]
     },
     "metadata": {},
     "output_type": "display_data"
    },
    {
     "name": "stdout",
     "output_type": "stream",
     "text": [
      "9941231L\n"
     ]
    },
    {
     "data": {
      "application/vnd.jupyter.widget-view+json": {
       "model_id": "f8537274b68a4c46b6089de5a174a9a1",
       "version_major": 2,
       "version_minor": 0
      },
      "text/plain": [
       "interactive(children=(IntSlider(value=34, description='image_z', max=68), FloatSlider(value=0.5, description='…"
      ]
     },
     "metadata": {},
     "output_type": "display_data"
    },
    {
     "data": {
      "application/vnd.jupyter.widget-view+json": {
       "model_id": "54651ac529314108ac54b2cd88f886cb",
       "version_major": 2,
       "version_minor": 0
      },
      "text/plain": [
       "interactive(children=(IntSlider(value=34, description='image_z', max=68), FloatSlider(value=0.5, description='…"
      ]
     },
     "metadata": {},
     "output_type": "display_data"
    },
    {
     "data": {
      "application/vnd.jupyter.widget-view+json": {
       "model_id": "9e1d67d4db734da6a00dabaf1e2fd925",
       "version_major": 2,
       "version_minor": 0
      },
      "text/plain": [
       "interactive(children=(IntSlider(value=34, description='image_z', max=68), FloatSlider(value=0.5, description='…"
      ]
     },
     "metadata": {},
     "output_type": "display_data"
    },
    {
     "data": {
      "application/vnd.jupyter.widget-view+json": {
       "model_id": "ce9dfbbe75194556af943eafd0898668",
       "version_major": 2,
       "version_minor": 0
      },
      "text/plain": [
       "interactive(children=(IntSlider(value=34, description='image_z', max=68), FloatSlider(value=0.5, description='…"
      ]
     },
     "metadata": {},
     "output_type": "display_data"
    },
    {
     "data": {
      "application/vnd.jupyter.widget-view+json": {
       "model_id": "ca105b5d7d3b4d3491b63817b1a8a957",
       "version_major": 2,
       "version_minor": 0
      },
      "text/plain": [
       "interactive(children=(IntSlider(value=34, description='image_z', max=68), FloatSlider(value=0.5, description='…"
      ]
     },
     "metadata": {},
     "output_type": "display_data"
    },
    {
     "data": {
      "application/vnd.jupyter.widget-view+json": {
       "model_id": "817357c620f24eb1813eed2b042e8f0c",
       "version_major": 2,
       "version_minor": 0
      },
      "text/plain": [
       "interactive(children=(IntSlider(value=34, description='image_z', max=68), FloatSlider(value=0.5, description='…"
      ]
     },
     "metadata": {},
     "output_type": "display_data"
    },
    {
     "name": "stdout",
     "output_type": "stream",
     "text": [
      "9941231R\n"
     ]
    },
    {
     "data": {
      "application/vnd.jupyter.widget-view+json": {
       "model_id": "0bdb793bc0a1420498fcf12b99a298fa",
       "version_major": 2,
       "version_minor": 0
      },
      "text/plain": [
       "interactive(children=(IntSlider(value=36, description='image_z', max=73), FloatSlider(value=0.5, description='…"
      ]
     },
     "metadata": {},
     "output_type": "display_data"
    },
    {
     "data": {
      "application/vnd.jupyter.widget-view+json": {
       "model_id": "0fb5427118604ff7ab48b366a7229d77",
       "version_major": 2,
       "version_minor": 0
      },
      "text/plain": [
       "interactive(children=(IntSlider(value=36, description='image_z', max=73), FloatSlider(value=0.5, description='…"
      ]
     },
     "metadata": {},
     "output_type": "display_data"
    },
    {
     "data": {
      "application/vnd.jupyter.widget-view+json": {
       "model_id": "cc79a20a4e994ffebecdaeb742f3c493",
       "version_major": 2,
       "version_minor": 0
      },
      "text/plain": [
       "interactive(children=(IntSlider(value=36, description='image_z', max=73), FloatSlider(value=0.5, description='…"
      ]
     },
     "metadata": {},
     "output_type": "display_data"
    },
    {
     "data": {
      "application/vnd.jupyter.widget-view+json": {
       "model_id": "328cd57a50df4e87a07d47ea8764899e",
       "version_major": 2,
       "version_minor": 0
      },
      "text/plain": [
       "interactive(children=(IntSlider(value=36, description='image_z', max=73), FloatSlider(value=0.5, description='…"
      ]
     },
     "metadata": {},
     "output_type": "display_data"
    },
    {
     "name": "stdout",
     "output_type": "stream",
     "text": [
      "9942030L\n"
     ]
    },
    {
     "data": {
      "application/vnd.jupyter.widget-view+json": {
       "model_id": "32c5f89a67b448db8c9d26884e5b0a32",
       "version_major": 2,
       "version_minor": 0
      },
      "text/plain": [
       "interactive(children=(IntSlider(value=37, description='image_z', max=74), FloatSlider(value=0.5, description='…"
      ]
     },
     "metadata": {},
     "output_type": "display_data"
    },
    {
     "data": {
      "application/vnd.jupyter.widget-view+json": {
       "model_id": "771116897f4c48cf8f7a3e35d72d62be",
       "version_major": 2,
       "version_minor": 0
      },
      "text/plain": [
       "interactive(children=(IntSlider(value=37, description='image_z', max=74), FloatSlider(value=0.5, description='…"
      ]
     },
     "metadata": {},
     "output_type": "display_data"
    },
    {
     "data": {
      "application/vnd.jupyter.widget-view+json": {
       "model_id": "f3c085f4d4ef48e68fd85395e86a6e67",
       "version_major": 2,
       "version_minor": 0
      },
      "text/plain": [
       "interactive(children=(IntSlider(value=37, description='image_z', max=74), FloatSlider(value=0.5, description='…"
      ]
     },
     "metadata": {},
     "output_type": "display_data"
    },
    {
     "data": {
      "application/vnd.jupyter.widget-view+json": {
       "model_id": "e3e3ec0b6a2b43c294fa7e6495f9b1c7",
       "version_major": 2,
       "version_minor": 0
      },
      "text/plain": [
       "interactive(children=(IntSlider(value=37, description='image_z', max=74), FloatSlider(value=0.5, description='…"
      ]
     },
     "metadata": {},
     "output_type": "display_data"
    },
    {
     "name": "stdout",
     "output_type": "stream",
     "text": [
      "9942030R\n"
     ]
    },
    {
     "data": {
      "application/vnd.jupyter.widget-view+json": {
       "model_id": "9b9738efa39e4524ba604b5140857b6d",
       "version_major": 2,
       "version_minor": 0
      },
      "text/plain": [
       "interactive(children=(IntSlider(value=37, description='image_z', max=74), FloatSlider(value=0.5, description='…"
      ]
     },
     "metadata": {},
     "output_type": "display_data"
    },
    {
     "data": {
      "application/vnd.jupyter.widget-view+json": {
       "model_id": "1d4166f3c58c4cd5b1fba005ab4b53eb",
       "version_major": 2,
       "version_minor": 0
      },
      "text/plain": [
       "interactive(children=(IntSlider(value=37, description='image_z', max=74), FloatSlider(value=0.5, description='…"
      ]
     },
     "metadata": {},
     "output_type": "display_data"
    },
    {
     "data": {
      "application/vnd.jupyter.widget-view+json": {
       "model_id": "e616906050e14c0f9e8de013b48a1823",
       "version_major": 2,
       "version_minor": 0
      },
      "text/plain": [
       "interactive(children=(IntSlider(value=37, description='image_z', max=74), FloatSlider(value=0.5, description='…"
      ]
     },
     "metadata": {},
     "output_type": "display_data"
    },
    {
     "data": {
      "application/vnd.jupyter.widget-view+json": {
       "model_id": "441d4742a3274fa7971198ebd1f33df0",
       "version_major": 2,
       "version_minor": 0
      },
      "text/plain": [
       "interactive(children=(IntSlider(value=37, description='image_z', max=74), FloatSlider(value=0.5, description='…"
      ]
     },
     "metadata": {},
     "output_type": "display_data"
    },
    {
     "name": "stdout",
     "output_type": "stream",
     "text": [
      "9942724L\n"
     ]
    },
    {
     "data": {
      "application/vnd.jupyter.widget-view+json": {
       "model_id": "1de1d96682a549468ce2961329a261bf",
       "version_major": 2,
       "version_minor": 0
      },
      "text/plain": [
       "interactive(children=(IntSlider(value=29, description='image_z', max=59), FloatSlider(value=0.5, description='…"
      ]
     },
     "metadata": {},
     "output_type": "display_data"
    },
    {
     "data": {
      "application/vnd.jupyter.widget-view+json": {
       "model_id": "ec8e40557e234b0a9b874bc3d7faab19",
       "version_major": 2,
       "version_minor": 0
      },
      "text/plain": [
       "interactive(children=(IntSlider(value=29, description='image_z', max=59), FloatSlider(value=0.5, description='…"
      ]
     },
     "metadata": {},
     "output_type": "display_data"
    },
    {
     "data": {
      "application/vnd.jupyter.widget-view+json": {
       "model_id": "5e151ef8a4a9470c80e7f2b5e0699bd7",
       "version_major": 2,
       "version_minor": 0
      },
      "text/plain": [
       "interactive(children=(IntSlider(value=29, description='image_z', max=59), FloatSlider(value=0.5, description='…"
      ]
     },
     "metadata": {},
     "output_type": "display_data"
    },
    {
     "data": {
      "application/vnd.jupyter.widget-view+json": {
       "model_id": "2ad8e6136fd546e4b05491efb85f9f58",
       "version_major": 2,
       "version_minor": 0
      },
      "text/plain": [
       "interactive(children=(IntSlider(value=29, description='image_z', max=59), FloatSlider(value=0.5, description='…"
      ]
     },
     "metadata": {},
     "output_type": "display_data"
    },
    {
     "name": "stdout",
     "output_type": "stream",
     "text": [
      "9942724R\n"
     ]
    },
    {
     "data": {
      "application/vnd.jupyter.widget-view+json": {
       "model_id": "3f028eaa88a340f9b722c877d8cd364f",
       "version_major": 2,
       "version_minor": 0
      },
      "text/plain": [
       "interactive(children=(IntSlider(value=29, description='image_z', max=59), FloatSlider(value=0.5, description='…"
      ]
     },
     "metadata": {},
     "output_type": "display_data"
    },
    {
     "data": {
      "application/vnd.jupyter.widget-view+json": {
       "model_id": "6b935292fe264e60b387a830a907b7ac",
       "version_major": 2,
       "version_minor": 0
      },
      "text/plain": [
       "interactive(children=(IntSlider(value=29, description='image_z', max=59), FloatSlider(value=0.5, description='…"
      ]
     },
     "metadata": {},
     "output_type": "display_data"
    },
    {
     "data": {
      "application/vnd.jupyter.widget-view+json": {
       "model_id": "aa2a9bd5deb540429ac957fe619b5cc4",
       "version_major": 2,
       "version_minor": 0
      },
      "text/plain": [
       "interactive(children=(IntSlider(value=29, description='image_z', max=59), FloatSlider(value=0.5, description='…"
      ]
     },
     "metadata": {},
     "output_type": "display_data"
    },
    {
     "data": {
      "application/vnd.jupyter.widget-view+json": {
       "model_id": "69459bcfb41442f29fec72206a091c3c",
       "version_major": 2,
       "version_minor": 0
      },
      "text/plain": [
       "interactive(children=(IntSlider(value=29, description='image_z', max=59), FloatSlider(value=0.5, description='…"
      ]
     },
     "metadata": {},
     "output_type": "display_data"
    },
    {
     "data": {
      "application/vnd.jupyter.widget-view+json": {
       "model_id": "6937119e27ee45c7becba94309d1b732",
       "version_major": 2,
       "version_minor": 0
      },
      "text/plain": [
       "interactive(children=(IntSlider(value=29, description='image_z', max=59), FloatSlider(value=0.5, description='…"
      ]
     },
     "metadata": {},
     "output_type": "display_data"
    }
   ],
   "source": [
    "show_slice_images(image_data)"
   ]
  },
  {
   "cell_type": "code",
   "execution_count": null,
   "metadata": {},
   "outputs": [],
   "source": [
    "# 57 cases in total\n",
    "# 9941231L TP5, 9941231R TP10 bone registered but vessel not\n",
    "# 9941231L TP10, 9942724L TP10, 9942724R TP10 fail\n"
   ]
  },
  {
   "cell_type": "code",
   "execution_count": 35,
   "metadata": {},
   "outputs": [],
   "source": [
    "def display_images_with_mask(image_z, fixed, moving):\n",
    "    # img = (1.0 - alpha)*fixed[:,:,image_z] + alpha*moving[:,:,image_z]\n",
    "    fixed = sitk.GetArrayFromImage(fixed)\n",
    "    moving = sitk.GetArrayFromImage(moving) # mask\n",
    "    dst = fixed[image_z,:,:]*0.5+moving[image_z,:,:]*0.5*255\n",
    "    plt.imshow(dst, cmap=plt.cm.Greys_r)\n",
    "    # plt.imshow(sitk.GetArrayViewFromImage(img),cmap=plt.cm.Greys_r);\n",
    "    plt.axis('off')\n",
    "    plt.show()\n",
    "\n",
    "def show_masked_images(image, mask):\n",
    "    interact(display_images_with_mask, image_z=(0,image.GetSize()[2] - 1), \n",
    "             fixed = fixed(image), moving=fixed(mask));"
   ]
  },
  {
   "cell_type": "code",
   "execution_count": 39,
   "metadata": {},
   "outputs": [
    {
     "data": {
      "application/vnd.jupyter.widget-view+json": {
       "model_id": "0c22b3e0390e44ae9be2d27b410a7181",
       "version_major": 2,
       "version_minor": 0
      },
      "text/plain": [
       "interactive(children=(IntSlider(value=38, description='image_z', max=76), Output()), _dom_classes=('widget-int…"
      ]
     },
     "metadata": {},
     "output_type": "display_data"
    }
   ],
   "source": [
    "mask_file_name = image_data[0]['reference_folder'] + '9941231L_TP0_prep_f.mha'\n",
    "moving_file_name   = image_data[0]['moving_folder']    + \"9941231L_TP5_prep.mha\"\n",
    "mask = sitk.ReadImage(mask_file_name)\n",
    "moving = sitk.ReadImage(moving_file_name)\n",
    "show_masked_images(moving, mask)"
   ]
  },
  {
   "cell_type": "code",
   "execution_count": 21,
   "metadata": {},
   "outputs": [
    {
     "data": {
      "text/plain": [
       "'C:\\\\Zhixuan\\\\OAI-registration\\\\pyKNEEr-yg\\\\preprocessed\\\\'"
      ]
     },
     "execution_count": 21,
     "metadata": {},
     "output_type": "execute_result"
    }
   ],
   "source": [
    "image_data[0]['moving_folder']"
   ]
  },
  {
   "cell_type": "code",
   "execution_count": null,
   "metadata": {},
   "outputs": [],
   "source": []
  },
  {
   "cell_type": "code",
   "execution_count": null,
   "metadata": {},
   "outputs": [],
   "source": []
  },
  {
   "cell_type": "code",
   "execution_count": null,
   "metadata": {},
   "outputs": [],
   "source": []
  },
  {
   "cell_type": "code",
   "execution_count": 50,
   "metadata": {},
   "outputs": [],
   "source": [
    "def tmp_resample(fixed_image, reference):\n",
    "    isoresample = sitk.ResampleImageFilter()\n",
    "    isoresample.SetInterpolator(sitk.sitkBSpline)\n",
    "    isoresample.SetOutputDirection(fixed_image.GetDirection())\n",
    "    isoresample.SetOutputOrigin(fixed_image.GetOrigin())\n",
    "    orig_spacing = fixed_image.GetSpacing()\n",
    "    new_spacing = (orig_spacing[0],orig_spacing[0],orig_spacing[0])\n",
    "    isoresample.SetOutputSpacing(new_spacing)\n",
    "    orig_size = np.array(fixed_image.GetSize(), dtype=np.int)    \n",
    "    new_size = orig_size.copy()\n",
    "    new_size[2] = int(orig_size[2]*(orig_spacing[2]/orig_spacing[0])+0.5)\n",
    "    new_size = [int(s) for s in new_size]\n",
    "    print(orig_size, new_size)\n",
    "    isoresample.SetSize(new_size)\n",
    "    return isoresample.Execute(fixed_image)"
   ]
  },
  {
   "cell_type": "code",
   "execution_count": 61,
   "metadata": {},
   "outputs": [],
   "source": [
    "def show_registered_images(find_str): \n",
    "    path = 'C:\\\\Zhixuan\\\\OAI-registration\\\\pyKNEEr-yg\\\\registered\\\\'\n",
    "    file_path_list = []\n",
    "    reference = sitk.ReadImage(path+find_str+\"_TP0_prep\\\\f_rigid.mha\")\n",
    "    for file in os.listdir(path):\n",
    "        if find_str in file:\n",
    "            file_path_list.append(file)\n",
    "    i = 1\n",
    "    # Create a figure with two subplots and the specified size.\n",
    "    plt.subplots(len(file_path_list), 1,figsize=(25,20))\n",
    "    for tmp_path in file_path_list:\n",
    "        result_file_name              = path + tmp_path + '\\\\f_rigid.mha'\n",
    "#         mask_file_name                = image_data[\"segmented_folder\"] + image_data[anatomy + \"mask\"]\n",
    "\n",
    "        # read the images\n",
    "        result = sitk.ReadImage(result_file_name)\n",
    "#         mask   = sitk.ReadImage(mask_file_name)\n",
    "\n",
    "        # images from simpleitk to numpy\n",
    "    #     result_py = sitk.GetArrayFromImage(result)\n",
    "    #         mask_py   = sitk.GetArrayFromImage(mask)\n",
    "        pos1 = tmp_path.find('TP', 0)\n",
    "        pos2 = tmp_path.find('_', pos1)\n",
    "        tp = tmp_path[pos1:pos2]\n",
    "        if tp != 'TP0':\n",
    "            result = resample_image(result)\n",
    "        \n",
    "            \n",
    "        show_sagittal_images(result, len(file_path_list), i, tp)\n",
    "        i = i + 1\n",
    "    plt.show() \n",
    "\n",
    "# show_registered_images('9939718R')"
   ]
  },
  {
   "cell_type": "code",
   "execution_count": null,
   "metadata": {},
   "outputs": [],
   "source": [
    "def display_sagittal_images(fixed_image, moving_image):\n",
    "    # Create a figure with two subplots and the specified size.\n",
    "    plt.subplots(1,2,figsize=(10,8))\n",
    "    \n",
    "    fixed_npa = sitk.GetArrayViewFromImage(fixed_image)\n",
    "    moving_npa = sitk.GetArrayViewFromImage(moving_image)\n",
    "    size = np.size(fixed_npa, 2)\n",
    "    # Draw the fixed image in the first subplot.\n",
    "    plt.subplot(1,2,1)\n",
    "    plt.imshow(fixed_npa[:,:,size//2],cmap=plt.cm.Greys_r);\n",
    "    plt.title('fixed image')\n",
    "    plt.axis('off')\n",
    "    \n",
    "    # Draw the moving image in the second subplot.\n",
    "    plt.subplot(1,2,2)\n",
    "    plt.imshow(moving_npa[:,:,size//2],cmap=plt.cm.Greys_r);\n",
    "    plt.title('moving image')\n",
    "    plt.axis('off')\n",
    "    \n",
    "    plt.show() "
   ]
  },
  {
   "cell_type": "code",
   "execution_count": 62,
   "metadata": {},
   "outputs": [
    {
     "name": "stdout",
     "output_type": "stream",
     "text": [
      "[384 384  69] [384, 384, 284]\n",
      "[384 384  69] [384, 384, 284]\n",
      "[384 384  69] [384, 384, 284]\n",
      "[384 384  69] [384, 384, 284]\n",
      "[384 384  69] [384, 384, 284]\n",
      "[384 384  69] [384, 384, 284]\n"
     ]
    },
    {
     "data": {
      "image/png": "[encoded data removed]",
      "text/plain": [
       "<Figure size 1800x1440 with 7 Axes>"
      ]
     },
     "metadata": {
      "needs_background": "light"
     },
     "output_type": "display_data"
    }
   ],
   "source": [
    "show_registered_images('9941231L')"
   ]
  },
  {
   "cell_type": "code",
   "execution_count": null,
   "metadata": {},
   "outputs": [],
   "source": []
  }
 ],
 "metadata": {
  "kernelspec": {
   "display_name": "Python [conda env:OAIreg] *",
   "language": "python",
   "name": "conda-env-OAIreg-py"
  },
  "language_info": {
   "codemirror_mode": {
    "name": "ipython",
    "version": 3
   },
   "file_extension": ".py",
   "mimetype": "text/x-python",
   "name": "python",
   "nbconvert_exporter": "python",
   "pygments_lexer": "ipython3",
   "version": "3.7.7"
  }
 },
 "nbformat": 4,
 "nbformat_minor": 4
}
