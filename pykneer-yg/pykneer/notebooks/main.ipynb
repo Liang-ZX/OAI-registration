{
 "cells": [
  {
   "cell_type": "code",
   "execution_count": null,
   "metadata": {},
   "outputs": [],
   "source": [
    "import sys\n",
    "import importlib\n",
    "sys.path.append(r'../../pykneer')\n",
    "sys.path.append(r'../pykneer')\n",
    "import pykneer_io as io\n",
    "importlib.reload(io)\n",
    "import preprocessing_for_nb as prep\n",
    "importlib.reload(prep)\n",
    "import segmentation_sa_for_nb as segm\n",
    "importlib.reload(segm)\n",
    "\n",
    "import SimpleITK as sitk\n",
    "import matplotlib.pyplot as plt\n",
    "%matplotlib inline\n",
    "\n",
    "from preparing_images import prepare_image_and_list"
   ]
  },
  {
   "cell_type": "code",
   "execution_count": null,
   "metadata": {},
   "outputs": [],
   "source": [
    "input_file_name           = \".\\image_list_preprocessing.txt\"\n",
    "n_of_cores                = 1 # change the number of cores according to your computer\n",
    "intensity_standardization = 1\n",
    "\n",
    "# Image information\n",
    "image_data = io.load_image_data_preprocessing(input_file_name)\n",
    "\n",
    "ref = sitk.ReadImage('../../reference/newsubject/reference.mha')\n",
    "\n",
    "# Spatial standardization\n",
    "# Step 0: Read the dicom images\n",
    "prep.read_dicom_stack(image_data, n_of_cores)\n",
    "# Save image header\n",
    "prep.print_dicom_header(image_data, n_of_cores)    # save to *.txt\n",
    "    \n",
    "# Step 1: Change orientation to RAI\n",
    "#prep.axial_to_sagittal(image_data, n_of_cores)\n",
    "prep.orientation_to_rai(image_data, n_of_cores)\n",
    "\n",
    "# Step 2: Change laterality if knee is right\n",
    "prep.flip_rl(image_data, n_of_cores)\n",
    "# Step 3: Set image origin to (0,0,0)\n",
    "prep.origin_to_zero(image_data, n_of_cores)    # Images are saved as *_orig.mha and they are anonymized\n",
    "\n",
    "# 4. Correct magnetic field inhomogeneities\n",
    "# Magnetic fields inhomogeneities create grey shades on images. This correction removes these shades. \n",
    "# This is the longest step of the processing. It can take up to 15-20 min on a standard PC or laptop\n",
    "if intensity_standardization == 1:\n",
    "    prep.field_correction(image_data, n_of_cores)\n",
    "    \n",
    "# 5. Rescale intensities to [0 100]\n",
    "if intensity_standardization == 1:\n",
    "    prep.rescale_to_range(image_data, n_of_cores) \n",
    "    \n",
    "# 6. Edge preserving smoothing\n",
    "if intensity_standardization == 1:\n",
    "    prep.edge_preserving_smoothing(image_data, n_of_cores) "
   ]
  },
  {
   "cell_type": "code",
   "execution_count": null,
   "metadata": {},
   "outputs": [],
   "source": [
    "input_file_name = \"./image_list_newsubject.txt\"\n",
    "modality        = \"newsubject\" # use \"newsubject\", \"longitudinal\", or \"multimodal\" \n",
    "n_of_cores      = 1\n",
    "\n",
    "image_data = io.load_image_data_segmentation(modality, input_file_name)\n",
    "segm.prepare_reference(image_data)\n",
    "### NOTE!!! reference_fv is dummy!!!\n",
    "\n",
    "# Segment Bone\n",
    "# 1. Register image to reference\n",
    "segm.register_bone_to_reference(image_data, n_of_cores)\n",
    "# 2. Invert transformations\n",
    "segm.invert_bone_transformations(image_data, n_of_cores)\n",
    "# 3. Warp reference mask to moving image\n",
    "segm.warp_bone_mask(image_data, n_of_cores)"
   ]
  },
  {
   "cell_type": "code",
   "execution_count": null,
   "metadata": {},
   "outputs": [],
   "source": [
    "input_file_name = \"./image_list_longitudinal.txt\"\n",
    "modality        = \"longitudinal\" # use \"newsubject\", \"longitudinal\", or \"multimodal\" \n",
    "n_of_cores      = 1\n",
    "\n",
    "image_data = io.load_image_data_segmentation(modality, input_file_name)\n",
    "segm.prepare_reference(image_data)\n",
    "\n",
    "segm.register_bone_to_reference(image_data, n_of_cores)\n",
    "segm.invert_bone_transformations(image_data, n_of_cores)\n",
    "segm.warp_bone_mask(image_data, n_of_cores)\n",
    "\n",
    "segm.register_vessel_to_reference(image_data, n_of_cores)\n",
    "segm.invert_vessel_transformations(image_data, n_of_cores)\n",
    "segm.warp_vessel_mask(image_data, n_of_cores)"
   ]
  },
  {
   "cell_type": "code",
   "execution_count": null,
   "metadata": {},
   "outputs": [],
   "source": []
  },
  {
   "cell_type": "code",
   "execution_count": null,
   "metadata": {},
   "outputs": [],
   "source": []
  }
 ],
 "metadata": {
  "kernelspec": {
   "display_name": "Python [conda env:vectornet] *",
   "language": "python",
   "name": "conda-env-vectornet-py"
  },
  "language_info": {
   "codemirror_mode": {
    "name": "ipython",
    "version": 3
   },
   "file_extension": ".py",
   "mimetype": "text/x-python",
   "name": "python",
   "nbconvert_exporter": "python",
   "pygments_lexer": "ipython3",
   "version": "3.7.6"
  }
 },
 "nbformat": 4,
 "nbformat_minor": 4
}
