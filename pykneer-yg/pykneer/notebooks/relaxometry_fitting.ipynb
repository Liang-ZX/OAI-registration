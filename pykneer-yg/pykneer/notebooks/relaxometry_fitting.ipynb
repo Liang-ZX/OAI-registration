{
 "cells": [
  {
   "cell_type": "markdown",
   "metadata": {},
   "source": [
    "## [pyKNEEr](https://github.com/sbonaretti/pyKNEEr)"
   ]
  },
  {
   "cell_type": "markdown",
   "metadata": {},
   "source": [
    "# [Relaxometry of Femoral Knee Cartilage](https://sbonaretti.github.io/pyKNEEr/relaxometry.html)\n",
    "# Exponential and linear fitting\n",
    "Content under Creative Commons Attribution license CC-BY-NC-SA 4.0   \n",
    "Code under GNU-GPL v3 License  \n",
    "© 2019 Serena Bonaretti\n",
    "---"
   ]
  },
  {
   "cell_type": "markdown",
   "metadata": {},
   "source": [
    "- *Exponential* fitting is computationally expensive but more accurate\n",
    "- *Linear fitting* is faster as data are transformed to their log and then linearly interpolated. However, linear fitting is less accurate because the nonlinear logaritmic transform provides larger weight to outliers  \n",
    "\n",
    "The fitting is computed:  \n",
    "- *directly* on the acquired images or after *rigid registration* of the following echo to the first echo  \n",
    "- voxel-wise, i.e. for each voxel the Echo Times (dicom tag: (0018,0081)) are the x-variable and the voxel intensities in each acquisition are the y-variable\n",
    "- only in the mask volume to have short computation time"
   ]
  },
  {
   "cell_type": "markdown",
   "metadata": {},
   "source": [
    "## Import packages"
   ]
  },
  {
   "cell_type": "code",
   "execution_count": null,
   "metadata": {},
   "outputs": [],
   "source": [
    "from pykneer import pykneer_io         as io\n",
    "from pykneer import relaxometry_for_nb as rel\n",
    "import itk\n",
    "import itkwidgets\n",
    "from itkwidgets import view"
   ]
  },
  {
   "cell_type": "markdown",
   "metadata": {},
   "source": [
    "## Image information"
   ]
  },
  {
   "cell_type": "markdown",
   "metadata": {},
   "source": [
    "Inputs:   \n",
    "- `input_file_name` contains the list of the images used to calculate the relaxation maps\n",
    "- `method` is `0` if fitting is linear, `1` if fitting is exponential\n",
    "- `registration_flag` is `0` for no registration, `1` for rigid registration\n",
    "- `output_file_name` contains average and standard deviation of the fitting maps "
   ]
  },
  {
   "cell_type": "code",
   "execution_count": null,
   "metadata": {},
   "outputs": [],
   "source": [
    "input_file_name   = \"./image_list_relaxometry_fitting.txt\"\n",
    "method_flag       = 1 # 0 = linear, 1 = exponential\n",
    "registration_flag = 1 # 0 = no rigid registration, 1 = execute rigid registration\n",
    "n_of_cores        = 1\n",
    "output_file_name  = \"exp_fit_aligned.csv\""
   ]
  },
  {
   "cell_type": "markdown",
   "metadata": {},
   "source": [
    "#### Read image data\n",
    "- `image_data` is a dictionary (or struct), where each cell corresponds to an image. For each image, information such as paths and file names are stored  "
   ]
  },
  {
   "cell_type": "code",
   "execution_count": null,
   "metadata": {},
   "outputs": [],
   "source": [
    "image_data = io.load_image_data_fitting(input_file_name, method_flag, registration_flag)"
   ]
  },
  {
   "cell_type": "markdown",
   "metadata": {},
   "source": [
    "## Calculate fitting maps"
   ]
  },
  {
   "cell_type": "markdown",
   "metadata": {},
   "source": [
    "#### Align acquisitions \n",
    "Images are aligned rigidly to remove occational subject motion among acquisitions   \n",
    "\n",
    "Note: This step is optional and can be skipped, given that:\n",
    " - When images are aligned, the fitting is calculated on interpolated values obtained with rigid registration\n",
    " - When images are not aligned, the fitting is calculated on original intensities, but images might not be aligned"
   ]
  },
  {
   "cell_type": "code",
   "execution_count": null,
   "metadata": {},
   "outputs": [],
   "source": [
    "if registration_flag == 1:\n",
    "    rel.align_acquisitions(image_data, n_of_cores)"
   ]
  },
  {
   "cell_type": "markdown",
   "metadata": {},
   "source": [
    "#### Compute the fitting"
   ]
  },
  {
   "cell_type": "code",
   "execution_count": null,
   "metadata": {},
   "outputs": [],
   "source": [
    "rel.calculate_fitting_maps(image_data, n_of_cores)"
   ]
  },
  {
   "cell_type": "markdown",
   "metadata": {},
   "source": [
    "## Visualize fitting maps"
   ]
  },
  {
   "cell_type": "markdown",
   "metadata": {},
   "source": [
    "#### 2D MAP: For each image, fitting maps at medial and lateral compartments and flattened map\n",
    "Set the variable `view_modality` to `0` to show one slice of the image (static and faster rendering) or to `1` to scroll though the image (interactive and slower rendering). Note that when using interactive rendering, images might NOT be saved  for when reopening the notebook."
   ]
  },
  {
   "cell_type": "code",
   "execution_count": null,
   "metadata": {},
   "outputs": [],
   "source": [
    "view_modality = 1; # 0 for static, 1 for interactive\n",
    "fig = rel.show_fitting_maps(image_data, view_modality)\n",
    "display(fig)"
   ]
  },
  {
   "cell_type": "markdown",
   "metadata": {},
   "source": [
    "#### 3D MAP: Interactive rendering of fitting maps\n",
    "(The error message \"Error creating widget: could not find model\" can appear when the notebook is moved to a different folder)  \n",
    "(If you get \"Error displaying widget\", [install](https://github.com/InsightSoftwareConsortium/itk-jupyter-widgets) the widget in the terminal by typing: `jupyter labextension install @jupyter-widgets/jupyterlab-manager itk-jupyter-widgets` and restart JupyterLab)"
   ]
  },
  {
   "cell_type": "code",
   "execution_count": null,
   "metadata": {},
   "outputs": [],
   "source": [
    "# ID of the map to visualize (The ID is the one in the 2D visualization above)\n",
    "image_ID = 1 -1 # -1 because counting starts from 0\n",
    "\n",
    "# read image\n",
    "file_name = image_data[image_ID][\"relaxometry_folder\"] + image_data[image_ID][\"map_file_name\"]\n",
    "image = itk.imread(file_name)\n",
    "\n",
    "# view\n",
    "viewer = view(image, gradient_opacity=0.0, ui_collapsed=False, shadow=False)\n",
    "viewer"
   ]
  },
  {
   "cell_type": "markdown",
   "metadata": {},
   "source": [
    "#### GRAPH: Dots represent the average value of fitting maps per image; bars represents the standard deviation"
   ]
  },
  {
   "cell_type": "code",
   "execution_count": null,
   "metadata": {},
   "outputs": [],
   "source": [
    "rel.show_fitting_graph(image_data)"
   ]
  },
  {
   "cell_type": "markdown",
   "metadata": {},
   "source": [
    "#### TABLE: Average and standard deviation of fitting maps per image\n",
    "The table is saved as a .csv file for subsequent analyisis"
   ]
  },
  {
   "cell_type": "code",
   "execution_count": null,
   "metadata": {},
   "outputs": [],
   "source": [
    "rel.show_fitting_table(image_data, output_file_name)"
   ]
  },
  {
   "cell_type": "markdown",
   "metadata": {},
   "source": [
    "### References"
   ]
  },
  {
   "cell_type": "markdown",
   "metadata": {},
   "source": [
    "[1] Borthakur A., Wheaton A.J., Gougoutas A.J., Akella S.V., Regatte R.R., Charagundla S.R., Reddy R. [*In vivo measurement of T1rho dispersion in the human brain at 1.5 tesla.*](https://www.ncbi.nlm.nih.gov/pubmed/15065163) J Magn Reson Imaging. Apr;19(4):403-9. 2004.  \n",
    "[2] Li X., Benjamin Ma C., Link T.M., Castillo D.D., Blumenkrantz G., Lozano J., Carballido-Gamio J., Ries M., Majumdar S. [*In vivo T1ρ and T2 mapping of articular cartilage in osteoarthritis of the knee using 3 T MRI.*](https://www.ncbi.nlm.nih.gov/pubmed/17307365) Osteoarthritis Cartilage. Jul;15(7):789-97. 2007.  "
   ]
  },
  {
   "cell_type": "markdown",
   "metadata": {},
   "source": [
    "### Dependencies"
   ]
  },
  {
   "cell_type": "code",
   "execution_count": null,
   "metadata": {},
   "outputs": [],
   "source": [
    "%load_ext watermark\n",
    "print (\"elastix 4.8.0\\n\")\n",
    "%watermark -v -m -p pykneer,SimpleITK,matplotlib,numpy,pandas,scipy,itkwidgets,multiprocessing,ipywidgets,watermark\n",
    "print (\" \")\n",
    "%watermark -u -n -t -z "
   ]
  }
 ],
 "metadata": {
  "kernelspec": {
   "display_name": "pykneer",
   "language": "python",
   "name": "pykneer"
  },
  "language_info": {
   "codemirror_mode": {
    "name": "ipython",
    "version": 3
   },
   "file_extension": ".py",
   "mimetype": "text/x-python",
   "name": "python",
   "nbconvert_exporter": "python",
   "pygments_lexer": "ipython3",
   "version": "3.7.4"
  },
  "widgets": {
   "application/vnd.jupyter.widget-state+json": {
    "state": {},
    "version_major": 2,
    "version_minor": 0
   }
  }
 },
 "nbformat": 4,
 "nbformat_minor": 4
}
