{
 "cells": [
  {
   "cell_type": "markdown",
   "metadata": {},
   "source": [
    "## [pyKNEEr](https://github.com/sbonaretti/pyKNEEr)"
   ]
  },
  {
   "cell_type": "markdown",
   "metadata": {},
   "source": [
    "# [Relaxometry of Femoral Knee Cartilage](https://sbonaretti.github.io/pyKNEEr/relaxometry.html)\n",
    "# Extended Phase Graph (EPG) modeling\n",
    "Content under Creative Commons Attribution license CC-BY-NC 4.0   \n",
    "Code under GNU-GPL v3 License  \n",
    "© 2019 Serena Bonaretti\n",
    "---"
   ]
  },
  {
   "cell_type": "markdown",
   "metadata": {},
   "source": [
    "Relaxometry maps are calculated using *Extended Phase Graph (EPG) modeling* (e.g. $T_{2}$ maps, from DESS acquisitions) [1]"
   ]
  },
  {
   "cell_type": "markdown",
   "metadata": {},
   "source": [
    "## Import packages"
   ]
  },
  {
   "cell_type": "code",
   "execution_count": null,
   "metadata": {},
   "outputs": [],
   "source": [
    "from pykneer import pykneer_io         as io\n",
    "from pykneer import relaxometry_for_nb as rel\n",
    "import itk\n",
    "import itkwidgets\n",
    "from itkwidgets import view"
   ]
  },
  {
   "cell_type": "markdown",
   "metadata": {},
   "source": [
    "## Image information"
   ]
  },
  {
   "cell_type": "markdown",
   "metadata": {},
   "source": [
    "Inputs:   \n",
    "- `input_file_name` contains the list of the images used to to calculate $T_{2}$ using EPG modeling\n",
    "- `n_of_cores` is the number of cores used for computations (computations are parallelized for speed)\n",
    "- `output_file_name` contains average and standard deviation of the $T_{2}$ maps"
   ]
  },
  {
   "cell_type": "code",
   "execution_count": null,
   "metadata": {},
   "outputs": [],
   "source": [
    "input_file_name  = \"./image_list_relaxometry_EPG.txt\"\n",
    "n_of_cores       = 1\n",
    "output_file_name = \"EPG_demo.csv\""
   ]
  },
  {
   "cell_type": "markdown",
   "metadata": {},
   "source": [
    "#### Read image data\n",
    "- `image_data` is a dictionary (or struct), where each cell corresponds to an image. For each image, information such as paths and file names are stored  "
   ]
  },
  {
   "cell_type": "code",
   "execution_count": null,
   "metadata": {},
   "outputs": [],
   "source": [
    "image_data = io.load_image_data_EPG(input_file_name)"
   ]
  },
  {
   "cell_type": "markdown",
   "metadata": {},
   "source": [
    "## Calculate  $T_{2}$ maps"
   ]
  },
  {
   "cell_type": "code",
   "execution_count": null,
   "metadata": {},
   "outputs": [],
   "source": [
    "rel.calculate_t2_maps(image_data, n_of_cores)"
   ]
  },
  {
   "cell_type": "markdown",
   "metadata": {},
   "source": [
    "## Visualize  $T_{2}$ maps"
   ]
  },
  {
   "cell_type": "markdown",
   "metadata": {},
   "source": [
    "#### 2D MAP: For each image, fitting maps at medial and lateral compartments and flattened map\n",
    "\n",
    "Set the variable `view_modality` to `0` to show one slice of the image (static and faster rendering) or to `1` to scroll though the image (interactive and slower rendering). Note that when using interactive rendering, images might NOT be saved  for when reopening the notebook."
   ]
  },
  {
   "cell_type": "code",
   "execution_count": null,
   "metadata": {},
   "outputs": [],
   "source": [
    "view_modality = 1; # 0 for static, 1 for interactive\n",
    "fig = rel.show_t2_maps(image_data, view_modality)\n",
    "display(fig)"
   ]
  },
  {
   "cell_type": "markdown",
   "metadata": {},
   "source": [
    "#### 3D MAP: Interactive rendering of $T_{2}$ maps\n",
    "(The error message \"Error creating widget: could not find model\" can appear when the notebook is moved to a different folder)  \n",
    "(If you get \"Error displaying widget\", [install](https://github.com/InsightSoftwareConsortium/itk-jupyter-widgets) the widget in the terminal by typing: `jupyter labextension install @jupyter-widgets/jupyterlab-manager itk-jupyter-widgets` and restart JupyterLab)"
   ]
  },
  {
   "cell_type": "code",
   "execution_count": null,
   "metadata": {},
   "outputs": [],
   "source": [
    "# ID of the map to visualize (The ID is the one in the 2D visualization above)\n",
    "image_ID = 1 -1 # -1 because counting starts from 0\n",
    "\n",
    "# read image\n",
    "file_name = image_data[image_ID][\"relaxometry_folder\"] + image_data[image_ID][\"t2_map_mask_file_name\"]\n",
    "image = itk.imread(file_name)\n",
    "\n",
    "# view\n",
    "viewer = view(image, gradient_opacity=0.0, ui_collapsed=False, shadow=False)\n",
    "viewer"
   ]
  },
  {
   "cell_type": "markdown",
   "metadata": {},
   "source": [
    "#### GRAPH: Dots represent the average value of $T_{2}$ per image; bars represents the standard deviation"
   ]
  },
  {
   "cell_type": "code",
   "execution_count": null,
   "metadata": {},
   "outputs": [],
   "source": [
    "rel.show_t2_graph(image_data)"
   ]
  },
  {
   "cell_type": "markdown",
   "metadata": {},
   "source": [
    "#### TABLE: Average and standard deviation of $T_{2}$ per image\n",
    "The table is saved as a .csv file for subsequent analyisis"
   ]
  },
  {
   "cell_type": "code",
   "execution_count": null,
   "metadata": {},
   "outputs": [],
   "source": [
    "rel.show_t2_table(image_data, output_file_name)"
   ]
  },
  {
   "cell_type": "markdown",
   "metadata": {},
   "source": [
    "### References"
   ]
  },
  {
   "cell_type": "markdown",
   "metadata": {},
   "source": [
    "[1] Sveinsson B, Chaudhari AS, Gold GE, Hargreaves BA. [*A simple analytic method for estimating $T_{2}$ in the knee from DESS.*](https://www.ncbi.nlm.nih.gov/pubmed/28017730) Magn Reson Imaging. May;38:63-70. 2017."
   ]
  },
  {
   "cell_type": "markdown",
   "metadata": {},
   "source": [
    "### Dependencies"
   ]
  },
  {
   "cell_type": "code",
   "execution_count": null,
   "metadata": {},
   "outputs": [],
   "source": [
    "%load_ext watermark\n",
    "print (\"elastix 4.8.0\\n\")\n",
    "%watermark -v -m -p pykneer,SimpleITK,matplotlib,numpy,pandas,scipy,itkwidgets,multiprocessing,ipywidgets,watermark\n",
    "print (\" \")\n",
    "%watermark -u -n -t -z "
   ]
  }
 ],
 "metadata": {
  "kernelspec": {
   "display_name": "pykneer",
   "language": "python",
   "name": "pykneer"
  },
  "language_info": {
   "codemirror_mode": {
    "name": "ipython",
    "version": 3
   },
   "file_extension": ".py",
   "mimetype": "text/x-python",
   "name": "python",
   "nbconvert_exporter": "python",
   "pygments_lexer": "ipython3",
   "version": "3.7.4"
  },
  "widgets": {
   "application/vnd.jupyter.widget-state+json": {
    "state": {},
    "version_major": 2,
    "version_minor": 0
   }
  }
 },
 "nbformat": 4,
 "nbformat_minor": 4
}
