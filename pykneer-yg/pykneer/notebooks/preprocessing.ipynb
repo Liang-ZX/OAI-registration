{
 "cells": [
  {
   "cell_type": "markdown",
   "metadata": {},
   "source": [
    "## [pyKNEEr](https://github.com/sbonaretti/pyKNEEr)"
   ]
  },
  {
   "cell_type": "markdown",
   "metadata": {},
   "source": [
    "# [Preprocessing MR Knee Images](https://sbonaretti.github.io/pyKNEEr/preprocessing.html)\n",
    "Content under Creative Commons Attribution license CC-BY-NC-SA 4.0   \n",
    "Code under GNU-GPL v3 License  \n",
    "© 2019 Serena Bonaretti\n",
    "---"
   ]
  },
  {
   "cell_type": "markdown",
   "metadata": {},
   "source": [
    "Preprocessing of MR images is fundamental to standardize spatial information and intensity of images\n",
    "\n",
    "In the pipeline below:\n",
    "- Steps 1-3 uniform image orientation, knee laterality, and image origin. The resulting image has the same intensity as the acquired `.dcm` image, but different collocation in space. It is saved as `_orig.mha`\n",
    "- Steps 4-6 act on the intensities of the image, by correcting the inhomogeneous magnetic field, rescaling to a fixed range, and enhancing the cartilage contours [1]. The resulting image has different intensity than the acquired `.dcm` image, and it is used for atlas-based segmentation. It is saved as `_prep.mha`. These steps are computationally expensive, so if not needed, avoid them by setting `intensity_standardization` to zero (see below) "
   ]
  },
  {
   "cell_type": "markdown",
   "metadata": {},
   "source": [
    "## Import packages"
   ]
  },
  {
   "cell_type": "code",
   "execution_count": 12,
   "metadata": {},
   "outputs": [],
   "source": [
    "import sys\n",
    "import importlib\n",
    "sys.path.append(r'../../pykneer')\n",
    "sys.path.append(r'../pykneer')\n",
    "import pykneer_io as io\n",
    "importlib.reload(io)\n",
    "import preprocessing_for_nb as prep\n",
    "importlib.reload(prep)\n",
    "\n",
    "import SimpleITK as sitk\n",
    "import matplotlib.pyplot as plt\n",
    "%matplotlib inline\n",
    "from ipywidgets import interact, fixed"
   ]
  },
  {
   "cell_type": "code",
   "execution_count": 13,
   "metadata": {},
   "outputs": [],
   "source": [
    "# Callback invoked by the IPython interact method for scrolling and modifying the alpha blending\n",
    "# of an image stack of two images that occupy the same physical space. \n",
    "def display_images0(image_z, image):\n",
    "    img = image[image_z,:,:]\n",
    "    plt.imshow(sitk.GetArrayViewFromImage(img),cmap=plt.cm.Greys_r);\n",
    "    plt.axis('off')\n",
    "    plt.show()\n",
    "    \n",
    "def display_images2(image_z, image):\n",
    "    img = image[:,:,image_z]\n",
    "    plt.imshow(sitk.GetArrayViewFromImage(img),cmap=plt.cm.Greys_r);\n",
    "    plt.axis('off')\n",
    "    plt.show()"
   ]
  },
  {
   "cell_type": "markdown",
   "metadata": {},
   "source": [
    "## Image information"
   ]
  },
  {
   "cell_type": "markdown",
   "metadata": {},
   "source": [
    "Inputs:   \n",
    "- `input_file_name` contains the list of the images to be preprocessed \n",
    "- `nOfCores` is the number of cores used for computations (computations are parallelized for speed)\n",
    "- `intensity_standardization` is a flag that determines if the intensity standardization is performed (0=no, 1=yes)"
   ]
  },
  {
   "cell_type": "code",
   "execution_count": 3,
   "metadata": {},
   "outputs": [],
   "source": [
    "input_file_name           = \".\\image_list_preprocessing.txt\"\n",
    "n_of_cores                = 1 # change the number of cores according to your computer\n",
    "intensity_standardization = 1"
   ]
  },
  {
   "cell_type": "markdown",
   "metadata": {},
   "source": [
    "#### Read image data\n",
    "- `imageData` is a dictionary (or struct), where each cell corresponds to an image. For each image, information such as paths and file names are stored  "
   ]
  },
  {
   "cell_type": "code",
   "execution_count": 28,
   "metadata": {},
   "outputs": [
    {
     "name": "stdout",
     "output_type": "stream",
     "text": [
      "9189303L_TP0\n",
      "9189303L_TP1\n",
      "-> information loaded for 2 subjects\n"
     ]
    }
   ],
   "source": [
    "image_data = io.load_image_data_preprocessing(input_file_name)"
   ]
  },
  {
   "cell_type": "code",
   "execution_count": 29,
   "metadata": {},
   "outputs": [
    {
     "data": {
      "application/vnd.jupyter.widget-view+json": {
       "model_id": "88017eec95a5486b9df3deeea37d2745",
       "version_major": 2,
       "version_minor": 0
      },
      "text/plain": [
       "interactive(children=(IntSlider(value=79, description='image_z', max=159), Output()), _dom_classes=('widget-in…"
      ]
     },
     "metadata": {},
     "output_type": "display_data"
    }
   ],
   "source": [
    "ref = sitk.ReadImage('../../reference/newsubject/reference.mha')\n",
    "interact(display_images0, \n",
    "         image_z=(0,ref.GetSize()[0]-1), \n",
    "         image=fixed(ref));"
   ]
  },
  {
   "cell_type": "code",
   "execution_count": 30,
   "metadata": {},
   "outputs": [
    {
     "data": {
      "text/plain": [
       "(160, 384, 384)"
      ]
     },
     "execution_count": 30,
     "metadata": {},
     "output_type": "execute_result"
    }
   ],
   "source": [
    "ref.GetSize()"
   ]
  },
  {
   "cell_type": "code",
   "execution_count": 31,
   "metadata": {},
   "outputs": [
    {
     "data": {
      "text/plain": [
       "(0.7, 0.364583, 0.364583)"
      ]
     },
     "execution_count": 31,
     "metadata": {},
     "output_type": "execute_result"
    }
   ],
   "source": [
    "ref.GetSpacing()"
   ]
  },
  {
   "cell_type": "code",
   "execution_count": 32,
   "metadata": {},
   "outputs": [
    {
     "data": {
      "text/plain": [
       "(1.0, 0.0, 0.0, 0.0, 1.0, 0.0, 0.0, 0.0, 1.0)"
      ]
     },
     "execution_count": 32,
     "metadata": {},
     "output_type": "execute_result"
    }
   ],
   "source": [
    "ref.GetDirection()"
   ]
  },
  {
   "cell_type": "code",
   "execution_count": 33,
   "metadata": {},
   "outputs": [
    {
     "data": {
      "text/plain": [
       "{'original_folder': '..\\\\..\\\\original\\\\',\n",
       " 'preprocessed_folder': '..\\\\..\\\\preprocessed\\\\',\n",
       " 'image_folder_file_name': '9189303L\\\\TP1',\n",
       " 'laterality': 'left',\n",
       " 'image_name_root': '9189303L_TP1',\n",
       " 'temp_file_name': '..\\\\..\\\\preprocessed\\\\9189303L_TP1_temp.mha',\n",
       " 'original_file_name': '..\\\\..\\\\preprocessed\\\\9189303L_TP1_orig.mha',\n",
       " 'preprocessed_file_name': '..\\\\..\\\\preprocessed\\\\9189303L_TP1_prep.mha',\n",
       " 'info_file_name': '..\\\\..\\\\preprocessed\\\\9189303L_TP1_orig.txt'}"
      ]
     },
     "execution_count": 33,
     "metadata": {},
     "output_type": "execute_result"
    }
   ],
   "source": [
    "image_data[1]"
   ]
  },
  {
   "cell_type": "markdown",
   "metadata": {},
   "source": [
    "## Spatial standardization"
   ]
  },
  {
   "cell_type": "markdown",
   "metadata": {},
   "source": [
    "#### Step 0: Read the dicom images"
   ]
  },
  {
   "cell_type": "code",
   "execution_count": 34,
   "metadata": {},
   "outputs": [
    {
     "name": "stdout",
     "output_type": "stream",
     "text": [
      "-> Dicom images read\n",
      "-> The total time was 3.33 seconds (about 0 min)\n"
     ]
    }
   ],
   "source": [
    "prep.read_dicom_stack(image_data, n_of_cores)"
   ]
  },
  {
   "cell_type": "code",
   "execution_count": 35,
   "metadata": {},
   "outputs": [
    {
     "data": {
      "application/vnd.jupyter.widget-view+json": {
       "model_id": "5b07920de0734600a773200aaf06d881",
       "version_major": 2,
       "version_minor": 0
      },
      "text/plain": [
       "interactive(children=(IntSlider(value=191, description='image_z', max=383), Output()), _dom_classes=('widget-i…"
      ]
     },
     "metadata": {},
     "output_type": "display_data"
    }
   ],
   "source": [
    "tmp_file_name = image_data[0][\"temp_file_name\"]\n",
    "# read the images\n",
    "img_tmp = sitk.ReadImage(tmp_file_name)\n",
    "interact(display_images0,\n",
    "         image_z=(0,img_tmp.GetSize()[0]-1),\n",
    "         image=fixed(img_tmp));"
   ]
  },
  {
   "cell_type": "code",
   "execution_count": 36,
   "metadata": {},
   "outputs": [
    {
     "data": {
      "application/vnd.jupyter.widget-view+json": {
       "model_id": "170526af80a740f0b27154a97e48b371",
       "version_major": 2,
       "version_minor": 0
      },
      "text/plain": [
       "interactive(children=(IntSlider(value=37, description='image_z', max=74), Output()), _dom_classes=('widget-int…"
      ]
     },
     "metadata": {},
     "output_type": "display_data"
    }
   ],
   "source": [
    "interact(display_images2,\n",
    "         image_z=(0,img_tmp.GetSize()[2]-1),\n",
    "         image=fixed(img_tmp));"
   ]
  },
  {
   "cell_type": "code",
   "execution_count": 37,
   "metadata": {},
   "outputs": [
    {
     "data": {
      "text/plain": [
       "(384, 384, 75)"
      ]
     },
     "execution_count": 37,
     "metadata": {},
     "output_type": "execute_result"
    }
   ],
   "source": [
    "img_tmp.GetSize()"
   ]
  },
  {
   "cell_type": "code",
   "execution_count": 38,
   "metadata": {},
   "outputs": [
    {
     "data": {
      "text/plain": [
       "(0.36458333, 0.36458333, 1.5)"
      ]
     },
     "execution_count": 38,
     "metadata": {},
     "output_type": "execute_result"
    }
   ],
   "source": [
    "img_tmp.GetSpacing()"
   ]
  },
  {
   "cell_type": "markdown",
   "metadata": {},
   "source": [
    "#####   Save image header\n",
    "The image header of the first slice of the dicom stack is saved in a `.txt` file. This can be useful to extract information such as subject's date of birth, exam date, etc."
   ]
  },
  {
   "cell_type": "code",
   "execution_count": 39,
   "metadata": {},
   "outputs": [
    {
     "name": "stdout",
     "output_type": "stream",
     "text": [
      "-> Dicom headers written\n",
      "-> The total time was 1.45 seconds (about 0 min)\n"
     ]
    }
   ],
   "source": [
    "prep.print_dicom_header(image_data, n_of_cores)"
   ]
  },
  {
   "cell_type": "markdown",
   "metadata": {},
   "source": [
    "#### Step 1: Change orientation to RAI \n",
    "All images are oriented to the RAI (right, anterior, inferior) orientation"
   ]
  },
  {
   "cell_type": "code",
   "execution_count": 40,
   "metadata": {},
   "outputs": [
    {
     "name": "stdout",
     "output_type": "stream",
     "text": [
      "-> Image orientation changed\n",
      "-> The total time was 3.19 seconds (about 0 min)\n"
     ]
    }
   ],
   "source": [
    "#prep.axial_to_sagittal(image_data, n_of_cores)\n",
    "prep.orientation_to_rai(image_data, n_of_cores)"
   ]
  },
  {
   "cell_type": "code",
   "execution_count": 41,
   "metadata": {},
   "outputs": [
    {
     "data": {
      "application/vnd.jupyter.widget-view+json": {
       "model_id": "97698bc9a2ac4cc592d139e12d3b5e55",
       "version_major": 2,
       "version_minor": 0
      },
      "text/plain": [
       "interactive(children=(IntSlider(value=37, description='image_z', max=74), Output()), _dom_classes=('widget-int…"
      ]
     },
     "metadata": {},
     "output_type": "display_data"
    }
   ],
   "source": [
    "tmp_file_name = image_data[0][\"temp_file_name\"]\n",
    "# read the images\n",
    "img_tmp = sitk.ReadImage(tmp_file_name)\n",
    "interact(display_images2, \n",
    "         image_z=(0,img_tmp.GetSize()[2]-1), \n",
    "         image=fixed(img_tmp));"
   ]
  },
  {
   "cell_type": "markdown",
   "metadata": {},
   "source": [
    "#### Step 2: Change laterality if knee is right\n",
    "Right knees are flipped to left knees to have the same laterality "
   ]
  },
  {
   "cell_type": "code",
   "execution_count": 42,
   "metadata": {},
   "outputs": [
    {
     "name": "stdout",
     "output_type": "stream",
     "text": [
      "-> Image laterality changed for right images\n",
      "-> The total time was 1.13 seconds (about 0 min)\n"
     ]
    }
   ],
   "source": [
    "prep.flip_rl(image_data, n_of_cores)"
   ]
  },
  {
   "cell_type": "code",
   "execution_count": 43,
   "metadata": {},
   "outputs": [
    {
     "data": {
      "application/vnd.jupyter.widget-view+json": {
       "model_id": "200447c21a4f44c1a480f10bd704a291",
       "version_major": 2,
       "version_minor": 0
      },
      "text/plain": [
       "interactive(children=(IntSlider(value=37, description='image_z', max=74), Output()), _dom_classes=('widget-int…"
      ]
     },
     "metadata": {},
     "output_type": "display_data"
    },
    {
     "data": {
      "text/plain": [
       "<function __main__.display_images2(image_z, image)>"
      ]
     },
     "execution_count": 43,
     "metadata": {},
     "output_type": "execute_result"
    }
   ],
   "source": [
    "tmp_file_name = image_data[0][\"temp_file_name\"]\n",
    "# read the images\n",
    "img_tmp = sitk.ReadImage(tmp_file_name)\n",
    "interact(display_images2, \n",
    "         image_z=(0,img_tmp.GetSize()[2]-1), \n",
    "         image=fixed(img_tmp))"
   ]
  },
  {
   "cell_type": "markdown",
   "metadata": {},
   "source": [
    "#### 3. Set image origin to (0,0,0)\n",
    "All images are set to the origin (0,0,0). Images are saved as *_orig.mha and they are anonymized"
   ]
  },
  {
   "cell_type": "code",
   "execution_count": 44,
   "metadata": {},
   "outputs": [
    {
     "name": "stdout",
     "output_type": "stream",
     "text": [
      "-> Image origin changed\n",
      "-> _orig.mha images saved\n",
      "-> The total time was 1.61 seconds (about 0 min)\n"
     ]
    }
   ],
   "source": [
    "prep.origin_to_zero(image_data, n_of_cores)"
   ]
  },
  {
   "cell_type": "markdown",
   "metadata": {},
   "source": [
    "## Intensity standardization"
   ]
  },
  {
   "cell_type": "markdown",
   "metadata": {},
   "source": [
    "#### 4. Correct magnetic field inhomogeneities\n",
    "Magnetic fields inhomogeneities create grey shades on images. This correction removes these shades. This is the longest step of the processing. It can take up to 15-20 min on a standard PC or laptop"
   ]
  },
  {
   "cell_type": "code",
   "execution_count": 45,
   "metadata": {},
   "outputs": [
    {
     "name": "stdout",
     "output_type": "stream",
     "text": [
      "-> Magnetic field bias corrected\n",
      "-> The total time was 186.98 seconds (about 3 min)\n"
     ]
    }
   ],
   "source": [
    "if intensity_standardization == 1:\n",
    "    prep.field_correction(image_data, n_of_cores) "
   ]
  },
  {
   "cell_type": "code",
   "execution_count": 46,
   "metadata": {},
   "outputs": [
    {
     "data": {
      "application/vnd.jupyter.widget-view+json": {
       "model_id": "781eddbdb77040ff8b1edbab0b1c42f1",
       "version_major": 2,
       "version_minor": 0
      },
      "text/plain": [
       "interactive(children=(IntSlider(value=37, description='image_z', max=74), Output()), _dom_classes=('widget-int…"
      ]
     },
     "metadata": {},
     "output_type": "display_data"
    }
   ],
   "source": [
    "tmp_file_name = image_data[0][\"temp_file_name\"]\n",
    "# read the images\n",
    "img_tmp = sitk.ReadImage(tmp_file_name)\n",
    "interact(display_images2, \n",
    "         image_z=(0,img_tmp.GetSize()[2]-1), \n",
    "         image=fixed(img_tmp));"
   ]
  },
  {
   "cell_type": "markdown",
   "metadata": {},
   "source": [
    "#### 5. Rescale intensities to [0 100]\n",
    "Intensies are rescaled to the fixed range [0,100] to obtain homogeneous intensity range across images"
   ]
  },
  {
   "cell_type": "code",
   "execution_count": 47,
   "metadata": {},
   "outputs": [
    {
     "name": "stdout",
     "output_type": "stream",
     "text": [
      "-> Image intensities rescaled\n",
      "-> The total time was 1.74 seconds (about 0 min)\n"
     ]
    }
   ],
   "source": [
    "if intensity_standardization == 1:\n",
    "    prep.rescale_to_range(image_data, n_of_cores) "
   ]
  },
  {
   "cell_type": "markdown",
   "metadata": {},
   "source": [
    "#### 6. Edge preserving smoothing\n",
    "Cartilage contours are enhanced using a curvature anisotropic diffusion filter"
   ]
  },
  {
   "cell_type": "code",
   "execution_count": 48,
   "metadata": {},
   "outputs": [
    {
     "name": "stdout",
     "output_type": "stream",
     "text": [
      "-> Image smoothed\n",
      "-> _prep.mha images saved\n",
      "-> The total time was 16.51 seconds (about 0 min)\n"
     ]
    }
   ],
   "source": [
    "if intensity_standardization == 1:\n",
    "    prep.edge_preserving_smoothing(image_data, n_of_cores) "
   ]
  },
  {
   "cell_type": "markdown",
   "metadata": {},
   "source": [
    "## Visualize original and preprocessed image\n",
    "Set the variable `view_modality` to `0` to show one slice of the image (static and faster rendering) or to `1` to scroll though the image (interactive and slower rendering). Note that when using interactive rendering, images might NOT be saved  for when reopening the notebook.\n",
    "\n",
    "Each row corresponds to one image. Left: Original image after spatial preprocessing (steps 1-3). Right: Preprocessed image after intensities correction (steps 4-6).  \n",
    "*Note*: A total black rendering of an original image is caused by very large intensity distribution."
   ]
  },
  {
   "cell_type": "code",
   "execution_count": 49,
   "metadata": {},
   "outputs": [
    {
     "data": {
      "text/plain": [
       "'Figure'"
      ]
     },
     "metadata": {},
     "output_type": "display_data"
    },
    {
     "data": {
      "text/plain": [
       "<Figure size 576x576 with 0 Axes>"
      ]
     },
     "metadata": {},
     "output_type": "display_data"
    },
    {
     "data": {
      "image/png": "[encoded data removed]",
      "text/plain": [
       "<Figure size 576x576 with 4 Axes>"
      ]
     },
     "metadata": {
      "needs_background": "light"
     },
     "output_type": "display_data"
    }
   ],
   "source": [
    "view_modality = 0; # 0 for static, 1 for interactive\n",
    "fig = prep.show_preprocessed_images(image_data, intensity_standardization, view_modality);\n",
    "display(fig)"
   ]
  },
  {
   "cell_type": "markdown",
   "metadata": {},
   "source": [
    "---"
   ]
  },
  {
   "cell_type": "markdown",
   "metadata": {},
   "source": [
    "### References"
   ]
  },
  {
   "cell_type": "markdown",
   "metadata": {},
   "source": [
    "[1] Shan L., Zach C., Charles C., Niethammer M. [*Automatic Atlas-Based Three-Label Cartilage Segmentation from MR Knee Images.*](https://www.ncbi.nlm.nih.gov/pubmed/25128683) Med Image Anal. Oct;18(7):1233-46. 2014."
   ]
  },
  {
   "cell_type": "markdown",
   "metadata": {},
   "source": [
    "### Dependencies"
   ]
  },
  {
   "cell_type": "code",
   "execution_count": 32,
   "metadata": {},
   "outputs": [
    {
     "name": "stdout",
     "output_type": "stream",
     "text": [
      "CPython 3.7.4\n",
      "IPython 7.8.0\n",
      "\n",
      "pykneer 0.0.5\n",
      "SimpleITK 1.2.0rc2.dev1167+gd4cf2\n",
      "itk 5.1.1\n",
      "numpy 1.19.1\n",
      "matplotlib 3.1.1\n",
      "multiprocessing unknown\n",
      "ipywidgets 7.5.1\n",
      "watermark 2.0.2\n",
      "\n",
      "compiler   : MSC v.1915 64 bit (AMD64)\n",
      "system     : Windows\n",
      "release    : 10\n",
      "machine    : AMD64\n",
      "processor  : Intel64 Family 6 Model 79 Stepping 1, GenuineIntel\n",
      "CPU cores  : 12\n",
      "interpreter: 64bit\n",
      " \n",
      "last updated: Thu Sep 17 2020 19:15:22 Pacific Daylight Time\n"
     ]
    }
   ],
   "source": [
    "%load_ext watermark\n",
    "%watermark -v -m -p pykneer,SimpleITK,itk,numpy,matplotlib,multiprocessing,ipywidgets,watermark\n",
    "print (\" \")\n",
    "%watermark -u -n -t -z "
   ]
  },
  {
   "cell_type": "code",
   "execution_count": null,
   "metadata": {},
   "outputs": [],
   "source": []
  },
  {
   "cell_type": "code",
   "execution_count": null,
   "metadata": {},
   "outputs": [],
   "source": []
  },
  {
   "cell_type": "code",
   "execution_count": null,
   "metadata": {},
   "outputs": [],
   "source": []
  },
  {
   "cell_type": "code",
   "execution_count": 26,
   "metadata": {},
   "outputs": [
    {
     "data": {
      "application/vnd.jupyter.widget-view+json": {
       "model_id": "570c624de11e4afc93fa86b12e6ae556",
       "version_major": 2,
       "version_minor": 0
      },
      "text/plain": [
       "interactive(children=(IntSlider(value=79, description='image_z', max=159), Output()), _dom_classes=('widget-in…"
      ]
     },
     "metadata": {},
     "output_type": "display_data"
    }
   ],
   "source": [
    "ref = sitk.ReadImage('D:/Yin/OAI/pyKNEEr-yg/reference/newsubject/reference_f.mha')\n",
    "interact(display_images0, \n",
    "         image_z=(0,ref.GetSize()[0]-1), \n",
    "         image=fixed(ref));"
   ]
  },
  {
   "cell_type": "code",
   "execution_count": 27,
   "metadata": {},
   "outputs": [
    {
     "data": {
      "text/plain": [
       "(array([128113.,      0.,      0.,      0.,      0.,      0.,      0.,\n",
       "             0.,      0.,  19343.]),\n",
       " array([0. , 0.1, 0.2, 0.3, 0.4, 0.5, 0.6, 0.7, 0.8, 0.9, 1. ]),\n",
       " <a list of 10 Patch objects>)"
      ]
     },
     "execution_count": 27,
     "metadata": {},
     "output_type": "execute_result"
    },
    {
     "data": {
      "image/png": "[encoded data removed]",
      "text/plain": [
       "<Figure size 720x1008 with 1 Axes>"
      ]
     },
     "metadata": {
      "needs_background": "light"
     },
     "output_type": "display_data"
    }
   ],
   "source": [
    "plt.hist(ref[86,:,:,])"
   ]
  },
  {
   "cell_type": "code",
   "execution_count": null,
   "metadata": {},
   "outputs": [],
   "source": []
  }
 ],
 "metadata": {
  "kernelspec": {
   "display_name": "Python 3",
   "language": "python",
   "name": "python3"
  },
  "language_info": {
   "codemirror_mode": {
    "name": "ipython",
    "version": 3
   },
   "file_extension": ".py",
   "mimetype": "text/x-python",
   "name": "python",
   "nbconvert_exporter": "python",
   "pygments_lexer": "ipython3",
   "version": "3.7.6"
  },
  "widgets": {
   "application/vnd.jupyter.widget-state+json": {
    "state": {},
    "version_major": 2,
    "version_minor": 0
   }
  }
 },
 "nbformat": 4,
 "nbformat_minor": 4
}
