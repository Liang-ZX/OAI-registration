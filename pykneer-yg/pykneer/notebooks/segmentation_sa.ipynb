{
 "cells": [
  {
   "cell_type": "markdown",
   "metadata": {},
   "source": [
    "## [pyKNEEr](https://github.com/sbonaretti/pyKNEEr)"
   ]
  },
  {
   "cell_type": "markdown",
   "metadata": {},
   "source": [
    "# [Segmenting MR Knee Images](https://sbonaretti.github.io/pyKNEEr/segmentation.html)\n",
    "Content under Creative Commons Attribution license CC-BY-NC-SA 4.0   \n",
    "Code under GNU-GPL v3 License  \n",
    "© 2019 Serena Bonaretti\n",
    "---"
   ]
  },
  {
   "cell_type": "markdown",
   "metadata": {},
   "source": [
    "Segmentation is performed using an atlas-based algorithm. Given a segmented image (reference image), we use registration to segment each image (moving image) of the dataset. \n",
    "\n",
    "The segmentation consists of two parts:  \n",
    "- Segment bone (used to initialize femoral cartilage segmentation)\n",
    "- Segment cartilage\n",
    "\n",
    "Each part is composed by 3 steps:  \n",
    "- Step 1: *Register image to reference*. The moving image is registered to the reference image\n",
    "- Step 2: *Invert transformation*. Transformations are inverted\n",
    "- Step 3: *Warp reference mask to moving image*. Inverted transformations are applied to the mask of the reference image to obtain the mask of the moving image  \n",
    "\n",
    "Registration, inversion, and warping are executed by calling *elastix*[1]."
   ]
  },
  {
   "cell_type": "markdown",
   "metadata": {},
   "source": [
    "## Import packages"
   ]
  },
  {
   "cell_type": "code",
   "execution_count": 15,
   "metadata": {},
   "outputs": [
    {
     "data": {
      "text/plain": [
       "<module 'segmentation_sa_for_nb' from '../pykneer\\\\segmentation_sa_for_nb.py'>"
      ]
     },
     "execution_count": 15,
     "metadata": {},
     "output_type": "execute_result"
    }
   ],
   "source": [
    "import sys\n",
    "import importlib\n",
    "sys.path.append(r'../../pykneer')\n",
    "sys.path.append(r'../pykneer')\n",
    "import pykneer_io as io\n",
    "importlib.reload(io)\n",
    "import preprocessing_for_nb as prep\n",
    "importlib.reload(prep)\n",
    "import segmentation_sa_for_nb as segm\n",
    "importlib.reload(segm)"
   ]
  },
  {
   "cell_type": "markdown",
   "metadata": {},
   "source": [
    "## Image information"
   ]
  },
  {
   "cell_type": "markdown",
   "metadata": {},
   "source": [
    "Inputs:   \n",
    "- `input_file_name` contains the list of the images to be segmented  \n",
    "- `modality` can be \"newsubject\", \"longitudinal\", or \"multimodal\"\n",
    "- `n_of_cores` is the number of cores used for computations (computations are parallelized for speed)"
   ]
  },
  {
   "cell_type": "code",
   "execution_count": 2,
   "metadata": {},
   "outputs": [],
   "source": [
    "input_file_name = \"./image_list_newsubject.txt\"\n",
    "modality        = \"newsubject\" # use \"newsubject\", \"longitudinal\", or \"multimodal\" \n",
    "n_of_cores      = 1"
   ]
  },
  {
   "cell_type": "markdown",
   "metadata": {},
   "source": [
    "#### Read image data\n",
    "- `imageData` is a dictionary (or struct), where each cell corresponds to an image. For each image, information such as paths and file names are stored  "
   ]
  },
  {
   "cell_type": "code",
   "execution_count": 4,
   "metadata": {},
   "outputs": [
    {
     "name": "stdout",
     "output_type": "stream",
     "text": [
      "-> image information loaded\n"
     ]
    }
   ],
   "source": [
    "image_data = io.load_image_data_segmentation(modality, input_file_name)"
   ]
  },
  {
   "cell_type": "code",
   "execution_count": 5,
   "metadata": {},
   "outputs": [
    {
     "data": {
      "text/plain": [
       "{'registration_type': 'newsubject',\n",
       " 'vessel': 'fv',\n",
       " 'cartilage': 'fc',\n",
       " 'bone': 'f',\n",
       " 'current_anatomy': [],\n",
       " 'reference_folder': 'C:\\\\Zhixuan\\\\OAI-registration\\\\pyKNEEr-yg\\\\reference\\\\newsubject\\\\',\n",
       " 'reference_name': 'reference.mha',\n",
       " 'reference_root': 'reference',\n",
       " 'moving_folder': 'C:\\\\Zhixuan\\\\OAI-registration\\\\pyKNEEr-yg\\\\preprocessed\\\\',\n",
       " 'moving_name': '9189303L_TP0_prep.mha',\n",
       " 'moving_root': '9189303L_TP0_prep',\n",
       " 'registered_folder': 'C:\\\\Zhixuan\\\\OAI-registration\\\\pyKNEEr-yg\\\\registered\\\\',\n",
       " 'segmented_folder': 'C:\\\\Zhixuan\\\\OAI-registration\\\\pyKNEEr-yg\\\\segmented\\\\',\n",
       " 'registered_sub_folder': 'C:\\\\Zhixuan\\\\OAI-registration\\\\pyKNEEr-yg\\\\registered\\\\9189303L_TP0_prep\\\\',\n",
       " 'i_registered_sub_folder': 'C:\\\\Zhixuan\\\\OAI-registration\\\\pyKNEEr-yg\\\\registered\\\\9189303L_TP0_prep\\\\invert\\\\',\n",
       " 'dilate_radius': 15,\n",
       " 'fmask_file_name': 'reference_f.mha',\n",
       " 'fdil_mask_file_name': 'reference_f_15.mha',\n",
       " 'flevelset_mask_file_name': 'reference_f_levelSet.mha',\n",
       " 'fcmask_file_name': 'reference_fc.mha',\n",
       " 'fcdil_mask_file_name': 'reference_fc_15.mha',\n",
       " 'fclevelset_mask_file_name': 'reference_fc_levelSet.mha',\n",
       " 'fvmask_file_name': 'reference_fv.mha',\n",
       " 'fvdil_mask_file_name': 'reference_fv_15.mha',\n",
       " 'fvlevelset_mask_file_name': 'reference_fv_levelSet.mha',\n",
       " 'frigid_name': 'f_rigid.mha',\n",
       " 'fsimilarity_name': 'f_similarity.mha',\n",
       " 'fspline_name': 'f_spline.mha',\n",
       " 'fcspline_name': 'fc_spline.mha',\n",
       " 'fvspline_name': 'fv_spline.mha',\n",
       " 'fm_rigid_name': 'f_rigidMask.mha',\n",
       " 'fm_similarity_name': 'f_similarityMask.mha',\n",
       " 'fm_spline_name': 'f_splineMask.mha',\n",
       " 'fmask': '9189303L_TP0_prep_f.mha',\n",
       " 'fcm_rigid_name': 'fc_rigidMask.mha',\n",
       " 'fcm_similarity_name': 'fc_similarityMask.mha',\n",
       " 'fcm_spline_name': 'fc_splineMask.mha',\n",
       " 'fcmask': '9189303L_TP0_prep_fc.mha',\n",
       " 'fvm_rigid_name': 'fv_rigidMask.mha',\n",
       " 'fvm_similarity_name': 'fv_similarityMask.mha',\n",
       " 'fvm_spline_name': 'fv_splineMask.mha',\n",
       " 'fvmask': '9189303L_TP0_prep_fv.mha',\n",
       " 'frigid_transf_name': 'TransformParameters.f_rigid.txt',\n",
       " 'fsimilarity_transf_name': 'TransformParameters.f_similarity.txt',\n",
       " 'fspline_transf_name': 'TransformParameters.f_spline.txt',\n",
       " 'fi_rigid_transf_name': 'iTransformParameters.f_rigid.txt',\n",
       " 'fi_similarity_transf_name': 'iTransformParameters.f_similarity.txt',\n",
       " 'fi_spline_transf_name': 'iTransformParameters.f_spline.txt',\n",
       " 'fm_rigid_transf_name': 'mTransformParameters.f_rigid.txt',\n",
       " 'fm_similarity_transf_name': 'mTransformParameters.f_similarity.txt',\n",
       " 'fm_spline_transf_name': 'mTransformParameters.f_spline.txt',\n",
       " 'fcspline_transf_name': 'TransformParameters.fc_spline.txt',\n",
       " 'fci_spline_transf_name': 'iTransformParameters.fc_spline.txt',\n",
       " 'fcm_spline_transf_name': 'mTransformParameters.fc_spline.txt',\n",
       " 'fvspline_transf_name': 'TransformParameters.fv_spline.txt',\n",
       " 'fvi_spline_transf_name': 'iTransformParameters.fv_spline.txt',\n",
       " 'fvm_spline_transf_name': 'mTransformParameters.fv_spline.txt',\n",
       " 'param_file_rigid': 'C:\\\\Zhixuan\\\\OAI-registration\\\\pykneer-yg\\\\pykneer\\\\pykneer/parameterFiles\\\\MR_param_rigid.txt',\n",
       " 'i_param_file_rigid': 'C:\\\\Zhixuan\\\\OAI-registration\\\\pykneer-yg\\\\pykneer\\\\pykneer/parameterFiles\\\\MR_iparam_rigid.txt',\n",
       " 'param_file_similarity': 'C:\\\\Zhixuan\\\\OAI-registration\\\\pykneer-yg\\\\pykneer\\\\pykneer/parameterFiles\\\\MR_param_similarity.txt',\n",
       " 'i_param_file_similarity': 'C:\\\\Zhixuan\\\\OAI-registration\\\\pykneer-yg\\\\pykneer\\\\pykneer/parameterFiles\\\\MR_iparam_similarity.txt',\n",
       " 'param_file_spline': 'C:\\\\Zhixuan\\\\OAI-registration\\\\pykneer-yg\\\\pykneer\\\\pykneer/parameterFiles\\\\MR_param_spline.txt',\n",
       " 'i_param_file_spline': 'C:\\\\Zhixuan\\\\OAI-registration\\\\pykneer-yg\\\\pykneer\\\\pykneer/parameterFiles\\\\MR_iparam_spline.txt',\n",
       " 'elastix_folder': '../../pykneer\\\\pykneer\\\\elastix\\\\Windows\\\\',\n",
       " 'complete_elastix_path': '../../pykneer\\\\pykneer\\\\elastix\\\\Windows\\\\elastix',\n",
       " 'complete_transformix_path': '../../pykneer\\\\pykneer\\\\elastix\\\\Windows\\\\transformix'}"
      ]
     },
     "execution_count": 5,
     "metadata": {},
     "output_type": "execute_result"
    }
   ],
   "source": [
    "image_data[0]"
   ]
  },
  {
   "cell_type": "markdown",
   "metadata": {},
   "source": [
    "## Reference image"
   ]
  },
  {
   "cell_type": "markdown",
   "metadata": {},
   "source": [
    "The reference image is the number 9 of the current dataset. It was selected as a results of a convergence study described in the paper.\n",
    "Here we check if femur mask and femur cartilage masks of the reference image are present"
   ]
  },
  {
   "cell_type": "code",
   "execution_count": 6,
   "metadata": {},
   "outputs": [
    {
     "name": "stdout",
     "output_type": "stream",
     "text": [
      "reference.mha\n",
      "-> Reference preparation completed\n"
     ]
    }
   ],
   "source": [
    "segm.prepare_reference(image_data)\n",
    "### NOTE!!! reference_fv is dummy!!!"
   ]
  },
  {
   "cell_type": "markdown",
   "metadata": {},
   "source": [
    "## Segment bone"
   ]
  },
  {
   "cell_type": "markdown",
   "metadata": {},
   "source": [
    "#### 1. Register image to reference"
   ]
  },
  {
   "cell_type": "code",
   "execution_count": 16,
   "metadata": {},
   "outputs": [
    {
     "name": "stdout",
     "output_type": "stream",
     "text": [
      "-> Registration completed\n",
      "-> The total time was 1.08 seconds (about 0 min)\n"
     ]
    }
   ],
   "source": [
    "segm.register_bone_to_reference(image_data, n_of_cores)"
   ]
  },
  {
   "cell_type": "markdown",
   "metadata": {},
   "source": [
    "#### 2. Invert transformations"
   ]
  },
  {
   "cell_type": "code",
   "execution_count": 17,
   "metadata": {},
   "outputs": [
    {
     "name": "stdout",
     "output_type": "stream",
     "text": [
      "-> Inversion completed\n",
      "-> The total time was 1.09 seconds (about 0 min)\n"
     ]
    }
   ],
   "source": [
    "segm.invert_bone_transformations(image_data, n_of_cores)"
   ]
  },
  {
   "cell_type": "markdown",
   "metadata": {},
   "source": [
    "#### 3. Warp reference mask to moving image"
   ]
  },
  {
   "cell_type": "code",
   "execution_count": 18,
   "metadata": {},
   "outputs": [
    {
     "name": "stdout",
     "output_type": "stream",
     "text": [
      "-> Warping completed\n",
      "-> The total time was 21.70 seconds (about 0 min)\n"
     ]
    }
   ],
   "source": [
    "segm.warp_bone_mask(image_data, n_of_cores)"
   ]
  },
  {
   "cell_type": "markdown",
   "metadata": {},
   "source": [
    "## Segment cartilage"
   ]
  },
  {
   "cell_type": "markdown",
   "metadata": {},
   "source": [
    "#### 1. Register image to reference"
   ]
  },
  {
   "cell_type": "code",
   "execution_count": 19,
   "metadata": {},
   "outputs": [
    {
     "name": "stdout",
     "output_type": "stream",
     "text": [
      "-> Registration completed\n",
      "-> The total time was 60.21 seconds (about 1 min)\n"
     ]
    }
   ],
   "source": [
    "segm.register_cartilage_to_reference(image_data, n_of_cores)"
   ]
  },
  {
   "cell_type": "markdown",
   "metadata": {},
   "source": [
    "#### 2. Invert transformations"
   ]
  },
  {
   "cell_type": "code",
   "execution_count": 20,
   "metadata": {},
   "outputs": [
    {
     "name": "stdout",
     "output_type": "stream",
     "text": [
      "-> Inversion completed\n",
      "-> The total time was 78.12 seconds (about 1 min)\n"
     ]
    }
   ],
   "source": [
    "segm.invert_cartilage_transformations(image_data, n_of_cores)"
   ]
  },
  {
   "cell_type": "markdown",
   "metadata": {},
   "source": [
    "#### 3. Warp reference mask to moving image (optional)"
   ]
  },
  {
   "cell_type": "code",
   "execution_count": 21,
   "metadata": {},
   "outputs": [
    {
     "name": "stdout",
     "output_type": "stream",
     "text": [
      "-> Warping completed\n",
      "-> The total time was 20.61 seconds (about 0 min)\n"
     ]
    }
   ],
   "source": [
    "segm.warp_cartilage_mask(image_data, n_of_cores)"
   ]
  },
  {
   "cell_type": "markdown",
   "metadata": {},
   "source": [
    "## Visualize segmentations\n",
    "Set the variable `view_modality` to `0` to show one slice of the image (static and faster rendering) or to `1` to scroll though the image (interactive and slower rendering). Note that when using interactive rendering, images might NOT be saved  for when reopening the notebook.\n",
    "\n",
    "For each image (row), segmentation at medial, central, and lateral compartments"
   ]
  },
  {
   "cell_type": "code",
   "execution_count": 22,
   "metadata": {},
   "outputs": [
    {
     "data": {
      "text/plain": [
       "'Figure'"
      ]
     },
     "metadata": {},
     "output_type": "display_data"
    },
    {
     "data": {
      "image/png": "[encoded data removed]",
      "text/plain": [
       "<Figure size 864x576 with 6 Axes>"
      ]
     },
     "metadata": {
      "needs_background": "light"
     },
     "output_type": "display_data"
    }
   ],
   "source": [
    "view_modality = 0; # 0 for static, 1 for interactive\n",
    "fig = segm.show_segmented_images(image_data, view_modality)\n",
    "display(fig)"
   ]
  },
  {
   "cell_type": "markdown",
   "metadata": {},
   "source": [
    "### References"
   ]
  },
  {
   "cell_type": "markdown",
   "metadata": {},
   "source": [
    "[1] Klein S., Staring M., Murphy K., Viergever M.A., Pluim J.P.W. [*elastix: A Toolbox for Intensity-Based Medical Image Registration*](http://elastix.isi.uu.nl/marius/downloads/2010_j_TMI.pdf) IEEE Transactions on Medical Imaging. vol. 29, no. 1, pp. 196 - 205, January. 2010. "
   ]
  },
  {
   "cell_type": "markdown",
   "metadata": {},
   "source": [
    "### Dependencies"
   ]
  },
  {
   "cell_type": "code",
   "execution_count": 13,
   "metadata": {},
   "outputs": [
    {
     "name": "stdout",
     "output_type": "stream",
     "text": [
      "elastix 4.8.0\n",
      "\n",
      "CPython 3.7.4\n",
      "IPython 7.8.0\n",
      "\n",
      "pykneer 0.0.5\n",
      "SimpleITK 1.2.0rc2.dev1167+gd4cf2\n",
      "numpy 1.19.1\n",
      "matplotlib 3.1.1\n",
      "multiprocessing unknown\n",
      "ipywidgets 7.5.1\n",
      "watermark 2.0.2\n",
      "\n",
      "compiler   : MSC v.1915 64 bit (AMD64)\n",
      "system     : Windows\n",
      "release    : 10\n",
      "machine    : AMD64\n",
      "processor  : Intel64 Family 6 Model 79 Stepping 1, GenuineIntel\n",
      "CPU cores  : 12\n",
      "interpreter: 64bit\n",
      " \n",
      "last updated: Fri Sep 18 2020 13:46:25 Pacific Daylight Time\n"
     ]
    }
   ],
   "source": [
    "%load_ext watermark\n",
    "print (\"elastix 4.8.0\\n\")\n",
    "%watermark -v -m -p pykneer,SimpleITK,numpy,matplotlib,multiprocessing,ipywidgets,watermark\n",
    "print (\" \")\n",
    "%watermark -u -n -t -z "
   ]
  },
  {
   "cell_type": "code",
   "execution_count": null,
   "metadata": {},
   "outputs": [],
   "source": []
  }
 ],
 "metadata": {
  "kernelspec": {
   "display_name": "Python 3",
   "language": "python",
   "name": "python3"
  },
  "language_info": {
   "codemirror_mode": {
    "name": "ipython",
    "version": 3
   },
   "file_extension": ".py",
   "mimetype": "text/x-python",
   "name": "python",
   "nbconvert_exporter": "python",
   "pygments_lexer": "ipython3",
   "version": "3.7.6"
  },
  "widgets": {
   "application/vnd.jupyter.widget-state+json": {
    "state": {},
    "version_major": 2,
    "version_minor": 0
   }
  }
 },
 "nbformat": 4,
 "nbformat_minor": 4
}
